{
 "cells": [
  {
   "cell_type": "code",
   "execution_count": 5,
   "metadata": {},
   "outputs": [],
   "source": [
    "import numpy as np\n",
    "import pandas as pd"
   ]
  },
  {
   "cell_type": "code",
   "execution_count": 7,
   "metadata": {},
   "outputs": [],
   "source": [
    "file = '/data/raw_data/KECK_KCWI_SLACS_kinematics_shawn/kinematics/2023-02-28_2/integrated_velocities_allsn_targets.csv'\n",
    "data = pd.read_csv(file)\n",
    "\n",
    "VD = data[['VD_10','VD_15','VD_20']]\n",
    "V = data[['V_10','V_15','V_20']]\n",
    "Vrms = data[['Vrms_10','Vrms_15','Vrms_20']]"
   ]
  },
  {
   "cell_type": "code",
   "execution_count": 17,
   "metadata": {},
   "outputs": [
    {
     "data": {
      "text/plain": [
       "0     1.002031\n",
       "1     1.003381\n",
       "2     1.003888\n",
       "3     1.004102\n",
       "4     1.001545\n",
       "5     1.003756\n",
       "6     0.998064\n",
       "7     1.001554\n",
       "8     1.001186\n",
       "9     1.003088\n",
       "10    1.001043\n",
       "11    0.986250\n",
       "12    1.003525\n",
       "13    1.005365\n",
       "dtype: float64"
      ]
     },
     "execution_count": 17,
     "metadata": {},
     "output_type": "execute_result"
    }
   ],
   "source": [
    "VD['VD_10']/np.sum(VD/3, axis=1)\n"
   ]
  },
  {
   "cell_type": "code",
   "execution_count": 18,
   "metadata": {},
   "outputs": [
    {
     "data": {
      "text/plain": [
       "0     1.000155\n",
       "1     0.999180\n",
       "2     0.999917\n",
       "3     0.998339\n",
       "4     0.999665\n",
       "5     0.999433\n",
       "6     1.002507\n",
       "7     0.999684\n",
       "8     1.001742\n",
       "9     0.999113\n",
       "10    0.999489\n",
       "11    1.008880\n",
       "12    0.997383\n",
       "13    1.000707\n",
       "dtype: float64"
      ]
     },
     "execution_count": 18,
     "metadata": {},
     "output_type": "execute_result"
    }
   ],
   "source": [
    "VD['VD_15']/np.sum(VD/3, axis=1)"
   ]
  },
  {
   "cell_type": "code",
   "execution_count": 19,
   "metadata": {},
   "outputs": [
    {
     "data": {
      "text/plain": [
       "0     0.997814\n",
       "1     0.997439\n",
       "2     0.996195\n",
       "3     0.997559\n",
       "4     0.998790\n",
       "5     0.996811\n",
       "6     0.999429\n",
       "7     0.998762\n",
       "8     0.997072\n",
       "9     0.997799\n",
       "10    0.999468\n",
       "11    1.004870\n",
       "12    0.999092\n",
       "13    0.993928\n",
       "dtype: float64"
      ]
     },
     "execution_count": 19,
     "metadata": {},
     "output_type": "execute_result"
    }
   ],
   "source": [
    "VD['VD_20']/np.sum(VD/3, axis=1)"
   ]
  },
  {
   "cell_type": "code",
   "execution_count": 21,
   "metadata": {},
   "outputs": [
    {
     "data": {
      "text/plain": [
       "0     1.153135\n",
       "1     1.029353\n",
       "2     1.031686\n",
       "3     1.017034\n",
       "4     1.155129\n",
       "5     1.050074\n",
       "6     1.122462\n",
       "7     1.037123\n",
       "8     1.233241\n",
       "9     1.074886\n",
       "10    1.027203\n",
       "11    1.126247\n",
       "12    1.090599\n",
       "13    1.193890\n",
       "dtype: float64"
      ]
     },
     "execution_count": 21,
     "metadata": {},
     "output_type": "execute_result"
    }
   ],
   "source": [
    "V['V_10']/np.sum(V/3, axis=1)\n"
   ]
  },
  {
   "cell_type": "code",
   "execution_count": 22,
   "metadata": {},
   "outputs": [
    {
     "data": {
      "text/plain": [
       "0     0.961589\n",
       "1     0.986832\n",
       "2     0.955393\n",
       "3     0.992152\n",
       "4     1.020085\n",
       "5     0.982206\n",
       "6     0.945376\n",
       "7     0.996924\n",
       "8     0.897633\n",
       "9     0.992976\n",
       "10    1.000519\n",
       "11    1.002093\n",
       "12    0.994308\n",
       "13    0.955350\n",
       "dtype: float64"
      ]
     },
     "execution_count": 22,
     "metadata": {},
     "output_type": "execute_result"
    }
   ],
   "source": [
    "V['V_15']/np.sum(V/3, axis=1)\n"
   ]
  },
  {
   "cell_type": "code",
   "execution_count": 23,
   "metadata": {},
   "outputs": [
    {
     "data": {
      "text/plain": [
       "0     0.885276\n",
       "1     0.983815\n",
       "2     1.012920\n",
       "3     0.990814\n",
       "4     0.824786\n",
       "5     0.967720\n",
       "6     0.932162\n",
       "7     0.965953\n",
       "8     0.869126\n",
       "9     0.932138\n",
       "10    0.972278\n",
       "11    0.871660\n",
       "12    0.915092\n",
       "13    0.850761\n",
       "dtype: float64"
      ]
     },
     "execution_count": 23,
     "metadata": {},
     "output_type": "execute_result"
    }
   ],
   "source": [
    "V['V_20']/np.sum(V/3, axis=1)"
   ]
  },
  {
   "cell_type": "code",
   "execution_count": 24,
   "metadata": {},
   "outputs": [
    {
     "data": {
      "text/plain": [
       "0     1.003521\n",
       "1     1.004167\n",
       "2     1.004442\n",
       "3     1.004960\n",
       "4     1.002780\n",
       "5     1.004645\n",
       "6     0.999675\n",
       "7     1.001945\n",
       "8     1.003404\n",
       "9     1.003782\n",
       "10    1.002551\n",
       "11    0.987775\n",
       "12    1.004727\n",
       "13    1.007334\n",
       "dtype: float64"
      ]
     },
     "execution_count": 24,
     "metadata": {},
     "output_type": "execute_result"
    }
   ],
   "source": [
    "Vrms['Vrms_10']/np.sum(Vrms/3, axis=1)\n"
   ]
  },
  {
   "cell_type": "code",
   "execution_count": 25,
   "metadata": {},
   "outputs": [
    {
     "data": {
      "text/plain": [
       "0     0.999736\n",
       "1     0.998806\n",
       "2     0.999036\n",
       "3     0.997929\n",
       "4     0.999757\n",
       "5     0.999099\n",
       "6     1.001761\n",
       "7     0.999650\n",
       "8     1.000728\n",
       "9     0.999040\n",
       "10    0.999535\n",
       "11    1.008742\n",
       "12    0.997309\n",
       "13    1.000167\n",
       "dtype: float64"
      ]
     },
     "execution_count": 25,
     "metadata": {},
     "output_type": "execute_result"
    }
   ],
   "source": [
    "Vrms['Vrms_15']/np.sum(Vrms/3, axis=1)\n"
   ]
  },
  {
   "cell_type": "code",
   "execution_count": 26,
   "metadata": {},
   "outputs": [
    {
     "data": {
      "text/plain": [
       "0     0.996743\n",
       "1     0.997027\n",
       "2     0.996522\n",
       "3     0.997111\n",
       "4     0.997464\n",
       "5     0.996256\n",
       "6     0.998564\n",
       "7     0.998405\n",
       "8     0.995868\n",
       "9     0.997178\n",
       "10    0.997915\n",
       "11    1.003483\n",
       "12    0.997965\n",
       "13    0.992499\n",
       "dtype: float64"
      ]
     },
     "execution_count": 26,
     "metadata": {},
     "output_type": "execute_result"
    }
   ],
   "source": [
    "Vrms['Vrms_20']/np.sum(Vrms/3, axis=1)"
   ]
  },
  {
   "cell_type": "code",
   "execution_count": null,
   "metadata": {},
   "outputs": [],
   "source": []
  }
 ],
 "metadata": {
  "kernelspec": {
   "display_name": "Python 3",
   "language": "python",
   "name": "python3"
  },
  "language_info": {
   "codemirror_mode": {
    "name": "ipython",
    "version": 3
   },
   "file_extension": ".py",
   "mimetype": "text/x-python",
   "name": "python",
   "nbconvert_exporter": "python",
   "pygments_lexer": "ipython3",
   "version": "3.7.0"
  }
 },
 "nbformat": 4,
 "nbformat_minor": 2
}
