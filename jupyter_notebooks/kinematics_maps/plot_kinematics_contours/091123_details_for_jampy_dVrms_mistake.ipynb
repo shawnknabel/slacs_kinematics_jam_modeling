{
 "cells": [
  {
   "cell_type": "markdown",
   "metadata": {},
   "source": [
    "# 09/11/23 - I've been running models, and I realized I have dVrms (or kwargs['erms']) saved as Vrms instead of the error. This is a major major mistake.\n",
    "## Checking to see where it's coming from."
   ]
  },
  {
   "cell_type": "code",
   "execution_count": 3,
   "metadata": {},
   "outputs": [],
   "source": [
    "# my functions\n",
    "import sys\n",
    "sys.path.append(\"/home/shawnknabel/Documents/slacs_kinematics/my_python_packages\")\n",
    "from slacs_ani_mass_jam import jampy_details as jd1\n",
    "from slacs_ani_mass_jam import prepare_to_jam as pj1\n",
    "\n",
    "from slacs_mge_jampy import jampy_details as jd2\n",
    "#from slacs_mge_jampy import prepare_to_jam as pj2\n"
   ]
  },
  {
   "cell_type": "code",
   "execution_count": null,
   "metadata": {},
   "outputs": [],
   "source": []
  }
 ],
 "metadata": {
  "kernelspec": {
   "display_name": "Python 3",
   "language": "python",
   "name": "python3"
  },
  "language_info": {
   "codemirror_mode": {
    "name": "ipython",
    "version": 3
   },
   "file_extension": ".py",
   "mimetype": "text/x-python",
   "name": "python",
   "nbconvert_exporter": "python",
   "pygments_lexer": "ipython3",
   "version": "3.7.0"
  }
 },
 "nbformat": 4,
 "nbformat_minor": 2
}
