{
 "cells": [
  {
   "cell_type": "markdown",
   "id": "9c7a33c7-a3df-4d50-9b02-0766fc0f2a2f",
   "metadata": {},
   "source": [
    "# 8/29/22 - looking at the fast/slow rotator classification calculations"
   ]
  },
  {
   "cell_type": "code",
   "execution_count": 1,
   "id": "7605db9f-aaaf-424d-9025-00c797d76c2b",
   "metadata": {},
   "outputs": [],
   "source": [
    "import numpy as np\n",
    "import matplotlib.pyplot as plt\n",
    "plt.rcParams.update({'font.size': 14})\n",
    "plt.rcParams.update({\"figure.figsize\" : (8, 6)})\n",
    "from astropy.io import fits"
   ]
  },
  {
   "cell_type": "code",
   "execution_count": 442,
   "id": "87e90d7f-5c5d-44c5-8a4e-20ea1b69bdbe",
   "metadata": {},
   "outputs": [],
   "source": [
    "def calc_V_sigma_squared (delta, omega, alpha):\n",
    "    \n",
    "    numerator = (1-delta) * omega - 1\n",
    "    denominator = alpha * (1-delta) * omega + 1\n",
    "    \n",
    "    V_sigma_sq = numerator/denominator\n",
    "    \n",
    "    return V_sigma_sq\n",
    "\n",
    "def calc_omega (e):\n",
    "    \n",
    "    numerator = np.arcsin(e)/np.sqrt(1-e**2) - e\n",
    "    denominator = e - np.arcsin(e) * np.sqrt(1-e**2)\n",
    "    \n",
    "    omega = 0.5 * numerator/denominator\n",
    "    \n",
    "    return omega\n",
    "\n",
    "def calc_e (epsilon):\n",
    "    \n",
    "    e = np.sqrt( 1 - (1 - epsilon)**2 )\n",
    "    \n",
    "    return e"
   ]
  },
  {
   "cell_type": "code",
   "execution_count": 443,
   "id": "06b96d96-b1f7-4123-bf6f-5afd843a6e79",
   "metadata": {},
   "outputs": [
    {
     "name": "stdout",
     "output_type": "stream",
     "text": [
      "0.6253722178308376\n"
     ]
    }
   ],
   "source": [
    "epsilon = 0.5\n",
    "delta = 0.0\n",
    "alpha = 0.15\n",
    "\n",
    "e = calc_e(epsilon)\n",
    "omega = calc_omega(e)\n",
    "V_sigma_sq = calc_V_sigma_squared(delta, omega, alpha)\n",
    "\n",
    "print(V_sigma_sq)"
   ]
  },
  {
   "cell_type": "code",
   "execution_count": 444,
   "id": "a7c9fda5-ba80-4664-b670-4f3939009b06",
   "metadata": {},
   "outputs": [],
   "source": [
    "def calc_isotropic_V_sigma (epsilon):\n",
    "    \n",
    "    # isotropic delta = 0\n",
    "    delta = 0\n",
    "    # alpha empirically = 0.15\n",
    "    alpha = 0.15\n",
    "    \n",
    "    # calculations\n",
    "    e = calc_e(epsilon)\n",
    "    omega = calc_omega(e)\n",
    "    V_sigma_squared = calc_V_sigma_squared(delta, omega, alpha)\n",
    "    V_sigma_iso = np.sqrt(V_sigma_squared)\n",
    "    \n",
    "    return(V_sigma_iso)\n",
    "    "
   ]
  },
  {
   "cell_type": "code",
   "execution_count": 445,
   "id": "1c7d4ac2-d9b8-4a04-8c92-d978f4bca367",
   "metadata": {},
   "outputs": [
    {
     "data": {
      "text/plain": [
       "0.7908047912290603"
      ]
     },
     "execution_count": 445,
     "metadata": {},
     "output_type": "execute_result"
    }
   ],
   "source": [
    "calc_isotropic_V_sigma (0.5)"
   ]
  },
  {
   "cell_type": "code",
   "execution_count": 446,
   "id": "920e7732-a38e-4d39-89b9-752ecad2f536",
   "metadata": {},
   "outputs": [
    {
     "name": "stderr",
     "output_type": "stream",
     "text": [
      "/local/shawnknabel/anaconda3/envs/astroconda/lib/python3.7/site-packages/ipykernel_launcher.py:15: RuntimeWarning: invalid value encountered in double_scalars\n",
      "  from ipykernel import kernelapp as app\n",
      "/local/shawnknabel/anaconda3/envs/astroconda/lib/python3.7/site-packages/ipykernel_launcher.py:12: RuntimeWarning: divide by zero encountered in double_scalars\n",
      "  if sys.path[0] == '':\n",
      "/local/shawnknabel/anaconda3/envs/astroconda/lib/python3.7/site-packages/ipykernel_launcher.py:6: RuntimeWarning: invalid value encountered in double_scalars\n",
      "  \n"
     ]
    },
    {
     "data": {
      "text/plain": [
       "[<matplotlib.lines.Line2D at 0x7f945339b1d0>]"
      ]
     },
     "execution_count": 446,
     "metadata": {},
     "output_type": "execute_result"
    },
    {
     "data": {
      "image/png": "[encoded data removed]",
      "text/plain": [
       "<Figure size 576x576 with 1 Axes>"
      ]
     },
     "metadata": {
      "needs_background": "light"
     },
     "output_type": "display_data"
    }
   ],
   "source": [
    "epsilons = np.linspace(0,1,100)\n",
    "V_sigmas = np.zeros(100)\n",
    "\n",
    "i=0\n",
    "for epsilon in epsilons:\n",
    "    V_sigma = calc_isotropic_V_sigma(epsilon)\n",
    "    V_sigmas[i] = V_sigma\n",
    "    i = i+1\n",
    "\n",
    "plt.figure(figsize=(8,8))\n",
    "plt.xlim(0.0,1.0)\n",
    "plt.ylim(0.0,1.0)\n",
    "plt.plot(epsilons, V_sigmas)\n",
    "plt.plot(epsilons, 1/3 * V_sigmas)"
   ]
  },
  {
   "cell_type": "code",
   "execution_count": 447,
   "id": "d62a7cbf-8382-4be8-ad34-f89fd2c93cd1",
   "metadata": {},
   "outputs": [],
   "source": [
    "obj_name = 'SDSSJ0029-0055'\n",
    "obj_abbr = obj_name[4:9] # e.g. J0029\n",
    "\n",
    "# data directory\n",
    "data_dir = '/data/raw_data/KECK_KCWI_SLACS_kinematics_shawn/'\n",
    "# object directory\n",
    "dir = f'{data_dir}mosaics/{obj_name}/'\n",
    "\n",
    "#KCWI mosaic datacube\n",
    "name = f'KCWI_{obj_abbr}_icubes_mosaic_0.1457'\n",
    "\n",
    "save_dir = f'{dir}{obj_name}_systematics/'"
   ]
  },
  {
   "cell_type": "code",
   "execution_count": 547,
   "id": "896d8c5e-6bf8-405d-8297-544b0bf20306",
   "metadata": {},
   "outputs": [],
   "source": [
    "VD=np.genfromtxt(f'{dir}{obj_name}_final_kinematics/{obj_name}_VD_binned.txt',\n",
    "                 delimiter=',')\n",
    "VD_cov = np.genfromtxt(f'{dir}{obj_name}_final_kinematics/{obj_name}_covariance_matrix_VD.txt',\n",
    "                 delimiter=',')\n",
    "dVD = np.sqrt(np.diagonal(VD_cov))\n",
    "V=np.genfromtxt(f'{dir}{obj_name}_final_kinematics/{obj_name}_V_binned.txt',\n",
    "                 delimiter=',')\n",
    "# subtract the mean V\n",
    "V = V - np.mean(V)"
   ]
  },
  {
   "cell_type": "code",
   "execution_count": 449,
   "id": "62197345-4520-4e0c-b78a-00858615f252",
   "metadata": {},
   "outputs": [
    {
     "data": {
      "text/plain": [
       "(129,)"
      ]
     },
     "execution_count": 449,
     "metadata": {},
     "output_type": "execute_result"
    }
   ],
   "source": [
    "VD.shape"
   ]
  },
  {
   "cell_type": "code",
   "execution_count": 450,
   "id": "c1b41adb-c9dc-4622-93ca-38132908e2ad",
   "metadata": {},
   "outputs": [],
   "source": [
    "## import voronoi binning data\n",
    "voronoi_binning_data = fits.getdata(dir +'voronoi_binning_' + name + '_data.fits')\n",
    "vorbin_pixels = np.genfromtxt(f'{dir}voronoi_2d_binning_{name}_output.txt',\n",
    "                 delimiter='')"
   ]
  },
  {
   "cell_type": "code",
   "execution_count": 451,
   "id": "40a3409f-2868-492c-b632-9c1ada69924c",
   "metadata": {},
   "outputs": [],
   "source": [
    "# sort the voronoi bin pixel data by bin\n",
    "vorbin_pixels = vorbin_pixels[vorbin_pixels[:,2].argsort()]"
   ]
  },
  {
   "cell_type": "code",
   "execution_count": 452,
   "id": "a6b76a25-468f-4f83-b1bd-783ddb09d2ad",
   "metadata": {},
   "outputs": [
    {
     "data": {
      "text/plain": [
       "(129, 5215)"
      ]
     },
     "execution_count": 452,
     "metadata": {},
     "output_type": "execute_result"
    }
   ],
   "source": [
    "voronoi_binning_data.shape"
   ]
  },
  {
   "cell_type": "code",
   "execution_count": 453,
   "id": "41003695-f8b2-40a8-883b-87e39f2c8c8c",
   "metadata": {},
   "outputs": [
    {
     "data": {
      "text/plain": [
       "array([[20.      ,  5.      ,  1.007436,  1.      ],\n",
       "       [21.      ,  5.      ,  1.024658,  1.      ],\n",
       "       [22.      ,  5.      ,  1.101421,  1.      ],\n",
       "       ...,\n",
       "       [20.      , 40.      ,  1.015957,  1.      ],\n",
       "       [21.      , 40.      ,  1.078912,  1.      ],\n",
       "       [22.      , 40.      ,  1.045669,  1.      ]])"
      ]
     },
     "execution_count": 453,
     "metadata": {},
     "output_type": "execute_result"
    }
   ],
   "source": [
    "voronoi_binning_input_data"
   ]
  },
  {
   "cell_type": "code",
   "execution_count": 454,
   "id": "ebc487ac-4e54-4d17-b808-75571af4181d",
   "metadata": {},
   "outputs": [
    {
     "data": {
      "text/plain": [
       "46.56224683860459"
      ]
     },
     "execution_count": 454,
     "metadata": {},
     "output_type": "execute_result"
    }
   ],
   "source": [
    "np.sum(voronoi_binning_data[0])"
   ]
  },
  {
   "cell_type": "code",
   "execution_count": 455,
   "id": "075e0215-8950-4985-a331-1d2cdcdcbde6",
   "metadata": {},
   "outputs": [
    {
     "data": {
      "text/plain": [
       "array([ 46.56224684,  46.66780916,  41.83787413,  42.21674527,\n",
       "        37.76461507,  41.9217586 ,  38.11880304,  34.56359637,\n",
       "        38.87069007,  33.75140074,  34.58318887,  31.12777136,\n",
       "        31.64439302,  37.15869227,  28.65873965,  35.31044472,\n",
       "        27.90095755,  29.97303981,  42.81609187,  23.10866547,\n",
       "        46.97884472,  32.66404045,  65.25772328,  76.30394017,\n",
       "        44.32536373,  74.6343354 ,  84.41748355,  38.05021608,\n",
       "        23.75598301,  86.08843324,  47.37887103, 180.74648447,\n",
       "       158.35904942, 122.69458891,  86.31754   ,  38.90929316,\n",
       "       106.86686195, 210.20580002,  73.81606742,  26.05274567,\n",
       "       113.30281738,  32.15665501,  59.78670729,  36.55112312,\n",
       "        48.91744011, 185.11245147,  91.9777963 ,  23.32802131,\n",
       "        44.55785674,  34.79270409,  50.18006909,  38.32528611,\n",
       "       110.25329956,  31.87895107,  41.17408371,  41.51908034,\n",
       "        41.65745274,  35.16023456,  45.71751117,  27.85960475,\n",
       "        31.40561641,  45.6668415 ,  27.94674304,  38.4298046 ,\n",
       "        45.57904153,  34.84202071,  30.13999846,  92.6997588 ,\n",
       "        42.11965735,  37.66943193,  42.67597535,  44.59610036,\n",
       "        31.90416118,  27.85960475,  31.40561641,  37.25227004,\n",
       "        34.84202071,  24.73310432,  41.63674311,  34.1952686 ,\n",
       "       206.87988791, 112.80238444,  64.70874586,  25.26793639,\n",
       "        40.61619705, 119.00944378,  25.96251956,  33.49136151,\n",
       "        35.52798737, 177.33798493,  42.97983296,  32.83547916,\n",
       "        82.75580735,  25.5201391 ,  37.66943193,  27.52996821,\n",
       "        37.25227004,  35.52798737,  43.54723273,  32.83547916,\n",
       "       176.04153496, 111.42398105,  92.55188478,  27.52996821,\n",
       "        27.13395942,  26.25995876,  27.70266185,  45.73778872,\n",
       "        26.5250977 ,  54.98722975,  49.19794072, 147.36945758,\n",
       "        97.05600014, 107.68163434,  49.04506076,  60.75500824,\n",
       "        47.97829655, 132.42113657,  91.04626922, 126.11148186,\n",
       "        40.55757172,  79.72444387,  85.9602417 ,  99.72022621,\n",
       "        96.01504737, 155.60351375, 160.51847003, 155.18454538,\n",
       "       116.08118383])"
      ]
     },
     "execution_count": 455,
     "metadata": {},
     "output_type": "execute_result"
    }
   ],
   "source": [
    "# sum each bin across all wavelengths\n",
    "\n",
    "bin_luminosities = np.zeros(129)\n",
    "\n",
    "for i in range(129):\n",
    "    lum = np.sum(voronoi_binning_data[i])\n",
    "    bin_luminosities[i] = lum\n",
    "    \n",
    "bin_luminosities"
   ]
  },
  {
   "cell_type": "code",
   "execution_count": 477,
   "id": "f6377d30-e6fb-495a-a1c0-ce13909027f5",
   "metadata": {},
   "outputs": [
    {
     "data": {
      "text/plain": [
       "335.18472211094235"
      ]
     },
     "execution_count": 477,
     "metadata": {},
     "output_type": "execute_result"
    }
   ],
   "source": [
    "np.max(VD)"
   ]
  },
  {
   "cell_type": "code",
   "execution_count": 479,
   "id": "0ef0b5f3-e75a-4894-b1e9-c4f8eb64fffe",
   "metadata": {},
   "outputs": [
    {
     "data": {
      "text/plain": [
       "172"
      ]
     },
     "execution_count": 479,
     "metadata": {},
     "output_type": "execute_result"
    }
   ],
   "source": [
    "len(bin_luminosities)"
   ]
  },
  {
   "cell_type": "code",
   "execution_count": 611,
   "id": "232ea5be-0e10-4283-8c75-f29a9f5da0c2",
   "metadata": {},
   "outputs": [],
   "source": [
    "def lum_weight_bin (V, VD, dVD, lum):\n",
    "    \n",
    "    bin_weighted_V_sq = lum * V**2\n",
    "    bin_weighted_VD_sq = lum * VD**2\n",
    "    bin_weighted_dVD_sq = lum * 2 * VD * dVD\n",
    "\n",
    "    return bin_weighted_V_sq, bin_weighted_VD_sq, bin_weighted_dVD_sq\n",
    "\n",
    "def lum_weight_V_sigma (V_array, VD_array, dVD_array, lum_array):\n",
    "    \n",
    "    assert (len(V_array)==len(VD_array)) & (len(V_array)==len(lum_array)) & (len(V_array)==len(dVD_array))\n",
    "    \n",
    "    V_sq = 0\n",
    "    VD_sq = 0\n",
    "    dVD_sq = 0\n",
    "    \n",
    "    for i in range(len(V_array)):\n",
    "        bin_V_sq, bin_VD_sq, bin_dVD_sq = lum_weight_bin(V_array[i], VD_array[i], dVD_array[i], lum_array[i])\n",
    "        V_sq += bin_V_sq\n",
    "        VD_sq += bin_VD_sq\n",
    "        dVD_sq += bin_dVD_sq\n",
    "    \n",
    "    V_sigma_sq = V_sq/VD_sq\n",
    "    V_sigma = np.sqrt(V_sigma_sq)\n",
    "    \n",
    "    VD_integrated_rms = np.sqrt(VD_sq/np.sum(lum_array))\n",
    "\n",
    "    dVD_int_rms = dVD_sq / (2 * np.sqrt(np.sum(lum_array) * VD_sq))\n",
    "    \n",
    "    return(V_sigma, VD_integrated_rms, dVD_int_rms) # this is integrated out to the edge of my data right now\n",
    "        "
   ]
  },
  {
   "cell_type": "code",
   "execution_count": 607,
   "id": "822488ec-5ab9-4af4-be73-15ea9b7638f0",
   "metadata": {},
   "outputs": [
    {
     "name": "stdout",
     "output_type": "stream",
     "text": [
      "0.18439986039745285\n"
     ]
    },
    {
     "data": {
      "text/plain": [
       "(0.09912803317138999, 244.1633541230143, 22.51184420722884)"
      ]
     },
     "execution_count": 607,
     "metadata": {},
     "output_type": "execute_result"
    }
   ],
   "source": [
    "lum_weight_V_sigma ( V, VD, dVD, bin_luminosities )"
   ]
  },
  {
   "cell_type": "code",
   "execution_count": 66,
   "id": "1d1151f3-064f-4522-9ea3-e3ad732ff1bf",
   "metadata": {},
   "outputs": [],
   "source": [
    "# Now let's do the lambda_R calculation\n",
    "\n",
    "\n",
    "def calc_lambda_R (V_array, VD_array, R_array, lum_array):\n",
    "    \n",
    "    assert (len(V_array)==len(VD_array)) & (len(V_array)==len(lum_array)) & (len(V_array)==len(R_array))\n",
    "    \n",
    "    numerator = 0\n",
    "    denominator = 0\n",
    "    \n",
    "    for i in range(len(V_array)):\n",
    "        V = V_array[i]\n",
    "        VD = VD_array[i]\n",
    "        lum = lum_array[i]\n",
    "        R = R_array[i]\n",
    "        \n",
    "        \n",
    "        num = lum * R * np.abs(V)\n",
    "        den = lum * R * np.sqrt(V**2 + VD**2)\n",
    "        \n",
    "        numerator += num\n",
    "        denominator += den\n",
    "        \n",
    "    lambda_R = numerator / denominator\n",
    "    \n",
    "    return lambda_R\n"
   ]
  },
  {
   "cell_type": "code",
   "execution_count": 329,
   "id": "235f385e-b725-4734-8129-107e37a41a0c",
   "metadata": {},
   "outputs": [],
   "source": [
    "def calc_R (bin_arrays, num_bins):\n",
    "    \n",
    "    bin_R_means = np.zeros(num_bins)\n",
    "    \n",
    "    for i in range(num_bins):\n",
    "        bin_pixels = bin_arrays[bin_arrays[:,2]==i]\n",
    "        bin_xx = bin_pixels[:,0] - 21 # subtract 21 pixels, center don't know which is x and which is y, but doesn't matter for R\n",
    "        bin_yy = bin_pixels[:,1] - 21\n",
    "        bin_R = np.zeros(len(bin_pixels))\n",
    "        for j in range(len(bin_pixels)):\n",
    "            bin_R[j] = np.sqrt(bin_xx[j]**2 + bin_yy[j]**2)\n",
    "        bin_R_means[i] = np.mean(bin_R)*0.1457\n",
    "        \n",
    "    return bin_R_means\n",
    "            "
   ]
  },
  {
   "cell_type": "code",
   "execution_count": 333,
   "id": "67ad0a05-a6fd-4615-a6db-2907bb211764",
   "metadata": {},
   "outputs": [
    {
     "data": {
      "text/plain": [
       "array([ True,  True,  True,  True,  True,  True,  True,  True,  True,\n",
       "        True,  True,  True,  True,  True,  True,  True,  True,  True,\n",
       "        True,  True,  True,  True,  True,  True,  True,  True,  True,\n",
       "        True,  True,  True,  True,  True,  True,  True,  True,  True,\n",
       "       False,  True, False,  True,  True,  True,  True,  True,  True,\n",
       "        True, False, False,  True,  True,  True,  True,  True, False,\n",
       "        True,  True, False,  True,  True,  True,  True,  True,  True,\n",
       "        True,  True,  True,  True,  True,  True, False,  True,  True,\n",
       "        True,  True,  True,  True,  True,  True,  True,  True,  True,\n",
       "        True,  True,  True,  True,  True,  True,  True,  True,  True,\n",
       "        True,  True,  True,  True,  True,  True,  True,  True,  True,\n",
       "        True,  True, False,  True,  True,  True,  True,  True,  True,\n",
       "        True,  True,  True,  True,  True,  True,  True,  True,  True,\n",
       "        True,  True,  True,  True,  True,  True,  True,  True,  True,\n",
       "        True,  True,  True, False,  True,  True, False,  True,  True,\n",
       "        True,  True,  True,  True,  True, False,  True,  True,  True,\n",
       "       False,  True,  True,  True,  True,  True, False,  True,  True,\n",
       "        True,  True,  True, False, False,  True, False, False, False,\n",
       "       False, False, False, False, False, False, False, False, False,\n",
       "       False])"
      ]
     },
     "execution_count": 333,
     "metadata": {},
     "output_type": "execute_result"
    }
   ],
   "source": [
    "Rs = calc_R (vorbin_pixels, len(voronoi_binning_data))\n",
    "Rs < 1.5"
   ]
  },
  {
   "cell_type": "code",
   "execution_count": 612,
   "id": "134073c0-f670-4ded-a888-b201375dc4ea",
   "metadata": {},
   "outputs": [
    {
     "data": {
      "text/plain": [
       "(array([6., 2., 2., 0., 1., 1., 0., 1., 0., 1.]),\n",
       " array([0.08452247, 0.10488597, 0.12524947, 0.14561297, 0.16597647,\n",
       "        0.18633997, 0.20670347, 0.22706698, 0.24743048, 0.26779398,\n",
       "        0.28815748]),\n",
       " <BarContainer object of 10 artists>)"
      ]
     },
     "execution_count": 612,
     "metadata": {},
     "output_type": "execute_result"
    },
    {
     "data": {
      "image/png": "[encoded data removed]",
      "text/plain": [
       "<Figure size 576x432 with 1 Axes>"
      ]
     },
     "metadata": {
      "needs_background": "light"
     },
     "output_type": "display_data"
    },
    {
     "data": {
      "image/png": "[encoded data removed]",
      "text/plain": [
       "<Figure size 576x432 with 1 Axes>"
      ]
     },
     "metadata": {
      "needs_background": "light"
     },
     "output_type": "display_data"
    }
   ],
   "source": [
    "#################################################\n",
    "# objects\n",
    "obj_names = ['SDSSJ0029-0055',\n",
    "             'SDSSJ0037-0942',\n",
    "             'SDSSJ0330-0020',\n",
    "             'SDSSJ1112+0826',\n",
    "             'SDSSJ1204+0358',\n",
    "             'SDSSJ1250+0523',\n",
    "             'SDSSJ1306+0600',\n",
    "             'SDSSJ1402+6321',\n",
    "             'SDSSJ1531-0105',\n",
    "             'SDSSJ1538+5817',\n",
    "             'SDSSJ1621+3931',\n",
    "             'SDSSJ1627-0053',\n",
    "             'SDSSJ1630+4520',\n",
    "             'SDSSJ2303+1422'\n",
    "            ]\n",
    "\n",
    "V_sigmas = np.zeros(len(obj_names))\n",
    "lambda_Rs = np.zeros(len(obj_names))\n",
    "VD_ap_int_rms = np.zeros(len(obj_names)) # aperture integrated rms veldisp w/in effective radius\n",
    "\n",
    "b=0\n",
    "\n",
    "for obj_name in obj_names:\n",
    "    \n",
    "    #################\n",
    "    # set up directories\n",
    "    obj_abbr = obj_name[4:9] # e.g. J0029\n",
    "    # data directory\n",
    "    data_dir = '/data/raw_data/KECK_KCWI_SLACS_kinematics_shawn/'\n",
    "    # object directory\n",
    "    dir = f'{data_dir}mosaics/{obj_name}/'\n",
    "    #KCWI mosaic datacube\n",
    "    name = f'KCWI_{obj_abbr}_icubes_mosaic_0.1457'\n",
    "    save_dir = f'{dir}{obj_name}_systematics/'\n",
    "    \n",
    "    #################\n",
    "    # get velocity and bin data \n",
    "    VD=np.genfromtxt(f'{dir}{obj_name}_final_kinematics/{obj_name}_VD_binned.txt',\n",
    "                 delimiter=',')\n",
    "    VD_cov = np.genfromtxt(f'{dir}{obj_name}_final_kinematics/{obj_name}_covariance_matrix_VD.txt',\n",
    "                     delimiter=',')\n",
    "    dVD = np.sqrt(np.diagonal(VD_cov)) # to have error bars\n",
    "    V=np.genfromtxt(f'{dir}{obj_name}_final_kinematics/{obj_name}_V_binned.txt',\n",
    "                     delimiter=',')\n",
    "    # subtract the mean V\n",
    "    V = V - np.mean(V)\n",
    "    # import voronoi binning data (#bins, 5215), spectrum for each bin\n",
    "    voronoi_binning_data = fits.getdata(dir +'voronoi_binning_' + name + '_data.fits')\n",
    "    # import pixel data for bins\n",
    "    vorbin_pixels = np.genfromtxt(f'{dir}voronoi_2d_binning_{name}_output.txt',\n",
    "                 delimiter='')\n",
    "\n",
    "    #################\n",
    "    # sum each bin across all wavelengths to get bin luminosities\n",
    "    bin_luminosities = np.zeros(len(V))\n",
    "    for i in range(len(V)):\n",
    "        lum = np.sum(voronoi_binning_data[i])\n",
    "        bin_luminosities[i] = lum\n",
    "        \n",
    "    #################\n",
    "    # get mean R for each bin by pixel positions\n",
    "    R = calc_R (vorbin_pixels, len(V))\n",
    "        \n",
    "    #################\n",
    "    # calculate V_sigma\n",
    "    V_sigmas[b], VD_ap_int_rms[b], dVD_ap_int_rms = lum_weight_V_sigma ( V, VD, dVD, bin_luminosities )\n",
    "    # calculate lambda_R\n",
    "    lambda_Rs[b] = calc_lambda_R (V, VD, R, bin_luminosities)\n",
    "    \n",
    "    b = b+1\n",
    "    \n",
    "plt.figure()    \n",
    "plt.hist(V_sigmas)\n",
    "plt.figure()\n",
    "plt.hist(lambda_Rs)\n"
   ]
  },
  {
   "cell_type": "code",
   "execution_count": 458,
   "id": "fa985ef3-e5d7-49ea-865d-411dc6170fdf",
   "metadata": {},
   "outputs": [],
   "source": [
    "import pandas as pd"
   ]
  },
  {
   "cell_type": "code",
   "execution_count": 200,
   "id": "d555e289-def0-4ec0-a6af-596ff9dc7d31",
   "metadata": {},
   "outputs": [
    {
     "data": {
      "text/plain": [
       "array([['J0008-0004', '000802.96-', '0669-52559', '0.4400', '1.1924',\n",
       "        '18.65', '86.7', '1.71', '0.313', '0.83', '27.3', '-99', '-99',\n",
       "        '-9999', 'S', 'E', 'B-A-x', 'A', '0'],\n",
       "       ['J0028-0929', '002817.87-', '0653-52145', '0.0565', '0.7146',\n",
       "        '13.75', '92.8', '15.21', '0.346', '0.48', '78.9', '147', '7',\n",
       "        '2.01', 'S', 'L', 'x-x-x', 'X', '0'],\n",
       "       ['J0029-0055', '002907.77-', '0391-51782', '0.2270', '0.9313',\n",
       "        '17.09', '76.3', '2.16', '0.310', '0.84', '26.6', '229', '18',\n",
       "        '1.75', 'S', 'E', 'A-A-A', 'A', '0'],\n",
       "       ['J0037-0942', '003753.21-', '0655-52162', '0.1955', '0.6322',\n",
       "        '16.26', '120.5', '2.19', '0.326', '0.73', '11.4', '279', '14',\n",
       "        '2.00', 'S', 'E', 'A-A-A', 'A', '0'],\n",
       "       ['J0044+0113', '004402.90+', '0393-51794', '0.1196', '0.1965',\n",
       "        '15.73', '68.8', '2.61', '0.321', '0.76', '151.3', '266', '13',\n",
       "        '1.67', 'S', 'E', 'A-A-A', 'A', '0']], dtype='<U10')"
      ]
     },
     "execution_count": 200,
     "metadata": {},
     "output_type": "execute_result"
    }
   ],
   "source": [
    "slacs_data = np.genfromtxt(f'{data_dir}slacs_tableA1.txt', delimiter='', dtype='U10')\n",
    "slacs_data[:5]"
   ]
  },
  {
   "cell_type": "code",
   "execution_count": 196,
   "id": "8d897358-f4e6-49bb-b0e6-267594c24b85",
   "metadata": {},
   "outputs": [
    {
     "data": {
      "text/plain": [
       "array([['J0008-0004', '000802.96-', '0669-52559', ..., 'B-A-x', 'A', '0'],\n",
       "       ['J0028-0929', '002817.87-', '0653-52145', ..., 'x-x-x', 'X', '0'],\n",
       "       ['J0029-0055', '002907.77-', '0391-51782', ..., 'A-A-A', 'A', '0'],\n",
       "       ...,\n",
       "       ['J2321-0939', '232120.93-', '0645-52203', ..., 'A-A-A', 'A', '0'],\n",
       "       ['J2341+0000', '234111.57+', '0682-52525', ..., 'A-A-A', 'A', '0'],\n",
       "       ['J2347-0005', '234728.08-', '0684-52523', ..., 'B-A-A', 'B', '0']],\n",
       "      dtype='<U10')"
      ]
     },
     "execution_count": 196,
     "metadata": {},
     "output_type": "execute_result"
    }
   ],
   "source": [
    "slacs_data"
   ]
  },
  {
   "cell_type": "code",
   "execution_count": 428,
   "id": "a7ab3ef9-2976-4bae-b62d-0c70c042190f",
   "metadata": {},
   "outputs": [],
   "source": [
    "slacs_qs = slacs_data[:,9].astype(float)\n",
    "slacs_reffs = slacs_data[:,7].astype(float)\n",
    "slacs_morphologies = slacs_data[:,15].astype(str)\n",
    "slacs_sigmas = slacs_data[:,11].astype(float)\n",
    "slacs_sigmas_err = slacs_data[:,12].astype(float)"
   ]
  },
  {
   "cell_type": "code",
   "execution_count": 619,
   "id": "fce1e555-adb1-4858-b45f-43e343314864",
   "metadata": {},
   "outputs": [],
   "source": [
    "ellipticities = np.empty(len(obj_names))\n",
    "reffs = np.empty(len(obj_names))\n",
    "morphologies = np.empty(len(obj_names), dtype=str)\n",
    "sdss_sigmas = np.empty(len(obj_names))\n",
    "sdss_sigmas_err = np.empty(len(obj_names))\n",
    "\n",
    "for i in range(len(obj_names)):\n",
    "    name = obj_names[i]\n",
    "    name = name[4:]\n",
    "    if name == 'J1306+0600':\n",
    "        ellipticities[i] = 0\n",
    "        reffs[i] = 0\n",
    "        morphologies[i] = ''\n",
    "        sdss_sigmas[i] = 0\n",
    "        sdss_sigmas_err[i] = 0\n",
    "    else:\n",
    "        q = slacs_qs[slacs_data[:,0]==name]\n",
    "        ellipticities[i] = 1 - q[0]\n",
    "        reffs[i] = slacs_reffs[slacs_data[:,0]==name]\n",
    "        morphologies[i] = slacs_morphologies[slacs_data[:,0]==name][0]\n",
    "        sdss_sigmas[i] = slacs_sigmas[slacs_data[:,0]==name]\n",
    "        sdss_sigmas_err[i] = slacs_sigmas_err[slacs_data[:,0]==name]"
   ]
  },
  {
   "cell_type": "code",
   "execution_count": 424,
   "id": "47e26b48-3b15-4511-99ea-3fd374ecae74",
   "metadata": {},
   "outputs": [
    {
     "data": {
      "text/plain": [
       "array(['E', 'E', 'E', 'E', 'E', 'E', '', 'E', 'E', 'E', 'E', 'E', 'E',\n",
       "       'E'], dtype='<U1')"
      ]
     },
     "execution_count": 424,
     "metadata": {},
     "output_type": "execute_result"
    }
   ],
   "source": [
    "morphologies"
   ]
  },
  {
   "cell_type": "markdown",
   "id": "79101f8c-a6f2-4193-8ac0-626df36312c1",
   "metadata": {},
   "source": [
    "# All are listed as early-type"
   ]
  },
  {
   "cell_type": "code",
   "execution_count": 269,
   "id": "fdfddbbf-b846-4cf4-9440-bdf787853aa0",
   "metadata": {},
   "outputs": [],
   "source": [
    "def calc_Vsig_to_lamR (V_sigma):\n",
    "    k = 1.1\n",
    "    numerator = k * V_sigma\n",
    "    denominator = np.sqrt(1 + k**2 * V_sigma**2)\n",
    "    lamR = numerator/denominator\n",
    "    return lamR"
   ]
  },
  {
   "cell_type": "code",
   "execution_count": 491,
   "id": "51217b7c-eeab-45f9-8843-cef64c5a1854",
   "metadata": {},
   "outputs": [],
   "source": [
    "V_sigmas = V_sigmas[ellipticities > 0]\n",
    "lambda_Rs = lambda_Rs[ellipticities > 0]\n",
    "ellipticities = ellipticities[ellipticities > 0]"
   ]
  },
  {
   "cell_type": "code",
   "execution_count": 492,
   "id": "5ba2e545-1163-45d8-92e3-d058b4a0ccc1",
   "metadata": {},
   "outputs": [
    {
     "name": "stderr",
     "output_type": "stream",
     "text": [
      "/local/shawnknabel/anaconda3/envs/astroconda/lib/python3.7/site-packages/ipykernel_launcher.py:15: RuntimeWarning: invalid value encountered in double_scalars\n",
      "  from ipykernel import kernelapp as app\n",
      "/local/shawnknabel/anaconda3/envs/astroconda/lib/python3.7/site-packages/ipykernel_launcher.py:12: RuntimeWarning: divide by zero encountered in double_scalars\n",
      "  if sys.path[0] == '':\n",
      "/local/shawnknabel/anaconda3/envs/astroconda/lib/python3.7/site-packages/ipykernel_launcher.py:6: RuntimeWarning: invalid value encountered in double_scalars\n",
      "  \n"
     ]
    },
    {
     "data": {
      "text/plain": [
       "<matplotlib.legend.Legend at 0x7f9450571c50>"
      ]
     },
     "execution_count": 492,
     "metadata": {},
     "output_type": "execute_result"
    },
    {
     "data": {
      "image/png": "[encoded data removed]",
      "text/plain": [
       "<Figure size 576x576 with 1 Axes>"
      ]
     },
     "metadata": {
      "needs_background": "light"
     },
     "output_type": "display_data"
    },
    {
     "data": {
      "image/png": "[encoded data removed]",
      "text/plain": [
       "<Figure size 576x576 with 1 Axes>"
      ]
     },
     "metadata": {
      "needs_background": "light"
     },
     "output_type": "display_data"
    }
   ],
   "source": [
    "# plot the V_sigma and lambda_R to ellipticities\n",
    "\n",
    "epsilons = np.linspace(0.0,1.0,100)\n",
    "V_sigmas_iso = np.zeros(100)\n",
    "lambda_Rs_iso = np.zeros(100)\n",
    "\n",
    "i=0\n",
    "for epsilon in epsilons:\n",
    "    V_sigma = calc_isotropic_V_sigma(epsilon)\n",
    "    V_sigmas_iso[i] = V_sigma\n",
    "    lambda_Rs_iso[i] = calc_Vsig_to_lamR(V_sigma)\n",
    "    i = i+1\n",
    "\n",
    "\n",
    "plt.figure(figsize=(8,8))\n",
    "plt.xlim(0.0,1.0)\n",
    "plt.ylim(0.0,1.0)\n",
    "plt.plot(epsilons, V_sigmas_iso, \n",
    "         c='limegreen',linewidth=4,zorder=-1,\n",
    "        label='isotropic rotator')\n",
    "plt.plot(epsilons, 1/3 * V_sigmas_iso, \n",
    "         c='magenta',linewidth=4,zorder=-1,\n",
    "        label=r'1/3 $\\times$ isotropic')\n",
    "plt.scatter(ellipticities, V_sigmas, s=100)\n",
    "plt.xlabel(r'$\\epsilon$',fontsize=16)\n",
    "plt.ylabel(r'$V/\\sigma$',fontsize=16)\n",
    "plt.legend()\n",
    "\n",
    "\n",
    "plt.figure(figsize=(8,8))\n",
    "plt.xlim(0.0,1.0)\n",
    "plt.ylim(0.0,1.0)\n",
    "plt.plot(epsilons, lambda_Rs_iso, c='limegreen',linewidth=4,zorder=-1)\n",
    "plt.plot(epsilons, 1/3 * lambda_Rs_iso, c='magenta',linewidth=4,zorder=-1)\n",
    "plt.plot([0.0, 0.4],[0.08, 0.08+0.4/4],\n",
    "         linestyle='-',c='k',linewidth=4,zorder=-1)\n",
    "plt.plot([0.4, 0.4],[0.0, 0.08+0.4/4],\n",
    "         linestyle='-',c='k',linewidth=4,zorder=-1,\n",
    "        label=r'$\\lambda_R = 0.08 + \\epsilon/4$')\n",
    "plt.scatter(ellipticities, lambda_Rs, s=100)\n",
    "plt.xlabel(r'$\\epsilon$',fontsize=16)\n",
    "plt.ylabel(r'$\\lambda_R$',fontsize=16)\n",
    "plt.legend()"
   ]
  },
  {
   "cell_type": "code",
   "execution_count": 322,
   "id": "f3ce8b42-0a03-43ac-8c22-f3386c7d883a",
   "metadata": {},
   "outputs": [
    {
     "data": {
      "text/plain": [
       "array([[0.16      , 0.27      , 0.23      , 0.23      , 0.03      ,\n",
       "        0.03      , 0.23      , 0.32      , 0.18      , 0.27      ,\n",
       "        0.15      , 0.16      , 0.36      ],\n",
       "       [0.06991091, 0.17389886, 0.1318394 , 0.22293635, 0.09575756,\n",
       "        0.13453247, 0.08975473, 0.07765495, 0.09772663, 0.17560101,\n",
       "        0.08397867, 0.09435562, 0.08720893],\n",
       "       [0.08452247, 0.19373019, 0.13340507, 0.28815748, 0.0894044 ,\n",
       "        0.18162231, 0.10425557, 0.10074552, 0.11064395, 0.24536504,\n",
       "        0.08585737, 0.13641849, 0.09459514]])"
      ]
     },
     "execution_count": 322,
     "metadata": {},
     "output_type": "execute_result"
    }
   ],
   "source": [
    "np.vstack((ellipticities, V_sigmas, lambda_Rs))"
   ]
  },
  {
   "cell_type": "markdown",
   "id": "207ecab5-53a4-42ce-a5d7-b108a6667930",
   "metadata": {},
   "source": [
    "# Above was all done without taking the effective radius as the boundary for integration. Let's see if it makes a difference"
   ]
  },
  {
   "cell_type": "code",
   "execution_count": 654,
   "id": "20ffae7d-f882-4c32-8e27-66d5a6176e84",
   "metadata": {},
   "outputs": [
    {
     "name": "stdout",
     "output_type": "stream",
     "text": [
      "length before cutting... 129\n",
      "length after cutting... 125\n",
      "\n",
      "length before cutting... 244\n",
      "length after cutting... 230\n",
      "\n",
      "length before cutting... 21\n",
      "length after cutting... 15\n",
      "\n",
      "length before cutting... 40\n",
      "length after cutting... 40\n",
      "\n",
      "length before cutting... 199\n",
      "length after cutting... 172\n",
      "\n",
      "length before cutting... 191\n",
      "length after cutting... 176\n",
      "\n",
      "length before cutting... 235\n",
      "length after cutting... 232\n",
      "\n",
      "length before cutting... 92\n",
      "length after cutting... 92\n",
      "\n",
      "length before cutting... 237\n",
      "length after cutting... 210\n",
      "\n",
      "length before cutting... 67\n",
      "length after cutting... 67\n",
      "\n",
      "length before cutting... 118\n",
      "length after cutting... 112\n",
      "\n",
      "length before cutting... 111\n",
      "length after cutting... 105\n",
      "\n",
      "length before cutting... 172\n",
      "length after cutting... 172\n",
      "\n"
     ]
    },
    {
     "data": {
      "text/plain": [
       "(array([1., 0., 4., 5., 1., 0., 1., 0., 1., 1.]),\n",
       " array([0.        , 0.02881575, 0.0576315 , 0.08644724, 0.11526299,\n",
       "        0.14407874, 0.17289449, 0.20171023, 0.23052598, 0.25934173,\n",
       "        0.28815748]),\n",
       " <BarContainer object of 10 artists>)"
      ]
     },
     "execution_count": 654,
     "metadata": {},
     "output_type": "execute_result"
    },
    {
     "data": {
      "image/png": "[encoded data removed]",
      "text/plain": [
       "<Figure size 576x432 with 1 Axes>"
      ]
     },
     "metadata": {
      "needs_background": "light"
     },
     "output_type": "display_data"
    },
    {
     "data": {
      "image/png": "[encoded data removed]",
      "text/plain": [
       "<Figure size 576x432 with 1 Axes>"
      ]
     },
     "metadata": {
      "needs_background": "light"
     },
     "output_type": "display_data"
    }
   ],
   "source": [
    "#################################################\n",
    "# objects\n",
    "obj_names = ['SDSSJ0029-0055',\n",
    "             'SDSSJ0037-0942',\n",
    "             'SDSSJ0330-0020',\n",
    "             'SDSSJ1112+0826',\n",
    "             'SDSSJ1204+0358',\n",
    "             'SDSSJ1250+0523',\n",
    "             'SDSSJ1306+0600',\n",
    "             'SDSSJ1402+6321',\n",
    "             'SDSSJ1531-0105',\n",
    "             'SDSSJ1538+5817',\n",
    "             'SDSSJ1621+3931',\n",
    "             'SDSSJ1627-0053',\n",
    "             'SDSSJ1630+4520',\n",
    "             'SDSSJ2303+1422'\n",
    "            ]\n",
    "\n",
    "V_sigmas = np.zeros(len(obj_names))\n",
    "lambda_Rs = np.zeros(len(obj_names))\n",
    "VD_ap_int_rms = np.zeros(len(obj_names))\n",
    "dVD_ap_int_rms = np.zeros(len(obj_names))\n",
    "\n",
    "b=0\n",
    "\n",
    "for obj_name in obj_names:\n",
    "    \n",
    "    if obj_name == 'SDSSJ1306+0600':\n",
    "        V_sigmas[b] = 0\n",
    "        lambda_Rs[b] = 0\n",
    "        VD_ap_int_rms[b] = 0\n",
    "    \n",
    "    else:\n",
    "        #################\n",
    "        # set up directories\n",
    "        obj_abbr = obj_name[4:9] # e.g. J0029\n",
    "        # data directory\n",
    "        data_dir = '/data/raw_data/KECK_KCWI_SLACS_kinematics_shawn/'\n",
    "        # object directory\n",
    "        dir = f'{data_dir}mosaics/{obj_name}/'\n",
    "        #KCWI mosaic datacube\n",
    "        name = f'KCWI_{obj_abbr}_icubes_mosaic_0.1457'\n",
    "        save_dir = f'{dir}{obj_name}_systematics/'\n",
    "\n",
    "        #################\n",
    "        # get velocity and bin data \n",
    "        VD=np.genfromtxt(f'{dir}{obj_name}_final_kinematics/{obj_name}_VD_binned.txt',\n",
    "                 delimiter=',')\n",
    "        VD_cov = np.genfromtxt(f'{dir}{obj_name}_final_kinematics/{obj_name}_covariance_matrix_VD.txt',\n",
    "                         delimiter=',')\n",
    "        dVD = np.sqrt(np.diagonal(VD_cov))\n",
    "        V=np.genfromtxt(f'{dir}{obj_name}_final_kinematics/{obj_name}_V_binned.txt',\n",
    "                         delimiter=',')\n",
    "        # subtract the mean V\n",
    "        V = V - np.mean(V)\n",
    "        # import voronoi binning data (#bins, 5215), spectrum for each bin\n",
    "        voronoi_binning_data = fits.getdata(dir +'voronoi_binning_' + name + '_data.fits')\n",
    "        # import pixel data for bins\n",
    "        vorbin_pixels = np.genfromtxt(f'{dir}voronoi_2d_binning_{name}_output.txt',\n",
    "                     delimiter='')\n",
    "\n",
    "        #################\n",
    "        # sum each bin across all wavelengths to get bin luminosities\n",
    "        bin_luminosities = np.zeros(len(V))\n",
    "        for i in range(len(V)):\n",
    "            lum = np.sum(voronoi_binning_data[i])\n",
    "            bin_luminosities[i] = lum\n",
    "\n",
    "        #################\n",
    "        # get mean R for each bin by pixel positions\n",
    "        short_name = obj_name[4:]\n",
    "        R = calc_R (vorbin_pixels, len(V))\n",
    "        print(f'length before cutting... {len(R)}')\n",
    "        effective_radius = reffs[b]\n",
    "        condition = R < effective_radius\n",
    "        R = R[condition]\n",
    "        V = V[condition]\n",
    "        VD = VD[condition]\n",
    "        dVD = dVD[condition]\n",
    "        bin_luminosities = bin_luminosities[condition]\n",
    "        print(f'length after cutting... {len(R)}')\n",
    "        print()\n",
    "\n",
    "        #################\n",
    "        # calculate V_sigma\n",
    "        V_sigmas[b], VD_ap_int_rms[b], dVD_ap_int_rms[b] = lum_weight_V_sigma ( V, VD, dVD, bin_luminosities )\n",
    "        # calculate lambda_R\n",
    "        lambda_Rs[b] = calc_lambda_R (V, VD, R, bin_luminosities)\n",
    "    \n",
    "    b = b+1\n",
    "    \n",
    "plt.figure()    \n",
    "plt.hist(V_sigmas)\n",
    "plt.figure()\n",
    "plt.hist(lambda_Rs)\n"
   ]
  },
  {
   "cell_type": "code",
   "execution_count": 467,
   "id": "3fca6e38-8a1e-49ab-9a22-50d09eb09015",
   "metadata": {},
   "outputs": [
    {
     "data": {
      "text/plain": [
       "'/data/raw_data/KECK_KCWI_SLACS_kinematics_shawn/mosaics/SDSSJ2303+1422/SDSSJ2303+1422_systematics/'"
      ]
     },
     "execution_count": 467,
     "metadata": {},
     "output_type": "execute_result"
    }
   ],
   "source": [
    "save_dir"
   ]
  },
  {
   "cell_type": "code",
   "execution_count": 620,
   "id": "50039ddf-a946-436a-a812-1bd525d29a9c",
   "metadata": {},
   "outputs": [],
   "source": [
    "V_sigmas = V_sigmas[ellipticities > 0]\n",
    "lambda_Rs = lambda_Rs[ellipticities > 0]\n",
    "ellipticities = ellipticities[ellipticities > 0]"
   ]
  },
  {
   "cell_type": "code",
   "execution_count": 637,
   "id": "32e41761-fa0e-4d3e-8574-5ae0bec34386",
   "metadata": {},
   "outputs": [
    {
     "name": "stderr",
     "output_type": "stream",
     "text": [
      "/local/shawnknabel/anaconda3/envs/astroconda/lib/python3.7/site-packages/ipykernel_launcher.py:15: RuntimeWarning: invalid value encountered in double_scalars\n",
      "  from ipykernel import kernelapp as app\n",
      "/local/shawnknabel/anaconda3/envs/astroconda/lib/python3.7/site-packages/ipykernel_launcher.py:12: RuntimeWarning: divide by zero encountered in double_scalars\n",
      "  if sys.path[0] == '':\n",
      "/local/shawnknabel/anaconda3/envs/astroconda/lib/python3.7/site-packages/ipykernel_launcher.py:6: RuntimeWarning: invalid value encountered in double_scalars\n",
      "  \n"
     ]
    },
    {
     "data": {
      "image/png": "[encoded data removed]",
      "text/plain": [
       "<Figure size 576x576 with 1 Axes>"
      ]
     },
     "metadata": {
      "needs_background": "light"
     },
     "output_type": "display_data"
    },
    {
     "data": {
      "image/png": "[encoded data removed]",
      "text/plain": [
       "<Figure size 576x576 with 1 Axes>"
      ]
     },
     "metadata": {
      "needs_background": "light"
     },
     "output_type": "display_data"
    }
   ],
   "source": [
    "# plot the V_sigma and lambda_R to ellipticities\n",
    "\n",
    "# remove 1306\n",
    "ellipticities = ellipticities[V_sigmas > 0]\n",
    "V_sigmas = V_sigmas[V_sigmas > 0]\n",
    "lambda_Rs = lambda_Rs[lambda_Rs > 0]\n",
    "\n",
    "\n",
    "epsilons = np.linspace(0.0,1.0,100)\n",
    "V_sigmas_iso = np.zeros(100)\n",
    "lambda_Rs_iso = np.zeros(100)\n",
    "\n",
    "i=0\n",
    "for epsilon in epsilons:\n",
    "    V_sigma = calc_isotropic_V_sigma(epsilon)\n",
    "    V_sigmas_iso[i] = V_sigma\n",
    "    lambda_Rs_iso[i] = calc_Vsig_to_lamR(V_sigma)\n",
    "    i = i+1\n",
    "\n",
    "\n",
    "plt.figure(figsize=(8,8))\n",
    "plt.xlim(0.0,1.0)\n",
    "plt.ylim(0.0,1.0)\n",
    "plt.plot(epsilons, V_sigmas_iso, \n",
    "         c='limegreen',linewidth=4,zorder=-1,\n",
    "        label='isotropic rotator')\n",
    "plt.plot(epsilons, 1/3 * V_sigmas_iso, \n",
    "         c='magenta',linewidth=4,zorder=-1,\n",
    "        label=r'1/3 $\\times$ isotropic')\n",
    "plt.scatter(ellipticities, V_sigmas, s=100)\n",
    "plt.xlabel(r'$\\epsilon$',fontsize=16)\n",
    "plt.ylabel(r'$V/\\sigma$',fontsize=16)\n",
    "plt.legend()\n",
    "plt.savefig(f'{data_dir}mosaics/kinematic_class_vsigma.png')\n",
    "plt.savefig(f'{data_dir}mosaics/kinematic_class_vsigma.pdf')\n",
    "\n",
    "\n",
    "plt.figure(figsize=(8,8))\n",
    "plt.xlim(0.0,1.0)\n",
    "plt.ylim(0.0,1.0)\n",
    "plt.plot(epsilons, lambda_Rs_iso, c='limegreen',linewidth=4,zorder=-1)\n",
    "plt.plot(epsilons, 1/3 * lambda_Rs_iso, c='magenta',linewidth=4,zorder=-1)\n",
    "plt.plot([0.0, 0.4],[0.08, 0.08+0.4/4],\n",
    "         linestyle='-',c='k',linewidth=4,zorder=-1)\n",
    "plt.plot([0.4, 0.4],[0.0, 0.08+0.4/4],\n",
    "         linestyle='-',c='k',linewidth=4,zorder=-1,\n",
    "        label=r'$\\lambda_R = 0.08 + \\epsilon/4$')\n",
    "plt.scatter(ellipticities, lambda_Rs, s=100)\n",
    "plt.xlabel(r'$\\epsilon$',fontsize=16)\n",
    "plt.ylabel(r'$\\lambda_R$',fontsize=16)\n",
    "plt.legend()\n",
    "plt.savefig(f'{data_dir}mosaics/kinematic_class_lambdar.png')\n",
    "plt.savefig(f'{data_dir}mosaics/kinematic_class_lambdar.pdf')"
   ]
  },
  {
   "cell_type": "code",
   "execution_count": 399,
   "id": "118b3a9e-c772-48aa-9433-3aeb42d701a2",
   "metadata": {},
   "outputs": [],
   "source": [
    "obj_names_a = np.array(obj_names)\n",
    "obj_names_a = np.delete(obj_names_a, 6)"
   ]
  },
  {
   "cell_type": "code",
   "execution_count": 400,
   "id": "b8cf6745-c668-4a4e-8c11-652b2fda7ab5",
   "metadata": {},
   "outputs": [
    {
     "data": {
      "text/plain": [
       "array(['SDSSJ0037-0942', 'SDSSJ1112+0826', 'SDSSJ1621+3931'], dtype='<U14')"
      ]
     },
     "execution_count": 400,
     "metadata": {},
     "output_type": "execute_result"
    }
   ],
   "source": [
    "obj_names_a[lambda_Rs>0.17]"
   ]
  },
  {
   "cell_type": "code",
   "execution_count": 401,
   "id": "31cd5ba8-7869-400a-80a6-30e6ece111fc",
   "metadata": {},
   "outputs": [
    {
     "data": {
      "text/plain": [
       "array([0.17331517, 0.28815748, 0.24536504])"
      ]
     },
     "execution_count": 401,
     "metadata": {},
     "output_type": "execute_result"
    }
   ],
   "source": [
    "lambda_Rs[lambda_Rs>0.17]"
   ]
  },
  {
   "cell_type": "code",
   "execution_count": 406,
   "id": "280ce1ff-1f08-46df-81ab-519dc1635dfc",
   "metadata": {},
   "outputs": [
    {
     "data": {
      "text/plain": [
       "array([0.07632716, 0.17331517, 0.09456679, 0.28815748, 0.08130972,\n",
       "       0.11906956, 0.10308334, 0.10074552, 0.07841514, 0.24536504,\n",
       "       0.0814184 , 0.10289044, 0.09459514])"
      ]
     },
     "execution_count": 406,
     "metadata": {},
     "output_type": "execute_result"
    }
   ],
   "source": [
    "lambda_Rs"
   ]
  },
  {
   "cell_type": "code",
   "execution_count": 407,
   "id": "33712d43-4650-4cf8-bce8-9fa48ebcb3fb",
   "metadata": {},
   "outputs": [
    {
     "data": {
      "text/plain": [
       "array([0.16, 0.27, 0.23, 0.23, 0.03, 0.03, 0.23, 0.32, 0.18, 0.27, 0.15,\n",
       "       0.16, 0.36])"
      ]
     },
     "execution_count": 407,
     "metadata": {},
     "output_type": "execute_result"
    }
   ],
   "source": [
    "ellipticities"
   ]
  },
  {
   "cell_type": "code",
   "execution_count": 408,
   "id": "a75eb9ae-7a84-4c4c-addd-314edcbd7237",
   "metadata": {},
   "outputs": [
    {
     "data": {
      "text/plain": [
       "['SDSSJ0029-0055',\n",
       " 'SDSSJ0037-0942',\n",
       " 'SDSSJ0330-0020',\n",
       " 'SDSSJ1112+0826',\n",
       " 'SDSSJ1204+0358',\n",
       " 'SDSSJ1250+0523',\n",
       " 'SDSSJ1306+0600',\n",
       " 'SDSSJ1402+6321',\n",
       " 'SDSSJ1531-0105',\n",
       " 'SDSSJ1538+5817',\n",
       " 'SDSSJ1621+3931',\n",
       " 'SDSSJ1627-0053',\n",
       " 'SDSSJ1630+4520',\n",
       " 'SDSSJ2303+1422']"
      ]
     },
     "execution_count": 408,
     "metadata": {},
     "output_type": "execute_result"
    }
   ],
   "source": [
    "obj_names"
   ]
  },
  {
   "cell_type": "code",
   "execution_count": 425,
   "id": "bf12184c-4f2b-4b57-880b-da641286706d",
   "metadata": {},
   "outputs": [],
   "source": [
    "# Get the SDSS sigma (not corrected)"
   ]
  },
  {
   "cell_type": "code",
   "execution_count": 501,
   "id": "cc66c456-c133-4157-9c9c-3151cfcc02eb",
   "metadata": {},
   "outputs": [
    {
     "data": {
      "text/plain": [
       "array([229., 279., 212., 320., 267., 252.,   0., 267., 279., 189., 236.,\n",
       "       290., 276., 255.])"
      ]
     },
     "execution_count": 501,
     "metadata": {},
     "output_type": "execute_result"
    }
   ],
   "source": [
    "sdss_sigmas"
   ]
  },
  {
   "cell_type": "code",
   "execution_count": 502,
   "id": "5cc60e93-eb07-4a42-9864-92bd9af1c8eb",
   "metadata": {},
   "outputs": [
    {
     "data": {
      "text/plain": [
       "array([198.86747413, 259.70153804, 230.23249854, 254.64852492,\n",
       "       247.81674385, 225.53538737,   0.        , 267.73350086,\n",
       "       253.89353351, 227.48096178, 242.30744786, 253.82298349,\n",
       "       250.10829378, 244.16335412])"
      ]
     },
     "execution_count": 502,
     "metadata": {},
     "output_type": "execute_result"
    }
   ],
   "source": [
    "VD_ap_int_rms"
   ]
  },
  {
   "cell_type": "code",
   "execution_count": 735,
   "id": "3d190b62-0f75-4b72-a51a-23827e8a2a93",
   "metadata": {},
   "outputs": [
    {
     "data": {
      "image/png": "[encoded data removed]",
      "text/plain": [
       "<Figure size 576x432 with 1 Axes>"
      ]
     },
     "metadata": {
      "needs_background": "light"
     },
     "output_type": "display_data"
    }
   ],
   "source": [
    "plt.figure()\n",
    "plt.errorbar(range(len(sdss_sigmas)), sdss_sigmas, sdss_sigmas_err, c='k', linestyle='', marker='o', label='SLACS V - Bolton et al. 2008')\n",
    "plt.errorbar(range(len(sdss_sigmas)), VD_ap_int_rms, dVD_ap_int_rms, c='b', linestyle='', marker='o', label='KCWI integrated')\n",
    "plt.ylim(150, 350)\n",
    "plt.legend()\n",
    "plt.xticks(range(14),labels=obj_names, rotation=90)\n",
    "plt.ylabel(r'$\\sigma$ km/s')\n",
    "plt.tight_layout()\n",
    "plt.savefig(f'{data_dir}mosaics/integrated_sigma_vs_slacs.png')\n",
    "plt.savefig(f'{data_dir}mosaics/integrated_sigma_vs_slacs.pdf')"
   ]
  },
  {
   "cell_type": "code",
   "execution_count": null,
   "id": "d89d503b-e88e-4e2b-a5df-c58cacaa299d",
   "metadata": {},
   "outputs": [],
   "source": [
    "# combine info for a table"
   ]
  },
  {
   "cell_type": "code",
   "execution_count": 701,
   "id": "1cf68117-eaa4-4aeb-aa2b-e9314e7ea88f",
   "metadata": {},
   "outputs": [
    {
     "data": {
      "text/plain": [
       "array([198.867, 259.702, 230.232, 254.649, 247.817, 225.535,   0.   ,\n",
       "       267.734, 253.894, 227.481, 242.307, 253.823, 250.108, 244.163])"
      ]
     },
     "execution_count": 701,
     "metadata": {},
     "output_type": "execute_result"
    }
   ],
   "source": [
    "np.set_printoptions(precision=3, suppress=True)\n",
    "\n",
    "VD_ap_int_rms"
   ]
  },
  {
   "cell_type": "code",
   "execution_count": 719,
   "id": "b9db50fa-ab41-42b3-a787-df42cd4f5b8e",
   "metadata": {},
   "outputs": [
    {
     "data": {
      "text/plain": [
       "array([['SDSSJ0029-0055', 198.86747412652772, 11.46274774985346, 229.0,\n",
       "        18.0, 0.16000000000000003, 0.08669798767413832,\n",
       "        0.07632715616995177],\n",
       "       ['SDSSJ0037-0942', 259.7015380395355, 11.235663679719762, 279.0,\n",
       "        14.0, 0.27, 0.16955990794694847, 0.1733151712914474],\n",
       "       ['SDSSJ0330-0020', 230.23249853924523, 14.272318113506207, 212.0,\n",
       "        21.0, 0.22999999999999998, 0.10543844217359387,\n",
       "        0.09456679247272802],\n",
       "       ['SDSSJ1112+0826', 254.64852491526423, 8.250351328573116, 320.0,\n",
       "        20.0, 0.22999999999999998, 0.2929574439089646,\n",
       "        0.2881574777918898],\n",
       "       ['SDSSJ1204+0358', 247.81674385019087, 9.974726996339308, 267.0,\n",
       "        17.0, 0.030000000000000027, 0.0911698900564608,\n",
       "        0.08130971729170512],\n",
       "       ['SDSSJ1250+0523', 225.53538736574677, 9.504948538924564, 252.0,\n",
       "        14.0, 0.030000000000000027, 0.12276946568511085,\n",
       "        0.11906956000831669],\n",
       "       ['SDSSJ1306+0600', 0.0, 0.0, 0.0, 0.0, 0.0, 0.0, 0.0],\n",
       "       ['SDSSJ1402+6321', 267.7335008625535, 11.650855790859492, 267.0,\n",
       "        17.0, 0.22999999999999998, 0.10226731932279852,\n",
       "        0.10308334485940011],\n",
       "       ['SDSSJ1531-0105', 253.89353350657575, 22.351964048179074, 279.0,\n",
       "        14.0, 0.31999999999999995, 0.09940495806912275,\n",
       "        0.1007455246899763],\n",
       "       ['SDSSJ1538+5817', 227.4809617804418, 16.161216135132037, 189.0,\n",
       "        12.0, 0.18000000000000005, 0.08641610598373377,\n",
       "        0.07841513918334932],\n",
       "       ['SDSSJ1621+3931', 242.30744786439598, 14.518656334112398, 236.0,\n",
       "        20.0, 0.27, 0.2382297347422731, 0.24536503555435019],\n",
       "       ['SDSSJ1627-0053', 253.82298348954075, 21.007202876852144, 290.0,\n",
       "        15.0, 0.15000000000000002, 0.09172445632847834,\n",
       "        0.08141840376314007],\n",
       "       ['SDSSJ1630+4520', 250.1082937772511, 11.719673684558222, 276.0,\n",
       "        16.0, 0.16000000000000003, 0.1018868969157978,\n",
       "        0.10289043518423382],\n",
       "       ['SDSSJ2303+1422', 244.1633541230143, 22.51184420722884, 255.0,\n",
       "        16.0, 0.36, 0.09912803317138999, 0.09459514160251391]],\n",
       "      dtype=object)"
      ]
     },
     "execution_count": 719,
     "metadata": {},
     "output_type": "execute_result"
    }
   ],
   "source": [
    "table = np.vstack((VD_ap_int_rms, dVD_ap_int_rms, sdss_sigmas, sdss_sigmas_err, ellipticities, V_sigmas, lambda_Rs))\n",
    "df = pd.DataFrame(table.T)\n",
    "df.insert(0, 'obj_names', obj_names, True)\n",
    "df.to_numpy()"
   ]
  },
  {
   "cell_type": "code",
   "execution_count": 725,
   "id": "bea46d59-1190-4ce3-bcd7-fa98acc4b5a2",
   "metadata": {},
   "outputs": [],
   "source": [
    "def bmatrix(a, b):\n",
    "    \"\"\"Returns a LaTeX bmatrix\n",
    "\n",
    "    :a: numpy array\n",
    "    :returns: LaTeX bmatrix as a string\n",
    "    \"\"\"\n",
    "    if len(a.shape) > 2:\n",
    "        raise ValueError('bmatrix can at most display two dimensions')\n",
    "    lines = str(a).replace('[', '').replace(']', '').splitlines()\n",
    "    rv = [r'\\begin{bmatrix}']\n",
    "    rv += [b[i] + ' & ' + ' & '.join(lines[i].split()) + r'\\\\' for i in range(len(lines))]\n",
    "    rv +=  [r'\\end{bmatrix}']\n",
    "    return '\\n'.join(rv)"
   ]
  },
  {
   "cell_type": "code",
   "execution_count": 726,
   "id": "4a72e9fc-7eec-4c51-8923-74acf2f4a177",
   "metadata": {},
   "outputs": [
    {
     "name": "stdout",
     "output_type": "stream",
     "text": [
      "\\begin{bmatrix}\n",
      "SDSSJ0029-0055 & 198.867 & 11.463 & 229. & 18. & 0.16 & 0.087 & 0.076\\\\\n",
      "SDSSJ0037-0942 & 259.702 & 11.236 & 279. & 14. & 0.27 & 0.17 & 0.173\\\\\n",
      "SDSSJ0330-0020 & 230.232 & 14.272 & 212. & 21. & 0.23 & 0.105 & 0.095\\\\\n",
      "SDSSJ1112+0826 & 254.649 & 8.25 & 320. & 20. & 0.23 & 0.293 & 0.288\\\\\n",
      "SDSSJ1204+0358 & 247.817 & 9.975 & 267. & 17. & 0.03 & 0.091 & 0.081\\\\\n",
      "SDSSJ1250+0523 & 225.535 & 9.505 & 252. & 14. & 0.03 & 0.123 & 0.119\\\\\n",
      "SDSSJ1306+0600 & 0. & 0. & 0. & 0. & 0. & 0. & 0.\\\\\n",
      "SDSSJ1402+6321 & 267.734 & 11.651 & 267. & 17. & 0.23 & 0.102 & 0.103\\\\\n",
      "SDSSJ1531-0105 & 253.894 & 22.352 & 279. & 14. & 0.32 & 0.099 & 0.101\\\\\n",
      "SDSSJ1538+5817 & 227.481 & 16.161 & 189. & 12. & 0.18 & 0.086 & 0.078\\\\\n",
      "SDSSJ1621+3931 & 242.307 & 14.519 & 236. & 20. & 0.27 & 0.238 & 0.245\\\\\n",
      "SDSSJ1627-0053 & 253.823 & 21.007 & 290. & 15. & 0.15 & 0.092 & 0.081\\\\\n",
      "SDSSJ1630+4520 & 250.108 & 11.72 & 276. & 16. & 0.16 & 0.102 & 0.103\\\\\n",
      "SDSSJ2303+1422 & 244.163 & 22.512 & 255. & 16. & 0.36 & 0.099 & 0.095\\\\\n",
      "\\end{bmatrix}\n"
     ]
    }
   ],
   "source": [
    "print(bmatrix(table.T, obj_names))"
   ]
  },
  {
   "cell_type": "code",
   "execution_count": 706,
   "id": "909d7aad-fb13-4e04-aa7c-185cde6fd043",
   "metadata": {},
   "outputs": [
    {
     "data": {
      "text/plain": [
       "['SDSSJ0029-0055',\n",
       " 'SDSSJ0037-0942',\n",
       " 'SDSSJ0330-0020',\n",
       " 'SDSSJ1112+0826',\n",
       " 'SDSSJ1204+0358',\n",
       " 'SDSSJ1250+0523',\n",
       " 'SDSSJ1306+0600',\n",
       " 'SDSSJ1402+6321',\n",
       " 'SDSSJ1531-0105',\n",
       " 'SDSSJ1538+5817',\n",
       " 'SDSSJ1621+3931',\n",
       " 'SDSSJ1627-0053',\n",
       " 'SDSSJ1630+4520',\n",
       " 'SDSSJ2303+1422']"
      ]
     },
     "execution_count": 706,
     "metadata": {},
     "output_type": "execute_result"
    }
   ],
   "source": [
    "obj_names"
   ]
  },
  {
   "cell_type": "code",
   "execution_count": 715,
   "id": "397ff486-3eab-4a5f-8629-e34ba2f708d2",
   "metadata": {},
   "outputs": [],
   "source": [
    "ellipticities = np.insert(ellipticities, 6, 0)\n"
   ]
  },
  {
   "cell_type": "code",
   "execution_count": 721,
   "id": "99657513-9fe1-47f3-b86d-162b6171e81c",
   "metadata": {},
   "outputs": [
    {
     "data": {
      "text/plain": [
       "array([0.16, 0.27, 0.23, 0.23, 0.03, 0.03, 0.  , 0.23, 0.32, 0.18, 0.27,\n",
       "       0.15, 0.16, 0.36])"
      ]
     },
     "execution_count": 721,
     "metadata": {},
     "output_type": "execute_result"
    }
   ],
   "source": [
    "ellipticities"
   ]
  },
  {
   "cell_type": "code",
   "execution_count": 730,
   "id": "3e3497c0-83bb-4cbe-b8ee-5a23f3e717e8",
   "metadata": {},
   "outputs": [
    {
     "name": "stdout",
     "output_type": "stream",
     "text": [
      "SDSSJ0029-0055\n",
      "\n",
      "SDSSJ0037-0942\n",
      "\n",
      "SDSSJ0330-0020\n",
      "\n",
      "SDSSJ1112+0826\n",
      "\n",
      "SDSSJ1204+0358\n",
      "\n",
      "SDSSJ1250+0523\n",
      "\n",
      "SDSSJ1306+0600\n",
      "\n",
      "SDSSJ1402+6321\n",
      "\n",
      "SDSSJ1531-0105\n",
      "\n",
      "SDSSJ1538+5817\n",
      "\n",
      "SDSSJ1621+3931\n",
      "\n",
      "SDSSJ1627-0053\n",
      "\n",
      "SDSSJ1630+4520\n",
      "\n",
      "SDSSJ2303+1422\n",
      "\n"
     ]
    },
    {
     "name": "stderr",
     "output_type": "stream",
     "text": [
      "/local/shawnknabel/anaconda3/envs/astroconda/lib/python3.7/site-packages/ipykernel_launcher.py:15: RuntimeWarning: invalid value encountered in double_scalars\n",
      "  from ipykernel import kernelapp as app\n"
     ]
    }
   ],
   "source": [
    "# classification according to the Cappellari paper\n",
    "\n",
    "V_sig_class = np.empty(14, dtype=str)\n",
    "lam_R_class = np.empty(14, dtype=str)\n",
    "\n",
    "for i in range(14):\n",
    "    \n",
    "    print(obj_names[i])\n",
    "    \n",
    "    V_sig = V_sigmas[i]\n",
    "    lam_R = lambda_Rs[i]\n",
    "    ellip = ellipticities[i]\n",
    "    \n",
    "    V_sig_bound = calc_isotropic_V_sigma(ellip) / 3\n",
    "    lam_R_bound = 0.08 + ellip/4\n",
    "    \n",
    "    if (V_sig < V_sig_bound):\n",
    "        V_sig_class[i] = 'slow'\n",
    "    elif (V_sig > V_sig_bound):\n",
    "        V_sig_class[i] = 'fast'\n",
    "    \n",
    "    if (lam_R < lam_R_bound):\n",
    "        lam_R_class[i] = 'slow'\n",
    "    elif (lam_R > lam_R_bound):\n",
    "        lam_R_class[i] = 'fast'\n",
    "    \n",
    "    print()"
   ]
  },
  {
   "cell_type": "code",
   "execution_count": 731,
   "id": "674e6b69-4605-4e10-8414-e4b6f25941a8",
   "metadata": {},
   "outputs": [
    {
     "data": {
      "text/plain": [
       "array(['s', 'f', 's', 'f', 'f', 'f', '', 's', 's', 's', 'f', 's', 's',\n",
       "       's'], dtype='<U1')"
      ]
     },
     "execution_count": 731,
     "metadata": {},
     "output_type": "execute_result"
    }
   ],
   "source": [
    "V_sig_class"
   ]
  },
  {
   "cell_type": "code",
   "execution_count": 732,
   "id": "98b9b7df-5aac-481c-a4c7-655df03b9dd6",
   "metadata": {},
   "outputs": [
    {
     "data": {
      "text/plain": [
       "array(['s', 'f', 's', 'f', 's', 'f', 's', 's', 's', 's', 'f', 's', 's',\n",
       "       's'], dtype='<U1')"
      ]
     },
     "execution_count": 732,
     "metadata": {},
     "output_type": "execute_result"
    }
   ],
   "source": [
    "lam_R_class"
   ]
  },
  {
   "cell_type": "code",
   "execution_count": 733,
   "id": "119ee530-ebc2-4c44-88ce-08b0321e7e2b",
   "metadata": {},
   "outputs": [],
   "source": [
    "def bmatrix(a, b, c, d):\n",
    "    \"\"\"Returns a LaTeX bmatrix\n",
    "\n",
    "    :a: numpy array\n",
    "    :returns: LaTeX bmatrix as a string\n",
    "    \"\"\"\n",
    "    if len(a.shape) > 2:\n",
    "        raise ValueError('bmatrix can at most display two dimensions')\n",
    "    lines = str(a).replace('[', '').replace(']', '').splitlines()\n",
    "    rv = [r'\\begin{bmatrix}']\n",
    "    rv += [b[i] + ' & ' + ' & '.join(lines[i].split()) + ' & ' + c[i] + ' & ' + d[i] + r'\\\\' for i in range(len(lines))]\n",
    "    rv +=  [r'\\end{bmatrix}']\n",
    "    return '\\n'.join(rv)"
   ]
  },
  {
   "cell_type": "code",
   "execution_count": 734,
   "id": "9c2460a1-898d-4818-9924-9dc2c46e55a2",
   "metadata": {},
   "outputs": [
    {
     "name": "stdout",
     "output_type": "stream",
     "text": [
      "\\begin{bmatrix}\n",
      "SDSSJ0029-0055 & 198.867 & 11.463 & 229. & 18. & 0.16 & 0.087 & 0.076 & s & s\\\\\n",
      "SDSSJ0037-0942 & 259.702 & 11.236 & 279. & 14. & 0.27 & 0.17 & 0.173 & f & f\\\\\n",
      "SDSSJ0330-0020 & 230.232 & 14.272 & 212. & 21. & 0.23 & 0.105 & 0.095 & s & s\\\\\n",
      "SDSSJ1112+0826 & 254.649 & 8.25 & 320. & 20. & 0.23 & 0.293 & 0.288 & f & f\\\\\n",
      "SDSSJ1204+0358 & 247.817 & 9.975 & 267. & 17. & 0.03 & 0.091 & 0.081 & f & s\\\\\n",
      "SDSSJ1250+0523 & 225.535 & 9.505 & 252. & 14. & 0.03 & 0.123 & 0.119 & f & f\\\\\n",
      "SDSSJ1306+0600 & 0. & 0. & 0. & 0. & 0. & 0. & 0. &  & s\\\\\n",
      "SDSSJ1402+6321 & 267.734 & 11.651 & 267. & 17. & 0.23 & 0.102 & 0.103 & s & s\\\\\n",
      "SDSSJ1531-0105 & 253.894 & 22.352 & 279. & 14. & 0.32 & 0.099 & 0.101 & s & s\\\\\n",
      "SDSSJ1538+5817 & 227.481 & 16.161 & 189. & 12. & 0.18 & 0.086 & 0.078 & s & s\\\\\n",
      "SDSSJ1621+3931 & 242.307 & 14.519 & 236. & 20. & 0.27 & 0.238 & 0.245 & f & f\\\\\n",
      "SDSSJ1627-0053 & 253.823 & 21.007 & 290. & 15. & 0.15 & 0.092 & 0.081 & s & s\\\\\n",
      "SDSSJ1630+4520 & 250.108 & 11.72 & 276. & 16. & 0.16 & 0.102 & 0.103 & s & s\\\\\n",
      "SDSSJ2303+1422 & 244.163 & 22.512 & 255. & 16. & 0.36 & 0.099 & 0.095 & s & s\\\\\n",
      "\\end{bmatrix}\n"
     ]
    }
   ],
   "source": [
    "print(bmatrix(table.T, obj_names, V_sig_class, lam_R_class))"
   ]
  },
  {
   "cell_type": "code",
   "execution_count": 738,
   "id": "0c3c0e27-c3ae-4020-991e-a7da3b556935",
   "metadata": {},
   "outputs": [],
   "source": [
    "# plot fast and slow on the vsig and lamr plots"
   ]
  },
  {
   "cell_type": "code",
   "execution_count": 742,
   "id": "97c239be-e26a-41c1-9d6f-6a40ce608341",
   "metadata": {},
   "outputs": [],
   "source": [
    "slow1 = V_sig_class == 's'\n",
    "fast1 = V_sig_class == 'f'\n",
    "slow2 = lam_R_class == 's'\n",
    "fast2 = lam_R_class == 'f'\n",
    "\n",
    "eps_slow1 = ellipticities[slow1]\n",
    "V_sigmas_slow = V_sigmas[slow1]\n",
    "eps_fast1 = ellipticities[fast1]\n",
    "V_sigmas_fast = V_sigmas[fast1]\n",
    "\n",
    "eps_slow2 = ellipticities[slow2]\n",
    "lambda_Rs_slow = lambda_Rs[slow2]\n",
    "eps_fast2 = ellipticities[fast2]\n",
    "lambda_Rs_fast = lambda_Rs[fast2]"
   ]
  },
  {
   "cell_type": "code",
   "execution_count": 753,
   "id": "e29ac13e-a194-4b65-acd9-e5e2a22c6943",
   "metadata": {},
   "outputs": [
    {
     "data": {
      "image/png": "[encoded data removed]",
      "text/plain": [
       "<Figure size 576x576 with 1 Axes>"
      ]
     },
     "metadata": {
      "needs_background": "light"
     },
     "output_type": "display_data"
    },
    {
     "data": {
      "image/png": "[encoded data removed]",
      "text/plain": [
       "<Figure size 576x576 with 1 Axes>"
      ]
     },
     "metadata": {
      "needs_background": "light"
     },
     "output_type": "display_data"
    }
   ],
   "source": [
    "# plot the V_sigma and lambda_R to ellipticities\n",
    "\n",
    "plt.figure(figsize=(8,8))\n",
    "plt.xlim(0.0,1.0)\n",
    "plt.ylim(0.0,1.0)\n",
    "plt.plot(epsilons, V_sigmas_iso, \n",
    "         c='limegreen',linewidth=4,zorder=-1,\n",
    "        label='isotropic rotator')\n",
    "plt.plot(epsilons, 1/3 * V_sigmas_iso, \n",
    "         c='magenta',linewidth=4,zorder=-1,\n",
    "        label=r'1/3 $\\times$ isotropic')\n",
    "plt.scatter(eps_slow1, V_sigmas_slow, s=150, c='r', label='slow rotator')\n",
    "plt.scatter(eps_fast1, V_sigmas_fast, s=200, c='b', marker='$\\Phi$', label='fast rotator')\n",
    "plt.xlabel(r'$\\epsilon$',fontsize=16)\n",
    "plt.ylabel(r'$V/\\sigma$',fontsize=16)\n",
    "plt.legend()\n",
    "plt.savefig(f'{data_dir}mosaics/kinematic_class_vsigma.png')\n",
    "plt.savefig(f'{data_dir}mosaics/kinematic_class_vsigma.pdf')\n",
    "\n",
    "\n",
    "plt.figure(figsize=(8,8))\n",
    "plt.xlim(0.0,1.0)\n",
    "plt.ylim(0.0,1.0)\n",
    "plt.plot(epsilons, lambda_Rs_iso, c='limegreen',linewidth=4,zorder=-1)\n",
    "plt.plot(epsilons, 1/3 * lambda_Rs_iso, c='magenta',linewidth=4,zorder=-1)\n",
    "plt.plot([0.0, 0.4],[0.08, 0.08+0.4/4],\n",
    "         linestyle='-',c='k',linewidth=4,zorder=-1)\n",
    "plt.plot([0.4, 0.4],[0.0, 0.08+0.4/4],\n",
    "         linestyle='-',c='k',linewidth=4,zorder=-1,\n",
    "        label=r'$\\lambda_R = 0.08 + \\epsilon/4$')\n",
    "plt.scatter(eps_slow2, lambda_Rs_slow, s=150, c='r', label='slow rotator')\n",
    "plt.scatter(eps_fast2, lambda_Rs_fast, s=200, c='b', marker='$\\Ellipse$', label='fast rotator')\n",
    "plt.xlabel(r'$\\epsilon$',fontsize=16)\n",
    "plt.ylabel(r'$\\lambda_R$',fontsize=16)\n",
    "plt.legend()\n",
    "plt.savefig(f'{data_dir}mosaics/kinematic_class_lambdar.png')\n",
    "plt.savefig(f'{data_dir}mosaics/kinematic_class_lambdar.pdf')"
   ]
  },
  {
   "cell_type": "code",
   "execution_count": null,
   "id": "302217b7-4029-4995-9f50-29fc5ed8e95a",
   "metadata": {},
   "outputs": [],
   "source": []
  }
 ],
 "metadata": {
  "kernelspec": {
   "display_name": "Python 3 (ipykernel)",
   "language": "python",
   "name": "python3"
  },
  "language_info": {
   "codemirror_mode": {
    "name": "ipython",
    "version": 3
   },
   "file_extension": ".py",
   "mimetype": "text/x-python",
   "name": "python",
   "nbconvert_exporter": "python",
   "pygments_lexer": "ipython3",
   "version": "3.7.13"
  }
 },
 "nbformat": 4,
 "nbformat_minor": 5
}
