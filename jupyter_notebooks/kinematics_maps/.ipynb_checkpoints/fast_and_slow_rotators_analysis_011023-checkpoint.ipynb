{
 "cells": [
  {
   "cell_type": "markdown",
   "metadata": {},
   "source": [
    "# 01/10/23 - Cleaning up the notebook.\n",
    "# 12/13/22 - Kinematic analysis of SLACS lenses for KCWI data paper. Looking at the fast/slow rotator classification calculations, integrated velocity dispersions, etc."
   ]
  },
  {
   "cell_type": "code",
   "execution_count": 1,
   "metadata": {},
   "outputs": [],
   "source": [
    "import numpy as np\n",
    "import matplotlib.pyplot as plt\n",
    "plt.rcParams.update({'font.size': 14})\n",
    "plt.rcParams.update({\"figure.figsize\" : (8, 6)})\n",
    "from astropy.io import fits\n",
    "import pandas as pd\n",
    "\n",
    "# data directory\n",
    "data_dir = '/data/raw_data/KECK_KCWI_SLACS_kinematics_shawn/'\n",
    "#################################################\n",
    "# objects\n",
    "obj_names = ['SDSSJ0029-0055',\n",
    "             'SDSSJ0037-0942',\n",
    "             'SDSSJ0330-0020',\n",
    "             'SDSSJ1112+0826',\n",
    "             'SDSSJ1204+0358',\n",
    "             'SDSSJ1250+0523',\n",
    "             'SDSSJ1306+0600',\n",
    "             'SDSSJ1402+6321',\n",
    "             'SDSSJ1531-0105',\n",
    "             'SDSSJ1538+5817',\n",
    "             'SDSSJ1621+3931',\n",
    "             'SDSSJ1627-0053',\n",
    "             'SDSSJ1630+4520',\n",
    "             'SDSSJ2303+1422'\n",
    "            ]"
   ]
  },
  {
   "cell_type": "markdown",
   "metadata": {},
   "source": [
    "# Bring in SLACS data from table."
   ]
  },
  {
   "cell_type": "code",
   "execution_count": 4,
   "metadata": {},
   "outputs": [],
   "source": [
    "slacs_data = np.genfromtxt(f'{data_dir}slacs_tableA1.txt', delimiter='', dtype='U10')\n",
    "slacs_qs = slacs_data[:,9].astype(float)\n",
    "slacs_reffs = slacs_data[:,7].astype(float)\n",
    "slacs_morphologies = slacs_data[:,15].astype(str)\n",
    "slacs_sigmas = slacs_data[:,11].astype(float)\n",
    "slacs_sigmas_err = slacs_data[:,12].astype(float)\n",
    "\n",
    "ellipticities = np.empty(len(obj_names))\n",
    "reffs = np.empty(len(obj_names))\n",
    "morphologies = np.empty(len(obj_names), dtype=str)\n",
    "sdss_sigmas = np.empty(len(obj_names))\n",
    "sdss_sigmas_err = np.empty(len(obj_names))\n",
    "\n",
    "for i in range(len(obj_names)):\n",
    "    name = obj_names[i]\n",
    "    name = name[4:]\n",
    "    if name == 'J1306+0600':\n",
    "        ellipticities[i] = 1 - 0.909 # These values from Shajib 2020\n",
    "        reffs[i] = 2.30\n",
    "        morphologies[i] = ''\n",
    "        sdss_sigmas[i] = 0\n",
    "        sdss_sigmas_err[i] = 0\n",
    "    else:\n",
    "        q = slacs_qs[slacs_data[:,0]==name]\n",
    "        ellipticities[i] = 1 - q[0]\n",
    "        reffs[i] = slacs_reffs[slacs_data[:,0]==name]\n",
    "        morphologies[i] = slacs_morphologies[slacs_data[:,0]==name][0]\n",
    "        sdss_sigmas[i] = slacs_sigmas[slacs_data[:,0]==name]\n",
    "        sdss_sigmas_err[i] = slacs_sigmas_err[slacs_data[:,0]==name]"
   ]
  },
  {
   "cell_type": "code",
   "execution_count": 5,
   "metadata": {},
   "outputs": [],
   "source": [
    "def calc_V_sigma_squared (delta, omega, alpha):\n",
    "    \n",
    "    numerator = (1-delta) * omega - 1\n",
    "    denominator = alpha * (1-delta) * omega + 1\n",
    "    \n",
    "    V_sigma_sq = numerator/denominator\n",
    "    \n",
    "    return V_sigma_sq\n",
    "\n",
    "def calc_omega (e):\n",
    "    \n",
    "    numerator = np.arcsin(e)/np.sqrt(1-e**2) - e\n",
    "    denominator = e - np.arcsin(e) * np.sqrt(1-e**2)\n",
    "    \n",
    "    omega = 0.5 * numerator/denominator\n",
    "    \n",
    "    return omega\n",
    "\n",
    "def calc_e (epsilon):\n",
    "    \n",
    "    e = np.sqrt( 1 - (1 - epsilon)**2 )\n",
    "    \n",
    "    return e\n",
    "\n",
    "def calc_isotropic_V_sigma (epsilon):\n",
    "    \n",
    "    # isotropic delta = 0\n",
    "    delta = 0\n",
    "    # alpha empirically = 0.15\n",
    "    alpha = 0.15\n",
    "    \n",
    "    # calculations\n",
    "    e = calc_e(epsilon)\n",
    "    omega = calc_omega(e)\n",
    "    V_sigma_squared = calc_V_sigma_squared(delta, omega, alpha)\n",
    "    V_sigma_iso = np.sqrt(V_sigma_squared)\n",
    "    \n",
    "    return(V_sigma_iso)"
   ]
  },
  {
   "cell_type": "code",
   "execution_count": 6,
   "metadata": {},
   "outputs": [
    {
     "name": "stderr",
     "output_type": "stream",
     "text": [
      "/usr/local/anaconda3/lib/python3.7/site-packages/ipykernel_launcher.py:15: RuntimeWarning: invalid value encountered in double_scalars\n",
      "  from ipykernel import kernelapp as app\n",
      "/usr/local/anaconda3/lib/python3.7/site-packages/ipykernel_launcher.py:12: RuntimeWarning: divide by zero encountered in double_scalars\n",
      "  if sys.path[0] == '':\n",
      "/usr/local/anaconda3/lib/python3.7/site-packages/ipykernel_launcher.py:6: RuntimeWarning: invalid value encountered in double_scalars\n",
      "  \n"
     ]
    },
    {
     "data": {
      "text/plain": [
       "[<matplotlib.lines.Line2D at 0x7ff6e86fddd8>]"
      ]
     },
     "execution_count": 6,
     "metadata": {},
     "output_type": "execute_result"
    },
    {
     "data": {
      "image/png": "[encoded data removed]",
      "text/plain": [
       "<Figure size 576x576 with 1 Axes>"
      ]
     },
     "metadata": {
      "needs_background": "light"
     },
     "output_type": "display_data"
    }
   ],
   "source": [
    "epsilons = np.linspace(0,1,100)\n",
    "V_sigmas = np.zeros(100)\n",
    "\n",
    "i=0\n",
    "for epsilon in epsilons:\n",
    "    V_sigma = calc_isotropic_V_sigma(epsilon)\n",
    "    V_sigmas[i] = V_sigma\n",
    "    i = i+1\n",
    "\n",
    "plt.figure(figsize=(8,8))\n",
    "plt.xlim(0.0,1.0)\n",
    "plt.ylim(0.0,1.0)\n",
    "plt.plot(epsilons, V_sigmas)\n",
    "plt.plot(epsilons, 1/3 * V_sigmas)"
   ]
  },
  {
   "cell_type": "code",
   "execution_count": 7,
   "metadata": {},
   "outputs": [],
   "source": [
    "# Define function to calculate luminosity weights for rebinning from Voronoi bins to shells\n",
    "### In this case, the shell will justbe the effective radius (shells = [1])\n",
    "\n",
    "def calc_luminosity_weights_in_shells (bin_arrays, num_bins, bin_luminosities, pixel_luminosities, shells, reff):\n",
    "    \n",
    "    # create array with each bin and len num_bins\n",
    "    luminosity_weights = np.zeros((num_bins, len(shells)))\n",
    "    \n",
    "    for i in range(num_bins):\n",
    "        # pixels in this bin, take x and y coordinates\n",
    "        in_bin = bin_arrays[:,2]==i\n",
    "        bin_pixels = bin_arrays[in_bin]\n",
    "        bin_xx = bin_pixels[:,0] - 21 # subtract 21 pixels, center don't know which is x and which is y, but doesn't matter for R\n",
    "        bin_yy = bin_pixels[:,1] - 21\n",
    "        # luminosity of bin and of pixels in bin\n",
    "        bin_luminosity = bin_luminosities[i]\n",
    "        bin_pixels_lum = pixel_luminosities[in_bin]\n",
    "        #print(bin_luminosity, np.sum(bin_pixels_lum))\n",
    "        # calculate radius of each pixel in the bin\n",
    "        bin_R = np.zeros(len(bin_pixels))\n",
    "        for j in range(len(bin_pixels)):\n",
    "            bin_R[j] = np.sqrt(bin_xx[j]**2 + bin_yy[j]**2)*0.1457 # arcsec\n",
    "        # calculate fraction of these pixels in each shell\n",
    "        for k in range(len(shells)):\n",
    "            inner_shell = shells[k]\n",
    "            if k == len(shells) - 1:\n",
    "                outer_shell = 10 # everything extending to the farthest pixel\n",
    "            else:\n",
    "                outer_shell = shells[k+1]\n",
    "            in_shell = (bin_R >= inner_shell*reff) & (bin_R <= outer_shell*reff)\n",
    "            # weight pixels by fractional luminosity of total bin\n",
    "            bin_luminosity_in_shell = np.sum(bin_pixels_lum[in_shell])#/bin_luminosity\n",
    "            luminosity_weights[i,k] = bin_luminosity_in_shell\n",
    "        \n",
    "    return luminosity_weights"
   ]
  },
  {
   "cell_type": "code",
   "execution_count": 8,
   "metadata": {},
   "outputs": [],
   "source": [
    "def lum_weight_bin (V, VD, dVD, lum):\n",
    "    \n",
    "    bin_weighted_V_sq = lum * V**2\n",
    "    bin_weighted_VD_sq = lum * VD**2\n",
    "    bin_weighted_dVD_sq = lum * 2 * VD * dVD\n",
    "\n",
    "    return bin_weighted_V_sq, bin_weighted_VD_sq, bin_weighted_dVD_sq\n",
    "\n",
    "def lum_weight_V_sigma (V_array, VD_array, dVD_array, lum_array):\n",
    "    \n",
    "    assert (len(V_array)==len(VD_array)) & (len(V_array)==len(lum_array)) & (len(V_array)==len(dVD_array))\n",
    "    \n",
    "    V_sq = 0\n",
    "    VD_sq = 0\n",
    "    dVD_sq = 0\n",
    "    \n",
    "    for i in range(len(V_array)):\n",
    "        bin_V_sq, bin_VD_sq, bin_dVD_sq = lum_weight_bin(V_array[i], VD_array[i], dVD_array[i], lum_array[i])\n",
    "        V_sq += bin_V_sq\n",
    "        VD_sq += bin_VD_sq\n",
    "        dVD_sq += bin_dVD_sq\n",
    "    \n",
    "    V_sigma_sq = V_sq/VD_sq\n",
    "    V_sigma = np.sqrt(V_sigma_sq)\n",
    "    \n",
    "    VD_integrated_rms = np.sqrt(VD_sq/np.sum(lum_array))\n",
    "\n",
    "    dVD_int_rms = dVD_sq / (2 * np.sqrt(np.sum(lum_array) * VD_sq))\n",
    "    \n",
    "    return(V_sigma, VD_integrated_rms, dVD_int_rms) # this is integrated out to the edge of my data right now\n",
    "        "
   ]
  },
  {
   "cell_type": "code",
   "execution_count": 9,
   "metadata": {},
   "outputs": [],
   "source": [
    "# Now let's do the lambda_R calculation\n",
    "\n",
    "\n",
    "def calc_lambda_R (V_array, VD_array, R_array, lum_array):\n",
    "    \n",
    "    assert (len(V_array)==len(VD_array)) & (len(V_array)==len(lum_array)) & (len(V_array)==len(R_array))\n",
    "    \n",
    "    numerator = 0\n",
    "    denominator = 0\n",
    "    \n",
    "    for i in range(len(V_array)):\n",
    "        V = V_array[i]\n",
    "        VD = VD_array[i]\n",
    "        lum = lum_array[i]\n",
    "        R = R_array[i]\n",
    "        \n",
    "        \n",
    "        num = lum * R * np.abs(V)\n",
    "        den = lum * R * np.sqrt(V**2 + VD**2)\n",
    "        \n",
    "        numerator += num\n",
    "        denominator += den\n",
    "        \n",
    "    lambda_R = numerator / denominator\n",
    "    \n",
    "    return lambda_R\n"
   ]
  },
  {
   "cell_type": "code",
   "execution_count": 23,
   "metadata": {},
   "outputs": [],
   "source": [
    "def calc_Vsig_to_lamR (V_sigma):\n",
    "    k = 1.1\n",
    "    numerator = k * V_sigma\n",
    "    denominator = np.sqrt(1 + k**2 * V_sigma**2)\n",
    "    lamR = numerator/denominator\n",
    "    return lamR"
   ]
  },
  {
   "cell_type": "code",
   "execution_count": 12,
   "metadata": {},
   "outputs": [],
   "source": [
    "def calc_R (bin_arrays, num_bins):\n",
    "    \n",
    "    bin_R_means = np.zeros(num_bins)\n",
    "    \n",
    "    for i in range(num_bins):\n",
    "        bin_pixels = bin_arrays[bin_arrays[:,2]==i]\n",
    "        bin_xx = bin_pixels[:,0] - 21 # subtract 21 pixels, center don't know which is x and which is y, but doesn't matter for R\n",
    "        bin_yy = bin_pixels[:,1] - 21\n",
    "        bin_R = np.zeros(len(bin_pixels))\n",
    "        for j in range(len(bin_pixels)):\n",
    "            bin_R[j] = np.sqrt(bin_xx[j]**2 + bin_yy[j]**2)\n",
    "        bin_R_means[i] = np.mean(bin_R)*0.1457\n",
    "        \n",
    "    return bin_R_means\n",
    "            "
   ]
  },
  {
   "cell_type": "code",
   "execution_count": 13,
   "metadata": {},
   "outputs": [],
   "source": [
    "# Define function to assign velocities to each pixel from their Voronoi bin, taking only those within the effective radius\n",
    "\n",
    "def calc_aperture_velocities_from_lum_weight_pixels (bin_arrays, V_array, VD_array, dVD_array, pixel_luminosities, reff):\n",
    "    \n",
    "    # normalize pixel luminosities\n",
    "    normalized_pixel_luminosities = pixel_luminosities/np.sum(pixel_luminosities)\n",
    "    \n",
    "    # create array for velocity of each pixel\n",
    "    pixel_Vs = np.zeros(len(pixel_luminosities))\n",
    "    pixel_VDs = np.zeros(len(pixel_luminosities))\n",
    "    pixel_dVDs = np.zeros(len(pixel_luminosities))\n",
    "    velocity_in_aperture = 0\n",
    "    \n",
    "    for i in range(num_bins):\n",
    "        # pixels in this bin\n",
    "        in_bin = bin_arrays[:,2]==i\n",
    "        bin_pixels = bin_arrays[in_bin]\n",
    "        # add velocity to the weighted_pixel_velocities\n",
    "        pixel_Vs[in_bin] = V_array[i]\n",
    "        pixel_VDs[in_bin] = VD_array[i]\n",
    "        pixel_dVDs[in_bin] = dVD_array[i]       \n",
    "        \n",
    "    # get radius of pixels\n",
    "    pixel_xx = bin_arrays[:,0] - 21 # subtract 21 pixels, center don't know which is x and which is y, but doesn't matter for R\n",
    "    pixel_yy = bin_arrays[:,1] - 21\n",
    "    # calculate radius of each pixel\n",
    "    pixel_radii = np.sqrt(pixel_xx**2 + pixel_yy**2)*0.1457 # arcsec\n",
    "    # if they are in the effective radius\n",
    "    in_aperture = (pixel_radii <= reff)\n",
    "    \n",
    "    # weight squared pixel velocities by pixel luminosity\n",
    "    lum_weighted_pixel_Vs_sq = pixel_Vs**2 * normalized_pixel_luminosities\n",
    "    lum_weighted_pixel_VDs_sq = pixel_VDs**2 * normalized_pixel_luminosities\n",
    "    lum_weighted_pixel_dVDs_sq = 2 * pixel_VDs * pixel_dVDs * normalized_pixel_luminosities\n",
    "    \n",
    "    # take only those in the effective radius                                                   \n",
    "    lum_weighted_aperture_V = np.sqrt(np.sum(lum_weighted_pixel_Vs_sq[in_aperture]))\n",
    "    lum_weighted_aperture_VD = np.sqrt(np.sum(lum_weighted_pixel_VDs_sq[in_aperture]))\n",
    "    lum_weighted_aperture_dVD = np.sum(lum_weighted_pixel_dVDs_sq[in_aperture]) / (2 * np.sqrt(np.sum(lum_weighted_pixel_VDs_sq[in_aperture])))\n",
    "    \n",
    "    # calculate V/sigma\n",
    "    V_sigma = lum_weighted_aperture_V/lum_weighted_aperture_VD\n",
    "    \n",
    "    # calculate lambda_R\n",
    "    numerator = np.sum(pixel_radii[in_aperture] * normalized_pixel_luminosities[in_aperture] * np.sqrt( lum_weighted_pixel_Vs_sq[in_aperture]))\n",
    "    denominator = np.sum(pixel_radii[in_aperture] * normalized_pixel_luminosities[in_aperture] * np.sqrt( lum_weighted_pixel_Vs_sq[in_aperture] +  lum_weighted_pixel_VDs_sq[in_aperture]))\n",
    "    lambda_R = numerator / denominator\n",
    "\n",
    "    \n",
    "    return V_sigma, lambda_R, lum_weighted_aperture_V, lum_weighted_aperture_VD, lum_weighted_aperture_dVD"
   ]
  },
  {
   "cell_type": "code",
   "execution_count": 16,
   "metadata": {},
   "outputs": [
    {
     "name": "stdout",
     "output_type": "stream",
     "text": [
      "length before cutting... 193\n",
      "length after cutting... 187\n",
      "length before cutting... 303\n",
      "length after cutting... 281\n",
      "length before cutting... 12\n",
      "length after cutting... 7\n",
      "length before cutting... 18\n",
      "length after cutting... 18\n",
      "length before cutting... 99\n",
      "length after cutting... 84\n",
      "length before cutting... 65\n",
      "length after cutting... 53\n",
      "length before cutting... 64\n",
      "length after cutting... 64\n",
      "length before cutting... 108\n",
      "length after cutting... 108\n",
      "length before cutting... 39\n",
      "length after cutting... 39\n",
      "length before cutting... 45\n",
      "length after cutting... 34\n",
      "length before cutting... 37\n",
      "length after cutting... 37\n",
      "length before cutting... 71\n",
      "length after cutting... 66\n",
      "length before cutting... 52\n",
      "length after cutting... 48\n",
      "length before cutting... 54\n",
      "length after cutting... 54\n"
     ]
    },
    {
     "data": {
      "text/plain": [
       "(array([1., 6., 2., 2., 0., 1., 0., 0., 0., 2.]),\n",
       " array([0.04990818, 0.06833657, 0.08676496, 0.10519336, 0.12362175,\n",
       "        0.14205014, 0.16047854, 0.17890693, 0.19733532, 0.21576372,\n",
       "        0.23419211]),\n",
       " <BarContainer object of 10 artists>)"
      ]
     },
     "execution_count": 16,
     "metadata": {},
     "output_type": "execute_result"
    },
    {
     "data": {
      "image/png": "[encoded data removed]",
      "text/plain": [
       "<Figure size 432x288 with 1 Axes>"
      ]
     },
     "metadata": {
      "needs_background": "light"
     },
     "output_type": "display_data"
    },
    {
     "data": {
      "image/png": "[encoded data removed]",
      "text/plain": [
       "<Figure size 432x288 with 1 Axes>"
      ]
     },
     "metadata": {
      "needs_background": "light"
     },
     "output_type": "display_data"
    },
    {
     "data": {
      "image/png": "[encoded data removed]",
      "text/plain": [
       "<Figure size 432x288 with 1 Axes>"
      ]
     },
     "metadata": {
      "needs_background": "light"
     },
     "output_type": "display_data"
    },
    {
     "data": {
      "image/png": "[encoded data removed]",
      "text/plain": [
       "<Figure size 432x288 with 1 Axes>"
      ]
     },
     "metadata": {
      "needs_background": "light"
     },
     "output_type": "display_data"
    }
   ],
   "source": [
    "# plug in the extra steps of doing the integral over luminosity weighted pixels instead of just the bins. Will be more spatially accurate as an aperture of radius reff\n",
    "\n",
    "V_sigmas_bin_method = np.zeros(len(obj_names))\n",
    "lambda_Rs_bin_method = np.zeros(len(obj_names))\n",
    "VD_ap_int_rms_bin_method = np.zeros(len(obj_names))\n",
    "dVD_ap_int_rms_bin_method = np.zeros(len(obj_names))\n",
    "\n",
    "V_sigmas_pixel_method = np.zeros(len(obj_names))\n",
    "lambda_Rs_pixel_method = np.zeros(len(obj_names))\n",
    "VD_ap_int_rms_pixel_method = np.zeros(len(obj_names))\n",
    "V_ap_int_rms_pixel_method = np.zeros(len(obj_names))\n",
    "dVD_ap_int_rms_pixel_method = np.zeros(len(obj_names))\n",
    "\n",
    "b=0\n",
    "\n",
    "for obj_name in obj_names:\n",
    "       \n",
    "    #################\n",
    "    # set up directories\n",
    "    obj_abbr = obj_name[4:9] # e.g. J0029\n",
    "    # data directory\n",
    "    data_dir = '/data/raw_data/KECK_KCWI_SLACS_kinematics_shawn/'\n",
    "    # object directory\n",
    "    dir = f'{data_dir}mosaics/{obj_name}/'\n",
    "    #KCWI mosaic datacube\n",
    "    name = f'KCWI_{obj_abbr}_icubes_mosaic_0.1457'\n",
    "    save_dir = f'{dir}{obj_name}_systematics/'\n",
    "\n",
    "    #################\n",
    "    # get velocity and bin data \n",
    "    VD=np.genfromtxt(f'{dir}{obj_name}_final_kinematics/{obj_name}_VD_binned.txt',\n",
    "             delimiter=',')\n",
    "    VD_cov = np.genfromtxt(f'{dir}{obj_name}_final_kinematics/{obj_name}_covariance_matrix_VD.txt',\n",
    "                     delimiter=',')\n",
    "    dVD = np.sqrt(np.diagonal(VD_cov))\n",
    "    V=np.genfromtxt(f'{dir}{obj_name}_final_kinematics/{obj_name}_V_binned.txt',\n",
    "                     delimiter=',')\n",
    "    # subtract the mean V\n",
    "    V = V - np.mean(V)\n",
    "    # import voronoi binning data (#bins, 5215), spectrum for each bin\n",
    "    voronoi_binning_data = fits.getdata(dir +'voronoi_binning_' + name + '_data.fits')\n",
    "    num_bins = len(voronoi_binning_data)\n",
    "    # import pixel data for bins\n",
    "    vorbin_pixels = np.genfromtxt(f'{dir}voronoi_2d_binning_{name}_output.txt',\n",
    "                 delimiter='')\n",
    "    \n",
    "    #################\n",
    "    # sum each bin across all wavelengths to get bin luminosities\n",
    "    bin_luminosities = np.zeros(len(V))\n",
    "    for i in range(len(V)):\n",
    "        lum = np.sum(voronoi_binning_data[i])\n",
    "        bin_luminosities[i] = lum\n",
    "        \n",
    "\n",
    "    #################\n",
    "    # get mean R for each bin by pixel positions\n",
    "    short_name = obj_name[4:]\n",
    "    R = calc_R (vorbin_pixels, len(V))\n",
    "    print(f'length before cutting... {len(R)}')\n",
    "    effective_radius = reffs[b]\n",
    "    condition = R < effective_radius\n",
    "    R_in_aperture = R[condition]\n",
    "    V_in_aperture = V[condition]\n",
    "    VD_in_aperture = VD[condition]\n",
    "    dVD_in_aperture = dVD[condition]\n",
    "    bin_luminosities_in_aperture = bin_luminosities[condition]\n",
    "    print(f'length after cutting... {len(R_in_aperture)}')\n",
    "    #print()\n",
    "\n",
    "    #################\n",
    "    # calculate V_sigma\n",
    "    V_sigmas_bin_method[b], VD_ap_int_rms_bin_method[b], dVD_ap_int_rms_bin_method[b] = lum_weight_V_sigma ( V_in_aperture, VD_in_aperture, dVD_in_aperture, bin_luminosities_in_aperture )\n",
    "    # calculate lambda_R\n",
    "    lambda_Rs_bin_method[b] = calc_lambda_R (V_in_aperture, VD_in_aperture, R_in_aperture, bin_luminosities_in_aperture)\n",
    "    \n",
    "    ###########################################\n",
    "    # Now second method\n",
    "    ###########################################\n",
    "    \n",
    "    # bring in cropped datacube and sum across wavelengths\n",
    "    file = f'{dir}KCWI_{obj_abbr}_icubes_mosaic_0.1457_crop.fits'\n",
    "    datacube = fits.open(file)[0].data\n",
    "    summed_datacube = np.nansum(datacube, axis=0)\n",
    "    normalized_summed_datacube = summed_datacube/np.sum(summed_datacube)\n",
    "    \n",
    "    # get effective radius\n",
    "    if obj_name == 'SDSSJ1306+0600':\n",
    "        reff = 2.30\n",
    "    else:    \n",
    "        # get reff from slacs table\n",
    "        slacs_table = np.genfromtxt(f'{data_dir}slacs_tableA1.txt', delimiter='', dtype='U10')\n",
    "        slacs_table_name = obj_name[4:]\n",
    "        slacs_reffs = slacs_table[:,7].astype(float)\n",
    "        reff = slacs_reffs[slacs_table[:,0]==slacs_table_name]\n",
    "        \n",
    "    # calculate pixel luminosities\n",
    "    pixel_luminosities = np.zeros(len(vorbin_pixels))\n",
    "    for i in range(len(vorbin_pixels)):\n",
    "        x = int(vorbin_pixels[i,0])\n",
    "        y = int(vorbin_pixels[i,1])\n",
    "        pixel_luminosity = summed_datacube[y,x]\n",
    "        pixel_luminosities[i] = pixel_luminosity\n",
    "\n",
    "    # calculate luminosity weights for each bin contribution to the integrated velocities within the effective radius\n",
    "    shells=[1.]\n",
    "    luminosity_weights = calc_luminosity_weights_in_shells(vorbin_pixels, num_bins, bin_luminosities, pixel_luminosities, shells, reff)\n",
    "    \n",
    "    # calculate the luminosity-weighted mean V and VD for the aperture within the effective radius\n",
    "    sum_lum_weights = np.sum(luminosity_weights, axis=0) # sum over the weights for the normalization\n",
    "    normalized_lum_weights = luminosity_weights / sum_lum_weights\n",
    "    \n",
    "    # calculate V_sigma# calculate lambda_R\n",
    "    V_sigmas_pixel_method[b], lambda_Rs_pixel_method[b], \\\n",
    "        V_ap_int_rms_pixel_method[b], VD_ap_int_rms_pixel_method[b], \\\n",
    "        dVD_ap_int_rms_pixel_method[b]  = calc_aperture_velocities_from_lum_weight_pixels(vorbin_pixels, V, VD, dVD, pixel_luminosities, reff)\n",
    "    \n",
    "    b=b+1\n",
    "    \n",
    "    \n",
    "plt.figure()    \n",
    "plt.title('V/sigma bin method')\n",
    "plt.hist(V_sigmas_bin_method)\n",
    "plt.figure()\n",
    "plt.title('lambda_r bin method')\n",
    "plt.hist(lambda_Rs_bin_method)\n",
    "    \n",
    "plt.figure()    \n",
    "plt.title('V/sigma pixel method')\n",
    "plt.hist(V_sigmas_pixel_method)\n",
    "plt.figure()\n",
    "plt.title('lambda_r pixel method')\n",
    "plt.hist(lambda_Rs_pixel_method)\n"
   ]
  },
  {
   "cell_type": "code",
   "execution_count": 17,
   "metadata": {},
   "outputs": [],
   "source": [
    "# bring in my classifications table\n",
    "date = '011023'\n",
    "#class_df.to_csv(f'{data_dir}classification_table_{date}.csv',index=False)\n",
    "classifications = pd.read_csv(f'{data_dir}classification_table_{date}.csv')\n",
    "\n",
    "classes=classifications['class']\n",
    "\n",
    "# add V_sigma and lambda_R, and ellipticities\n",
    "classifications['SLACS ellipticity'] = ellipticities\n",
    "classifications['effective_radius'] = reffs\n",
    "classifications['V_sigma'] = V_sigmas_pixel_method\n",
    "classifications['lambda_R'] = lambda_Rs_pixel_method"
   ]
  },
  {
   "cell_type": "code",
   "execution_count": 18,
   "metadata": {},
   "outputs": [
    {
     "data": {
      "text/html": [
       "<div>\n",
       "<style scoped>\n",
       "    .dataframe tbody tr th:only-of-type {\n",
       "        vertical-align: middle;\n",
       "    }\n",
       "\n",
       "    .dataframe tbody tr th {\n",
       "        vertical-align: top;\n",
       "    }\n",
       "\n",
       "    .dataframe thead th {\n",
       "        text-align: right;\n",
       "    }\n",
       "</style>\n",
       "<table border=\"1\" class=\"dataframe\">\n",
       "  <thead>\n",
       "    <tr style=\"text-align: right;\">\n",
       "      <th></th>\n",
       "      <th>obj_name</th>\n",
       "      <th>class</th>\n",
       "      <th>subclass</th>\n",
       "      <th>comments</th>\n",
       "      <th>ellipticity</th>\n",
       "      <th>SLACS ellipticity</th>\n",
       "      <th>effective_radius</th>\n",
       "      <th>V_sigma</th>\n",
       "      <th>lambda_R</th>\n",
       "    </tr>\n",
       "  </thead>\n",
       "  <tbody>\n",
       "    <tr>\n",
       "      <th>0</th>\n",
       "      <td>SDSSJ0029-0055</td>\n",
       "      <td>slow/nonregular</td>\n",
       "      <td>complex velocity, twist</td>\n",
       "      <td>V 60-80 km/s</td>\n",
       "      <td>0.13</td>\n",
       "      <td>0.160</td>\n",
       "      <td>2.16</td>\n",
       "      <td>0.107911</td>\n",
       "      <td>0.084878</td>\n",
       "    </tr>\n",
       "    <tr>\n",
       "      <th>1</th>\n",
       "      <td>SDSSJ0037-0942</td>\n",
       "      <td>fast/regular</td>\n",
       "      <td>misaligned 31 deg</td>\n",
       "      <td>V 100 km/s</td>\n",
       "      <td>0.30</td>\n",
       "      <td>0.270</td>\n",
       "      <td>2.19</td>\n",
       "      <td>0.176446</td>\n",
       "      <td>0.158571</td>\n",
       "    </tr>\n",
       "    <tr>\n",
       "      <th>2</th>\n",
       "      <td>SDSSJ0330-0020</td>\n",
       "      <td>uncertain</td>\n",
       "      <td>possible rotation, misaligned 59 deg</td>\n",
       "      <td>Data poor, V 60 km/s</td>\n",
       "      <td>0.17</td>\n",
       "      <td>0.230</td>\n",
       "      <td>1.20</td>\n",
       "      <td>0.129017</td>\n",
       "      <td>0.109658</td>\n",
       "    </tr>\n",
       "    <tr>\n",
       "      <th>3</th>\n",
       "      <td>SDSSJ1112+0826</td>\n",
       "      <td>fast/regular</td>\n",
       "      <td>aligned 0 deg</td>\n",
       "      <td>V 100 km/s</td>\n",
       "      <td>0.24</td>\n",
       "      <td>0.230</td>\n",
       "      <td>1.50</td>\n",
       "      <td>0.263330</td>\n",
       "      <td>0.234192</td>\n",
       "    </tr>\n",
       "    <tr>\n",
       "      <th>4</th>\n",
       "      <td>SDSSJ1204+0358</td>\n",
       "      <td>slow/nonregular</td>\n",
       "      <td>KDC</td>\n",
       "      <td>V 40 km/s, signif arcs</td>\n",
       "      <td>0.09</td>\n",
       "      <td>0.030</td>\n",
       "      <td>1.47</td>\n",
       "      <td>0.077882</td>\n",
       "      <td>0.068771</td>\n",
       "    </tr>\n",
       "    <tr>\n",
       "      <th>5</th>\n",
       "      <td>SDSSJ1250+0523</td>\n",
       "      <td>fast/regular</td>\n",
       "      <td>very round, alignment N/A</td>\n",
       "      <td>V 100 km/s, signif arcs</td>\n",
       "      <td>0.04</td>\n",
       "      <td>0.030</td>\n",
       "      <td>1.81</td>\n",
       "      <td>0.127693</td>\n",
       "      <td>0.112299</td>\n",
       "    </tr>\n",
       "    <tr>\n",
       "      <th>6</th>\n",
       "      <td>SDSSJ1306+0600</td>\n",
       "      <td>fast/regular</td>\n",
       "      <td>misaligned 25 deg</td>\n",
       "      <td>V 60 km/s, No HST image yet</td>\n",
       "      <td>-1.00</td>\n",
       "      <td>0.091</td>\n",
       "      <td>2.30</td>\n",
       "      <td>0.108517</td>\n",
       "      <td>0.091037</td>\n",
       "    </tr>\n",
       "    <tr>\n",
       "      <th>7</th>\n",
       "      <td>SDSSJ1402+6321</td>\n",
       "      <td>fast/regular</td>\n",
       "      <td>misaligned 35 deg</td>\n",
       "      <td>V 60 km/s</td>\n",
       "      <td>0.22</td>\n",
       "      <td>0.230</td>\n",
       "      <td>2.70</td>\n",
       "      <td>0.095982</td>\n",
       "      <td>0.082576</td>\n",
       "    </tr>\n",
       "    <tr>\n",
       "      <th>8</th>\n",
       "      <td>SDSSJ1531-0105</td>\n",
       "      <td>slow/nonregular</td>\n",
       "      <td>no rotation, complex velocity, misaligned 41 deg</td>\n",
       "      <td>V 40 deg</td>\n",
       "      <td>0.31</td>\n",
       "      <td>0.320</td>\n",
       "      <td>2.50</td>\n",
       "      <td>0.078509</td>\n",
       "      <td>0.069539</td>\n",
       "    </tr>\n",
       "    <tr>\n",
       "      <th>9</th>\n",
       "      <td>SDSSJ1538+5817</td>\n",
       "      <td>fast/nonregular</td>\n",
       "      <td>KDC, CRD? misaligned 22 deg</td>\n",
       "      <td>V 60 km/s outer, 20 deg inner</td>\n",
       "      <td>0.22</td>\n",
       "      <td>0.180</td>\n",
       "      <td>1.58</td>\n",
       "      <td>0.064735</td>\n",
       "      <td>0.049908</td>\n",
       "    </tr>\n",
       "    <tr>\n",
       "      <th>10</th>\n",
       "      <td>SDSSJ1621+3931</td>\n",
       "      <td>fast/regular</td>\n",
       "      <td>misaligned 25 deg</td>\n",
       "      <td>V 100 km/s, pretty round</td>\n",
       "      <td>0.35</td>\n",
       "      <td>0.270</td>\n",
       "      <td>2.14</td>\n",
       "      <td>0.235023</td>\n",
       "      <td>0.216519</td>\n",
       "    </tr>\n",
       "    <tr>\n",
       "      <th>11</th>\n",
       "      <td>SDSSJ1627-0053</td>\n",
       "      <td>slow/nonregular</td>\n",
       "      <td>complex velocity</td>\n",
       "      <td>V 60 km/s, signif arcs</td>\n",
       "      <td>0.21</td>\n",
       "      <td>0.150</td>\n",
       "      <td>1.98</td>\n",
       "      <td>0.087507</td>\n",
       "      <td>0.073139</td>\n",
       "    </tr>\n",
       "    <tr>\n",
       "      <th>12</th>\n",
       "      <td>SDSSJ1630+4520</td>\n",
       "      <td>fast/regular</td>\n",
       "      <td>aligned 6 deg</td>\n",
       "      <td>V 60 deg</td>\n",
       "      <td>0.16</td>\n",
       "      <td>0.160</td>\n",
       "      <td>1.96</td>\n",
       "      <td>0.113668</td>\n",
       "      <td>0.100951</td>\n",
       "    </tr>\n",
       "    <tr>\n",
       "      <th>13</th>\n",
       "      <td>SDSSJ2303+1422</td>\n",
       "      <td>slow/nonregular</td>\n",
       "      <td>twist</td>\n",
       "      <td>V 40 km/s</td>\n",
       "      <td>0.24</td>\n",
       "      <td>0.360</td>\n",
       "      <td>3.28</td>\n",
       "      <td>0.083364</td>\n",
       "      <td>0.071077</td>\n",
       "    </tr>\n",
       "  </tbody>\n",
       "</table>\n",
       "</div>"
      ],
      "text/plain": [
       "          obj_name            class  \\\n",
       "0   SDSSJ0029-0055  slow/nonregular   \n",
       "1   SDSSJ0037-0942     fast/regular   \n",
       "2   SDSSJ0330-0020        uncertain   \n",
       "3   SDSSJ1112+0826     fast/regular   \n",
       "4   SDSSJ1204+0358  slow/nonregular   \n",
       "5   SDSSJ1250+0523     fast/regular   \n",
       "6   SDSSJ1306+0600     fast/regular   \n",
       "7   SDSSJ1402+6321     fast/regular   \n",
       "8   SDSSJ1531-0105  slow/nonregular   \n",
       "9   SDSSJ1538+5817  fast/nonregular   \n",
       "10  SDSSJ1621+3931     fast/regular   \n",
       "11  SDSSJ1627-0053  slow/nonregular   \n",
       "12  SDSSJ1630+4520     fast/regular   \n",
       "13  SDSSJ2303+1422  slow/nonregular   \n",
       "\n",
       "                                            subclass  \\\n",
       "0                            complex velocity, twist   \n",
       "1                                  misaligned 31 deg   \n",
       "2               possible rotation, misaligned 59 deg   \n",
       "3                                      aligned 0 deg   \n",
       "4                                                KDC   \n",
       "5                          very round, alignment N/A   \n",
       "6                                  misaligned 25 deg   \n",
       "7                                  misaligned 35 deg   \n",
       "8   no rotation, complex velocity, misaligned 41 deg   \n",
       "9                        KDC, CRD? misaligned 22 deg   \n",
       "10                                 misaligned 25 deg   \n",
       "11                                  complex velocity   \n",
       "12                                     aligned 6 deg   \n",
       "13                                             twist   \n",
       "\n",
       "                         comments  ellipticity  SLACS ellipticity  \\\n",
       "0                    V 60-80 km/s         0.13              0.160   \n",
       "1                      V 100 km/s         0.30              0.270   \n",
       "2            Data poor, V 60 km/s         0.17              0.230   \n",
       "3                      V 100 km/s         0.24              0.230   \n",
       "4          V 40 km/s, signif arcs         0.09              0.030   \n",
       "5         V 100 km/s, signif arcs         0.04              0.030   \n",
       "6     V 60 km/s, No HST image yet        -1.00              0.091   \n",
       "7                       V 60 km/s         0.22              0.230   \n",
       "8                        V 40 deg         0.31              0.320   \n",
       "9   V 60 km/s outer, 20 deg inner         0.22              0.180   \n",
       "10       V 100 km/s, pretty round         0.35              0.270   \n",
       "11         V 60 km/s, signif arcs         0.21              0.150   \n",
       "12                       V 60 deg         0.16              0.160   \n",
       "13                      V 40 km/s         0.24              0.360   \n",
       "\n",
       "    effective_radius   V_sigma  lambda_R  \n",
       "0               2.16  0.107911  0.084878  \n",
       "1               2.19  0.176446  0.158571  \n",
       "2               1.20  0.129017  0.109658  \n",
       "3               1.50  0.263330  0.234192  \n",
       "4               1.47  0.077882  0.068771  \n",
       "5               1.81  0.127693  0.112299  \n",
       "6               2.30  0.108517  0.091037  \n",
       "7               2.70  0.095982  0.082576  \n",
       "8               2.50  0.078509  0.069539  \n",
       "9               1.58  0.064735  0.049908  \n",
       "10              2.14  0.235023  0.216519  \n",
       "11              1.98  0.087507  0.073139  \n",
       "12              1.96  0.113668  0.100951  \n",
       "13              3.28  0.083364  0.071077  "
      ]
     },
     "execution_count": 18,
     "metadata": {},
     "output_type": "execute_result"
    }
   ],
   "source": [
    "classifications"
   ]
  },
  {
   "cell_type": "code",
   "execution_count": 116,
   "metadata": {},
   "outputs": [],
   "source": [
    "# for this purpose, take the ellipticity of J1306 to be the SLACS ellipticity. DO NOT SAVE.\n",
    "classifications.loc[6, 'ellipticity'] = classifications.loc[6, 'SLACS ellipticity']"
   ]
  },
  {
   "cell_type": "code",
   "execution_count": 118,
   "metadata": {},
   "outputs": [],
   "source": [
    "slow = classes == 'slow/nonregular'\n",
    "fast = classes == 'fast/regular'\n",
    "uncertain = classes == 'uncertain' # J0330\n",
    "kdc = classes == 'fast/nonregular' #J1538\n",
    "\n",
    "# separate into fast and slow\n",
    "eps_slow = ellipticities[slow]\n",
    "eps_fast = ellipticities[fast]\n",
    "\n",
    "V_sigmas_slow = V_sigmas_pixel_method[slow]\n",
    "V_sigmas_fast = V_sigmas_pixel_method[fast]\n",
    "\n",
    "lambda_Rs_slow = lambda_Rs_pixel_method[slow]\n",
    "lambda_Rs_fast = lambda_Rs_pixel_method[fast]\n",
    "\n",
    "# uncertain\n",
    "eps_uncertain = ellipticities[uncertain]\n",
    "V_sigmas_uncertain = V_sigmas_pixel_method[uncertain]\n",
    "lambda_Rs_uncertain = lambda_Rs_pixel_method[uncertain]\n",
    "\n",
    "# fast nonregular\n",
    "eps_fast_kdc = ellipticities[kdc]\n",
    "V_sigmas_fast_kdc = V_sigmas_pixel_method[kdc]\n",
    "lambda_Rs_fast_kdc = lambda_Rs_pixel_method[kdc]"
   ]
  },
  {
   "cell_type": "code",
   "execution_count": 119,
   "metadata": {},
   "outputs": [],
   "source": [
    "# make elliptical marker\n",
    "import matplotlib.path as mpath\n",
    "\n",
    "# Define the ellipse marker.\n",
    "circle = mpath.Path.unit_circle()\n",
    "elliptical_verts = np.copy(circle.vertices)\n",
    "elliptical_verts[:, 0] *= 1.618\n",
    "elliptical_marker = mpath.Path(elliptical_verts, circle.codes)\n",
    "\n",
    "# define negative smaller ellipse\n",
    "inner_ell_verts = elliptical_verts * 0.8"
   ]
  },
  {
   "cell_type": "code",
   "execution_count": 120,
   "metadata": {},
   "outputs": [],
   "source": [
    "# make ellipse with line marker\n",
    "rect = mpath.Path.unit_rectangle()\n",
    "rect_verts = np.copy(rect.vertices)\n",
    "rect_verts[:,0] *= 0.1\n",
    "rect_verts[:,1] *= 2.0\n",
    "line_marker = mpath.Path(rect_verts, rect.codes)\n",
    "\n",
    "# make another line marker lower\n",
    "second_line_verts = rect_verts.copy()\n",
    "second_line_verts[:,1] += -3.5\n",
    "second_line_verts[:,1] *= 0.5\n",
    "\n",
    "rotator = mpath.Path(\n",
    "    vertices=np.concatenate([elliptical_verts, inner_ell_verts[::-1, ...], rect_verts, second_line_verts]),\n",
    "    codes=np.concatenate([circle.codes, circle.codes, rect.codes, rect.codes]))\n",
    "\n",
    "nonregular = 'o'\n",
    "\n",
    "# make a question mark\n",
    "uncertain_mark = '$?$'\n",
    "\n",
    "# fast/non (kdc)\n",
    "kdc = '^'\n"
   ]
  },
  {
   "cell_type": "code",
   "execution_count": 121,
   "metadata": {},
   "outputs": [
    {
     "name": "stderr",
     "output_type": "stream",
     "text": [
      "/usr/local/anaconda3/lib/python3.7/site-packages/ipykernel_launcher.py:15: RuntimeWarning: invalid value encountered in double_scalars\n",
      "  from ipykernel import kernelapp as app\n",
      "/usr/local/anaconda3/lib/python3.7/site-packages/ipykernel_launcher.py:12: RuntimeWarning: divide by zero encountered in double_scalars\n",
      "  if sys.path[0] == '':\n",
      "/usr/local/anaconda3/lib/python3.7/site-packages/ipykernel_launcher.py:6: RuntimeWarning: invalid value encountered in double_scalars\n",
      "  \n"
     ]
    },
    {
     "data": {
      "image/png": "[encoded data removed]",
      "text/plain": [
       "<Figure size 432x432 with 1 Axes>"
      ]
     },
     "metadata": {
      "needs_background": "light"
     },
     "output_type": "display_data"
    },
    {
     "data": {
      "image/png": "[encoded data removed]",
      "text/plain": [
       "<Figure size 432x432 with 1 Axes>"
      ]
     },
     "metadata": {
      "needs_background": "light"
     },
     "output_type": "display_data"
    }
   ],
   "source": [
    "# plot the V_sigma and lambda_R to ellipticities\n",
    "\n",
    "\n",
    "epsilons = np.linspace(0.0,1.0,100)\n",
    "V_sigmas_iso = np.zeros(100)\n",
    "lambda_Rs_iso = np.zeros(100)\n",
    "\n",
    "i=0\n",
    "for epsilon in epsilons:\n",
    "    V_sigma = calc_isotropic_V_sigma(epsilon)\n",
    "    V_sigmas_iso[i] = V_sigma\n",
    "    lambda_Rs_iso[i] = calc_Vsig_to_lamR(V_sigma)\n",
    "    i = i+1\n",
    "\n",
    "# plot the V_sigma and lambda_R to ellipticities\n",
    "\n",
    "###################################\n",
    "# V sigma\n",
    "\n",
    "plt.figure(figsize=(6,6))\n",
    "plt.xlim(0.0,1.0)\n",
    "plt.ylim(0.0,1.0)\n",
    "\n",
    "# curves\n",
    "plt.plot(epsilons, V_sigmas_iso, \n",
    "         c='limegreen',linewidth=4,zorder=-1, alpha=0.7,\n",
    "        label='isotropic rotator')\n",
    "plt.plot(epsilons, 1/3 * V_sigmas_iso, \n",
    "         c='magenta',linewidth=4,zorder=-1, alpha=0.7,\n",
    "        label=r'1/3 $\\times$ isotropic')\n",
    "\n",
    "# scatter plot for the datapoints\n",
    "plt.scatter(eps_slow, V_sigmas_slow, \n",
    "            s=120, c='r', marker=nonregular, edgecolor='k', linewidth=1,\n",
    "            label='slow rotator', alpha=0.8)\n",
    "plt.scatter(eps_fast, V_sigmas_fast, \n",
    "            s=230, c='b', marker=rotator, \n",
    "            label='fast rotator')\n",
    "plt.scatter(eps_uncertain, V_sigmas_uncertain, \n",
    "            s=150, c='k', marker=uncertain_mark, linewidth=0.5, \n",
    "            label='uncertain')\n",
    "plt.scatter(eps_fast_kdc, V_sigmas_fast_kdc, \n",
    "            s=150, marker='^', edgecolor='red', facecolor='none', linewidth=2, \n",
    "            label='KDC')\n",
    "\n",
    "plt.xlabel(r'$\\epsilon$',fontsize=26)\n",
    "plt.ylabel(r'$V/\\sigma$',fontsize=20)\n",
    "plt.legend(fontsize=14)\n",
    "plt.savefig(f'{data_dir}mosaics/kinematic_class_vsigma.png')\n",
    "plt.savefig(f'{data_dir}mosaics/kinematic_class_vsigma.pdf')\n",
    "\n",
    "###################################\n",
    "# Lambda_R\n",
    "\n",
    "plt.figure(figsize=(6,6))\n",
    "plt.xlim(0.0,1.0)\n",
    "plt.ylim(0.0,1.0)\n",
    "\n",
    "# curves\n",
    "plt.plot(epsilons, lambda_Rs_iso, \n",
    "         c='limegreen',linewidth=4,zorder=-1, alpha=0.7)\n",
    "plt.plot(epsilons, 1/3 * lambda_Rs_iso, \n",
    "         c='magenta',linewidth=4,zorder=-1, alpha=0.7)\n",
    "plt.plot([0.0, 0.4],[0.08, 0.08+0.4/4],\n",
    "         linestyle='-',c='k',linewidth=4,zorder=-1, alpha=0.7)\n",
    "plt.plot([0.4, 0.4],[0.0, 0.08+0.4/4],\n",
    "         linestyle='-',c='k',linewidth=4,zorder=-1, alpha=0.7,\n",
    "        label=r'$\\lambda_R = 0.08 + \\epsilon/4$')\n",
    "\n",
    "# scatter plots for the datapoints\n",
    "plt.scatter(eps_slow, lambda_Rs_slow, \n",
    "            s=120, c='r', marker=nonregular, edgecolor='k', linewidth=1,\n",
    "            label='slow rotator', alpha=0.8)\n",
    "plt.scatter(eps_fast, lambda_Rs_fast, \n",
    "            s=230, c='b', marker=rotator, \n",
    "            label='fast rotator')\n",
    "plt.scatter(eps_uncertain, lambda_Rs_uncertain, \n",
    "            s=150, c='k', marker=uncertain_mark, linewidth=0.5, \n",
    "            label='uncertain')\n",
    "plt.scatter(eps_fast_kdc, lambda_Rs_fast_kdc, \n",
    "            s=150, marker='^', edgecolor='red', facecolor='none', linewidth=2, \n",
    "            label='KDC')\n",
    "\n",
    "plt.xlabel(r'$\\epsilon$',fontsize=26)\n",
    "plt.ylabel(r'$\\lambda_R$',fontsize=22)\n",
    "plt.legend(fontsize=14, loc='upper left')\n",
    "plt.savefig(f'{data_dir}mosaics/kinematic_class_lambdar.png')\n",
    "plt.savefig(f'{data_dir}mosaics/kinematic_class_lambdar.pdf')"
   ]
  },
  {
   "cell_type": "markdown",
   "metadata": {},
   "source": [
    "# Whats the deal with these fast rotators being in the slow regime???"
   ]
  },
  {
   "cell_type": "code",
   "execution_count": 122,
   "metadata": {},
   "outputs": [
    {
     "data": {
      "text/html": [
       "<div>\n",
       "<style scoped>\n",
       "    .dataframe tbody tr th:only-of-type {\n",
       "        vertical-align: middle;\n",
       "    }\n",
       "\n",
       "    .dataframe tbody tr th {\n",
       "        vertical-align: top;\n",
       "    }\n",
       "\n",
       "    .dataframe thead th {\n",
       "        text-align: right;\n",
       "    }\n",
       "</style>\n",
       "<table border=\"1\" class=\"dataframe\">\n",
       "  <thead>\n",
       "    <tr style=\"text-align: right;\">\n",
       "      <th></th>\n",
       "      <th>obj_name</th>\n",
       "      <th>class</th>\n",
       "      <th>subclass</th>\n",
       "      <th>comments</th>\n",
       "      <th>ellipticity</th>\n",
       "      <th>SLACS ellipticity</th>\n",
       "      <th>effective_radius</th>\n",
       "      <th>V_sigma</th>\n",
       "      <th>lambda_R</th>\n",
       "    </tr>\n",
       "  </thead>\n",
       "  <tbody>\n",
       "    <tr>\n",
       "      <th>6</th>\n",
       "      <td>SDSSJ1306+0600</td>\n",
       "      <td>fast/regular</td>\n",
       "      <td>misaligned 25 deg</td>\n",
       "      <td>V 60 km/s, No HST image yet</td>\n",
       "      <td>0.091</td>\n",
       "      <td>0.091</td>\n",
       "      <td>2.30</td>\n",
       "      <td>0.108517</td>\n",
       "      <td>0.091037</td>\n",
       "    </tr>\n",
       "    <tr>\n",
       "      <th>7</th>\n",
       "      <td>SDSSJ1402+6321</td>\n",
       "      <td>fast/regular</td>\n",
       "      <td>misaligned 35 deg</td>\n",
       "      <td>V 60 km/s</td>\n",
       "      <td>0.220</td>\n",
       "      <td>0.230</td>\n",
       "      <td>2.70</td>\n",
       "      <td>0.095982</td>\n",
       "      <td>0.082576</td>\n",
       "    </tr>\n",
       "    <tr>\n",
       "      <th>9</th>\n",
       "      <td>SDSSJ1538+5817</td>\n",
       "      <td>fast/nonregular</td>\n",
       "      <td>KDC, CRD? misaligned 22 deg</td>\n",
       "      <td>V 60 km/s outer, 20 deg inner</td>\n",
       "      <td>0.220</td>\n",
       "      <td>0.180</td>\n",
       "      <td>1.58</td>\n",
       "      <td>0.064735</td>\n",
       "      <td>0.049908</td>\n",
       "    </tr>\n",
       "    <tr>\n",
       "      <th>12</th>\n",
       "      <td>SDSSJ1630+4520</td>\n",
       "      <td>fast/regular</td>\n",
       "      <td>aligned 6 deg</td>\n",
       "      <td>V 60 deg</td>\n",
       "      <td>0.160</td>\n",
       "      <td>0.160</td>\n",
       "      <td>1.96</td>\n",
       "      <td>0.113668</td>\n",
       "      <td>0.100951</td>\n",
       "    </tr>\n",
       "  </tbody>\n",
       "</table>\n",
       "</div>"
      ],
      "text/plain": [
       "          obj_name            class                     subclass  \\\n",
       "6   SDSSJ1306+0600     fast/regular            misaligned 25 deg   \n",
       "7   SDSSJ1402+6321     fast/regular            misaligned 35 deg   \n",
       "9   SDSSJ1538+5817  fast/nonregular  KDC, CRD? misaligned 22 deg   \n",
       "12  SDSSJ1630+4520     fast/regular                aligned 6 deg   \n",
       "\n",
       "                         comments  ellipticity  SLACS ellipticity  \\\n",
       "6     V 60 km/s, No HST image yet        0.091              0.091   \n",
       "7                       V 60 km/s        0.220              0.230   \n",
       "9   V 60 km/s outer, 20 deg inner        0.220              0.180   \n",
       "12                       V 60 deg        0.160              0.160   \n",
       "\n",
       "    effective_radius   V_sigma  lambda_R  \n",
       "6               2.30  0.108517  0.091037  \n",
       "7               2.70  0.095982  0.082576  \n",
       "9               1.58  0.064735  0.049908  \n",
       "12              1.96  0.113668  0.100951  "
      ]
     },
     "execution_count": 122,
     "metadata": {},
     "output_type": "execute_result"
    }
   ],
   "source": [
    "slow_fast = (V_sigmas_pixel_method < 0.12) & (classes != 'slow/nonregular')\n",
    "classifications[slow_fast]"
   ]
  },
  {
   "cell_type": "code",
   "execution_count": 123,
   "metadata": {},
   "outputs": [
    {
     "data": {
      "text/html": [
       "<div>\n",
       "<style scoped>\n",
       "    .dataframe tbody tr th:only-of-type {\n",
       "        vertical-align: middle;\n",
       "    }\n",
       "\n",
       "    .dataframe tbody tr th {\n",
       "        vertical-align: top;\n",
       "    }\n",
       "\n",
       "    .dataframe thead th {\n",
       "        text-align: right;\n",
       "    }\n",
       "</style>\n",
       "<table border=\"1\" class=\"dataframe\">\n",
       "  <thead>\n",
       "    <tr style=\"text-align: right;\">\n",
       "      <th></th>\n",
       "      <th>obj_name</th>\n",
       "      <th>class</th>\n",
       "      <th>subclass</th>\n",
       "      <th>comments</th>\n",
       "      <th>ellipticity</th>\n",
       "      <th>SLACS ellipticity</th>\n",
       "      <th>effective_radius</th>\n",
       "      <th>V_sigma</th>\n",
       "      <th>lambda_R</th>\n",
       "    </tr>\n",
       "  </thead>\n",
       "  <tbody>\n",
       "    <tr>\n",
       "      <th>1</th>\n",
       "      <td>SDSSJ0037-0942</td>\n",
       "      <td>fast/regular</td>\n",
       "      <td>misaligned 31 deg</td>\n",
       "      <td>V 100 km/s</td>\n",
       "      <td>0.30</td>\n",
       "      <td>0.27</td>\n",
       "      <td>2.19</td>\n",
       "      <td>0.176446</td>\n",
       "      <td>0.158571</td>\n",
       "    </tr>\n",
       "    <tr>\n",
       "      <th>2</th>\n",
       "      <td>SDSSJ0330-0020</td>\n",
       "      <td>uncertain</td>\n",
       "      <td>possible rotation, misaligned 59 deg</td>\n",
       "      <td>Data poor, V 60 km/s</td>\n",
       "      <td>0.17</td>\n",
       "      <td>0.23</td>\n",
       "      <td>1.20</td>\n",
       "      <td>0.129017</td>\n",
       "      <td>0.109658</td>\n",
       "    </tr>\n",
       "    <tr>\n",
       "      <th>3</th>\n",
       "      <td>SDSSJ1112+0826</td>\n",
       "      <td>fast/regular</td>\n",
       "      <td>aligned 0 deg</td>\n",
       "      <td>V 100 km/s</td>\n",
       "      <td>0.24</td>\n",
       "      <td>0.23</td>\n",
       "      <td>1.50</td>\n",
       "      <td>0.263330</td>\n",
       "      <td>0.234192</td>\n",
       "    </tr>\n",
       "    <tr>\n",
       "      <th>5</th>\n",
       "      <td>SDSSJ1250+0523</td>\n",
       "      <td>fast/regular</td>\n",
       "      <td>very round, alignment N/A</td>\n",
       "      <td>V 100 km/s, signif arcs</td>\n",
       "      <td>0.04</td>\n",
       "      <td>0.03</td>\n",
       "      <td>1.81</td>\n",
       "      <td>0.127693</td>\n",
       "      <td>0.112299</td>\n",
       "    </tr>\n",
       "    <tr>\n",
       "      <th>10</th>\n",
       "      <td>SDSSJ1621+3931</td>\n",
       "      <td>fast/regular</td>\n",
       "      <td>misaligned 25 deg</td>\n",
       "      <td>V 100 km/s, pretty round</td>\n",
       "      <td>0.35</td>\n",
       "      <td>0.27</td>\n",
       "      <td>2.14</td>\n",
       "      <td>0.235023</td>\n",
       "      <td>0.216519</td>\n",
       "    </tr>\n",
       "  </tbody>\n",
       "</table>\n",
       "</div>"
      ],
      "text/plain": [
       "          obj_name         class                              subclass  \\\n",
       "1   SDSSJ0037-0942  fast/regular                     misaligned 31 deg   \n",
       "2   SDSSJ0330-0020     uncertain  possible rotation, misaligned 59 deg   \n",
       "3   SDSSJ1112+0826  fast/regular                         aligned 0 deg   \n",
       "5   SDSSJ1250+0523  fast/regular             very round, alignment N/A   \n",
       "10  SDSSJ1621+3931  fast/regular                     misaligned 25 deg   \n",
       "\n",
       "                    comments  ellipticity  SLACS ellipticity  \\\n",
       "1                 V 100 km/s         0.30               0.27   \n",
       "2       Data poor, V 60 km/s         0.17               0.23   \n",
       "3                 V 100 km/s         0.24               0.23   \n",
       "5    V 100 km/s, signif arcs         0.04               0.03   \n",
       "10  V 100 km/s, pretty round         0.35               0.27   \n",
       "\n",
       "    effective_radius   V_sigma  lambda_R  \n",
       "1               2.19  0.176446  0.158571  \n",
       "2               1.20  0.129017  0.109658  \n",
       "3               1.50  0.263330  0.234192  \n",
       "5               1.81  0.127693  0.112299  \n",
       "10              2.14  0.235023  0.216519  "
      ]
     },
     "execution_count": 123,
     "metadata": {},
     "output_type": "execute_result"
    }
   ],
   "source": [
    "fast_fast = (V_sigmas_pixel_method > 0.12)\n",
    "classifications[fast_fast]"
   ]
  },
  {
   "cell_type": "markdown",
   "metadata": {},
   "source": [
    "# It looks like V = 60 km/s is not a great decider for fast vs slow in this case, should I start doing slow/regular?"
   ]
  },
  {
   "cell_type": "code",
   "execution_count": null,
   "metadata": {},
   "outputs": [],
   "source": []
  },
  {
   "cell_type": "code",
   "execution_count": null,
   "metadata": {},
   "outputs": [],
   "source": []
  },
  {
   "cell_type": "code",
   "execution_count": 26,
   "metadata": {},
   "outputs": [],
   "source": [
    "def lum_weight_bin (V, VD, dVD, lum):\n",
    "    \n",
    "    bin_weighted_V_sq = lum * V**2\n",
    "    bin_weighted_VD_sq = lum * VD**2\n",
    "    bin_weighted_dVD_sq = lum * 2 * VD * dVD\n",
    "\n",
    "    return bin_weighted_V_sq, bin_weighted_VD_sq, bin_weighted_dVD_sq\n",
    "\n",
    "def lum_weight_V_sigma (V_array, VD_array, dVD_array, lum_array):\n",
    "    \n",
    "    assert (len(V_array)==len(VD_array)) & (len(V_array)==len(lum_array)) & (len(V_array)==len(dVD_array))\n",
    "    \n",
    "    V_sq = 0\n",
    "    VD_sq = 0\n",
    "    dVD_sq = 0\n",
    "    \n",
    "    for i in range(len(V_array)):\n",
    "        bin_V_sq, bin_VD_sq, bin_dVD_sq = lum_weight_bin(V_array[i], VD_array[i], dVD_array[i], lum_array[i])\n",
    "        V_sq += bin_V_sq\n",
    "        VD_sq += bin_VD_sq\n",
    "        dVD_sq += bin_dVD_sq\n",
    "    \n",
    "    V_sigma_sq = V_sq/VD_sq\n",
    "    V_sigma = np.sqrt(V_sigma_sq)\n",
    "    \n",
    "    VD_integrated_rms = np.sqrt(VD_sq/np.sum(lum_array))\n",
    "\n",
    "    dVD_int_rms = dVD_sq / (2 * np.sqrt(np.sum(lum_array) * VD_sq))\n",
    "    \n",
    "    return(V_sigma, VD_integrated_rms, dVD_int_rms) # this is integrated out to the edge of my data right now\n",
    "        "
   ]
  },
  {
   "cell_type": "code",
   "execution_count": 27,
   "metadata": {},
   "outputs": [],
   "source": [
    "# Now let's do the lambda_R calculation\n",
    "\n",
    "\n",
    "def calc_lambda_R (V_array, VD_array, R_array, lum_array):\n",
    "    \n",
    "    assert (len(V_array)==len(VD_array)) & (len(V_array)==len(lum_array)) & (len(V_array)==len(R_array))\n",
    "    \n",
    "    numerator = 0\n",
    "    denominator = 0\n",
    "    \n",
    "    for i in range(len(V_array)):\n",
    "        V = V_array[i]\n",
    "        VD = VD_array[i]\n",
    "        lum = lum_array[i]\n",
    "        R = R_array[i]\n",
    "        \n",
    "        \n",
    "        num = lum * R * np.abs(V)\n",
    "        den = lum * R * np.sqrt(V**2 + VD**2)\n",
    "        \n",
    "        numerator += num\n",
    "        denominator += den\n",
    "        \n",
    "    lambda_R = numerator / denominator\n",
    "    \n",
    "    return lambda_R\n"
   ]
  },
  {
   "cell_type": "code",
   "execution_count": 28,
   "metadata": {},
   "outputs": [],
   "source": [
    "def calc_R (bin_arrays, num_bins):\n",
    "    \n",
    "    bin_R_means = np.zeros(num_bins)\n",
    "    \n",
    "    for i in range(num_bins):\n",
    "        bin_pixels = bin_arrays[bin_arrays[:,2]==i]\n",
    "        bin_xx = bin_pixels[:,0] - 21 # subtract 21 pixels, center don't know which is x and which is y, but doesn't matter for R\n",
    "        bin_yy = bin_pixels[:,1] - 21\n",
    "        bin_R = np.zeros(len(bin_pixels))\n",
    "        for j in range(len(bin_pixels)):\n",
    "            bin_R[j] = np.sqrt(bin_xx[j]**2 + bin_yy[j]**2)\n",
    "        bin_R_means[i] = np.mean(bin_R)*0.1457\n",
    "        \n",
    "    return bin_R_means\n",
    "            "
   ]
  },
  {
   "cell_type": "code",
   "execution_count": 31,
   "metadata": {},
   "outputs": [
    {
     "data": {
      "text/plain": [
       "(array([5., 3., 2., 0., 1., 0., 1., 0., 1., 1.]),\n",
       " array([0.07523905, 0.0958347 , 0.11643034, 0.13702598, 0.15762162,\n",
       "        0.17821726, 0.1988129 , 0.21940855, 0.24000419, 0.26059983,\n",
       "        0.28119547]),\n",
       " <BarContainer object of 10 artists>)"
      ]
     },
     "execution_count": 31,
     "metadata": {},
     "output_type": "execute_result"
    },
    {
     "data": {
      "image/png": "[encoded data removed]",
      "text/plain": [
       "<Figure size 576x432 with 1 Axes>"
      ]
     },
     "metadata": {
      "needs_background": "light"
     },
     "output_type": "display_data"
    },
    {
     "data": {
      "image/png": "[encoded data removed]",
      "text/plain": [
       "<Figure size 576x432 with 1 Axes>"
      ]
     },
     "metadata": {
      "needs_background": "light"
     },
     "output_type": "display_data"
    }
   ],
   "source": [
    "\n",
    "V_sigmas = np.zeros(len(obj_names))\n",
    "lambda_Rs = np.zeros(len(obj_names))\n",
    "VD_ap_int_rms = np.zeros(len(obj_names)) # aperture integrated rms veldisp w/in effective radius\n",
    "\n",
    "b=0\n",
    "\n",
    "for obj_name in obj_names:\n",
    "    \n",
    "    #################\n",
    "    # set up directories\n",
    "    obj_abbr = obj_name[4:9] # e.g. J0029\n",
    "    # data directory\n",
    "    data_dir = '/data/raw_data/KECK_KCWI_SLACS_kinematics_shawn/'\n",
    "    # object directory\n",
    "    dir = f'{data_dir}mosaics/{obj_name}/'\n",
    "    #KCWI mosaic datacube\n",
    "    name = f'KCWI_{obj_abbr}_icubes_mosaic_0.1457'\n",
    "    save_dir = f'{dir}{obj_name}_systematics/'\n",
    "    \n",
    "    #################\n",
    "    # get velocity and bin data \n",
    "    VD=np.genfromtxt(f'{dir}{obj_name}_final_kinematics/{obj_name}_VD_binned.txt',\n",
    "                 delimiter=',')\n",
    "    VD_cov = np.genfromtxt(f'{dir}{obj_name}_final_kinematics/{obj_name}_covariance_matrix_VD.txt',\n",
    "                     delimiter=',')\n",
    "    dVD = np.sqrt(np.diagonal(VD_cov)) # to have error bars\n",
    "    V=np.genfromtxt(f'{dir}{obj_name}_final_kinematics/{obj_name}_V_binned.txt',\n",
    "                     delimiter=',')\n",
    "    # subtract the mean V\n",
    "    V = V - np.mean(V)\n",
    "    # import voronoi binning data (#bins, 5215), spectrum for each bin\n",
    "    voronoi_binning_data = fits.getdata(dir +'voronoi_binning_' + name + '_data.fits')\n",
    "    # import pixel data for bins\n",
    "    vorbin_pixels = np.genfromtxt(f'{dir}voronoi_2d_binning_{name}_output.txt',\n",
    "                 delimiter='')\n",
    "\n",
    "    #################\n",
    "    # sum each bin across all wavelengths to get bin luminosities\n",
    "    bin_luminosities = np.zeros(len(V))\n",
    "    for i in range(len(V)):\n",
    "        lum = np.sum(voronoi_binning_data[i])\n",
    "        bin_luminosities[i] = lum\n",
    "        \n",
    "    #################\n",
    "    # get mean R for each bin by pixel positions\n",
    "    R = calc_R (vorbin_pixels, len(V))\n",
    "        \n",
    "    #################\n",
    "    # calculate V_sigma\n",
    "    V_sigmas[b], VD_ap_int_rms[b], dVD_ap_int_rms = lum_weight_V_sigma ( V, VD, dVD, bin_luminosities )\n",
    "    # calculate lambda_R\n",
    "    lambda_Rs[b] = calc_lambda_R (V, VD, R, bin_luminosities)\n",
    "    \n",
    "    b = b+1\n",
    "    \n",
    "plt.figure()    \n",
    "plt.hist(V_sigmas)\n",
    "plt.figure()\n",
    "plt.hist(lambda_Rs)\n"
   ]
  },
  {
   "cell_type": "code",
   "execution_count": 32,
   "metadata": {},
   "outputs": [
    {
     "data": {
      "text/plain": [
       "array(['E', 'E', 'E', 'E', 'E', 'E', '', 'E', 'E', 'E', 'E', 'E', 'E',\n",
       "       'E'], dtype='<U1')"
      ]
     },
     "execution_count": 32,
     "metadata": {},
     "output_type": "execute_result"
    }
   ],
   "source": [
    "morphologies"
   ]
  },
  {
   "cell_type": "markdown",
   "metadata": {},
   "source": [
    "# All are listed as early-type"
   ]
  },
  {
   "cell_type": "code",
   "execution_count": 33,
   "metadata": {},
   "outputs": [],
   "source": [
    "V_sigmas = V_sigmas[ellipticities > 0]\n",
    "lambda_Rs = lambda_Rs[ellipticities > 0]\n",
    "ellipticities = ellipticities[ellipticities > 0]"
   ]
  },
  {
   "cell_type": "code",
   "execution_count": 34,
   "metadata": {},
   "outputs": [
    {
     "name": "stderr",
     "output_type": "stream",
     "text": [
      "/usr/local/anaconda3/lib/python3.7/site-packages/ipykernel_launcher.py:15: RuntimeWarning: invalid value encountered in double_scalars\n",
      "  from ipykernel import kernelapp as app\n",
      "/usr/local/anaconda3/lib/python3.7/site-packages/ipykernel_launcher.py:12: RuntimeWarning: divide by zero encountered in double_scalars\n",
      "  if sys.path[0] == '':\n",
      "/usr/local/anaconda3/lib/python3.7/site-packages/ipykernel_launcher.py:6: RuntimeWarning: invalid value encountered in double_scalars\n",
      "  \n"
     ]
    },
    {
     "data": {
      "text/plain": [
       "<matplotlib.legend.Legend at 0x7fabf3454eb8>"
      ]
     },
     "execution_count": 34,
     "metadata": {},
     "output_type": "execute_result"
    },
    {
     "data": {
      "image/png": "[encoded data removed]",
      "text/plain": [
       "<Figure size 576x576 with 1 Axes>"
      ]
     },
     "metadata": {
      "needs_background": "light"
     },
     "output_type": "display_data"
    },
    {
     "data": {
      "image/png": "[encoded data removed]",
      "text/plain": [
       "<Figure size 576x576 with 1 Axes>"
      ]
     },
     "metadata": {
      "needs_background": "light"
     },
     "output_type": "display_data"
    }
   ],
   "source": [
    "# plot the V_sigma and lambda_R to ellipticities\n",
    "\n",
    "epsilons = np.linspace(0.0,1.0,100)\n",
    "V_sigmas_iso = np.zeros(100)\n",
    "lambda_Rs_iso = np.zeros(100)\n",
    "\n",
    "i=0\n",
    "for epsilon in epsilons:\n",
    "    V_sigma = calc_isotropic_V_sigma(epsilon)\n",
    "    V_sigmas_iso[i] = V_sigma\n",
    "    lambda_Rs_iso[i] = calc_Vsig_to_lamR(V_sigma)\n",
    "    i = i+1\n",
    "\n",
    "\n",
    "plt.figure(figsize=(8,8))\n",
    "plt.xlim(0.0,1.0)\n",
    "plt.ylim(0.0,1.0)\n",
    "plt.plot(epsilons, V_sigmas_iso, \n",
    "         c='limegreen',linewidth=4,zorder=-1,\n",
    "        label='isotropic rotator')\n",
    "plt.plot(epsilons, 1/3 * V_sigmas_iso, \n",
    "         c='magenta',linewidth=4,zorder=-1,\n",
    "        label=r'1/3 $\\times$ isotropic')\n",
    "plt.scatter(ellipticities, V_sigmas, s=100)\n",
    "plt.xlabel(r'$\\epsilon$',fontsize=16)\n",
    "plt.ylabel(r'$V/\\sigma$',fontsize=16)\n",
    "plt.legend()\n",
    "\n",
    "\n",
    "plt.figure(figsize=(8,8))\n",
    "plt.xlim(0.0,1.0)\n",
    "plt.ylim(0.0,1.0)\n",
    "plt.plot(epsilons, lambda_Rs_iso, c='limegreen',linewidth=4,zorder=-1)\n",
    "plt.plot(epsilons, 1/3 * lambda_Rs_iso, c='magenta',linewidth=4,zorder=-1)\n",
    "plt.plot([0.0, 0.4],[0.08, 0.08+0.4/4],\n",
    "         linestyle='-',c='k',linewidth=4,zorder=-1)\n",
    "plt.plot([0.4, 0.4],[0.0, 0.08+0.4/4],\n",
    "         linestyle='-',c='k',linewidth=4,zorder=-1,\n",
    "        label=r'$\\lambda_R = 0.08 + \\epsilon/4$')\n",
    "plt.scatter(ellipticities, lambda_Rs, s=100)\n",
    "plt.xlabel(r'$\\epsilon$',fontsize=16)\n",
    "plt.ylabel(r'$\\lambda_R$',fontsize=16)\n",
    "plt.legend()"
   ]
  },
  {
   "cell_type": "code",
   "execution_count": 34,
   "metadata": {},
   "outputs": [
    {
     "data": {
      "text/plain": [
       "array([[0.16      , 0.27      , 0.23      , 0.23      , 0.03      ,\n",
       "        0.03      , 0.091     , 0.23      , 0.32      , 0.18      ,\n",
       "        0.27      , 0.15      , 0.16      , 0.36      ],\n",
       "       [0.11207741, 0.19193151, 0.14448807, 0.28337142, 0.08016957,\n",
       "        0.15495014, 0.11004297, 0.09662315, 0.08018216, 0.10181765,\n",
       "        0.24134413, 0.08844863, 0.12160354, 0.08337562],\n",
       "       [0.10867334, 0.19998203, 0.13448152, 0.28119547, 0.07523905,\n",
       "        0.17003366, 0.10822951, 0.10100174, 0.08074321, 0.09362663,\n",
       "        0.25352513, 0.07872223, 0.12681699, 0.08089614]])"
      ]
     },
     "execution_count": 34,
     "metadata": {},
     "output_type": "execute_result"
    }
   ],
   "source": [
    "np.vstack((ellipticities, V_sigmas, lambda_Rs))"
   ]
  },
  {
   "cell_type": "markdown",
   "metadata": {},
   "source": [
    "# Above was all done without taking the effective radius as the boundary for integration. Let's see if it makes a difference"
   ]
  },
  {
   "cell_type": "code",
   "execution_count": 35,
   "metadata": {},
   "outputs": [
    {
     "name": "stdout",
     "output_type": "stream",
     "text": [
      "length before cutting... 193\n",
      "length after cutting... 187\n",
      "\n",
      "length before cutting... 303\n",
      "length after cutting... 281\n",
      "\n",
      "length before cutting... 12\n",
      "length after cutting... 7\n",
      "\n",
      "length before cutting... 18\n",
      "length after cutting... 18\n",
      "\n",
      "length before cutting... 99\n",
      "length after cutting... 84\n",
      "\n",
      "length before cutting... 65\n",
      "length after cutting... 53\n",
      "\n",
      "length before cutting... 64\n",
      "length after cutting... 64\n",
      "\n",
      "length before cutting... 108\n",
      "length after cutting... 108\n",
      "\n",
      "length before cutting... 39\n",
      "length after cutting... 39\n",
      "\n",
      "length before cutting... 45\n",
      "length after cutting... 34\n",
      "\n",
      "length before cutting... 37\n",
      "length after cutting... 37\n",
      "\n",
      "length before cutting... 71\n",
      "length after cutting... 66\n",
      "\n",
      "length before cutting... 52\n",
      "length after cutting... 48\n",
      "\n",
      "length before cutting... 54\n",
      "length after cutting... 54\n",
      "\n"
     ]
    },
    {
     "data": {
      "text/plain": [
       "(array([1., 5., 5., 0., 0., 1., 0., 0., 1., 1.]),\n",
       " array([0.04463938, 0.06829499, 0.0919506 , 0.11560621, 0.13926182,\n",
       "        0.16291743, 0.18657304, 0.21022864, 0.23388425, 0.25753986,\n",
       "        0.28119547]),\n",
       " <BarContainer object of 10 artists>)"
      ]
     },
     "execution_count": 35,
     "metadata": {},
     "output_type": "execute_result"
    },
    {
     "data": {
      "image/png": "[encoded data removed]",
      "text/plain": [
       "<Figure size 432x288 with 1 Axes>"
      ]
     },
     "metadata": {
      "needs_background": "light"
     },
     "output_type": "display_data"
    },
    {
     "data": {
      "image/png": "[encoded data removed]",
      "text/plain": [
       "<Figure size 432x288 with 1 Axes>"
      ]
     },
     "metadata": {
      "needs_background": "light"
     },
     "output_type": "display_data"
    }
   ],
   "source": [
    "#################################################\n",
    "# objects\n",
    "obj_names = ['SDSSJ0029-0055',\n",
    "             'SDSSJ0037-0942',\n",
    "             'SDSSJ0330-0020',\n",
    "             'SDSSJ1112+0826',\n",
    "             'SDSSJ1204+0358',\n",
    "             'SDSSJ1250+0523',\n",
    "             'SDSSJ1306+0600',\n",
    "             'SDSSJ1402+6321',\n",
    "             'SDSSJ1531-0105',\n",
    "             'SDSSJ1538+5817',\n",
    "             'SDSSJ1621+3931',\n",
    "             'SDSSJ1627-0053',\n",
    "             'SDSSJ1630+4520',\n",
    "             'SDSSJ2303+1422'\n",
    "            ]\n",
    "\n",
    "V_sigmas = np.zeros(len(obj_names))\n",
    "lambda_Rs = np.zeros(len(obj_names))\n",
    "VD_ap_int_rms = np.zeros(len(obj_names))\n",
    "dVD_ap_int_rms = np.zeros(len(obj_names))\n",
    "\n",
    "b=0\n",
    "\n",
    "for obj_name in obj_names:\n",
    "       \n",
    "    #################\n",
    "    # set up directories\n",
    "    obj_abbr = obj_name[4:9] # e.g. J0029\n",
    "    # data directory\n",
    "    data_dir = '/data/raw_data/KECK_KCWI_SLACS_kinematics_shawn/'\n",
    "    # object directory\n",
    "    dir = f'{data_dir}mosaics/{obj_name}/'\n",
    "    #KCWI mosaic datacube\n",
    "    name = f'KCWI_{obj_abbr}_icubes_mosaic_0.1457'\n",
    "    save_dir = f'{dir}{obj_name}_systematics/'\n",
    "\n",
    "    #################\n",
    "    # get velocity and bin data \n",
    "    VD=np.genfromtxt(f'{dir}{obj_name}_final_kinematics/{obj_name}_VD_binned.txt',\n",
    "             delimiter=',')\n",
    "    VD_cov = np.genfromtxt(f'{dir}{obj_name}_final_kinematics/{obj_name}_covariance_matrix_VD.txt',\n",
    "                     delimiter=',')\n",
    "    dVD = np.sqrt(np.diagonal(VD_cov))\n",
    "    V=np.genfromtxt(f'{dir}{obj_name}_final_kinematics/{obj_name}_V_binned.txt',\n",
    "                     delimiter=',')\n",
    "    # subtract the mean V\n",
    "    V = V - np.mean(V)\n",
    "    # import voronoi binning data (#bins, 5215), spectrum for each bin\n",
    "    voronoi_binning_data = fits.getdata(dir +'voronoi_binning_' + name + '_data.fits')\n",
    "    # import pixel data for bins\n",
    "    vorbin_pixels = np.genfromtxt(f'{dir}voronoi_2d_binning_{name}_output.txt',\n",
    "                 delimiter='')\n",
    "    #################\n",
    "    # sum each bin across all wavelengths to get bin luminosities\n",
    "    bin_luminosities = np.zeros(len(V))\n",
    "    for i in range(len(V)):\n",
    "        lum = np.sum(voronoi_binning_data[i])\n",
    "        bin_luminosities[i] = lum\n",
    "        \n",
    "    # get pixel luminosities\n",
    "    # calculate pixel luminosities\n",
    "    #pixel_luminosities = np.zeros(len(vorbin_pixels))\n",
    "    #for i in range(len(vorbin_pixels)):\n",
    "    #    x = int(vorbin_pixels[i,0])                      ###### For future, better calculation by weighting only the *pixels* within the effective radius\n",
    "    #    y = int(vorbin_pixels[i,1])\n",
    "    #    pixel_luminosity = summed_datacube[y,x]\n",
    "    #    pixel_luminosities[i] = pixel_luminosity \n",
    "        \n",
    "\n",
    "    #################\n",
    "    # get mean R for each bin by pixel positions\n",
    "    short_name = obj_name[4:]\n",
    "    R = calc_R (vorbin_pixels, len(V))\n",
    "    print(f'length before cutting... {len(R)}')\n",
    "    effective_radius = reffs[b]\n",
    "    condition = R < effective_radius\n",
    "    R = R[condition]\n",
    "    V = V[condition]\n",
    "    VD = VD[condition]\n",
    "    dVD = dVD[condition]\n",
    "    bin_luminosities = bin_luminosities[condition]\n",
    "    print(f'length after cutting... {len(R)}')\n",
    "    print()\n",
    "\n",
    "    #################\n",
    "    # calculate V_sigma\n",
    "    V_sigmas[b], VD_ap_int_rms[b], dVD_ap_int_rms[b] = lum_weight_V_sigma ( V, VD, dVD, bin_luminosities )\n",
    "    # calculate lambda_R\n",
    "    lambda_Rs[b] = calc_lambda_R (V, VD, R, bin_luminosities)\n",
    "\n",
    "    b = b+1\n",
    "    \n",
    "plt.figure()    \n",
    "plt.hist(V_sigmas)\n",
    "plt.figure()\n",
    "plt.hist(lambda_Rs)\n"
   ]
  },
  {
   "cell_type": "code",
   "execution_count": 36,
   "metadata": {},
   "outputs": [
    {
     "data": {
      "text/plain": [
       "'/data/raw_data/KECK_KCWI_SLACS_kinematics_shawn/mosaics/SDSSJ2303+1422/SDSSJ2303+1422_systematics/'"
      ]
     },
     "execution_count": 36,
     "metadata": {},
     "output_type": "execute_result"
    }
   ],
   "source": [
    "save_dir"
   ]
  },
  {
   "cell_type": "code",
   "execution_count": 37,
   "metadata": {},
   "outputs": [],
   "source": [
    "V_sigmas = V_sigmas[ellipticities > 0]\n",
    "lambda_Rs = lambda_Rs[ellipticities > 0]\n",
    "ellipticities = ellipticities[ellipticities > 0]"
   ]
  },
  {
   "cell_type": "code",
   "execution_count": 38,
   "metadata": {},
   "outputs": [
    {
     "name": "stderr",
     "output_type": "stream",
     "text": [
      "/usr/local/anaconda3/lib/python3.7/site-packages/ipykernel_launcher.py:15: RuntimeWarning: invalid value encountered in double_scalars\n",
      "  from ipykernel import kernelapp as app\n",
      "/usr/local/anaconda3/lib/python3.7/site-packages/ipykernel_launcher.py:12: RuntimeWarning: divide by zero encountered in double_scalars\n",
      "  if sys.path[0] == '':\n",
      "/usr/local/anaconda3/lib/python3.7/site-packages/ipykernel_launcher.py:6: RuntimeWarning: invalid value encountered in double_scalars\n",
      "  \n"
     ]
    },
    {
     "data": {
      "image/png": "[encoded data removed]",
      "text/plain": [
       "<Figure size 576x576 with 1 Axes>"
      ]
     },
     "metadata": {
      "needs_background": "light"
     },
     "output_type": "display_data"
    },
    {
     "data": {
      "image/png": "[encoded data removed]",
      "text/plain": [
       "<Figure size 576x576 with 1 Axes>"
      ]
     },
     "metadata": {
      "needs_background": "light"
     },
     "output_type": "display_data"
    }
   ],
   "source": [
    "# plot the V_sigma and lambda_R to ellipticities\n",
    "\n",
    "\n",
    "epsilons = np.linspace(0.0,1.0,100)\n",
    "V_sigmas_iso = np.zeros(100)\n",
    "lambda_Rs_iso = np.zeros(100)\n",
    "\n",
    "i=0\n",
    "for epsilon in epsilons:\n",
    "    V_sigma = calc_isotropic_V_sigma(epsilon)\n",
    "    V_sigmas_iso[i] = V_sigma\n",
    "    lambda_Rs_iso[i] = calc_Vsig_to_lamR(V_sigma)\n",
    "    i = i+1\n",
    "\n",
    "\n",
    "plt.figure(figsize=(8,8))\n",
    "plt.xlim(0.0,1.0)\n",
    "plt.ylim(0.0,1.0)\n",
    "plt.plot(epsilons, V_sigmas_iso, \n",
    "         c='limegreen',linewidth=4,zorder=-1,\n",
    "        label='isotropic rotator')\n",
    "plt.plot(epsilons, 1/3 * V_sigmas_iso, \n",
    "         c='magenta',linewidth=4,zorder=-1,\n",
    "        label=r'1/3 $\\times$ isotropic')\n",
    "plt.scatter(ellipticities, V_sigmas, s=100)\n",
    "plt.xlabel(r'$\\epsilon$',fontsize=16)\n",
    "plt.ylabel(r'$V/\\sigma$',fontsize=16)\n",
    "plt.legend()\n",
    "plt.savefig(f'{data_dir}mosaics/kinematic_class_vsigma.png')\n",
    "plt.savefig(f'{data_dir}mosaics/kinematic_class_vsigma.pdf')\n",
    "\n",
    "\n",
    "plt.figure(figsize=(8,8))\n",
    "plt.xlim(0.0,1.0)\n",
    "plt.ylim(0.0,1.0)\n",
    "plt.plot(epsilons, lambda_Rs_iso, c='limegreen',linewidth=4,zorder=-1)\n",
    "plt.plot(epsilons, 1/3 * lambda_Rs_iso, c='magenta',linewidth=4,zorder=-1)\n",
    "plt.plot([0.0, 0.4],[0.08, 0.08+0.4/4],\n",
    "         linestyle='-',c='k',linewidth=4,zorder=-1)\n",
    "plt.plot([0.4, 0.4],[0.0, 0.08+0.4/4],\n",
    "         linestyle='-',c='k',linewidth=4,zorder=-1,\n",
    "        label=r'$\\lambda_R = 0.08 + \\epsilon/4$')\n",
    "plt.scatter(ellipticities, lambda_Rs, s=100)\n",
    "plt.xlabel(r'$\\epsilon$',fontsize=16)\n",
    "plt.ylabel(r'$\\lambda_R$',fontsize=16)\n",
    "plt.legend()\n",
    "plt.savefig(f'{data_dir}mosaics/kinematic_class_lambdar.png')\n",
    "plt.savefig(f'{data_dir}mosaics/kinematic_class_lambdar.pdf')"
   ]
  },
  {
   "cell_type": "code",
   "execution_count": 39,
   "metadata": {},
   "outputs": [],
   "source": [
    "#obj_names_a = np.array(obj_names)\n",
    "#obj_names_a = np.delete(obj_names_a, 6)"
   ]
  },
  {
   "cell_type": "code",
   "execution_count": 40,
   "metadata": {},
   "outputs": [],
   "source": [
    "#obj_names_a[lambda_Rs>0.17]"
   ]
  },
  {
   "cell_type": "code",
   "execution_count": 41,
   "metadata": {},
   "outputs": [
    {
     "data": {
      "text/plain": [
       "array([0.1777557 , 0.28119547, 0.25352513])"
      ]
     },
     "execution_count": 41,
     "metadata": {},
     "output_type": "execute_result"
    }
   ],
   "source": [
    "lambda_Rs[lambda_Rs>0.17]"
   ]
  },
  {
   "cell_type": "code",
   "execution_count": 42,
   "metadata": {},
   "outputs": [
    {
     "data": {
      "text/plain": [
       "array([0.10038901, 0.1777557 , 0.07339927, 0.28119547, 0.07030964,\n",
       "       0.09800887, 0.10822951, 0.10100174, 0.08074321, 0.04463938,\n",
       "       0.25352513, 0.07437719, 0.10584494, 0.08089614])"
      ]
     },
     "execution_count": 42,
     "metadata": {},
     "output_type": "execute_result"
    }
   ],
   "source": [
    "lambda_Rs"
   ]
  },
  {
   "cell_type": "code",
   "execution_count": 43,
   "metadata": {},
   "outputs": [
    {
     "data": {
      "text/plain": [
       "array([0.16 , 0.27 , 0.23 , 0.23 , 0.03 , 0.03 , 0.091, 0.23 , 0.32 ,\n",
       "       0.18 , 0.27 , 0.15 , 0.16 , 0.36 ])"
      ]
     },
     "execution_count": 43,
     "metadata": {},
     "output_type": "execute_result"
    }
   ],
   "source": [
    "ellipticities"
   ]
  },
  {
   "cell_type": "code",
   "execution_count": 44,
   "metadata": {},
   "outputs": [
    {
     "data": {
      "text/plain": [
       "['SDSSJ0029-0055',\n",
       " 'SDSSJ0037-0942',\n",
       " 'SDSSJ0330-0020',\n",
       " 'SDSSJ1112+0826',\n",
       " 'SDSSJ1204+0358',\n",
       " 'SDSSJ1250+0523',\n",
       " 'SDSSJ1306+0600',\n",
       " 'SDSSJ1402+6321',\n",
       " 'SDSSJ1531-0105',\n",
       " 'SDSSJ1538+5817',\n",
       " 'SDSSJ1621+3931',\n",
       " 'SDSSJ1627-0053',\n",
       " 'SDSSJ1630+4520',\n",
       " 'SDSSJ2303+1422']"
      ]
     },
     "execution_count": 44,
     "metadata": {},
     "output_type": "execute_result"
    }
   ],
   "source": [
    "obj_names"
   ]
  },
  {
   "cell_type": "code",
   "execution_count": 45,
   "metadata": {},
   "outputs": [],
   "source": [
    "# Get the SDSS sigma (not corrected)"
   ]
  },
  {
   "cell_type": "code",
   "execution_count": 46,
   "metadata": {},
   "outputs": [
    {
     "data": {
      "text/plain": [
       "array([229., 279., 212., 320., 267., 252.,   0., 267., 279., 189., 236.,\n",
       "       290., 276., 255.])"
      ]
     },
     "execution_count": 46,
     "metadata": {},
     "output_type": "execute_result"
    }
   ],
   "source": [
    "sdss_sigmas"
   ]
  },
  {
   "cell_type": "code",
   "execution_count": 47,
   "metadata": {},
   "outputs": [
    {
     "data": {
      "text/plain": [
       "array([199.36699242, 259.19827888, 227.74603688, 255.24973187,\n",
       "       246.69221146, 228.07360863, 224.65994837, 266.47704382,\n",
       "       254.15471111, 228.4114471 , 241.51338048, 254.50388677,\n",
       "       250.2633312 , 244.37378391])"
      ]
     },
     "execution_count": 47,
     "metadata": {},
     "output_type": "execute_result"
    }
   ],
   "source": [
    "VD_ap_int_rms"
   ]
  },
  {
   "cell_type": "code",
   "execution_count": 48,
   "metadata": {},
   "outputs": [
    {
     "data": {
      "image/png": "[encoded data removed]",
      "text/plain": [
       "<Figure size 432x288 with 1 Axes>"
      ]
     },
     "metadata": {
      "needs_background": "light"
     },
     "output_type": "display_data"
    }
   ],
   "source": [
    "plt.figure()\n",
    "plt.errorbar(range(len(sdss_sigmas)), sdss_sigmas, sdss_sigmas_err, c='k', linestyle='', marker='o', label='SLACS V - Bolton et al. 2008')\n",
    "plt.errorbar(range(len(sdss_sigmas)), VD_ap_int_rms, dVD_ap_int_rms, c='b', linestyle='', marker='o', label='KCWI integrated')\n",
    "plt.ylim(150, 350)\n",
    "plt.legend()\n",
    "plt.xticks(range(14),labels=obj_names, rotation=90)\n",
    "plt.ylabel(r'$\\sigma$ km/s')\n",
    "plt.tight_layout()\n",
    "plt.savefig(f'{data_dir}mosaics/integrated_sigma_vs_slacs.png')\n",
    "plt.savefig(f'{data_dir}mosaics/integrated_sigma_vs_slacs.pdf')"
   ]
  },
  {
   "cell_type": "code",
   "execution_count": 49,
   "metadata": {},
   "outputs": [],
   "source": [
    "# combine info for a table"
   ]
  },
  {
   "cell_type": "code",
   "execution_count": 50,
   "metadata": {},
   "outputs": [
    {
     "data": {
      "text/plain": [
       "array([199.367, 259.198, 227.746, 255.25 , 246.692, 228.074, 224.66 ,\n",
       "       266.477, 254.155, 228.411, 241.513, 254.504, 250.263, 244.374])"
      ]
     },
     "execution_count": 50,
     "metadata": {},
     "output_type": "execute_result"
    }
   ],
   "source": [
    "np.set_printoptions(precision=3, suppress=True)\n",
    "\n",
    "VD_ap_int_rms"
   ]
  },
  {
   "cell_type": "code",
   "execution_count": 51,
   "metadata": {},
   "outputs": [],
   "source": [
    "table = np.vstack((VD_ap_int_rms, dVD_ap_int_rms, sdss_sigmas, sdss_sigmas_err, ellipticities, V_sigmas, lambda_Rs))\n",
    "df = pd.DataFrame(table.T)\n",
    "df.insert(0, 'obj_names', obj_names, True)\n",
    "#df.to_numpy()"
   ]
  },
  {
   "cell_type": "code",
   "execution_count": 52,
   "metadata": {},
   "outputs": [],
   "source": [
    "def bmatrix(a, b):\n",
    "    \"\"\"Returns a LaTeX bmatrix\n",
    "\n",
    "    :a: numpy array\n",
    "    :returns: LaTeX bmatrix as a string\n",
    "    \"\"\"\n",
    "    if len(a.shape) > 2:\n",
    "        raise ValueError('bmatrix can at most display two dimensions')\n",
    "    lines = str(a).replace('[', '').replace(']', '').splitlines()\n",
    "    rv = [r'\\begin{bmatrix}']\n",
    "    rv += [b[i] + ' & ' + ' & '.join(lines[i].split()) + r'\\\\' for i in range(len(lines))]\n",
    "    rv +=  [r'\\end{bmatrix}']\n",
    "    return '\\n'.join(rv)"
   ]
  },
  {
   "cell_type": "code",
   "execution_count": 53,
   "metadata": {},
   "outputs": [
    {
     "name": "stdout",
     "output_type": "stream",
     "text": [
      "\\begin{bmatrix}\n",
      "SDSSJ0029-0055 & 199.367 & 13.881 & 229. & 18. & 0.16 & 0.107 & 0.1\\\\\n",
      "SDSSJ0037-0942 & 259.198 & 12.98 & 279. & 14. & 0.27 & 0.176 & 0.178\\\\\n",
      "SDSSJ0330-0020 & 227.746 & 13.121 & 212. & 21. & 0.23 & 0.094 & 0.073\\\\\n",
      "SDSSJ1112+0826 & 255.25 & 6.799 & 320. & 20. & 0.23 & 0.283 & 0.281\\\\\n",
      "SDSSJ1204+0358 & 246.692 & 8.316 & 267. & 17. & 0.03 & 0.078 & 0.07\\\\\n",
      "SDSSJ1250+0523 & 228.074 & 6.552 & 252. & 14. & 0.03 & 0.097 & 0.098\\\\\n",
      "SDSSJ1306+0600 & 224.66 & 14.157 & 0. & 0. & 0.091 & 0.11 & 0.108\\\\\n",
      "SDSSJ1402+6321 & 266.477 & 9.517 & 267. & 17. & 0.23 & 0.097 & 0.101\\\\\n",
      "SDSSJ1531-0105 & 254.155 & 18.07 & 279. & 14. & 0.32 & 0.08 & 0.081\\\\\n",
      "SDSSJ1538+5817 & 228.411 & 9.362 & 189. & 12. & 0.18 & 0.056 & 0.045\\\\\n",
      "SDSSJ1621+3931 & 241.513 & 12.678 & 236. & 20. & 0.27 & 0.241 & 0.254\\\\\n",
      "SDSSJ1627-0053 & 254.504 & 19.166 & 290. & 15. & 0.15 & 0.086 & 0.074\\\\\n",
      "SDSSJ1630+4520 & 250.263 & 9.64 & 276. & 16. & 0.16 & 0.107 & 0.106\\\\\n",
      "SDSSJ2303+1422 & 244.374 & 16.478 & 255. & 16. & 0.36 & 0.083 & 0.081\\\\\n",
      "\\end{bmatrix}\n"
     ]
    }
   ],
   "source": [
    "print(bmatrix(table.T, obj_names))"
   ]
  },
  {
   "cell_type": "code",
   "execution_count": 54,
   "metadata": {},
   "outputs": [
    {
     "name": "stdout",
     "output_type": "stream",
     "text": [
      "SDSSJ0029-0055\n",
      "s s\n",
      "\n",
      "SDSSJ0037-0942\n",
      "f f\n",
      "\n",
      "SDSSJ0330-0020\n",
      "s s\n",
      "\n",
      "SDSSJ1112+0826\n",
      "f f\n",
      "\n",
      "SDSSJ1204+0358\n",
      "f s\n",
      "\n",
      "SDSSJ1250+0523\n",
      "f f\n",
      "\n",
      "SDSSJ1306+0600\n",
      "f f\n",
      "\n",
      "SDSSJ1402+6321\n",
      "s s\n",
      "\n",
      "SDSSJ1531-0105\n",
      "s s\n",
      "\n",
      "SDSSJ1538+5817\n",
      "s s\n",
      "\n",
      "SDSSJ1621+3931\n",
      "f f\n",
      "\n",
      "SDSSJ1627-0053\n",
      "s s\n",
      "\n",
      "SDSSJ1630+4520\n",
      "s s\n",
      "\n",
      "SDSSJ2303+1422\n",
      "s s\n",
      "\n"
     ]
    }
   ],
   "source": [
    "# classification according to the Cappellari paper\n",
    "\n",
    "V_sig_class = np.empty(14, dtype=str)\n",
    "lam_R_class = np.empty(14, dtype=str)\n",
    "\n",
    "for i in range(14):\n",
    "    \n",
    "    print(obj_names[i])\n",
    "    \n",
    "    V_sig = V_sigmas[i]\n",
    "    lam_R = lambda_Rs[i]\n",
    "    ellip = ellipticities[i]\n",
    "    \n",
    "    V_sig_bound = calc_isotropic_V_sigma(ellip) / 3\n",
    "    lam_R_bound = 0.08 + ellip/4\n",
    "    \n",
    "    if (V_sig < V_sig_bound):\n",
    "        V_sig_class[i] = 'slow'\n",
    "    elif (V_sig > V_sig_bound):\n",
    "        V_sig_class[i] = 'fast'\n",
    "    \n",
    "    if (lam_R < lam_R_bound):\n",
    "        lam_R_class[i] = 'slow'\n",
    "    elif (lam_R > lam_R_bound):\n",
    "        lam_R_class[i] = 'fast'\n",
    "        \n",
    "    print(V_sig_class[i], lam_R_class[i])\n",
    "    \n",
    "    print()"
   ]
  },
  {
   "cell_type": "code",
   "execution_count": 55,
   "metadata": {},
   "outputs": [
    {
     "data": {
      "text/plain": [
       "array(['s', 'f', 's', 'f', 'f', 'f', 'f', 's', 's', 's', 'f', 's', 's',\n",
       "       's'], dtype='<U1')"
      ]
     },
     "execution_count": 55,
     "metadata": {},
     "output_type": "execute_result"
    }
   ],
   "source": [
    "V_sig_class"
   ]
  },
  {
   "cell_type": "code",
   "execution_count": 56,
   "metadata": {},
   "outputs": [
    {
     "data": {
      "text/plain": [
       "array(['s', 'f', 's', 'f', 's', 'f', 'f', 's', 's', 's', 'f', 's', 's',\n",
       "       's'], dtype='<U1')"
      ]
     },
     "execution_count": 56,
     "metadata": {},
     "output_type": "execute_result"
    }
   ],
   "source": [
    "lam_R_class"
   ]
  },
  {
   "cell_type": "code",
   "execution_count": 57,
   "metadata": {},
   "outputs": [],
   "source": [
    "def bmatrix(a, b, c, d):\n",
    "    \"\"\"Returns a LaTeX bmatrix\n",
    "\n",
    "    :a: numpy array\n",
    "    :returns: LaTeX bmatrix as a string\n",
    "    \"\"\"\n",
    "    if len(a.shape) > 2:\n",
    "        raise ValueError('bmatrix can at most display two dimensions')\n",
    "    lines = str(a).replace('[', '').replace(']', '').splitlines()\n",
    "    rv = [r'\\begin{bmatrix}']\n",
    "    rv += [b[i] + ' & ' + ' & '.join(lines[i].split()) + ' & ' + c[i] + ' & ' + d[i] + r'\\\\' for i in range(len(lines))]\n",
    "    rv +=  [r'\\end{bmatrix}']\n",
    "    return '\\n'.join(rv)"
   ]
  },
  {
   "cell_type": "code",
   "execution_count": 58,
   "metadata": {},
   "outputs": [
    {
     "name": "stdout",
     "output_type": "stream",
     "text": [
      "\\begin{bmatrix}\n",
      "SDSSJ0029-0055 & 199.367 & 13.881 & 229. & 18. & 0.16 & 0.107 & 0.1 & s & s\\\\\n",
      "SDSSJ0037-0942 & 259.198 & 12.98 & 279. & 14. & 0.27 & 0.176 & 0.178 & f & f\\\\\n",
      "SDSSJ0330-0020 & 227.746 & 13.121 & 212. & 21. & 0.23 & 0.094 & 0.073 & s & s\\\\\n",
      "SDSSJ1112+0826 & 255.25 & 6.799 & 320. & 20. & 0.23 & 0.283 & 0.281 & f & f\\\\\n",
      "SDSSJ1204+0358 & 246.692 & 8.316 & 267. & 17. & 0.03 & 0.078 & 0.07 & f & s\\\\\n",
      "SDSSJ1250+0523 & 228.074 & 6.552 & 252. & 14. & 0.03 & 0.097 & 0.098 & f & f\\\\\n",
      "SDSSJ1306+0600 & 224.66 & 14.157 & 0. & 0. & 0.091 & 0.11 & 0.108 & f & f\\\\\n",
      "SDSSJ1402+6321 & 266.477 & 9.517 & 267. & 17. & 0.23 & 0.097 & 0.101 & s & s\\\\\n",
      "SDSSJ1531-0105 & 254.155 & 18.07 & 279. & 14. & 0.32 & 0.08 & 0.081 & s & s\\\\\n",
      "SDSSJ1538+5817 & 228.411 & 9.362 & 189. & 12. & 0.18 & 0.056 & 0.045 & s & s\\\\\n",
      "SDSSJ1621+3931 & 241.513 & 12.678 & 236. & 20. & 0.27 & 0.241 & 0.254 & f & f\\\\\n",
      "SDSSJ1627-0053 & 254.504 & 19.166 & 290. & 15. & 0.15 & 0.086 & 0.074 & s & s\\\\\n",
      "SDSSJ1630+4520 & 250.263 & 9.64 & 276. & 16. & 0.16 & 0.107 & 0.106 & s & s\\\\\n",
      "SDSSJ2303+1422 & 244.374 & 16.478 & 255. & 16. & 0.36 & 0.083 & 0.081 & s & s\\\\\n",
      "\\end{bmatrix}\n"
     ]
    }
   ],
   "source": [
    "print(bmatrix(table.T, obj_names, V_sig_class, lam_R_class))"
   ]
  },
  {
   "cell_type": "code",
   "execution_count": 59,
   "metadata": {},
   "outputs": [],
   "source": [
    "# plot fast and slow on the vsig and lamr plots"
   ]
  },
  {
   "cell_type": "code",
   "execution_count": 60,
   "metadata": {},
   "outputs": [],
   "source": [
    "slow1 = V_sig_class == 's'\n",
    "fast1 = V_sig_class == 'f'\n",
    "slow2 = lam_R_class == 's'\n",
    "fast2 = lam_R_class == 'f'\n",
    "\n",
    "eps_slow1 = ellipticities[slow1]\n",
    "V_sigmas_slow = V_sigmas[slow1]\n",
    "eps_fast1 = ellipticities[fast1]\n",
    "V_sigmas_fast = V_sigmas[fast1]\n",
    "\n",
    "eps_slow2 = ellipticities[slow2]\n",
    "lambda_Rs_slow = lambda_Rs[slow2]\n",
    "eps_fast2 = ellipticities[fast2]\n",
    "lambda_Rs_fast = lambda_Rs[fast2]"
   ]
  },
  {
   "cell_type": "code",
   "execution_count": 61,
   "metadata": {},
   "outputs": [
    {
     "data": {
      "image/png": "[encoded data removed]",
      "text/plain": [
       "<Figure size 576x576 with 1 Axes>"
      ]
     },
     "metadata": {
      "needs_background": "light"
     },
     "output_type": "display_data"
    },
    {
     "data": {
      "image/png": "[encoded data removed]",
      "text/plain": [
       "<Figure size 576x576 with 1 Axes>"
      ]
     },
     "metadata": {
      "needs_background": "light"
     },
     "output_type": "display_data"
    }
   ],
   "source": [
    "# plot the V_sigma and lambda_R to ellipticities\n",
    "\n",
    "plt.figure(figsize=(8,8))\n",
    "plt.xlim(0.0,1.0)\n",
    "plt.ylim(0.0,1.0)\n",
    "plt.plot(epsilons, V_sigmas_iso, \n",
    "         c='limegreen',linewidth=4,zorder=-1,\n",
    "        label='isotropic rotator')\n",
    "plt.plot(epsilons, 1/3 * V_sigmas_iso, \n",
    "         c='magenta',linewidth=4,zorder=-1,\n",
    "        label=r'1/3 $\\times$ isotropic')\n",
    "plt.scatter(eps_slow1, V_sigmas_slow, s=150, c='r', label='slow rotator')\n",
    "plt.scatter(eps_fast1, V_sigmas_fast, s=200, c='b', marker='$\\Phi$', label='fast rotator')\n",
    "plt.xlabel(r'$\\epsilon$',fontsize=16)\n",
    "plt.ylabel(r'$V/\\sigma$',fontsize=16)\n",
    "plt.legend()\n",
    "plt.savefig(f'{data_dir}mosaics/kinematic_class_vsigma.png')\n",
    "plt.savefig(f'{data_dir}mosaics/kinematic_class_vsigma.pdf')\n",
    "\n",
    "\n",
    "plt.figure(figsize=(8,8))\n",
    "plt.xlim(0.0,1.0)\n",
    "plt.ylim(0.0,1.0)\n",
    "plt.plot(epsilons, lambda_Rs_iso, c='limegreen',linewidth=4,zorder=-1)\n",
    "plt.plot(epsilons, 1/3 * lambda_Rs_iso, c='magenta',linewidth=4,zorder=-1)\n",
    "plt.plot([0.0, 0.4],[0.08, 0.08+0.4/4],\n",
    "         linestyle='-',c='k',linewidth=4,zorder=-1)\n",
    "plt.plot([0.4, 0.4],[0.0, 0.08+0.4/4],\n",
    "         linestyle='-',c='k',linewidth=4,zorder=-1,\n",
    "        label=r'$\\lambda_R = 0.08 + \\epsilon/4$')\n",
    "plt.scatter(eps_slow2, lambda_Rs_slow, s=150, c='r', label='slow rotator')\n",
    "plt.scatter(eps_fast2, lambda_Rs_fast, s=200, c='b', marker='$\\Phi$', label='fast rotator')\n",
    "plt.xlabel(r'$\\epsilon$',fontsize=16)\n",
    "plt.ylabel(r'$\\lambda_R$',fontsize=16)\n",
    "plt.legend()\n",
    "plt.savefig(f'{data_dir}mosaics/kinematic_class_lambdar.png')\n",
    "plt.savefig(f'{data_dir}mosaics/kinematic_class_lambdar.pdf')"
   ]
  },
  {
   "cell_type": "markdown",
   "metadata": {},
   "source": [
    "__________________________________\n",
    "# 09/30/22 - Do similar analysis but integrate with luminosity weighted pixel contributions, like I did for the rebinning for the 1D velocity profiles in \"2d_to_1d_milestone_092722.ipynb\""
   ]
  },
  {
   "cell_type": "code",
   "execution_count": 12,
   "metadata": {},
   "outputs": [],
   "source": [
    "# Define function to calculate luminosity weights for rebinning from Voronoi bins to shells\n",
    "### In this case, the shell will justbe the effective radius (shells = [1])\n",
    "\n",
    "def calc_luminosity_weights_in_shells (bin_arrays, num_bins, bin_luminosities, pixel_luminosities, shells, reff):\n",
    "    \n",
    "    # create array with each bin and len num_bins\n",
    "    luminosity_weights = np.zeros((num_bins, len(shells)))\n",
    "    \n",
    "    for i in range(num_bins):\n",
    "        # pixels in this bin, take x and y coordinates\n",
    "        in_bin = bin_arrays[:,2]==i\n",
    "        bin_pixels = bin_arrays[in_bin]\n",
    "        bin_xx = bin_pixels[:,0] - 21 # subtract 21 pixels, center don't know which is x and which is y, but doesn't matter for R\n",
    "        bin_yy = bin_pixels[:,1] - 21\n",
    "        # luminosity of bin and of pixels in bin\n",
    "        bin_luminosity = bin_luminosities[i]\n",
    "        bin_pixels_lum = pixel_luminosities[in_bin]\n",
    "        #print(bin_luminosity, np.sum(bin_pixels_lum))\n",
    "        # calculate radius of each pixel in the bin\n",
    "        bin_R = np.zeros(len(bin_pixels))\n",
    "        for j in range(len(bin_pixels)):\n",
    "            bin_R[j] = np.sqrt(bin_xx[j]**2 + bin_yy[j]**2)*0.1457 # arcsec\n",
    "        # calculate fraction of these pixels in each shell\n",
    "        for k in range(len(shells)):\n",
    "            inner_shell = shells[k]\n",
    "            if k == len(shells) - 1:\n",
    "                outer_shell = 10 # everything extending to the farthest pixel\n",
    "            else:\n",
    "                outer_shell = shells[k+1]\n",
    "            in_shell = (bin_R >= inner_shell*reff) & (bin_R <= outer_shell*reff)\n",
    "            # weight pixels by fractional luminosity of total bin\n",
    "            bin_luminosity_in_shell = np.sum(bin_pixels_lum[in_shell])#/bin_luminosity\n",
    "            luminosity_weights[i,k] = bin_luminosity_in_shell\n",
    "        \n",
    "    return luminosity_weights"
   ]
  },
  {
   "cell_type": "code",
   "execution_count": 13,
   "metadata": {},
   "outputs": [],
   "source": [
    "def lum_weight_bin (V, VD, dVD, lum):\n",
    "    \n",
    "    bin_weighted_V_sq = lum * V**2\n",
    "    bin_weighted_VD_sq = lum * VD**2\n",
    "    bin_weighted_dVD_sq = lum * 2 * VD * dVD\n",
    "\n",
    "    return bin_weighted_V_sq, bin_weighted_VD_sq, bin_weighted_dVD_sq\n",
    "\n",
    "def lum_weight_V_sigma (V_array, VD_array, dVD_array, lum_array):\n",
    "    \n",
    "    assert (len(V_array)==len(VD_array)) & (len(V_array)==len(lum_array)) & (len(V_array)==len(dVD_array))\n",
    "    \n",
    "    V_sq = 0\n",
    "    VD_sq = 0\n",
    "    dVD_sq = 0\n",
    "    \n",
    "    for i in range(len(V_array)):\n",
    "        bin_V_sq, bin_VD_sq, bin_dVD_sq = lum_weight_bin(V_array[i], VD_array[i], dVD_array[i], lum_array[i])\n",
    "        V_sq += bin_V_sq\n",
    "        VD_sq += bin_VD_sq\n",
    "        dVD_sq += bin_dVD_sq\n",
    "    \n",
    "    V_sigma_sq = V_sq/VD_sq\n",
    "    V_sigma = np.sqrt(V_sigma_sq)\n",
    "    \n",
    "    VD_integrated_rms = np.sqrt(VD_sq/np.sum(lum_array))\n",
    "\n",
    "    dVD_int_rms = dVD_sq / (2 * np.sqrt(np.sum(lum_array) * VD_sq))\n",
    "    \n",
    "    return(V_sigma, VD_integrated_rms, dVD_int_rms) # this is integrated out to the edge of my data right now\n",
    "        "
   ]
  },
  {
   "cell_type": "code",
   "execution_count": 14,
   "metadata": {},
   "outputs": [],
   "source": [
    "# Now let's do the lambda_R calculation\n",
    "\n",
    "\n",
    "def calc_lambda_R (V_array, VD_array, R_array, lum_array):\n",
    "    \n",
    "    assert (len(V_array)==len(VD_array)) & (len(V_array)==len(lum_array)) & (len(V_array)==len(R_array))\n",
    "    \n",
    "    numerator = 0\n",
    "    denominator = 0\n",
    "    \n",
    "    for i in range(len(V_array)):\n",
    "        V = V_array[i]\n",
    "        VD = VD_array[i]\n",
    "        lum = lum_array[i]\n",
    "        R = R_array[i]\n",
    "        \n",
    "        \n",
    "        num = lum * R * np.abs(V)\n",
    "        den = lum * R * np.sqrt(V**2 + VD**2)\n",
    "        \n",
    "        numerator += num\n",
    "        denominator += den\n",
    "        \n",
    "    lambda_R = numerator / denominator\n",
    "    \n",
    "    return lambda_R\n"
   ]
  },
  {
   "cell_type": "code",
   "execution_count": 15,
   "metadata": {},
   "outputs": [],
   "source": [
    "# Define function to assign velocities to each pixel from their Voronoi bin, taking only those within the effective radius\n",
    "\n",
    "def calc_aperture_velocities_from_lum_weight_pixels (bin_arrays, V_array, VD_array, dVD_array, pixel_luminosities, reff):\n",
    "    \n",
    "    # normalize pixel luminosities\n",
    "    normalized_pixel_luminosities = pixel_luminosities/np.sum(pixel_luminosities)\n",
    "    \n",
    "    # create array for velocity of each pixel\n",
    "    pixel_Vs = np.zeros(len(pixel_luminosities))\n",
    "    pixel_VDs = np.zeros(len(pixel_luminosities))\n",
    "    pixel_dVDs = np.zeros(len(pixel_luminosities))\n",
    "    velocity_in_aperture = 0\n",
    "    \n",
    "    for i in range(num_bins):\n",
    "        # pixels in this bin\n",
    "        in_bin = bin_arrays[:,2]==i\n",
    "        bin_pixels = bin_arrays[in_bin]\n",
    "        # add velocity to the weighted_pixel_velocities\n",
    "        pixel_Vs[in_bin] = V_array[i]\n",
    "        pixel_VDs[in_bin] = VD_array[i]\n",
    "        pixel_dVDs[in_bin] = dVD_array[i]       \n",
    "        \n",
    "    # get radius of pixels\n",
    "    pixel_xx = bin_arrays[:,0] - 21 # subtract 21 pixels, center don't know which is x and which is y, but doesn't matter for R\n",
    "    pixel_yy = bin_arrays[:,1] - 21\n",
    "    # calculate radius of each pixel\n",
    "    pixel_radii = np.sqrt(pixel_xx**2 + pixel_yy**2)*0.1457 # arcsec\n",
    "    # if they are in the effective radius\n",
    "    in_aperture = (pixel_radii <= reff)\n",
    "    \n",
    "    # weight squared pixel velocities by pixel luminosity\n",
    "    lum_weighted_pixel_Vs_sq = pixel_Vs**2 * normalized_pixel_luminosities\n",
    "    lum_weighted_pixel_VDs_sq = pixel_VDs**2 * normalized_pixel_luminosities\n",
    "    lum_weighted_pixel_dVDs_sq = 2 * pixel_VDs * pixel_dVDs * normalized_pixel_luminosities\n",
    "    \n",
    "    # take only those in the effective radius                                                   \n",
    "    lum_weighted_aperture_V = np.sqrt(np.sum(lum_weighted_pixel_Vs_sq[in_aperture]))\n",
    "    lum_weighted_aperture_VD = np.sqrt(np.sum(lum_weighted_pixel_VDs_sq[in_aperture]))\n",
    "    lum_weighted_aperture_dVD = np.sum(lum_weighted_pixel_dVDs_sq[in_aperture]) / (2 * np.sqrt(np.sum(lum_weighted_pixel_VDs_sq[in_aperture])))\n",
    "    \n",
    "    # calculate V/sigma\n",
    "    V_sigma = lum_weighted_aperture_V/lum_weighted_aperture_VD\n",
    "    \n",
    "    # calculate lambda_R\n",
    "    numerator = np.sum(pixel_radii[in_aperture] * normalized_pixel_luminosities[in_aperture] * np.sqrt( lum_weighted_pixel_Vs_sq[in_aperture]))\n",
    "    denominator = np.sum(pixel_radii[in_aperture] * normalized_pixel_luminosities[in_aperture] * np.sqrt( lum_weighted_pixel_Vs_sq[in_aperture] +  lum_weighted_pixel_VDs_sq[in_aperture]))\n",
    "    lambda_R = numerator / denominator\n",
    "\n",
    "    \n",
    "    return V_sigma, lambda_R, lum_weighted_aperture_V, lum_weighted_aperture_VD, lum_weighted_aperture_dVD"
   ]
  },
  {
   "cell_type": "code",
   "execution_count": 66,
   "metadata": {},
   "outputs": [
    {
     "name": "stdout",
     "output_type": "stream",
     "text": [
      "length before cutting... 193\n",
      "length after cutting... 187\n",
      "length before cutting... 303\n",
      "length after cutting... 281\n",
      "length before cutting... 12\n",
      "length after cutting... 7\n",
      "length before cutting... 18\n",
      "length after cutting... 18\n",
      "length before cutting... 99\n",
      "length after cutting... 84\n",
      "length before cutting... 65\n",
      "length after cutting... 53\n",
      "length before cutting... 64\n",
      "length after cutting... 64\n",
      "length before cutting... 108\n",
      "length after cutting... 108\n",
      "length before cutting... 39\n",
      "length after cutting... 39\n",
      "length before cutting... 45\n",
      "length after cutting... 34\n",
      "length before cutting... 37\n",
      "length after cutting... 37\n",
      "length before cutting... 71\n",
      "length after cutting... 66\n",
      "length before cutting... 52\n",
      "length after cutting... 48\n",
      "length before cutting... 54\n",
      "length after cutting... 54\n",
      "here\n",
      "[0.107 0.176 0.094 0.283 0.078 0.097 0.11  0.097 0.08  0.056 0.241 0.086\n",
      " 0.107 0.083] [0.108 0.176 0.129 0.263 0.078 0.128 0.109 0.096 0.079 0.065 0.235 0.088\n",
      " 0.114 0.083]\n"
     ]
    },
    {
     "data": {
      "text/plain": [
       "(array([1., 6., 2., 2., 0., 1., 0., 0., 0., 2.]),\n",
       " array([0.05 , 0.068, 0.087, 0.105, 0.124, 0.142, 0.16 , 0.179, 0.197,\n",
       "        0.216, 0.234]),\n",
       " <BarContainer object of 10 artists>)"
      ]
     },
     "execution_count": 66,
     "metadata": {},
     "output_type": "execute_result"
    },
    {
     "data": {
      "image/png": "[encoded data removed]",
      "text/plain": [
       "<Figure size 432x288 with 1 Axes>"
      ]
     },
     "metadata": {
      "needs_background": "light"
     },
     "output_type": "display_data"
    },
    {
     "data": {
      "image/png": "[encoded data removed]",
      "text/plain": [
       "<Figure size 432x288 with 1 Axes>"
      ]
     },
     "metadata": {
      "needs_background": "light"
     },
     "output_type": "display_data"
    },
    {
     "data": {
      "image/png": "[encoded data removed]",
      "text/plain": [
       "<Figure size 432x288 with 1 Axes>"
      ]
     },
     "metadata": {
      "needs_background": "light"
     },
     "output_type": "display_data"
    },
    {
     "data": {
      "image/png": "[encoded data removed]",
      "text/plain": [
       "<Figure size 432x288 with 1 Axes>"
      ]
     },
     "metadata": {
      "needs_background": "light"
     },
     "output_type": "display_data"
    }
   ],
   "source": [
    "# plug in the extra steps of doing the integral over luminosity weighted pixels instead of just the bins. Will be more spatially accurate as an aperture of radius reff\n",
    "\n",
    "#################################################\n",
    "# objects\n",
    "obj_names = ['SDSSJ0029-0055',\n",
    "             'SDSSJ0037-0942',\n",
    "             'SDSSJ0330-0020',\n",
    "             'SDSSJ1112+0826',\n",
    "             'SDSSJ1204+0358',\n",
    "             'SDSSJ1250+0523',\n",
    "             'SDSSJ1306+0600',\n",
    "             'SDSSJ1402+6321',\n",
    "             'SDSSJ1531-0105',\n",
    "             'SDSSJ1538+5817',\n",
    "             'SDSSJ1621+3931',\n",
    "             'SDSSJ1627-0053',\n",
    "             'SDSSJ1630+4520',\n",
    "             'SDSSJ2303+1422'\n",
    "            ]\n",
    "\n",
    "V_sigmas_bin_method = np.zeros(len(obj_names))\n",
    "lambda_Rs_bin_method = np.zeros(len(obj_names))\n",
    "VD_ap_int_rms_bin_method = np.zeros(len(obj_names))\n",
    "dVD_ap_int_rms_bin_method = np.zeros(len(obj_names))\n",
    "\n",
    "V_sigmas_pixel_method = np.zeros(len(obj_names))\n",
    "lambda_Rs_pixel_method = np.zeros(len(obj_names))\n",
    "VD_ap_int_rms_pixel_method = np.zeros(len(obj_names))\n",
    "V_ap_int_rms_pixel_method = np.zeros(len(obj_names))\n",
    "dVD_ap_int_rms_pixel_method = np.zeros(len(obj_names))\n",
    "\n",
    "b=0\n",
    "\n",
    "for obj_name in obj_names:\n",
    "       \n",
    "    #################\n",
    "    # set up directories\n",
    "    obj_abbr = obj_name[4:9] # e.g. J0029\n",
    "    # data directory\n",
    "    data_dir = '/data/raw_data/KECK_KCWI_SLACS_kinematics_shawn/'\n",
    "    # object directory\n",
    "    dir = f'{data_dir}mosaics/{obj_name}/'\n",
    "    #KCWI mosaic datacube\n",
    "    name = f'KCWI_{obj_abbr}_icubes_mosaic_0.1457'\n",
    "    save_dir = f'{dir}{obj_name}_systematics/'\n",
    "\n",
    "    #################\n",
    "    # get velocity and bin data \n",
    "    VD=np.genfromtxt(f'{dir}{obj_name}_final_kinematics/{obj_name}_VD_binned.txt',\n",
    "             delimiter=',')\n",
    "    VD_cov = np.genfromtxt(f'{dir}{obj_name}_final_kinematics/{obj_name}_covariance_matrix_VD.txt',\n",
    "                     delimiter=',')\n",
    "    dVD = np.sqrt(np.diagonal(VD_cov))\n",
    "    V=np.genfromtxt(f'{dir}{obj_name}_final_kinematics/{obj_name}_V_binned.txt',\n",
    "                     delimiter=',')\n",
    "    # subtract the mean V\n",
    "    V = V - np.mean(V)\n",
    "    # import voronoi binning data (#bins, 5215), spectrum for each bin\n",
    "    voronoi_binning_data = fits.getdata(dir +'voronoi_binning_' + name + '_data.fits')\n",
    "    num_bins = len(voronoi_binning_data)\n",
    "    # import pixel data for bins\n",
    "    vorbin_pixels = np.genfromtxt(f'{dir}voronoi_2d_binning_{name}_output.txt',\n",
    "                 delimiter='')\n",
    "    \n",
    "    #################\n",
    "    # sum each bin across all wavelengths to get bin luminosities\n",
    "    bin_luminosities = np.zeros(len(V))\n",
    "    for i in range(len(V)):\n",
    "        lum = np.sum(voronoi_binning_data[i])\n",
    "        bin_luminosities[i] = lum\n",
    "        \n",
    "\n",
    "    #################\n",
    "    # get mean R for each bin by pixel positions\n",
    "    short_name = obj_name[4:]\n",
    "    R = calc_R (vorbin_pixels, len(V))\n",
    "    print(f'length before cutting... {len(R)}')\n",
    "    effective_radius = reffs[b]\n",
    "    condition = R < effective_radius\n",
    "    R_in_aperture = R[condition]\n",
    "    V_in_aperture = V[condition]\n",
    "    VD_in_aperture = VD[condition]\n",
    "    dVD_in_aperture = dVD[condition]\n",
    "    bin_luminosities_in_aperture = bin_luminosities[condition]\n",
    "    print(f'length after cutting... {len(R_in_aperture)}')\n",
    "    #print()\n",
    "\n",
    "    #################\n",
    "    # calculate V_sigma\n",
    "    V_sigmas_bin_method[b], VD_ap_int_rms_bin_method[b], dVD_ap_int_rms_bin_method[b] = lum_weight_V_sigma ( V_in_aperture, VD_in_aperture, dVD_in_aperture, bin_luminosities_in_aperture )\n",
    "    # calculate lambda_R\n",
    "    lambda_Rs_bin_method[b] = calc_lambda_R (V_in_aperture, VD_in_aperture, R_in_aperture, bin_luminosities_in_aperture)\n",
    "    \n",
    "    ###########################################\n",
    "    # Now second method\n",
    "    ###########################################\n",
    "    \n",
    "    # bring in cropped datacube and sum across wavelengths\n",
    "    file = f'{dir}KCWI_{obj_abbr}_icubes_mosaic_0.1457_crop.fits'\n",
    "    datacube = fits.open(file)[0].data\n",
    "    summed_datacube = np.nansum(datacube, axis=0)\n",
    "    normalized_summed_datacube = summed_datacube/np.sum(summed_datacube)\n",
    "    \n",
    "    # get effective radius\n",
    "    if obj_name == 'SDSSJ1306+0600':\n",
    "        reff = 2.30\n",
    "    else:    \n",
    "        # get reff from slacs table\n",
    "        slacs_table = np.genfromtxt(f'{data_dir}slacs_tableA1.txt', delimiter='', dtype='U10')\n",
    "        slacs_table_name = obj_name[4:]\n",
    "        slacs_reffs = slacs_table[:,7].astype(float)\n",
    "        reff = slacs_reffs[slacs_table[:,0]==slacs_table_name]\n",
    "        \n",
    "    # calculate pixel luminosities\n",
    "    pixel_luminosities = np.zeros(len(vorbin_pixels))\n",
    "    for i in range(len(vorbin_pixels)):\n",
    "        x = int(vorbin_pixels[i,0])\n",
    "        y = int(vorbin_pixels[i,1])\n",
    "        pixel_luminosity = summed_datacube[y,x]\n",
    "        pixel_luminosities[i] = pixel_luminosity\n",
    "\n",
    "    # calculate luminosity weights for each bin contribution to the integrated velocities within the effective radius\n",
    "    shells=[1.]\n",
    "    luminosity_weights = calc_luminosity_weights_in_shells(vorbin_pixels, num_bins, bin_luminosities, pixel_luminosities, shells, reff)\n",
    "    \n",
    "    # calculate the luminosity-weighted mean V and VD for the aperture within the effective radius\n",
    "    sum_lum_weights = np.sum(luminosity_weights, axis=0) # sum over the weights for the normalization\n",
    "    normalized_lum_weights = luminosity_weights / sum_lum_weights\n",
    "    \n",
    "    # calculate V_sigma# calculate lambda_R\n",
    "    V_sigmas_pixel_method[b], lambda_Rs_pixel_method[b], \\\n",
    "        V_ap_int_rms_pixel_method[b], VD_ap_int_rms_pixel_method[b], \\\n",
    "        dVD_ap_int_rms_pixel_method[b]  = calc_aperture_velocities_from_lum_weight_pixels(vorbin_pixels, V, VD, dVD, pixel_luminosities, reff)\n",
    "    \n",
    "    b=b+1\n",
    "    \n",
    "print('here')\n",
    "print(V_sigmas_bin_method, V_sigmas_pixel_method)\n",
    "    \n",
    "plt.figure()    \n",
    "plt.hist(V_sigmas_bin_method)\n",
    "plt.figure()\n",
    "plt.hist(lambda_Rs_bin_method)\n",
    "    \n",
    "plt.figure()    \n",
    "plt.hist(V_sigmas_pixel_method)\n",
    "plt.figure()\n",
    "plt.hist(lambda_Rs_pixel_method)\n"
   ]
  },
  {
   "cell_type": "code",
   "execution_count": 67,
   "metadata": {},
   "outputs": [
    {
     "data": {
      "text/plain": [
       "'/data/raw_data/KECK_KCWI_SLACS_kinematics_shawn/mosaics/SDSSJ2303+1422/SDSSJ2303+1422_systematics/'"
      ]
     },
     "execution_count": 67,
     "metadata": {},
     "output_type": "execute_result"
    }
   ],
   "source": [
    "save_dir"
   ]
  },
  {
   "cell_type": "code",
   "execution_count": 68,
   "metadata": {},
   "outputs": [
    {
     "name": "stderr",
     "output_type": "stream",
     "text": [
      "/usr/local/anaconda3/lib/python3.7/site-packages/ipykernel_launcher.py:15: RuntimeWarning: invalid value encountered in double_scalars\n",
      "  from ipykernel import kernelapp as app\n",
      "/usr/local/anaconda3/lib/python3.7/site-packages/ipykernel_launcher.py:12: RuntimeWarning: divide by zero encountered in double_scalars\n",
      "  if sys.path[0] == '':\n",
      "/usr/local/anaconda3/lib/python3.7/site-packages/ipykernel_launcher.py:6: RuntimeWarning: invalid value encountered in double_scalars\n",
      "  \n"
     ]
    },
    {
     "data": {
      "text/plain": [
       "<matplotlib.legend.Legend at 0x7fa7f425b278>"
      ]
     },
     "execution_count": 68,
     "metadata": {},
     "output_type": "execute_result"
    },
    {
     "data": {
      "image/png": "[encoded data removed]",
      "text/plain": [
       "<Figure size 576x576 with 1 Axes>"
      ]
     },
     "metadata": {
      "needs_background": "light"
     },
     "output_type": "display_data"
    },
    {
     "data": {
      "image/png": "[encoded data removed]",
      "text/plain": [
       "<Figure size 576x576 with 1 Axes>"
      ]
     },
     "metadata": {
      "needs_background": "light"
     },
     "output_type": "display_data"
    }
   ],
   "source": [
    "# plot the V_sigma and lambda_R to ellipticities\n",
    "\n",
    "\n",
    "epsilons = np.linspace(0.0,1.0,100)\n",
    "V_sigmas_iso = np.zeros(100)\n",
    "lambda_Rs_iso = np.zeros(100)\n",
    "\n",
    "i=0\n",
    "for epsilon in epsilons:\n",
    "    V_sigma = calc_isotropic_V_sigma(epsilon)\n",
    "    V_sigmas_iso[i] = V_sigma\n",
    "    lambda_Rs_iso[i] = calc_Vsig_to_lamR(V_sigma)\n",
    "    i = i+1\n",
    "\n",
    "\n",
    "plt.figure(figsize=(8,8))\n",
    "plt.xlim(0.0,1.0)\n",
    "plt.ylim(0.0,1.0)\n",
    "plt.plot(epsilons, V_sigmas_iso, \n",
    "         c='limegreen',linewidth=4,zorder=-1,\n",
    "        label='isotropic rotator')\n",
    "plt.plot(epsilons, 1/3 * V_sigmas_iso, \n",
    "         c='magenta',linewidth=4,zorder=-1,\n",
    "        label=r'1/3 $\\times$ isotropic')\n",
    "plt.scatter(ellipticities, V_sigmas_pixel_method, s=100, c='g', alpha=0.5, label='pixel')\n",
    "plt.scatter(ellipticities, V_sigmas_bin_method, s=100, c='b', alpha=0.5, label='bin')\n",
    "plt.xlabel(r'$\\epsilon$',fontsize=16)\n",
    "plt.ylabel(r'$V/\\sigma$',fontsize=16)\n",
    "plt.legend()\n",
    "#plt.savefig(f'{data_dir}mosaics/kinematic_class_vsigma.png')\n",
    "#plt.savefig(f'{data_dir}mosaics/kinematic_class_vsigma.pdf')\n",
    "\n",
    "\n",
    "plt.figure(figsize=(8,8))\n",
    "plt.xlim(0.0,1.0)\n",
    "plt.ylim(0.0,1.0)\n",
    "plt.plot(epsilons, lambda_Rs_iso, c='limegreen',linewidth=4,zorder=-1)\n",
    "plt.plot(epsilons, 1/3 * lambda_Rs_iso, c='magenta',linewidth=4,zorder=-1)\n",
    "plt.plot([0.0, 0.4],[0.08, 0.08+0.4/4],\n",
    "         linestyle='-',c='k',linewidth=4,zorder=-1)\n",
    "plt.plot([0.4, 0.4],[0.0, 0.08+0.4/4],\n",
    "         linestyle='-',c='k',linewidth=4,zorder=-1,\n",
    "        label=r'$\\lambda_R = 0.08 + \\epsilon/4$')\n",
    "plt.scatter(ellipticities, lambda_Rs_pixel_method, s=100, c='g', alpha=0.5, label='pixel')\n",
    "plt.scatter(ellipticities, lambda_Rs_bin_method, s=100, c='b', alpha=0.5, label='bin')\n",
    "plt.xlabel(r'$\\epsilon$',fontsize=16)\n",
    "plt.ylabel(r'$\\lambda_R$',fontsize=16)\n",
    "plt.legend()\n",
    "#plt.savefig(f'{data_dir}mosaics/kinematic_class_lambdar.png')\n",
    "#plt.savefig(f'{data_dir}mosaics/kinematic_class_lambdar.pdf')"
   ]
  },
  {
   "cell_type": "markdown",
   "metadata": {},
   "source": [
    "# I need to see how this changes things, but I think the pixel-weighted binning is best."
   ]
  },
  {
   "cell_type": "code",
   "execution_count": 69,
   "metadata": {},
   "outputs": [],
   "source": [
    "#obj_names_a[lambda_Rs>0.17]"
   ]
  },
  {
   "cell_type": "code",
   "execution_count": 70,
   "metadata": {},
   "outputs": [
    {
     "data": {
      "text/plain": [
       "array([0.234, 0.217])"
      ]
     },
     "execution_count": 70,
     "metadata": {},
     "output_type": "execute_result"
    }
   ],
   "source": [
    "lambda_Rs_pixel_method[lambda_Rs_pixel_method>0.17]"
   ]
  },
  {
   "cell_type": "code",
   "execution_count": 71,
   "metadata": {},
   "outputs": [
    {
     "data": {
      "text/plain": [
       "array([0.178, 0.281, 0.254])"
      ]
     },
     "execution_count": 71,
     "metadata": {},
     "output_type": "execute_result"
    }
   ],
   "source": [
    "lambda_Rs_bin_method[lambda_Rs_bin_method>0.17]"
   ]
  },
  {
   "cell_type": "code",
   "execution_count": 72,
   "metadata": {},
   "outputs": [
    {
     "data": {
      "text/plain": [
       "array([0.16 , 0.27 , 0.23 , 0.23 , 0.03 , 0.03 , 0.091, 0.23 , 0.32 ,\n",
       "       0.18 , 0.27 , 0.15 , 0.16 , 0.36 ])"
      ]
     },
     "execution_count": 72,
     "metadata": {},
     "output_type": "execute_result"
    }
   ],
   "source": [
    "ellipticities"
   ]
  },
  {
   "cell_type": "code",
   "execution_count": 73,
   "metadata": {},
   "outputs": [
    {
     "data": {
      "text/plain": [
       "['SDSSJ0029-0055',\n",
       " 'SDSSJ0037-0942',\n",
       " 'SDSSJ0330-0020',\n",
       " 'SDSSJ1112+0826',\n",
       " 'SDSSJ1204+0358',\n",
       " 'SDSSJ1250+0523',\n",
       " 'SDSSJ1306+0600',\n",
       " 'SDSSJ1402+6321',\n",
       " 'SDSSJ1531-0105',\n",
       " 'SDSSJ1538+5817',\n",
       " 'SDSSJ1621+3931',\n",
       " 'SDSSJ1627-0053',\n",
       " 'SDSSJ1630+4520',\n",
       " 'SDSSJ2303+1422']"
      ]
     },
     "execution_count": 73,
     "metadata": {},
     "output_type": "execute_result"
    }
   ],
   "source": [
    "obj_names"
   ]
  },
  {
   "cell_type": "code",
   "execution_count": 74,
   "metadata": {},
   "outputs": [],
   "source": [
    "# Get the SDSS sigma (not corrected)"
   ]
  },
  {
   "cell_type": "code",
   "execution_count": 75,
   "metadata": {},
   "outputs": [
    {
     "data": {
      "text/plain": [
       "array([229., 279., 212., 320., 267., 252.,   0., 267., 279., 189., 236.,\n",
       "       290., 276., 255.])"
      ]
     },
     "execution_count": 75,
     "metadata": {},
     "output_type": "execute_result"
    }
   ],
   "source": [
    "sdss_sigmas"
   ]
  },
  {
   "cell_type": "code",
   "execution_count": 76,
   "metadata": {},
   "outputs": [
    {
     "data": {
      "text/plain": [
       "array([193.191, 243.939, 178.852, 245.712, 212.132, 203.061, 222.138,\n",
       "       264.746, 252.226, 198.537, 237.939, 241.004, 234.352, 244.364])"
      ]
     },
     "execution_count": 76,
     "metadata": {},
     "output_type": "execute_result"
    }
   ],
   "source": [
    "VD_ap_int_rms_pixel_method"
   ]
  },
  {
   "cell_type": "code",
   "execution_count": 77,
   "metadata": {},
   "outputs": [
    {
     "data": {
      "image/png": "[encoded data removed]",
      "text/plain": [
       "<Figure size 432x288 with 1 Axes>"
      ]
     },
     "metadata": {
      "needs_background": "light"
     },
     "output_type": "display_data"
    }
   ],
   "source": [
    "plt.figure()\n",
    "plt.errorbar(range(len(sdss_sigmas)), sdss_sigmas, sdss_sigmas_err, c='k', linestyle='', marker='o', label='SLACS V - Bolton et al. 2008')\n",
    "plt.errorbar(range(len(sdss_sigmas)), VD_ap_int_rms_pixel_method, dVD_ap_int_rms_pixel_method, c='b', linestyle='', marker='o', label='KCWI integrated')\n",
    "plt.ylim(150, 350)\n",
    "plt.legend()\n",
    "plt.xticks(range(14),labels=obj_names, rotation=90)\n",
    "plt.ylabel(r'$\\sigma$ km/s')\n",
    "plt.tight_layout()\n",
    "plt.savefig(f'{data_dir}mosaics/integrated_sigma_vs_slacs.png')\n",
    "plt.savefig(f'{data_dir}mosaics/integrated_sigma_vs_slacs.pdf')"
   ]
  },
  {
   "cell_type": "code",
   "execution_count": 78,
   "metadata": {},
   "outputs": [],
   "source": [
    "# combine info for a table"
   ]
  },
  {
   "cell_type": "code",
   "execution_count": 79,
   "metadata": {},
   "outputs": [
    {
     "data": {
      "text/plain": [
       "array([193.191, 243.939, 178.852, 245.712, 212.132, 203.061, 222.138,\n",
       "       264.746, 252.226, 198.537, 237.939, 241.004, 234.352, 244.364])"
      ]
     },
     "execution_count": 79,
     "metadata": {},
     "output_type": "execute_result"
    }
   ],
   "source": [
    "np.set_printoptions(precision=3, suppress=True)\n",
    "\n",
    "VD_ap_int_rms_pixel_method"
   ]
  },
  {
   "cell_type": "code",
   "execution_count": 80,
   "metadata": {},
   "outputs": [],
   "source": [
    "table = np.vstack((VD_ap_int_rms_pixel_method, dVD_ap_int_rms_pixel_method, sdss_sigmas, sdss_sigmas_err, reffs, ellipticities, V_sigmas_pixel_method, lambda_Rs_pixel_method))\n",
    "df = pd.DataFrame(table.T)\n",
    "df.insert(0, 'obj_names', obj_names, True)\n",
    "#df.to_numpy()"
   ]
  },
  {
   "cell_type": "code",
   "execution_count": 81,
   "metadata": {},
   "outputs": [],
   "source": [
    "def bmatrix(a, b):\n",
    "    \"\"\"Returns a LaTeX bmatrix\n",
    "\n",
    "    :a: numpy array\n",
    "    :returns: LaTeX bmatrix as a string\n",
    "    \"\"\"\n",
    "    if len(a.shape) > 2:\n",
    "        raise ValueError('bmatrix can at most display two dimensions')\n",
    "    lines = str(a).replace('[', '').replace(']', '').splitlines()\n",
    "    rv = [r'\\begin{bmatrix}']\n",
    "    rv += [b[i] + ' & ' + ' & '.join(lines[i].split()) + r'\\\\' for i in range(len(lines))]\n",
    "    rv +=  [r'\\end{bmatrix}']\n",
    "    return '\\n'.join(rv)"
   ]
  },
  {
   "cell_type": "code",
   "execution_count": 82,
   "metadata": {},
   "outputs": [
    {
     "name": "stdout",
     "output_type": "stream",
     "text": [
      "\\begin{bmatrix}\n",
      "SDSSJ0029-0055 & 193.191 & 13.469 & 229. & 18. & 2.16 & 0.16 & 0.108 & 0.085\\\\\n",
      "SDSSJ0037-0942 & 243.939 & 12.437 & 279. & 14. & 2.19 & 0.27 & 0.176 & 0.159\\\\\n",
      "SDSSJ0330-0020 & 178.852 & 10.991 & 212. & 21. & 1.2 & 0.23 & 0.129 & 0.11\\\\\n",
      "SDSSJ1112+0826 & 245.712 & 6.351 & 320. & 20. & 1.5 & 0.23 & 0.263 & 0.234\\\\\n",
      "SDSSJ1204+0358 & 212.132 & 7.118 & 267. & 17. & 1.47 & 0.03 & 0.078 & 0.069\\\\\n",
      "SDSSJ1250+0523 & 203.061 & 6.311 & 252. & 14. & 1.81 & 0.03 & 0.128 & 0.112\\\\\n",
      "SDSSJ1306+0600 & 222.138 & 13.731 & 0. & 0. & 2.3 & 0.091 & 0.109 & 0.091\\\\\n",
      "SDSSJ1402+6321 & 264.746 & 9.349 & 267. & 17. & 2.7 & 0.23 & 0.096 & 0.083\\\\\n",
      "SDSSJ1531-0105 & 252.226 & 17.726 & 279. & 14. & 2.5 & 0.32 & 0.079 & 0.07\\\\\n",
      "SDSSJ1538+5817 & 198.537 & 8.575 & 189. & 12. & 1.58 & 0.18 & 0.065 & 0.05\\\\\n",
      "SDSSJ1621+3931 & 237.939 & 12.294 & 236. & 20. & 2.14 & 0.27 & 0.235 & 0.217\\\\\n",
      "SDSSJ1627-0053 & 241.004 & 17.913 & 290. & 15. & 1.98 & 0.15 & 0.088 & 0.073\\\\\n",
      "SDSSJ1630+4520 & 234.352 & 9.888 & 276. & 16. & 1.96 & 0.16 & 0.114 & 0.101\\\\\n",
      "SDSSJ2303+1422 & 244.364 & 16.477 & 255. & 16. & 3.28 & 0.36 & 0.083 & 0.071\\\\\n",
      "\\end{bmatrix}\n"
     ]
    }
   ],
   "source": [
    "print(bmatrix(table.T, obj_names))"
   ]
  },
  {
   "cell_type": "code",
   "execution_count": 83,
   "metadata": {},
   "outputs": [
    {
     "name": "stdout",
     "output_type": "stream",
     "text": [
      "SDSSJ0029-0055\n",
      "slow slow\n",
      "\n",
      "SDSSJ0037-0942\n",
      "fast fast\n",
      "\n",
      "SDSSJ0330-0020\n",
      "slow slow\n",
      "\n",
      "SDSSJ1112+0826\n",
      "fast fast\n",
      "\n",
      "SDSSJ1204+0358\n",
      "fast slow\n",
      "\n",
      "SDSSJ1250+0523\n",
      "fast fast\n",
      "\n",
      "SDSSJ1306+0600\n",
      "fast slow\n",
      "\n",
      "SDSSJ1402+6321\n",
      "slow slow\n",
      "\n",
      "SDSSJ1531-0105\n",
      "slow slow\n",
      "\n",
      "SDSSJ1538+5817\n",
      "slow slow\n",
      "\n",
      "SDSSJ1621+3931\n",
      "fast fast\n",
      "\n",
      "SDSSJ1627-0053\n",
      "slow slow\n",
      "\n",
      "SDSSJ1630+4520\n",
      "slow slow\n",
      "\n",
      "SDSSJ2303+1422\n",
      "slow slow\n",
      "\n"
     ]
    }
   ],
   "source": [
    "# classification according to the Cappellari paper\n",
    "\n",
    "V_sig_class = np.empty(14, dtype='object')\n",
    "lam_R_class = np.empty(14, dtype='object')\n",
    "\n",
    "for i in range(14):\n",
    "    \n",
    "    print(obj_names[i])\n",
    "    \n",
    "    V_sig = V_sigmas_pixel_method[i]\n",
    "    lam_R = lambda_Rs_pixel_method[i]\n",
    "    ellip = ellipticities[i]\n",
    "    \n",
    "    V_sig_bound = calc_isotropic_V_sigma(ellip) / 3\n",
    "    lam_R_bound = 0.08 + ellip/4\n",
    "    \n",
    "    if (V_sig < V_sig_bound):\n",
    "        V_sig_class[i] = 'slow'\n",
    "    elif (V_sig > V_sig_bound):\n",
    "        V_sig_class[i] = 'fast'\n",
    "    \n",
    "    if (lam_R < lam_R_bound):\n",
    "        lam_R_class[i] = 'slow'\n",
    "    elif (lam_R > lam_R_bound):\n",
    "        lam_R_class[i] = 'fast'\n",
    "        \n",
    "    print(V_sig_class[i], lam_R_class[i])\n",
    "    \n",
    "    print()"
   ]
  },
  {
   "cell_type": "code",
   "execution_count": 84,
   "metadata": {},
   "outputs": [
    {
     "data": {
      "text/plain": [
       "array(['slow', 'fast', 'slow', 'fast', 'fast', 'fast', 'fast', 'slow',\n",
       "       'slow', 'slow', 'fast', 'slow', 'slow', 'slow'], dtype=object)"
      ]
     },
     "execution_count": 84,
     "metadata": {},
     "output_type": "execute_result"
    }
   ],
   "source": [
    "V_sig_class"
   ]
  },
  {
   "cell_type": "code",
   "execution_count": 85,
   "metadata": {},
   "outputs": [
    {
     "data": {
      "text/plain": [
       "array(['slow', 'fast', 'slow', 'fast', 'slow', 'fast', 'slow', 'slow',\n",
       "       'slow', 'slow', 'fast', 'slow', 'slow', 'slow'], dtype=object)"
      ]
     },
     "execution_count": 85,
     "metadata": {},
     "output_type": "execute_result"
    }
   ],
   "source": [
    "lam_R_class"
   ]
  },
  {
   "cell_type": "code",
   "execution_count": 86,
   "metadata": {},
   "outputs": [],
   "source": [
    "def bmatrix(a, b, c, d, e):\n",
    "    \"\"\"Returns a LaTeX bmatrix\n",
    "\n",
    "    :a: numpy array\n",
    "    :returns: LaTeX bmatrix as a string\n",
    "    \"\"\"\n",
    "    if len(a.shape) > 2:\n",
    "        raise ValueError('bmatrix can at most display two dimensions')\n",
    "    lines = str(a).replace('[', '').replace(']', '').splitlines()\n",
    "    rv = [r'\\begin{bmatrix}']\n",
    "    rv += [b[i] + ' & ' + ' & '.join(lines[i].split()) + ' & ' + c[i] + ' & ' + d[i] + ' & ' + e[i] + r'\\\\' for i in range(len(lines))]\n",
    "    rv +=  [r'\\end{bmatrix}']\n",
    "    return '\\n'.join(rv)"
   ]
  },
  {
   "cell_type": "code",
   "execution_count": 87,
   "metadata": {},
   "outputs": [
    {
     "name": "stdout",
     "output_type": "stream",
     "text": [
      "\\begin{bmatrix}\n",
      "SDSSJ0029-0055 & 193.191 & 13.469 & 229. & 18. & 2.16 & 0.16 & 0.108 & 0.085 & 2.16 & slow & slow\\\\\n",
      "SDSSJ0037-0942 & 243.939 & 12.437 & 279. & 14. & 2.19 & 0.27 & 0.176 & 0.159 & 2.19 & fast & fast\\\\\n",
      "SDSSJ0330-0020 & 178.852 & 10.991 & 212. & 21. & 1.2 & 0.23 & 0.129 & 0.11 & 1.2 & slow & slow\\\\\n",
      "SDSSJ1112+0826 & 245.712 & 6.351 & 320. & 20. & 1.5 & 0.23 & 0.263 & 0.234 & 1.5 & fast & fast\\\\\n",
      "SDSSJ1204+0358 & 212.132 & 7.118 & 267. & 17. & 1.47 & 0.03 & 0.078 & 0.069 & 1.47 & fast & slow\\\\\n",
      "SDSSJ1250+0523 & 203.061 & 6.311 & 252. & 14. & 1.81 & 0.03 & 0.128 & 0.112 & 1.81 & fast & fast\\\\\n",
      "SDSSJ1306+0600 & 222.138 & 13.731 & 0. & 0. & 2.3 & 0.091 & 0.109 & 0.091 & 2.3 & fast & slow\\\\\n",
      "SDSSJ1402+6321 & 264.746 & 9.349 & 267. & 17. & 2.7 & 0.23 & 0.096 & 0.083 & 2.7 & slow & slow\\\\\n",
      "SDSSJ1531-0105 & 252.226 & 17.726 & 279. & 14. & 2.5 & 0.32 & 0.079 & 0.07 & 2.5 & slow & slow\\\\\n",
      "SDSSJ1538+5817 & 198.537 & 8.575 & 189. & 12. & 1.58 & 0.18 & 0.065 & 0.05 & 1.58 & slow & slow\\\\\n",
      "SDSSJ1621+3931 & 237.939 & 12.294 & 236. & 20. & 2.14 & 0.27 & 0.235 & 0.217 & 2.14 & fast & fast\\\\\n",
      "SDSSJ1627-0053 & 241.004 & 17.913 & 290. & 15. & 1.98 & 0.15 & 0.088 & 0.073 & 1.98 & slow & slow\\\\\n",
      "SDSSJ1630+4520 & 234.352 & 9.888 & 276. & 16. & 1.96 & 0.16 & 0.114 & 0.101 & 1.96 & slow & slow\\\\\n",
      "SDSSJ2303+1422 & 244.364 & 16.477 & 255. & 16. & 3.28 & 0.36 & 0.083 & 0.071 & 3.28 & slow & slow\\\\\n",
      "\\end{bmatrix}\n"
     ]
    }
   ],
   "source": [
    "print(bmatrix(table.T, obj_names, reffs.astype(str), V_sig_class, lam_R_class))"
   ]
  },
  {
   "cell_type": "code",
   "execution_count": 88,
   "metadata": {},
   "outputs": [],
   "source": [
    "# plot fast and slow on the vsig and lamr plots"
   ]
  },
  {
   "cell_type": "code",
   "execution_count": 129,
   "metadata": {},
   "outputs": [],
   "source": [
    "# bring in my classifications table\n",
    "classifications = pd.read_csv(f'{data_dir}classification_table_121322.csv')\n",
    "classes=classifications['class']\n",
    "\n",
    "# add V_sigma and lambda_R, and ellipticities\n",
    "classifications['SLACS ellipticity'] = ellipticities\n",
    "classifications['effective_radius'] = reffs\n",
    "classifications['V_sigma'] = V_sigmas_pixel_method\n",
    "classifications['lambda_R'] = lambda_Rs_pixel_method"
   ]
  },
  {
   "cell_type": "code",
   "execution_count": 130,
   "metadata": {},
   "outputs": [
    {
     "data": {
      "text/html": [
       "<div>\n",
       "<style scoped>\n",
       "    .dataframe tbody tr th:only-of-type {\n",
       "        vertical-align: middle;\n",
       "    }\n",
       "\n",
       "    .dataframe tbody tr th {\n",
       "        vertical-align: top;\n",
       "    }\n",
       "\n",
       "    .dataframe thead th {\n",
       "        text-align: right;\n",
       "    }\n",
       "</style>\n",
       "<table border=\"1\" class=\"dataframe\">\n",
       "  <thead>\n",
       "    <tr style=\"text-align: right;\">\n",
       "      <th></th>\n",
       "      <th>obj_name</th>\n",
       "      <th>class</th>\n",
       "      <th>subclass</th>\n",
       "      <th>comments</th>\n",
       "      <th>ellipticity</th>\n",
       "      <th>SLACS ellipticity</th>\n",
       "      <th>effective_radius</th>\n",
       "      <th>V_sigma</th>\n",
       "      <th>lambda_R</th>\n",
       "    </tr>\n",
       "  </thead>\n",
       "  <tbody>\n",
       "    <tr>\n",
       "      <th>0</th>\n",
       "      <td>SDSSJ0029-0055</td>\n",
       "      <td>slow</td>\n",
       "      <td>kdc? no rotation?</td>\n",
       "      <td>misaligned 70 deg, possibly rotation at outer ...</td>\n",
       "      <td>0.21</td>\n",
       "      <td>0.160</td>\n",
       "      <td>2.16</td>\n",
       "      <td>0.107911</td>\n",
       "      <td>0.084878</td>\n",
       "    </tr>\n",
       "    <tr>\n",
       "      <th>1</th>\n",
       "      <td>SDSSJ0037-0942</td>\n",
       "      <td>fast</td>\n",
       "      <td>misaligned</td>\n",
       "      <td>V 100 km/s, misaligned 27 deg, possible contam...</td>\n",
       "      <td>0.30</td>\n",
       "      <td>0.270</td>\n",
       "      <td>2.19</td>\n",
       "      <td>0.176446</td>\n",
       "      <td>0.158571</td>\n",
       "    </tr>\n",
       "    <tr>\n",
       "      <th>2</th>\n",
       "      <td>SDSSJ0330-0020</td>\n",
       "      <td>slow? poor</td>\n",
       "      <td>none</td>\n",
       "      <td>poor kinematics make it difficult to classify</td>\n",
       "      <td>0.17</td>\n",
       "      <td>0.230</td>\n",
       "      <td>1.20</td>\n",
       "      <td>0.129017</td>\n",
       "      <td>0.109658</td>\n",
       "    </tr>\n",
       "    <tr>\n",
       "      <th>3</th>\n",
       "      <td>SDSSJ1112+0826</td>\n",
       "      <td>fast</td>\n",
       "      <td>aligned</td>\n",
       "      <td>V 100 km/s, perfect alignment</td>\n",
       "      <td>0.27</td>\n",
       "      <td>0.230</td>\n",
       "      <td>1.50</td>\n",
       "      <td>0.263330</td>\n",
       "      <td>0.234192</td>\n",
       "    </tr>\n",
       "    <tr>\n",
       "      <th>4</th>\n",
       "      <td>SDSSJ1204+0358</td>\n",
       "      <td>slow</td>\n",
       "      <td>kdc, crd?</td>\n",
       "      <td>very round, no alignment issue, background sou...</td>\n",
       "      <td>0.08</td>\n",
       "      <td>0.030</td>\n",
       "      <td>1.47</td>\n",
       "      <td>0.077882</td>\n",
       "      <td>0.068771</td>\n",
       "    </tr>\n",
       "    <tr>\n",
       "      <th>5</th>\n",
       "      <td>SDSSJ1250+0523</td>\n",
       "      <td>fast</td>\n",
       "      <td>round</td>\n",
       "      <td>V 100 km/s, very round 0.09, no alignment issue</td>\n",
       "      <td>0.09</td>\n",
       "      <td>0.030</td>\n",
       "      <td>1.81</td>\n",
       "      <td>0.127693</td>\n",
       "      <td>0.112299</td>\n",
       "    </tr>\n",
       "    <tr>\n",
       "      <th>6</th>\n",
       "      <td>SDSSJ1306+0600</td>\n",
       "      <td>0.0</td>\n",
       "      <td>0.0</td>\n",
       "      <td>0.0</td>\n",
       "      <td>0.00</td>\n",
       "      <td>0.091</td>\n",
       "      <td>2.30</td>\n",
       "      <td>0.108517</td>\n",
       "      <td>0.091037</td>\n",
       "    </tr>\n",
       "    <tr>\n",
       "      <th>7</th>\n",
       "      <td>SDSSJ1402+6321</td>\n",
       "      <td>fast</td>\n",
       "      <td>misaligned</td>\n",
       "      <td>V 60 km/s, misaligned 35 deg</td>\n",
       "      <td>0.20</td>\n",
       "      <td>0.230</td>\n",
       "      <td>2.70</td>\n",
       "      <td>0.095982</td>\n",
       "      <td>0.082576</td>\n",
       "    </tr>\n",
       "    <tr>\n",
       "      <th>8</th>\n",
       "      <td>SDSSJ1531-0105</td>\n",
       "      <td>slow</td>\n",
       "      <td>complex? kdc? no rotation?</td>\n",
       "      <td>red region in bottom right not due to contamin...</td>\n",
       "      <td>0.31</td>\n",
       "      <td>0.320</td>\n",
       "      <td>2.50</td>\n",
       "      <td>0.078509</td>\n",
       "      <td>0.069539</td>\n",
       "    </tr>\n",
       "    <tr>\n",
       "      <th>9</th>\n",
       "      <td>SDSSJ1538+5817</td>\n",
       "      <td>slow</td>\n",
       "      <td>kdc? crd?</td>\n",
       "      <td>V 60 km/s, PA_kin not clear, no contamination</td>\n",
       "      <td>0.15</td>\n",
       "      <td>0.180</td>\n",
       "      <td>1.58</td>\n",
       "      <td>0.064735</td>\n",
       "      <td>0.049908</td>\n",
       "    </tr>\n",
       "    <tr>\n",
       "      <th>10</th>\n",
       "      <td>SDSSJ1621+3931</td>\n",
       "      <td>fast</td>\n",
       "      <td>misaligned</td>\n",
       "      <td>V 100 km/s, misaligned 31 deg</td>\n",
       "      <td>0.29</td>\n",
       "      <td>0.270</td>\n",
       "      <td>2.14</td>\n",
       "      <td>0.235023</td>\n",
       "      <td>0.216519</td>\n",
       "    </tr>\n",
       "    <tr>\n",
       "      <th>11</th>\n",
       "      <td>SDSSJ1627-0053</td>\n",
       "      <td>slow</td>\n",
       "      <td>complex? no rotation?</td>\n",
       "      <td>receding velocity in right may be background s...</td>\n",
       "      <td>0.15</td>\n",
       "      <td>0.150</td>\n",
       "      <td>1.98</td>\n",
       "      <td>0.087507</td>\n",
       "      <td>0.073139</td>\n",
       "    </tr>\n",
       "    <tr>\n",
       "      <th>12</th>\n",
       "      <td>SDSSJ1630+4520</td>\n",
       "      <td>fast</td>\n",
       "      <td>aligned</td>\n",
       "      <td>V 60 km/s, very aligned 3 deg</td>\n",
       "      <td>0.15</td>\n",
       "      <td>0.160</td>\n",
       "      <td>1.96</td>\n",
       "      <td>0.113668</td>\n",
       "      <td>0.100951</td>\n",
       "    </tr>\n",
       "    <tr>\n",
       "      <th>13</th>\n",
       "      <td>SDSSJ2303+1422</td>\n",
       "      <td>slow</td>\n",
       "      <td>twisted kinematics, kdc?</td>\n",
       "      <td>twisted from symmetry, asymmetry at far middle...</td>\n",
       "      <td>0.26</td>\n",
       "      <td>0.360</td>\n",
       "      <td>3.28</td>\n",
       "      <td>0.083364</td>\n",
       "      <td>0.071077</td>\n",
       "    </tr>\n",
       "  </tbody>\n",
       "</table>\n",
       "</div>"
      ],
      "text/plain": [
       "          obj_name       class                    subclass  \\\n",
       "0   SDSSJ0029-0055        slow          kdc? no rotation?    \n",
       "1   SDSSJ0037-0942        fast                  misaligned   \n",
       "2   SDSSJ0330-0020  slow? poor                        none   \n",
       "3   SDSSJ1112+0826        fast                     aligned   \n",
       "4   SDSSJ1204+0358        slow                   kdc, crd?   \n",
       "5   SDSSJ1250+0523        fast                       round   \n",
       "6   SDSSJ1306+0600         0.0                         0.0   \n",
       "7   SDSSJ1402+6321        fast                  misaligned   \n",
       "8   SDSSJ1531-0105        slow  complex? kdc? no rotation?   \n",
       "9   SDSSJ1538+5817        slow                   kdc? crd?   \n",
       "10  SDSSJ1621+3931        fast                  misaligned   \n",
       "11  SDSSJ1627-0053        slow       complex? no rotation?   \n",
       "12  SDSSJ1630+4520        fast                     aligned   \n",
       "13  SDSSJ2303+1422        slow    twisted kinematics, kdc?   \n",
       "\n",
       "                                             comments  ellipticity  \\\n",
       "0   misaligned 70 deg, possibly rotation at outer ...         0.21   \n",
       "1   V 100 km/s, misaligned 27 deg, possible contam...         0.30   \n",
       "2       poor kinematics make it difficult to classify         0.17   \n",
       "3                       V 100 km/s, perfect alignment         0.27   \n",
       "4   very round, no alignment issue, background sou...         0.08   \n",
       "5     V 100 km/s, very round 0.09, no alignment issue         0.09   \n",
       "6                                                 0.0         0.00   \n",
       "7                        V 60 km/s, misaligned 35 deg         0.20   \n",
       "8   red region in bottom right not due to contamin...         0.31   \n",
       "9       V 60 km/s, PA_kin not clear, no contamination         0.15   \n",
       "10                      V 100 km/s, misaligned 31 deg         0.29   \n",
       "11  receding velocity in right may be background s...         0.15   \n",
       "12                      V 60 km/s, very aligned 3 deg         0.15   \n",
       "13  twisted from symmetry, asymmetry at far middle...         0.26   \n",
       "\n",
       "    SLACS ellipticity  effective_radius   V_sigma  lambda_R  \n",
       "0               0.160              2.16  0.107911  0.084878  \n",
       "1               0.270              2.19  0.176446  0.158571  \n",
       "2               0.230              1.20  0.129017  0.109658  \n",
       "3               0.230              1.50  0.263330  0.234192  \n",
       "4               0.030              1.47  0.077882  0.068771  \n",
       "5               0.030              1.81  0.127693  0.112299  \n",
       "6               0.091              2.30  0.108517  0.091037  \n",
       "7               0.230              2.70  0.095982  0.082576  \n",
       "8               0.320              2.50  0.078509  0.069539  \n",
       "9               0.180              1.58  0.064735  0.049908  \n",
       "10              0.270              2.14  0.235023  0.216519  \n",
       "11              0.150              1.98  0.087507  0.073139  \n",
       "12              0.160              1.96  0.113668  0.100951  \n",
       "13              0.360              3.28  0.083364  0.071077  "
      ]
     },
     "execution_count": 130,
     "metadata": {},
     "output_type": "execute_result"
    }
   ],
   "source": [
    "classifications"
   ]
  },
  {
   "cell_type": "code",
   "execution_count": 109,
   "metadata": {},
   "outputs": [],
   "source": [
    "slow = classes == 'slow'\n",
    "fast = classes == 'fast'\n",
    "\n",
    "\n",
    "eps_slow = ellipticities[slow]\n",
    "eps_fast = ellipticities[fast]\n",
    "V_sigmas_slow = V_sigmas_pixel_method[slow]\n",
    "V_sigmas_fast = V_sigmas_pixel_method[fast]\n",
    "lambda_Rs_slow = lambda_Rs_pixel_method[slow]\n",
    "lambda_Rs_fast = lambda_Rs_pixel_method[fast]"
   ]
  },
  {
   "cell_type": "code",
   "execution_count": 110,
   "metadata": {},
   "outputs": [],
   "source": [
    "# make elliptical marker\n",
    "import matplotlib.path as mpath\n",
    "\n",
    "# Define the ellipse marker.\n",
    "circle = mpath.Path.unit_circle()\n",
    "elliptical_verts = np.copy(circle.vertices)\n",
    "elliptical_verts[:, 0] *= 1.618\n",
    "elliptical_marker = mpath.Path(elliptical_verts, circle.codes)\n",
    "\n",
    "# define negative smaller ellipse\n",
    "inner_ell_verts = elliptical_verts * 0.8"
   ]
  },
  {
   "cell_type": "code",
   "execution_count": 111,
   "metadata": {},
   "outputs": [],
   "source": [
    "# make ellipse with line marker\n",
    "rect = mpath.Path.unit_rectangle()\n",
    "rect_verts = np.copy(rect.vertices)\n",
    "rect_verts[:,0] *= 0.1\n",
    "rect_verts[:,1] *= 2.0\n",
    "line_marker = mpath.Path(rect_verts, rect.codes)\n",
    "\n",
    "# make another line marker lower\n",
    "second_line_verts = rect_verts.copy()\n",
    "second_line_verts[:,1] += -3.5\n",
    "second_line_verts[:,1] *= 0.5\n",
    "\n",
    "rotator = mpath.Path(\n",
    "    vertices=np.concatenate([elliptical_verts, inner_ell_verts[::-1, ...], rect_verts, second_line_verts]),\n",
    "    codes=np.concatenate([circle.codes, circle.codes, rect.codes, rect.codes]))\n",
    "\n"
   ]
  },
  {
   "cell_type": "code",
   "execution_count": 119,
   "metadata": {},
   "outputs": [
    {
     "data": {
      "image/png": "[encoded data removed]",
      "text/plain": [
       "<Figure size 432x432 with 1 Axes>"
      ]
     },
     "metadata": {
      "needs_background": "light"
     },
     "output_type": "display_data"
    },
    {
     "data": {
      "image/png": "[encoded data removed]",
      "text/plain": [
       "<Figure size 432x432 with 1 Axes>"
      ]
     },
     "metadata": {
      "needs_background": "light"
     },
     "output_type": "display_data"
    }
   ],
   "source": [
    "# plot the V_sigma and lambda_R to ellipticities\n",
    "\n",
    "\n",
    "epsilons = np.linspace(0.0,1.0,100)\n",
    "V_sigmas_iso = np.zeros(100)\n",
    "lambda_Rs_iso = np.zeros(100)\n",
    "\n",
    "i=0\n",
    "for epsilon in epsilons:\n",
    "    V_sigma = calc_isotropic_V_sigma(epsilon)\n",
    "    V_sigmas_iso[i] = V_sigma\n",
    "    lambda_Rs_iso[i] = calc_Vsig_to_lamR(V_sigma)\n",
    "    i = i+1\n",
    "\n",
    "# plot the V_sigma and lambda_R to ellipticities\n",
    "\n",
    "plt.figure(figsize=(6,6))\n",
    "plt.xlim(0.0,1.0)\n",
    "plt.ylim(0.0,1.0)\n",
    "plt.plot(epsilons, V_sigmas_iso, \n",
    "         c='limegreen',linewidth=4,zorder=-1, alpha=0.7,\n",
    "        label='isotropic rotator')\n",
    "plt.plot(epsilons, 1/3 * V_sigmas_iso, \n",
    "         c='magenta',linewidth=4,zorder=-1, alpha=0.7,\n",
    "        label=r'1/3 $\\times$ isotropic')\n",
    "plt.scatter(eps_slow, V_sigmas_slow, s=120, c='r', marker='o', label='slow rotator', alpha=0.8, edgecolor='k')\n",
    "plt.scatter(eps_fast, V_sigmas_fast, s=230, c='b', marker=rotator, label='fast rotator')\n",
    "plt.xlabel(r'$\\epsilon$',fontsize=16)\n",
    "plt.ylabel(r'$V/\\sigma$',fontsize=16)\n",
    "plt.legend(fontsize=14)\n",
    "plt.savefig(f'{data_dir}mosaics/kinematic_class_vsigma.png')\n",
    "plt.savefig(f'{data_dir}mosaics/kinematic_class_vsigma.pdf')\n",
    "\n",
    "\n",
    "plt.figure(figsize=(6,6))\n",
    "plt.xlim(0.0,1.0)\n",
    "plt.ylim(0.0,1.0)\n",
    "plt.plot(epsilons, lambda_Rs_iso, \n",
    "         c='limegreen',linewidth=4,zorder=-1, alpha=0.7)\n",
    "plt.plot(epsilons, 1/3 * lambda_Rs_iso, \n",
    "         c='magenta',linewidth=4,zorder=-1, alpha=0.7)\n",
    "plt.plot([0.0, 0.4],[0.08, 0.08+0.4/4],\n",
    "         linestyle='-',c='k',linewidth=4,zorder=-1, alpha=0.7)\n",
    "plt.plot([0.4, 0.4],[0.0, 0.08+0.4/4],\n",
    "         linestyle='-',c='k',linewidth=4,zorder=-1, alpha=0.7,\n",
    "        label=r'$\\lambda_R = 0.08 + \\epsilon/4$')\n",
    "plt.scatter(eps_slow, lambda_Rs_slow, s=120, c='r', marker='o', label='slow rotator', alpha=0.75, edgecolor='k')\n",
    "plt.scatter(eps_fast, lambda_Rs_fast, s=230, c='b', marker=rotator, label='fast rotator')\n",
    "plt.xlabel(r'$\\epsilon$',fontsize=16)\n",
    "plt.ylabel(r'$\\lambda_R$',fontsize=16)\n",
    "plt.legend(fontsize=14)\n",
    "plt.savefig(f'{data_dir}mosaics/kinematic_class_lambdar.png')\n",
    "plt.savefig(f'{data_dir}mosaics/kinematic_class_lambdar.pdf')"
   ]
  },
  {
   "cell_type": "code",
   "execution_count": 120,
   "metadata": {},
   "outputs": [
    {
     "data": {
      "text/html": [
       "<div>\n",
       "<style scoped>\n",
       "    .dataframe tbody tr th:only-of-type {\n",
       "        vertical-align: middle;\n",
       "    }\n",
       "\n",
       "    .dataframe tbody tr th {\n",
       "        vertical-align: top;\n",
       "    }\n",
       "\n",
       "    .dataframe thead th {\n",
       "        text-align: right;\n",
       "    }\n",
       "</style>\n",
       "<table border=\"1\" class=\"dataframe\">\n",
       "  <thead>\n",
       "    <tr style=\"text-align: right;\">\n",
       "      <th></th>\n",
       "      <th>obj_name</th>\n",
       "      <th>class</th>\n",
       "      <th>subclass</th>\n",
       "      <th>comments</th>\n",
       "      <th>ellipticity</th>\n",
       "      <th>V_sigma</th>\n",
       "      <th>lambda_R</th>\n",
       "    </tr>\n",
       "  </thead>\n",
       "  <tbody>\n",
       "    <tr>\n",
       "      <th>0</th>\n",
       "      <td>SDSSJ0029-0055</td>\n",
       "      <td>slow</td>\n",
       "      <td>kdc? no rotation?</td>\n",
       "      <td>misaligned 70 deg, possibly rotation at outer ...</td>\n",
       "      <td>0.160</td>\n",
       "      <td>0.107911</td>\n",
       "      <td>0.084878</td>\n",
       "    </tr>\n",
       "    <tr>\n",
       "      <th>1</th>\n",
       "      <td>SDSSJ0037-0942</td>\n",
       "      <td>fast</td>\n",
       "      <td>misaligned</td>\n",
       "      <td>V 100 km/s, misaligned 27 deg, possible contam...</td>\n",
       "      <td>0.270</td>\n",
       "      <td>0.176446</td>\n",
       "      <td>0.158571</td>\n",
       "    </tr>\n",
       "    <tr>\n",
       "      <th>2</th>\n",
       "      <td>SDSSJ0330-0020</td>\n",
       "      <td>slow? poor</td>\n",
       "      <td>none</td>\n",
       "      <td>poor kinematics make it difficult to classify</td>\n",
       "      <td>0.230</td>\n",
       "      <td>0.129017</td>\n",
       "      <td>0.109658</td>\n",
       "    </tr>\n",
       "    <tr>\n",
       "      <th>3</th>\n",
       "      <td>SDSSJ1112+0826</td>\n",
       "      <td>fast</td>\n",
       "      <td>aligned</td>\n",
       "      <td>V 100 km/s, perfect alignment</td>\n",
       "      <td>0.230</td>\n",
       "      <td>0.263330</td>\n",
       "      <td>0.234192</td>\n",
       "    </tr>\n",
       "    <tr>\n",
       "      <th>4</th>\n",
       "      <td>SDSSJ1204+0358</td>\n",
       "      <td>slow</td>\n",
       "      <td>kdc, crd?</td>\n",
       "      <td>very round, no alignment issue, background sou...</td>\n",
       "      <td>0.030</td>\n",
       "      <td>0.077882</td>\n",
       "      <td>0.068771</td>\n",
       "    </tr>\n",
       "    <tr>\n",
       "      <th>5</th>\n",
       "      <td>SDSSJ1250+0523</td>\n",
       "      <td>fast</td>\n",
       "      <td>round</td>\n",
       "      <td>V 100 km/s, very round 0.09, no alignment issue</td>\n",
       "      <td>0.030</td>\n",
       "      <td>0.127693</td>\n",
       "      <td>0.112299</td>\n",
       "    </tr>\n",
       "    <tr>\n",
       "      <th>6</th>\n",
       "      <td>SDSSJ1306+0600</td>\n",
       "      <td>0.0</td>\n",
       "      <td>0.0</td>\n",
       "      <td>0.0</td>\n",
       "      <td>0.091</td>\n",
       "      <td>0.108517</td>\n",
       "      <td>0.091037</td>\n",
       "    </tr>\n",
       "    <tr>\n",
       "      <th>7</th>\n",
       "      <td>SDSSJ1402+6321</td>\n",
       "      <td>fast</td>\n",
       "      <td>misaligned</td>\n",
       "      <td>V 60 km/s, misaligned 35 deg</td>\n",
       "      <td>0.230</td>\n",
       "      <td>0.095982</td>\n",
       "      <td>0.082576</td>\n",
       "    </tr>\n",
       "    <tr>\n",
       "      <th>8</th>\n",
       "      <td>SDSSJ1531-0105</td>\n",
       "      <td>slow</td>\n",
       "      <td>complex? kdc? no rotation?</td>\n",
       "      <td>red region in bottom right not due to contamin...</td>\n",
       "      <td>0.320</td>\n",
       "      <td>0.078509</td>\n",
       "      <td>0.069539</td>\n",
       "    </tr>\n",
       "    <tr>\n",
       "      <th>9</th>\n",
       "      <td>SDSSJ1538+5817</td>\n",
       "      <td>slow</td>\n",
       "      <td>kdc? crd?</td>\n",
       "      <td>V 60 km/s, PA_kin not clear, no contamination</td>\n",
       "      <td>0.180</td>\n",
       "      <td>0.064735</td>\n",
       "      <td>0.049908</td>\n",
       "    </tr>\n",
       "    <tr>\n",
       "      <th>10</th>\n",
       "      <td>SDSSJ1621+3931</td>\n",
       "      <td>fast</td>\n",
       "      <td>misaligned</td>\n",
       "      <td>V 100 km/s, misaligned 31 deg</td>\n",
       "      <td>0.270</td>\n",
       "      <td>0.235023</td>\n",
       "      <td>0.216519</td>\n",
       "    </tr>\n",
       "    <tr>\n",
       "      <th>11</th>\n",
       "      <td>SDSSJ1627-0053</td>\n",
       "      <td>slow</td>\n",
       "      <td>complex? no rotation?</td>\n",
       "      <td>receding velocity in right may be background s...</td>\n",
       "      <td>0.150</td>\n",
       "      <td>0.087507</td>\n",
       "      <td>0.073139</td>\n",
       "    </tr>\n",
       "    <tr>\n",
       "      <th>12</th>\n",
       "      <td>SDSSJ1630+4520</td>\n",
       "      <td>fast</td>\n",
       "      <td>aligned</td>\n",
       "      <td>V 60 km/s, very aligned 3 deg</td>\n",
       "      <td>0.160</td>\n",
       "      <td>0.113668</td>\n",
       "      <td>0.100951</td>\n",
       "    </tr>\n",
       "    <tr>\n",
       "      <th>13</th>\n",
       "      <td>SDSSJ2303+1422</td>\n",
       "      <td>slow</td>\n",
       "      <td>twisted kinematics, kdc?</td>\n",
       "      <td>twisted from symmetry, asymmetry at far middle...</td>\n",
       "      <td>0.360</td>\n",
       "      <td>0.083364</td>\n",
       "      <td>0.071077</td>\n",
       "    </tr>\n",
       "  </tbody>\n",
       "</table>\n",
       "</div>"
      ],
      "text/plain": [
       "          obj_name       class                    subclass  \\\n",
       "0   SDSSJ0029-0055        slow          kdc? no rotation?    \n",
       "1   SDSSJ0037-0942        fast                  misaligned   \n",
       "2   SDSSJ0330-0020  slow? poor                        none   \n",
       "3   SDSSJ1112+0826        fast                     aligned   \n",
       "4   SDSSJ1204+0358        slow                   kdc, crd?   \n",
       "5   SDSSJ1250+0523        fast                       round   \n",
       "6   SDSSJ1306+0600         0.0                         0.0   \n",
       "7   SDSSJ1402+6321        fast                  misaligned   \n",
       "8   SDSSJ1531-0105        slow  complex? kdc? no rotation?   \n",
       "9   SDSSJ1538+5817        slow                   kdc? crd?   \n",
       "10  SDSSJ1621+3931        fast                  misaligned   \n",
       "11  SDSSJ1627-0053        slow       complex? no rotation?   \n",
       "12  SDSSJ1630+4520        fast                     aligned   \n",
       "13  SDSSJ2303+1422        slow    twisted kinematics, kdc?   \n",
       "\n",
       "                                             comments  ellipticity   V_sigma  \\\n",
       "0   misaligned 70 deg, possibly rotation at outer ...        0.160  0.107911   \n",
       "1   V 100 km/s, misaligned 27 deg, possible contam...        0.270  0.176446   \n",
       "2       poor kinematics make it difficult to classify        0.230  0.129017   \n",
       "3                       V 100 km/s, perfect alignment        0.230  0.263330   \n",
       "4   very round, no alignment issue, background sou...        0.030  0.077882   \n",
       "5     V 100 km/s, very round 0.09, no alignment issue        0.030  0.127693   \n",
       "6                                                 0.0        0.091  0.108517   \n",
       "7                        V 60 km/s, misaligned 35 deg        0.230  0.095982   \n",
       "8   red region in bottom right not due to contamin...        0.320  0.078509   \n",
       "9       V 60 km/s, PA_kin not clear, no contamination        0.180  0.064735   \n",
       "10                      V 100 km/s, misaligned 31 deg        0.270  0.235023   \n",
       "11  receding velocity in right may be background s...        0.150  0.087507   \n",
       "12                      V 60 km/s, very aligned 3 deg        0.160  0.113668   \n",
       "13  twisted from symmetry, asymmetry at far middle...        0.360  0.083364   \n",
       "\n",
       "    lambda_R  \n",
       "0   0.084878  \n",
       "1   0.158571  \n",
       "2   0.109658  \n",
       "3   0.234192  \n",
       "4   0.068771  \n",
       "5   0.112299  \n",
       "6   0.091037  \n",
       "7   0.082576  \n",
       "8   0.069539  \n",
       "9   0.049908  \n",
       "10  0.216519  \n",
       "11  0.073139  \n",
       "12  0.100951  \n",
       "13  0.071077  "
      ]
     },
     "execution_count": 120,
     "metadata": {},
     "output_type": "execute_result"
    }
   ],
   "source": [
    "classifications"
   ]
  },
  {
   "cell_type": "code",
   "execution_count": null,
   "metadata": {},
   "outputs": [],
   "source": []
  }
 ],
 "metadata": {
  "kernelspec": {
   "display_name": "Python 3",
   "language": "python",
   "name": "python3"
  },
  "language_info": {
   "codemirror_mode": {
    "name": "ipython",
    "version": 3
   },
   "file_extension": ".py",
   "mimetype": "text/x-python",
   "name": "python",
   "nbconvert_exporter": "python",
   "pygments_lexer": "ipython3",
   "version": "3.7.0"
  }
 },
 "nbformat": 4,
 "nbformat_minor": 5
}
