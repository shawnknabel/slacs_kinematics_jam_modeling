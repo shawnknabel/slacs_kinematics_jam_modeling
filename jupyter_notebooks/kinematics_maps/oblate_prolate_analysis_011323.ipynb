{
 "cells": [
  {
   "cell_type": "markdown",
   "metadata": {},
   "source": [
    "# 12/13/22 - Kinematic analysis of SLACS lenses for KCWI data paper. Looking at the fast/slow rotator classification calculations, integrated velocity dispersions, etc.\n",
    "# 01/10/23 - Cleaning up the notebook."
   ]
  },
  {
   "cell_type": "code",
   "execution_count": 1,
   "metadata": {},
   "outputs": [],
   "source": [
    "import numpy as np\n",
    "import matplotlib.pyplot as plt\n",
    "plt.rcParams.update({'font.size': 14})\n",
    "plt.rcParams.update({\"figure.figsize\" : (8, 6)})\n",
    "from astropy.io import fits\n",
    "import pandas as pd\n",
    "\n",
    "# data directory\n",
    "data_dir = '/data/raw_data/KECK_KCWI_SLACS_kinematics_shawn/'\n",
    "table_dir= f'{data_dir}tables/'\n",
    "#################################################\n",
    "# objects\n",
    "obj_names = ['SDSSJ0029-0055',\n",
    "             'SDSSJ0037-0942',\n",
    "             'SDSSJ0330-0020',\n",
    "             'SDSSJ1112+0826',\n",
    "             'SDSSJ1204+0358',\n",
    "             'SDSSJ1250+0523',\n",
    "             'SDSSJ1306+0600',\n",
    "             'SDSSJ1402+6321',\n",
    "             'SDSSJ1531-0105',\n",
    "             'SDSSJ1538+5817',\n",
    "             'SDSSJ1621+3931',\n",
    "             'SDSSJ1627-0053',\n",
    "             'SDSSJ1630+4520',\n",
    "             'SDSSJ2303+1422'\n",
    "            ]"
   ]
  },
  {
   "cell_type": "markdown",
   "metadata": {},
   "source": [
    "# Bring in my classifications table"
   ]
  },
  {
   "cell_type": "code",
   "execution_count": 2,
   "metadata": {},
   "outputs": [],
   "source": [
    "# bring in my classifications table\n",
    "date = '032723'\n",
    "#class_df.to_csv(f'{data_dir}classification_table_{date}.csv',index=False)\n",
    "classifications = pd.read_csv(f'{table_dir}classifications_etc_{date}.csv')"
   ]
  },
  {
   "cell_type": "code",
   "execution_count": 3,
   "metadata": {},
   "outputs": [
    {
     "data": {
      "text/plain": [
       "Index(['Unnamed: 0', 'Unnamed: 0.1', 'Unnamed: 0.1.1', 'Unnamed: 0.1.1.1',\n",
       "       'Unnamed: 0.1.1.1.1', 'obj_name', 'class', 'subclass', 'comments',\n",
       "       'ellipticity', 'V_sigma_mge', 'lambda_R_mge', 'PA_phot', 'delta_PA',\n",
       "       'PA_kin', 'dPA_kin', 'oblate_prolate', 'SLACS delta_PA',\n",
       "       'V_aperture_mge', 'VD_aperture_mge', 'dVD_aperture_mge',\n",
       "       'Vrms_aperture_mge', 'SLACS VD', 'SLACS dVD', 'PA_kin_bspline',\n",
       "       'dPA_kin_bspline', 'PA_phot_bspline', 'delta_PA_bspline',\n",
       "       'ellipticity_bspline', 'kcwi_sigmapsf_bspline', 'reff_slacs_x',\n",
       "       'ellipticity_slacs', 'reff_mge', 'reff_maj_mge', 'eps_reff_ellipse_mge',\n",
       "       'luminosities_mge', 'reff_slacs_v', 'pa_slacs_v', 'VD_slacs_asb',\n",
       "       'dVD_slacs_asb', 'V_sigma_bin', 'lambda_R_bin', 'D_ap_bin', 'dV_ap_bin',\n",
       "       'VD_ap_bin', 'dVD_ap_bin', 'V_sigma_pix', 'lambda_R_pix', 'V_ap_pix',\n",
       "       'dV_ap_pix', 'VD_ap_pix', 'dVD_ap_pix', 'V_aperture_mge.1',\n",
       "       'VD_aperture_mge.1', 'Vrms_aperture_mge.1', 'V_sigma_class',\n",
       "       'lambda_R_class', 'stellar_mass', 'V_aperture', 'VD_aperture',\n",
       "       'Vrms_aperture', 'anowar_reff', 'danowar_reff', 'dV_aperture_mge',\n",
       "       'zlens', 'zsource', 'kcwi_sigmapsf'],\n",
       "      dtype='object')"
      ]
     },
     "execution_count": 3,
     "metadata": {},
     "output_type": "execute_result"
    }
   ],
   "source": [
    "classifications.columns"
   ]
  },
  {
   "cell_type": "code",
   "execution_count": 4,
   "metadata": {},
   "outputs": [],
   "source": [
    "plt.rcParams.update({'font.size': 16})"
   ]
  },
  {
   "cell_type": "code",
   "execution_count": 6,
   "metadata": {},
   "outputs": [
    {
     "data": {
      "text/plain": [
       "Text(0, 0.5, '$\\\\Delta$PA')"
      ]
     },
     "execution_count": 6,
     "metadata": {},
     "output_type": "execute_result"
    },
    {
     "data": {
      "image/png": "[encoded data removed]",
      "text/plain": [
       "<Figure size 576x576 with 1 Axes>"
      ]
     },
     "metadata": {
      "needs_background": "light"
     },
     "output_type": "display_data"
    }
   ],
   "source": [
    "oblate_prolate = np.empty(14, dtype='U15')\n",
    "\n",
    "fig, ax = plt.subplots(figsize=(8,8))\n",
    "for i in range(14):\n",
    "    #if i == 6:\n",
    "    #    oblate_prolate[i]=''\n",
    "    #    continue\n",
    "    delta_PA = np.abs(classifications.loc[i, 'delta_PA'])\n",
    "    if delta_PA > 90:\n",
    "        delta_PA = np.abs(180-delta_PA)\n",
    "    dPA = classifications.loc[i, 'dPA_kin']\n",
    "    classification = classifications.loc[i, 'lambda_R_class']\n",
    "    if classification == 'fast':\n",
    "        color='b' # blue means fast/regular\n",
    "    else:\n",
    "        color='r' # red\n",
    "    if i == 9:\n",
    "        label='KDC'\n",
    "        oblate_prolate[i]=label\n",
    "    elif (delta_PA < 45) & (dPA < 45):\n",
    "        label='likely oblate'\n",
    "        oblate_prolate[i]=label\n",
    "    elif (delta_PA > 45) & (dPA < 45):\n",
    "        label='likely prolate'\n",
    "        oblate_prolate[i]=label\n",
    "    else:\n",
    "        label='uncertain'\n",
    "        oblate_prolate[i]=label\n",
    "    ax.errorbar(i, delta_PA, yerr=dPA, marker='o', color=color)\n",
    "ax.set_ylim(-90, 90)\n",
    "ax.axhline(45, color='k')\n",
    "ax.axhline(0, color='k', linestyle=':')\n",
    "ax.annotate('prolate',(0.5,50))\n",
    "ax.annotate('oblate',(0.5,40))\n",
    "ax.set_xticks(range(14), labels=oblate_prolate, rotation=60, ha='right', rotation_mode='anchor')\n",
    "ax.set_yticks(np.linspace(-90, 90, 13))\n",
    "delta_pa_symbol = r'$\\Delta$PA'\n",
    "ax.set_ylabel(delta_pa_symbol, rotation=90)"
   ]
  },
  {
   "cell_type": "code",
   "execution_count": 7,
   "metadata": {},
   "outputs": [],
   "source": [
    "classifications['oblate_prolate'] = oblate_prolate"
   ]
  },
  {
   "cell_type": "code",
   "execution_count": 8,
   "metadata": {},
   "outputs": [],
   "source": [
    "# save\n",
    "#date = '011323'\n",
    "classifications.to_csv(f'{data_dir}classifications_etc_{date}.csv',index=False)"
   ]
  },
  {
   "cell_type": "code",
   "execution_count": 9,
   "metadata": {},
   "outputs": [
    {
     "data": {
      "text/plain": [
       "array([False,  True, False,  True,  True, False, False,  True, False,\n",
       "       False,  True, False,  True, False])"
      ]
     },
     "execution_count": 9,
     "metadata": {},
     "output_type": "execute_result"
    }
   ],
   "source": [
    "oblate_prolate == 'likely oblate'"
   ]
  },
  {
   "cell_type": "markdown",
   "metadata": {},
   "source": [
    "# What about delta_PA using the SLACS photometric PA?"
   ]
  },
  {
   "cell_type": "markdown",
   "metadata": {},
   "source": [
    "slacs_delta_pa = np.empty(14)\n",
    "\n",
    "for i in range(14):\n",
    "    slacs_delta_pa[i] = min( [ np.abs(classifications.loc[i,'SLACS PA'] - classifications.loc[i,'PA_kin']),\n",
    "                          180-np.abs(classifications.loc[i,'SLACS PA'] - classifications.loc[i,'PA_kin'])\n",
    "                          ]\n",
    "                           )"
   ]
  },
  {
   "cell_type": "code",
   "execution_count": 11,
   "metadata": {},
   "outputs": [],
   "source": [
    "slacs_delta_pa = classifications['SLACS delta_PA']"
   ]
  },
  {
   "cell_type": "code",
   "execution_count": 12,
   "metadata": {},
   "outputs": [
    {
     "data": {
      "text/plain": [
       "0     66.4\n",
       "1     34.9\n",
       "2     24.9\n",
       "3      1.5\n",
       "4     20.1\n",
       "5      6.3\n",
       "6      3.3\n",
       "7     19.7\n",
       "8      6.0\n",
       "9     23.0\n",
       "10    -3.4\n",
       "11    53.6\n",
       "12    20.7\n",
       "13    31.2\n",
       "Name: SLACS delta_PA, dtype: float64"
      ]
     },
     "execution_count": 12,
     "metadata": {},
     "output_type": "execute_result"
    }
   ],
   "source": [
    "slacs_delta_pa"
   ]
  },
  {
   "cell_type": "code",
   "execution_count": 1,
   "metadata": {},
   "outputs": [
    {
     "data": {
      "text/plain": [
       "['',\n",
       " '/home/shawnknabel/Documents/slacs_kinematics/jupyter_notebooks/kinematics_maps',\n",
       " '/usr/local/anaconda3/lib/python37.zip',\n",
       " '/usr/local/anaconda3/lib/python3.7',\n",
       " '/usr/local/anaconda3/lib/python3.7/lib-dynload',\n",
       " '/home/shawnknabel/.local/lib/python3.7/site-packages',\n",
       " '/home/shawnknabel/.local/lib/python3.7/site-packages/paperfig-0.1.0-py3.7.egg',\n",
       " '/home/shawnknabel/.local/lib/python3.7/site-packages/coloripy-0.0.0-py3.7.egg',\n",
       " '/usr/local/anaconda3/lib/python3.7/site-packages',\n",
       " '/usr/local/anaconda3/lib/python3.7/site-packages/IPython/extensions',\n",
       " '/home/shawnknabel/.ipython']"
      ]
     },
     "execution_count": 1,
     "metadata": {},
     "output_type": "execute_result"
    }
   ],
   "source": [
    "import sys\n",
    "sys.path"
   ]
  },
  {
   "cell_type": "code",
   "execution_count": 28,
   "metadata": {},
   "outputs": [
    {
     "data": {
      "image/png": "[encoded data removed]",
      "text/plain": [
       "<Figure size 576x576 with 1 Axes>"
      ]
     },
     "metadata": {
      "needs_background": "light"
     },
     "output_type": "display_data"
    }
   ],
   "source": [
    "oblate_prolate = np.empty(14, dtype='U15')\n",
    "\n",
    "fig, ax = plt.subplots(figsize=(8,8))\n",
    "for i in range(14):\n",
    "    if i == 6:\n",
    "        oblate_prolate[i]=''\n",
    "        continue\n",
    "    delta_PA = classifications.loc[i, 'delta_PA']\n",
    "    if delta_PA > 90:\n",
    "        delta_PA = 180-delta_PA\n",
    "    slacs_delta_PA = classifications.loc[i, 'SLACS delta_PA']\n",
    "    dPA = classifications.loc[i, 'dPA_kin']\n",
    "    classification = classifications.loc[i, 'lambda_R_class']\n",
    "    if classification == 'fast':\n",
    "        color='b' # black means fast/regular\n",
    "    else:\n",
    "        color='r' # read\n",
    "    if i == 9:\n",
    "        label='KDC'\n",
    "        oblate_prolate[i]=label\n",
    "    elif (delta_PA < 45) & (dPA < 45):\n",
    "        label='likely oblate'\n",
    "        oblate_prolate[i]=label\n",
    "    elif (delta_PA > 45) & (dPA < 45):\n",
    "        label='likely prolate'\n",
    "        oblate_prolate[i]=label\n",
    "    else:\n",
    "        label='uncertain'\n",
    "        oblate_prolate[i]=label\n",
    "    ax.errorbar(i, delta_PA, yerr=dPA, marker='o', color=color, label='MGE HST image')\n",
    "    ax.errorbar(i, np.abs(slacs_delta_PA), yerr=dPA, marker='^', color=color, linestyle='--', label='SLACS estimate')\n",
    "    #ax.errorbar(i, bspline_delta_PA, yerr=dPA, marker='s', color=color, linestyle='--', label='MGE b-spline model')\n",
    "ax.set_ylim(-90, 90)\n",
    "ax.axhline(45, color='k')\n",
    "ax.axhline(0, color='k', linestyle=':')\n",
    "ax.annotate('prolate',(0.5,50))\n",
    "ax.annotate('oblate',(0.5,40))\n",
    "ax.set_xticks(range(14), labels=oblate_prolate, rotation=60, ha='right', rotation_mode='anchor')\n",
    "ax.set_yticks(np.linspace(-90, 90, 13))\n",
    "delta_pa_symbol = r'$\\Delta$PA'\n",
    "ax.set_ylabel(delta_pa_symbol, rotation=90)\n",
    "handles, labels = ax.get_legend_handles_labels()\n",
    "handles = [h[0] for h in handles]\n",
    "ax.legend(handles[0:3], labels[0:3], handlelength=0, loc='lower left')\n",
    "plt.tight_layout()\n",
    "#plt.savefig(f'{data_dir}oblate_prolate_{date}.pdf')"
   ]
  },
  {
   "cell_type": "markdown",
   "metadata": {},
   "source": [
    "# What about when I use the b-spline models?"
   ]
  },
  {
   "cell_type": "code",
   "execution_count": 45,
   "metadata": {},
   "outputs": [
    {
     "data": {
      "image/png": "[encoded data removed]",
      "text/plain": [
       "<Figure size 576x576 with 1 Axes>"
      ]
     },
     "metadata": {
      "needs_background": "light"
     },
     "output_type": "display_data"
    }
   ],
   "source": [
    "oblate_prolate = np.empty(14, dtype='U15')\n",
    "\n",
    "fig, ax = plt.subplots(figsize=(8,8))\n",
    "for i in range(14):\n",
    "    if i == 6:\n",
    "        oblate_prolate[i]='no data'\n",
    "        continue\n",
    "    delta_PA = classifications.loc[i, 'delta_PA']\n",
    "    slacs_delta_PA = np.abs(classifications.loc[i, 'SLACS delta_PA'])\n",
    "    bspline_delta_PA = classifications.loc[i, 'delta_PA_bspline']\n",
    "    dPA = classifications.loc[i, 'dPA_kin']\n",
    "    classification = classifications.loc[i, 'class']\n",
    "    if classification == 'fast/regular':\n",
    "        color='b' # black means fast/regular\n",
    "    else:\n",
    "        color='r' # read\n",
    "    if i == 9:\n",
    "        label='KDC'\n",
    "        oblate_prolate[i]=label\n",
    "    elif (delta_PA < 45) & (slacs_delta_PA < 45) & (bspline_delta_PA < 45) & (dPA < 45):\n",
    "        label='likely oblate'\n",
    "        oblate_prolate[i]=label\n",
    "    elif (delta_PA > 45) & (slacs_delta_PA > 45) & (bspline_delta_PA > 45) & (dPA < 45):\n",
    "        label='likely prolate'\n",
    "        oblate_prolate[i]=label\n",
    "    else:\n",
    "        label='uncertain'\n",
    "        oblate_prolate[i]=label\n",
    "    ax.errorbar(i, delta_PA, yerr=dPA, marker='o', color=color, label='MGE HST image')\n",
    "    ax.errorbar(i, slacs_delta_PA, yerr=dPA, marker='^', color=color, linestyle='--', label='SLACS estimate')\n",
    "    ax.errorbar(i, bspline_delta_PA, yerr=dPA, marker='s', color=color, linestyle='--', label='MGE b-spline model')\n",
    "ax.set_ylim(-90, 90)\n",
    "ax.axhline(45, color='k')\n",
    "ax.axhline(0, color='k', linestyle=':')\n",
    "ax.annotate('prolate',(0.5,50))\n",
    "ax.annotate('oblate',(0.5,40))\n",
    "ax.set_xticks(range(14), labels=oblate_prolate, rotation=60, ha='right', rotation_mode='anchor')\n",
    "ax.set_yticks(np.linspace(-90, 90, 13))\n",
    "delta_pa_symbol = r'$\\Delta$PA'\n",
    "ax.set_ylabel(delta_pa_symbol, rotation=90)\n",
    "handles, labels = ax.get_legend_handles_labels()\n",
    "handles = [h[0] for h in handles]\n",
    "ax.legend(handles[0:3], labels[0:3], handlelength=0, loc='lower left')\n",
    "plt.tight_layout()\n",
    "plt.savefig(f'{data_dir}oblate_prolate_{date}.pdf')"
   ]
  },
  {
   "cell_type": "code",
   "execution_count": 40,
   "metadata": {},
   "outputs": [
    {
     "data": {
      "text/plain": [
       "0.31"
      ]
     },
     "execution_count": 40,
     "metadata": {},
     "output_type": "execute_result"
    }
   ],
   "source": [
    "classifications.loc[8, 'ellipticity']"
   ]
  },
  {
   "cell_type": "markdown",
   "metadata": {},
   "source": [
    "# The differences in the SLACS measurements do not affect the classification of prolate and oblate at all."
   ]
  },
  {
   "cell_type": "code",
   "execution_count": 105,
   "metadata": {},
   "outputs": [
    {
     "data": {
      "text/html": [
       "<div>\n",
       "<style scoped>\n",
       "    .dataframe tbody tr th:only-of-type {\n",
       "        vertical-align: middle;\n",
       "    }\n",
       "\n",
       "    .dataframe tbody tr th {\n",
       "        vertical-align: top;\n",
       "    }\n",
       "\n",
       "    .dataframe thead th {\n",
       "        text-align: right;\n",
       "    }\n",
       "</style>\n",
       "<table border=\"1\" class=\"dataframe\">\n",
       "  <thead>\n",
       "    <tr style=\"text-align: right;\">\n",
       "      <th></th>\n",
       "      <th>obj_name</th>\n",
       "      <th>class</th>\n",
       "      <th>subclass</th>\n",
       "      <th>comments</th>\n",
       "      <th>ellipticity</th>\n",
       "      <th>SLACS ellipticity</th>\n",
       "      <th>effective_radius</th>\n",
       "      <th>SLACS PA</th>\n",
       "      <th>V_sigma</th>\n",
       "      <th>lambda_R</th>\n",
       "      <th>PA_phot</th>\n",
       "      <th>delta_PA</th>\n",
       "      <th>PA_kin</th>\n",
       "      <th>dPA_kin</th>\n",
       "      <th>oblate_prolate</th>\n",
       "      <th>SLACS delta_PA</th>\n",
       "    </tr>\n",
       "  </thead>\n",
       "  <tbody>\n",
       "    <tr>\n",
       "      <th>0</th>\n",
       "      <td>SDSSJ0029-0055</td>\n",
       "      <td>slow/nonregular</td>\n",
       "      <td>complex velocity, twist</td>\n",
       "      <td>V 60-80 km/s</td>\n",
       "      <td>0.13</td>\n",
       "      <td>0.160</td>\n",
       "      <td>2.16</td>\n",
       "      <td>26.6</td>\n",
       "      <td>0.107911</td>\n",
       "      <td>0.084878</td>\n",
       "      <td>23.427588</td>\n",
       "      <td>70.0</td>\n",
       "      <td>93.0</td>\n",
       "      <td>27.75</td>\n",
       "      <td>likely prolate</td>\n",
       "      <td>66.4</td>\n",
       "    </tr>\n",
       "    <tr>\n",
       "      <th>1</th>\n",
       "      <td>SDSSJ0037-0942</td>\n",
       "      <td>fast/regular</td>\n",
       "      <td>misaligned 31 deg</td>\n",
       "      <td>V 100 km/s</td>\n",
       "      <td>0.30</td>\n",
       "      <td>0.270</td>\n",
       "      <td>2.19</td>\n",
       "      <td>11.4</td>\n",
       "      <td>0.176446</td>\n",
       "      <td>0.158571</td>\n",
       "      <td>7.761124</td>\n",
       "      <td>31.0</td>\n",
       "      <td>156.5</td>\n",
       "      <td>8.25</td>\n",
       "      <td>likely oblate</td>\n",
       "      <td>34.9</td>\n",
       "    </tr>\n",
       "    <tr>\n",
       "      <th>2</th>\n",
       "      <td>SDSSJ0330-0020</td>\n",
       "      <td>uncertain</td>\n",
       "      <td>possible rotation, misaligned 59 deg</td>\n",
       "      <td>Data poor, V 60 km/s</td>\n",
       "      <td>0.17</td>\n",
       "      <td>0.230</td>\n",
       "      <td>1.20</td>\n",
       "      <td>109.6</td>\n",
       "      <td>0.129017</td>\n",
       "      <td>0.109658</td>\n",
       "      <td>104.223376</td>\n",
       "      <td>30.0</td>\n",
       "      <td>134.5</td>\n",
       "      <td>89.75</td>\n",
       "      <td>uncertain</td>\n",
       "      <td>24.9</td>\n",
       "    </tr>\n",
       "    <tr>\n",
       "      <th>3</th>\n",
       "      <td>SDSSJ1112+0826</td>\n",
       "      <td>fast/regular</td>\n",
       "      <td>aligned 0 deg</td>\n",
       "      <td>V 100 km/s</td>\n",
       "      <td>0.24</td>\n",
       "      <td>0.230</td>\n",
       "      <td>1.50</td>\n",
       "      <td>137.5</td>\n",
       "      <td>0.263330</td>\n",
       "      <td>0.234192</td>\n",
       "      <td>136.098602</td>\n",
       "      <td>0.0</td>\n",
       "      <td>136.0</td>\n",
       "      <td>18.50</td>\n",
       "      <td>likely oblate</td>\n",
       "      <td>1.5</td>\n",
       "    </tr>\n",
       "    <tr>\n",
       "      <th>4</th>\n",
       "      <td>SDSSJ1204+0358</td>\n",
       "      <td>slow/nonregular</td>\n",
       "      <td>KDC</td>\n",
       "      <td>V 40 km/s, signif arcs</td>\n",
       "      <td>0.09</td>\n",
       "      <td>0.030</td>\n",
       "      <td>1.47</td>\n",
       "      <td>132.1</td>\n",
       "      <td>0.077882</td>\n",
       "      <td>0.068771</td>\n",
       "      <td>135.080083</td>\n",
       "      <td>23.0</td>\n",
       "      <td>112.0</td>\n",
       "      <td>34.50</td>\n",
       "      <td>uncertain</td>\n",
       "      <td>20.1</td>\n",
       "    </tr>\n",
       "    <tr>\n",
       "      <th>5</th>\n",
       "      <td>SDSSJ1250+0523</td>\n",
       "      <td>fast/regular</td>\n",
       "      <td>very round, alignment N/A</td>\n",
       "      <td>V 100 km/s, signif arcs</td>\n",
       "      <td>0.04</td>\n",
       "      <td>0.030</td>\n",
       "      <td>1.81</td>\n",
       "      <td>114.8</td>\n",
       "      <td>0.127693</td>\n",
       "      <td>0.112299</td>\n",
       "      <td>72.033772</td>\n",
       "      <td>37.0</td>\n",
       "      <td>108.5</td>\n",
       "      <td>21.75</td>\n",
       "      <td>likely oblate</td>\n",
       "      <td>6.3</td>\n",
       "    </tr>\n",
       "    <tr>\n",
       "      <th>6</th>\n",
       "      <td>SDSSJ1306+0600</td>\n",
       "      <td>fast/regular</td>\n",
       "      <td>misaligned 25 deg</td>\n",
       "      <td>V 60 km/s, No HST image yet</td>\n",
       "      <td>-1.00</td>\n",
       "      <td>0.091</td>\n",
       "      <td>2.30</td>\n",
       "      <td>2.3</td>\n",
       "      <td>0.108517</td>\n",
       "      <td>0.091037</td>\n",
       "      <td>-1.000000</td>\n",
       "      <td>1.0</td>\n",
       "      <td>-1.0</td>\n",
       "      <td>-1.00</td>\n",
       "      <td></td>\n",
       "      <td>3.3</td>\n",
       "    </tr>\n",
       "    <tr>\n",
       "      <th>7</th>\n",
       "      <td>SDSSJ1402+6321</td>\n",
       "      <td>fast/regular</td>\n",
       "      <td>misaligned 35 deg</td>\n",
       "      <td>V 60 km/s</td>\n",
       "      <td>0.22</td>\n",
       "      <td>0.230</td>\n",
       "      <td>2.70</td>\n",
       "      <td>70.8</td>\n",
       "      <td>0.095982</td>\n",
       "      <td>0.082576</td>\n",
       "      <td>75.302639</td>\n",
       "      <td>16.0</td>\n",
       "      <td>90.5</td>\n",
       "      <td>27.75</td>\n",
       "      <td>likely oblate</td>\n",
       "      <td>19.7</td>\n",
       "    </tr>\n",
       "    <tr>\n",
       "      <th>8</th>\n",
       "      <td>SDSSJ1531-0105</td>\n",
       "      <td>slow/nonregular</td>\n",
       "      <td>no rotation, complex velocity, misaligned 41 deg</td>\n",
       "      <td>V 40 deg</td>\n",
       "      <td>0.31</td>\n",
       "      <td>0.320</td>\n",
       "      <td>2.50</td>\n",
       "      <td>143.5</td>\n",
       "      <td>0.078509</td>\n",
       "      <td>0.069539</td>\n",
       "      <td>145.972451</td>\n",
       "      <td>3.0</td>\n",
       "      <td>149.5</td>\n",
       "      <td>89.75</td>\n",
       "      <td>uncertain</td>\n",
       "      <td>6.0</td>\n",
       "    </tr>\n",
       "    <tr>\n",
       "      <th>9</th>\n",
       "      <td>SDSSJ1538+5817</td>\n",
       "      <td>fast/nonregular</td>\n",
       "      <td>KDC, CRD? misaligned 22 deg</td>\n",
       "      <td>V 60 km/s outer, 20 deg inner</td>\n",
       "      <td>0.22</td>\n",
       "      <td>0.180</td>\n",
       "      <td>1.58</td>\n",
       "      <td>153.5</td>\n",
       "      <td>0.064735</td>\n",
       "      <td>0.049908</td>\n",
       "      <td>153.339746</td>\n",
       "      <td>22.0</td>\n",
       "      <td>130.5</td>\n",
       "      <td>89.75</td>\n",
       "      <td>uncertain</td>\n",
       "      <td>23.0</td>\n",
       "    </tr>\n",
       "    <tr>\n",
       "      <th>10</th>\n",
       "      <td>SDSSJ1621+3931</td>\n",
       "      <td>fast/regular</td>\n",
       "      <td>misaligned 25 deg</td>\n",
       "      <td>V 100 km/s, pretty round</td>\n",
       "      <td>0.35</td>\n",
       "      <td>0.270</td>\n",
       "      <td>2.14</td>\n",
       "      <td>142.9</td>\n",
       "      <td>0.235023</td>\n",
       "      <td>0.216519</td>\n",
       "      <td>159.313556</td>\n",
       "      <td>19.0</td>\n",
       "      <td>-40.5</td>\n",
       "      <td>19.25</td>\n",
       "      <td>likely oblate</td>\n",
       "      <td>-3.4</td>\n",
       "    </tr>\n",
       "    <tr>\n",
       "      <th>11</th>\n",
       "      <td>SDSSJ1627-0053</td>\n",
       "      <td>slow/nonregular</td>\n",
       "      <td>complex velocity</td>\n",
       "      <td>V 60 km/s, signif arcs</td>\n",
       "      <td>0.21</td>\n",
       "      <td>0.150</td>\n",
       "      <td>1.98</td>\n",
       "      <td>6.9</td>\n",
       "      <td>0.087507</td>\n",
       "      <td>0.073139</td>\n",
       "      <td>5.745817</td>\n",
       "      <td>55.0</td>\n",
       "      <td>60.5</td>\n",
       "      <td>89.75</td>\n",
       "      <td>uncertain</td>\n",
       "      <td>53.6</td>\n",
       "    </tr>\n",
       "    <tr>\n",
       "      <th>12</th>\n",
       "      <td>SDSSJ1630+4520</td>\n",
       "      <td>fast/regular</td>\n",
       "      <td>aligned 6 deg</td>\n",
       "      <td>V 60 deg</td>\n",
       "      <td>0.16</td>\n",
       "      <td>0.160</td>\n",
       "      <td>1.96</td>\n",
       "      <td>71.7</td>\n",
       "      <td>0.113668</td>\n",
       "      <td>0.100951</td>\n",
       "      <td>77.540085</td>\n",
       "      <td>27.0</td>\n",
       "      <td>231.0</td>\n",
       "      <td>34.00</td>\n",
       "      <td>uncertain</td>\n",
       "      <td>20.7</td>\n",
       "    </tr>\n",
       "    <tr>\n",
       "      <th>13</th>\n",
       "      <td>SDSSJ2303+1422</td>\n",
       "      <td>slow/nonregular</td>\n",
       "      <td>twist</td>\n",
       "      <td>V 40 km/s</td>\n",
       "      <td>0.24</td>\n",
       "      <td>0.360</td>\n",
       "      <td>3.28</td>\n",
       "      <td>36.7</td>\n",
       "      <td>0.083364</td>\n",
       "      <td>0.071077</td>\n",
       "      <td>28.076619</td>\n",
       "      <td>22.0</td>\n",
       "      <td>5.5</td>\n",
       "      <td>37.00</td>\n",
       "      <td>uncertain</td>\n",
       "      <td>31.2</td>\n",
       "    </tr>\n",
       "  </tbody>\n",
       "</table>\n",
       "</div>"
      ],
      "text/plain": [
       "          obj_name            class  \\\n",
       "0   SDSSJ0029-0055  slow/nonregular   \n",
       "1   SDSSJ0037-0942     fast/regular   \n",
       "2   SDSSJ0330-0020        uncertain   \n",
       "3   SDSSJ1112+0826     fast/regular   \n",
       "4   SDSSJ1204+0358  slow/nonregular   \n",
       "5   SDSSJ1250+0523     fast/regular   \n",
       "6   SDSSJ1306+0600     fast/regular   \n",
       "7   SDSSJ1402+6321     fast/regular   \n",
       "8   SDSSJ1531-0105  slow/nonregular   \n",
       "9   SDSSJ1538+5817  fast/nonregular   \n",
       "10  SDSSJ1621+3931     fast/regular   \n",
       "11  SDSSJ1627-0053  slow/nonregular   \n",
       "12  SDSSJ1630+4520     fast/regular   \n",
       "13  SDSSJ2303+1422  slow/nonregular   \n",
       "\n",
       "                                            subclass  \\\n",
       "0                            complex velocity, twist   \n",
       "1                                  misaligned 31 deg   \n",
       "2               possible rotation, misaligned 59 deg   \n",
       "3                                      aligned 0 deg   \n",
       "4                                                KDC   \n",
       "5                          very round, alignment N/A   \n",
       "6                                  misaligned 25 deg   \n",
       "7                                  misaligned 35 deg   \n",
       "8   no rotation, complex velocity, misaligned 41 deg   \n",
       "9                        KDC, CRD? misaligned 22 deg   \n",
       "10                                 misaligned 25 deg   \n",
       "11                                  complex velocity   \n",
       "12                                     aligned 6 deg   \n",
       "13                                             twist   \n",
       "\n",
       "                         comments  ellipticity  SLACS ellipticity  \\\n",
       "0                    V 60-80 km/s         0.13              0.160   \n",
       "1                      V 100 km/s         0.30              0.270   \n",
       "2            Data poor, V 60 km/s         0.17              0.230   \n",
       "3                      V 100 km/s         0.24              0.230   \n",
       "4          V 40 km/s, signif arcs         0.09              0.030   \n",
       "5         V 100 km/s, signif arcs         0.04              0.030   \n",
       "6     V 60 km/s, No HST image yet        -1.00              0.091   \n",
       "7                       V 60 km/s         0.22              0.230   \n",
       "8                        V 40 deg         0.31              0.320   \n",
       "9   V 60 km/s outer, 20 deg inner         0.22              0.180   \n",
       "10       V 100 km/s, pretty round         0.35              0.270   \n",
       "11         V 60 km/s, signif arcs         0.21              0.150   \n",
       "12                       V 60 deg         0.16              0.160   \n",
       "13                      V 40 km/s         0.24              0.360   \n",
       "\n",
       "    effective_radius  SLACS PA   V_sigma  lambda_R     PA_phot  delta_PA  \\\n",
       "0               2.16      26.6  0.107911  0.084878   23.427588      70.0   \n",
       "1               2.19      11.4  0.176446  0.158571    7.761124      31.0   \n",
       "2               1.20     109.6  0.129017  0.109658  104.223376      30.0   \n",
       "3               1.50     137.5  0.263330  0.234192  136.098602       0.0   \n",
       "4               1.47     132.1  0.077882  0.068771  135.080083      23.0   \n",
       "5               1.81     114.8  0.127693  0.112299   72.033772      37.0   \n",
       "6               2.30       2.3  0.108517  0.091037   -1.000000       1.0   \n",
       "7               2.70      70.8  0.095982  0.082576   75.302639      16.0   \n",
       "8               2.50     143.5  0.078509  0.069539  145.972451       3.0   \n",
       "9               1.58     153.5  0.064735  0.049908  153.339746      22.0   \n",
       "10              2.14     142.9  0.235023  0.216519  159.313556      19.0   \n",
       "11              1.98       6.9  0.087507  0.073139    5.745817      55.0   \n",
       "12              1.96      71.7  0.113668  0.100951   77.540085      27.0   \n",
       "13              3.28      36.7  0.083364  0.071077   28.076619      22.0   \n",
       "\n",
       "    PA_kin  dPA_kin  oblate_prolate  SLACS delta_PA  \n",
       "0     93.0    27.75  likely prolate            66.4  \n",
       "1    156.5     8.25   likely oblate            34.9  \n",
       "2    134.5    89.75       uncertain            24.9  \n",
       "3    136.0    18.50   likely oblate             1.5  \n",
       "4    112.0    34.50       uncertain            20.1  \n",
       "5    108.5    21.75   likely oblate             6.3  \n",
       "6     -1.0    -1.00                             3.3  \n",
       "7     90.5    27.75   likely oblate            19.7  \n",
       "8    149.5    89.75       uncertain             6.0  \n",
       "9    130.5    89.75       uncertain            23.0  \n",
       "10   -40.5    19.25   likely oblate            -3.4  \n",
       "11    60.5    89.75       uncertain            53.6  \n",
       "12   231.0    34.00       uncertain            20.7  \n",
       "13     5.5    37.00       uncertain            31.2  "
      ]
     },
     "execution_count": 105,
     "metadata": {},
     "output_type": "execute_result"
    }
   ],
   "source": [
    "classifications"
   ]
  },
  {
   "cell_type": "code",
   "execution_count": 106,
   "metadata": {},
   "outputs": [],
   "source": [
    "# save\n",
    "date = '011323'\n",
    "classifications.to_csv(f'{data_dir}classification_table_{date}.csv',index=False)"
   ]
  },
  {
   "cell_type": "code",
   "execution_count": null,
   "metadata": {},
   "outputs": [],
   "source": []
  },
  {
   "cell_type": "code",
   "execution_count": null,
   "metadata": {},
   "outputs": [],
   "source": []
  }
 ],
 "metadata": {
  "kernelspec": {
   "display_name": "Python 3",
   "language": "python",
   "name": "python3"
  },
  "language_info": {
   "codemirror_mode": {
    "name": "ipython",
    "version": 3
   },
   "file_extension": ".py",
   "mimetype": "text/x-python",
   "name": "python",
   "nbconvert_exporter": "python",
   "pygments_lexer": "ipython3",
   "version": "3.7.0"
  }
 },
 "nbformat": 4,
 "nbformat_minor": 5
}
