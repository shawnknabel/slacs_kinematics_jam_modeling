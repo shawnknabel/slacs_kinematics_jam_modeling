{
 "cells": [
  {
   "cell_type": "markdown",
   "metadata": {},
   "source": [
    "# saving I band dust extinction from https://irsa.ipac.caltech.edu/applications/DUST/ because it won't take the table of my obj names\n",
    "\n",
    "E(B-V)S & F =  0.86 x E(B-V)SFD\n",
    "\n",
    "S & F = Schlafly & Finkbeiner 2011 (ApJ 737, 103)\n",
    "\n",
    "SFD = Schlegel et al. 1998 (ApJ 500, 525)\n",
    "\n",
    "Assuming a visual extinction to reddening\n",
    "\n",
    "ratio Av / E(B-V) = 3.1, then:\n",
    "\n",
    "AvS & F =  0.0851 (mag)  \n",
    "\n",
    "AvSFD =  0.0990 (mag) \n",
    "\n",
    "__________________________\n",
    "\n",
    "Search the object name, click to see bandpass extinctions, it's column 4 (A_mag)"
   ]
  },
  {
   "cell_type": "code",
   "execution_count": 2,
   "metadata": {},
   "outputs": [],
   "source": [
    "import numpy as np\n",
    "import pandas as pd"
   ]
  },
  {
   "cell_type": "code",
   "execution_count": 3,
   "metadata": {},
   "outputs": [],
   "source": [
    "obj_names =np.array(['SDSSJ0029-0055', 'SDSSJ0037-0942', 'SDSSJ0330-0020',\n",
    "       'SDSSJ1112+0826', 'SDSSJ1204+0358', 'SDSSJ1250+0523',\n",
    "       'SDSSJ1306+0600', 'SDSSJ1402+6321', 'SDSSJ1531-0105',\n",
    "       'SDSSJ1538+5817', 'SDSSJ1621+3931', 'SDSSJ1627-0053',\n",
    "       'SDSSJ1630+4520', 'SDSSJ2303+1422'])"
   ]
  },
  {
   "cell_type": "code",
   "execution_count": 4,
   "metadata": {},
   "outputs": [],
   "source": [
    "extinctions = np.array([0.032,\n",
    "                        0.048,\n",
    "                       0.133,\n",
    "                       0.047,\n",
    "                       0.032,\n",
    "                       0.044,\n",
    "                       0.044,\n",
    "                       0.025,\n",
    "                       0.222,\n",
    "                       0.023,\n",
    "                       0.010,\n",
    "                       0.157,\n",
    "                       0.010,\n",
    "                       0.304])"
   ]
  },
  {
   "cell_type": "code",
   "execution_count": null,
   "metadata": {},
   "outputs": [],
   "source": [
    "ext_df = pd.DataFrame('obj_name':obj_names,\n",
    "                     'A_I':extinctions)\n",
    "ext_df.to_csv(f'{data_dir}slacs_Iband_extinctions.csv', index=False)"
   ]
  }
 ],
 "metadata": {
  "kernelspec": {
   "display_name": "Python 3",
   "language": "python",
   "name": "python3"
  },
  "language_info": {
   "codemirror_mode": {
    "name": "ipython",
    "version": 3
   },
   "file_extension": ".py",
   "mimetype": "text/x-python",
   "name": "python",
   "nbconvert_exporter": "python",
   "pygments_lexer": "ipython3",
   "version": "3.7.0"
  }
 },
 "nbformat": 4,
 "nbformat_minor": 2
}
