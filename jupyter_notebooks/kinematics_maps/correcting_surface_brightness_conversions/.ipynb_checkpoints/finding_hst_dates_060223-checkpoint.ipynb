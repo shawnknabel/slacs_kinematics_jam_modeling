{
 "cells": [
  {
   "cell_type": "markdown",
   "metadata": {},
   "source": [
    "# 06/02/23 - This notebook is copied from home/shawnknabel/Documents/slacs_kinematics/jupyter_notebooks/kinematics_maps/correcting_surface_brightness_conversions/correcting_surface_brightness_conversions_J1204_060223.ipynb\n",
    "# To correct the photometry of all of the objects... I need HST observation dates"
   ]
  },
  {
   "cell_type": "code",
   "execution_count": 1,
   "metadata": {},
   "outputs": [],
   "source": [
    "################################################################\n",
    "\n",
    "# import general libraries and modules\n",
    "import numpy as np\n",
    "np.set_printoptions(threshold=10000)\n",
    "import matplotlib.pyplot as plt\n",
    "import matplotlib.colors as colors\n",
    "plt.rcParams[\"figure.figsize\"] = (8, 6)\n",
    "plt.rcParams.update({'font.size': 14})\n",
    "import pandas as pd\n",
    "import warnings\n",
    "warnings.filterwarnings( \"ignore\", module = \"matplotlib\\..*\" )\n",
    "warnings.filterwarnings( \"ignore\", module = \"plotbin\\..*\" )\n",
    "from os import path\n",
    "import glob\n",
    "#import Image from PIL\n",
    "from PIL import Image\n",
    "import pickle\n",
    "\n",
    "# astronomy/scipy\n",
    "from astropy.io import fits\n",
    "from astropy.wcs import WCS\n",
    "from scipy.ndimage import rotate\n",
    "from scipy.ndimage import map_coordinates\n",
    "from scipy.optimize import least_squares as lsq\n",
    "from astropy.convolution import convolve, convolve_fft, Gaussian2DKernel\n",
    "#from astropy.cosmology import Planck15 as cosmo  # Originally I did Planck 2018, but it seems this one isn't in the version of astropy we have on here and I'm not \n",
    "from astropy.cosmology import FlatLambdaCDM\n",
    "cosmo = FlatLambdaCDM(H0=70, Om0=0.3, Tcmb0=2.725)\n",
    "from scipy.interpolate import interp1d\n",
    "from scipy.optimize import fsolve\n",
    "\n",
    "\n",
    "# my functions\n",
    "import sys\n",
    "sys.path.append(\"/home/shawnknabel/Documents/slacs_kinematics/my_python_packages\")\n",
    "from slacs_mge_jampy import crop_center_image\n",
    "from slacs_mge_jampy import import_center_crop\n",
    "from slacs_mge_jampy import convert_mge_model_outputs\n",
    "from slacs_mge_jampy import plot_contours_321\n",
    "from slacs_mge_jampy import plot_contours_531\n",
    "from slacs_mge_jampy import load_2d_kinematics\n",
    "from slacs_mge_jampy import rotate_bins\n",
    "from slacs_mge_jampy import get_bin_centers\n",
    "\n",
    "################################################################\n",
    "# some needed information\n",
    "kcwi_scale = 0.1457  # arcsec/pixel\n",
    "hst_scale = 0.050 # ACS/WFC\n"
   ]
  },
  {
   "cell_type": "code",
   "execution_count": 2,
   "metadata": {},
   "outputs": [
    {
     "name": "stdout",
     "output_type": "stream",
     "text": [
      "Outputs will be in /data/raw_data/KECK_KCWI_SLACS_kinematics_shawn/kinematics/2023-02-28_2/\n",
      "\n"
     ]
    }
   ],
   "source": [
    "# specify object directory and name\n",
    "\n",
    "#################################################\n",
    "# date and number of initial kinematics run e.g. 2023-02-28_2\n",
    "date_of_kin = '2023-02-28_2'\n",
    "\n",
    "###################################################################################################################################\n",
    "\n",
    "#------------------------------------------------------------------------------\n",
    "# Directories and files\n",
    "\n",
    "# data directory\n",
    "data_dir = '/data/raw_data/KECK_KCWI_SLACS_kinematics_shawn/'\n",
    "hst_dir = '/data/raw_data/HST_SLACS_ACS/kcwi_kinematics_lenses/'\n",
    "tables_dir = f'{data_dir}tables/'\n",
    "mosaics_dir = f'{data_dir}mosaics/'\n",
    "kinematics_full_dir = f'{data_dir}kinematics/'\n",
    "kinematics_dir =f'{kinematics_full_dir}{date_of_kin}/'\n",
    "print(f'Outputs will be in {kinematics_dir}')\n",
    "print()\n",
    "\n",
    "# target SN for voronoi binning\n",
    "vorbin_SN_targets = np.array([10, 15, 20])\n",
    "\n",
    "#################################################\n",
    "# objects\n",
    "obj_names = ['SDSSJ0029-0055',\n",
    "             'SDSSJ0037-0942',\n",
    "             'SDSSJ0330-0020',\n",
    "             'SDSSJ1112+0826',\n",
    "             'SDSSJ1204+0358',\n",
    "             'SDSSJ1250+0523',\n",
    "             'SDSSJ1306+0600',\n",
    "             'SDSSJ1402+6321',\n",
    "             'SDSSJ1531-0105',\n",
    "             'SDSSJ1538+5817',\n",
    "             'SDSSJ1621+3931',\n",
    "             'SDSSJ1627-0053',\n",
    "             'SDSSJ1630+4520',\n",
    "             'SDSSJ2303+1422'\n",
    "            ]\n",
    "\n",
    "#################################################\n"
   ]
  },
  {
   "cell_type": "code",
   "execution_count": 3,
   "metadata": {},
   "outputs": [],
   "source": [
    "# class to collect and save all the attributes I need for jampy\n",
    "class jampy_details:\n",
    "    \n",
    "    def __init__(details, surf_density, mge_sigma, q, kcwi_sigmapst, Vrms_bin, dVrms_bin, V_bin, dV_bin, xbin_phot, ybin_phot, reff):\n",
    "        details.surf_density=surf_density \n",
    "        details.mge_sigma=mge_sigma\n",
    "        details.q=q \n",
    "        details.kcwi_sigmapst=kcwi_sigmapst \n",
    "        details.Vrms_bin=Vrms_bin \n",
    "        details.dVrms_bind=dVrms_bin\n",
    "        details.V_bin=V_bin \n",
    "        details.dV_bin=dV_bin \n",
    "        details.xbin_phot=xbin_phot \n",
    "        details.ybin_phot=ybin_phot\n",
    "        details.reff=reff\n",
    "        \n",
    "def get_bins (file_dir, obj_name):\n",
    "    \n",
    "    scale=0.1457\n",
    "    \n",
    "    #######################################\n",
    "    ## import voronoi binning data\n",
    "    voronoi_binning_data = fits.getdata(file_dir +'voronoi_binning_' + obj_name + '_data.fits')\n",
    "    vorbin_pixels = np.genfromtxt(f'{file_dir}voronoi_2d_binning_{obj_name}_output.txt',\n",
    "                     delimiter='')\n",
    "    # sort the voronoi bin pixel data by bin\n",
    "    vorbin_pixels = vorbin_pixels[vorbin_pixels[:,2].argsort()]\n",
    "    \n",
    "    ########################################\n",
    "    # find bin centers\n",
    "    xbin, ybin = get_bin_centers (vorbin_pixels, len(voronoi_binning_data))\n",
    "    \n",
    "     #######################################\n",
    "    # Changes - 11/30/22\n",
    "    #######################################\n",
    "\n",
    "    # convert to arcsec # kcwi!\n",
    "    xbin_arcsec = xbin * scale\n",
    "    ybin_arcsec = ybin * scale\n",
    "\n",
    "    return xbin_arcsec, ybin_arcsec"
   ]
  },
  {
   "cell_type": "markdown",
   "metadata": {},
   "source": [
    "# Load images to get hst_headers"
   ]
  },
  {
   "cell_type": "markdown",
   "metadata": {},
   "source": [
    "# J1306 is funky... below is from my notebook home/shawnknabel/Documents/slacs_kinematics/jupyter_notebooks/kinematics_maps/plot_kinematics_contours/plot_kinematics_contours_V_VD_bspline_models_margin_gnog_J1306_050923.ipynb\n",
    "### From HLA, they are each 400 s exposure time.\n",
    "### The first image is from 2007-03-23 PI Adam Bolton and is on the HLA as the combined image from four exposures.\n",
    "### Second image is from 2008-02-08 PI Leon Koopmans and is on HLA as 4 different exposures. Matt Auger combined these for me.\n",
    "### I am going to add the exposure times and date to the headers.\n",
    "https://hla.stsci.edu/hlaview.html#Inventory|filterText%3D%24filterTypes%3D|query_string=SDSSJ1306%2B0600&posfilename=&poslocalname=&posfilecount=&listdelimiter=whitespace&listformat=degrees&RA=196.556870&Dec=6.006140&Radius=0.001500&inst-control=all&inst=ACS&inst=ACSGrism&inst=WFC3&inst=WFPC2&inst=NICMOS&inst=NICGRISM&inst=COS&inst=WFPC2-PC&inst=STIS&inst=FOS&inst=GHRS&imagetype=best&prop_id=&spectral_elt=&proprietary=both&preview=1&output_size=256&cutout_size=12.8|ra=&dec=&sr=&level=&image=&inst=ACS%2CACSGrism%2CWFC3%2CWFPC2%2CNICMOS%2CNICGRISM%2CCOS%2CWFPC2-PC%2CSTIS%2CFOS%2CGHRS&ds="
   ]
  },
  {
   "cell_type": "markdown",
   "metadata": {},
   "source": [
    "header1['EXP_TIME'] = 1600 # s\n",
    "header1['date'] = '2007-03-23' \n",
    "header1['PI'] = 'Adam Bolton' \n",
    "header1['camera'] = 'WFPC2 - WF3'\n",
    "header1['HLA'] = 'combined 4'\n",
    "\n",
    "header2['EXP_TIME'] = 1600 # s\n",
    "header2['date'] = '2008-02-08' \n",
    "header2['PI'] = 'Leon Koopmans'\n",
    "header2['camera'] = 'WFPC2 - WF3'\n",
    "header2['HLA'] = '4 exp, combined by M Auger'"
   ]
  },
  {
   "cell_type": "code",
   "execution_count": 45,
   "metadata": {},
   "outputs": [],
   "source": [
    "#obj_names_index=\n",
    "#obj_name = obj_names[obj_names_index]\n",
    "\n",
    "obs_dates = np.ones_like(obj_names, dtype='<U32')\n",
    "exp_times = np.ones_like(obj_names)\n",
    "tot_times = np.ones_like(obj_names)\n",
    "filters = np.ones_like(obj_names, dtype='<U32')\n",
    "\n",
    "for i, obj_name in enumerate(obj_names):\n",
    "    \n",
    "    obj_names_index=i\n",
    "\n",
    "    obj_abbr = obj_name[4:9] # e.g. J0029\n",
    "    \n",
    "    #print(obj_abbr)\n",
    "\n",
    "        #------------------------------------------------------------------------------\n",
    "    # object-specific directories\n",
    "\n",
    "    mos_dir = f'{mosaics_dir}{obj_name}/' \n",
    "    kin_dir = f'{kinematics_dir}{obj_name}/'\n",
    "    \n",
    "    if obj_abbr=='J1306':\n",
    "        obs_dates[i] = '2007-03-23 and 2008-02-08' \n",
    "        exp_times[i] = 3200.\n",
    "        tot_times[i] = 3200.\n",
    "        filters[i] = 'F606 WFPC2 - WF3'\n",
    "        \n",
    "    else:\n",
    "        hst_full_img, hst_5arc_img, hst_3arc_img, bspl_full_img, bspl_5arc_img, bspl_3arc_img, hst_header, \\\n",
    "            central_pix_x, central_pix_y, exp_time, bspl_PA = import_center_crop(data_dir, hst_dir, obj_name, obj_names_index, obj_abbr, \n",
    "                                                              data_source='HST', plot=False)\n",
    "\n",
    "        obs_dates[i] = hst_header['DATE-OBS']\n",
    "        exp_times[i] = hst_header['EXPTIME']\n",
    "        tot_times[i] = hst_header['TOT_TIME']\n",
    "        filters[i] = hst_header['FILTER2']"
   ]
  },
  {
   "cell_type": "code",
   "execution_count": 46,
   "metadata": {},
   "outputs": [
    {
     "data": {
      "text/plain": [
       "array(['2006-09-12', '2004-09-18', '2006-09-16', '2006-02-28',\n",
       "       '2005-06-14', '2005-03-12', '2007-03-23 and 2008-02-08',\n",
       "       '2004-08-04', '2006-03-15', '2006-04-09', '2005-07-28',\n",
       "       '2005-03-20', '2004-10-04', '2004-11-23'], dtype='<U32')"
      ]
     },
     "execution_count": 46,
     "metadata": {},
     "output_type": "execute_result"
    }
   ],
   "source": [
    "obs_dates"
   ]
  },
  {
   "cell_type": "code",
   "execution_count": 47,
   "metadata": {},
   "outputs": [
    {
     "data": {
      "text/plain": [
       "array(['522.0', '420.0', '522.0', '420.0', '420.0', '420.0', '3200.0',\n",
       "       '420.0', '420.0', '420.0', '420.0', '420.0', '420.0', '420.0'],\n",
       "      dtype='<U14')"
      ]
     },
     "execution_count": 47,
     "metadata": {},
     "output_type": "execute_result"
    }
   ],
   "source": [
    "exp_times"
   ]
  },
  {
   "cell_type": "code",
   "execution_count": 48,
   "metadata": {},
   "outputs": [
    {
     "data": {
      "text/plain": [
       "array(['2088.0', '420.0', '2088.0', '420.0', '420.0', '420.0', '3200.0',\n",
       "       '420.0', '420.0', '420.0', '420.0', '420.0', '420.0', '420.0'],\n",
       "      dtype='<U14')"
      ]
     },
     "execution_count": 48,
     "metadata": {},
     "output_type": "execute_result"
    }
   ],
   "source": [
    "tot_times"
   ]
  },
  {
   "cell_type": "code",
   "execution_count": 49,
   "metadata": {},
   "outputs": [
    {
     "data": {
      "text/plain": [
       "array(['F814W', 'F435W', 'F814W', 'F814W', 'F435W', 'F435W',\n",
       "       'F606 WFPC2 - WF3', 'F435W', 'F814W', 'F814W', 'F435W', 'F435W',\n",
       "       'F435W', 'F435W'], dtype='<U32')"
      ]
     },
     "execution_count": 49,
     "metadata": {},
     "output_type": "execute_result"
    }
   ],
   "source": [
    "filters"
   ]
  },
  {
   "cell_type": "code",
   "execution_count": 51,
   "metadata": {},
   "outputs": [],
   "source": [
    "hst_photometry_details = pd.DataFrame({'obj_name':obj_names,\n",
    "                                              'obs_date':obs_dates,\n",
    "                                               'filter':filters,\n",
    "                                              'exp_time':exp_times,\n",
    "                                              'tot_time':tot_times})"
   ]
  },
  {
   "cell_type": "code",
   "execution_count": 44,
   "metadata": {},
   "outputs": [
    {
     "data": {
      "text/html": [
       "<div>\n",
       "<style scoped>\n",
       "    .dataframe tbody tr th:only-of-type {\n",
       "        vertical-align: middle;\n",
       "    }\n",
       "\n",
       "    .dataframe tbody tr th {\n",
       "        vertical-align: top;\n",
       "    }\n",
       "\n",
       "    .dataframe thead th {\n",
       "        text-align: right;\n",
       "    }\n",
       "</style>\n",
       "<table border=\"1\" class=\"dataframe\">\n",
       "  <thead>\n",
       "    <tr style=\"text-align: right;\">\n",
       "      <th></th>\n",
       "      <th>obj_names</th>\n",
       "      <th>obs_date</th>\n",
       "      <th>filter</th>\n",
       "      <th>exp_time</th>\n",
       "      <th>tot_time</th>\n",
       "    </tr>\n",
       "  </thead>\n",
       "  <tbody>\n",
       "    <tr>\n",
       "      <th>0</th>\n",
       "      <td>SDSSJ0029-0055</td>\n",
       "      <td>2006-09-12</td>\n",
       "      <td>F814W</td>\n",
       "      <td>522.0</td>\n",
       "      <td>2088.0</td>\n",
       "    </tr>\n",
       "    <tr>\n",
       "      <th>1</th>\n",
       "      <td>SDSSJ0037-0942</td>\n",
       "      <td>2004-09-18</td>\n",
       "      <td>F435W</td>\n",
       "      <td>420.0</td>\n",
       "      <td>420.0</td>\n",
       "    </tr>\n",
       "    <tr>\n",
       "      <th>2</th>\n",
       "      <td>SDSSJ0330-0020</td>\n",
       "      <td>2006-09-16</td>\n",
       "      <td>F814W</td>\n",
       "      <td>522.0</td>\n",
       "      <td>2088.0</td>\n",
       "    </tr>\n",
       "    <tr>\n",
       "      <th>3</th>\n",
       "      <td>SDSSJ1112+0826</td>\n",
       "      <td>2006-02-28</td>\n",
       "      <td>F814W</td>\n",
       "      <td>420.0</td>\n",
       "      <td>420.0</td>\n",
       "    </tr>\n",
       "    <tr>\n",
       "      <th>4</th>\n",
       "      <td>SDSSJ1204+0358</td>\n",
       "      <td>2005-06-14</td>\n",
       "      <td>F435W</td>\n",
       "      <td>420.0</td>\n",
       "      <td>420.0</td>\n",
       "    </tr>\n",
       "    <tr>\n",
       "      <th>5</th>\n",
       "      <td>SDSSJ1250+0523</td>\n",
       "      <td>2005-03-12</td>\n",
       "      <td>F435W</td>\n",
       "      <td>420.0</td>\n",
       "      <td>420.0</td>\n",
       "    </tr>\n",
       "    <tr>\n",
       "      <th>6</th>\n",
       "      <td>SDSSJ1306+0600</td>\n",
       "      <td>2007-03-23 and 2008-02-08</td>\n",
       "      <td>F606 WFPC2 - WF3</td>\n",
       "      <td>3200</td>\n",
       "      <td>3200</td>\n",
       "    </tr>\n",
       "    <tr>\n",
       "      <th>7</th>\n",
       "      <td>SDSSJ1402+6321</td>\n",
       "      <td>2004-08-04</td>\n",
       "      <td>F435W</td>\n",
       "      <td>420.0</td>\n",
       "      <td>420.0</td>\n",
       "    </tr>\n",
       "    <tr>\n",
       "      <th>8</th>\n",
       "      <td>SDSSJ1531-0105</td>\n",
       "      <td>2006-03-15</td>\n",
       "      <td>F814W</td>\n",
       "      <td>420.0</td>\n",
       "      <td>420.0</td>\n",
       "    </tr>\n",
       "    <tr>\n",
       "      <th>9</th>\n",
       "      <td>SDSSJ1538+5817</td>\n",
       "      <td>2006-04-09</td>\n",
       "      <td>F814W</td>\n",
       "      <td>420.0</td>\n",
       "      <td>420.0</td>\n",
       "    </tr>\n",
       "    <tr>\n",
       "      <th>10</th>\n",
       "      <td>SDSSJ1621+3931</td>\n",
       "      <td>2005-07-28</td>\n",
       "      <td>F435W</td>\n",
       "      <td>420.0</td>\n",
       "      <td>420.0</td>\n",
       "    </tr>\n",
       "    <tr>\n",
       "      <th>11</th>\n",
       "      <td>SDSSJ1627-0053</td>\n",
       "      <td>2005-03-20</td>\n",
       "      <td>F435W</td>\n",
       "      <td>420.0</td>\n",
       "      <td>420.0</td>\n",
       "    </tr>\n",
       "    <tr>\n",
       "      <th>12</th>\n",
       "      <td>SDSSJ1630+4520</td>\n",
       "      <td>2004-10-04</td>\n",
       "      <td>F435W</td>\n",
       "      <td>420.0</td>\n",
       "      <td>420.0</td>\n",
       "    </tr>\n",
       "    <tr>\n",
       "      <th>13</th>\n",
       "      <td>SDSSJ2303+1422</td>\n",
       "      <td>2004-11-23</td>\n",
       "      <td>F435W</td>\n",
       "      <td>420.0</td>\n",
       "      <td>420.0</td>\n",
       "    </tr>\n",
       "  </tbody>\n",
       "</table>\n",
       "</div>"
      ],
      "text/plain": [
       "         obj_names                   obs_date            filter exp_time  \\\n",
       "0   SDSSJ0029-0055                 2006-09-12             F814W    522.0   \n",
       "1   SDSSJ0037-0942                 2004-09-18             F435W    420.0   \n",
       "2   SDSSJ0330-0020                 2006-09-16             F814W    522.0   \n",
       "3   SDSSJ1112+0826                 2006-02-28             F814W    420.0   \n",
       "4   SDSSJ1204+0358                 2005-06-14             F435W    420.0   \n",
       "5   SDSSJ1250+0523                 2005-03-12             F435W    420.0   \n",
       "6   SDSSJ1306+0600  2007-03-23 and 2008-02-08  F606 WFPC2 - WF3     3200   \n",
       "7   SDSSJ1402+6321                 2004-08-04             F435W    420.0   \n",
       "8   SDSSJ1531-0105                 2006-03-15             F814W    420.0   \n",
       "9   SDSSJ1538+5817                 2006-04-09             F814W    420.0   \n",
       "10  SDSSJ1621+3931                 2005-07-28             F435W    420.0   \n",
       "11  SDSSJ1627-0053                 2005-03-20             F435W    420.0   \n",
       "12  SDSSJ1630+4520                 2004-10-04             F435W    420.0   \n",
       "13  SDSSJ2303+1422                 2004-11-23             F435W    420.0   \n",
       "\n",
       "   tot_time  \n",
       "0    2088.0  \n",
       "1     420.0  \n",
       "2    2088.0  \n",
       "3     420.0  \n",
       "4     420.0  \n",
       "5     420.0  \n",
       "6      3200  \n",
       "7     420.0  \n",
       "8     420.0  \n",
       "9     420.0  \n",
       "10    420.0  \n",
       "11    420.0  \n",
       "12    420.0  \n",
       "13    420.0  "
      ]
     },
     "execution_count": 44,
     "metadata": {},
     "output_type": "execute_result"
    }
   ],
   "source": [
    "hst_photometry_details"
   ]
  },
  {
   "cell_type": "code",
   "execution_count": 52,
   "metadata": {},
   "outputs": [],
   "source": [
    "# save to csv\n",
    "hst_photometry_details.to_csv(f'{tables_dir}hst_photometry_details.csv', index=False)"
   ]
  },
  {
   "cell_type": "code",
   "execution_count": null,
   "metadata": {},
   "outputs": [],
   "source": []
  },
  {
   "cell_type": "code",
   "execution_count": null,
   "metadata": {},
   "outputs": [],
   "source": []
  },
  {
   "cell_type": "code",
   "execution_count": null,
   "metadata": {},
   "outputs": [],
   "source": []
  },
  {
   "cell_type": "code",
   "execution_count": null,
   "metadata": {},
   "outputs": [],
   "source": []
  }
 ],
 "metadata": {
  "kernelspec": {
   "display_name": "Python 3",
   "language": "python",
   "name": "python3"
  },
  "language_info": {
   "codemirror_mode": {
    "name": "ipython",
    "version": 3
   },
   "file_extension": ".py",
   "mimetype": "text/x-python",
   "name": "python",
   "nbconvert_exporter": "python",
   "pygments_lexer": "ipython3",
   "version": "3.7.0"
  }
 },
 "nbformat": 4,
 "nbformat_minor": 2
}
