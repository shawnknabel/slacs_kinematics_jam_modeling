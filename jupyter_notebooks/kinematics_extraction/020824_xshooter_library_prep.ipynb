{
 "cells": [
  {
   "cell_type": "markdown",
   "id": "a163afb7-15bd-4ef8-adb5-c5635b8ab30c",
   "metadata": {
    "tags": []
   },
   "source": [
    "# 02/08/24 - Shawn\n",
    "## This notebook creates a stellar population model from Xshooter templates for use with ppxf's sps_util.py"
   ]
  },
  {
   "cell_type": "markdown",
   "id": "a0d7f0e3-d128-4027-b6c4-21e571e2bf2f",
   "metadata": {},
   "source": [
    "## Libraries"
   ]
  },
  {
   "cell_type": "code",
   "execution_count": 77,
   "id": "7843feee-6974-4767-858b-64563de198e2",
   "metadata": {
    "tags": []
   },
   "outputs": [],
   "source": [
    "from astropy.io import fits\n",
    "import numpy as np\n",
    "from glob import glob\n",
    "import matplotlib.pyplot as plt"
   ]
  },
  {
   "cell_type": "markdown",
   "id": "b3b89d21-9a0e-4dc5-a832-7b6fe4c23477",
   "metadata": {
    "tags": []
   },
   "source": [
    "## Directories"
   ]
  },
  {
   "cell_type": "code",
   "execution_count": 4,
   "id": "0eacf7db-3dd7-4c35-a8af-709c53d6e09b",
   "metadata": {
    "tags": []
   },
   "outputs": [],
   "source": [
    "# data directory\n",
    "data_dir = '/data/raw_data/KECK_KCWI_SLACS_kinematics_shawn/'\n",
    "lib_dir = f'{data_dir}xshooter_lib/all_dr2_fits/'"
   ]
  },
  {
   "cell_type": "markdown",
   "id": "4222f04f-a7d3-4995-8e25-3af6b2663289",
   "metadata": {},
   "source": [
    "# View the data"
   ]
  },
  {
   "cell_type": "markdown",
   "id": "5f6e18b8-fbdf-44a3-93eb-3cd4f06769cf",
   "metadata": {},
   "source": [
    "## See what I've already made (which might not be right)"
   ]
  },
  {
   "cell_type": "code",
   "execution_count": 79,
   "id": "98e46ea0-7f23-4bf4-a730-3cce45d7f717",
   "metadata": {
    "tags": []
   },
   "outputs": [],
   "source": [
    "# load the fits file, see what it looks like\n",
    "\n",
    "filepath = f'{lib_dir}templates_stellar_library_test.fits'\n",
    "\n",
    "with open(filepath, 'rb') as file:\n",
    "    hdul = fits.open(file)\n",
    "    data = hdul[0].data"
   ]
  },
  {
   "cell_type": "code",
   "execution_count": 80,
   "id": "52faf9f6-d999-42e2-b4bc-fdb233254247",
   "metadata": {
    "tags": []
   },
   "outputs": [
    {
     "data": {
      "text/plain": [
       "(11191, 628)"
      ]
     },
     "execution_count": 80,
     "metadata": {},
     "output_type": "execute_result"
    }
   ],
   "source": [
    "data.shape"
   ]
  },
  {
   "cell_type": "code",
   "execution_count": 81,
   "id": "e41c9e62-c977-48f3-9346-8dac9c188828",
   "metadata": {
    "tags": []
   },
   "outputs": [
    {
     "data": {
      "text/plain": [
       "[<matplotlib.lines.Line2D at 0x7feabd1f9050>]"
      ]
     },
     "execution_count": 81,
     "metadata": {},
     "output_type": "execute_result"
    },
    {
     "data": {
      "image/png": "[encoded data removed]",
      "text/plain": [
       "<Figure size 640x480 with 1 Axes>"
      ]
     },
     "metadata": {},
     "output_type": "display_data"
    }
   ],
   "source": [
    "# It looks like it's an array of 628 stars with 11191 datapoints\n",
    "# Look at one\n",
    "\n",
    "plt.plot(data[:,0])"
   ]
  },
  {
   "cell_type": "markdown",
   "id": "908978df-55ca-49d1-9d80-7f7fae8a7a9a",
   "metadata": {},
   "source": [
    "## Open one of the individual files"
   ]
  },
  {
   "cell_type": "code",
   "execution_count": 82,
   "id": "efd3201c-5d9d-4295-a76a-a9ab8d8c23f7",
   "metadata": {
    "tags": []
   },
   "outputs": [
    {
     "name": "stdout",
     "output_type": "stream",
     "text": [
      "Filename: /data/raw_data/KECK_KCWI_SLACS_kinematics_shawn/xshooter_lib/all_dr2_fits/xsl_spectrum_X0002_uvb.fits\n",
      "No.    Name      Ver    Type      Cards   Dimensions   Format\n",
      "  0  PRIMARY       1 PrimaryHDU      64   ()      \n",
      "  1  SPECTRUM      1 BinTableHDU     43   17140R x 3C   [E, E, E]   \n",
      "None\n"
     ]
    }
   ],
   "source": [
    "filepath = f'{lib_dir}xsl_spectrum_X0002_uvb.fits'\n",
    "\n",
    "with open(filepath, 'rb') as file:\n",
    "    hdul = fits.open(file)\n",
    "    print(hdul.info())\n",
    "    hdu0 = hdul[0]\n",
    "    hdu1 = hdul[1]\n",
    "    hdr0 = hdu0.header\n",
    "    hdr1 = hdu1.header\n",
    "    data = hdu1.data"
   ]
  },
  {
   "cell_type": "code",
   "execution_count": 83,
   "id": "733f2b6f-9cfc-4cf6-b217-f68fa36b258d",
   "metadata": {},
   "outputs": [],
   "source": [
    "template_wavelengths = data['wave']*10"
   ]
  },
  {
   "cell_type": "code",
   "execution_count": 84,
   "id": "88d1c2c3-15e0-4f30-991c-bafb5f8faf5e",
   "metadata": {
    "tags": []
   },
   "outputs": [
    {
     "data": {
      "text/plain": [
       "array([-1.1070487e-11, -9.6795722e-12, -1.4454830e-11, ...,\n",
       "        2.4743226e-15,  2.4480142e-15,  2.3374715e-15], dtype='>f4')"
      ]
     },
     "execution_count": 84,
     "metadata": {},
     "output_type": "execute_result"
    }
   ],
   "source": [
    "data['flux']"
   ]
  },
  {
   "cell_type": "code",
   "execution_count": 85,
   "id": "334244b0-9258-472d-98a6-2f022bee5386",
   "metadata": {
    "tags": []
   },
   "outputs": [
    {
     "data": {
      "text/plain": [
       "0.01499275053767608"
      ]
     },
     "execution_count": 85,
     "metadata": {},
     "output_type": "execute_result"
    }
   ],
   "source": [
    "hdr0['spec_bin']"
   ]
  },
  {
   "cell_type": "markdown",
   "id": "bf312268-7f4e-4f13-a7b2-0d0b569197d7",
   "metadata": {
    "tags": []
   },
   "source": [
    "## We just need the wavelengths and spectrum from each of the uvb files"
   ]
  },
  {
   "cell_type": "code",
   "execution_count": 86,
   "id": "2e254a57-0235-4b69-ae59-3973d5ee5510",
   "metadata": {
    "tags": []
   },
   "outputs": [
    {
     "data": {
      "text/plain": [
       "(628,)"
      ]
     },
     "execution_count": 86,
     "metadata": {},
     "output_type": "execute_result"
    }
   ],
   "source": [
    "# There should be 628 of them\n",
    "\n",
    "filepaths = np.array(glob(f'{lib_dir}*uvb.fits'))\n",
    "filepaths.shape"
   ]
  },
  {
   "cell_type": "code",
   "execution_count": 87,
   "id": "2722cb20-a1d4-4a0f-975a-734fba079ca2",
   "metadata": {
    "tags": []
   },
   "outputs": [],
   "source": [
    "# create an array of shape (# wavelengths, # of tempaltes)\n",
    "templates = np.zeros((template_wavelengths.shape[0], filepaths.shape[0]))"
   ]
  },
  {
   "cell_type": "code",
   "execution_count": 88,
   "id": "5da09a6a-a0e4-4df1-b867-20f05ba49ec0",
   "metadata": {
    "tags": []
   },
   "outputs": [],
   "source": [
    "# good, now loop through them and create our array\n",
    "\n",
    "for i, filepath in enumerate(filepaths):\n",
    "    \n",
    "    # open the fits file\n",
    "    with open(filepath, 'rb') as file:\n",
    "        hdul = fits.open(file)\n",
    "        data = hdul[1].data\n",
    "    \n",
    "    # take the wavelengths and the flux\n",
    "    wavelengths = data['wave']\n",
    "    wavelengths *= 10 # convert to A from nm\n",
    "    flux = data['flux']\n",
    "    \n",
    "    # check that wavelengths are the same as template_wavelengths\n",
    "    assert wavelengths.shape[0] == template_wavelengths.shape[0]\n",
    "    \n",
    "    # take the flux and add it to the templates array\n",
    "    templates[:, i] = flux"
   ]
  },
  {
   "cell_type": "code",
   "execution_count": 89,
   "id": "01d5f72c-65c2-47b6-9448-aed9fe2d9c24",
   "metadata": {
    "tags": []
   },
   "outputs": [
    {
     "data": {
      "text/plain": [
       "(17140, 628)"
      ]
     },
     "execution_count": 89,
     "metadata": {},
     "output_type": "execute_result"
    }
   ],
   "source": [
    "# check the shape of templates\n",
    "templates.shape"
   ]
  },
  {
   "cell_type": "code",
   "execution_count": 109,
   "id": "ef643465-510d-48a9-8a57-8f944edea718",
   "metadata": {
    "tags": []
   },
   "outputs": [],
   "source": [
    "# cool, now we need to add a dimension that is lenght # metals (which are just going to be unused)\n",
    "templates_array = np.expand_dims(templates, axis=2)"
   ]
  },
  {
   "cell_type": "markdown",
   "id": "89db7ae1-e542-4c19-95e0-541326bba0e4",
   "metadata": {},
   "source": [
    "## Add the other stuff"
   ]
  },
  {
   "cell_type": "code",
   "execution_count": 110,
   "id": "5140e02f-b1c7-43df-a896-77fb8723a11e",
   "metadata": {
    "tags": []
   },
   "outputs": [],
   "source": [
    "#FWHM_tem = 0.43  # Xshooter spectra have a constant resolution FWHM of\n",
    "# 1/9200*3950 = 0.43\n",
    "\n",
    "fwhm = np.full_like(template_wavelengths, 0.43)"
   ]
  },
  {
   "cell_type": "code",
   "execution_count": 111,
   "id": "63f2d96f-b163-4b99-84b8-214ef038ac21",
   "metadata": {
    "tags": []
   },
   "outputs": [
    {
     "data": {
      "text/plain": [
       "(628,)"
      ]
     },
     "execution_count": 111,
     "metadata": {},
     "output_type": "execute_result"
    }
   ],
   "source": [
    "# ages are just the number of templates\n",
    "ages = np.zeros(templates.shape[1])\n",
    "ages.shape"
   ]
  },
  {
   "cell_type": "code",
   "execution_count": 112,
   "id": "d3eb8bca-9760-4ff6-8d8c-bf83f13d8274",
   "metadata": {
    "tags": []
   },
   "outputs": [],
   "source": [
    "# metals is length 1 because I don't use it\n",
    "metals = np.array([0])"
   ]
  },
  {
   "cell_type": "code",
   "execution_count": 113,
   "id": "c9ad4de3-3c4d-4e26-b9f3-48437ab3e5d1",
   "metadata": {
    "tags": []
   },
   "outputs": [],
   "source": [
    "# masses is shape (nages, nmetals)\n",
    "masses = np.zeros((ages.size, metals.size))"
   ]
  },
  {
   "cell_type": "markdown",
   "id": "91e690d8-921d-4860-bdfe-80c89ff86c00",
   "metadata": {},
   "source": [
    "## Save all these to a .npz file"
   ]
  },
  {
   "cell_type": "code",
   "execution_count": 5,
   "id": "5b1a8bbc-c96a-4c41-8381-21a96e76d63b",
   "metadata": {
    "tags": []
   },
   "outputs": [],
   "source": [
    "# the name is basically abritrary for me, but it matches how the emiles library is loaded in\n",
    "new_library_path = f'{lib_dir}spectra_xshooter_9.0.npz'"
   ]
  },
  {
   "cell_type": "code",
   "execution_count": 115,
   "id": "e9f8cf7e-4f33-4640-bdfb-75e11f650393",
   "metadata": {
    "tags": []
   },
   "outputs": [],
   "source": [
    "np.savez_compressed(\n",
    "                    new_library_path,\n",
    "                    templates=templates_array,\n",
    "                    lam=template_wavelengths,\n",
    "                    fwhm=fwhm,\n",
    "                    ages=ages,\n",
    "                    metals=metals,\n",
    "                    masses=masses\n",
    "                   )"
   ]
  },
  {
   "cell_type": "markdown",
   "id": "4ed1696a-5120-4afc-ba45-13e2d020e226",
   "metadata": {},
   "source": [
    "# See if we can load it with sps_util"
   ]
  },
  {
   "cell_type": "code",
   "execution_count": 1,
   "id": "10b1ae9c-a469-4412-b11b-a5690e93d0bd",
   "metadata": {
    "tags": []
   },
   "outputs": [],
   "source": [
    "import ppxf.ppxf_util as ppxf_util\n",
    "from os import path\n",
    "ppxf_dir = path.dirname(path.realpath(ppxf_util.__file__))\n",
    "import ppxf.sps_util as sps_util"
   ]
  },
  {
   "cell_type": "code",
   "execution_count": 2,
   "id": "0ca31317-ff4a-45fe-9a9b-49e2f55df7c9",
   "metadata": {
    "tags": []
   },
   "outputs": [],
   "source": [
    "# set up to load in the sps\n",
    "\n",
    "sps_name = 'xshooter'\n",
    "velscale = 60\n",
    "rest_FWHM = 0.5\n",
    "wave_range = [3000, 4000]"
   ]
  },
  {
   "cell_type": "code",
   "execution_count": 6,
   "id": "9877348b-36a9-417b-abe8-754728fd2e15",
   "metadata": {
    "tags": []
   },
   "outputs": [],
   "source": [
    "# bring in the templates from ppxf/sps_models/\n",
    "basename = f\"spectra_{sps_name}_9.0.npz\"\n",
    "filename = new_library_path #path.join(ppxf_dir, 'sps_models', basename)\n",
    "\n",
    "# template library will be sampled at data resolution times the velscale_ratio in the given wavelength range\n",
    "sps = sps_util.sps_lib(filename, \n",
    "                       velscale, # resolution\n",
    "                       rest_FWHM, # data FWHM in restframe\n",
    "                       wave_range=wave_range) # range for templates\n",
    "loaded_templates= sps.templates"
   ]
  },
  {
   "cell_type": "code",
   "execution_count": 9,
   "id": "ed890559-b581-4cec-8a6c-7f51ce6c444f",
   "metadata": {
    "tags": []
   },
   "outputs": [],
   "source": [
    "# keep templates and wavelength range of templates\n",
    "loaded_templates = loaded_templates.reshape(loaded_templates.shape[0], -1) \n",
    "templates_wave = sps.lam_temp"
   ]
  },
  {
   "cell_type": "code",
   "execution_count": 10,
   "id": "cc50904e-e662-43d1-bc9d-ce1031d6f560",
   "metadata": {
    "tags": []
   },
   "outputs": [
    {
     "data": {
      "text/plain": [
       "(1437, 628)"
      ]
     },
     "execution_count": 10,
     "metadata": {},
     "output_type": "execute_result"
    }
   ],
   "source": [
    "# check the shapes\n",
    "loaded_templates.shape"
   ]
  },
  {
   "cell_type": "code",
   "execution_count": 11,
   "id": "0e8d363e-1e55-4a4d-a53b-d1b11afb25fd",
   "metadata": {
    "tags": []
   },
   "outputs": [
    {
     "data": {
      "text/plain": [
       "(1437,)"
      ]
     },
     "execution_count": 11,
     "metadata": {},
     "output_type": "execute_result"
    }
   ],
   "source": [
    "templates_wave.shape"
   ]
  },
  {
   "cell_type": "code",
   "execution_count": 12,
   "id": "909b2171-08e8-4fb9-aa6c-ef39f21cd8d0",
   "metadata": {
    "tags": []
   },
   "outputs": [
    {
     "data": {
      "text/plain": [
       "array([3000.41312207, 3001.01368021, 3001.61435857, ..., 3997.81728747,\n",
       "       3998.61748453, 3999.41784175])"
      ]
     },
     "execution_count": 12,
     "metadata": {},
     "output_type": "execute_result"
    }
   ],
   "source": [
    "templates_wave"
   ]
  },
  {
   "cell_type": "markdown",
   "id": "60936c81-2ed1-4c40-a3b0-f33e7a9b1aee",
   "metadata": {},
   "source": [
    "# Looks like a success!"
   ]
  },
  {
   "cell_type": "code",
   "execution_count": 13,
   "id": "8b6e6f37-d3cc-438e-9f5d-3f22e1f6b564",
   "metadata": {},
   "outputs": [
    {
     "data": {
      "text/plain": [
       "3000.413122065844"
      ]
     },
     "execution_count": 13,
     "metadata": {},
     "output_type": "execute_result"
    }
   ],
   "source": [
    "templates_wave.min()"
   ]
  },
  {
   "cell_type": "code",
   "execution_count": null,
   "id": "f1132801-f4be-4d83-9978-f91b884ef5ec",
   "metadata": {},
   "outputs": [],
   "source": []
  }
 ],
 "metadata": {
  "kernelspec": {
   "display_name": "Python 3 (ipykernel)",
   "language": "python",
   "name": "python3"
  },
  "language_info": {
   "codemirror_mode": {
    "name": "ipython",
    "version": 3
   },
   "file_extension": ".py",
   "mimetype": "text/x-python",
   "name": "python",
   "nbconvert_exporter": "python",
   "pygments_lexer": "ipython3",
   "version": "3.11.5"
  }
 },
 "nbformat": 4,
 "nbformat_minor": 5
}
