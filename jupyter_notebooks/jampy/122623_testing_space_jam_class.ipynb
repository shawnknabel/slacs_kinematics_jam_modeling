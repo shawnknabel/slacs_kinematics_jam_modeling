{
 "cells": [
  {
   "cell_type": "markdown",
   "metadata": {},
   "source": [
    "# 12/26/23 - This notebook tests the modules \"space_jam\" and \"total_mass_mge\" in e.g. home/shawnknabel/Documents/slacs_kinematics/my_python_packages/space_jam.py"
   ]
  },
  {
   "cell_type": "code",
   "execution_count": 1,
   "metadata": {},
   "outputs": [],
   "source": [
    "# import general libraries and modules\n",
    "import numpy as np\n",
    "np.set_printoptions(threshold=10000)\n",
    "import matplotlib.pyplot as plt\n",
    "plt.rcParams[\"figure.figsize\"] = (8, 6)\n",
    "plt.switch_backend('agg')\n",
    "import pandas as pd\n",
    "import warnings\n",
    "warnings.filterwarnings( \"ignore\", module = \"matplotlib\\..*\" )\n",
    "warnings.filterwarnings( \"ignore\", module = \"plotbin\\..*\" )\n",
    "import os\n",
    "from os import path\n",
    "from pathlib import Path\n",
    "#import pickle\n",
    "import dill as pickle\n",
    "from datetime import datetime\n",
    "def tick():\n",
    "    return datetime.now().strftime(\"%Y_%m_%d-%I_%M_%S_%p\")\n",
    "import glob\n",
    "\n",
    "# astronomy/scipy\n",
    "from astropy.io import fits\n",
    "#from astropy.wcs import WCS\n",
    "#from scipy.ndimage import rotate\n",
    "#from scipy.ndimage import map_coordinates\n",
    "#from scipy.optimize import least_squares as lsq\n",
    "#from astropy.convolution import convolve, convolve_fft, Gaussian2DKernel\n",
    "#from astropy.cosmology import Planck15 as cosmo # I took 15 because for some reason Planck18 isn't in this astropy install #Planck18 as cosmo  # Planck 2018\n",
    "from astropy.cosmology import FlatLambdaCDM\n",
    "cosmo = FlatLambdaCDM(H0=70, Om0=0.3, Tcmb0=2.725)\n",
    "#from scipy.interpolate import interp1d\n",
    "#from scipy.optimize import fsolve\n",
    "import astropy.units as u\n",
    "import astropy.constants as constants\n",
    "\n",
    "# my functions\n",
    "import sys\n",
    "sys.path.append(\"/home/shawnknabel/Documents/slacs_kinematics/my_python_packages\")\n",
    "\n",
    "\n",
    "################################################################\n",
    "# some needed information\n",
    "kcwi_scale = 0.1457  # arcsec/pixel\n",
    "hst_scale = 0.050 # ACS/WFC\n",
    "\n",
    "# value of c^2 / 4 pi G\n",
    "c2_4piG = (constants.c **2 / constants.G / 4 / np.pi).to('solMass/pc')\n"
   ]
  },
  {
   "cell_type": "code",
   "execution_count": 2,
   "metadata": {},
   "outputs": [],
   "source": [
    "# bring in the space_jam and total_mass_mge modules\n",
    "\n",
    "from space_jam import space_jam\n",
    "from total_mass_mge import total_mass_mge"
   ]
  },
  {
   "cell_type": "code",
   "execution_count": 3,
   "metadata": {},
   "outputs": [
    {
     "name": "stdout",
     "output_type": "stream",
     "text": [
      "\n"
     ]
    }
   ],
   "source": [
    "##################################################################################################################################\n",
    "\n",
    "date_of_kin = '2023-02-28_2'\n",
    "\n",
    "#------------------------------------------------------------------------------\n",
    "# Directories and files\n",
    "\n",
    "# data directory\n",
    "data_dir = '/data/raw_data/KECK_KCWI_SLACS_kinematics_shawn/'\n",
    "hst_dir = '/data/raw_data/HST_SLACS_ACS/kcwi_kinematics_lenses/'\n",
    "tables_dir = f'{data_dir}tables/'\n",
    "mosaics_dir = f'{data_dir}mosaics/'\n",
    "kinematics_full_dir = f'{data_dir}kinematics/'\n",
    "kinematics_dir =f'{kinematics_full_dir}{date_of_kin}/'\n",
    "jam_output_dir = f'{data_dir}jam_outputs/'\n",
    "# create a directory for JAM outputs\n",
    "#Path(jam_output_dir).mkdir(parents=True, exist_ok=True)\n",
    "#print(f'Outputs will be in {jam_output_dir}')\n",
    "print()\n",
    "\n",
    "# target SN for voronoi binning\n",
    "vorbin_SN_targets = np.array([10, 15, 20])\n",
    "\n",
    "#################################################\n",
    "# objects\n",
    "obj_names = ['SDSSJ0029-0055', \n",
    "             'SDSSJ0037-0942',\n",
    "             'SDSSJ0330-0020',\n",
    "             'SDSSJ1112+0826',\n",
    "             'SDSSJ1204+0358',\n",
    "             'SDSSJ1250+0523',\n",
    "             'SDSSJ1306+0600',\n",
    "             'SDSSJ1402+6321',\n",
    "             'SDSSJ1531-0105',\n",
    "             'SDSSJ1538+5817',\n",
    "             'SDSSJ1621+3931',\n",
    "             'SDSSJ1627-0053',\n",
    "             'SDSSJ1630+4520',\n",
    "             'SDSSJ2303+1422'\n",
    "            ]\n",
    "\n",
    "#################################################\n",
    "\n",
    "paper_table = pd.read_csv(f'{tables_dir}paper_table_100223.csv')\n",
    "slacs_ix_table = pd.read_csv(f'{tables_dir}slacs_ix_table3.csv')\n",
    "zs = paper_table['zlens']\n",
    "zlenses = slacs_ix_table['z_lens']\n",
    "zsources = slacs_ix_table['z_src']"
   ]
  },
  {
   "cell_type": "code",
   "execution_count": 4,
   "metadata": {},
   "outputs": [
    {
     "name": "stdout",
     "output_type": "stream",
     "text": [
      "Files in /data/raw_data/KECK_KCWI_SLACS_kinematics_shawn/jam_outputs/SDSSJ0029-0055_2023_12_26_v1/ will be overwritten.\n",
      "\n",
      "Outputs to  /data/raw_data/KECK_KCWI_SLACS_kinematics_shawn/jam_outputs/SDSSJ0029-0055_2023_12_26_v1/\n",
      "\n",
      "qobs_min  0.8\n",
      "q_intr lower bound from qobs_min  0.38912877077009145\n",
      "minimum inclination from qobs_min  5.010238276518078\n",
      "Priors are now  ['uniform', 'gaussian', 'uniform', 'uniform', 'uniform', 'uniform']\n",
      "Mean prior values are  [2.0, 0.74, 0.9, 1.0, 0.5, 7]\n"
     ]
    }
   ],
   "source": [
    "obj_name = obj_names[0]\n",
    "SN = 15\n",
    "mass_model='power_law'\n",
    "anisotropy='const'\n",
    "geometry='axi'\n",
    "align='sph'\n",
    "zlens= zlenses[slacs_ix_table['Name']==obj_name]\n",
    "zsource = zsources[slacs_ix_table['Name']==obj_name]\n",
    "cosmo = cosmo\n",
    "fast_slow = paper_table.loc[0, 'class_for_JAM_models']\n",
    "p0 = [2.0, 0.4, 0.9, 1.0, 0.5, 7] # gamma0, q0, ratio0, einstein radius, lambda_int\n",
    "bounds = [[1.4, 0.051, 0.0, 0.7, 0.0, 5 ], \n",
    "          [2.8, 1.0,   1.0, 2.0, 1.0, 10]]\n",
    "sigpar = np.array([0.2, 0.2, 0.2, 0.2, 0.2, 0.2])  # crude estimate of uncertainties\n",
    "prior_type = ['uniform','uniform','uniform','uniform','uniform','uniform']\n",
    "lensprior = False\n",
    "nstep = 1\n",
    "nwalkers = 12\n",
    "ndim = 6\n",
    "sampler_args = [nstep, nwalkers, ndim] # 10 walkers\n",
    "date_time = datetime.now().strftime(\"%Y_%m_%d\")#-%I_%M_%S_%p\"\n",
    "run_id = 1\n",
    "\n",
    "welcome_to_the_jam = space_jam(kinematics_dir, jam_output_dir,\n",
    "                                 obj_name, SN, mass_model, anisotropy, geometry, align, \n",
    "                                zlens, zsource, cosmo, fast_slow,\n",
    "                               p0, bounds, sigpar, prior_type, lensprior, \n",
    "                               sampler_args, date_time, run_id, plot=False, overwrite=True, \n",
    "                               test_prior=False, constant_err=False, kinmap_test=None)"
   ]
  },
  {
   "cell_type": "code",
   "execution_count": 5,
   "metadata": {},
   "outputs": [
    {
     "name": "stdout",
     "output_type": "stream",
     "text": [
      "Started Emcee please wait...\n",
      "Progress is printed periodically\n"
     ]
    },
    {
     "name": "stderr",
     "output_type": "stream",
     "text": [
      "100%|██████████| 1/1 [00:20<00:00, 20.98s/it]"
     ]
    },
    {
     "name": "stdout",
     "output_type": "stream",
     "text": [
      "n accepted unique parameters 12\n",
      "Saving to /data/raw_data/KECK_KCWI_SLACS_kinematics_shawn/jam_outputs/SDSSJ0029-0055_2023_12_26_v1/SDSSJ0029-0055_2023_12_26_v1_space_jam.pkl\n",
      "Job's finished!\n"
     ]
    },
    {
     "name": "stderr",
     "output_type": "stream",
     "text": [
      "\n"
     ]
    }
   ],
   "source": [
    "welcome_to_the_jam.run_mcmc()"
   ]
  },
  {
   "cell_type": "code",
   "execution_count": 6,
   "metadata": {},
   "outputs": [],
   "source": [
    "welcome_to_the_jam.summary_plot()"
   ]
  },
  {
   "cell_type": "code",
   "execution_count": 7,
   "metadata": {},
   "outputs": [
    {
     "data": {
      "text/plain": [
       "array([2.79409162, 0.60703747, 0.61175061, 1.65344041, 0.41083673,\n",
       "       8.2335574 ])"
      ]
     },
     "execution_count": 7,
     "metadata": {},
     "output_type": "execute_result"
    }
   ],
   "source": [
    "welcome_to_the_jam.bestfit"
   ]
  },
  {
   "cell_type": "code",
   "execution_count": 8,
   "metadata": {},
   "outputs": [
    {
     "data": {
      "text/plain": [
       "[[1.4, 0.6, 0.0, 0.7, 0.8, 5], [2.8, 0.8333736449437164, 2.0, 2.0, 1.2, 10]]"
      ]
     },
     "execution_count": 8,
     "metadata": {},
     "output_type": "execute_result"
    }
   ],
   "source": [
    "welcome_to_the_jam.bounds"
   ]
  },
  {
   "cell_type": "code",
   "execution_count": null,
   "metadata": {},
   "outputs": [],
   "source": []
  }
 ],
 "metadata": {
  "kernelspec": {
   "display_name": "Python 3",
   "language": "python",
   "name": "python3"
  },
  "language_info": {
   "codemirror_mode": {
    "name": "ipython",
    "version": 3
   },
   "file_extension": ".py",
   "mimetype": "text/x-python",
   "name": "python",
   "nbconvert_exporter": "python",
   "pygments_lexer": "ipython3",
   "version": "3.7.0"
  }
 },
 "nbformat": 4,
 "nbformat_minor": 2
}
