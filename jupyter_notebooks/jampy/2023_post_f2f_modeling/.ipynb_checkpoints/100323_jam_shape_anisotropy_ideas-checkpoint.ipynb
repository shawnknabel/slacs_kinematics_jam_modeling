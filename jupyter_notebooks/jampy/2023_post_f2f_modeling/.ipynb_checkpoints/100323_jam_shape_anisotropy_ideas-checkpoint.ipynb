{
 "cells": [
  {
   "cell_type": "markdown",
   "metadata": {},
   "source": [
    "# 10/03/23 - Copied from home/shawnknabel/Documents/slacs_kinematics/jupyter_notebooks/jampy/100223_jam_results_milestone_anis_studies.ipynb\n",
    "# 10/04/23 - Fixed lambda_int bounds and set correct object names for input, setting lower bound for const anisotropy from q_min lower bound\n",
    "## Visualizing the 10/03/23 models.\n",
    "## These models were done with Chin Yi's lens models, an additional bound on slow rotators q_min > 0.6, and lambda_int < 1.25 instead of 1.5 [ACTUALLY IT'S STILL 1.5]\n",
    "#### 10/02/23 - Copied from home/shawnknabel/Documents/slacs_kinematics/jupyter_notebooks/jampy/092523_jam_results_ttmc_meeting_prep.ipynb\n",
    "##### Visualizing the 10/02/23 models.\n",
    "#### 09/25/23 - Copied from 092123_jam_results_milestone_anis_studies.ipynb\n",
    "##### Preparing some figures for my meeting with Michele and Tommaso.\n",
    "#### 09/21/23 - Copied from home/shawnknabel/Documents/slacs_kinematics/jupyter_notebooks/jampy/091323_jam_results_milestone_anis_studies.ipynb\n",
    "##### I added the table \"jam_model_dates.csv' to keep track of which dates to pull the models from.\n",
    "##### This is so I use the correct model version when I redo subsets of models.\n",
    "##### I am currently redoing J1250-(onward) with constant spherical because the 2023_09_15 models had the wrong bounds for the anisotropy parameter [0,1] when it should be [0,2].\n",
    "#### 09/12/23 - Copied from home/shawnknabel/Documents/slacs_kinematics/jupyter_notebooks/jampy/090723_jam_results_milestone_anis_studies.ipynb\n",
    "##### Resultes from 091123_jam_milestone_anisotropy_studies.ipynb\n",
    "##### 09/07/23 - Copied from home/shawnknabel/Documents/slacs_kinematics/jupyter_notebooks/jampy/060923_jam_results_plotting_J1204.ipynb\n",
    "##### Results from 090623_jam_milestone_anisotropy_studies.ipynb\n",
    "##### 06/11/23 - Copied from home/shawnknabel/Documents/slacs_kinematics/jupyter_notebooks/jampy/060623_jam_5obj_results_plotting.ipynb\n",
    "##### Visualizing the results of first look into constraints on lambda_int with J1204."
   ]
  },
  {
   "cell_type": "code",
   "execution_count": 1,
   "metadata": {},
   "outputs": [],
   "source": [
    "################################################################\n",
    "\n",
    "# import general libraries and modules\n",
    "import numpy as np\n",
    "np.set_printoptions(threshold=10000)\n",
    "import matplotlib.pyplot as plt\n",
    "plt.rcParams[\"figure.figsize\"] = (8, 6)\n",
    "plt.rcParams.update({'font.size': 14})\n",
    "import pandas as pd\n",
    "import warnings\n",
    "warnings.filterwarnings( \"ignore\", module = \"matplotlib\\..*\" )\n",
    "warnings.filterwarnings( \"ignore\", module = \"plotbin\\..*\" )\n",
    "import os\n",
    "from os import path\n",
    "import glob\n",
    "from pathlib import Path\n",
    "import pickle\n",
    "from datetime import datetime\n",
    "def tick():\n",
    "    return datetime.now().strftime(\"%Y_%m_%d-%I_%M_%S_%p\")\n",
    "\n",
    "# astronomy/scipy\n",
    "from astropy.io import fits\n",
    "from astropy.wcs import WCS\n",
    "from scipy.ndimage import rotate\n",
    "from scipy.ndimage import map_coordinates\n",
    "from scipy.optimize import least_squares as lsq\n",
    "from astropy.convolution import convolve, convolve_fft, Gaussian2DKernel\n",
    "#from astropy.cosmology import Planck15 as cosmo # I took 15 because for some reason Planck18 isn't in this astropy install #Planck18 as cosmo  # Planck 2018\n",
    "from astropy.cosmology import FlatLambdaCDM\n",
    "cosmo = FlatLambdaCDM(H0=70, Om0=0.3, Tcmb0=2.725)\n",
    "from scipy.interpolate import interp1d\n",
    "from scipy.optimize import fsolve\n",
    "import astropy.units as u\n",
    "import astropy.constants as constants\n",
    "\n",
    "# mge fit\n",
    "import mgefit\n",
    "from mgefit.find_galaxy import find_galaxy\n",
    "from mgefit.mge_fit_1d import mge_fit_1d\n",
    "from mgefit.sectors_photometry import sectors_photometry\n",
    "from mgefit.mge_fit_sectors import mge_fit_sectors\n",
    "from mgefit.mge_print_contours import mge_print_contours\n",
    "from mgefit.mge_fit_sectors_regularized import mge_fit_sectors_regularized\n",
    "\n",
    "# jam\n",
    "from jampy.jam_axi_proj import jam_axi_proj\n",
    "from jampy.jam_axi_proj import rotate_points\n",
    "from jampy.jam_axi_proj import bilinear_interpolate\n",
    "from jampy.jam_sph_proj import jam_sph_proj\n",
    "from jampy.mge_half_light_isophote import mge_half_light_isophote\n",
    "from plotbin.plot_velfield import plot_velfield\n",
    "#from plotbin.sauron_colormap import register_sauron_colormap\n",
    "#register_sauron_colormap()\n",
    "from pafit.fit_kinematic_pa import fit_kinematic_pa\n",
    "#from jampy.jam_axi_proj import jam_axi_proj\n",
    "from jampy.mge_radial_mass import mge_radial_mass\n",
    "from plotbin.symmetrize_velfield import symmetrize_velfield\n",
    "\n",
    "# adamet\n",
    "#from adamet.adamet import adamet\n",
    "from adamet.corner_plot import corner_plot\n",
    "# emcee\n",
    "import emcee\n",
    "import corner\n",
    "from IPython.display import display, Math\n",
    "\n",
    "# my functions\n",
    "import sys\n",
    "sys.path.append(\"/home/shawnknabel/Documents/slacs_kinematics/my_python_packages\")\n",
    "#from slacs_ani_mass_jam import osipkov_merritt_model\n",
    "#from slacs_ani_mass_jam import osipkov_merritt_generalized_model\n",
    "#from slacs_ani_mass_jam import inner_outer_anisotropy_model\n",
    "#from slacs_ani_mass_jam import nfw_generalized_model\n",
    "#from slacs_ani_mass_jam import dark_halo_mge\n",
    "#from slacs_ani_mass_jam import total_mass_mge\n",
    "#from slacs_ani_mass_jam import jam_lnprob\n",
    "#from slacs_ani_mass_jam import jam_lnprob_power_law\n",
    "#from slacs_ani_mass_jam import jam_lnprob_nfw_constbeta\n",
    "#from slacs_ani_mass_jam import jam_lnprob_nfwgen_constbeta\n",
    "#from slacs_ani_mass_jam import jam_lnprob_nfw_om\n",
    "#from slacs_ani_mass_jam import jam_lnprob_nfwgen_om\n",
    "#from slacs_ani_mass_jam import summary_plot\n",
    "#from slacs_ani_mass_jam import save_fit_parameters\n",
    "#from slacs_ani_mass_jam import get_power_law_slope\n",
    "#from slacs_ani_mass_jam import jampy_details\n",
    "#from slacs_ani_mass_jam import prepare_to_jam\n",
    "#from slacs_ani_mass_jam import space_jam\n",
    "#from slacs_mge_jampy import make_gaussian\n",
    "\n",
    "################################################################\n",
    "# some needed information\n",
    "kcwi_scale = 0.1457  # arcsec/pixel\n",
    "hst_scale = 0.050 # ACS/WFC\n",
    "# B band (F435W) dust extinction ~ 0.116 from https://irsa.ipac.caltech.edu/applications/DUST/\n",
    "#extinction = 0.116\n",
    "### photometric zeropoint for F435W as of 2007 was 25.745\n",
    "#photometric_zeropoint = 25.745\n",
    "# redshift, convert to angular diameter dist in Mpc\n",
    "#z = 0.195\n",
    "#distance = cosmo.angular_diameter_distance(z).value\n",
    "\n",
    "# value of c^2 / 4 pi G\n",
    "c2_4piG = (constants.c **2 / constants.G / 4 / np.pi).to('solMass/pc')\n"
   ]
  },
  {
   "cell_type": "code",
   "execution_count": 2,
   "metadata": {},
   "outputs": [
    {
     "name": "stdout",
     "output_type": "stream",
     "text": [
      "Outputs will be in /data/raw_data/KECK_KCWI_SLACS_kinematics_shawn/jam_outputs/\n",
      "\n"
     ]
    }
   ],
   "source": [
    "##################################################################################################################################\n",
    "\n",
    "date_of_kin = '2023-02-28_2'\n",
    "\n",
    "#------------------------------------------------------------------------------\n",
    "# Directories and files\n",
    "\n",
    "# data directory\n",
    "data_dir = '/data/raw_data/KECK_KCWI_SLACS_kinematics_shawn/'\n",
    "hst_dir = '/data/raw_data/HST_SLACS_ACS/kcwi_kinematics_lenses/'\n",
    "tables_dir = f'{data_dir}tables/'\n",
    "mosaics_dir = f'{data_dir}mosaics/'\n",
    "kinematics_full_dir = f'{data_dir}kinematics/'\n",
    "kinematics_dir =f'{kinematics_full_dir}{date_of_kin}/'\n",
    "jam_output_dir = f'{data_dir}jam_outputs/'\n",
    "# create a directory for JAM outputs\n",
    "Path(jam_output_dir).mkdir(parents=True, exist_ok=True)\n",
    "print(f'Outputs will be in {jam_output_dir}')\n",
    "print()\n",
    "\n",
    "# target SN for voronoi binning\n",
    "vorbin_SN_targets = np.array([10, 15, 20])\n",
    "\n",
    "#################################################\n",
    "# objects\n",
    "obj_names = ['SDSSJ0029-0055',\n",
    "             'SDSSJ0037-0942',\n",
    "             'SDSSJ0330-0020',\n",
    "             'SDSSJ1112+0826',\n",
    "             'SDSSJ1204+0358',\n",
    "             'SDSSJ1250+0523',\n",
    "             'SDSSJ1306+0600',\n",
    "             'SDSSJ1402+6321',\n",
    "             'SDSSJ1531-0105',\n",
    "             'SDSSJ1538+5817',\n",
    "             'SDSSJ1621+3931',\n",
    "             'SDSSJ1627-0053',\n",
    "             'SDSSJ1630+4520',\n",
    "             'SDSSJ2303+1422'\n",
    "            ]\n",
    "\n",
    "#################################################\n",
    "\n",
    "paper_table = pd.read_csv(f'{tables_dir}paper_table_051223.csv')\n",
    "zs = paper_table['zlens']"
   ]
  },
  {
   "cell_type": "code",
   "execution_count": 3,
   "metadata": {},
   "outputs": [
    {
     "data": {
      "text/plain": [
       "['SDSSJ0029-0055',\n",
       " 'SDSSJ0037-0942',\n",
       " 'SDSSJ1112+0826',\n",
       " 'SDSSJ1204+0358',\n",
       " 'SDSSJ1250+0523',\n",
       " 'SDSSJ1306+0600',\n",
       " 'SDSSJ1402+6321',\n",
       " 'SDSSJ1531-0105',\n",
       " 'SDSSJ1621+3931',\n",
       " 'SDSSJ1627-0053']"
      ]
     },
     "execution_count": 3,
     "metadata": {},
     "output_type": "execute_result"
    }
   ],
   "source": [
    "active_obj_names = obj_names.copy() # np.array(obj_names)[active_obj]\n",
    "active_obj_names.remove(obj_names[2])\n",
    "active_obj_names.remove('SDSSJ1538+5817')\n",
    "active_obj_names.remove('SDSSJ1630+4520')\n",
    "active_obj_names.remove('SDSSJ2303+1422')\n",
    "active_obj_names"
   ]
  },
  {
   "cell_type": "markdown",
   "metadata": {
    "tags": []
   },
   "source": [
    "______________________\n",
    "\n",
    "# Dynamical Modeling with JAM\n"
   ]
  },
  {
   "cell_type": "code",
   "execution_count": 4,
   "metadata": {},
   "outputs": [],
   "source": [
    "# class to collect and save all the attributes I need for jampy\n",
    "class jampy_details:\n",
    "    \n",
    "    def __init__(details, surf_density, mge_sigma, q, kcwi_sigmapsf, Vrms_bin, dVrms_bin, V_bin, dV_bin, xbin_phot, ybin_phot, reff):\n",
    "        details.surf_density=surf_density \n",
    "        details.mge_sigma=mge_sigma\n",
    "        details.q=q \n",
    "        details.kcwi_sigmapst=kcwi_sigmapsf \n",
    "        details.Vrms_bin=Vrms_bin \n",
    "        details.dVrms_bind=dVrms_bin\n",
    "        details.V_bin=V_bin \n",
    "        details.dV_bin=dV_bin \n",
    "        details.xbin_phot=xbin_phot \n",
    "        details.ybin_phot=ybin_phot\n",
    "        details.reff=reff\n",
    "\n",
    "########################################################################\n",
    "\n",
    "\n",
    "def prepare_to_jam(obj_name, file_dir, SN):\n",
    "\n",
    "    # take the surface density, etc from mge saved parameters\n",
    "    with open(f'{file_dir}{obj_name}_{SN}_details_for_jampy.pkl', 'rb') as f:\n",
    "        tommy_pickles = pickle.load(f)\n",
    "        \n",
    "    surf = tommy_pickles.surf_density\n",
    "    sigma = tommy_pickles.mge_sigma\n",
    "    qObs = tommy_pickles.q\n",
    "    #kcwi_sigmapsf = tommy_pickles.kcwi_sigmapst # mistake in name  \n",
    "    try:\n",
    "        kcwi_sigmapsf = tommy_pickles.kcwi_sigmapsf\n",
    "    except:\n",
    "        kcwi_sigmapsf = tommy_pickles.kcwi_sigmapst\n",
    "    Vrms_bin = tommy_pickles.Vrms_bin\n",
    "    dVrms_bin = tommy_pickles.dVrms_bin \n",
    "    #dVrms_bin = tommy_pickles.dVrms_bind # mistake in name\n",
    "    V_bin = tommy_pickles.V_bin\n",
    "    dV_bin = tommy_pickles.dV_bin\n",
    "    xbin_phot = tommy_pickles.xbin_phot\n",
    "    ybin_phot = tommy_pickles.ybin_phot\n",
    "    reff = tommy_pickles.reff\n",
    "    \n",
    "    return (surf, sigma, qObs, kcwi_sigmapsf, Vrms_bin, dVrms_bin, V_bin, dV_bin, xbin_phot, ybin_phot, reff)\n",
    "\n",
    "\n",
    "########################################################################\n",
    "\n",
    "\n",
    "# functions to view previous samplings\n",
    "\n",
    "def get_best_param_err (obj_name, SN, model, anisotropy, align, model_dir=None, date_time=None, run_id=None):\n",
    "\n",
    "    '''\n",
    "    obj_name and number steps to try it out. Start all with the same priors.\n",
    "    '''\n",
    "\n",
    "    obj_abbr = obj_name[4:9] # e.g. J0029\n",
    "    #zlens = zlens[i]\n",
    "    #distance = cosmo.angular_diameter_distance(zlens).value\n",
    "\n",
    "    #mos_dir = f'{mosaics_dir}{obj_name}/' # directory with all files of obj_name\n",
    "    kin_dir = f'{kinematics_dir}{obj_name}/'\n",
    "    #jam_dir = f'{jam_output_dir}{obj_name}/'\n",
    "    \n",
    "    if obj_abbr=='J0330':\n",
    "        target_kin_dir = f'{kin_dir}target_sn_{SN}/{obj_name}_{SN}_final_kinematics/no_g/'\n",
    "    else:\n",
    "        target_kin_dir = f'{kin_dir}target_sn_{SN}/{obj_name}_{SN}_marginalized_gnog_final_kinematics/'\n",
    "    \n",
    "    # Get model directory\n",
    "    if model_dir is not None:\n",
    "        model_dir = f'{model_dir}/'\n",
    "    elif date_time is not None and run_id is None:\n",
    "        target_jam_dir = f'{jam_dir}target_sn_{SN}/'\n",
    "        model_dir = f'{target_jam_dir}{obj_name}_model_{date_time}_{SN}_{model}_{anisotropy}_{align}/'\n",
    "    elif date_time is None:\n",
    "        target_jam_dir = f'{jam_dir}target_sn_{SN}/'\n",
    "        date_time = datetime.now().strftime(\"%Y_%m_%d\")#-%I_%M_%S_%p\")\n",
    "        model_dir = f'{target_jam_dir}{obj_name}_model_{date_time}_{SN}_{model}_{anisotropy}_{align}/'\n",
    "    elif date_time is not None and run_id is not None:\n",
    "        target_jam_dir = f'{jam_dir}target_sn_{SN}/'\n",
    "        model_dir =  f'{target_jam_dir}{obj_name}_model_{date_time}_v{run_id}_{SN}_{model}_{anisotropy}_{align}/'   \n",
    "    else:\n",
    "        print('something wrong')\n",
    "    \n",
    "    #\n",
    "    bestfit = np.genfromtxt(glob.glob(f'{model_dir}*_bestfit_parameters.txt')[0], delimiter='')\n",
    "    err = np.genfromtxt(glob.glob(f'{model_dir}*_bestfit_parameters_error.txt')[0], delimiter='')\n",
    "    pars = np.genfromtxt(glob.glob(f'{model_dir}*_parameters_fit.txt')[0], delimiter='')\n",
    "    lnprob = np.genfromtxt(glob.glob(f'{model_dir}*_likelihood.txt')[0], delimiter='') \n",
    "    bounds = np.genfromtxt(glob.glob(f'{model_dir}*_bounds.txt')[0], delimiter='')\n",
    "    rms_model = np.genfromtxt(glob.glob(f'{model_dir}*_rms_model.txt')[0], delimiter='')\n",
    "    flux_model = np.genfromtxt(glob.glob(f'{model_dir}*_flux_model.txt')[0], delimiter='')\n",
    "    #print(labels)\n",
    "    #print(glob.glob(f'{model_dir}*_kwargs.pkl'))\n",
    "    with open(glob.glob(f'{model_dir}*_kwargs.pkl')[0], \"rb\") as f:\n",
    "        kwargs = pickle.load(f)\n",
    "        f.close()\n",
    "    \n",
    "    lnprob_best, chi2_best = jam_lnprob_chi2(bestfit, **kwargs)  # Compute chi2 of model at best fit location\n",
    "    \n",
    "    return bestfit, err, pars, lnprob, lnprob_best, chi2_best, bounds, rms_model, flux_model, kwargs#, labels\n",
    "    \n",
    "# weighted gaussian to compare the models..\n",
    "def weighted_gaussian(xx, mu, sig, c2):\n",
    "    yy = np.zeros(shape=xx.shape)\n",
    "    for i in range(len(xx)):\n",
    "        yy[i] = np.exp(-np.power(xx[i] - mu, 2.) / (2 * np.power(sig, 2.))) * np.exp(-0.5 * c2)\n",
    "    return yy\n",
    "\n",
    "\n",
    "def get_labels(model, anisotropy):\n",
    "    if model=='power_law':\n",
    "        if anisotropy=='const':              \n",
    "            labels = [r'$\\gamma$', r\"$q_{\\rm min}$\", r\"$\\sigma_z/\\sigma_R$\", r\"$\\theta_E$\"]\n",
    "        elif anisotropy=='OM':\n",
    "            labels = [r'$\\gamma$', r\"$q_{\\rm min}$\", r\"$a_{ani}$\", r\"$\\theta_E$\"]\n",
    "    elif model=='nfw':\n",
    "        if anisotropy=='const':\n",
    "            labels = [r\"$f_{\\rm DM}$\", r\"$q_{\\rm min}$\", r\"$\\sigma_z/\\sigma_R$\", r\"$\\lg(M_\\ast/L)$\"]\n",
    "        elif anisotropy=='OM':     \n",
    "            labels = [r\"$f_{\\rm DM}$\", r\"$q_{\\rm min}$\", r\"$a_{ani}$\", r\"$\\lg(M_\\ast/L)$\"]\n",
    "    return labels\n",
    "\n",
    "\n",
    "########################################################################\n",
    "\n",
    "\n",
    "def summary_plot(obj_name, date_time, model_dir, jam_prob_func, model_name, \\\n",
    "                     pars=None, lnprob=None, labels=None, bounds=None, \\\n",
    "                     kwargs=None, save=False, load=False):\n",
    "    \n",
    "    \"\"\"\n",
    "    Print the best fitting solution with uncertainties.\n",
    "    Plot the final corner plot with the best fitting JAM model.\n",
    "\n",
    "    \"\"\"\n",
    "    \n",
    "    xbin = kwargs['xbin']\n",
    "    ybin = kwargs['ybin']\n",
    "    goodbins = kwargs['goodbins']\n",
    "    rms = kwargs['rms']\n",
    "    erms = kwargs['erms']\n",
    "    reff = kwargs['reff']\n",
    "    \n",
    "    if load == True:\n",
    "        jam_test_dir = model_dir #f'{data_dir}jam_testing/2023_01_31/'\n",
    "        pars = np.genfromtxt(glob.glob(f'{jam_test_dir}*{obj_name}*/*parameters_fit.txt')[0])\n",
    "        lnprob = np.genfromtxt(glob.glob(f'{jam_test_dir}*{obj_name}*/*likelihood.txt')[0])\n",
    "        labels = np.genfromtxt(glob.glob(f'{jam_test_dir}*{obj_name}*/*labels.txt')[0], delimiter='  ', dtype='<U20')\n",
    "        bounds = np.genfromtxt(glob.glob(f'{jam_test_dir}*{obj_name}*/*bounds.txt')[0])\n",
    "        bestfit = np.genfromtxt(glob.glob(f'{jam_test_dir}*{obj_name}*/*bestfit_parameters.txt')[0])\n",
    "        perc = np.genfromtxt(glob.glob(f'{jam_test_dir}*{obj_name}*/*bestfit_parameters_percentile.txt')[0])\n",
    "        sig_bestfit = np.genfromtxt(glob.glob(f'{jam_test_dir}*{obj_name}*/*bestfit_parameters_error.txt')[0])\n",
    "        surf_potential = np.genfromtxt(glob.glob(f'{jam_test_dir}*{obj_name}*/*surf_potential.txt')[0])\n",
    "        rms_model = np.genfromtxt(glob.glob(f'{jam_test_dir}*{obj_name}*/*rms_model.txt')[0])\n",
    "        flux_model = np.genfromtxt(glob.glob(f'{jam_test_dir}*{obj_name}*/*flux_model.txt')[0])\n",
    "    \n",
    "    else:\n",
    "        \n",
    "        bestfit = pars[np.argmax(lnprob)]  # Best fitting parameters\n",
    "        perc = np.percentile(pars, [15.86, 84.14], axis=0)  # 68% interval\n",
    "        sig_bestfit = np.squeeze(np.diff(perc, axis=0)/2)   # half of interval (1sigma)\n",
    "        \n",
    "        # save variables, surf_pot, sigma_pot, qobs_pot, rms_model and flux_model\n",
    "        \n",
    "        # jam the best fit\n",
    "        jam, surf_potential = jam_bestfit(bestfit, **kwargs)\n",
    "        rms_model = jam.model\n",
    "        flux_model = jam.flux\n",
    "\n",
    "    print(\"\\nBest-fitting parameters and 1sigma errors:\")\n",
    "    for label, best, sig in zip(labels, bestfit, sig_bestfit):\n",
    "        print(f\"   {label} = {best:#.4g} +/- {sig:#.2g}\")\n",
    "\n",
    "    # For plotting, only show the finite probability points\n",
    "    finite = np.isfinite(lnprob)\n",
    "\n",
    "    # Produce final corner plot without trial values and with best fitting JAM\n",
    "    plt.rcParams.update({'font.size': 14})\n",
    "    plt.clf()\n",
    "    corner_plot(pars[finite], lnprob[finite], labels=labels, extents=bounds, fignum=1)\n",
    "    logprob = jam_prob_func(bestfit, **kwargs)  # Compute model at best fit location\n",
    "    chi2 = np.nansum((rms_model-rms)**2/(erms)**2) # -2*logprob\n",
    "                              \n",
    "    dx = 0.24\n",
    "    yfac = 0.87\n",
    "    fig = plt.gcf()\n",
    "    fig.set_size_inches((12,12))\n",
    "    fig.tight_layout()\n",
    "    \n",
    "    i = 0                          \n",
    "    # annotate the model results\n",
    "    plt.annotate(f'chi2 = {np.around(chi2, 2)}', (0.30, 0.97-(1+len(labels))*0.03), xycoords='figure fraction', fontsize=16)\n",
    "    for label, best, sig in zip(labels, bestfit, sig_bestfit):\n",
    "        string = f\"{label} = {best:#.4g} ± {sig:#.2g}\"\n",
    "        plt.annotate(string, (0.30, 0.94-i*0.03), xycoords='figure fraction', fontsize=16) \n",
    "        i = i+1\n",
    "                                \n",
    "    # plot circular reff\n",
    "    reff_plot = plt.Circle((0,0), reff, color='k', fill=False, linestyle='--')\n",
    "                                 \n",
    "    # plot data\n",
    "    fig.add_axes([0.69, 0.99 - dx*yfac, dx, dx*yfac])  # left, bottom, xsize, ysize\n",
    "    rms1 = rms.copy()\n",
    "    rms1[goodbins] = symmetrize_velfield(xbin[goodbins], ybin[goodbins], rms[goodbins])\n",
    "    vmin, vmax = np.percentile(rms1[goodbins], [0.5, 99.5])\n",
    "    plot_velfield(xbin, ybin, rms1, vmin=vmin, vmax=vmax, linescolor='w', \n",
    "                  colorbar=1, label=r\"Data $V_{\\rm rms}$ (km/s)\", flux=flux_model, nodots=True)\n",
    "    plt.tick_params(labelbottom=False)\n",
    "    plt.ylabel('arcsec')\n",
    "    ax = plt.gca()\n",
    "    ax.add_patch(reff_plot)\n",
    "                              \n",
    "    # plot circular reff again... can only patch one time\n",
    "    reff_plot = plt.Circle((0,0), reff, color='k', fill=False, linestyle='--')\n",
    "    \n",
    "    # plot model\n",
    "    fig.add_axes([0.69, 0.98 - 2*dx*yfac, dx, dx*yfac])  # left, bottom, xsize, ysize\n",
    "    plot_velfield(xbin, ybin, rms_model, vmin=vmin, vmax=vmax, linescolor='w',\n",
    "                  colorbar=1, label=r\"Model $V_{\\rm rms}$ (km/s)\", flux=flux_model, nodots=True)\n",
    "    #plt.tick_params(labelbottom=False)\n",
    "    plt.xlabel('arcsec')\n",
    "    plt.ylabel('arcsec')\n",
    "    ax = plt.gca()\n",
    "    ax.add_patch(reff_plot)\n",
    "                              \n",
    "    if save==True:\n",
    "        plt.savefig(f'{model_dir}{obj_name}_corner_plot_{model_name}_{date_time}.png', bbox_inches='tight')\n",
    "        plt.savefig(f'{model_dir}{obj_name}_corner_plot_{model_name}_{date_time}.pdf', bbox_inches='tight')\n",
    "\n",
    "    plt.pause(1)\n",
    "    plt.clf()\n",
    "    plt.close()\n",
    "                            \n",
    "                                                                \n",
    "        \n",
    "    return surf_potential, rms_model, flux_model, bestfit, perc, sig_bestfit, chi2\n",
    "\n",
    "\n",
    "\n",
    "########################################################################\n",
    "\n",
    "\n",
    "def jam_lnprior (pars, bounds, mu, sigma, prior_type):\n",
    "    '''\n",
    "    Calculate the prior likelihood for the sampled parameters\n",
    "    pars\n",
    "    mu - mean of prior\n",
    "    sigma - width of prior\n",
    "    prior_type - uniform, gaussian, log_uniform, log_normal\n",
    "    '''\n",
    "    \n",
    "    pars = np.array(pars)\n",
    "    mu = np.array(mu)\n",
    "    sigma = np.array(sigma)\n",
    "\n",
    "    if any(pars < bounds[0]) or any(pars > bounds[1]):\n",
    "        lnprior = -np.inf\n",
    "    \n",
    "    else:\n",
    "        lnprior=np.ones_like(pars)\n",
    "        for i in range(len(pars)):\n",
    "            if prior_type[i]=='uniform':\n",
    "                lnprior[i]=0.\n",
    "            elif prior_type[i]=='gaussian':\n",
    "                lnprior[i]=np.log(1.0/(np.sqrt(2*np.pi)*sigma[i]))-0.5*(pars[i]-mu[i])**2/sigma[i]**2\n",
    "            \n",
    "    return np.sum(lnprior)\n",
    "\n",
    "\n",
    "########################################################################\n",
    "\n",
    "\n",
    "# set up new anisotropy functions and probability functions to be fit\n",
    "\n",
    "def jam_lnprob (pars, bounds=None, p0=None, sigpar=None, prior_type=None,\n",
    "                surf_lum=None, sigma_lum=None, qobs_lum=None, distance=None,\n",
    "                  xbin=None, ybin=None, sigmapsf=None, normpsf=None, goodbins=None,\n",
    "                   rms=None, erms=None, pixsize=None, reff=None, plot=True, \n",
    "                 model=None, anisotropy=None, geometry=None, align=None, \n",
    "                labels=None, zlens=None, zsource=None, rs_mst=None):\n",
    "    \n",
    "    \"\"\"\n",
    "    Return the probability of the model, given the data, assuming constant priors\n",
    "\n",
    "    \"\"\"\n",
    "    \n",
    "    lnprior = jam_lnprior (pars, bounds, mu=p0, sigma=sigpar, prior_type=prior_type)\n",
    "    \n",
    "    if np.isinf(lnprior) or np.isnan(lnprior):\n",
    "        return -np.inf\n",
    "    \n",
    "    else:\n",
    "        # axisymmetric model takes jam_axi_proj\n",
    "        if geometry == 'axi':\n",
    "            # parameters for fitting\n",
    "            # Mass model\n",
    "            if model=='power_law':\n",
    "                gamma, q, anis_param, theta_E, lambda_int = pars\n",
    "                # let f_dm = 0 for a power law\n",
    "                f_dm = 0\n",
    "            elif model=='nfw':\n",
    "                f_dm, q, anis_param, lg_ml, lambda_int = pars\n",
    "                # gamma = -1 for NFW\n",
    "                gamma = -1\n",
    "            # Anisotropy is dependent on model\n",
    "            if anisotropy=='const':\n",
    "                logistic=False\n",
    "                ratio = anis_param\n",
    "                beta = np.full_like(qobs_lum, 1 - ratio**2)   # assume constant anisotropy, anis_param is the ratio of q_t/q_r\n",
    "                # lower bound is constrained by q as R(q) = sqrt(0.3 + 0.7*q) # where q in this case is the q_min I'm fitting\n",
    "                # This is a constraint from intrinsic shape\n",
    "                R_q = np.sqrt(0.3 + 0.7*q)\n",
    "                if ratio < R_q:\n",
    "                    anisotropy_constraint = 0\n",
    "                else:\n",
    "                    anisotropy_constraint = 1\n",
    "            elif anisotropy=='OM':\n",
    "                logistic=True\n",
    "                a_ani = anis_param # anis_param is the anisotropy transition radius in units of the effective radius\n",
    "                r_a = a_ani*reff\n",
    "                beta_0 = 0 # fully isotropic\n",
    "                beta_inf = 1 # fully radially anisotropic\n",
    "                alpha = 2 # sharpness of transition\n",
    "                beta = np.array([r_a, beta_0, beta_inf, alpha])\n",
    "                anisotropy_constraint = 1 # doesn't apply here\n",
    "            # Continue if good to go\n",
    "            if anisotropy_constraint == 1: # i.e. the constraint from q\n",
    "\n",
    "                # Sample inclination using min(q), with Equation (14) of Cappellari (2008)\n",
    "                qmin = np.min(qobs_lum)\n",
    "                inc = np.degrees(np.arctan2(np.sqrt(1 - qmin**2), np.sqrt(qmin**2 - q**2)))\n",
    "\n",
    "                # Obtain total mass profile\n",
    "                surf_pot, sigma_pot, qobs_pot = total_mass_mge(surf_lum, sigma_lum, qobs_lum,\n",
    "                                                               reff, model, zlens, zsource,\n",
    "                                                              gamma, f_dm, inc, theta_E, lambda_int=lambda_int, rs_mst=rs_mst, lg_ml=None,\n",
    "                                                               plot=plot)\n",
    "                # ignore central black hole\n",
    "                mbh=0.\n",
    "                # make the JAM model\n",
    "                jam = jam_axi_proj(surf_lum, sigma_lum, qobs_lum, surf_pot, sigma_pot, qobs_pot,\n",
    "                                   inc, mbh, distance, xbin, ybin, \n",
    "                                    align=align, beta=beta, logistic=logistic,\n",
    "                                   data=rms, errors=erms, goodbins=goodbins,\n",
    "                                   pixsize=pixsize, sigmapsf=sigmapsf, normpsf=normpsf, \n",
    "                                   plot=plot,  quiet=1, ml=1, nodots=True)\n",
    "\n",
    "                resid = (rms[goodbins] - jam.model[goodbins])/erms[goodbins]\n",
    "                chi2 = resid @ resid\n",
    "                lnprob = -0.5*chi2 + lnprior\n",
    "            else:\n",
    "                lnprob = -np.inf # reject this one\n",
    "        \n",
    "        # sph geometry is a different jam function\n",
    "        elif geometry == 'sph':\n",
    "            # parameters for fitting\n",
    "            # Mass model\n",
    "            if model=='power_law':\n",
    "                gamma, anis_param, theta_E, lambda_int = pars\n",
    "                # let f_dm = 0 for a power law\n",
    "                f_dm = 0\n",
    "            elif model=='nfw':\n",
    "                f_dm, anis_param, lg_ml, lambda_int = pars\n",
    "                # gamma = -1 for NFW\n",
    "                gamma = -1\n",
    "            # Anisotropy is dependent on model\n",
    "            if anisotropy=='const':\n",
    "                logistic=False\n",
    "                ratio = anis_param\n",
    "                beta = np.full_like(qobs_lum, 1 - ratio**2)   # assume constant anisotropy, anis_param is the ratio of q_t/q_r\n",
    "                rani = None\n",
    "            elif anisotropy=='OM':\n",
    "                logistic=True\n",
    "                a_ani = anis_param # anis_param is the anisotropy transition radius in units of the effective radius\n",
    "                r_a = a_ani*reff\n",
    "                # put in r_ani keyword\n",
    "                beta_0 = 0 # fully isotropic\n",
    "                beta_inf = 1 # fully radially anisotropic\n",
    "                alpha = 2 # sharpness of transition\n",
    "                beta = np.array([r_a, beta_0, beta_inf, alpha])\n",
    "            # Obtain total mass profile\n",
    "            surf_pot, sigma_pot, qobs_pot = total_mass_mge(surf_lum, sigma_lum, qobs_lum,\n",
    "                                                           reff, model, zlens, zsource,\n",
    "                                                          gamma, f_dm, inc=90, theta_E=theta_E, lambda_int=lambda_int, rs_mst=rs_mst, lg_ml=None,\n",
    "                                                           plot=plot)\n",
    "            # get radius of bin centers\n",
    "            #rad_bin = np.sqrt(xbin**2 + ybin**2)\n",
    "            # ignore central black hole\n",
    "            mbh=0.\n",
    "            # There is no \"goodbins\" keyword for jam_sph_proj, so I need to adjust the data as such\n",
    "            #rms = rms[goodbins]\n",
    "            #erms = erms[goodbins]\n",
    "            #rad_bin = rad_bin[goodbins]\n",
    "\n",
    "            # Now run the jam model\n",
    "            #jam = jam_sph_proj(surf_lum, sigma_lum, surf_pot, sigma_pot, \n",
    "            #                   mbh, distance, rad_bin, #xbin, ybin, align=align, \n",
    "            #                    beta=beta, logistic=logistic, rani=r_a,\n",
    "            #                   data=rms, errors=erms, #goodbins=goodbins, # there is no goodbins\n",
    "            #                   pixsize=pixsize, sigmapsf=sigmapsf, normpsf=normpsf, \n",
    "            #                   plot=plot, quiet=1, ml=1)#, nodots=True) # there is no nodots\n",
    "            ####### 10/02/23 - for now, we will run jam_axi_proj, which is the same as jam_sph_proj in the spherical limit that q=1\n",
    "            inc=90\n",
    "            jam = jam_axi_proj(surf_lum, sigma_lum, qobs_lum, surf_pot, sigma_pot, qobs_pot,\n",
    "                               inc, mbh, distance, xbin, ybin, \n",
    "                                align=align, beta=beta, logistic=logistic,\n",
    "                               data=rms, errors=erms, goodbins=goodbins,\n",
    "                               pixsize=pixsize, sigmapsf=sigmapsf, normpsf=normpsf, \n",
    "                               plot=plot,  quiet=1, ml=1, nodots=True)\n",
    "            resid = (rms[goodbins] - jam.model[goodbins])/erms[goodbins]\n",
    "            chi2 = resid @ resid\n",
    "            lnprob = -0.5*chi2 + lnprior\n",
    "\n",
    "        return lnprob\n",
    "\n",
    "\n",
    "\n",
    "\n",
    "########################################################################\n",
    "\n",
    "# set up new anisotropy functions and probability functions to be fit\n",
    "\n",
    "def jam_lnprob_chi2 (pars, bounds=None, p0=None, sigpar=None, prior_type=None,\n",
    "                surf_lum=None, sigma_lum=None, qobs_lum=None, distance=None,\n",
    "                  xbin=None, ybin=None, sigmapsf=None, normpsf=None, goodbins=None,\n",
    "                   rms=None, erms=None, pixsize=None, reff=None, plot=True, \n",
    "                 model=None, anisotropy=None, geometry=None, align=None, \n",
    "                labels=None, zlens=None, zsource=None, rs_mst=None):\n",
    "    \n",
    "    \"\"\"\n",
    "    Return the probability and chi2 of the model, given the data, assuming constant priors\n",
    "\n",
    "    \"\"\"\n",
    "    \n",
    "    lnprior = jam_lnprior (pars, bounds, mu=p0, sigma=sigpar, prior_type=prior_type)\n",
    "    \n",
    "    if np.isinf(lnprior) or np.isnan(lnprior):\n",
    "        return -np.inf, np.inf\n",
    "    \n",
    "    else:\n",
    "        # axisymmetric model takes jam_axi_proj\n",
    "        if geometry == 'axi':\n",
    "            # parameters for fitting\n",
    "            # Mass model\n",
    "            if model=='power_law':\n",
    "                gamma, q, anis_param, theta_E, lambda_int = pars\n",
    "                # let f_dm = 0 for a power law\n",
    "                f_dm = 0\n",
    "            elif model=='nfw':\n",
    "                f_dm, q, anis_param, lg_ml, lambda_int = pars\n",
    "                # gamma = -1 for NFW\n",
    "                gamma = -1\n",
    "            # Anisotropy is dependent on model\n",
    "            if anisotropy=='const':\n",
    "                logistic=False\n",
    "                ratio = anis_param\n",
    "                beta = np.full_like(qobs_lum, 1 - ratio**2)   # assume constant anisotropy, anis_param is the ratio of q_t/q_r\n",
    "                # lower bound is constrained by q as R(q) = sqrt(0.3 + 0.7*q) # where q in this case is the q_min I'm fitting\n",
    "                # This is a constraint from intrinsic shape\n",
    "                R_q = np.sqrt(0.3 + 0.7*q)\n",
    "                if ratio < R_q:\n",
    "                    anisotropy_constraint = 0\n",
    "                else:\n",
    "                    anisotropy_constraint = 1\n",
    "            elif anisotropy=='OM':\n",
    "                logistic=True\n",
    "                a_ani = anis_param # anis_param is the anisotropy transition radius in units of the effective radius\n",
    "                r_a = a_ani*reff\n",
    "                beta_0 = 0 # fully isotropic\n",
    "                beta_inf = 1 # fully radially anisotropic\n",
    "                alpha = 2 # sharpness of transition\n",
    "                beta = np.array([r_a, beta_0, beta_inf, alpha])\n",
    "                anisotropy_constraint = 1 # doesn't apply here\n",
    "            # Continue if good to go\n",
    "            if anisotropy_constraint == 1: # i.e. the constraint from q\n",
    "\n",
    "                # Sample inclination using min(q), with Equation (14) of Cappellari (2008)\n",
    "                qmin = np.min(qobs_lum)\n",
    "                inc = np.degrees(np.arctan2(np.sqrt(1 - qmin**2), np.sqrt(qmin**2 - q**2)))\n",
    "\n",
    "                # Obtain total mass profile\n",
    "                surf_pot, sigma_pot, qobs_pot = total_mass_mge(surf_lum, sigma_lum, qobs_lum,\n",
    "                                                               reff, model, zlens, zsource,\n",
    "                                                              gamma, f_dm, inc, theta_E, lambda_int=lambda_int, rs_mst=rs_mst, lg_ml=None,\n",
    "                                                               plot=plot)\n",
    "                # ignore central black hole\n",
    "                mbh=0.\n",
    "                # make the JAM model\n",
    "                jam = jam_axi_proj(surf_lum, sigma_lum, qobs_lum, surf_pot, sigma_pot, qobs_pot,\n",
    "                                   inc, mbh, distance, xbin, ybin, \n",
    "                                    align=align, beta=beta, logistic=logistic,\n",
    "                                   data=rms, errors=erms, goodbins=goodbins,\n",
    "                                   pixsize=pixsize, sigmapsf=sigmapsf, normpsf=normpsf, \n",
    "                                   plot=plot,  quiet=1, ml=1, nodots=True)\n",
    "\n",
    "                resid = (rms[goodbins] - jam.model[goodbins])/erms[goodbins]\n",
    "                chi2 = resid @ resid\n",
    "                lnprob = -0.5*chi2 + lnprior\n",
    "            else:\n",
    "                lnprob = -np.inf # reject this one\n",
    "                chi2 = np.inf            \n",
    "        \n",
    "        # sph geometry is a different jam function\n",
    "        elif geometry == 'sph':\n",
    "            # parameters for fitting\n",
    "            # Mass model\n",
    "            if model=='power_law':\n",
    "                gamma, anis_param, theta_E, lambda_int = pars\n",
    "                # let f_dm = 0 for a power law\n",
    "                f_dm = 0\n",
    "            elif model=='nfw':\n",
    "                f_dm, anis_param, lg_ml, lambda_int = pars\n",
    "                # gamma = -1 for NFW\n",
    "                gamma = -1\n",
    "            # Anisotropy is dependent on model\n",
    "            if anisotropy=='const':\n",
    "                logistic=False\n",
    "                ratio = anis_param\n",
    "                beta = np.full_like(qobs_lum, 1 - ratio**2)   # assume constant anisotropy, anis_param is the ratio of q_t/q_r\n",
    "                rani = None\n",
    "            elif anisotropy=='OM':\n",
    "                logistic=True\n",
    "                a_ani = anis_param # anis_param is the anisotropy transition radius in units of the effective radius\n",
    "                r_a = a_ani*reff\n",
    "                # put in r_ani keyword\n",
    "                beta_0 = 0 # fully isotropic\n",
    "                beta_inf = 1 # fully radially anisotropic\n",
    "                alpha = 2 # sharpness of transition\n",
    "                beta = np.array([r_a, beta_0, beta_inf, alpha])\n",
    "            # Obtain total mass profile\n",
    "            surf_pot, sigma_pot, qobs_pot = total_mass_mge(surf_lum, sigma_lum, qobs_lum,\n",
    "                                                           reff, model, zlens, zsource,\n",
    "                                                          gamma, f_dm, inc=90, theta_E=theta_E, lambda_int=lambda_int, rs_mst=rs_mst, lg_ml=None,\n",
    "                                                           plot=plot)\n",
    "            # get radius of bin centers\n",
    "            #rad_bin = np.sqrt(xbin**2 + ybin**2)\n",
    "            # ignore central black hole\n",
    "            mbh=0.\n",
    "            # There is no \"goodbins\" keyword for jam_sph_proj, so I need to adjust the data as such\n",
    "            #rms = rms[goodbins]\n",
    "            #erms = erms[goodbins]\n",
    "            #rad_bin = rad_bin[goodbins]\n",
    "\n",
    "            # Now run the jam model\n",
    "            #jam = jam_sph_proj(surf_lum, sigma_lum, surf_pot, sigma_pot, \n",
    "            #                   mbh, distance, rad_bin, #xbin, ybin, align=align, \n",
    "            #                    beta=beta, logistic=logistic, rani=r_a,\n",
    "            #                   data=rms, errors=erms, #goodbins=goodbins, # there is no goodbins\n",
    "            #                   pixsize=pixsize, sigmapsf=sigmapsf, normpsf=normpsf, \n",
    "            #                   plot=plot, quiet=1, ml=1)#, nodots=True) # there is no nodots\n",
    "            ####### 10/02/23 - for now, we will run jam_axi_proj, which is the same as jam_sph_proj in the spherical limit that q=1\n",
    "            inc=90\n",
    "            jam = jam_axi_proj(surf_lum, sigma_lum, qobs_lum, surf_pot, sigma_pot, qobs_pot,\n",
    "                               inc, mbh, distance, xbin, ybin, \n",
    "                                align=align, beta=beta, logistic=logistic,\n",
    "                               data=rms, errors=erms, goodbins=goodbins,\n",
    "                               pixsize=pixsize, sigmapsf=sigmapsf, normpsf=normpsf, \n",
    "                               plot=plot,  quiet=1, ml=1, nodots=True)\n",
    "            resid = (rms[goodbins] - jam.model[goodbins])/erms[goodbins]\n",
    "            chi2 = resid @ resid\n",
    "            lnprob = -0.5*chi2 + lnprior\n",
    "\n",
    "            \n",
    "    return lnprob, chi2\n",
    "\n",
    "\n",
    "########################################################################\n",
    "\n",
    "def jam_bestfit (pars, **kwargs):\n",
    "    \n",
    "    \"\"\"\n",
    "    Return the model of the bestfit parameters\n",
    "\n",
    "    \"\"\"\n",
    "    \n",
    "    surf_lum=kwargs['surf_lum']\n",
    "    sigma_lum=kwargs['sigma_lum']\n",
    "    qobs_lum=kwargs['qobs_lum']\n",
    "    distance=kwargs['distance']\n",
    "    xbin=kwargs['xbin']\n",
    "    ybin=kwargs['ybin']\n",
    "    sigmapsf=kwargs['sigmapsf']\n",
    "    normpsf=kwargs['normpsf']\n",
    "    goodbins=kwargs['goodbins']\n",
    "    rms=kwargs['rms']\n",
    "    erms=kwargs['erms']\n",
    "    pixsize=kwargs['pixsize']\n",
    "    reff=kwargs['reff']\n",
    "    plot=kwargs['plot']\n",
    "    model=kwargs['model']\n",
    "    anisotropy=kwargs['anisotropy']\n",
    "    geometry=kwargs['geometry']\n",
    "    align=kwargs['align']\n",
    "    zlens=kwargs['zlens']\n",
    "    zsource=kwargs['zsource']\n",
    "    rs_mst=kwargs['rs_mst']\n",
    "    \n",
    "    print(model)\n",
    "    \n",
    "    \n",
    "    ##### axisymmetric geometry\n",
    "    if geometry=='axi':\n",
    "        # parameters for fitting\n",
    "        # Mass model\n",
    "        if model=='power_law':\n",
    "            gamma, q, anis_param, theta_E, lambda_int = pars\n",
    "            # let f_dm = 0 for a power law\n",
    "            f_dm = 0\n",
    "        elif model=='nfw':\n",
    "            f_dm, q, anis_param, theta_E, lambda_int = pars\n",
    "            # gamma = -1 for NFW\n",
    "            gamma = -1\n",
    "\n",
    "        # Anisotropy is dependent on model\n",
    "        if anisotropy=='const':\n",
    "            logistic=False\n",
    "            ratio = anis_param\n",
    "            beta = np.full_like(qobs_lum, 1 - ratio**2)   # assume constant anisotropy, anis_param is the ratio of q_t/q_r\n",
    "        elif anisotropy=='OM':\n",
    "            logistic=True\n",
    "            a_ani = anis_param # anis_param is the anisotropy transition radius in units of the effective radius\n",
    "            r_a = a_ani*reff\n",
    "            beta_0 = 0 # fully isotropic\n",
    "            beta_inf = 1 # fully radially anisotropic\n",
    "            alpha = 2 # sharpness of transition\n",
    "            beta = [r_a, beta_0, beta_inf, alpha]\n",
    "\n",
    "        # Sample inclination using min(q), with Equation (14) of Cappellari (2008)\n",
    "        qmin = np.min(qobs_lum)\n",
    "        inc = np.degrees(np.arctan2(np.sqrt(1 - qmin**2), np.sqrt(qmin**2 - q**2)))\n",
    "        # Check if this is the same for prolate... See Capp 2002\n",
    "\n",
    "        # Obtain total mass profile\n",
    "        surf_pot, sigma_pot, qobs_pot = total_mass_mge(surf_lum, sigma_lum, qobs_lum,\n",
    "                                                       reff, model, zlens, zsource,\n",
    "                                                      gamma, f_dm, inc, theta_E, lambda_int=lambda_int, rs_mst=rs_mst, lg_ml=None,\n",
    "                                                       plot=plot)\n",
    "\n",
    "        surf_potential = np.stack((surf_pot, sigma_pot, qobs_pot))\n",
    "\n",
    "        # ignore central black hole\n",
    "        mbh=0.\n",
    "\n",
    "        print('JAMMING the best fit model')\n",
    "\n",
    "        # make the JAM model\n",
    "        jam = jam_axi_proj(surf_lum, sigma_lum, qobs_lum, surf_pot, sigma_pot, qobs_pot,\n",
    "                           inc, mbh, distance, xbin, ybin, pixsize=pixsize,\n",
    "                           sigmapsf=sigmapsf, normpsf=normpsf, goodbins=goodbins, align=align,\n",
    "                           beta=beta, logistic=logistic, data=rms, errors=erms, \n",
    "                           ml=1, plot=True, quiet=1, nodots=True)\n",
    "        \n",
    "    #### spherical geometry\n",
    "    elif geometry=='sph':\n",
    "            # parameters for fitting\n",
    "        # Mass model\n",
    "        if model=='power_law':\n",
    "            gamma, anis_param, theta_E, lambda_int = pars\n",
    "            # let f_dm = 0 for a power law\n",
    "            f_dm = 0\n",
    "        elif model=='nfw':\n",
    "            f_dm, anis_param, theta_E, lambda_int = pars\n",
    "            # gamma = -1 for NFW\n",
    "            gamma = -1\n",
    "\n",
    "        # Anisotropy is dependent on model\n",
    "        if anisotropy=='const':\n",
    "            logistic=False\n",
    "            ratio = anis_param\n",
    "            beta = np.full_like(qobs_lum, 1 - ratio**2)   # assume constant anisotropy, anis_param is the ratio of q_t/q_r\n",
    "        elif anisotropy=='OM':\n",
    "            logistic=True\n",
    "            a_ani = anis_param # anis_param is the anisotropy transition radius in units of the effective radius\n",
    "            r_a = a_ani*reff\n",
    "            beta_0 = 0 # fully isotropic\n",
    "            beta_inf = 1 # fully radially anisotropic\n",
    "            alpha = 2 # sharpness of transition\n",
    "            beta = [r_a, beta_0, beta_inf, alpha]\n",
    "\n",
    "\n",
    "        # Obtain total mass profile\n",
    "        surf_pot, sigma_pot, qobs_pot = total_mass_mge(surf_lum, sigma_lum, qobs_lum,\n",
    "                                                       reff, model, zlens, zsource,\n",
    "                                                      gamma, f_dm, inc=90, theta_E=theta_E, lambda_int=lambda_int, rs_mst=rs_mst, lg_ml=None,\n",
    "                                                       plot=plot)\n",
    "\n",
    "        surf_potential = np.stack((surf_pot, sigma_pot, qobs_pot))\n",
    "\n",
    "        # get radius of bin centers\n",
    "        #rad_bin = np.sqrt(xbin**2 + ybin**2)\n",
    "        # ignore central black hole\n",
    "        mbh=0.\n",
    "\n",
    "        print('JAMMING the best fit model')\n",
    "        \n",
    "        # There is no \"goodbins\" keyword for jam_axi_sph, so I need to adjust the data as such\n",
    "        #rms = rms[goodbins]\n",
    "        #erms = erms[goodbins]\n",
    "        #rad_bin = rad_bin[goodbins]\n",
    "        # Now run the jam model\n",
    "\n",
    "        # make the JAM model\n",
    "        #jam = jam_sph_proj(surf_lum, sigma_lum, surf_pot, sigma_pot, \n",
    "        #                   mbh, distance, rad_bin, #xbin, ybin, align=align, \n",
    "        #                    beta=beta, logistic=logistic, rani=r_a,\n",
    "        #                   data=rms, errors=erms, #goodbins=goodbins,\n",
    "        #                   pixsize=pixsize, sigmapsf=sigmapsf, normpsf=normpsf, \n",
    "        #                   plot=plot, quiet=1, ml=1)#, nodots=True)\n",
    "        ####### 10/02/23 - for now, we will run jam_axi_proj, which is the same as jam_sph_proj in the spherical limit that q=1\n",
    "        inc=90\n",
    "        jam = jam_axi_proj(surf_lum, sigma_lum, qobs_lum, surf_pot, sigma_pot, qobs_pot,\n",
    "                           inc, mbh, distance, xbin, ybin, \n",
    "                            align=align, beta=beta, logistic=logistic,\n",
    "                           data=rms, errors=erms, goodbins=goodbins,\n",
    "                           pixsize=pixsize, sigmapsf=sigmapsf, normpsf=normpsf, \n",
    "                           plot=plot,  quiet=1, ml=1, nodots=True)\n",
    "\n",
    "    return jam, surf_potential\n",
    "\n",
    "\n",
    "###############################################################################\n",
    "\n",
    "def power_law_mge (gamma, theta_E, q, rbreak, lambda_int, rs_mst, zlens, zsource, plot=False):\n",
    "    \"\"\"\n",
    "    gamma - power law slope (2 = isothermal)\n",
    "    theta_E - einstein radius\n",
    "    q - mean q from gaussian components of light profile\n",
    "    rbreak - some radius... make it big?\n",
    "    lamdba_int - MST parameter\n",
    "    zlens/source - redshjifts\n",
    "    \"\"\"\n",
    "    # The fit is performed in log spaced radii from 1\" to 10*rbreak\n",
    "    n = 1000     # Number of values to sample the gNFW profile for the MGE fit\n",
    "    r = np.geomspace(0.01, rbreak, n)   # logarithmically spaced radii in arcsec\n",
    "    \n",
    "    # Now working in convergence\n",
    "    kappa = (3 - gamma) / 2 * (theta_E/r)**(gamma-1)\n",
    "    #surf_mass_dens = (3 - gamma) / 2 * (rbreak/r)**(gamma-1)\n",
    "    \n",
    "    # transform by lambda_int\n",
    "    kappa_mst = mass_sheet_transform(kappa, lambda_int, rbreak, rs_mst, zlens, zsource)\n",
    "    #surf_mass_dens_mst = mass_sheet_transform(surf_mass_dens, lambda_int, rbreak, zlens, zsource)\n",
    "    \n",
    "    # Go from convergence to surface mass density with critical surface density\n",
    "    # get distances\n",
    "    DL = cosmo.angular_diameter_distance(zlens).to('pc')\n",
    "    DS = cosmo.angular_diameter_distance(zsource).to('pc')\n",
    "    DLS = cosmo.angular_diameter_distance_z1z2(zlens, zsource).to('pc')\n",
    "    # calculate critical surface density\n",
    "    sigma_crit = c2_4piG * DS / DL / DLS\n",
    "    # calculate surface mass density with sigma_crit\n",
    "    surf_mass_dens = kappa_mst * sigma_crit.value\n",
    "    \n",
    "    m = mge_fit_1d(r, surf_mass_dens, ngauss=20, inner_slope=20, outer_slope=0, quiet=1, plot=plot) # this creates a circular gaussian with sigma=sigma_x (i.e. along the major axis)\n",
    "    \n",
    "    surf_pot, sigma_pot = m.sol           # total counts of gaussians\n",
    "    surf_pot = surf_pot / np.sqrt(2*np.pi) / sigma_pot # THIS should give peak surface density\n",
    "    qobs_pot = np.ones_like(surf_pot)*q   # Multiply by q to convert to elliptical Gaussians where sigma is along the major axis... I'm not sure if this is perfectly correct\n",
    "    \n",
    "    return surf_pot, sigma_pot, qobs_pot\n",
    "\n",
    "\n",
    "\n",
    "###############################################################################\n",
    "\n",
    "def dark_halo_mge (gamma, rbreak, lambda_int, zlens, zsource, plot=False):\n",
    "    \"\"\"\n",
    "    Returns the MGE parameters for a generalized spherical NFW dark halo profile\n",
    "    https://ui.adsabs.harvard.edu/abs/2001ApJ...555..504W\n",
    "    Inputs:\n",
    "        gamma - inner profile slope (logarithmic slope, i.e. slope when plotted as log(rho) to log(r), < 0\n",
    "                if gamma = -1, this is standard NFW profile\n",
    "        rbreak - break radius, transition from inner slope to outer slope (of -3)\n",
    "    Outputs:\n",
    "        surf_dm, sigma_dm, qobs_dm - MGE parameters of dark halo surface potential (peak surface density, sigma of Gaussians, and axial ratio (1 because it's spherical)\n",
    "        \n",
    "    \"\"\"\n",
    "    # The fit is performed in log spaced radii from 1\" to 10*rbreak\n",
    "    n = 1000     # Number of values to sample the gNFW profile for the MGE fit\n",
    "    r = np.geomspace(0.01, rbreak, n)   # logarithmically spaced radii in arcsec\n",
    "    rho = nfw_generalized_model (r, gamma, rbreak)\n",
    "    m = mge_fit_1d(r, rho, ngauss=15, inner_slope=20, outer_slope=0, quiet=1, plot=plot)\n",
    "\n",
    "    surf_dm, sigma_dm = m.sol           # Peak surface density and sigma # 05/22/23 - I think this actually gives the \"total counts\", not peak surface density\n",
    "    #surf_dm = surf_dm / np.sqrt(2*np.pi) / sigma_dm # THIS should give peak surface density\n",
    "    ##### 06/08/23 - I was wrong. Because I am fitting the MGE to the volume density, dens = surf/(np.sqrt(2*np.pi)*Sigma)\n",
    "    qobs_dm = np.ones_like(surf_dm)     # Assume spherical dark halo\n",
    "\n",
    "    return surf_dm, sigma_dm, qobs_dm\n",
    "\n",
    "\n",
    "########################################################################\n",
    "\n",
    "def total_mass_mge (surf_lum, sigma_lum, qobs_lum, \n",
    "                    reff, model, zlens, zsource,\n",
    "                    gamma, f_dm, inc, theta_E, lambda_int=1, rs_mst=0.5, lg_ml=None,\n",
    "                     plot=False):\n",
    "    \n",
    "    \"\"\"\n",
    "    Combine the MGE from a dark halo and the MGE from the stellar surface\n",
    "    brightness in such a way to have a given dark matter fractions f_dm\n",
    "    inside a sphere of radius one half-light radius reff\n",
    "    \n",
    "    # 06/09/23 - I need to figure out how to scale with the Einstein radius instead of M/L\n",
    "    \"\"\"\n",
    "    \n",
    "    break_factor = 100 # factor by which reff is multiplied to set truncation of mass profile\n",
    "    \n",
    "    if model == 'nfw':\n",
    "        \n",
    "        gamma = -1\n",
    "        rbreak = break_factor*reff # much bigger than data # should this be a free parameter?\n",
    "\n",
    "        surf_dm, sigma_dm, qobs_dm = dark_halo_mge(gamma, rbreak, lambda_int, zlens, zsource, plot)\n",
    "        #plt.pause(1)\n",
    "\n",
    "        stars_lum_re = mge_radial_mass(surf_lum, sigma_lum, qobs_lum, inc, reff)\n",
    "        dark_mass_re = mge_radial_mass(surf_dm, sigma_dm, qobs_dm, inc, reff)\n",
    "\n",
    "        # Find the scale factor needed to satisfy the following definition\n",
    "        # f_dm == dark_mass_re*scale/(stars_lum_re + dark_mass_re*scale)\n",
    "        scale = (f_dm*stars_lum_re)/(dark_mass_re*(1 - f_dm))\n",
    "\n",
    "        surf_pot = np.append(surf_lum, surf_dm*scale)   # Msun/pc**2. DM scaled so that f_DM(Re)=f_DM\n",
    "        sigma_pot = np.append(sigma_lum, sigma_dm)      # Gaussian dispersion in arcsec\n",
    "        qobs_pot = np.append(qobs_lum, qobs_dm)\n",
    "        \n",
    "        # Note: I multiply surf_pot by ml=10**lg_ml, while I set the keyword ml=1\n",
    "        # Both the stellar and dark matter increase by ml and f_dm is unchanged\n",
    "        surf_pot *= 10**lg_ml\n",
    "        \n",
    "        \n",
    "        \n",
    "    elif model == 'nfw_general':\n",
    "        \n",
    "        gamma = gamma\n",
    "        rbreak = break_factor*reff # much bigger than data\n",
    "\n",
    "        surf_dm, sigma_dm, qobs_dm = dark_halo_mge(gamma, rbreak, lambda_int, zlens, zsource, plot)\n",
    "\n",
    "        stars_lum_re = mge_radial_mass(surf_lum, sigma_lum, qobs_lum, inc, reff)\n",
    "        dark_mass_re = mge_radial_mass(surf_dm, sigma_dm, qobs_dm, inc, reff)\n",
    "\n",
    "        # Find the scale factor needed to satisfy the following definition\n",
    "        # f_dm == dark_mass_re*scale/(stars_lum_re + dark_mass_re*scale)\n",
    "        scale = (f_dm*stars_lum_re)/(dark_mass_re*(1 - f_dm))\n",
    "\n",
    "        surf_pot = np.append(surf_lum, surf_dm*scale)   # Msun/pc**2. DM scaled so that f_DM(Re)=f_DM\n",
    "        sigma_pot = np.append(sigma_lum, sigma_dm)      # Gaussian dispersion in arcsec\n",
    "        qobs_pot = np.append(qobs_lum, qobs_dm)\n",
    "        \n",
    "        # Note: I multiply surf_pot by ml=10**lg_ml, while I set the keyword ml=1\n",
    "        # Both the stellar and dark matter increase by ml and f_dm is unchanged\n",
    "        surf_pot *= 10**lg_ml\n",
    "        \n",
    "        \n",
    "    elif model == 'power_law':\n",
    "        \n",
    "        gamma = gamma\n",
    "        theta_E = theta_E\n",
    "        rbreak = break_factor*reff # much bigger than data\n",
    "        \n",
    "        # take counts-weighted average of light profile q\n",
    "        ##### SHOULD THIS BE TAKEN FROM MY INTRINSIC FIT PRIOR INSTEAD??\n",
    "        q_mean = np.average(qobs_lum, weights=surf_lum)\n",
    "        \n",
    "        surf_pot, sigma_pot, qobs_pot = power_law_mge(gamma, theta_E, q_mean, rbreak, lambda_int, rs_mst, zlens, zsource, plot)\n",
    "        #plt.pause(1)\n",
    "        \n",
    "        if lg_ml is not None:\n",
    "            lum_re = mge_radial_mass(surf_lum, sigma_lum, qobs_lum, inc, reff)\n",
    "            mass_re = mge_radial_mass(surf_pot, sigma_pot, qobs_pot, inc, reff)\n",
    "\n",
    "            # scale so that mass to light ratio at effective radius is the mass to light ratio input\n",
    "            #print(mass_re/lum_re)\n",
    "            ml = 10**lg_ml\n",
    "            scale = lum_re/mass_re * ml\n",
    "            # Multiply the surface mass by the scale\n",
    "            surf_pot *= scale\n",
    "\n",
    "    return surf_pot, sigma_pot, qobs_pot\n",
    "\n",
    "\n",
    "########################################################################\n",
    "\n",
    "\n",
    "# create a function to transform by the MST\n",
    "\n",
    "def mass_sheet_transform (kappa, lambda_int, rbreak, rs_mst, zlens, zsource):\n",
    "    \n",
    "    '''\n",
    "    kappa is the convergence profile (surface mass density/critical surface density).\n",
    "    MST scales by lambda and adds the infinite sheet\n",
    "    kappa_s is the mass sheet\n",
    "    rs_mst is a \"turnover\" radius [0,1] (multiplicative factor of rbreak) where it goes to 0, so that it is physical.\n",
    "    kappa_s = theta_s**2 / (theta_E**2 + theta_s**2)\n",
    "    Figure 12 from Shajib2023 https://arxiv.org/pdf/2301.02656.pdf\n",
    "    '''\n",
    "    \n",
    "    # get kappa_s # radially dependent\n",
    "    n = 1000     # Number of values to sample the gNFW profile for the MGE fit\n",
    "    r = np.geomspace(0.01, rbreak, n)   # logarithmically spaced radii in arcsec\n",
    "    # take scale (core) radius to be fixed 50*reff (i.e. 1/2 break)\n",
    "    # 08/10/23 - going to change these by a factor rs_mst [0,1]\n",
    "    r_s = rbreak*rs_mst\n",
    "    kappa_s = r_s**2/(r**2 + r_s**2)\n",
    "    \n",
    "    # calculate surface mass density with mass sheet transform\n",
    "    mass_sheet = (1 - lambda_int) * kappa_s\n",
    "    kappa_int = lambda_int * kappa + mass_sheet\n",
    "    \n",
    "    return(kappa_int)\n",
    "\n",
    "\n",
    "########################################################################\n",
    "\n",
    "\n",
    "# function to get the priors if none are given\n",
    "\n",
    "def get_priors_and_labels (model, anisotropy, qobs, geometry, align, fast_slow, p0=None, bounds=None, sigpar=None, prior_type=None):\n",
    "    \n",
    "    ###### axisymmetric geometry\n",
    "    if geometry=='axi':\n",
    "        if prior_type==None:\n",
    "            prior_type=['uniform','uniform','uniform','uniform','uniform']  \n",
    "\n",
    "        # mass model labels\n",
    "        if model=='power_law':\n",
    "            label0 = r'$\\gamma$'\n",
    "        elif model=='nfw':\n",
    "            label0 = r\"$f_{\\rm DM}$\"\n",
    "\n",
    "        # The minimum observed axis ratio of MGE Gaussians cannot be smaller than the minimum deprojected (intrinsic) axis ratio [the latter of which is the value q that we are fitting]\n",
    "        qbound = np.min(qobs) # upper bound for axis ratio\n",
    "        bounds[1][1] = qbound  \n",
    "        # check if qobs is uniform, if so can use priors based on fast/slow\n",
    "        # skip this for now...\n",
    "        label1 =  r\"$q_{\\rm min}$\"\n",
    "        #if np.nanmin(qobs) == np.nanmax(qobs):\n",
    "        #    # if so, then q_min IS the intrinsic q\n",
    "        #    label1 = r\"$q_{\\rm intr}$\"\n",
    "        #    # get prior for fast or slow\n",
    "        #    if fast_slow == 'fast':\n",
    "        #        # make the prior a gaussian from Weijman 2014\n",
    "        #        p0[1] = 0.25\n",
    "        #        sigpar[1] = 0.14\n",
    "        #        prior_type[1]='gaussian'\n",
    "        #    elif fast_slow == 'slow':\n",
    "        #        # make the prior a gaussian from Li 2018\n",
    "        #        p0[1] = 0.74\n",
    "        #        sigpar[1] = 0.08\n",
    "        #        prior_type[1]='gaussian'  \n",
    "        #        # bound it lower by q_intr > 0.6\n",
    "        #        bounds[0][1] = 0.6\n",
    "        #else:\n",
    "        #    label1 =  r\"$q_{\\rm min}$\"\n",
    "\n",
    "        # anisotropy priors and labels\n",
    "        if (align == 'sph') & (anisotropy == 'const'):\n",
    "            bounds[1][2] = 2.0    # anisotropy of spherical can be up to 2.0\n",
    "            label2 = r\"$\\sigma_{\\theta}/\\sigma_r$\"\n",
    "        elif (align == 'cyl') & (anisotropy == 'const'): # 09/20/23 - I accidentally had is set to \"allign == 'sph'\", which means it wasn't letting the spherical be up to 2.0\n",
    "            bounds[1][2] = 1.0 # 08/09/23 - Chicago f2f this was a mistake ->>> 2.0    # anisotropy of cylindrical CANNOT be up to 2.0\n",
    "            label2 = r\"$\\sigma_z/\\sigma_R$\"\n",
    "        elif anisotropy == 'OM':\n",
    "            label2 = r\"$a_{ani}$\"\n",
    "\n",
    "        # einstein radius is universal across models\n",
    "        label3 = r\"$\\theta_E$\"\n",
    "\n",
    "        # lambda_int is universal across models\n",
    "        label4 = r'$\\lambda_{int}$'\n",
    "\n",
    "        labels = [label0, label1, label2, label3, label4]\n",
    "        \n",
    "    elif geometry=='sph':\n",
    "        if any(prior_type==None):\n",
    "            prior_type=['uniform','uniform','uniform','uniform']  \n",
    "\n",
    "        # mass model labels\n",
    "        if model=='power_law':\n",
    "            label0 = r'$\\gamma$'\n",
    "        elif model=='nfw':\n",
    "            label0 = r\"$f_{\\rm DM}$\"\n",
    "            \n",
    "        # parameter 1 is q, which is not here...\n",
    "\n",
    "        # anisotropy priors and labels\n",
    "        if (align == 'sph') & (anisotropy == 'const'):\n",
    "            bounds[1][1] = 2.0    # anisotropy of spherical can be up to 2.0\n",
    "            label2 = r\"$\\sigma_{\\theta}/\\sigma_r$\"\n",
    "        elif (align == 'cyl') & (anisotropy == 'const'): # 09/20/23 - I accidentally had is set to \"allign == 'sph'\", which means it wasn't letting the spherical be up to 2.0\n",
    "            bounds[1][1] = 1.0 # 08/09/23 - Chicago f2f this was a mistake ->>> 2.0    # anisotropy of cylindrical CANNOT be up to 2.0\n",
    "            label2 = r\"$\\sigma_z/\\sigma_R$\"\n",
    "        elif anisotropy == 'OM':\n",
    "            label2 = r\"$a_{ani}$\"\n",
    "\n",
    "        # einstein radius is universal across models\n",
    "        label3 = r\"$\\theta_E$\"\n",
    "\n",
    "        # lambda_int is universal across models\n",
    "        label4 = r'$\\lambda_{int}$'\n",
    "\n",
    "        labels = [label0, label2, label3, label4]        \n",
    "\n",
    "    return p0, bounds, sigpar, prior_type, labels\n",
    "\n",
    "\n",
    "########################################################################\n",
    "\n",
    "\n",
    "# funciton to create model directory\n",
    "\n",
    "def create_model_directory (target_jam_dir, obj_name, SN, \n",
    "                            model, anisotropy, geometry, align, \n",
    "                            sampler, lensprior, rs_mst,\n",
    "                            date_time=None, overwrite=False, run_id=None):\n",
    "    \n",
    "    model_name = f'{SN}_{model}_{anisotropy}_{geometry}_{align}_{lensprior}_{rs_mst}'\n",
    "    if date_time is None:\n",
    "        date_time = datetime.now().strftime(\"%Y_%m_%d\")#-%I_%M_%S_%p\")   \n",
    "    if run_id is None:\n",
    "        model_dir = f'{target_jam_dir}{obj_name}_model_{date_time}_{model_name}/'\n",
    "        if not os.path.exists(model_dir):\n",
    "            os.mkdir(model_dir)\n",
    "        else:\n",
    "            if overwrite==True:\n",
    "                print(f'Files in {model_dir} will be overwritten.')\n",
    "            else:\n",
    "                print('Do not overwrite your files dummy. Adding 1 to run_id to see if it works.')\n",
    "                # try run_id \n",
    "                run_id = 1\n",
    "                model_dir = f'{target_jam_dir}{obj_name}_model_{date_time}_v{run_id}_{model_name}/'\n",
    "                if not os.path.exists(model_dir):\n",
    "                    os.mkdir(model_dir)\n",
    "                else:\n",
    "                    print('Who let you do this?')\n",
    "                    #print(babaganoug) # bring error\n",
    "    else:\n",
    "        model_dir = f'{target_jam_dir}{obj_name}_model_{date_time}_v{run_id}_{model_name}/'\n",
    "        if not os.path.exists(model_dir):\n",
    "            os.mkdir(model_dir)\n",
    "        else:\n",
    "            if overwrite==True:\n",
    "                print(f'Files in {model_dir} will be overwritten.')\n",
    "            else:\n",
    "                print('Do not overwrite your files dummy. Adding 1 to run_id to see if it works.')\n",
    "                # try 1 run_id higher\n",
    "                run_id = run_id + 1\n",
    "                model_dir = f'{target_jam_dir}{obj_name}_model_{date_time}_v{run_id}_{model_name}/'\n",
    "                if not os.path.exists(model_dir):\n",
    "                    os.mkdir(model_dir)\n",
    "                else:\n",
    "                    print('Who let you do this?')\n",
    "                    #print(babaganoug)\n",
    "                    \n",
    "    return model_dir, model_name\n",
    "\n",
    "\n",
    "########################################################################\n",
    "\n",
    "\n",
    "def save_fit_parameters(model_dir, model_name, obj_name, date_time, \n",
    "                        bestfit, sig_bestfit, percentile, best_chi2,\n",
    "                        pars, lnprob, p0, sigpar, bounds, labels, \n",
    "                        surf_potential, rms_model, flux_model, kwargs):\n",
    "    \n",
    "    # I should save this as a pickle instead.\n",
    "                              \n",
    "    # save best fit parameter values\n",
    "    np.savetxt(f'{model_dir}{obj_name}_{date_time}_{model_name}_bestfit_parameters.txt', bestfit)\n",
    "    # save best fit parameter values percentiles\n",
    "    np.savetxt(f'{model_dir}{obj_name}_{date_time}_{model_name}_bestfit_parameters_percentile.txt', percentile)\n",
    "    # save best fit parameter values sigma error\n",
    "    np.savetxt(f'{model_dir}{obj_name}_{date_time}_{model_name}_bestfit_parameters_error.txt', sig_bestfit)\n",
    "    # save best fit chi2 value\n",
    "    np.savetxt(f'{model_dir}{obj_name}_{date_time}_{model_name}_bestfit_chi2.txt', np.array([best_chi2]))\n",
    "    # save fit parameters\n",
    "    np.savetxt(f'{model_dir}{obj_name}_{date_time}_{model_name}_parameters_fit.txt', pars)\n",
    "    # save likelihoods\n",
    "    np.savetxt(f'{model_dir}{obj_name}_{date_time}_{model_name}_likelihood.txt', lnprob) \n",
    "    # save initial parameters\n",
    "    np.savetxt(f'{model_dir}{obj_name}_{date_time}_{model_name}_initial_parameters.txt',p0)           \n",
    "    # save initial error estimates\n",
    "    np.savetxt(f'{model_dir}{obj_name}_{date_time}_{model_name}_initial_error_estimates.txt',sigpar)\n",
    "    # save bounds\n",
    "    np.savetxt(f'{model_dir}{obj_name}_{date_time}_{model_name}_bounds.txt', bounds)\n",
    "    # save labels\n",
    "    np.savetxt(f'{model_dir}{obj_name}_{date_time}_{model_name}_labels.txt', labels, fmt='%s')\n",
    "    # save surface potential\n",
    "    np.savetxt(f'{model_dir}{obj_name}_{date_time}_{model_name}_surf_potential.txt', surf_potential)\n",
    "    # save rms_model\n",
    "    np.savetxt(f'{model_dir}{obj_name}_{date_time}_{model_name}_rms_model.txt', rms_model)\n",
    "    # save flux_model\n",
    "    np.savetxt(f'{model_dir}{obj_name}_{date_time}_{model_name}_flux_model.txt', flux_model)\n",
    "    # create a binary pickle file \n",
    "    f = open(f\"{model_dir}{obj_name}_{date_time}_{model_name}_kwargs.pkl\",\"wb\")\n",
    "    # write the python object (dict) to pickle file\n",
    "    pickle.dump(kwargs,f)\n",
    "    # close file\n",
    "    f.close()\n",
    "\n",
    "\n",
    "########################################################################\n",
    "\n",
    "\n",
    "def space_jam (obj_name, SN, model, anisotropy, geometry, align, \n",
    "               sampler, sampler_args, rs_mst,\n",
    "               p0=None, bounds=None, sigpar=None, prior_type=None, lensprior=None, \n",
    "               date_time=None, overwrite=False, run_id=None):\n",
    "    \n",
    "    '''\n",
    "    obj_name and number steps to try it out. Start all with the same priors.\n",
    "    '''\n",
    "\n",
    "    obj_abbr = obj_name[4:9] # e.g. J0029\n",
    "    zlens = zlenses[slacs_ix_table['Name']==obj_name]\n",
    "    zsource = zsources[slacs_ix_table['Name']==obj_name]\n",
    "    distance = cosmo.angular_diameter_distance(zlens).value\n",
    "    fast_slow = paper_table[paper_table['obj_name']==obj_name]['lambda_R_class'].to_numpy()[0]\n",
    "\n",
    "    mos_dir = f'{mosaics_dir}{obj_name}/' # directory with all files of obj_name\n",
    "    kin_dir = f'{kinematics_dir}{obj_name}/'\n",
    "    jam_dir = f'{jam_output_dir}{obj_name}/'\n",
    "    # create a directory for JAM outputs\n",
    "    Path(jam_dir).mkdir(parents=True, exist_ok=True)\n",
    "    \n",
    "    if obj_abbr=='J0330':\n",
    "        target_kin_dir = f'{kin_dir}target_sn_{SN}/{obj_name}_{SN}_final_kinematics/no_g/'\n",
    "    else:\n",
    "        target_kin_dir = f'{kin_dir}target_sn_{SN}/{obj_name}_{SN}_marginalized_gnog_final_kinematics/'\n",
    "    target_jam_dir = f'{jam_dir}target_sn_{SN}/'\n",
    "    # create a directory for JAM outputs\n",
    "    Path(target_jam_dir).mkdir(parents=True, exist_ok=True)\n",
    "\n",
    "    # prepare inputs\n",
    "    surf, sigma, qobs, kcwi_sigmapsf, Vrms, dVrms, V, dV, xbin, ybin, reff = prepare_to_jam(obj_name, target_kin_dir, SN)\n",
    "    # Circularize MGEs if geometry is spherical\n",
    "    if geometry=='sph':\n",
    "        sigma, qobs = circularize_mge(sigma, qobs)\n",
    "                                                                                    \n",
    "    #############################################################\n",
    "    # JAM Parameters\n",
    "    ##############################################################################\n",
    "    ##############################################################################\n",
    "    \n",
    "    # get priors for sampling\n",
    "    p0, bounds, sigpar, prior_type, labels = get_priors_and_labels (model=model, anisotropy=anisotropy, qobs=qobs, geometry=geometry, align=align, fast_slow=fast_slow, \n",
    "                                                                     p0=p0, bounds=bounds, sigpar=sigpar, prior_type=prior_type)\n",
    "    \n",
    "    print('bounds in jam', bounds)\n",
    "    \n",
    "    goodbins = np.isfinite(xbin)  # Here I fit all bins, it's already masked\n",
    "\n",
    "    # These parameters are passed to JAM\n",
    "    kwargs = {'surf_lum': surf, 'sigma_lum': sigma, 'qobs_lum': qobs,\n",
    "              'distance': distance, 'xbin': xbin, 'ybin': ybin, 'sigmapsf': kcwi_sigmapsf,\n",
    "              'normpsf': 1., 'rms':Vrms, 'erms':dVrms, 'pixsize': kcwi_scale,\n",
    "              'goodbins': goodbins, 'plot': False, 'reff':reff, \n",
    "              'model':model, 'anisotropy':anisotropy, 'geometry':geometry, 'align':align,\n",
    "              'p0':p0, 'bounds':bounds, 'sigpar':sigpar, 'prior_type':prior_type, 'labels':labels,\n",
    "              'zlens':zlens, 'zsource':zsource, 'rs_mst':rs_mst,\n",
    "             }\n",
    "    \n",
    "    # make the model directory\n",
    "    model_dir, model_name = create_model_directory (target_jam_dir, obj_name, SN, \n",
    "                                                    model, anisotropy, geometry, align, \n",
    "                                                    sampler, lensprior, rs_mst,\n",
    "                                                    date_time, overwrite, run_id)       \n",
    "    print()\n",
    "    print('Outputs to ', model_dir)\n",
    "    print()\n",
    "\n",
    "    # For now, we have a single function that will work for const/om, and pl/nfw\n",
    "    jam_prob_func=jam_lnprob\n",
    "\n",
    "    if sampler=='adamet':\n",
    "        # Do the fit\n",
    "        print(\"Started AdaMet please wait...\")\n",
    "        print(\"Progress is printed periodically\")\n",
    "        nstep = sampler_args\n",
    "        pos0 = p0 + np.random.normal(0, sigpar, len(p0)) # initialize slightly off # Fix this later\n",
    "        pars, lnprob = adamet(jam_prob_func, pos0, sigpar, bounds, nstep, fignum=1,\n",
    "                              kwargs=kwargs, nprint=nstep/20, labels=labels, seed=2, plot=False)\n",
    "        \n",
    "    elif sampler=='emcee':\n",
    "        # Do the fit\n",
    "        print(\"Started Emcee please wait...\")\n",
    "        print(\"Progress is printed periodically\")\n",
    "        nstep, nwalkers, ndim = sampler_args\n",
    "        # set initial walker positions\n",
    "        walk0 = propose_initial_walkers (nwalkers, bounds, ndim, anisotropy)\n",
    "        sampler = emcee.EnsembleSampler(nwalkers, ndim, jam_prob_func, kwargs=kwargs)\n",
    "        sampler.run_mcmc(walk0, nstep, progress=True)\n",
    "        # save sampler as pickle\n",
    "        f = open(f\"{model_dir}{obj_name}_{date_time}_{model_name}_emcee_sampler.pkl\",\"wb\")\n",
    "        # write the python object (dict) to pickle file\n",
    "        pickle.dump(sampler,f)\n",
    "        # close file\n",
    "        f.close()\n",
    "        pars = sampler.get_chain(flat=True)\n",
    "        lnprob = sampler.get_log_prob(flat=True)\n",
    "        #fig = corner.corner(\n",
    "        #    pars, labels=labels\n",
    "        #);\n",
    "        #for i in range(ndim):\n",
    "        #    mcmc = np.percentile(pars[:, i], [16, 50, 84])\n",
    "        #    q = np.diff(mcmc)\n",
    "        #    txt = \"\\mathrm{{{3}}} = {0:.3f}_{{-{1:.3f}}}^{{{2:.3f}}}\"\n",
    "        #    txt = txt.format(mcmc[1], q[0], q[1], labels[i])\n",
    "        #    display(Math(txt))\n",
    "\n",
    "    print('n accepted unique parameters', len(np.unique(pars[:,0])))\n",
    "    \n",
    "    # plot the results, get rms_model and flux_model of best fit\n",
    "    surf_potential, rms_model, flux_model, \\\n",
    "        bestfit, percentiles, sig_bestfit, bestfit_chi2 = summary_plot(obj_name, date_time, model_dir, jam_prob_func, model_name,\n",
    "                                                                     pars=pars, lnprob=lnprob, labels=labels, bounds=bounds, \n",
    "                                                                     kwargs=kwargs, save=True, load=False)\n",
    "\n",
    "\n",
    "    # save parameters from fit\n",
    "    save_fit_parameters(model_dir, model_name, obj_name, date_time, bestfit, sig_bestfit, percentiles, bestfit_chi2, pars, lnprob, p0, sigpar, \n",
    "                        bounds, labels, surf_potential, rms_model, flux_model, kwargs)\n",
    "\n",
    "\n",
    "########################################################################\n",
    "\n",
    "\n",
    "def check_convergence(samples): # stolen from https://github.com/exoplanet-dev/exoplanet/blob/2e66605f3d51e4cc052759438657c41d646de446/paper/notebooks/scaling/scaling.py#L124\n",
    "    tau = emcee.autocorr.integrated_time(samples, tol=0)\n",
    "    num = samples.shape[0] * samples.shape[1]\n",
    "    converged = np.all(tau * 1 < num)\n",
    "    converged &= np.all(len(samples) > 50 * tau)\n",
    "    return converged, num / tau\n",
    "\n",
    "\n",
    "########################################################################\n",
    "\n",
    "\n",
    "# Write a function for the shape_anis_joint_prior\n",
    "\n",
    "def propose_initial_walkers (nwalkers, bounds, ndim, anisotropy):\n",
    "    \n",
    "    '''\n",
    "    Proposes the initial state of the walkers for the emcee in parameter space.\n",
    "    Allows the joint prior betweeen q_min_intr and anis_ratio to be introduced.\n",
    "    anis_ratio > R(q) = sqrt(0.3 + 0.7*q)\n",
    "    '''\n",
    "    \n",
    "    if anisotropy=='const':\n",
    "        # propose 5 times the number of walkers we need\n",
    "        propose_walk0 = np.random.uniform(bounds[0], bounds[1], [nwalkers*10,ndim])\n",
    "\n",
    "        # calculate the constraint\n",
    "        R0 = np.sqrt(0.3+0.7*propose_walk0[:,1])\n",
    "        keep = R0 < propose_walk0[:,2]\n",
    "\n",
    "        # shuffle and keep only nwalkers\n",
    "        keep_walk0 = propose_walk0[keep]\n",
    "        if len(keep_walk0) < nwalkers:\n",
    "        # propose a bunch more and add them\n",
    "            print('proposing additional')\n",
    "            print(len(keep_walk0))\n",
    "            propose_walk0 = np.random.uniform(bounds[0], bounds[1], [nwalkers*10,ndim])\n",
    "            # calculate the constraint\n",
    "            R0 = np.sqrt(0.3+0.7*propose_walk0[:,1])\n",
    "            keep = R0 < propose_walk0[:,2]\n",
    "            keep_walk0 = np.concatenate((keep_walk0, propose_walk0[keep]))\n",
    "        np.random.shuffle(keep_walk0)\n",
    "        walk0 = keep_walk0[:nwalkers]\n",
    "        \n",
    "    else: # osipkov-merritt\n",
    "        walk0 = np.random.uniform(bounds[0], bounds[1], [nwalkers,ndim])\n",
    "        \n",
    "    return walk0\n",
    "\n",
    "\n",
    "########################################################################\n",
    "\n",
    "# make a 2D gaussian\n",
    "\n",
    "def make_2d_gaussian_xy (x, y, surf_pot, sigma_pot, qobs_pot):\n",
    "    gauss = surf_pot * np.exp( - x**2 / (2 * sigma_pot**2 * qobs_pot**2) -  y**2 / (2 * sigma_pot**2))\n",
    "    return gauss\n",
    "\n",
    "########################################################################\n",
    "\n",
    "# define a function that will circularize the MGE\n",
    "\n",
    "def circularize_mge (sigma, qobs):\n",
    "    \n",
    "    sigma_circ = sigma*np.sqrt(qobs)\n",
    "    qobs_circ = np.ones_like(qobs)\n",
    "    \n",
    "    return sigma_circ, qobs_circ\n",
    "\n",
    "\n",
    "########################################################################\n",
    "########################################################################\n",
    "########################################################################\n",
    "\n"
   ]
  },
  {
   "cell_type": "markdown",
   "metadata": {},
   "source": [
    "# Start from here."
   ]
  },
  {
   "cell_type": "markdown",
   "metadata": {},
   "source": [
    "# The jam_model_dates.csv file will keep track of which date to pull the models from, in case I redo some but not all."
   ]
  },
  {
   "cell_type": "code",
   "execution_count": 5,
   "metadata": {},
   "outputs": [
    {
     "data": {
      "text/html": [
       "<div>\n",
       "<style scoped>\n",
       "    .dataframe tbody tr th:only-of-type {\n",
       "        vertical-align: middle;\n",
       "    }\n",
       "\n",
       "    .dataframe tbody tr th {\n",
       "        vertical-align: top;\n",
       "    }\n",
       "\n",
       "    .dataframe thead th {\n",
       "        text-align: right;\n",
       "    }\n",
       "</style>\n",
       "<table border=\"1\" class=\"dataframe\">\n",
       "  <thead>\n",
       "    <tr style=\"text-align: right;\">\n",
       "      <th></th>\n",
       "      <th>obj_name</th>\n",
       "      <th>OM_cyl</th>\n",
       "      <th>OM_sph</th>\n",
       "      <th>const_cyl</th>\n",
       "      <th>const_sph</th>\n",
       "    </tr>\n",
       "  </thead>\n",
       "  <tbody>\n",
       "    <tr>\n",
       "      <th>0</th>\n",
       "      <td>J0029</td>\n",
       "      <td>2023_09_15</td>\n",
       "      <td>2023_09_15</td>\n",
       "      <td>2023_09_11</td>\n",
       "      <td>2023_09_11</td>\n",
       "    </tr>\n",
       "    <tr>\n",
       "      <th>1</th>\n",
       "      <td>J0037</td>\n",
       "      <td>2023_09_15</td>\n",
       "      <td>2023_09_15</td>\n",
       "      <td>2023_09_11</td>\n",
       "      <td>2023_09_11</td>\n",
       "    </tr>\n",
       "    <tr>\n",
       "      <th>2</th>\n",
       "      <td>J0330</td>\n",
       "      <td>NaN</td>\n",
       "      <td>NaN</td>\n",
       "      <td>NaN</td>\n",
       "      <td>NaN</td>\n",
       "    </tr>\n",
       "    <tr>\n",
       "      <th>3</th>\n",
       "      <td>J1112</td>\n",
       "      <td>2023_09_15</td>\n",
       "      <td>2023_09_15</td>\n",
       "      <td>2023_09_11</td>\n",
       "      <td>2023_09_11</td>\n",
       "    </tr>\n",
       "    <tr>\n",
       "      <th>4</th>\n",
       "      <td>J1204</td>\n",
       "      <td>2023_09_15</td>\n",
       "      <td>2023_09_15</td>\n",
       "      <td>2023_09_11</td>\n",
       "      <td>2023_09_11</td>\n",
       "    </tr>\n",
       "    <tr>\n",
       "      <th>5</th>\n",
       "      <td>J1250</td>\n",
       "      <td>2023_09_15</td>\n",
       "      <td>2023_09_15</td>\n",
       "      <td>2023_09_15</td>\n",
       "      <td>2023_09_21</td>\n",
       "    </tr>\n",
       "    <tr>\n",
       "      <th>6</th>\n",
       "      <td>J1306</td>\n",
       "      <td>2023_09_15</td>\n",
       "      <td>2023_09_15</td>\n",
       "      <td>2023_09_15</td>\n",
       "      <td>2023_09_21</td>\n",
       "    </tr>\n",
       "    <tr>\n",
       "      <th>7</th>\n",
       "      <td>J1402</td>\n",
       "      <td>2023_09_15</td>\n",
       "      <td>2023_09_15</td>\n",
       "      <td>2023_09_15</td>\n",
       "      <td>2023_09_21</td>\n",
       "    </tr>\n",
       "    <tr>\n",
       "      <th>8</th>\n",
       "      <td>J1531</td>\n",
       "      <td>2023_09_15</td>\n",
       "      <td>2023_09_15</td>\n",
       "      <td>2023_09_15</td>\n",
       "      <td>2023_09_21</td>\n",
       "    </tr>\n",
       "    <tr>\n",
       "      <th>9</th>\n",
       "      <td>J1538</td>\n",
       "      <td>NaN</td>\n",
       "      <td>NaN</td>\n",
       "      <td>NaN</td>\n",
       "      <td>NaN</td>\n",
       "    </tr>\n",
       "    <tr>\n",
       "      <th>10</th>\n",
       "      <td>J1621</td>\n",
       "      <td>2023_09_15</td>\n",
       "      <td>2023_09_15</td>\n",
       "      <td>2023_09_15</td>\n",
       "      <td>2023_09_21</td>\n",
       "    </tr>\n",
       "    <tr>\n",
       "      <th>11</th>\n",
       "      <td>J1627</td>\n",
       "      <td>2023_09_15</td>\n",
       "      <td>2023_09_15</td>\n",
       "      <td>2023_09_15</td>\n",
       "      <td>2023_09_21</td>\n",
       "    </tr>\n",
       "    <tr>\n",
       "      <th>12</th>\n",
       "      <td>J1630</td>\n",
       "      <td>NaN</td>\n",
       "      <td>NaN</td>\n",
       "      <td>NaN</td>\n",
       "      <td>NaN</td>\n",
       "    </tr>\n",
       "    <tr>\n",
       "      <th>13</th>\n",
       "      <td>J2303</td>\n",
       "      <td>NaN</td>\n",
       "      <td>NaN</td>\n",
       "      <td>NaN</td>\n",
       "      <td>NaN</td>\n",
       "    </tr>\n",
       "  </tbody>\n",
       "</table>\n",
       "</div>"
      ],
      "text/plain": [
       "   obj_name      OM_cyl      OM_sph   const_cyl   const_sph\n",
       "0     J0029  2023_09_15  2023_09_15  2023_09_11  2023_09_11\n",
       "1     J0037  2023_09_15  2023_09_15  2023_09_11  2023_09_11\n",
       "2     J0330         NaN         NaN         NaN         NaN\n",
       "3     J1112  2023_09_15  2023_09_15  2023_09_11  2023_09_11\n",
       "4     J1204  2023_09_15  2023_09_15  2023_09_11  2023_09_11\n",
       "5     J1250  2023_09_15  2023_09_15  2023_09_15  2023_09_21\n",
       "6     J1306  2023_09_15  2023_09_15  2023_09_15  2023_09_21\n",
       "7     J1402  2023_09_15  2023_09_15  2023_09_15  2023_09_21\n",
       "8     J1531  2023_09_15  2023_09_15  2023_09_15  2023_09_21\n",
       "9     J1538         NaN         NaN         NaN         NaN\n",
       "10    J1621  2023_09_15  2023_09_15  2023_09_15  2023_09_21\n",
       "11    J1627  2023_09_15  2023_09_15  2023_09_15  2023_09_21\n",
       "12    J1630         NaN         NaN         NaN         NaN\n",
       "13    J2303         NaN         NaN         NaN         NaN"
      ]
     },
     "execution_count": 5,
     "metadata": {},
     "output_type": "execute_result"
    }
   ],
   "source": [
    "jam_model_dates = pd.read_csv(f'{tables_dir}jam_model_dates.csv')\n",
    "\n",
    "jam_model_dates"
   ]
  },
  {
   "cell_type": "code",
   "execution_count": 6,
   "metadata": {},
   "outputs": [],
   "source": [
    "#active_obj_names = np.array(obj_names)[~jam_model_dates['OM_cyl'].isna()]\n",
    "#active_obj_names"
   ]
  },
  {
   "cell_type": "markdown",
   "metadata": {},
   "source": [
    "# pull the correct directories from the model dates table\n",
    "\n",
    "model='*'\n",
    "run_id='*'\n",
    "sampler='*'#emcee'\n",
    "SN=15\n",
    "\n",
    "model_dirs = np.empty(0)\n",
    "model_obj_names = np.empty(0)\n",
    "\n",
    "for i, obj_name in enumerate(obj_names):\n",
    "    \n",
    "    ani_aligns = np.array(jam_model_dates.columns[1:])\n",
    "    \n",
    "    for j, ani_align in enumerate(ani_aligns):\n",
    "        date_time = jam_model_dates.loc[i, ani_align]\n",
    "        model_dir = np.array(glob.glob(f'{jam_output_dir}/**/**/*{obj_name}_model_{date_time}_v{run_id}_{model}_{ani_align}_{sampler}*'))\n",
    "        model_dirs = np.concatenate([model_dirs, model_dir])\n",
    "        \n",
    "        if model_dir:\n",
    "            model_obj_names = np.concatenate([model_obj_names, np.array([obj_name])])\n",
    "        \n",
    "model_dirs"
   ]
  },
  {
   "cell_type": "markdown",
   "metadata": {},
   "source": [
    "# 10/04/23 10:30 am - We want to look at the 10/03/23 models. Nothing else for the moment."
   ]
  },
  {
   "cell_type": "code",
   "execution_count": 7,
   "metadata": {},
   "outputs": [
    {
     "data": {
      "text/plain": [
       "array(['/data/raw_data/KECK_KCWI_SLACS_kinematics_shawn/jam_outputs/SDSSJ0029-0055/target_sn_15/SDSSJ0029-0055_model_2023_10_04_v1_15_power_law_const_axi_cyl_lensprior_0.3',\n",
       "       '/data/raw_data/KECK_KCWI_SLACS_kinematics_shawn/jam_outputs/SDSSJ0029-0055/target_sn_15/SDSSJ0029-0055_model_2023_10_04_v1_15_power_law_const_axi_sph_lensprior_0.3',\n",
       "       '/data/raw_data/KECK_KCWI_SLACS_kinematics_shawn/jam_outputs/SDSSJ0029-0055/target_sn_15/SDSSJ0029-0055_model_2023_10_04_v1_15_power_law_const_sph_sph_lensprior_0.3',\n",
       "       '/data/raw_data/KECK_KCWI_SLACS_kinematics_shawn/jam_outputs/SDSSJ0037-0942/target_sn_15/SDSSJ0037-0942_model_2023_10_04_v1_15_power_law_const_axi_cyl_lensprior_0.3',\n",
       "       '/data/raw_data/KECK_KCWI_SLACS_kinematics_shawn/jam_outputs/SDSSJ0037-0942/target_sn_15/SDSSJ0037-0942_model_2023_10_04_v1_15_power_law_const_axi_sph_lensprior_0.3',\n",
       "       '/data/raw_data/KECK_KCWI_SLACS_kinematics_shawn/jam_outputs/SDSSJ0037-0942/target_sn_15/SDSSJ0037-0942_model_2023_10_04_v1_15_power_law_const_sph_sph_lensprior_0.3',\n",
       "       '/data/raw_data/KECK_KCWI_SLACS_kinematics_shawn/jam_outputs/SDSSJ1112+0826/target_sn_15/SDSSJ1112+0826_model_2023_10_04_v1_15_power_law_const_axi_cyl_lensprior_0.3',\n",
       "       '/data/raw_data/KECK_KCWI_SLACS_kinematics_shawn/jam_outputs/SDSSJ1112+0826/target_sn_15/SDSSJ1112+0826_model_2023_10_04_v1_15_power_law_const_axi_sph_lensprior_0.3',\n",
       "       '/data/raw_data/KECK_KCWI_SLACS_kinematics_shawn/jam_outputs/SDSSJ1112+0826/target_sn_15/SDSSJ1112+0826_model_2023_10_04_v1_15_power_law_const_sph_sph_lensprior_0.3'],\n",
       "      dtype='<U163')"
      ]
     },
     "execution_count": 7,
     "metadata": {},
     "output_type": "execute_result"
    }
   ],
   "source": [
    "model_dirs = np.empty(0)\n",
    "model_obj_names = np.empty(0)\n",
    "\n",
    "model='*'\n",
    "run_id='*'\n",
    "sampler='*'#emcee'\n",
    "SN=15\n",
    "\n",
    "for i, obj_name in enumerate(obj_names):\n",
    "    \n",
    "    #ani_aligns = np.array(jam_model_dates.columns[1:])\n",
    "    \n",
    "#for j, ani_align in enumerate(ani_aligns):\n",
    "    date_time = '2023_10_04'#)jam_model_dates.loc[i, ani_align]\n",
    "    model_dir = np.array(glob.glob(f'{jam_output_dir}/**/**/*{obj_name}_model_{date_time}*'))\n",
    "    model_dirs = np.concatenate([model_dirs, model_dir])\n",
    "\n",
    "    for j in range(len(model_dir)):\n",
    "        model_obj_names = np.concatenate([model_obj_names, np.array([obj_name])])\n",
    "        \n",
    "model_dirs.sort()        \n",
    "model_dirs"
   ]
  },
  {
   "cell_type": "markdown",
   "metadata": {},
   "source": [
    "# Remove any empty directories from the list"
   ]
  },
  {
   "cell_type": "code",
   "execution_count": 8,
   "metadata": {},
   "outputs": [
    {
     "name": "stdout",
     "output_type": "stream",
     "text": [
      "This directory empty.\n",
      "n_15/SDSSJ1112+0826_model_2023_10_04_v1_15_power_law_const_sph_sph_lensprior_0.3\n",
      "\n",
      "['/data/raw_data/KECK_KCWI_SLACS_kinematics_shawn/jam_outputs/SDSSJ0029-0055/target_sn_15/SDSSJ0029-0055_model_2023_10_04_v1_15_power_law_const_axi_cyl_lensprior_0.3'\n",
      " '/data/raw_data/KECK_KCWI_SLACS_kinematics_shawn/jam_outputs/SDSSJ0029-0055/target_sn_15/SDSSJ0029-0055_model_2023_10_04_v1_15_power_law_const_axi_sph_lensprior_0.3'\n",
      " '/data/raw_data/KECK_KCWI_SLACS_kinematics_shawn/jam_outputs/SDSSJ0029-0055/target_sn_15/SDSSJ0029-0055_model_2023_10_04_v1_15_power_law_const_sph_sph_lensprior_0.3'\n",
      " '/data/raw_data/KECK_KCWI_SLACS_kinematics_shawn/jam_outputs/SDSSJ0037-0942/target_sn_15/SDSSJ0037-0942_model_2023_10_04_v1_15_power_law_const_axi_cyl_lensprior_0.3'\n",
      " '/data/raw_data/KECK_KCWI_SLACS_kinematics_shawn/jam_outputs/SDSSJ0037-0942/target_sn_15/SDSSJ0037-0942_model_2023_10_04_v1_15_power_law_const_axi_sph_lensprior_0.3'\n",
      " '/data/raw_data/KECK_KCWI_SLACS_kinematics_shawn/jam_outputs/SDSSJ0037-0942/target_sn_15/SDSSJ0037-0942_model_2023_10_04_v1_15_power_law_const_sph_sph_lensprior_0.3'\n",
      " '/data/raw_data/KECK_KCWI_SLACS_kinematics_shawn/jam_outputs/SDSSJ1112+0826/target_sn_15/SDSSJ1112+0826_model_2023_10_04_v1_15_power_law_const_axi_cyl_lensprior_0.3'\n",
      " '/data/raw_data/KECK_KCWI_SLACS_kinematics_shawn/jam_outputs/SDSSJ1112+0826/target_sn_15/SDSSJ1112+0826_model_2023_10_04_v1_15_power_law_const_axi_sph_lensprior_0.3']\n"
     ]
    }
   ],
   "source": [
    "not_empty = np.ones_like(model_dirs, dtype=bool)\n",
    "\n",
    "for i, model_dir in enumerate(model_dirs):\n",
    "    \n",
    "    if len(os.listdir(model_dir)) == 0:\n",
    "        \n",
    "        not_empty[i] = 0\n",
    "        print('This directory empty.')\n",
    "        print(model_dir[-80:])\n",
    "        \n",
    "model_dirs = model_dirs[not_empty]\n",
    "model_obj_names = model_obj_names[not_empty]\n",
    "print()\n",
    "print(model_dirs)"
   ]
  },
  {
   "cell_type": "code",
   "execution_count": 9,
   "metadata": {},
   "outputs": [],
   "source": [
    "# arrays to store\n",
    "nsamples = 300*16\n",
    "\n",
    "all_samples = np.ones((model_dirs.shape[0], nsamples, 5))\n",
    "all_lnprobs = np.ones((model_dirs.shape[0], nsamples))\n",
    "bestfits = np.ones((model_dirs.shape[0], 5))\n",
    "errs = np.ones_like(bestfits)\n",
    "chi2s = np.ones(model_dirs.shape[0])\n",
    "medians = np.ones_like(bestfits)\n",
    "rms_models = np.ones_like(model_dirs, dtype=object)\n",
    "flux_models = np.ones_like(model_dirs, dtype=object)\n",
    "kwargs_list = np.ones_like(model_dirs, dtype=object)\n"
   ]
  },
  {
   "cell_type": "code",
   "execution_count": 10,
   "metadata": {},
   "outputs": [
    {
     "name": "stdout",
     "output_type": "stream",
     "text": [
      "SDSSJ0029-0055_model_2023_10_04_v1_15_power_law_const_axi_cyl_lensprior_0.3\n",
      "median values:  [2.19726183 0.68940048 0.9021335  0.95965711 1.03662151]\n",
      "chi2:  232.187027116573\n",
      "12.5 % complete\n",
      "SDSSJ0029-0055_model_2023_10_04_v1_15_power_law_const_axi_sph_lensprior_0.3\n",
      "median values:  [2.26218788 0.74227789 1.16215687 0.95837292 1.05356253]\n",
      "chi2:  290.8448223194832\n",
      "25.0 % complete\n",
      "SDSSJ0029-0055_model_2023_10_04_v1_15_power_law_const_sph_sph_lensprior_0.3\n"
     ]
    },
    {
     "name": "stderr",
     "output_type": "stream",
     "text": [
      "/home/shawnknabel/.local/lib/python3.7/site-packages/numpy/lib/nanfunctions.py:997: RuntimeWarning: All-NaN slice encountered\n",
      "  result = np.apply_along_axis(_nanmedian1d, axis, a, overwrite_input)\n"
     ]
    },
    {
     "name": "stdout",
     "output_type": "stream",
     "text": [
      "median values:  [1.97402501        nan 0.79058414 0.95162393 1.12658061]\n",
      "chi2:  143.83124982131002\n",
      "37.5 % complete\n",
      "SDSSJ0037-0942_model_2023_10_04_v1_15_power_law_const_axi_cyl_lensprior_0.3\n",
      "median values:  [2.12058585 0.67046131 0.91702561 1.56600382 1.1491443 ]\n",
      "chi2:  555.0958442795612\n",
      "50.0 % complete\n",
      "SDSSJ0037-0942_model_2023_10_04_v1_15_power_law_const_axi_sph_lensprior_0.3\n",
      "median values:  [2.23472507 0.67217126 1.34890632 1.5540059  1.17561469]\n",
      "chi2:  608.9868388450251\n",
      "62.5 % complete\n",
      "SDSSJ0037-0942_model_2023_10_04_v1_15_power_law_const_sph_sph_lensprior_0.3\n",
      "median values:  [1.90806442        nan 0.81736988 1.49183571 1.20994627]\n",
      "chi2:  272.45925324091075\n",
      "75.0 % complete\n",
      "SDSSJ1112+0826_model_2023_10_04_v1_15_power_law_const_axi_cyl_lensprior_0.3\n",
      "median values:  [1.99558876 0.59744344 0.90405952 1.49743755 1.12119038]\n",
      "chi2:  15.40836406744468\n",
      "87.5 % complete\n",
      "SDSSJ1112+0826_model_2023_10_04_v1_15_power_law_const_axi_sph_lensprior_0.3\n",
      "median values:  [2.13477913 0.69725808 1.33301102 1.49967865 1.05544211]\n",
      "chi2:  30.367828581181257\n",
      "100.0 % complete\n"
     ]
    }
   ],
   "source": [
    "show_convergence=False\n",
    "\n",
    "qual_flag=np.ones_like(chi2s)\n",
    "\n",
    "for i, model_dir in enumerate(model_dirs):\n",
    "    \n",
    "    print(model_dir[-75:])\n",
    "        \n",
    "    try:\n",
    "        bestfit, err, pars, lnprob, lnprob_best, chi2_best, bounds, rms_model, flux_model, kwargs \\\n",
    "            = get_best_param_err('', SN=None, model=None, anisotropy=None, align=None, model_dir=model_dir, date_time=date_time, run_id=run_id)\n",
    "    except:\n",
    "        print('something weird')\n",
    "        print((i+1)/len(model_dirs)*100, \"% complete\")\n",
    "        qual_flag[i]=0\n",
    "        continue\n",
    "    \n",
    "    if len(pars) != all_samples.shape[1]: # should be 4800\n",
    "        print('This was one of the trial models, not finished yet.')\n",
    "        print((i+1)/len(model_dirs)*100, \"% complete\")\n",
    "        qual_flag[i]=0\n",
    "        continue\n",
    "        \n",
    "    if pars.shape[1]==4:\n",
    "        # add a nan column to pars for q just so it registers\n",
    "        nans = np.empty(len(pars))\n",
    "        nans[:] = np.nan\n",
    "        pars = np.insert(pars, 1, nans, 1)\n",
    "        # add a nan value to bestfits, and errs\n",
    "        bestfit = np.insert(bestfit, 1, np.nan)\n",
    "        err = np.insert(err, 1, np.nan)\n",
    "\n",
    "    median = np.nanmedian(pars[np.isfinite(lnprob)], axis=0)\n",
    "    print('median values: ', median)\n",
    "    print('chi2: ', chi2_best)\n",
    "    \n",
    "    a=range(len(pars))\n",
    "    \n",
    "    if show_convergence:\n",
    "        fig, ax = plt.subplots(2, 1, figsize=(16,4))\n",
    "        ax[0].plot(a[::10], pars[::10,3], linewidth=1, c='k')\n",
    "        ax[1].plot(a[::10], lnprob[::10], linewidth=1, c='r')\n",
    "        plt.pause(1)\n",
    "\n",
    "        plt.figure(figsize=(16,4))\n",
    "        plt.scatter(a[:16], pars[:16,3], linewidth=1, c='k')\n",
    "        plt.pause(1)\n",
    "    \n",
    "    all_samples[i] = pars\n",
    "    all_lnprobs[i] = lnprob\n",
    "    bestfits[i] = bestfit\n",
    "    errs[i] = err\n",
    "    chi2s[i] = chi2_best\n",
    "    medians[i] = median\n",
    "    rms_models[i] = rms_model\n",
    "    flux_models[i] = flux_model\n",
    "    kwargs_list[i] = kwargs\n",
    "       \n",
    "    print((i+1)/len(model_dirs)*100, \"% complete\")\n"
   ]
  },
  {
   "cell_type": "code",
   "execution_count": 11,
   "metadata": {},
   "outputs": [
    {
     "data": {
      "text/plain": [
       "array([1., 1., 1., 1., 1., 1., 1., 1.])"
      ]
     },
     "execution_count": 11,
     "metadata": {},
     "output_type": "execute_result"
    }
   ],
   "source": [
    "qual_flag"
   ]
  },
  {
   "cell_type": "markdown",
   "metadata": {},
   "source": [
    "# keep only the ones with finite probabilities"
   ]
  },
  {
   "cell_type": "code",
   "execution_count": 12,
   "metadata": {},
   "outputs": [],
   "source": [
    "finite = np.isfinite(all_lnprobs)\n",
    "\n",
    "samples = np.zeros_like(all_samples)\n",
    "samples[finite] = all_samples[finite]\n",
    "samples[samples==0]='nan'\n",
    "\n",
    "lnprobs = np.zeros_like(all_lnprobs)\n",
    "lnprobs[finite] = all_lnprobs[finite]\n",
    "lnprobs[lnprobs==0]='nan'\n",
    "\n"
   ]
  },
  {
   "cell_type": "code",
   "execution_count": 13,
   "metadata": {},
   "outputs": [],
   "source": [
    "# remove the ones with issues\n",
    "samples = samples[qual_flag==1]\n",
    "lnprobs = lnprobs[qual_flag==1]\n",
    "bestfits = bestfits[qual_flag==1]\n",
    "errs = errs[qual_flag==1]\n",
    "chi2s = chi2s[qual_flag==1]\n",
    "medians = medians[qual_flag==1]\n",
    "rms_models = rms_models[qual_flag==1]\n",
    "flux_models = flux_models[qual_flag==1]\n",
    "kwargs_list = kwargs_list[qual_flag==1]\n",
    "model_dirs = model_dirs[qual_flag==1]\n",
    "model_obj_names = model_obj_names[qual_flag==1]"
   ]
  },
  {
   "cell_type": "code",
   "execution_count": 14,
   "metadata": {},
   "outputs": [
    {
     "data": {
      "text/plain": [
       "(8, 4800, 5)"
      ]
     },
     "execution_count": 14,
     "metadata": {},
     "output_type": "execute_result"
    }
   ],
   "source": [
    "samples.shape"
   ]
  },
  {
   "cell_type": "code",
   "execution_count": 15,
   "metadata": {},
   "outputs": [
    {
     "data": {
      "text/plain": [
       "array([ 90,  90,  90, 160, 160, 160,  27,  27])"
      ]
     },
     "execution_count": 15,
     "metadata": {},
     "output_type": "execute_result"
    }
   ],
   "source": [
    "# degrees of freedom\n",
    "dofs = np.zeros_like(model_dirs)\n",
    "for i in range(len(dofs)):\n",
    "    dof = rms_models[i].shape[0] - samples.shape[2] # degrees of freedom are approx # of data points minus number of fit parameters\n",
    "    dofs[i] = dof\n",
    "    \n",
    "dofs = dofs.astype(int)\n",
    "\n",
    "dofs"
   ]
  },
  {
   "cell_type": "markdown",
   "metadata": {},
   "source": [
    "# 10/04/23 1:30 pm - Trying to find a way to use shape priors...\n",
    "# Solving the equation $\\sum_k \\sqrt{\\frac{q_{k,obs}^2 - x}{1 - x}} w_k = \\overline{q_{intr}}$\n"
   ]
  },
  {
   "cell_type": "code",
   "execution_count": 18,
   "metadata": {},
   "outputs": [],
   "source": [
    "plt.rcParams.update({'font.size': 16})"
   ]
  },
  {
   "cell_type": "code",
   "execution_count": 21,
   "metadata": {},
   "outputs": [],
   "source": [
    "\n",
    "surf = kwargs_list[0]['surf_lum']\n",
    "sigma = kwargs_list[0]['sigma_lum']\n",
    "qobs = kwargs_list[0]['qobs_lum']\n",
    "lums = 2 * np.pi * surf * sigma**2 * qobs\n",
    "weights = lums / np.sum(lums)\n",
    "xx = np.linspace(0, np.min(qobs)**2, 1000)\n",
    "\n",
    "yy = np.zeros(1000)\n",
    "\n",
    "for i, x in enumerate(xx):\n",
    "    y = np.sum( np.sqrt( (qobs**2 - x)/(1 - x) ) * weights)\n",
    "    #plt.scatter(x, y)\n",
    "    yy[i] = y\n",
    "    "
   ]
  },
  {
   "cell_type": "code",
   "execution_count": 22,
   "metadata": {},
   "outputs": [],
   "source": [
    "qintr_min = np.sqrt( (np.min(qobs)**2 - xx) / (1 - xx) )"
   ]
  },
  {
   "cell_type": "code",
   "execution_count": 23,
   "metadata": {},
   "outputs": [
    {
     "data": {
      "text/plain": [
       "<matplotlib.legend.Legend at 0x7fda3a66c668>"
      ]
     },
     "execution_count": 23,
     "metadata": {},
     "output_type": "execute_result"
    },
    {
     "data": {
      "image/png": "[encoded data removed]",
      "text/plain": [
       "<Figure size 576x432 with 1 Axes>"
      ]
     },
     "metadata": {
      "needs_background": "light"
     },
     "output_type": "display_data"
    }
   ],
   "source": [
    "plt.figure(figsize=(8,6))\n",
    "#plt.plot(180/np.pi*np.arccos(np.sqrt(xx)), yy, c='k', label=r'$\\overline{q_{intr}}$')\n",
    "#plt.plot(180/np.pi*np.arccos(np.sqrt(xx)), qintr_min, c='k', linestyle='--', label=r'$\\overline{q_{intr}^{min}}$')\n",
    "plt.plot(xx, yy, c='k', label=r'$\\overline{q_{intr}}$')\n",
    "plt.plot(xx, qintr_min, c='k', linestyle='--', label=r'$\\overline{q_{intr}^{min}}$')\n",
    "plt.axhline(np.sum(qobs*weights), c='r', linestyle='-', label=r'$\\overline{q_{obs}}$')\n",
    "plt.axhline(np.min(qobs), c='r', linestyle='--', label=r'$q_{obs}^{min}$')\n",
    "#plt.xlabel(r'i [deg]')\n",
    "plt.xlabel(r'$cos^2(i)$')\n",
    "plt.ylabel(r'$q_{intr}$', rotation=0, ha='right')\n",
    "plt.legend()"
   ]
  },
  {
   "cell_type": "code",
   "execution_count": 25,
   "metadata": {},
   "outputs": [
    {
     "name": "stderr",
     "output_type": "stream",
     "text": [
      "/usr/local/anaconda3/lib/python3.7/site-packages/ipykernel_launcher.py:10: RuntimeWarning: invalid value encountered in sqrt\n",
      "  # Remove the CWD from sys.path while we load stuff.\n",
      "/usr/local/anaconda3/lib/python3.7/site-packages/scipy/optimize/minpack.py:163: RuntimeWarning: The iteration is not making good progress, as measured by the \n",
      "  improvement from the last ten iterations.\n",
      "  warnings.warn(msg, RuntimeWarning)\n"
     ]
    }
   ],
   "source": [
    "q_intr_bound_lo = np.sum( np.sqrt( (qobs**2 - np.min(qobs)**2)/(1 - np.min(qobs)**2) ) * weights)\n",
    "q_intr_bound_hi = np.sum( qobs * weights )\n",
    "\n",
    "q_intrs = np.linspace(q_intr_bound_lo, q_intr_bound_hi, 1000)\n",
    "\n",
    "inclinations = np.zeros(1000)\n",
    "\n",
    "for i, q in enumerate(q_intrs):\n",
    "    \n",
    "    f = lambda x: np.sum( np.sqrt( (qobs**2 - x)/(1 - x) ) * weights) - q\n",
    "    \n",
    "    xx = fsolve(f, 0.9999*np.min(qobs)**2)\n",
    "    #inc = 180/np.pi*np.arccos(np.sqrt(xx))\n",
    "    inclinations[i] = xx\n",
    "    #inclinations[i] = inc"
   ]
  },
  {
   "cell_type": "code",
   "execution_count": 26,
   "metadata": {},
   "outputs": [
    {
     "data": {
      "text/plain": [
       "<matplotlib.lines.Line2D at 0x7fda39fe5898>"
      ]
     },
     "execution_count": 26,
     "metadata": {},
     "output_type": "execute_result"
    },
    {
     "data": {
      "image/png": "[encoded data removed]",
      "text/plain": [
       "<Figure size 576x432 with 1 Axes>"
      ]
     },
     "metadata": {
      "needs_background": "light"
     },
     "output_type": "display_data"
    }
   ],
   "source": [
    "plt.figure(figsize=(8,6))\n",
    "plt.plot(q_intrs, inclinations)\n",
    "plt.axhline(np.min(qobs)**2, linestyle='--')"
   ]
  },
  {
   "cell_type": "markdown",
   "metadata": {},
   "source": [
    "# Okay let's put this together."
   ]
  },
  {
   "cell_type": "code",
   "execution_count": 27,
   "metadata": {},
   "outputs": [
    {
     "data": {
      "text/plain": [
       "array([0.04154785, 0.03544701, 0.06569691, 0.11704491, 0.13558019,\n",
       "       0.1791138 , 0.42556932])"
      ]
     },
     "execution_count": 27,
     "metadata": {},
     "output_type": "execute_result"
    }
   ],
   "source": [
    "weights"
   ]
  },
  {
   "cell_type": "code",
   "execution_count": 28,
   "metadata": {},
   "outputs": [],
   "source": [
    "def calculate_inclination_and_q_intr_bounds (surf_lum, sigma_lum, qobs_lum):\n",
    "    \n",
    "    qobs=qobs_lum\n",
    "    \n",
    "    # weights from luminosities of MGEs\n",
    "    lums = 2 * np.pi * surf_lum * sigma_lum**2 * qobs\n",
    "    weights = lums / np.sum(lums)\n",
    "    \n",
    "    # get bounds for calculation from 2D MGEs\n",
    "    x_bound_lo = 0\n",
    "    x_bound_hi = np.min(qobs)**2\n",
    "    q_intr_bound_lo = np.sum( np.sqrt( (qobs**2 - np.min(qobs)**2)/(1 - np.min(qobs)**2) ) * weights)\n",
    "    q_intr_bound_hi = np.sum( qobs * weights )\n",
    "    \n",
    "    return x_bound_lo, x_bound_hi, q_intr_bound_lo, q_intr_bound_hi\n",
    "\n",
    "def calculate_inclination_from_q_intr (bounds, qobs, q_intr):\n",
    "    \n",
    "    x_bound_lo, x_bound_hi, q_intr_bound_lo, q_intr_bound_hi = bounds\n",
    "    \n",
    "    f = lambda x: np.sum( np.sqrt( (qobs**2 - x)/(1 - x) ) * weights) - q_intr\n",
    "    \n",
    "    xx = fsolve(f, 0.9999*x_bound_hi)[0]\n",
    "    \n",
    "    inclination = 180/np.pi*np.arccos(np.sqrt(xx))\n",
    "    \n",
    "    return inclination"
   ]
  },
  {
   "cell_type": "code",
   "execution_count": 29,
   "metadata": {},
   "outputs": [
    {
     "name": "stderr",
     "output_type": "stream",
     "text": [
      "/usr/local/anaconda3/lib/python3.7/site-packages/ipykernel_launcher.py:21: RuntimeWarning: invalid value encountered in sqrt\n",
      "/usr/local/anaconda3/lib/python3.7/site-packages/scipy/optimize/minpack.py:163: RuntimeWarning: The iteration is not making good progress, as measured by the \n",
      "  improvement from the last ten iterations.\n",
      "  warnings.warn(msg, RuntimeWarning)\n"
     ]
    },
    {
     "data": {
      "text/plain": [
       "40.60584106539364"
      ]
     },
     "execution_count": 29,
     "metadata": {},
     "output_type": "execute_result"
    }
   ],
   "source": [
    "bounds =  np.array(calculate_inclination_and_q_intr_bounds (surf, sigma, qobs))\n",
    "calculate_inclination_from_q_intr(bounds, qobs, 0.4)"
   ]
  },
  {
   "cell_type": "code",
   "execution_count": 30,
   "metadata": {},
   "outputs": [],
   "source": [
    "#if fast_slow == 'fast':\n",
    "        #        # make the prior a gaussian from Weijman 2014\n",
    "        #        p0[1] = 0.25\n",
    "        #        sigpar[1] = 0.14\n",
    "        #        prior_type[1]='gaussian'\n",
    "        #    elif fast_slow == 'slow':\n",
    "        #        # make the prior a gaussian from Li 2018\n",
    "        #        p0[1] = 0.74\n",
    "        #        sigpar[1] = 0.08\n",
    "        #        prior_type[1]='gaussian'  \n",
    "        #        # bound it lower by q_intr > 0.6\n",
    "        #        bounds[0][1] = 0.6"
   ]
  },
  {
   "cell_type": "code",
   "execution_count": 31,
   "metadata": {},
   "outputs": [],
   "source": [
    "import scipy.stats as stats"
   ]
  },
  {
   "cell_type": "code",
   "execution_count": 32,
   "metadata": {},
   "outputs": [],
   "source": [
    "#q_intrs = np.random.normal(0.74, 0.08, 1000)\n",
    "#inclinations = np.zeros(1000)\n",
    "\n",
    "bounds =  np.array(calculate_inclination_and_q_intr_bounds (surf, sigma, qobs))\n",
    "\n",
    "lower, upper = bounds[2], bounds[3]\n",
    "mu, sig = 0.74, 0.08\n",
    "X = stats.truncnorm(\n",
    "    (lower - mu) / sig, (upper - mu) / sig, loc=mu, scale=sig)\n",
    "q_intrs = X.rvs(1000)\n",
    "\n",
    "for i, q_intr in enumerate(q_intrs):\n",
    "    \n",
    "    inclination = calculate_inclination_from_q_intr(bounds, qobs, q_intr)\n",
    "    inclinations[i] = inclination\n",
    "    \n"
   ]
  },
  {
   "cell_type": "code",
   "execution_count": 33,
   "metadata": {},
   "outputs": [
    {
     "data": {
      "text/plain": [
       "<matplotlib.legend.Legend at 0x7fda39f21978>"
      ]
     },
     "execution_count": 33,
     "metadata": {},
     "output_type": "execute_result"
    },
    {
     "data": {
      "image/png": "[encoded data removed]",
      "text/plain": [
       "<Figure size 576x432 with 1 Axes>"
      ]
     },
     "metadata": {
      "needs_background": "light"
     },
     "output_type": "display_data"
    }
   ],
   "source": [
    "plt.figure(figsize=(8,6))\n",
    "plt.scatter(q_intrs, inclinations, c='k', label=r'$\\overline{q_{intr}}$ from Gaussian prior')\n",
    "plt.axhline(180/np.pi*np.arccos(np.sqrt(bounds[1])), c='r', linestyle='--', label=r'$i_{min}$')\n",
    "#plt.axvline(np.min(qobs), color='k', c='r', linestyle='--', label=r'$q_{obs}^{min}$')\n",
    "plt.xlim(bounds[2], bounds[3])\n",
    "plt.ylabel(r'i [deg]')\n",
    "#plt.xlabel(r'$cos^2(i)$')\n",
    "plt.xlabel(r'$q_{intr}$', rotation=0, ha='right')\n",
    "plt.legend(loc='upper left')"
   ]
  },
  {
   "cell_type": "code",
   "execution_count": 34,
   "metadata": {},
   "outputs": [
    {
     "data": {
      "text/plain": [
       "array([0.        , 0.57644982, 0.51464915, 0.8327698 ])"
      ]
     },
     "execution_count": 34,
     "metadata": {},
     "output_type": "execute_result"
    }
   ],
   "source": [
    "bounds"
   ]
  },
  {
   "cell_type": "code",
   "execution_count": 35,
   "metadata": {},
   "outputs": [
    {
     "data": {
      "text/plain": [
       "(0.5146491471294484, 0.832769801977757)"
      ]
     },
     "execution_count": 35,
     "metadata": {},
     "output_type": "execute_result"
    },
    {
     "data": {
      "image/png": "[encoded data removed]",
      "text/plain": [
       "<Figure size 432x288 with 1 Axes>"
      ]
     },
     "metadata": {
      "needs_background": "light"
     },
     "output_type": "display_data"
    }
   ],
   "source": [
    "Rs = np.sqrt(0.3+0.7*q_intrs)\n",
    "\n",
    "plt.plot(q_intrs, Rs)\n",
    "plt.xlim(bounds[2],bounds[3])\n"
   ]
  },
  {
   "cell_type": "code",
   "execution_count": 36,
   "metadata": {},
   "outputs": [],
   "source": [
    "ks = np.random.uniform(0, 1, 1000)"
   ]
  },
  {
   "cell_type": "code",
   "execution_count": 37,
   "metadata": {},
   "outputs": [],
   "source": [
    "ratios = Rs + (1 - Rs) * ks"
   ]
  },
  {
   "cell_type": "code",
   "execution_count": 38,
   "metadata": {},
   "outputs": [],
   "source": [
    "qs_line = np.linspace(bounds[2], bounds[3], 1000)\n",
    "Rs_line = np.sqrt(0.3 + 0.7 * qs_line)"
   ]
  },
  {
   "cell_type": "code",
   "execution_count": 39,
   "metadata": {},
   "outputs": [
    {
     "data": {
      "text/plain": [
       "Text(0.5, 1.0, 'JAM$_{axi}^{cyl}$')"
      ]
     },
     "execution_count": 39,
     "metadata": {},
     "output_type": "execute_result"
    },
    {
     "data": {
      "image/png": "[encoded data removed]",
      "text/plain": [
       "<Figure size 576x432 with 1 Axes>"
      ]
     },
     "metadata": {
      "needs_background": "light"
     },
     "output_type": "display_data"
    }
   ],
   "source": [
    "plt.figure(figsize=(8,6))\n",
    "plt.scatter(q_intrs, ratios, label='Samples')\n",
    "plt.plot(qs_line, Rs_line, c='k', markersize=1, label='R(q)', linestyle='--')\n",
    "plt.ylabel(r'$\\sigma_{z}/\\sigma_R$')\n",
    "plt.xlabel(r'$q_{intr}$', rotation=0, ha='right')\n",
    "plt.xlim(bounds[2],bounds[3])\n",
    "plt.legend()\n",
    "plt.title(r'JAM$_{axi}^{cyl}$')"
   ]
  },
  {
   "cell_type": "code",
   "execution_count": 40,
   "metadata": {},
   "outputs": [
    {
     "data": {
      "text/plain": [
       "Text(0.5, 1.0, 'JAM$_{axi}^{sph}$')"
      ]
     },
     "execution_count": 40,
     "metadata": {},
     "output_type": "execute_result"
    },
    {
     "data": {
      "image/png": "[encoded data removed]",
      "text/plain": [
       "<Figure size 576x432 with 1 Axes>"
      ]
     },
     "metadata": {
      "needs_background": "light"
     },
     "output_type": "display_data"
    }
   ],
   "source": [
    "ratios_sph = Rs + (2 - Rs) * ks\n",
    "\n",
    "plt.figure(figsize=(8,6))\n",
    "plt.scatter(q_intrs, ratios_sph, label='Samples')\n",
    "plt.plot(qs_line, Rs_line, c='k', markersize=1, label='R(q)', linestyle='--')\n",
    "plt.ylabel(r'$\\sigma_{\\theta}/\\sigma_r$')\n",
    "plt.xlabel(r'$q_{intr}$', rotation=0, ha='right')\n",
    "plt.xlim(bounds[2],bounds[3])\n",
    "plt.legend()\n",
    "plt.title(r'JAM$_{axi}^{sph}$')"
   ]
  },
  {
   "cell_type": "code",
   "execution_count": 41,
   "metadata": {},
   "outputs": [
    {
     "data": {
      "text/plain": [
       "Text(0.5, 1.0, 'JAM$_{axi}^{cyl}$')"
      ]
     },
     "execution_count": 41,
     "metadata": {},
     "output_type": "execute_result"
    },
    {
     "data": {
      "image/png": "[encoded data removed]",
      "text/plain": [
       "<Figure size 432x288 with 1 Axes>"
      ]
     },
     "metadata": {
      "needs_background": "light"
     },
     "output_type": "display_data"
    }
   ],
   "source": [
    "plt.hist(ratios)\n",
    "plt.xlabel(r'$\\sigma_{z}/\\sigma_R$')\n",
    "\n",
    "plt.title(r'JAM$_{axi}^{cyl}$')"
   ]
  },
  {
   "cell_type": "code",
   "execution_count": 42,
   "metadata": {},
   "outputs": [
    {
     "data": {
      "text/plain": [
       "Text(0.5, 1.0, 'JAM$_{axi}^{sph}$')"
      ]
     },
     "execution_count": 42,
     "metadata": {},
     "output_type": "execute_result"
    },
    {
     "data": {
      "image/png": "[encoded data removed]",
      "text/plain": [
       "<Figure size 432x288 with 1 Axes>"
      ]
     },
     "metadata": {
      "needs_background": "light"
     },
     "output_type": "display_data"
    }
   ],
   "source": [
    "plt.hist(ratios_sph)\n",
    "plt.xlabel(r'$\\sigma_{\\theta}/\\sigma_r$')\n",
    "plt.title(r'JAM$_{axi}^{sph}$')"
   ]
  },
  {
   "cell_type": "markdown",
   "metadata": {},
   "source": [
    "___________________________"
   ]
  },
  {
   "cell_type": "markdown",
   "metadata": {},
   "source": [
    "# Question: Michele has taken the intrinsic shape within the effective radius. Do I need to change the way I calculate the intrinsic shape, since I am using MGEs that extend well past that?"
   ]
  },
  {
   "cell_type": "code",
   "execution_count": 45,
   "metadata": {},
   "outputs": [
    {
     "data": {
      "text/plain": [
       "<matplotlib.collections.PathCollection at 0x7fd9f1f1b710>"
      ]
     },
     "execution_count": 45,
     "metadata": {},
     "output_type": "execute_result"
    },
    {
     "data": {
      "image/png": "[encoded data removed]",
      "text/plain": [
       "<Figure size 432x288 with 1 Axes>"
      ]
     },
     "metadata": {
      "needs_background": "light"
     },
     "output_type": "display_data"
    }
   ],
   "source": [
    "plt.scatter(sigma, weights)"
   ]
  },
  {
   "cell_type": "code",
   "execution_count": 46,
   "metadata": {},
   "outputs": [],
   "source": [
    "# Dammit"
   ]
  },
  {
   "cell_type": "code",
   "execution_count": 49,
   "metadata": {},
   "outputs": [
    {
     "name": "stdout",
     "output_type": "stream",
     "text": [
      "Help on function mge_half_light_isophote in module jampy.mge_half_light_isophote:\n",
      "\n",
      "mge_half_light_isophote(surf, sigma, q_obs, distance=1e-05)\n",
      "    PURPOSE\n",
      "    -------\n",
      "    \n",
      "        Computes the half-light radius, the  major axis and ellipticity of\n",
      "        the MGE isophote containing 1/2 of the analytic MGE total light.\n",
      "    \n",
      "        This procedure implements the steps (i)-(iv) described above\n",
      "        equation (12) in `Cappellari et al. (2013, MNRAS, 432, 1709)\n",
      "        <https://ui.adsabs.harvard.edu/abs/2013MNRAS.432.1709C>`_\n",
      "    \n",
      "    CALLING SEQUENCE\n",
      "    ----------------\n",
      "    \n",
      "    .. code-block:: python\n",
      "    \n",
      "        from jampy.mge_half_light_isophote import mge_half_light_isophote\n",
      "    \n",
      "        reff, reff_maj, eps_e, lum_tot = mge_half_light_isophote(\n",
      "                surf, sigma, q_obs, distance=distance)\n",
      "    \n",
      "    INPUT PARAMETERS\n",
      "    ----------------\n",
      "    \n",
      "    surf:\n",
      "        Peak surface brightness of each Gaussian in Lsun/pc**2\n",
      "    sigma:\n",
      "        Gaussian dispersion in arcsec\n",
      "    q_obs: \n",
      "        Observed axial ratio of each Gaussian\n",
      "    \n",
      "    OPTIONAL KEYWORD\n",
      "    ----------------\n",
      "    \n",
      "    distance:\n",
      "        Galaxy distance in Mpc. This is only required to obtain\n",
      "        the total luminosity of the MGE model in proper units.\n",
      "    \n",
      "        If the distance is not given, 10pc is assumed. In this case the\n",
      "        following expression gives the galaxy apparent total magnitude:\n",
      "        ``mag = sunMag - 2.5*alog10(lum_tot)``\n",
      "    \n",
      "    OUTPUTS\n",
      "    -------\n",
      "    \n",
      "    reff:\n",
      "        Effective (projected half-light) radius Re. This is the\n",
      "        \"circularized\" Re=sqrt(Area/pi), where the area is the one\n",
      "        of the isophote containing 1/2 of the analytic total MGE light.\n",
      "        This is in the same units as SIGMA (typically arcsec).\n",
      "    reff_maj:\n",
      "        Major axis (largest size) of the isophote containing\n",
      "        1/2 of the total MGE light.\n",
      "    eps_e:\n",
      "        Ellipticity of the isophote containing 1/2 of the total MGE\n",
      "        light, computed from the inertia tensor within the isophote.\n",
      "    lum_tot:\n",
      "        Analytic total luminosity in solar luminosities if the\n",
      "        optional distance in Mpc is provided.\n",
      "\n"
     ]
    }
   ],
   "source": [
    "help(mge_half_light_isophote)#(surf, sigma, qobs)"
   ]
  },
  {
   "cell_type": "code",
   "execution_count": 51,
   "metadata": {},
   "outputs": [],
   "source": [
    "reff, reff_maj, eps, lum_tot = mge_half_light_isophote(surf, sigma, qobs)"
   ]
  },
  {
   "cell_type": "code",
   "execution_count": 52,
   "metadata": {},
   "outputs": [
    {
     "data": {
      "text/plain": [
       "0.8329137611066642"
      ]
     },
     "execution_count": 52,
     "metadata": {},
     "output_type": "execute_result"
    }
   ],
   "source": [
    "1-eps"
   ]
  },
  {
   "cell_type": "code",
   "execution_count": 53,
   "metadata": {},
   "outputs": [
    {
     "data": {
      "text/plain": [
       "0.832769801977757"
      ]
     },
     "execution_count": 53,
     "metadata": {},
     "output_type": "execute_result"
    }
   ],
   "source": [
    "q_intr_bound_hi"
   ]
  },
  {
   "cell_type": "code",
   "execution_count": 59,
   "metadata": {},
   "outputs": [],
   "source": [
    "# Well actually that is ludicrously close to what I have... What about the other galaxies"
   ]
  },
  {
   "cell_type": "code",
   "execution_count": 71,
   "metadata": {},
   "outputs": [],
   "source": [
    "surf = kwargs_list[3]['surf_lum']\n",
    "sigma = kwargs_list[3]['sigma_lum']\n",
    "qobs = kwargs_list[3]['qobs_lum']"
   ]
  },
  {
   "cell_type": "code",
   "execution_count": 72,
   "metadata": {},
   "outputs": [
    {
     "data": {
      "text/plain": [
       "0.7031865187979719"
      ]
     },
     "execution_count": 72,
     "metadata": {},
     "output_type": "execute_result"
    }
   ],
   "source": [
    "reff, reff_maj, eps, lum_tot = mge_half_light_isophote(surf, sigma, qobs)\n",
    "1-eps\n"
   ]
  },
  {
   "cell_type": "code",
   "execution_count": 73,
   "metadata": {},
   "outputs": [
    {
     "data": {
      "text/plain": [
       "(0, 0.48999999999999994, 0.2576772523593839, 0.7475133376752084)"
      ]
     },
     "execution_count": 73,
     "metadata": {},
     "output_type": "execute_result"
    }
   ],
   "source": [
    "calculate_inclination_and_q_intr_bounds(surf,sigma,qobs)"
   ]
  },
  {
   "cell_type": "code",
   "execution_count": 74,
   "metadata": {},
   "outputs": [],
   "source": [
    "surf = kwargs_list[6]['surf_lum']\n",
    "sigma = kwargs_list[6]['sigma_lum']\n",
    "qobs = kwargs_list[6]['qobs_lum']"
   ]
  },
  {
   "cell_type": "code",
   "execution_count": 75,
   "metadata": {},
   "outputs": [
    {
     "data": {
      "text/plain": [
       "0.7509448604381085"
      ]
     },
     "execution_count": 75,
     "metadata": {},
     "output_type": "execute_result"
    }
   ],
   "source": [
    "reff, reff_maj, eps, lum_tot = mge_half_light_isophote(surf, sigma, qobs)\n",
    "1-eps\n"
   ]
  },
  {
   "cell_type": "code",
   "execution_count": 76,
   "metadata": {},
   "outputs": [
    {
     "data": {
      "text/plain": [
       "(0, 0.5625, 0.03847716511503177, 0.7516122915638724)"
      ]
     },
     "execution_count": 76,
     "metadata": {},
     "output_type": "execute_result"
    }
   ],
   "source": [
    "calculate_inclination_and_q_intr_bounds(surf,sigma,qobs)"
   ]
  },
  {
   "cell_type": "markdown",
   "metadata": {},
   "source": [
    "# Okay, what if I deproject the MGEs, reproject to a different inclination, and then try to measure the observed effective ellipticity again?"
   ]
  },
  {
   "cell_type": "code",
   "execution_count": 85,
   "metadata": {},
   "outputs": [
    {
     "name": "stdout",
     "output_type": "stream",
     "text": [
      "[0.71686044 0.71686044 0.71686044 0.71686044 0.71686044 0.71686044\n",
      " 0.72388065 0.71686044]\n"
     ]
    }
   ],
   "source": [
    "x = 0.1\n",
    "q_intr = np.sqrt( (qobs**2 -x)/(1 - x) )\n",
    "print(q_intr)"
   ]
  },
  {
   "cell_type": "code",
   "execution_count": 86,
   "metadata": {},
   "outputs": [],
   "source": [
    "x_new = 0.6\n",
    "\n",
    "q_obs_new = np.sqrt( q_intr**2 * (1 - x_new) + x_new )"
   ]
  },
  {
   "cell_type": "code",
   "execution_count": 87,
   "metadata": {},
   "outputs": [
    {
     "data": {
      "text/plain": [
       "array([0.89752747, 0.89752747, 0.89752747, 0.89752747, 0.89752747,\n",
       "       0.89752747, 0.89977846, 0.89752747])"
      ]
     },
     "execution_count": 87,
     "metadata": {},
     "output_type": "execute_result"
    }
   ],
   "source": [
    "q_obs_new"
   ]
  },
  {
   "cell_type": "code",
   "execution_count": 88,
   "metadata": {},
   "outputs": [
    {
     "data": {
      "text/plain": [
       "0.897714510679562"
      ]
     },
     "execution_count": 88,
     "metadata": {},
     "output_type": "execute_result"
    }
   ],
   "source": [
    "reff, reff_maj, eps, lum_tot = mge_half_light_isophote(surf, sigma, q_obs_new)\n",
    "1-eps\n"
   ]
  },
  {
   "cell_type": "code",
   "execution_count": 89,
   "metadata": {},
   "outputs": [
    {
     "data": {
      "text/plain": [
       "0.7177901052453944"
      ]
     },
     "execution_count": 89,
     "metadata": {},
     "output_type": "execute_result"
    }
   ],
   "source": [
    "reff, reff_maj, eps, lum_tot = mge_half_light_isophote(surf, sigma, q_intr)\n",
    "1-eps\n"
   ]
  },
  {
   "cell_type": "code",
   "execution_count": 144,
   "metadata": {},
   "outputs": [
    {
     "data": {
      "text/plain": [
       "0.7177168692227726"
      ]
     },
     "execution_count": 144,
     "metadata": {},
     "output_type": "execute_result"
    }
   ],
   "source": [
    "q_intr_proposed = 0.7177901052453944\n",
    "\n",
    "reff, reff_maj, eps, lum_tot = mge_half_light_isophote(surf, sigma, qobs)\n",
    "q_obs_eff = 1-eps\n",
    "\n",
    "\n",
    "f = lambda x: np.sqrt( (q_obs_eff**2 -x)/(1 - x) ) - q_intr_proposed\n",
    "    \n",
    "xx = fsolve(f, 0.5)[0]\n",
    "\n",
    "q_intrs = np.sqrt( (qobs**2 - xx)/(1 - xx))\n",
    "\n",
    "reff, reff_maj, eps, lum_tot = mge_half_light_isophote(surf, sigma, q_intrs)\n",
    "1-eps"
   ]
  },
  {
   "cell_type": "code",
   "execution_count": 96,
   "metadata": {},
   "outputs": [
    {
     "name": "stdout",
     "output_type": "stream",
     "text": [
      "0.1004493026383767\n"
     ]
    }
   ],
   "source": [
    "print(xx)"
   ]
  },
  {
   "cell_type": "code",
   "execution_count": 98,
   "metadata": {},
   "outputs": [
    {
     "name": "stdout",
     "output_type": "stream",
     "text": [
      "69.47163069940575\n"
     ]
    }
   ],
   "source": [
    "print(180/np.pi * np.sqrt(np.arccos(xx)))"
   ]
  },
  {
   "cell_type": "code",
   "execution_count": 95,
   "metadata": {},
   "outputs": [],
   "source": [
    "# Okay, I see, the effective intrinsic shape is the shape of the isophote that would contain half the total light when viewed edge-on."
   ]
  },
  {
   "cell_type": "code",
   "execution_count": 99,
   "metadata": {},
   "outputs": [
    {
     "data": {
      "text/plain": [
       "array([0.71669107, 0.71669107, 0.71669107, 0.71669107, 0.71669107,\n",
       "       0.71669107, 0.72371641, 0.71669107])"
      ]
     },
     "execution_count": 99,
     "metadata": {},
     "output_type": "execute_result"
    }
   ],
   "source": [
    "q_intrs"
   ]
  },
  {
   "cell_type": "code",
   "execution_count": 115,
   "metadata": {},
   "outputs": [
    {
     "data": {
      "text/plain": [
       "(0, 0.56249994375, 0.14451703237812485, 0.7509448604381085)"
      ]
     },
     "execution_count": 115,
     "metadata": {},
     "output_type": "execute_result"
    }
   ],
   "source": [
    "# Getting lower bound on q_intr_eff is where x = qobs_min**2\n",
    "\n",
    "def get_bounds_x_and_q_intr_eff (surf, sigma, qobs):\n",
    "    \n",
    "    x_bound_hi = 0.9999999*np.min(qobs)**2\n",
    "    x_bound_lo = 0\n",
    "    \n",
    "    # intrinsic shape bounds\n",
    "    reff, reff_maj, eps, lum_tot = mge_half_light_isophote(surf, sigma, qobs)\n",
    "    q_intr_eff_bound_hi = 1-eps\n",
    "    q_intrs_bound_lo = np.sqrt( (qobs**2 - x_bound_hi)/(1 - x_bound_hi))\n",
    "    reff, reff_maj, eps, lum_tot = mge_half_light_isophote(surf, sigma, q_intrs_bound_lo)\n",
    "    q_intr_eff_bound_lo = 1-eps\n",
    "    \n",
    "    return x_bound_lo, x_bound_hi, q_intr_eff_bound_lo, q_intr_eff_bound_hi\n",
    "\n",
    "get_bounds_x_and_q_intr_eff(surf, sigma, qobs)"
   ]
  },
  {
   "cell_type": "code",
   "execution_count": 116,
   "metadata": {},
   "outputs": [
    {
     "data": {
      "text/plain": [
       "(0, 0.5625, 0.03847716511503177, 0.7516122915638724)"
      ]
     },
     "execution_count": 116,
     "metadata": {},
     "output_type": "execute_result"
    }
   ],
   "source": [
    "calculate_inclination_and_q_intr_bounds(surf, sigma, qobs)"
   ]
  },
  {
   "cell_type": "markdown",
   "metadata": {},
   "source": [
    "# Okay, this can work."
   ]
  },
  {
   "cell_type": "code",
   "execution_count": 145,
   "metadata": {},
   "outputs": [],
   "source": [
    "def calculate_inclination_from_q_intr_eff (bounds, surf, sigma, qobs, q_intr):\n",
    "    \n",
    "    reff, reff_maj, eps, lum_tot = mge_half_light_isophote(surf, sigma, qobs)\n",
    "    q_obs_eff = 1-eps\n",
    "\n",
    "    f = lambda x: np.sqrt( (q_obs_eff**2 -x)/(1 - x) ) - q_intr\n",
    "    \n",
    "    xx = fsolve(f, 0.999999*bounds[1])[0]\n",
    "\n",
    "    #q_intrs = np.sqrt( (qobs**2 - xx)/(1 - xx))\n",
    "\n",
    "    #reff, reff_maj, eps, lum_tot = mge_half_light_isophote(surf, sigma, q_intrs)\n",
    "    #1-eps\n",
    "    \n",
    "    inclination = 180/np.pi*np.arccos(np.sqrt(xx))\n",
    "    \n",
    "    return inclination"
   ]
  },
  {
   "cell_type": "code",
   "execution_count": 149,
   "metadata": {},
   "outputs": [
    {
     "data": {
      "text/plain": [
       "52.63850010454453"
      ]
     },
     "execution_count": 149,
     "metadata": {},
     "output_type": "execute_result"
    }
   ],
   "source": [
    "surf = kwargs_list[0]['surf_lum']\n",
    "sigma = kwargs_list[0]['sigma_lum']\n",
    "qobs = kwargs_list[0]['qobs_lum']\n",
    "\n",
    "bounds = get_bounds_x_and_q_intr_eff(surf, sigma, qobs)\n",
    "calculate_inclination_from_q_intr_eff(bounds, surf, sigma, qobs, q_intr_proposed)"
   ]
  },
  {
   "cell_type": "code",
   "execution_count": 153,
   "metadata": {},
   "outputs": [],
   "source": [
    "inclinations_eff = np.zeros(1000)\n",
    "inclinations_avg = np.zeros(1000)"
   ]
  },
  {
   "cell_type": "code",
   "execution_count": 190,
   "metadata": {},
   "outputs": [],
   "source": [
    "lower, upper = bounds[2], bounds[3]\n",
    "mu, sig = 0.74, 0.08\n",
    "X = stats.truncnorm(\n",
    "    (lower - mu) / sig, (upper - mu) / sig, loc=mu, scale=sig)\n",
    "q_intrs = X.rvs(1000)\n",
    "\n",
    "q_intrs_uniform = np.linspace(lower, upper, 1000)\n",
    "\n",
    "for i, q_intr in enumerate(q_intrs):\n",
    "    \n",
    "    inclination_eff = calculate_inclination_from_q_intr_eff(bounds, surf, sigma, qobs, q_intr)\n",
    "    inclinations_eff[i] = inclination_eff\n",
    "    \n",
    "    inclination_avg = calculate_inclination_from_q_intr(bounds, qobs, q_intr)\n",
    "    inclinations_avg[i] = inclination_avg\n",
    "    "
   ]
  },
  {
   "cell_type": "code",
   "execution_count": 191,
   "metadata": {},
   "outputs": [
    {
     "data": {
      "text/plain": [
       "<matplotlib.legend.Legend at 0x7fd9ef3465c0>"
      ]
     },
     "execution_count": 191,
     "metadata": {},
     "output_type": "execute_result"
    },
    {
     "data": {
      "image/png": "[encoded data removed]",
      "text/plain": [
       "<Figure size 576x432 with 1 Axes>"
      ]
     },
     "metadata": {
      "needs_background": "light"
     },
     "output_type": "display_data"
    }
   ],
   "source": [
    "plt.figure(figsize=(8,6))\n",
    "plt.scatter(q_intrs, inclinations_eff, c='b', label=r'${q_{intr,eff}}$ from Gaussian prior')\n",
    "plt.scatter(q_intrs, inclinations_avg, c='k', label=r'$\\overline{q_{intr}}$ from Gaussian prior')\n",
    "plt.axhline(180/np.pi*np.arccos(np.sqrt(bounds[1])), c='r', linestyle='--', label=r'$i_{min}$')\n",
    "#plt.axvline(np.min(qobs), color='k', c='r', linestyle='--', label=r'$q_{obs}^{min}$')\n",
    "plt.xlim(bounds[2], bounds[3])\n",
    "plt.ylabel(r'i [deg]')\n",
    "#plt.xlabel(r'$cos^2(i)$')\n",
    "plt.xlabel(r'$q_{intr}$', rotation=0, ha='right')\n",
    "plt.legend(loc='upper left')"
   ]
  },
  {
   "cell_type": "code",
   "execution_count": 195,
   "metadata": {},
   "outputs": [
    {
     "name": "stderr",
     "output_type": "stream",
     "text": [
      "No artists with labels found to put in legend.  Note that artists whose label start with an underscore are ignored when legend() is called with no argument.\n"
     ]
    },
    {
     "data": {
      "text/plain": [
       "<matplotlib.legend.Legend at 0x7fd9eef34e10>"
      ]
     },
     "execution_count": 195,
     "metadata": {},
     "output_type": "execute_result"
    },
    {
     "data": {
      "image/png": "[encoded data removed]",
      "text/plain": [
       "<Figure size 576x576 with 1 Axes>"
      ]
     },
     "metadata": {
      "needs_background": "light"
     },
     "output_type": "display_data"
    }
   ],
   "source": [
    "plt.figure(figsize=(8,8))\n",
    "plt.scatter(inclinations_avg, inclinations_eff, c='b')\n",
    "plt.plot(np.linspace(0, 90, 1000), np.linspace(0, 90, 1000), c='k', linestyle='--')\n",
    "\n",
    "#plt.scatter(q_intrs, inclinations_avg, c='k', label=r'$\\overline{q_{intr}}$ from Gaussian prior')\n",
    "#plt.axhline(180/np.pi*np.arccos(np.sqrt(bounds[1])), c='r', linestyle='--', label=r'$i_{min}$')\n",
    "#plt.axvline(np.min(qobs), color='k', c='r', linestyle='--', label=r'$q_{obs}^{min}$')\n",
    "plt.xlim(180/np.pi*np.sqrt(np.arccos(lower)), 90)\n",
    "plt.ylim(180/np.pi*np.sqrt(np.arccos(lower)), 90)\n",
    "plt.ylabel(r'i from isophote')\n",
    "#plt.xlabel(r'$cos^2(i)$')\n",
    "plt.xlabel(r'i from avg', rotation=0, ha='right')\n",
    "plt.legend(loc='upper left')"
   ]
  },
  {
   "cell_type": "code",
   "execution_count": null,
   "metadata": {},
   "outputs": [],
   "source": [
    "q_intrs_uniform = np.linspace(lower, upper, 1000)\n",
    "\n",
    "for i, q_intr in enumerate(q_intrs):\n",
    "    \n",
    "    inclination_eff = calculate_inclination_from_q_intr_eff(bounds, surf, sigma, qobs, q_intr)\n",
    "    inclinations_eff[i] = inclination_eff\n",
    "    \n",
    "    inclination_avg = calculate_inclination_from_q_intr(bounds, qobs, q_intr)\n",
    "    inclinations_avg[i] = inclination_avg\n",
    "    "
   ]
  },
  {
   "cell_type": "code",
   "execution_count": null,
   "metadata": {},
   "outputs": [],
   "source": []
  },
  {
   "cell_type": "code",
   "execution_count": null,
   "metadata": {},
   "outputs": [],
   "source": []
  },
  {
   "cell_type": "code",
   "execution_count": null,
   "metadata": {},
   "outputs": [],
   "source": []
  },
  {
   "cell_type": "code",
   "execution_count": 196,
   "metadata": {},
   "outputs": [
    {
     "data": {
      "text/plain": [
       "(0.530387721172158, 0.8329137611066642)"
      ]
     },
     "execution_count": 196,
     "metadata": {},
     "output_type": "execute_result"
    },
    {
     "data": {
      "image/png": "[encoded data removed]",
      "text/plain": [
       "<Figure size 432x288 with 1 Axes>"
      ]
     },
     "metadata": {
      "needs_background": "light"
     },
     "output_type": "display_data"
    }
   ],
   "source": [
    "Rs = np.sqrt(0.3+0.7*q_intrs)\n",
    "\n",
    "plt.plot(q_intrs, Rs)\n",
    "plt.xlim(bounds[2],bounds[3])\n"
   ]
  },
  {
   "cell_type": "code",
   "execution_count": 197,
   "metadata": {},
   "outputs": [],
   "source": [
    "ks = np.random.uniform(0, 1, 1000)"
   ]
  },
  {
   "cell_type": "code",
   "execution_count": 198,
   "metadata": {},
   "outputs": [],
   "source": [
    "ratios = Rs + (1 - Rs) * ks"
   ]
  },
  {
   "cell_type": "code",
   "execution_count": 199,
   "metadata": {},
   "outputs": [],
   "source": [
    "qs_line = np.linspace(bounds[2], bounds[3], 1000)\n",
    "Rs_line = np.sqrt(0.3 + 0.7 * qs_line)"
   ]
  },
  {
   "cell_type": "code",
   "execution_count": 200,
   "metadata": {},
   "outputs": [
    {
     "data": {
      "text/plain": [
       "Text(0.5, 1.0, 'JAM$_{axi}^{cyl}$')"
      ]
     },
     "execution_count": 200,
     "metadata": {},
     "output_type": "execute_result"
    },
    {
     "data": {
      "image/png": "[encoded data removed]",
      "text/plain": [
       "<Figure size 576x432 with 1 Axes>"
      ]
     },
     "metadata": {
      "needs_background": "light"
     },
     "output_type": "display_data"
    }
   ],
   "source": [
    "plt.figure(figsize=(8,6))\n",
    "plt.scatter(q_intrs, ratios, label='Samples')\n",
    "plt.plot(qs_line, Rs_line, c='k', markersize=1, label='R(q)', linestyle='--')\n",
    "plt.ylabel(r'$\\sigma_{z}/\\sigma_R$')\n",
    "plt.xlabel(r'$q_{intr}$', rotation=0, ha='right')\n",
    "plt.xlim(bounds[2],bounds[3])\n",
    "plt.legend()\n",
    "plt.title(r'JAM$_{axi}^{cyl}$')"
   ]
  },
  {
   "cell_type": "code",
   "execution_count": 201,
   "metadata": {},
   "outputs": [
    {
     "data": {
      "text/plain": [
       "Text(0.5, 1.0, 'JAM$_{axi}^{sph}$')"
      ]
     },
     "execution_count": 201,
     "metadata": {},
     "output_type": "execute_result"
    },
    {
     "data": {
      "image/png": "[encoded data removed]",
      "text/plain": [
       "<Figure size 576x432 with 1 Axes>"
      ]
     },
     "metadata": {
      "needs_background": "light"
     },
     "output_type": "display_data"
    }
   ],
   "source": [
    "ratios_sph = Rs + (2 - Rs) * ks\n",
    "\n",
    "plt.figure(figsize=(8,6))\n",
    "plt.scatter(q_intrs, ratios_sph, label='Samples')\n",
    "plt.plot(qs_line, Rs_line, c='k', markersize=1, label='R(q)', linestyle='--')\n",
    "plt.ylabel(r'$\\sigma_{\\theta}/\\sigma_r$')\n",
    "plt.xlabel(r'$q_{intr}$', rotation=0, ha='right')\n",
    "plt.xlim(bounds[2],bounds[3])\n",
    "plt.legend()\n",
    "plt.title(r'JAM$_{axi}^{sph}$')"
   ]
  },
  {
   "cell_type": "code",
   "execution_count": 202,
   "metadata": {},
   "outputs": [
    {
     "data": {
      "text/plain": [
       "Text(0.5, 1.0, 'JAM$_{axi}^{cyl}$')"
      ]
     },
     "execution_count": 202,
     "metadata": {},
     "output_type": "execute_result"
    },
    {
     "data": {
      "image/png": "[encoded data removed]",
      "text/plain": [
       "<Figure size 432x288 with 1 Axes>"
      ]
     },
     "metadata": {
      "needs_background": "light"
     },
     "output_type": "display_data"
    }
   ],
   "source": [
    "plt.hist(ratios)\n",
    "plt.xlabel(r'$\\sigma_{z}/\\sigma_R$')\n",
    "\n",
    "plt.title(r'JAM$_{axi}^{cyl}$')"
   ]
  },
  {
   "cell_type": "code",
   "execution_count": 203,
   "metadata": {},
   "outputs": [
    {
     "data": {
      "text/plain": [
       "Text(0.5, 1.0, 'JAM$_{axi}^{sph}$')"
      ]
     },
     "execution_count": 203,
     "metadata": {},
     "output_type": "execute_result"
    },
    {
     "data": {
      "image/png": "[encoded data removed]",
      "text/plain": [
       "<Figure size 432x288 with 1 Axes>"
      ]
     },
     "metadata": {
      "needs_background": "light"
     },
     "output_type": "display_data"
    }
   ],
   "source": [
    "plt.hist(ratios_sph)\n",
    "plt.xlabel(r'$\\sigma_{\\theta}/\\sigma_r$')\n",
    "plt.title(r'JAM$_{axi}^{sph}$')"
   ]
  },
  {
   "cell_type": "code",
   "execution_count": null,
   "metadata": {},
   "outputs": [],
   "source": []
  },
  {
   "cell_type": "code",
   "execution_count": null,
   "metadata": {},
   "outputs": [],
   "source": []
  },
  {
   "cell_type": "code",
   "execution_count": 110,
   "metadata": {},
   "outputs": [
    {
     "data": {
      "text/plain": [
       "0.5625"
      ]
     },
     "execution_count": 110,
     "metadata": {},
     "output_type": "execute_result"
    }
   ],
   "source": [
    "np.min(qobs)**2"
   ]
  },
  {
   "cell_type": "code",
   "execution_count": null,
   "metadata": {},
   "outputs": [],
   "source": [
    "q_intrs_bound_lo = np.sqrt( (qobs**2 - x_bound_hi)/(1 - x_bound_hi))"
   ]
  },
  {
   "cell_type": "markdown",
   "metadata": {},
   "source": [
    "__________________\n",
    "__________________\n",
    "\n",
    "# BREAK\n",
    "__________________\n",
    "__________________"
   ]
  },
  {
   "cell_type": "code",
   "execution_count": null,
   "metadata": {},
   "outputs": [],
   "source": []
  }
 ],
 "metadata": {
  "kernelspec": {
   "display_name": "Python 3",
   "language": "python",
   "name": "python3"
  },
  "language_info": {
   "codemirror_mode": {
    "name": "ipython",
    "version": 3
   },
   "file_extension": ".py",
   "mimetype": "text/x-python",
   "name": "python",
   "nbconvert_exporter": "python",
   "pygments_lexer": "ipython3",
   "version": "3.7.0"
  }
 },
 "nbformat": 4,
 "nbformat_minor": 5
}
