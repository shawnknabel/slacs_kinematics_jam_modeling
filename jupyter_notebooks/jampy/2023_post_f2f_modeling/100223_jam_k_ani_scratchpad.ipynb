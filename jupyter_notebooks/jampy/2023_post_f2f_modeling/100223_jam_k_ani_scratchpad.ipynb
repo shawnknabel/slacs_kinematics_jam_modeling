{
 "cells": [
  {
   "cell_type": "markdown",
   "metadata": {},
   "source": [
    "# 10/02/23 - Copied from home/shawnknabel/Documents/slacs_kinematics/jupyter_notebooks/jampy/092823_jam_milestone_anisotropy_studies_scratchpad.ipynb\n",
    "## See notes from email with Michele, introducing new anisotropy parameter that will allow equal prob to q_intr's"
   ]
  },
  {
   "cell_type": "markdown",
   "metadata": {},
   "source": [
    "# 09/28/23 - Copied from home/shawnknabel/Documents/slacs_kinematics/jupyter_notebooks/jampy/091323_jam_milestone_anisotropy_studies.ipynb\n",
    "## Following meeting with Michele and Tommaso, I am redoing the models with small changes: (JAM has been updated)\n",
    "### 1. q_intr_min (being the intrinsic flattening of the flattest gaussian) is > 0.6\n",
    "### 2. Longer chain - 200 iterations?\n",
    "### 3. Plot the convergence of the chain.\n",
    "### 4. Save a value that states if the chain converged.\n",
    "### 5. NO OM CYL.\n",
    "### 6. Forget the shape distribution from population for J1204 (for consistency's sake)\n",
    "### 7. Use \"logistic\" keyword for OM.\n",
    "### 8. Show effective radius in plots\n",
    "________________\n",
    "#### 09/21/23 - Edited\n",
    "##### I messed up the bounds for the constant anisotropy again.\n",
    "##### It has been fixed, and the prior information has been put into the \"get_priors_and_labels\" function, which was renamed from \"get_priors\"\n",
    "#### 09/13/23  -Copied from 091123_jam_milestone_anisotropy_studies.ipynb\n",
    "##### I had the anisotropy radius for OM with bounds from the constant anisotropy."
   ]
  },
  {
   "cell_type": "markdown",
   "metadata": {},
   "source": [
    "#### 09/11/23 - Copied from 090623_jam_milestone_anisotropy_studies.ipynb\n",
    "##### I had the Vrms error incorrectly saved. This is a really insane thing.\n",
    "\n",
    "#### 09/06/23 - Milestone studies for anisotropy constraints. For as many as I can make good models...  4 models each\n",
    "##### Spherical and Axisymmetric\n",
    "##### PL mass profile\n",
    "##### OM and constant anisotropy\n"
   ]
  },
  {
   "cell_type": "markdown",
   "metadata": {},
   "source": [
    "#### 05/19/23 - Copied from 012523_jam_bayes.ipynb. Testing the new implementation of anisotropy profiles from Michele. See https://mail.google.com/mail/u/0/?tab=rm&ogbl#search/osipkov/FMfcgzGrcFfBKDBKxwlvtkWlVRXdvklX\n",
    "#### 05/22/23 - Corrected the \"details_for_jampy.pkl\" - ONLY FOR J0037 SN 15 so far\n",
    "- surface brightness is now correctly computed from B-mag (I think)\n",
    "- bin x and y coordinates rotated along the photometric axis are now correct (phot maj axis is x axis)\n",
    "\n",
    "#### 05/25/23 - Starting a new notebook just to keep things cleaner.\n",
    "#### 05/30/23 - Trying to improve things... See\n",
    "https://mail.google.com/mail/u/0/?tab=rm&ogbl#sent/KtbxLwgddjZLmPGGgmbJhZRvDWrPbJPXpL\n",
    "#### Today I'm going to try to implement it with emcee instead of adamet\n",
    "#### 06/02/23 - Running AdaMet and Emcee with corrected photometry.\n",
    "#### 06/07/23 - Copied from home/shawnknabel/Documents/slacs_kinematics/jupyter_notebooks/jampy/060623_jam_bayes_emcee_pl_const_5obj.ipynb\n",
    "#### 06/09/23 - Copied from home/shawnknabel/Documents/slacs_kinematics/jupyter_notebooks/jampy/060723_jam_whole_story_J1204.ipynb\n",
    "#### 06/13/23 - Actually doing the Einstein radius mass scaling\n",
    "#### This notebook goes through tests on just J1204 to prepare a \"whole story\" for the Otranto conference.\n",
    "#### Power law and composite, spherical and cylindrical, const and OM, SN 15\n",
    "#### Introducing new methods for incorporating the MSD and mass scaling.\n",
    "#### Mass scaling will be from the Einstein radius now.\n",
    "#### I will now work with convergences and multiply by the critical density to get the surface brightness.\n",
    "#### That is where the proper units come in.\n",
    "#### 08/10/23 - Changing the break radius and mass sheet radius to check its effect.\n",
    "##### Make sure const ani parameter [0,1] for cylindrical.\n",
    "##### Save chi2 of bestfit model and look at distribution (model comparison, BIC, something with evidence comparison)\n",
    "## 09/06/23 - copied from 081023_jam_J1204_f2f.ipynb\n",
    "## Milestone studies for anisotropy constraints. For as many as I can make good models...  4 models each\n",
    "## Spherical and Axisymmetric\n",
    "## PL mass profile\n",
    "## OM and constant anisotropy"
   ]
  },
  {
   "cell_type": "code",
   "execution_count": 1,
   "metadata": {},
   "outputs": [],
   "source": [
    "################################################################\n",
    "\n",
    "# import general libraries and modules\n",
    "import numpy as np\n",
    "np.set_printoptions(threshold=10000)\n",
    "import matplotlib.pyplot as plt\n",
    "plt.rcParams[\"figure.figsize\"] = (8, 6)\n",
    "import pandas as pd\n",
    "import warnings\n",
    "warnings.filterwarnings( \"ignore\", module = \"matplotlib\\..*\" )\n",
    "warnings.filterwarnings( \"ignore\", module = \"plotbin\\..*\" )\n",
    "import os\n",
    "from os import path\n",
    "from pathlib import Path\n",
    "import pickle\n",
    "from datetime import datetime\n",
    "def tick():\n",
    "    return datetime.now().strftime(\"%Y_%m_%d-%I_%M_%S_%p\")\n",
    "\n",
    "# astronomy/scipy\n",
    "from astropy.io import fits\n",
    "from astropy.wcs import WCS\n",
    "from scipy.ndimage import rotate\n",
    "from scipy.ndimage import map_coordinates\n",
    "from scipy.optimize import least_squares as lsq\n",
    "from astropy.convolution import convolve, convolve_fft, Gaussian2DKernel\n",
    "#from astropy.cosmology import Planck15 as cosmo # I took 15 because for some reason Planck18 isn't in this astropy install #Planck18 as cosmo  # Planck 2018\n",
    "from astropy.cosmology import FlatLambdaCDM\n",
    "cosmo = FlatLambdaCDM(H0=70, Om0=0.3, Tcmb0=2.725)\n",
    "from scipy.interpolate import interp1d\n",
    "from scipy.optimize import fsolve\n",
    "import astropy.units as u\n",
    "import astropy.constants as constants\n",
    "\n",
    "# mge fit\n",
    "import mgefit\n",
    "from mgefit.find_galaxy import find_galaxy\n",
    "from mgefit.mge_fit_1d import mge_fit_1d\n",
    "from mgefit.sectors_photometry import sectors_photometry\n",
    "from mgefit.mge_fit_sectors import mge_fit_sectors\n",
    "from mgefit.mge_print_contours import mge_print_contours\n",
    "from mgefit.mge_fit_sectors_regularized import mge_fit_sectors_regularized\n",
    "\n",
    "# jam\n",
    "from jampy.jam_axi_proj import jam_axi_proj\n",
    "from jampy.jam_axi_proj import rotate_points\n",
    "from jampy.jam_axi_proj import bilinear_interpolate\n",
    "from jampy.mge_half_light_isophote import mge_half_light_isophote\n",
    "from plotbin.plot_velfield import plot_velfield\n",
    "from plotbin.sauron_colormap import register_sauron_colormap\n",
    "register_sauron_colormap()\n",
    "from pafit.fit_kinematic_pa import fit_kinematic_pa\n",
    "#from jampy.jam_axi_proj import jam_axi_proj\n",
    "from jampy.mge_radial_mass import mge_radial_mass\n",
    "from plotbin.symmetrize_velfield import symmetrize_velfield\n",
    "\n",
    "# adamet\n",
    "#from adamet.adamet import adamet\n",
    "#from adamet.corner_plot import corner_plot\n",
    "# emcee\n",
    "import emcee\n",
    "import corner\n",
    "from IPython.display import display, Math\n",
    "\n",
    "# my functions\n",
    "import sys\n",
    "sys.path.append(\"/home/shawnknabel/Documents/slacs_kinematics/my_python_packages\")\n",
    "#from slacs_ani_mass_jam import osipkov_merritt_model\n",
    "#from slacs_ani_mass_jam import osipkov_merritt_generalized_model\n",
    "#from slacs_ani_mass_jam import inner_outer_anisotropy_model\n",
    "#from slacs_ani_mass_jam import nfw_generalized_model\n",
    "#from slacs_ani_mass_jam import dark_halo_mge\n",
    "#from slacs_ani_mass_jam import total_mass_mge\n",
    "#from slacs_ani_mass_jam import jam_lnprob\n",
    "#from slacs_ani_mass_jam import jam_lnprob_power_law\n",
    "#from slacs_ani_mass_jam import jam_lnprob_nfw_constbeta\n",
    "#from slacs_ani_mass_jam import jam_lnprob_nfwgen_constbeta\n",
    "#from slacs_ani_mass_jam import jam_lnprob_nfw_om\n",
    "#from slacs_ani_mass_jam import jam_lnprob_nfwgen_om\n",
    "#from slacs_ani_mass_jam import summary_plot\n",
    "#from slacs_ani_mass_jam import save_fit_parameters\n",
    "#from slacs_ani_mass_jam import get_power_law_slope\n",
    "#from slacs_ani_mass_jam import jampy_details\n",
    "#from slacs_ani_mass_jam import prepare_to_jam\n",
    "#from slacs_ani_mass_jam import space_jam\n",
    "#from slacs_mge_jampy import make_gaussian\n",
    "\n",
    "################################################################\n",
    "# some needed information\n",
    "kcwi_scale = 0.1457  # arcsec/pixel\n",
    "hst_scale = 0.050 # ACS/WFC\n",
    "# B band (F435W) dust extinction ~ 0.116 from https://irsa.ipac.caltech.edu/applications/DUST/\n",
    "#extinction = 0.116\n",
    "### photometric zeropoint for F435W as of 2007 was 25.745\n",
    "#photometric_zeropoint = 25.745\n",
    "# redshift, convert to angular diameter dist in Mpc\n",
    "#z = 0.195\n",
    "#distance = cosmo.angular_diameter_distance(z).value\n",
    "\n",
    "# value of c^2 / 4 pi G\n",
    "c2_4piG = (constants.c **2 / constants.G / 4 / np.pi).to('solMass/pc')\n"
   ]
  },
  {
   "cell_type": "code",
   "execution_count": 2,
   "metadata": {},
   "outputs": [
    {
     "name": "stdout",
     "output_type": "stream",
     "text": [
      "\n"
     ]
    }
   ],
   "source": [
    "##################################################################################################################################\n",
    "\n",
    "date_of_kin = '2023-02-28_2'\n",
    "\n",
    "#------------------------------------------------------------------------------\n",
    "# Directories and files\n",
    "\n",
    "# data directory\n",
    "data_dir = '/data/raw_data/KECK_KCWI_SLACS_kinematics_shawn/'\n",
    "hst_dir = '/data/raw_data/HST_SLACS_ACS/kcwi_kinematics_lenses/'\n",
    "tables_dir = f'{data_dir}tables/'\n",
    "mosaics_dir = f'{data_dir}mosaics/'\n",
    "kinematics_full_dir = f'{data_dir}kinematics/'\n",
    "kinematics_dir =f'{kinematics_full_dir}{date_of_kin}/'\n",
    "jam_output_dir = f'{data_dir}jam_outputs/'\n",
    "# create a directory for JAM outputs\n",
    "#Path(jam_output_dir).mkdir(parents=True, exist_ok=True)\n",
    "#print(f'Outputs will be in {jam_output_dir}')\n",
    "print()\n",
    "\n",
    "# target SN for voronoi binning\n",
    "vorbin_SN_targets = np.array([10, 15, 20])\n",
    "\n",
    "#################################################\n",
    "# objects\n",
    "obj_names = ['SDSSJ0029-0055', \n",
    "             'SDSSJ0037-0942',\n",
    "             'SDSSJ0330-0020',\n",
    "             'SDSSJ1112+0826',\n",
    "             'SDSSJ1204+0358',\n",
    "             'SDSSJ1250+0523',\n",
    "             'SDSSJ1306+0600',\n",
    "             'SDSSJ1402+6321',\n",
    "             'SDSSJ1531-0105',\n",
    "             'SDSSJ1538+5817',\n",
    "             'SDSSJ1621+3931',\n",
    "             'SDSSJ1627-0053',\n",
    "             'SDSSJ1630+4520',\n",
    "             'SDSSJ2303+1422'\n",
    "            ]\n",
    "\n",
    "#################################################\n",
    "\n",
    "paper_table = pd.read_csv(f'{tables_dir}paper_table_051223.csv')\n",
    "slacs_ix_table = pd.read_csv(f'{tables_dir}slacs_ix_table3.csv')\n",
    "zs = paper_table['zlens']\n",
    "zlenses = slacs_ix_table['z_lens']\n",
    "zsources = slacs_ix_table['z_src']"
   ]
  },
  {
   "cell_type": "markdown",
   "metadata": {},
   "source": [
    "# Lensing details from Anowar Shajib 2020"
   ]
  },
  {
   "cell_type": "code",
   "execution_count": 3,
   "metadata": {},
   "outputs": [],
   "source": [
    "# power law info\n",
    "\n",
    "lens_models = pd.read_csv(f'{tables_dir}lens_models_table.csv')\n"
   ]
  },
  {
   "cell_type": "code",
   "execution_count": 4,
   "metadata": {},
   "outputs": [],
   "source": [
    "# class to collect and save all the attributes I need for jampy\n",
    "class jampy_details:\n",
    "    \n",
    "    def __init__(details, surf_density, mge_sigma, q, kcwi_sigmapsf, Vrms_bin, dVrms_bin, V_bin, dV_bin, xbin_phot, ybin_phot, reff):\n",
    "        details.surf_density=surf_density \n",
    "        details.mge_sigma=mge_sigma\n",
    "        details.q=q \n",
    "        details.kcwi_sigmapst=kcwi_sigmapsf \n",
    "        details.Vrms_bin=Vrms_bin \n",
    "        details.dVrms_bind=dVrms_bin\n",
    "        details.V_bin=V_bin \n",
    "        details.dV_bin=dV_bin \n",
    "        details.xbin_phot=xbin_phot \n",
    "        details.ybin_phot=ybin_phot\n",
    "        details.reff=reff"
   ]
  },
  {
   "cell_type": "markdown",
   "metadata": {},
   "source": [
    "# Functions"
   ]
  },
  {
   "cell_type": "code",
   "execution_count": 7,
   "metadata": {},
   "outputs": [],
   "source": [
    "def prepare_to_jam(obj_name, file_dir, SN):\n",
    "\n",
    "    # take the surface density, etc from mge saved parameters\n",
    "    with open(f'{file_dir}{obj_name}_{SN}_details_for_jampy.pkl', 'rb') as f:\n",
    "        tommy_pickles = pickle.load(f)\n",
    "        \n",
    "    surf = tommy_pickles.surf_density\n",
    "    sigma = tommy_pickles.mge_sigma\n",
    "    qObs = tommy_pickles.q\n",
    "    #kcwi_sigmapsf = tommy_pickles.kcwi_sigmapst # mistake in name  \n",
    "    try:\n",
    "        kcwi_sigmapsf = tommy_pickles.kcwi_sigmapsf\n",
    "    except:\n",
    "        kcwi_sigmapsf = tommy_pickles.kcwi_sigmapst\n",
    "    Vrms_bin = tommy_pickles.Vrms_bin\n",
    "    dVrms_bin = tommy_pickles.dVrms_bin \n",
    "    #dVrms_bin = tommy_pickles.dVrms_bind # mistake in name\n",
    "    V_bin = tommy_pickles.V_bin\n",
    "    dV_bin = tommy_pickles.dV_bin\n",
    "    xbin_phot = tommy_pickles.xbin_phot\n",
    "    ybin_phot = tommy_pickles.ybin_phot\n",
    "    reff = tommy_pickles.reff\n",
    "    \n",
    "    return (surf, sigma, qObs, kcwi_sigmapsf, Vrms_bin, dVrms_bin, V_bin, dV_bin, xbin_phot, ybin_phot, reff)"
   ]
  },
  {
   "cell_type": "code",
   "execution_count": 8,
   "metadata": {},
   "outputs": [],
   "source": [
    "# functions to view previous samplings\n",
    "\n",
    "def get_best_param_err (obj_name, SN, model, anisotropy, align, date_time=None, run_id=None):\n",
    "\n",
    "    '''\n",
    "    obj_name and number steps to try it out. Start all with the same priors.\n",
    "    '''\n",
    "\n",
    "    obj_abbr = obj_name[4:9] # e.g. J0029\n",
    "    zlens = zs[i]\n",
    "    distance = cosmo.angular_diameter_distance(zlens).value\n",
    "\n",
    "    mos_dir = f'{mosaics_dir}{obj_name}/' # directory with all files of obj_name\n",
    "    kin_dir = f'{kinematics_dir}{obj_name}/'\n",
    "    jam_dir = f'{jam_output_dir}{obj_name}/'\n",
    "    \n",
    "    if obj_abbr=='J0330':\n",
    "        target_kin_dir = f'{kin_dir}target_sn_{SN}/{obj_name}_{SN}_final_kinematics/no_g/'\n",
    "    else:\n",
    "        target_kin_dir = f'{kin_dir}target_sn_{SN}/{obj_name}_{SN}_marginalized_gnog_final_kinematics/'\n",
    "    target_jam_dir = f'{jam_dir}target_sn_{SN}/'\n",
    "    \n",
    "    # Get model directory\n",
    "    if date_time is not None and run_id is None:\n",
    "        model_dir = f'{target_jam_dir}{obj_name}_model_{date_time}_{SN}_{model}_{anisotropy}_{align}/'\n",
    "    elif date_time is None:\n",
    "        date_time = datetime.now().strftime(\"%Y_%m_%d\")#-%I_%M_%S_%p\")\n",
    "        model_dir = f'{target_jam_dir}{obj_name}_model_{date_time}_{SN}_{model}_{anisotropy}_{align}/'\n",
    "    elif date_time is not None and run_id is not None:\n",
    "        model_dir =  f'{target_jam_dir}{obj_name}_model_{date_time}_v{run_id}_{SN}_{model}_{anisotropy}_{align}/'   \n",
    "    else:\n",
    "        print('something wrong')\n",
    "    \n",
    "    #\n",
    "    bestfit = np.genfromtxt(f'{model_dir}{obj_name}_{date_time}_bestfit_parameters.txt', delimiter='')\n",
    "    err = np.genfromtxt(f'{model_dir}{obj_name}_{date_time}_bestfit_parameters_error.txt', delimiter='')\n",
    "    pars = np.genfromtxt(f'{model_dir}{obj_name}_{date_time}_parameters_fit.txt', delimiter='')\n",
    "    lnprob = np.genfromtxt(f'{model_dir}{obj_name}_{date_time}_likelihood.txt', delimiter='') \n",
    "    bounds = np.genfromtxt(f'{model_dir}{obj_name}_{date_time}_bounds.txt', delimiter='')\n",
    "    rms_model = np.genfromtxt(f'{model_dir}{obj_name}_{date_time}_rms_model.txt', delimiter='')\n",
    "    #print(labels)\n",
    "    with open(f\"{model_dir}{obj_name}_{date_time}_kwargs.pkl\", \"rb\") as f:\n",
    "        kwargs = pickle.load(f)\n",
    "        f.close()\n",
    "    \n",
    "    #chi2 = -2*jam_lnprob(bestfit, **kwargs)  # Compute chi2 of model at best fit location\n",
    "    chi2 = np.nansum((rms_model - kwargs.rms)**2/(kwargs.erms)**2)\n",
    "    \n",
    "    return bestfit, err, pars, lnprob, chi2, bounds, rms_model#, labels\n",
    "    \n",
    "# weighted gaussian to compare the models..\n",
    "def weighted_gaussian(xx, mu, sig, c2):\n",
    "    yy = np.zeros(shape=xx.shape)\n",
    "    for i in range(len(xx)):\n",
    "        yy[i] = np.exp(-np.power(xx[i] - mu, 2.) / (2 * np.power(sig, 2.))) * np.exp(-0.5 * c2)\n",
    "    return yy\n",
    "\n",
    "\n"
   ]
  },
  {
   "cell_type": "code",
   "execution_count": 9,
   "metadata": {},
   "outputs": [],
   "source": [
    "def summary_plot(obj_name, date_time, model_dir, jam_prob_func, model_name, \\\n",
    "                     pars=None, lnprob=None, labels=None, bounds=None, \\\n",
    "                     kwargs=None, save=False, load=False):\n",
    "    \n",
    "    \"\"\"\n",
    "    Print the best fitting solution with uncertainties.\n",
    "    Plot the final corner plot with the best fitting JAM model.\n",
    "\n",
    "    \"\"\"\n",
    "    \n",
    "    xbin = kwargs['xbin']\n",
    "    ybin = kwargs['ybin']\n",
    "    goodbins = kwargs['goodbins']\n",
    "    rms = kwargs['rms']\n",
    "    erms = kwargs['erms']\n",
    "    \n",
    "    if load == True:\n",
    "        jam_test_dir = model_dir #f'{data_dir}jam_testing/2023_01_31/'\n",
    "        pars = np.genfromtxt(glob.glob(f'{jam_test_dir}*{obj_name}*/*parameters_fit.txt')[0])\n",
    "        lnprob = np.genfromtxt(glob.glob(f'{jam_test_dir}*{obj_name}*/*likelihood.txt')[0])\n",
    "        labels = np.genfromtxt(glob.glob(f'{jam_test_dir}*{obj_name}*/*labels.txt')[0], delimiter='  ', dtype='<U20')\n",
    "        bounds = np.genfromtxt(glob.glob(f'{jam_test_dir}*{obj_name}*/*bounds.txt')[0])\n",
    "        bestfit = np.genfromtxt(glob.glob(f'{jam_test_dir}*{obj_name}*/*bestfit_parameters.txt')[0])\n",
    "        perc = np.genfromtxt(glob.glob(f'{jam_test_dir}*{obj_name}*/*bestfit_parameters_percentile.txt')[0])\n",
    "        sig_bestfit = np.genfromtxt(glob.glob(f'{jam_test_dir}*{obj_name}*/*bestfit_parameters_error.txt')[0])\n",
    "        surf_potential = np.genfromtxt(glob.glob(f'{jam_test_dir}*{obj_name}*/*surf_potential.txt')[0])\n",
    "        rms_model = np.genfromtxt(glob.glob(f'{jam_test_dir}*{obj_name}*/*rms_model.txt')[0])\n",
    "        flux_model = np.genfromtxt(glob.glob(f'{jam_test_dir}*{obj_name}*/*flux_model.txt')[0])\n",
    "    \n",
    "    else:\n",
    "        \n",
    "        bestfit = pars[np.argmax(lnprob)]  # Best fitting parameters\n",
    "        perc = np.percentile(pars, [15.86, 84.14], axis=0)  # 68% interval\n",
    "        sig_bestfit = np.squeeze(np.diff(perc, axis=0)/2)   # half of interval (1sigma)\n",
    "        \n",
    "        # save variables, surf_pot, sigma_pot, qobs_pot, rms_model and flux_model\n",
    "        \n",
    "        # jam the best fit\n",
    "        jam, surf_potential = jam_bestfit(bestfit, **kwargs)\n",
    "        rms_model = jam.model\n",
    "        flux_model = jam.flux\n",
    "\n",
    "    print(\"\\nBest-fitting parameters and 1sigma errors:\")\n",
    "    for label, best, sig in zip(labels, bestfit, sig_bestfit):\n",
    "        print(f\"   {label} = {best:#.4g} +/- {sig:#.2g}\")\n",
    "\n",
    "    # For plotting, only show the finite probability points\n",
    "    finite = np.isfinite(lnprob)\n",
    "\n",
    "    # Produce final corner plot without trial values and with best fitting JAM\n",
    "    plt.rcParams.update({'font.size': 14})\n",
    "    plt.clf()\n",
    "    corner_plot(pars[finite], lnprob[finite], labels=labels, extents=bounds, fignum=1)\n",
    "    logprob = jam_prob_func(bestfit, **kwargs)  # Compute model at best fit location\n",
    "    chi2 = np.nansum((rms_model-rms)**2/(erms)**2) # -2*logprob\n",
    "                              \n",
    "    dx = 0.24\n",
    "    yfac = 0.87\n",
    "    fig = plt.gcf()\n",
    "    fig.set_size_inches((12,12))\n",
    "    fig.tight_layout()\n",
    "    \n",
    "    i = 0                          \n",
    "    # annotate the model results\n",
    "    plt.annotate(f'chi2 = {np.around(chi2, 2)}', (0.30, 0.97-(1+len(labels))*0.03), xycoords='figure fraction', fontsize=16)\n",
    "    for label, best, sig in zip(labels, bestfit, sig_bestfit):\n",
    "        string = f\"{label} = {best:#.4g} ± {sig:#.2g}\"\n",
    "        plt.annotate(string, (0.30, 0.94-i*0.03), xycoords='figure fraction', fontsize=16) \n",
    "        i = i+1\n",
    "                                \n",
    "    #print(xbin.shape, ybin.shape, rms_model.shape, flux_model.shape)\n",
    "                                 \n",
    "    # plot data\n",
    "    fig.add_axes([0.69, 0.99 - dx*yfac, dx, dx*yfac])  # left, bottom, xsize, ysize\n",
    "    rms1 = rms.copy()\n",
    "    rms1[goodbins] = symmetrize_velfield(xbin[goodbins], ybin[goodbins], rms[goodbins])\n",
    "    vmin, vmax = np.percentile(rms1[goodbins], [0.5, 99.5])\n",
    "    plot_velfield(xbin, ybin, rms1, vmin=vmin, vmax=vmax, linescolor='w', \n",
    "                  colorbar=1, label=r\"Data $V_{\\rm rms}$ (km/s)\", flux=flux_model, nodots=True)\n",
    "    plt.tick_params(labelbottom=False)\n",
    "    plt.ylabel('arcsec')\n",
    "    \n",
    "    # plot model\n",
    "    fig.add_axes([0.69, 0.98 - 2*dx*yfac, dx, dx*yfac])  # left, bottom, xsize, ysize\n",
    "    plot_velfield(xbin, ybin, rms_model, vmin=vmin, vmax=vmax, linescolor='w',\n",
    "                  colorbar=1, label=r\"Model $V_{\\rm rms}$ (km/s)\", flux=flux_model, nodots=True)\n",
    "    plt.tick_params(labelbottom=False)\n",
    "    plt.ylabel('arcsec')\n",
    "    if save==True:\n",
    "        plt.savefig(f'{model_dir}{obj_name}_corner_plot_{model_name}_{date_time}.png', bbox_inches='tight')\n",
    "        plt.savefig(f'{model_dir}{obj_name}_corner_plot_{model_name}_{date_time}.pdf', bbox_inches='tight')\n",
    "\n",
    "    plt.pause(1)\n",
    "    plt.clf()\n",
    "    plt.close()\n",
    "                                                                \n",
    "        \n",
    "    return surf_potential, rms_model, flux_model, bestfit, perc, sig_bestfit, chi2\n"
   ]
  },
  {
   "cell_type": "code",
   "execution_count": 10,
   "metadata": {},
   "outputs": [],
   "source": [
    "def jam_lnprior (pars, bounds, mu, sigma, prior_type):\n",
    "    '''\n",
    "    Calculate the prior likelihood for the sampled parameters\n",
    "    pars\n",
    "    mu - mean of prior\n",
    "    sigma - width of prior\n",
    "    prior_type - uniform, gaussian, log_uniform, log_normal\n",
    "    '''\n",
    "    \n",
    "    pars = np.array(pars)\n",
    "    mu = np.array(mu)\n",
    "    sigma = np.array(sigma)\n",
    "\n",
    "    if any(pars < bounds[0]) or any(pars > bounds[1]):\n",
    "        lnprior = -np.inf\n",
    "    \n",
    "    else:\n",
    "        lnprior=np.ones_like(pars)\n",
    "        for i in range(len(pars)):\n",
    "            if prior_type[i]=='uniform':\n",
    "                lnprior[i]=0.\n",
    "            elif prior_type[i]=='gaussian':\n",
    "                lnprior[i]=np.log(1.0/(np.sqrt(2*np.pi)*sigma[i]))-0.5*(pars[i]-mu[i])**2/sigma[i]**2\n",
    "            \n",
    "    return np.sum(lnprior)"
   ]
  },
  {
   "cell_type": "code",
   "execution_count": 11,
   "metadata": {},
   "outputs": [],
   "source": [
    "# set up new anisotropy functions and probability functions to be fit\n",
    "\n",
    "def jam_lnprob (pars, bounds=None, p0=None, sigpar=None, prior_type=None,\n",
    "                surf_lum=None, sigma_lum=None, qobs_lum=None, distance=None,\n",
    "                  xbin=None, ybin=None, sigmapsf=None, normpsf=None, goodbins=None,\n",
    "                   rms=None, erms=None, pixsize=None, reff=None, plot=True, \n",
    "                 model=None, anisotropy=None, align=None, \n",
    "                labels=None, zlens=None, zsource=None, rs_mst=None):\n",
    "    \n",
    "    \"\"\"\n",
    "    Return the probability of the model, given the data, assuming constant priors\n",
    "\n",
    "    \"\"\"\n",
    "    \n",
    "    lnprior = jam_lnprior (pars, bounds, mu=p0, sigma=sigpar, prior_type=prior_type)\n",
    "    \n",
    "    if np.isinf(lnprior) or np.isnan(lnprior):\n",
    "        return -np.inf\n",
    "    \n",
    "    else:\n",
    "        # parameters for fitting\n",
    "        # Mass model\n",
    "        if model=='power_law':\n",
    "            gamma, q, anis_param, theta_E, lambda_int = pars\n",
    "            # let f_dm = 0 for a power law\n",
    "            f_dm = 0\n",
    "        elif model=='nfw':\n",
    "            f_dm, q, anis_param, lg_ml, lambda_int = pars\n",
    "            # gamma = -1 for NFW\n",
    "            gamma = -1\n",
    "\n",
    "        # Anisotropy is dependent on model\n",
    "        if anisotropy=='const':\n",
    "            logistic=False\n",
    "            ratio = anis_param\n",
    "            beta = np.full_like(qobs_lum, 1 - ratio**2)   # assume constant anisotropy, anis_param is the ratio of q_t/q_r\n",
    "            # lower bound is constrained by q as R(q) = sqrt(0.3 + 0.7*q) # where q in this case is the q_min I'm fitting\n",
    "            # This is a constraint from intrinsic shape\n",
    "            R_q = np.sqrt(0.3 + 0.7*q)\n",
    "            if ratio < R_q:\n",
    "                anisotropy_constraint = 0\n",
    "            else:\n",
    "                anisotropy_constraint = 1\n",
    "        elif anisotropy=='OM':\n",
    "            logistic=True\n",
    "            a_ani = anis_param # anis_param is the anisotropy transition radius in units of the effective radius\n",
    "            r_a = a_ani*reff\n",
    "            beta_0 = 0 # fully isotropic\n",
    "            beta_inf = 1 # fully radially anisotropic\n",
    "            alpha = 2 # sharpness of transition\n",
    "            beta = [r_a, beta_0, beta_inf, alpha]\n",
    "            anisotropy_constraint = 1 # doesn't apply here\n",
    "\n",
    "        if anisotropy_constraint == 1: # i.e. the constraint from q\n",
    "            \n",
    "            # Sample inclination using min(q), with Equation (14) of Cappellari (2008)\n",
    "            qmin = np.min(qobs_lum)\n",
    "            inc = np.degrees(np.arctan2(np.sqrt(1 - qmin**2), np.sqrt(qmin**2 - q**2)))\n",
    "\n",
    "            # Obtain total mass profile\n",
    "            surf_pot, sigma_pot, qobs_pot = total_mass_mge(surf_lum, sigma_lum, qobs_lum,\n",
    "                                                           reff, model, zlens, zsource,\n",
    "                                                          gamma, f_dm, inc, theta_E, lambda_int=lambda_int, rs_mst=rs_mst, lg_ml=None,\n",
    "                                                           plot=plot)\n",
    "\n",
    "            # ignore central black hole\n",
    "            mbh=0.\n",
    "\n",
    "            # make the JAM model\n",
    "            jam = jam_axi_proj(surf_lum, sigma_lum, qobs_lum, surf_pot, sigma_pot, qobs_pot,\n",
    "                               inc, mbh, distance, xbin, ybin, \n",
    "                                align=align, beta=beta, logistic=logistic,\n",
    "                               data=rms, errors=erms, goodbins=goodbins,\n",
    "                               pixsize=pixsize, sigmapsf=sigmapsf, normpsf=normpsf, \n",
    "                               plot=plot,  quiet=1, ml=1, nodots=True)\n",
    "\n",
    "            resid = (rms[goodbins] - jam.model[goodbins])/erms[goodbins]\n",
    "            chi2 = resid @ resid\n",
    "            lnprob = -0.5*chi2 + lnprior\n",
    "        \n",
    "        else:\n",
    "            lnprob = -np.inf # reject this one\n",
    "            \n",
    "    return lnprob\n"
   ]
  },
  {
   "cell_type": "code",
   "execution_count": 12,
   "metadata": {},
   "outputs": [],
   "source": [
    "def jam_bestfit (pars, **kwargs):\n",
    "    \n",
    "    \"\"\"\n",
    "    Return the model of the bestfit parameters\n",
    "\n",
    "    \"\"\"\n",
    "    \n",
    "    surf_lum=kwargs['surf_lum']\n",
    "    sigma_lum=kwargs['sigma_lum']\n",
    "    qobs_lum=kwargs['qobs_lum']\n",
    "    distance=kwargs['distance']\n",
    "    xbin=kwargs['xbin']\n",
    "    ybin=kwargs['ybin']\n",
    "    sigmapsf=kwargs['sigmapsf']\n",
    "    normpsf=kwargs['normpsf']\n",
    "    goodbins=kwargs['goodbins']\n",
    "    rms=kwargs['rms']\n",
    "    erms=kwargs['erms']\n",
    "    pixsize=kwargs['pixsize']\n",
    "    reff=kwargs['reff']\n",
    "    plot=kwargs['plot']\n",
    "    model=kwargs['model']\n",
    "    anisotropy=kwargs['anisotropy']\n",
    "    align=kwargs['align']\n",
    "    zlens=kwargs['zlens']\n",
    "    zsource=kwargs['zsource']\n",
    "    rs_mst=kwargs['rs_mst']\n",
    "    \n",
    "    print(model)\n",
    "    \n",
    "    # parameters for fitting\n",
    "    # Mass model\n",
    "    if model=='power_law':\n",
    "        gamma, q, anis_param, theta_E, lambda_int = pars\n",
    "        # let f_dm = 0 for a power law\n",
    "        f_dm = 0\n",
    "    elif model=='nfw':\n",
    "        f_dm, q, anis_param, theta_E, lambda_int = pars\n",
    "        # gamma = -1 for NFW\n",
    "        gamma = -1\n",
    "        \n",
    "    # Anisotropy is dependent on model\n",
    "    if anisotropy=='const':\n",
    "        logistic=False\n",
    "        ratio = anis_param\n",
    "        beta = np.full_like(qobs_lum, 1 - ratio**2)   # assume constant anisotropy, anis_param is the ratio of q_t/q_r\n",
    "    elif anisotropy=='OM':\n",
    "        logistic=True\n",
    "        a_ani = anis_param # anis_param is the anisotropy transition radius in units of the effective radius\n",
    "        r_a = a_ani*reff\n",
    "        beta_0 = 0 # fully isotropic\n",
    "        beta_inf = 1 # fully radially anisotropic\n",
    "        alpha = 2 # sharpness of transition\n",
    "        beta = [r_a, beta_0, beta_inf, alpha]\n",
    "\n",
    "    # Sample inclination using min(q), with Equation (14) of Cappellari (2008)\n",
    "    qmin = np.min(qobs_lum)\n",
    "    inc = np.degrees(np.arctan2(np.sqrt(1 - qmin**2), np.sqrt(qmin**2 - q**2)))\n",
    "    # Check if this is the same for prolate... See Capp 2002\n",
    "    \n",
    "    # Obtain total mass profile\n",
    "    surf_pot, sigma_pot, qobs_pot = total_mass_mge(surf_lum, sigma_lum, qobs_lum,\n",
    "                                                   reff, model, zlens, zsource,\n",
    "                                                  gamma, f_dm, inc, theta_E, lambda_int=lambda_int, rs_mst=rs_mst, lg_ml=None,\n",
    "                                                   plot=plot)\n",
    "    \n",
    "    surf_potential = np.stack((surf_pot, sigma_pot, qobs_pot))\n",
    "    \n",
    "    # ignore central black hole\n",
    "    mbh=0.\n",
    "    \n",
    "    print('JAMMING the best fit model')\n",
    "    \n",
    "    # make the JAM model\n",
    "    jam = jam_axi_proj(surf_lum, sigma_lum, qobs_lum, surf_pot, sigma_pot, qobs_pot,\n",
    "                       inc, mbh, distance, xbin, ybin, pixsize=pixsize,\n",
    "                       sigmapsf=sigmapsf, normpsf=normpsf, goodbins=goodbins, align=align,\n",
    "                       beta=beta, logistic=logistic, data=rms, errors=erms, \n",
    "                       ml=1, plot=True, quiet=1, nodots=True)\n",
    "    \n",
    "    return jam, surf_potential"
   ]
  },
  {
   "cell_type": "code",
   "execution_count": 13,
   "metadata": {},
   "outputs": [],
   "source": [
    "###############################################################################\n",
    "\n",
    "def power_law_mge (gamma, theta_E, q, rbreak, lambda_int, rs_mst, zlens, zsource, plot=False):\n",
    "    \"\"\"\n",
    "    gamma - power law slope (2 = isothermal)\n",
    "    theta_E - einstein radius\n",
    "    q - mean q from gaussian components of light profile\n",
    "    rbreak - some radius... make it big?\n",
    "    lamdba_int - MST parameter\n",
    "    zlens/source - redshjifts\n",
    "    \"\"\"\n",
    "    # The fit is performed in log spaced radii from 1\" to 10*rbreak\n",
    "    n = 1000     # Number of values to sample the gNFW profile for the MGE fit\n",
    "    r = np.geomspace(0.01, rbreak, n)   # logarithmically spaced radii in arcsec\n",
    "    \n",
    "    # Now working in convergence\n",
    "    kappa = (3 - gamma) / 2 * (theta_E/r)**(gamma-1)\n",
    "    #surf_mass_dens = (3 - gamma) / 2 * (rbreak/r)**(gamma-1)\n",
    "    \n",
    "    # transform by lambda_int\n",
    "    kappa_mst = mass_sheet_transform(kappa, lambda_int, rbreak, rs_mst, zlens, zsource)\n",
    "    #surf_mass_dens_mst = mass_sheet_transform(surf_mass_dens, lambda_int, rbreak, zlens, zsource)\n",
    "    \n",
    "    # Go from convergence to surface mass density with critical surface density\n",
    "    # get distances\n",
    "    DL = cosmo.angular_diameter_distance(zlens).to('pc')\n",
    "    DS = cosmo.angular_diameter_distance(zsource).to('pc')\n",
    "    DLS = cosmo.angular_diameter_distance_z1z2(zlens, zsource).to('pc')\n",
    "    # calculate critical surface density\n",
    "    sigma_crit = c2_4piG * DS / DL / DLS\n",
    "    # calculate surface mass density with sigma_crit\n",
    "    surf_mass_dens = kappa_mst * sigma_crit.value\n",
    "    \n",
    "    m = mge_fit_1d(r, surf_mass_dens, ngauss=20, inner_slope=20, outer_slope=0, quiet=1, plot=plot) # this creates a circular gaussian with sigma=sigma_x (i.e. along the major axis)\n",
    "    \n",
    "    surf_pot, sigma_pot = m.sol           # total counts of gaussians\n",
    "    surf_pot = surf_pot / np.sqrt(2*np.pi) / sigma_pot # THIS should give peak surface density\n",
    "    qobs_pot = np.ones_like(surf_pot)*q   # Multiply by q to convert to elliptical Gaussians where sigma is along the major axis... I'm not sure if this is perfectly correct\n",
    "    \n",
    "    return surf_pot, sigma_pot, qobs_pot\n"
   ]
  },
  {
   "cell_type": "code",
   "execution_count": 14,
   "metadata": {},
   "outputs": [],
   "source": [
    "###############################################################################\n",
    "\n",
    "def dark_halo_mge (gamma, rbreak, lambda_int, zlens, zsource, plot=False):\n",
    "    \"\"\"\n",
    "    Returns the MGE parameters for a generalized spherical NFW dark halo profile\n",
    "    https://ui.adsabs.harvard.edu/abs/2001ApJ...555..504W\n",
    "    Inputs:\n",
    "        gamma - inner profile slope (logarithmic slope, i.e. slope when plotted as log(rho) to log(r), < 0\n",
    "                if gamma = -1, this is standard NFW profile\n",
    "        rbreak - break radius, transition from inner slope to outer slope (of -3)\n",
    "    Outputs:\n",
    "        surf_dm, sigma_dm, qobs_dm - MGE parameters of dark halo surface potential (peak surface density, sigma of Gaussians, and axial ratio (1 because it's spherical)\n",
    "        \n",
    "    \"\"\"\n",
    "    # The fit is performed in log spaced radii from 1\" to 10*rbreak\n",
    "    n = 1000     # Number of values to sample the gNFW profile for the MGE fit\n",
    "    r = np.geomspace(0.01, rbreak, n)   # logarithmically spaced radii in arcsec\n",
    "    rho = nfw_generalized_model (r, gamma, rbreak)\n",
    "    m = mge_fit_1d(r, rho, ngauss=15, inner_slope=20, outer_slope=0, quiet=1, plot=plot)\n",
    "\n",
    "    surf_dm, sigma_dm = m.sol           # Peak surface density and sigma # 05/22/23 - I think this actually gives the \"total counts\", not peak surface density\n",
    "    #surf_dm = surf_dm / np.sqrt(2*np.pi) / sigma_dm # THIS should give peak surface density\n",
    "    ##### 06/08/23 - I was wrong. Because I am fitting the MGE to the volume density, dens = surf/(np.sqrt(2*np.pi)*Sigma)\n",
    "    qobs_dm = np.ones_like(surf_dm)     # Assume spherical dark halo\n",
    "\n",
    "    return surf_dm, sigma_dm, qobs_dm\n"
   ]
  },
  {
   "cell_type": "code",
   "execution_count": 15,
   "metadata": {},
   "outputs": [],
   "source": [
    "def total_mass_mge (surf_lum, sigma_lum, qobs_lum, \n",
    "                    reff, model, zlens, zsource,\n",
    "                    gamma, f_dm, inc, theta_E, lambda_int=1, rs_mst=0.5, lg_ml=None,\n",
    "                     plot=False):\n",
    "    \n",
    "    \"\"\"\n",
    "    Combine the MGE from a dark halo and the MGE from the stellar surface\n",
    "    brightness in such a way to have a given dark matter fractions f_dm\n",
    "    inside a sphere of radius one half-light radius reff\n",
    "    \n",
    "    # 06/09/23 - I need to figure out how to scale with the Einstein radius instead of M/L\n",
    "    \"\"\"\n",
    "    \n",
    "    break_factor = 100 # factor by which reff is multiplied to set truncation of mass profile\n",
    "    \n",
    "    if model == 'nfw':\n",
    "        \n",
    "        gamma = -1\n",
    "        rbreak = break_factor*reff # much bigger than data # should this be a free parameter?\n",
    "\n",
    "        surf_dm, sigma_dm, qobs_dm = dark_halo_mge(gamma, rbreak, lambda_int, zlens, zsource, plot)\n",
    "        #plt.pause(1)\n",
    "\n",
    "        stars_lum_re = mge_radial_mass(surf_lum, sigma_lum, qobs_lum, inc, reff)\n",
    "        dark_mass_re = mge_radial_mass(surf_dm, sigma_dm, qobs_dm, inc, reff)\n",
    "\n",
    "        # Find the scale factor needed to satisfy the following definition\n",
    "        # f_dm == dark_mass_re*scale/(stars_lum_re + dark_mass_re*scale)\n",
    "        scale = (f_dm*stars_lum_re)/(dark_mass_re*(1 - f_dm))\n",
    "\n",
    "        surf_pot = np.append(surf_lum, surf_dm*scale)   # Msun/pc**2. DM scaled so that f_DM(Re)=f_DM\n",
    "        sigma_pot = np.append(sigma_lum, sigma_dm)      # Gaussian dispersion in arcsec\n",
    "        qobs_pot = np.append(qobs_lum, qobs_dm)\n",
    "        \n",
    "        # Note: I multiply surf_pot by ml=10**lg_ml, while I set the keyword ml=1\n",
    "        # Both the stellar and dark matter increase by ml and f_dm is unchanged\n",
    "        surf_pot *= 10**lg_ml\n",
    "        \n",
    "        \n",
    "        \n",
    "    elif model == 'nfw_general':\n",
    "        \n",
    "        gamma = gamma\n",
    "        rbreak = break_factor*reff # much bigger than data\n",
    "\n",
    "        surf_dm, sigma_dm, qobs_dm = dark_halo_mge(gamma, rbreak, lambda_int, zlens, zsource, plot)\n",
    "\n",
    "        stars_lum_re = mge_radial_mass(surf_lum, sigma_lum, qobs_lum, inc, reff)\n",
    "        dark_mass_re = mge_radial_mass(surf_dm, sigma_dm, qobs_dm, inc, reff)\n",
    "\n",
    "        # Find the scale factor needed to satisfy the following definition\n",
    "        # f_dm == dark_mass_re*scale/(stars_lum_re + dark_mass_re*scale)\n",
    "        scale = (f_dm*stars_lum_re)/(dark_mass_re*(1 - f_dm))\n",
    "\n",
    "        surf_pot = np.append(surf_lum, surf_dm*scale)   # Msun/pc**2. DM scaled so that f_DM(Re)=f_DM\n",
    "        sigma_pot = np.append(sigma_lum, sigma_dm)      # Gaussian dispersion in arcsec\n",
    "        qobs_pot = np.append(qobs_lum, qobs_dm)\n",
    "        \n",
    "        # Note: I multiply surf_pot by ml=10**lg_ml, while I set the keyword ml=1\n",
    "        # Both the stellar and dark matter increase by ml and f_dm is unchanged\n",
    "        surf_pot *= 10**lg_ml\n",
    "        \n",
    "        \n",
    "    elif model == 'power_law':\n",
    "        \n",
    "        gamma = gamma\n",
    "        theta_E = theta_E\n",
    "        rbreak = break_factor*reff # much bigger than data\n",
    "        \n",
    "        # take counts-weighted average of light profile q\n",
    "        ##### SHOULD THIS BE TAKEN FROM MY INTRINSIC FIT PRIOR INSTEAD??\n",
    "        q_mean = np.average(qobs_lum, weights=surf_lum)\n",
    "        \n",
    "        surf_pot, sigma_pot, qobs_pot = power_law_mge(gamma, theta_E, q_mean, rbreak, lambda_int, rs_mst, zlens, zsource, plot)\n",
    "        #plt.pause(1)\n",
    "        \n",
    "        if lg_ml is not None:\n",
    "            lum_re = mge_radial_mass(surf_lum, sigma_lum, qobs_lum, inc, reff)\n",
    "            mass_re = mge_radial_mass(surf_pot, sigma_pot, qobs_pot, inc, reff)\n",
    "\n",
    "            # scale so that mass to light ratio at effective radius is the mass to light ratio input\n",
    "            #print(mass_re/lum_re)\n",
    "            ml = 10**lg_ml\n",
    "            scale = lum_re/mass_re * ml\n",
    "            # Multiply the surface mass by the scale\n",
    "            surf_pot *= scale\n",
    "\n",
    "    return surf_pot, sigma_pot, qobs_pot"
   ]
  },
  {
   "cell_type": "code",
   "execution_count": 16,
   "metadata": {},
   "outputs": [],
   "source": [
    "# create a function to transform by the MST\n",
    "\n",
    "def mass_sheet_transform (kappa, lambda_int, rbreak, rs_mst, zlens, zsource):\n",
    "    \n",
    "    '''\n",
    "    kappa is the convergence profile (surface mass density/critical surface density).\n",
    "    MST scales by lambda and adds the infinite sheet\n",
    "    kappa_s is the mass sheet\n",
    "    rs_mst is a \"turnover\" radius [0,1] (multiplicative factor of rbreak) where it goes to 0, so that it is physical.\n",
    "    kappa_s = theta_s**2 / (theta_E**2 + theta_s**2)\n",
    "    Figure 12 from Shajib2023 https://arxiv.org/pdf/2301.02656.pdf\n",
    "    '''\n",
    "    \n",
    "    # get kappa_s # radially dependent\n",
    "    n = 1000     # Number of values to sample the gNFW profile for the MGE fit\n",
    "    r = np.geomspace(0.01, rbreak, n)   # logarithmically spaced radii in arcsec\n",
    "    # take scale (core) radius to be fixed 50*reff (i.e. 1/2 break)\n",
    "    # 08/10/23 - going to change these by a factor rs_mst [0,1]\n",
    "    r_s = rbreak*rs_mst\n",
    "    kappa_s = r_s**2/(r**2 + r_s**2)\n",
    "    \n",
    "    # calculate surface mass density with mass sheet transform\n",
    "    mass_sheet = (1 - lambda_int) * kappa_s\n",
    "    kappa_int = lambda_int * kappa + mass_sheet\n",
    "    \n",
    "    return(kappa_int)"
   ]
  },
  {
   "cell_type": "code",
   "execution_count": 17,
   "metadata": {},
   "outputs": [],
   "source": [
    "# function to get the priors if none are given\n",
    "\n",
    "def get_priors_and_labels (model, anisotropy, qobs, align, fast_slow, p0=None, bounds=None, sigpar=None, prior_type=None):\n",
    "    \n",
    "    if prior_type==None:\n",
    "        prior_type=['uniform','uniform','uniform','uniform','uniform']  \n",
    "    \n",
    "    # mass model labels\n",
    "    if model=='power_law':\n",
    "        label0 = r'$\\gamma$'\n",
    "    elif model=='nfw':\n",
    "        label0 = r\"$f_{\\rm DM}$\"\n",
    "\n",
    "    # The minimum observed axis ratio of MGE Gaussians cannot be smaller than the minimum deprojected (intrinsic) axis ratio [the latter of which is the value q that we are fitting]\n",
    "    qbound = np.min(qobs) # upper bound for axis ratio\n",
    "    bounds[1][1] = qbound  \n",
    "    # check if qobs is uniform, if so can use priors based on fast/slow\n",
    "    if np.nanmin(qobs) == np.nanmax(qobs):\n",
    "        # if so, then q_min IS the intrinsic q\n",
    "        label1 = r\"$q_{\\rm intr}$\"\n",
    "        # get prior for fast or slow\n",
    "        if fast_slow == 'fast':\n",
    "            # make the prior a gaussian from Weijman 2014\n",
    "            p0[1] = 0.25\n",
    "            sigpar[1] = 0.14\n",
    "            prior_type[1]='gaussian'\n",
    "        elif fast_slow == 'slow':\n",
    "            # make the prior a gaussian from Li 2018\n",
    "            p0[1] = 0.74\n",
    "            sigpar[1] = 0.08\n",
    "            prior_type[1]='gaussian'  \n",
    "    else:\n",
    "        label1 =  r\"$q_{\\rm min}$\"\n",
    "                  \n",
    "    # anisotropy priors and labels\n",
    "    if (align == 'sph') & (anisotropy == 'const'):\n",
    "        bounds[1][2] = 2.0    # anisotropy of spherical can be up to 2.0\n",
    "        label2 = r\"$\\sigma_{\\theta}/\\sigma_r$\"\n",
    "    elif (align == 'cyl') & (anisotropy == 'const'): # 09/20/23 - I accidentally had is set to \"allign == 'sph'\", which means it wasn't letting the spherical be up to 2.0\n",
    "        bounds[1][2] = 1.0 # 08/09/23 - Chicago f2f this was a mistake ->>> 2.0    # anisotropy of cylindrical CANNOT be up to 2.0\n",
    "        label2 = r\"$\\sigma_z/\\sigma_R$\"\n",
    "    elif anisotropy == 'OM':\n",
    "        label2 = r\"$a_{ani}$\"\n",
    "        \n",
    "    # einstein radius is universal across models\n",
    "    label3 = r\"$\\theta_E$\"\n",
    "    \n",
    "    # lambda_int is universal across models\n",
    "    label4 = r'$\\lambda_{int}$'\n",
    "    \n",
    "    labels = [label0, label1, label2, label3, label4]\n",
    "\n",
    "    return p0, bounds, sigpar, prior_type, labels"
   ]
  },
  {
   "cell_type": "code",
   "execution_count": 18,
   "metadata": {},
   "outputs": [],
   "source": [
    "# funciton to create model directory\n",
    "\n",
    "def create_model_directory (target_jam_dir, obj_name, SN, \n",
    "                            model, anisotropy, align, sampler, lensprior, rs_mst,\n",
    "                            date_time=None, overwrite=False, run_id=None):\n",
    "    \n",
    "    model_name = f'{SN}_{model}_{anisotropy}_{align}_{sampler}_{lensprior}_{rs_mst}'\n",
    "    if date_time is None:\n",
    "        date_time = datetime.now().strftime(\"%Y_%m_%d\")#-%I_%M_%S_%p\")   \n",
    "    if run_id is None:\n",
    "        model_dir = f'{target_jam_dir}{obj_name}_model_{date_time}_{model_name}/'\n",
    "        if not os.path.exists(model_dir):\n",
    "            os.mkdir(model_dir)\n",
    "        else:\n",
    "            if overwrite==True:\n",
    "                print(f'Files in {model_dir} will be overwritten.')\n",
    "            else:\n",
    "                print('Do not overwrite your files dummy. Adding 1 to run_id to see if it works.')\n",
    "                # try run_id \n",
    "                run_id = 1\n",
    "                model_dir = f'{target_jam_dir}{obj_name}_model_{date_time}_v{run_id}_{model_name}/'\n",
    "                if not os.path.exists(model_dir):\n",
    "                    os.mkdir(model_dir)\n",
    "                else:\n",
    "                    print('Who let you do this?')\n",
    "                    #print(babaganoug) # bring error\n",
    "    else:\n",
    "        model_dir = f'{target_jam_dir}{obj_name}_model_{date_time}_v{run_id}_{model_name}/'\n",
    "        if not os.path.exists(model_dir):\n",
    "            os.mkdir(model_dir)\n",
    "        else:\n",
    "            if overwrite==True:\n",
    "                print(f'Files in {model_dir} will be overwritten.')\n",
    "            else:\n",
    "                print('Do not overwrite your files dummy. Adding 1 to run_id to see if it works.')\n",
    "                # try 1 run_id higher\n",
    "                run_id = run_id + 1\n",
    "                model_dir = f'{target_jam_dir}{obj_name}_model_{date_time}_v{run_id}_{model_name}/'\n",
    "                if not os.path.exists(model_dir):\n",
    "                    os.mkdir(model_dir)\n",
    "                else:\n",
    "                    print('Who let you do this?')\n",
    "                    #print(babaganoug)\n",
    "                    \n",
    "    return model_dir, model_name"
   ]
  },
  {
   "cell_type": "code",
   "execution_count": 19,
   "metadata": {},
   "outputs": [],
   "source": [
    "def save_fit_parameters(model_dir, model_name, obj_name, date_time, \n",
    "                        bestfit, sig_bestfit, percentile, best_chi2,\n",
    "                        pars, lnprob, p0, sigpar, bounds, labels, \n",
    "                        surf_potential, rms_model, flux_model, kwargs):\n",
    "    \n",
    "    # I should save this as a pickle instead.\n",
    "                              \n",
    "    # save best fit parameter values\n",
    "    np.savetxt(f'{model_dir}{obj_name}_{date_time}_{model_name}_bestfit_parameters.txt', bestfit)\n",
    "    # save best fit parameter values percentiles\n",
    "    np.savetxt(f'{model_dir}{obj_name}_{date_time}_{model_name}_bestfit_parameters_percentile.txt', percentile)\n",
    "    # save best fit parameter values sigma error\n",
    "    np.savetxt(f'{model_dir}{obj_name}_{date_time}_{model_name}_bestfit_parameters_error.txt', sig_bestfit)\n",
    "    # save best fit chi2 value\n",
    "    np.savetxt(f'{model_dir}{obj_name}_{date_time}_{model_name}_bestfit_chi2.txt', np.array([best_chi2]))\n",
    "    # save fit parameters\n",
    "    np.savetxt(f'{model_dir}{obj_name}_{date_time}_{model_name}_parameters_fit.txt', pars)\n",
    "    # save likelihoods\n",
    "    np.savetxt(f'{model_dir}{obj_name}_{date_time}_{model_name}_likelihood.txt', lnprob) \n",
    "    # save initial parameters\n",
    "    np.savetxt(f'{model_dir}{obj_name}_{date_time}_{model_name}_initial_parameters.txt',p0)           \n",
    "    # save initial error estimates\n",
    "    np.savetxt(f'{model_dir}{obj_name}_{date_time}_{model_name}_initial_error_estimates.txt',sigpar)\n",
    "    # save bounds\n",
    "    np.savetxt(f'{model_dir}{obj_name}_{date_time}_{model_name}_bounds.txt', bounds)\n",
    "    # save labels\n",
    "    np.savetxt(f'{model_dir}{obj_name}_{date_time}_{model_name}_labels.txt', labels, fmt='%s')\n",
    "    # save surface potential\n",
    "    np.savetxt(f'{model_dir}{obj_name}_{date_time}_{model_name}_surf_potential.txt', surf_potential)\n",
    "    # save rms_model\n",
    "    np.savetxt(f'{model_dir}{obj_name}_{date_time}_{model_name}_rms_model.txt', rms_model)\n",
    "    # save flux_model\n",
    "    np.savetxt(f'{model_dir}{obj_name}_{date_time}_{model_name}_flux_model.txt', flux_model)\n",
    "    # create a binary pickle file \n",
    "    f = open(f\"{model_dir}{obj_name}_{date_time}_{model_name}_kwargs.pkl\",\"wb\")\n",
    "    # write the python object (dict) to pickle file\n",
    "    pickle.dump(kwargs,f)\n",
    "    # close file\n",
    "    f.close()"
   ]
  },
  {
   "cell_type": "code",
   "execution_count": 20,
   "metadata": {},
   "outputs": [],
   "source": [
    "def space_jam (obj_name, SN, model, anisotropy, align, sampler, sampler_args, rs_mst,\n",
    "               p0=None, bounds=None, sigpar=None, prior_type=None, lensprior=None, \n",
    "               date_time=None, overwrite=False, run_id=None):\n",
    "    \n",
    "    '''\n",
    "    obj_name and number steps to try it out. Start all with the same priors.\n",
    "    '''\n",
    "\n",
    "    obj_abbr = obj_name[4:9] # e.g. J0029\n",
    "    zlens = zlenses[slacs_ix_table['Name']==obj_name]\n",
    "    zsource = zsources[slacs_ix_table['Name']==obj_name]\n",
    "    distance = cosmo.angular_diameter_distance(zlens).value\n",
    "    fast_slow = paper_table[paper_table['obj_name']==obj_name]['lambda_R_class'].to_numpy()[0]\n",
    "\n",
    "    mos_dir = f'{mosaics_dir}{obj_name}/' # directory with all files of obj_name\n",
    "    kin_dir = f'{kinematics_dir}{obj_name}/'\n",
    "    jam_dir = f'{jam_output_dir}{obj_name}/'\n",
    "    # create a directory for JAM outputs\n",
    "    Path(jam_dir).mkdir(parents=True, exist_ok=True)\n",
    "    \n",
    "    if obj_abbr=='J0330':\n",
    "        target_kin_dir = f'{kin_dir}target_sn_{SN}/{obj_name}_{SN}_final_kinematics/no_g/'\n",
    "    else:\n",
    "        target_kin_dir = f'{kin_dir}target_sn_{SN}/{obj_name}_{SN}_marginalized_gnog_final_kinematics/'\n",
    "    target_jam_dir = f'{jam_dir}target_sn_{SN}/'\n",
    "    # create a directory for JAM outputs\n",
    "    Path(target_jam_dir).mkdir(parents=True, exist_ok=True)\n",
    "\n",
    "    # prepare inputs\n",
    "    surf, sigma, qobs, kcwi_sigmapsf, Vrms, dVrms, V, dV, xbin, ybin, reff = prepare_to_jam(obj_name, target_kin_dir, SN)\n",
    "    #print('loaded dVrms: ', dVrms)\n",
    "    \n",
    "    #############################################################\n",
    "    # JAM Parameters\n",
    "    ##############################################################################\n",
    "    ##############################################################################\n",
    "    \n",
    "    # get priors for sampling\n",
    "    p0, bounds, sigpar, prior_type, labels = get_priors_and_labels (model=model, anisotropy=anisotropy, qobs=qobs, align=align, fast_slow=fast_slow, \n",
    "                                                                     p0=p0, bounds=bounds, sigpar=sigpar, prior_type=prior_type)\n",
    "    \n",
    "    print('bounds in jam', bounds)\n",
    "    \n",
    "    goodbins = np.isfinite(xbin)  # Here I fit all bins, it's already masked\n",
    "\n",
    "    # These parameters are passed to JAM\n",
    "    kwargs = {'surf_lum': surf, 'sigma_lum': sigma, 'qobs_lum': qobs,\n",
    "              'distance': distance, 'xbin': xbin, 'ybin': ybin, 'sigmapsf': kcwi_sigmapsf,\n",
    "              'normpsf': 1., 'rms':Vrms, 'erms':dVrms, 'pixsize': kcwi_scale,\n",
    "              'goodbins': goodbins, 'plot': False, 'reff':reff, \n",
    "              'model':model, 'anisotropy':anisotropy, 'align':align,\n",
    "              'p0':p0, 'bounds':bounds, 'sigpar':sigpar, 'prior_type':prior_type, 'labels':labels,\n",
    "              'zlens':zlens, 'zsource':zsource, 'rs_mst':rs_mst,\n",
    "             }\n",
    "    \n",
    "    # make the model directory\n",
    "    model_dir, model_name = create_model_directory (target_jam_dir, obj_name, SN, \n",
    "                                                    model, anisotropy, align, sampler, lensprior, rs_mst,\n",
    "                                                    date_time, overwrite, run_id)       \n",
    "    print()\n",
    "    print('Outputs to ', model_dir)\n",
    "    print()\n",
    "\n",
    "    # For now, we have a single function that will work for const/om, and pl/nfw\n",
    "    jam_prob_func=jam_lnprob\n",
    "\n",
    "    if sampler=='adamet':\n",
    "        # Do the fit\n",
    "        print(\"Started AdaMet please wait...\")\n",
    "        print(\"Progress is printed periodically\")\n",
    "        nstep = sampler_args\n",
    "        pos0 = p0 + np.random.normal(0, sigpar, len(p0)) # initialize slightly off # Fix this later\n",
    "        pars, lnprob = adamet(jam_prob_func, pos0, sigpar, bounds, nstep, fignum=1,\n",
    "                              kwargs=kwargs, nprint=nstep/20, labels=labels, seed=2, plot=False)\n",
    "        \n",
    "    elif sampler=='emcee':\n",
    "        # Do the fit\n",
    "        print(\"Started Emcee please wait...\")\n",
    "        print(\"Progress is printed periodically\")\n",
    "        nstep, nwalkers, ndim = sampler_args\n",
    "        # set initial walker positions\n",
    "        walk0 = propose_initial_walkers (nwalkers, bounds, ndim, anisotropy)\n",
    "        sampler = emcee.EnsembleSampler(nwalkers, ndim, jam_prob_func, kwargs=kwargs)\n",
    "        sampler.run_mcmc(walk0, nstep, progress=True)\n",
    "        # save sampler as pickle\n",
    "        f = open(f\"{model_dir}{obj_name}_{date_time}_{model_name}_emcee_sampler.pkl\",\"wb\")\n",
    "        # write the python object (dict) to pickle file\n",
    "        pickle.dump(sampler,f)\n",
    "        # close file\n",
    "        f.close()\n",
    "        pars = sampler.get_chain(flat=True)\n",
    "        lnprob = sampler.get_log_prob(flat=True)\n",
    "        fig = corner.corner(\n",
    "            pars, labels=labels\n",
    "        );\n",
    "        for i in range(ndim):\n",
    "            mcmc = np.percentile(pars[:, i], [16, 50, 84])\n",
    "            q = np.diff(mcmc)\n",
    "            txt = \"\\mathrm{{{3}}} = {0:.3f}_{{-{1:.3f}}}^{{{2:.3f}}}\"\n",
    "            txt = txt.format(mcmc[1], q[0], q[1], labels[i])\n",
    "            display(Math(txt))\n",
    "\n",
    "    print('n accepted unique parameters', len(np.unique(pars[:,0])))\n",
    "    \n",
    "    # plot the results, get rms_model and flux_model of best fit\n",
    "    surf_potential, rms_model, flux_model, \\\n",
    "        bestfit, percentiles, sig_bestfit, bestfit_chi2 = summary_plot(obj_name, date_time, model_dir, jam_prob_func, model_name,\n",
    "                                                                     pars=pars, lnprob=lnprob, labels=labels, bounds=bounds, \n",
    "                                                                     kwargs=kwargs, save=True, load=False)\n",
    "\n",
    "    _, _, _, lum_tot = mge_half_light_isophote(surf, sigma, qobs, distance)\n",
    "\n",
    "    q = bestfit[1]\n",
    "    print(f'Inclination: ', np.degrees(np.arctan2(np.sqrt(1 - np.min(qobs)**2), np.sqrt(np.min(qobs)**2 - q**2))))\n",
    "\n",
    "    # save parameters from fit\n",
    "    save_fit_parameters(model_dir, model_name, obj_name, date_time, bestfit, sig_bestfit, percentiles, bestfit_chi2, pars, lnprob, p0, sigpar, \n",
    "                        bounds, labels, surf_potential, rms_model, flux_model, kwargs)"
   ]
  },
  {
   "cell_type": "markdown",
   "metadata": {},
   "source": [
    "# New functions 09/28/23\n"
   ]
  },
  {
   "cell_type": "code",
   "execution_count": 21,
   "metadata": {},
   "outputs": [],
   "source": [
    "def check_convergence(samples): # stolen from https://github.com/exoplanet-dev/exoplanet/blob/2e66605f3d51e4cc052759438657c41d646de446/paper/notebooks/scaling/scaling.py#L124\n",
    "    tau = emcee.autocorr.integrated_time(samples, tol=0)\n",
    "    num = samples.shape[0] * samples.shape[1]\n",
    "    converged = np.all(tau * 1 < num)\n",
    "    converged &= np.all(len(samples) > 50 * tau)\n",
    "    return converged, num / tau"
   ]
  },
  {
   "cell_type": "code",
   "execution_count": 22,
   "metadata": {},
   "outputs": [
    {
     "ename": "AutocorrError",
     "evalue": "The chain is shorter than 50 times the integrated autocorrelation time for 5 parameter(s). Use this estimate with caution and run a longer chain!\nN/50 = 2;\ntau: [10.56330565 12.48540291 12.77814356 11.41966991 11.75869853]",
     "output_type": "error",
     "traceback": [
      "\u001b[0;31m---------------------------------------------------------------------------\u001b[0m",
      "\u001b[0;31mAutocorrError\u001b[0m                             Traceback (most recent call last)",
      "\u001b[0;32m<ipython-input-22-9e1f7ca0c272>\u001b[0m in \u001b[0;36m<module>\u001b[0;34m()\u001b[0m\n\u001b[1;32m      9\u001b[0m \u001b[0mchain\u001b[0m \u001b[0;34m=\u001b[0m \u001b[0mtommy_pickles\u001b[0m\u001b[0;34m.\u001b[0m\u001b[0mget_chain\u001b[0m\u001b[0;34m(\u001b[0m\u001b[0;34m)\u001b[0m\u001b[0;34m\u001b[0m\u001b[0m\n\u001b[1;32m     10\u001b[0m \u001b[0;34m\u001b[0m\u001b[0m\n\u001b[0;32m---> 11\u001b[0;31m \u001b[0mtommy_pickles\u001b[0m\u001b[0;34m.\u001b[0m\u001b[0mget_autocorr_time\u001b[0m\u001b[0;34m(\u001b[0m\u001b[0;34m)\u001b[0m\u001b[0;34m\u001b[0m\u001b[0m\n\u001b[0m",
      "\u001b[0;32m~/.local/lib/python3.7/site-packages/emcee/ensemble.py\u001b[0m in \u001b[0;36mget_autocorr_time\u001b[0;34m(self, **kwargs)\u001b[0m\n\u001b[1;32m    603\u001b[0m \u001b[0;34m\u001b[0m\u001b[0m\n\u001b[1;32m    604\u001b[0m     \u001b[0;32mdef\u001b[0m \u001b[0mget_autocorr_time\u001b[0m\u001b[0;34m(\u001b[0m\u001b[0mself\u001b[0m\u001b[0;34m,\u001b[0m \u001b[0;34m**\u001b[0m\u001b[0mkwargs\u001b[0m\u001b[0;34m)\u001b[0m\u001b[0;34m:\u001b[0m\u001b[0;34m\u001b[0m\u001b[0m\n\u001b[0;32m--> 605\u001b[0;31m         \u001b[0;32mreturn\u001b[0m \u001b[0mself\u001b[0m\u001b[0;34m.\u001b[0m\u001b[0mbackend\u001b[0m\u001b[0;34m.\u001b[0m\u001b[0mget_autocorr_time\u001b[0m\u001b[0;34m(\u001b[0m\u001b[0;34m**\u001b[0m\u001b[0mkwargs\u001b[0m\u001b[0;34m)\u001b[0m\u001b[0;34m\u001b[0m\u001b[0m\n\u001b[0m\u001b[1;32m    606\u001b[0m \u001b[0;34m\u001b[0m\u001b[0m\n\u001b[1;32m    607\u001b[0m     \u001b[0mget_autocorr_time\u001b[0m\u001b[0;34m.\u001b[0m\u001b[0m__doc__\u001b[0m \u001b[0;34m=\u001b[0m \u001b[0mBackend\u001b[0m\u001b[0;34m.\u001b[0m\u001b[0mget_autocorr_time\u001b[0m\u001b[0;34m.\u001b[0m\u001b[0m__doc__\u001b[0m\u001b[0;34m\u001b[0m\u001b[0m\n",
      "\u001b[0;32m~/.local/lib/python3.7/site-packages/emcee/backends/backend.py\u001b[0m in \u001b[0;36mget_autocorr_time\u001b[0;34m(self, discard, thin, **kwargs)\u001b[0m\n\u001b[1;32m    148\u001b[0m         \"\"\"\n\u001b[1;32m    149\u001b[0m         \u001b[0mx\u001b[0m \u001b[0;34m=\u001b[0m \u001b[0mself\u001b[0m\u001b[0;34m.\u001b[0m\u001b[0mget_chain\u001b[0m\u001b[0;34m(\u001b[0m\u001b[0mdiscard\u001b[0m\u001b[0;34m=\u001b[0m\u001b[0mdiscard\u001b[0m\u001b[0;34m,\u001b[0m \u001b[0mthin\u001b[0m\u001b[0;34m=\u001b[0m\u001b[0mthin\u001b[0m\u001b[0;34m)\u001b[0m\u001b[0;34m\u001b[0m\u001b[0m\n\u001b[0;32m--> 150\u001b[0;31m         \u001b[0;32mreturn\u001b[0m \u001b[0mthin\u001b[0m \u001b[0;34m*\u001b[0m \u001b[0mautocorr\u001b[0m\u001b[0;34m.\u001b[0m\u001b[0mintegrated_time\u001b[0m\u001b[0;34m(\u001b[0m\u001b[0mx\u001b[0m\u001b[0;34m,\u001b[0m \u001b[0;34m**\u001b[0m\u001b[0mkwargs\u001b[0m\u001b[0;34m)\u001b[0m\u001b[0;34m\u001b[0m\u001b[0m\n\u001b[0m\u001b[1;32m    151\u001b[0m \u001b[0;34m\u001b[0m\u001b[0m\n\u001b[1;32m    152\u001b[0m     \u001b[0;34m@\u001b[0m\u001b[0mproperty\u001b[0m\u001b[0;34m\u001b[0m\u001b[0m\n",
      "\u001b[0;32m~/.local/lib/python3.7/site-packages/emcee/autocorr.py\u001b[0m in \u001b[0;36mintegrated_time\u001b[0;34m(x, c, tol, quiet)\u001b[0m\n\u001b[1;32m    110\u001b[0m         \u001b[0mmsg\u001b[0m \u001b[0;34m+=\u001b[0m \u001b[0;34m\"N/{0} = {1:.0f};\\ntau: {2}\"\u001b[0m\u001b[0;34m.\u001b[0m\u001b[0mformat\u001b[0m\u001b[0;34m(\u001b[0m\u001b[0mtol\u001b[0m\u001b[0;34m,\u001b[0m \u001b[0mn_t\u001b[0m \u001b[0;34m/\u001b[0m \u001b[0mtol\u001b[0m\u001b[0;34m,\u001b[0m \u001b[0mtau_est\u001b[0m\u001b[0;34m)\u001b[0m\u001b[0;34m\u001b[0m\u001b[0m\n\u001b[1;32m    111\u001b[0m         \u001b[0;32mif\u001b[0m \u001b[0;32mnot\u001b[0m \u001b[0mquiet\u001b[0m\u001b[0;34m:\u001b[0m\u001b[0;34m\u001b[0m\u001b[0m\n\u001b[0;32m--> 112\u001b[0;31m             \u001b[0;32mraise\u001b[0m \u001b[0mAutocorrError\u001b[0m\u001b[0;34m(\u001b[0m\u001b[0mtau_est\u001b[0m\u001b[0;34m,\u001b[0m \u001b[0mmsg\u001b[0m\u001b[0;34m)\u001b[0m\u001b[0;34m\u001b[0m\u001b[0m\n\u001b[0m\u001b[1;32m    113\u001b[0m         \u001b[0mlogger\u001b[0m\u001b[0;34m.\u001b[0m\u001b[0mwarning\u001b[0m\u001b[0;34m(\u001b[0m\u001b[0mmsg\u001b[0m\u001b[0;34m)\u001b[0m\u001b[0;34m\u001b[0m\u001b[0m\n\u001b[1;32m    114\u001b[0m \u001b[0;34m\u001b[0m\u001b[0m\n",
      "\u001b[0;31mAutocorrError\u001b[0m: The chain is shorter than 50 times the integrated autocorrelation time for 5 parameter(s). Use this estimate with caution and run a longer chain!\nN/50 = 2;\ntau: [10.56330565 12.48540291 12.77814356 11.41966991 11.75869853]"
     ]
    }
   ],
   "source": [
    "# Test on one that exists\n",
    "#pkl_file = '/data/raw_data/KECK_KCWI_SLACS_kinematics_shawn/jam_outputs/SDSSJ0029-0055/target_sn_15/SDSSJ0029-0055_model_2023_09_15_v1_15_power_law_OM_sph_emcee_lensprior_0.3/SDSSJ0029-0055_2023_09_15_15_power_law_OM_sph_emcee_lensprior_0.3_emcee_sampler.pkl'\n",
    "#pkl_file = '/data/raw_data/KECK_KCWI_SLACS_kinematics_shawn/jam_outputs/SDSSJ0029-0055/target_sn_15/SDSSJ0029-0055_model_2023_09_21_v1_15_power_law_const_sph_emcee_lensprior_0.3/SDSSJ0029-0055_2023_09_21_15_power_law_const_sph_emcee_lensprior_0.3_emcee_sampler.pkl'\n",
    "pkl_file = '/data/raw_data/KECK_KCWI_SLACS_kinematics_shawn/jam_outputs/SDSSJ1204+0358/target_sn_15/SDSSJ1204+0358_model_2023_09_15_v1_15_power_law_OM_sph_emcee_lensprior_0.3/SDSSJ1204+0358_2023_09_15_15_power_law_OM_sph_emcee_lensprior_0.3_emcee_sampler.pkl'\n",
    "#pkl_file = '/data/raw_data/KECK_KCWI_SLACS_kinematics_shawn/jam_outputs/SDSSJ1112+0826/target_sn_15/SDSSJ1112+0826_model_2023_09_11_v1_15_power_law_const_cyl_emcee_lensprior_0.3/SDSSJ1112+0826_2023_09_11_15_power_law_const_cyl_emcee_lensprior_0.3_emcee_sampler.pkl'\n",
    "with open(pkl_file, 'rb') as f:\n",
    "    tommy_pickles = pickle.load(f)\n",
    "    \n",
    "chain = tommy_pickles.get_chain()\n",
    "\n",
    "tommy_pickles.get_autocorr_time()"
   ]
  },
  {
   "cell_type": "code",
   "execution_count": 23,
   "metadata": {},
   "outputs": [
    {
     "data": {
      "text/plain": [
       "(False, array([302.93547352, 256.2992979 , 250.42761377, 280.21825719,\n",
       "        272.13896096]))"
      ]
     },
     "execution_count": 23,
     "metadata": {},
     "output_type": "execute_result"
    }
   ],
   "source": [
    "check_convergence(chain)"
   ]
  },
  {
   "cell_type": "code",
   "execution_count": 24,
   "metadata": {},
   "outputs": [
    {
     "data": {
      "text/plain": [
       "(100, 32, 5)"
      ]
     },
     "execution_count": 24,
     "metadata": {},
     "output_type": "execute_result"
    }
   ],
   "source": [
    "chain.shape"
   ]
  },
  {
   "cell_type": "code",
   "execution_count": 25,
   "metadata": {},
   "outputs": [
    {
     "data": {
      "text/plain": [
       "Text(0.5, 0, 'nsteps')"
      ]
     },
     "execution_count": 25,
     "metadata": {},
     "output_type": "execute_result"
    },
    {
     "data": {
      "image/png": "[encoded data removed]",
      "text/plain": [
       "<Figure size 432x288 with 1 Axes>"
      ]
     },
     "metadata": {
      "needs_background": "light"
     },
     "output_type": "display_data"
    }
   ],
   "source": [
    "plt.plot(chain[:,:,2])\n",
    "plt.ylabel(r'$\\sigma_z/\\sigma_R$')\n",
    "plt.xlabel('nsteps')"
   ]
  },
  {
   "cell_type": "code",
   "execution_count": 26,
   "metadata": {},
   "outputs": [
    {
     "name": "stderr",
     "output_type": "stream",
     "text": [
      "/home/shawnknabel/.local/lib/python3.7/site-packages/emcee/autocorr.py:38: RuntimeWarning: invalid value encountered in true_divide\n",
      "  acf /= acf[0]\n"
     ]
    },
    {
     "data": {
      "text/plain": [
       "array([nan, nan, nan, nan, nan])"
      ]
     },
     "execution_count": 26,
     "metadata": {},
     "output_type": "execute_result"
    }
   ],
   "source": [
    "# Test on one that exists\n",
    "#pkl_file = '/data/raw_data/KECK_KCWI_SLACS_kinematics_shawn/jam_outputs/SDSSJ0029-0055/target_sn_15/SDSSJ0029-0055_model_2023_09_15_v1_15_power_law_OM_sph_emcee_lensprior_0.3/SDSSJ0029-0055_2023_09_15_15_power_law_OM_sph_emcee_lensprior_0.3_emcee_sampler.pkl'\n",
    "#pkl_file = '/data/raw_data/KECK_KCWI_SLACS_kinematics_shawn/jam_outputs/SDSSJ0029-0055/target_sn_15/SDSSJ0029-0055_model_2023_09_21_v1_15_power_law_const_sph_emcee_lensprior_0.3/SDSSJ0029-0055_2023_09_21_15_power_law_const_sph_emcee_lensprior_0.3_emcee_sampler.pkl'\n",
    "#pkl_file = '/data/raw_data/KECK_KCWI_SLACS_kinematics_shawn/jam_outputs/SDSSJ0029-0055/target_sn_15/SDSSJ0029-0055_model_2023_09_15_v1_15_power_law_OM_cyl_emcee_lensprior_0.3/SDSSJ0029-0055_2023_09_15_15_power_law_OM_cyl_emcee_lensprior_0.3_emcee_sampler.pkl'\n",
    "pkl_file = '/data/raw_data/KECK_KCWI_SLACS_kinematics_shawn/jam_outputs/SDSSJ1112+0826/target_sn_15/SDSSJ1112+0826_model_2023_09_11_v1_15_power_law_const_cyl_emcee_lensprior_0.3/SDSSJ1112+0826_2023_09_11_15_power_law_const_cyl_emcee_lensprior_0.3_emcee_sampler.pkl'\n",
    "with open(pkl_file, 'rb') as f:\n",
    "    tommy_pickles = pickle.load(f)\n",
    "    \n",
    "chain = tommy_pickles.get_chain()\n",
    "\n",
    "tommy_pickles.get_autocorr_time()"
   ]
  },
  {
   "cell_type": "code",
   "execution_count": 27,
   "metadata": {},
   "outputs": [
    {
     "name": "stderr",
     "output_type": "stream",
     "text": [
      "/home/shawnknabel/.local/lib/python3.7/site-packages/emcee/autocorr.py:38: RuntimeWarning: invalid value encountered in true_divide\n",
      "  acf /= acf[0]\n"
     ]
    },
    {
     "data": {
      "text/plain": [
       "(False, array([nan, nan, nan, nan, nan]))"
      ]
     },
     "execution_count": 27,
     "metadata": {},
     "output_type": "execute_result"
    }
   ],
   "source": [
    "check_convergence(chain)"
   ]
  },
  {
   "cell_type": "code",
   "execution_count": 28,
   "metadata": {},
   "outputs": [
    {
     "data": {
      "text/plain": [
       "(100, 32, 5)"
      ]
     },
     "execution_count": 28,
     "metadata": {},
     "output_type": "execute_result"
    }
   ],
   "source": [
    "chain.shape"
   ]
  },
  {
   "cell_type": "code",
   "execution_count": 29,
   "metadata": {},
   "outputs": [
    {
     "data": {
      "text/plain": [
       "Text(0.5, 0, 'nsteps')"
      ]
     },
     "execution_count": 29,
     "metadata": {},
     "output_type": "execute_result"
    },
    {
     "data": {
      "image/png": "[encoded data removed]",
      "text/plain": [
       "<Figure size 432x288 with 1 Axes>"
      ]
     },
     "metadata": {
      "needs_background": "light"
     },
     "output_type": "display_data"
    }
   ],
   "source": [
    "plt.plot(chain[:,:,2])\n",
    "plt.ylabel(r'$\\sigma_z/\\sigma_R$')\n",
    "plt.xlabel('nsteps')"
   ]
  },
  {
   "cell_type": "code",
   "execution_count": 30,
   "metadata": {},
   "outputs": [
    {
     "name": "stderr",
     "output_type": "stream",
     "text": [
      "/home/shawnknabel/.local/lib/python3.7/site-packages/emcee/autocorr.py:38: RuntimeWarning: invalid value encountered in true_divide\n",
      "  acf /= acf[0]\n"
     ]
    },
    {
     "ename": "AutocorrError",
     "evalue": "The chain is shorter than 50 times the integrated autocorrelation time for 2 parameter(s). Use this estimate with caution and run a longer chain!\nN/50 = 2;\ntau: [        nan 16.15113372         nan         nan 15.78066301]",
     "output_type": "error",
     "traceback": [
      "\u001b[0;31m---------------------------------------------------------------------------\u001b[0m",
      "\u001b[0;31mAutocorrError\u001b[0m                             Traceback (most recent call last)",
      "\u001b[0;32m<ipython-input-30-3359db133673>\u001b[0m in \u001b[0;36m<module>\u001b[0;34m()\u001b[0m\n\u001b[1;32m      9\u001b[0m \u001b[0mchain\u001b[0m \u001b[0;34m=\u001b[0m \u001b[0mtommy_pickles\u001b[0m\u001b[0;34m.\u001b[0m\u001b[0mget_chain\u001b[0m\u001b[0;34m(\u001b[0m\u001b[0;34m)\u001b[0m\u001b[0;34m\u001b[0m\u001b[0m\n\u001b[1;32m     10\u001b[0m \u001b[0;34m\u001b[0m\u001b[0m\n\u001b[0;32m---> 11\u001b[0;31m \u001b[0mtommy_pickles\u001b[0m\u001b[0;34m.\u001b[0m\u001b[0mget_autocorr_time\u001b[0m\u001b[0;34m(\u001b[0m\u001b[0;34m)\u001b[0m\u001b[0;34m\u001b[0m\u001b[0m\n\u001b[0m",
      "\u001b[0;32m~/.local/lib/python3.7/site-packages/emcee/ensemble.py\u001b[0m in \u001b[0;36mget_autocorr_time\u001b[0;34m(self, **kwargs)\u001b[0m\n\u001b[1;32m    603\u001b[0m \u001b[0;34m\u001b[0m\u001b[0m\n\u001b[1;32m    604\u001b[0m     \u001b[0;32mdef\u001b[0m \u001b[0mget_autocorr_time\u001b[0m\u001b[0;34m(\u001b[0m\u001b[0mself\u001b[0m\u001b[0;34m,\u001b[0m \u001b[0;34m**\u001b[0m\u001b[0mkwargs\u001b[0m\u001b[0;34m)\u001b[0m\u001b[0;34m:\u001b[0m\u001b[0;34m\u001b[0m\u001b[0m\n\u001b[0;32m--> 605\u001b[0;31m         \u001b[0;32mreturn\u001b[0m \u001b[0mself\u001b[0m\u001b[0;34m.\u001b[0m\u001b[0mbackend\u001b[0m\u001b[0;34m.\u001b[0m\u001b[0mget_autocorr_time\u001b[0m\u001b[0;34m(\u001b[0m\u001b[0;34m**\u001b[0m\u001b[0mkwargs\u001b[0m\u001b[0;34m)\u001b[0m\u001b[0;34m\u001b[0m\u001b[0m\n\u001b[0m\u001b[1;32m    606\u001b[0m \u001b[0;34m\u001b[0m\u001b[0m\n\u001b[1;32m    607\u001b[0m     \u001b[0mget_autocorr_time\u001b[0m\u001b[0;34m.\u001b[0m\u001b[0m__doc__\u001b[0m \u001b[0;34m=\u001b[0m \u001b[0mBackend\u001b[0m\u001b[0;34m.\u001b[0m\u001b[0mget_autocorr_time\u001b[0m\u001b[0;34m.\u001b[0m\u001b[0m__doc__\u001b[0m\u001b[0;34m\u001b[0m\u001b[0m\n",
      "\u001b[0;32m~/.local/lib/python3.7/site-packages/emcee/backends/backend.py\u001b[0m in \u001b[0;36mget_autocorr_time\u001b[0;34m(self, discard, thin, **kwargs)\u001b[0m\n\u001b[1;32m    148\u001b[0m         \"\"\"\n\u001b[1;32m    149\u001b[0m         \u001b[0mx\u001b[0m \u001b[0;34m=\u001b[0m \u001b[0mself\u001b[0m\u001b[0;34m.\u001b[0m\u001b[0mget_chain\u001b[0m\u001b[0;34m(\u001b[0m\u001b[0mdiscard\u001b[0m\u001b[0;34m=\u001b[0m\u001b[0mdiscard\u001b[0m\u001b[0;34m,\u001b[0m \u001b[0mthin\u001b[0m\u001b[0;34m=\u001b[0m\u001b[0mthin\u001b[0m\u001b[0;34m)\u001b[0m\u001b[0;34m\u001b[0m\u001b[0m\n\u001b[0;32m--> 150\u001b[0;31m         \u001b[0;32mreturn\u001b[0m \u001b[0mthin\u001b[0m \u001b[0;34m*\u001b[0m \u001b[0mautocorr\u001b[0m\u001b[0;34m.\u001b[0m\u001b[0mintegrated_time\u001b[0m\u001b[0;34m(\u001b[0m\u001b[0mx\u001b[0m\u001b[0;34m,\u001b[0m \u001b[0;34m**\u001b[0m\u001b[0mkwargs\u001b[0m\u001b[0;34m)\u001b[0m\u001b[0;34m\u001b[0m\u001b[0m\n\u001b[0m\u001b[1;32m    151\u001b[0m \u001b[0;34m\u001b[0m\u001b[0m\n\u001b[1;32m    152\u001b[0m     \u001b[0;34m@\u001b[0m\u001b[0mproperty\u001b[0m\u001b[0;34m\u001b[0m\u001b[0m\n",
      "\u001b[0;32m~/.local/lib/python3.7/site-packages/emcee/autocorr.py\u001b[0m in \u001b[0;36mintegrated_time\u001b[0;34m(x, c, tol, quiet)\u001b[0m\n\u001b[1;32m    110\u001b[0m         \u001b[0mmsg\u001b[0m \u001b[0;34m+=\u001b[0m \u001b[0;34m\"N/{0} = {1:.0f};\\ntau: {2}\"\u001b[0m\u001b[0;34m.\u001b[0m\u001b[0mformat\u001b[0m\u001b[0;34m(\u001b[0m\u001b[0mtol\u001b[0m\u001b[0;34m,\u001b[0m \u001b[0mn_t\u001b[0m \u001b[0;34m/\u001b[0m \u001b[0mtol\u001b[0m\u001b[0;34m,\u001b[0m \u001b[0mtau_est\u001b[0m\u001b[0;34m)\u001b[0m\u001b[0;34m\u001b[0m\u001b[0m\n\u001b[1;32m    111\u001b[0m         \u001b[0;32mif\u001b[0m \u001b[0;32mnot\u001b[0m \u001b[0mquiet\u001b[0m\u001b[0;34m:\u001b[0m\u001b[0;34m\u001b[0m\u001b[0m\n\u001b[0;32m--> 112\u001b[0;31m             \u001b[0;32mraise\u001b[0m \u001b[0mAutocorrError\u001b[0m\u001b[0;34m(\u001b[0m\u001b[0mtau_est\u001b[0m\u001b[0;34m,\u001b[0m \u001b[0mmsg\u001b[0m\u001b[0;34m)\u001b[0m\u001b[0;34m\u001b[0m\u001b[0m\n\u001b[0m\u001b[1;32m    113\u001b[0m         \u001b[0mlogger\u001b[0m\u001b[0;34m.\u001b[0m\u001b[0mwarning\u001b[0m\u001b[0;34m(\u001b[0m\u001b[0mmsg\u001b[0m\u001b[0;34m)\u001b[0m\u001b[0;34m\u001b[0m\u001b[0m\n\u001b[1;32m    114\u001b[0m \u001b[0;34m\u001b[0m\u001b[0m\n",
      "\u001b[0;31mAutocorrError\u001b[0m: The chain is shorter than 50 times the integrated autocorrelation time for 2 parameter(s). Use this estimate with caution and run a longer chain!\nN/50 = 2;\ntau: [        nan 16.15113372         nan         nan 15.78066301]"
     ]
    }
   ],
   "source": [
    "# Test on one that exists\n",
    "#pkl_file = '/data/raw_data/KECK_KCWI_SLACS_kinematics_shawn/jam_outputs/SDSSJ0029-0055/target_sn_15/SDSSJ0029-0055_model_2023_09_15_v1_15_power_law_OM_sph_emcee_lensprior_0.3/SDSSJ0029-0055_2023_09_15_15_power_law_OM_sph_emcee_lensprior_0.3_emcee_sampler.pkl'\n",
    "#pkl_file = '/data/raw_data/KECK_KCWI_SLACS_kinematics_shawn/jam_outputs/SDSSJ0029-0055/target_sn_15/SDSSJ0029-0055_model_2023_09_21_v1_15_power_law_const_sph_emcee_lensprior_0.3/SDSSJ0029-0055_2023_09_21_15_power_law_const_sph_emcee_lensprior_0.3_emcee_sampler.pkl'\n",
    "#pkl_file = '/data/raw_data/KECK_KCWI_SLACS_kinematics_shawn/jam_outputs/SDSSJ0029-0055/target_sn_15/SDSSJ0029-0055_model_2023_09_15_v1_15_power_law_OM_cyl_emcee_lensprior_0.3/SDSSJ0029-0055_2023_09_15_15_power_law_OM_cyl_emcee_lensprior_0.3_emcee_sampler.pkl'\n",
    "pkl_file = '/data/raw_data/KECK_KCWI_SLACS_kinematics_shawn/jam_outputs/SDSSJ1204+0358/target_sn_15/SDSSJ1204+0358_model_2023_09_11_v1_15_power_law_const_sph_emcee_lensprior_0.3/SDSSJ1204+0358_2023_09_11_15_power_law_const_sph_emcee_lensprior_0.3_emcee_sampler.pkl'\n",
    "with open(pkl_file, 'rb') as f:\n",
    "    tommy_pickles = pickle.load(f)\n",
    "    \n",
    "chain = tommy_pickles.get_chain()\n",
    "\n",
    "tommy_pickles.get_autocorr_time()"
   ]
  },
  {
   "cell_type": "code",
   "execution_count": 31,
   "metadata": {},
   "outputs": [
    {
     "name": "stderr",
     "output_type": "stream",
     "text": [
      "/home/shawnknabel/.local/lib/python3.7/site-packages/emcee/autocorr.py:38: RuntimeWarning: invalid value encountered in true_divide\n",
      "  acf /= acf[0]\n"
     ]
    },
    {
     "data": {
      "text/plain": [
       "(False, array([         nan, 198.12850638,          nan,          nan,\n",
       "        202.77981967]))"
      ]
     },
     "execution_count": 31,
     "metadata": {},
     "output_type": "execute_result"
    }
   ],
   "source": [
    "check_convergence(chain)"
   ]
  },
  {
   "cell_type": "code",
   "execution_count": 32,
   "metadata": {},
   "outputs": [
    {
     "data": {
      "text/plain": [
       "(100, 32, 5)"
      ]
     },
     "execution_count": 32,
     "metadata": {},
     "output_type": "execute_result"
    }
   ],
   "source": [
    "chain.shape"
   ]
  },
  {
   "cell_type": "code",
   "execution_count": 33,
   "metadata": {},
   "outputs": [
    {
     "data": {
      "text/plain": [
       "Text(0.5, 0, 'nsteps')"
      ]
     },
     "execution_count": 33,
     "metadata": {},
     "output_type": "execute_result"
    },
    {
     "data": {
      "image/png": "[encoded data removed]",
      "text/plain": [
       "<Figure size 432x288 with 1 Axes>"
      ]
     },
     "metadata": {
      "needs_background": "light"
     },
     "output_type": "display_data"
    }
   ],
   "source": [
    "plt.plot(chain[:,:,2])\n",
    "plt.ylabel(r'$\\sigma_z/\\sigma_R$')\n",
    "plt.xlabel('nsteps')"
   ]
  },
  {
   "cell_type": "markdown",
   "metadata": {},
   "source": [
    "# There is something wrong with the way I'm doing the constant anisotropy models, such that some of the walkers just never walk and keep rejecting the models.\n",
    "# This has to be from my inclination dependent \"prior\".\n",
    "# If I put in a bound for q, where q_intr > 0.6... This corresponds to a minimum anis_ratio > R(q=0.6) = sqrt(0.3 + 0.7 * 0.6)"
   ]
  },
  {
   "cell_type": "code",
   "execution_count": 34,
   "metadata": {},
   "outputs": [
    {
     "data": {
      "text/plain": [
       "0.848528137423857"
      ]
     },
     "execution_count": 34,
     "metadata": {},
     "output_type": "execute_result"
    }
   ],
   "source": [
    "np.sqrt(0.3 + 0.7*0.6)"
   ]
  },
  {
   "cell_type": "markdown",
   "metadata": {},
   "source": [
    "# Also, is the radius of my data actually correct or is there a problem here..."
   ]
  },
  {
   "cell_type": "code",
   "execution_count": 35,
   "metadata": {},
   "outputs": [
    {
     "data": {
      "text/plain": [
       "2.1567000000000003"
      ]
     },
     "execution_count": 35,
     "metadata": {},
     "output_type": "execute_result"
    }
   ],
   "source": [
    "2.73*0.79 # reff of J1531 and the resulting anisotropy radius"
   ]
  },
  {
   "cell_type": "markdown",
   "metadata": {},
   "source": [
    "# Look at J0029"
   ]
  },
  {
   "cell_type": "code",
   "execution_count": 36,
   "metadata": {},
   "outputs": [],
   "source": [
    "pkl_file = f'/data/raw_data/KECK_KCWI_SLACS_kinematics_shawn/jam_outputs/SDSSJ0029-0055/target_sn_15/SDSSJ0029-0055_model_2023_09_15_v1_15_power_law_OM_sph_emcee_lensprior_0.3/SDSSJ0029-0055_2023_09_15_15_power_law_OM_sph_emcee_lensprior_0.3_kwargs.pkl'\n",
    "\n",
    "with open(pkl_file, 'rb') as f:\n",
    "    tommy_pickles = pickle.load(f)\n",
    "    \n"
   ]
  },
  {
   "cell_type": "code",
   "execution_count": 37,
   "metadata": {},
   "outputs": [
    {
     "data": {
      "text/plain": [
       "2.2263094154848346"
      ]
     },
     "execution_count": 37,
     "metadata": {},
     "output_type": "execute_result"
    }
   ],
   "source": [
    "np.abs(tommy_pickles['xbin']).max()"
   ]
  },
  {
   "cell_type": "code",
   "execution_count": 38,
   "metadata": {},
   "outputs": [
    {
     "data": {
      "text/plain": [
       "1.9717578478645972"
      ]
     },
     "execution_count": 38,
     "metadata": {},
     "output_type": "execute_result"
    }
   ],
   "source": [
    "np.abs(tommy_pickles['ybin']).max()"
   ]
  },
  {
   "cell_type": "code",
   "execution_count": 39,
   "metadata": {},
   "outputs": [
    {
     "data": {
      "text/plain": [
       "2.1358079633837015"
      ]
     },
     "execution_count": 39,
     "metadata": {},
     "output_type": "execute_result"
    }
   ],
   "source": [
    "tommy_pickles['reff']"
   ]
  },
  {
   "cell_type": "code",
   "execution_count": 40,
   "metadata": {},
   "outputs": [
    {
     "data": {
      "text/plain": [
       "0.644"
      ]
     },
     "execution_count": 40,
     "metadata": {},
     "output_type": "execute_result"
    }
   ],
   "source": [
    "0.28*2.30"
   ]
  },
  {
   "cell_type": "code",
   "execution_count": 41,
   "metadata": {},
   "outputs": [
    {
     "data": {
      "text/plain": [
       "array([0.79058707, 0.75924292, 0.82193121, 0.8247578 , 0.83523256,\n",
       "       0.83278568, 0.8460978 ])"
      ]
     },
     "execution_count": 41,
     "metadata": {},
     "output_type": "execute_result"
    }
   ],
   "source": [
    "tommy_pickles['qobs_lum']"
   ]
  },
  {
   "cell_type": "code",
   "execution_count": 42,
   "metadata": {},
   "outputs": [
    {
     "data": {
      "text/plain": [
       "array([0.02735933, 0.13438297, 0.24684055, 0.63891759, 1.19635072,\n",
       "       2.21875573, 4.72550522])"
      ]
     },
     "execution_count": 42,
     "metadata": {},
     "output_type": "execute_result"
    }
   ],
   "source": [
    "tommy_pickles['sigma_lum']"
   ]
  },
  {
   "cell_type": "code",
   "execution_count": 43,
   "metadata": {},
   "outputs": [
    {
     "data": {
      "text/plain": [
       "array([7.55965228e+04, 2.78371133e+03, 1.41250586e+03, 3.74326172e+02,\n",
       "       1.22119659e+02, 4.70425218e+01, 2.42530873e+01])"
      ]
     },
     "execution_count": 43,
     "metadata": {},
     "output_type": "execute_result"
    }
   ],
   "source": [
    "tommy_pickles['surf_lum']"
   ]
  },
  {
   "cell_type": "code",
   "execution_count": 44,
   "metadata": {},
   "outputs": [],
   "source": [
    "qmin = tommy_pickles['qobs_lum'].min()\n",
    "\n",
    "q = 0.695 # best fit intrinsic gives the inclination"
   ]
  },
  {
   "cell_type": "code",
   "execution_count": 45,
   "metadata": {},
   "outputs": [
    {
     "data": {
      "text/plain": [
       "[[1.4, 0.051, 0.1, 0.7, 0.5], [2.8, 0.7592429227715713, 2.0, 2.0, 1.5]]"
      ]
     },
     "execution_count": 45,
     "metadata": {},
     "output_type": "execute_result"
    }
   ],
   "source": [
    "tommy_pickles['bounds']"
   ]
  },
  {
   "cell_type": "code",
   "execution_count": 46,
   "metadata": {},
   "outputs": [
    {
     "data": {
      "text/plain": [
       "64.84268151012019"
      ]
     },
     "execution_count": 46,
     "metadata": {},
     "output_type": "execute_result"
    }
   ],
   "source": [
    "np.degrees(np.arctan2(np.sqrt(1 - qmin**2), np.sqrt(qmin**2 - q**2)))"
   ]
  },
  {
   "cell_type": "markdown",
   "metadata": {},
   "source": [
    "# Look at J0037"
   ]
  },
  {
   "cell_type": "code",
   "execution_count": 47,
   "metadata": {},
   "outputs": [],
   "source": [
    "pkl_file = f'/data/raw_data/KECK_KCWI_SLACS_kinematics_shawn/jam_outputs/SDSSJ0037-0942/target_sn_15/SDSSJ0037-0942_model_2023_09_15_v1_15_power_law_OM_sph_emcee_lensprior_0.3/SDSSJ0037-0942_2023_09_15_15_power_law_OM_sph_emcee_lensprior_0.3_kwargs.pkl'\n",
    "with open(pkl_file, 'rb') as f:\n",
    "    tommy_pickles = pickle.load(f)\n",
    "    \n"
   ]
  },
  {
   "cell_type": "code",
   "execution_count": 48,
   "metadata": {},
   "outputs": [
    {
     "data": {
      "text/plain": [
       "2.6954736998970312"
      ]
     },
     "execution_count": 48,
     "metadata": {},
     "output_type": "execute_result"
    }
   ],
   "source": [
    "np.abs(tommy_pickles['xbin']).max()"
   ]
  },
  {
   "cell_type": "code",
   "execution_count": 49,
   "metadata": {},
   "outputs": [
    {
     "data": {
      "text/plain": [
       "2.2361246545216074"
      ]
     },
     "execution_count": 49,
     "metadata": {},
     "output_type": "execute_result"
    }
   ],
   "source": [
    "np.abs(tommy_pickles['ybin']).max()"
   ]
  },
  {
   "cell_type": "code",
   "execution_count": 50,
   "metadata": {},
   "outputs": [
    {
     "data": {
      "text/plain": [
       "2.154388389566184"
      ]
     },
     "execution_count": 50,
     "metadata": {},
     "output_type": "execute_result"
    }
   ],
   "source": [
    "tommy_pickles['reff']"
   ]
  },
  {
   "cell_type": "code",
   "execution_count": 51,
   "metadata": {},
   "outputs": [
    {
     "data": {
      "text/plain": [
       "1.2926330337397105"
      ]
     },
     "execution_count": 51,
     "metadata": {},
     "output_type": "execute_result"
    }
   ],
   "source": [
    "# a_ani * reff\n",
    "0.60* tommy_pickles['reff']"
   ]
  },
  {
   "cell_type": "code",
   "execution_count": 52,
   "metadata": {},
   "outputs": [
    {
     "data": {
      "text/plain": [
       "array([0.7, 0.7, 0.7, 0.7, 0.7, 0.8])"
      ]
     },
     "execution_count": 52,
     "metadata": {},
     "output_type": "execute_result"
    }
   ],
   "source": [
    "tommy_pickles['qobs_lum']"
   ]
  },
  {
   "cell_type": "code",
   "execution_count": 53,
   "metadata": {},
   "outputs": [
    {
     "data": {
      "text/plain": [
       "array([0.019     , 0.16525636, 0.43856205, 0.89301246, 1.7218511 ,\n",
       "       4.94193347])"
      ]
     },
     "execution_count": 53,
     "metadata": {},
     "output_type": "execute_result"
    }
   ],
   "source": [
    "tommy_pickles['sigma_lum']"
   ]
  },
  {
   "cell_type": "code",
   "execution_count": 54,
   "metadata": {},
   "outputs": [
    {
     "data": {
      "text/plain": [
       "array([11496.84830495,  6137.61998833,  1655.51738253,   454.38671302,\n",
       "         229.02602869,    49.67215791])"
      ]
     },
     "execution_count": 54,
     "metadata": {},
     "output_type": "execute_result"
    }
   ],
   "source": [
    "tommy_pickles['surf_lum']"
   ]
  },
  {
   "cell_type": "code",
   "execution_count": 55,
   "metadata": {},
   "outputs": [],
   "source": [
    "qmin = tommy_pickles['qobs_lum'].min()\n",
    "\n",
    "q = 0.695 # best fit intrinsic gives the inclination"
   ]
  },
  {
   "cell_type": "code",
   "execution_count": 56,
   "metadata": {},
   "outputs": [
    {
     "data": {
      "text/plain": [
       "[[1.4, 0.051, 0.1, 0.7, 0.5], [2.8, 0.7, 2.0, 2.0, 1.5]]"
      ]
     },
     "execution_count": 56,
     "metadata": {},
     "output_type": "execute_result"
    }
   ],
   "source": [
    "tommy_pickles['bounds']"
   ]
  },
  {
   "cell_type": "code",
   "execution_count": 57,
   "metadata": {},
   "outputs": [
    {
     "data": {
      "text/plain": [
       "83.32976070282984"
      ]
     },
     "execution_count": 57,
     "metadata": {},
     "output_type": "execute_result"
    }
   ],
   "source": [
    "np.degrees(np.arctan2(np.sqrt(1 - qmin**2), np.sqrt(qmin**2 - q**2)))"
   ]
  },
  {
   "cell_type": "markdown",
   "metadata": {},
   "source": [
    "# I have an idea... I can just initialize the walkers in a parameter space that will work, and they should always walk in the right directions."
   ]
  },
  {
   "cell_type": "code",
   "execution_count": 58,
   "metadata": {},
   "outputs": [],
   "source": [
    "qs = np.linspace(0.051, 0.759, 1000)\n",
    "anis = np.linspace(0.1, 2.0, 1000)\n",
    "Rs = np.sqrt(0.3 + 0.7 * qs)\n",
    "\n",
    "grid_q, grid_ani = np.mgrid[0.051:0.759:100j, 0.1:2.0:100j]\n",
    "\n",
    "grid_R = np.sqrt(0.3+0.7*grid_q)"
   ]
  },
  {
   "cell_type": "code",
   "execution_count": 59,
   "metadata": {},
   "outputs": [
    {
     "data": {
      "text/plain": [
       "array([[1.60609526, 0.05872615, 1.42771073, 1.48299731, 1.05676969],\n",
       "       [1.53755753, 0.47477128, 1.70542888, 1.86008134, 0.72051184],\n",
       "       [1.70247353, 0.61156256, 0.22347604, 1.49026558, 1.04160406],\n",
       "       [2.33400677, 0.5459611 , 0.48506095, 1.09228497, 0.73280408],\n",
       "       [2.01386326, 0.4535981 , 0.95360496, 1.05496148, 1.02364757],\n",
       "       [2.779132  , 0.48289039, 1.06428285, 1.59990241, 0.59862803],\n",
       "       [2.50704628, 0.23516127, 1.88839389, 1.04944007, 1.19580629],\n",
       "       [2.00186278, 0.4519792 , 1.56329833, 1.94101749, 0.87909449],\n",
       "       [1.65454979, 0.14735481, 1.0450712 , 1.64140432, 0.86638094],\n",
       "       [2.46059826, 0.44308348, 1.0473167 , 0.92873956, 0.87907422],\n",
       "       [2.3520084 , 0.587575  , 0.70499495, 1.83999245, 0.71775191],\n",
       "       [1.69825729, 0.1173243 , 0.48730506, 1.1442364 , 1.38774728],\n",
       "       [2.29338244, 0.63910793, 1.05742504, 1.00962867, 1.13640738],\n",
       "       [1.92365485, 0.13374951, 0.70698268, 1.16020155, 0.84718643],\n",
       "       [2.35618544, 0.44408037, 0.53345996, 0.75326503, 0.76812573],\n",
       "       [2.32362615, 0.60273345, 1.6739737 , 1.67786186, 1.15760348]])"
      ]
     },
     "execution_count": 59,
     "metadata": {},
     "output_type": "execute_result"
    }
   ],
   "source": [
    "nstep, nwalkers, ndim = np.array([100, 16, 5])\n",
    "bounds = tommy_pickles['bounds']\n",
    "# set initial walker positions\n",
    "walk0 = np.random.uniform(bounds[0], bounds[1], [nwalkers,ndim])\n",
    "\n",
    "walk0"
   ]
  },
  {
   "cell_type": "code",
   "execution_count": 60,
   "metadata": {},
   "outputs": [
    {
     "data": {
      "text/plain": [
       "array([[0.05872615, 1.42771073],\n",
       "       [0.47477128, 1.70542888],\n",
       "       [0.61156256, 0.22347604],\n",
       "       [0.5459611 , 0.48506095],\n",
       "       [0.4535981 , 0.95360496],\n",
       "       [0.48289039, 1.06428285],\n",
       "       [0.23516127, 1.88839389],\n",
       "       [0.4519792 , 1.56329833],\n",
       "       [0.14735481, 1.0450712 ],\n",
       "       [0.44308348, 1.0473167 ],\n",
       "       [0.587575  , 0.70499495],\n",
       "       [0.1173243 , 0.48730506],\n",
       "       [0.63910793, 1.05742504],\n",
       "       [0.13374951, 0.70698268],\n",
       "       [0.44408037, 0.53345996],\n",
       "       [0.60273345, 1.6739737 ]])"
      ]
     },
     "execution_count": 60,
     "metadata": {},
     "output_type": "execute_result"
    }
   ],
   "source": [
    "walk0[:,1:3]"
   ]
  },
  {
   "cell_type": "code",
   "execution_count": 61,
   "metadata": {},
   "outputs": [
    {
     "data": {
      "text/plain": [
       "<matplotlib.collections.PathCollection at 0x7fcd189d9ac8>"
      ]
     },
     "execution_count": 61,
     "metadata": {},
     "output_type": "execute_result"
    },
    {
     "data": {
      "image/png": "[encoded data removed]",
      "text/plain": [
       "<Figure size 432x288 with 1 Axes>"
      ]
     },
     "metadata": {
      "needs_background": "light"
     },
     "output_type": "display_data"
    }
   ],
   "source": [
    "plt.imshow(np.rot90(grid_ani>grid_R),\n",
    "          extent=[0.051,0.759,0.1,2.0],\n",
    "          aspect=(0.759-0.051)/1.9)\n",
    "plt.scatter(walk0[:,1], walk0[:,2])"
   ]
  },
  {
   "cell_type": "code",
   "execution_count": 62,
   "metadata": {},
   "outputs": [],
   "source": [
    "R0 = np.sqrt(0.3+0.7*walk0[:,1])\n",
    "reject = R0 > walk0[:,2]"
   ]
  },
  {
   "cell_type": "code",
   "execution_count": 63,
   "metadata": {},
   "outputs": [
    {
     "data": {
      "text/plain": [
       "array([False, False,  True,  True, False, False, False, False, False,\n",
       "       False,  True,  True, False, False,  True, False])"
      ]
     },
     "execution_count": 63,
     "metadata": {},
     "output_type": "execute_result"
    }
   ],
   "source": [
    "reject"
   ]
  },
  {
   "cell_type": "code",
   "execution_count": 64,
   "metadata": {},
   "outputs": [
    {
     "data": {
      "text/plain": [
       "<matplotlib.collections.PathCollection at 0x7fcd189527b8>"
      ]
     },
     "execution_count": 64,
     "metadata": {},
     "output_type": "execute_result"
    },
    {
     "data": {
      "image/png": "[encoded data removed]",
      "text/plain": [
       "<Figure size 432x288 with 1 Axes>"
      ]
     },
     "metadata": {
      "needs_background": "light"
     },
     "output_type": "display_data"
    }
   ],
   "source": [
    "plt.imshow(np.rot90(grid_ani>grid_R),\n",
    "          extent=[0.051,0.759,0.1,2.0],\n",
    "          aspect=(0.759-0.051)/1.9)\n",
    "plt.scatter(walk0[:,1], walk0[:,2])\n"
   ]
  },
  {
   "cell_type": "code",
   "execution_count": 65,
   "metadata": {},
   "outputs": [],
   "source": [
    "num_replace = len(walk0[reject])"
   ]
  },
  {
   "cell_type": "code",
   "execution_count": 66,
   "metadata": {},
   "outputs": [],
   "source": [
    "keep = walk0[~reject]"
   ]
  },
  {
   "cell_type": "code",
   "execution_count": 67,
   "metadata": {},
   "outputs": [
    {
     "data": {
      "text/plain": [
       "array([[1.60609526, 0.05872615, 1.42771073, 1.48299731, 1.05676969],\n",
       "       [1.53755753, 0.47477128, 1.70542888, 1.86008134, 0.72051184],\n",
       "       [2.01386326, 0.4535981 , 0.95360496, 1.05496148, 1.02364757],\n",
       "       [2.779132  , 0.48289039, 1.06428285, 1.59990241, 0.59862803],\n",
       "       [2.50704628, 0.23516127, 1.88839389, 1.04944007, 1.19580629],\n",
       "       [2.00186278, 0.4519792 , 1.56329833, 1.94101749, 0.87909449],\n",
       "       [1.65454979, 0.14735481, 1.0450712 , 1.64140432, 0.86638094],\n",
       "       [2.46059826, 0.44308348, 1.0473167 , 0.92873956, 0.87907422],\n",
       "       [2.29338244, 0.63910793, 1.05742504, 1.00962867, 1.13640738],\n",
       "       [1.92365485, 0.13374951, 0.70698268, 1.16020155, 0.84718643],\n",
       "       [2.32362615, 0.60273345, 1.6739737 , 1.67786186, 1.15760348]])"
      ]
     },
     "execution_count": 67,
     "metadata": {},
     "output_type": "execute_result"
    }
   ],
   "source": [
    "keep"
   ]
  },
  {
   "cell_type": "markdown",
   "metadata": {},
   "source": [
    "# What if I just generate many more than I need, remove the ones that won't work, and then keep the first \"nwalkers\" that do?"
   ]
  },
  {
   "cell_type": "code",
   "execution_count": 68,
   "metadata": {},
   "outputs": [
    {
     "data": {
      "image/png": "[encoded data removed]",
      "text/plain": [
       "<Figure size 432x288 with 1 Axes>"
      ]
     },
     "metadata": {
      "needs_background": "light"
     },
     "output_type": "display_data"
    },
    {
     "data": {
      "image/png": "[encoded data removed]",
      "text/plain": [
       "<Figure size 432x288 with 1 Axes>"
      ]
     },
     "metadata": {
      "needs_background": "light"
     },
     "output_type": "display_data"
    },
    {
     "name": "stdout",
     "output_type": "stream",
     "text": [
      "16\n"
     ]
    }
   ],
   "source": [
    "walk0 = np.random.uniform(bounds[0], bounds[1], [nwalkers*5,ndim])\n",
    "\n",
    "plt.imshow(np.rot90(grid_ani>grid_R),\n",
    "          extent=[0.051,0.759,0.1,2.0],\n",
    "          aspect=(0.759-0.051)/1.9)\n",
    "plt.scatter(walk0[:,1], walk0[:,2])\n",
    "plt.pause(1)\n",
    "\n",
    "R0 = np.sqrt(0.3+0.7*walk0[:,1])\n",
    "keep = R0 < walk0[:,2]\n",
    "\n",
    "walk0 = walk0[keep]\n",
    "\n",
    "#np.random.shuffle(walk0)\n",
    "\n",
    "walk0 = walk0[:nwalkers]\n",
    "\n",
    "plt.imshow(np.rot90(grid_ani>grid_R),\n",
    "          extent=[0.051,0.759,0.1,2.0],\n",
    "          aspect=(0.759-0.051)/1.9)\n",
    "plt.scatter(walk0[:,1], walk0[:,2])\n",
    "plt.pause(1)\n",
    "\n",
    "print(len(walk0))"
   ]
  },
  {
   "cell_type": "markdown",
   "metadata": {},
   "source": [
    "# Yeah this will work."
   ]
  },
  {
   "cell_type": "code",
   "execution_count": 69,
   "metadata": {},
   "outputs": [],
   "source": [
    "# Write a function for the shape_anis_joint_prior\n",
    "\n",
    "def propose_initial_walkers (nwalkers, bounds, ndim, anisotropy):\n",
    "    \n",
    "    '''\n",
    "    Proposes the initial state of the walkers for the emcee in parameter space.\n",
    "    Allows the joint prior betweeen q_min_intr and anis_ratio to be introduced.\n",
    "    anis_ratio > R(q) = sqrt(0.3 + 0.7*q)\n",
    "    '''\n",
    "    \n",
    "    if anisotropy=='const':\n",
    "        # propose 5 times the number of walkers we need\n",
    "        propose_walk0 = np.random.uniform(bounds[0], bounds[1], [nwalkers*5,ndim])\n",
    "\n",
    "        # calculate the constraint\n",
    "        R0 = np.sqrt(0.3+0.7*propose_walk0[:,1])\n",
    "        keep = R0 < propose_walk0[:,2]\n",
    "\n",
    "        # shuffle and keep only nwalkers\n",
    "        keep_walk0 = propose_walk0[keep]\n",
    "        np.random.shuffle(keep_walk0)\n",
    "        walk0 = keep_walk0[:nwalkers]\n",
    "        \n",
    "    else: # osipkov-merritt\n",
    "        walk0 = np.random.uniform(bounds[0], bounds[1], [nwalkers,ndim])\n",
    "        \n",
    "    return walk0"
   ]
  },
  {
   "cell_type": "code",
   "execution_count": 70,
   "metadata": {},
   "outputs": [],
   "source": [
    "walk0 = propose_initial_walkers(nwalkers, bounds, ndim, anisotropy='const')"
   ]
  },
  {
   "cell_type": "code",
   "execution_count": 71,
   "metadata": {},
   "outputs": [
    {
     "data": {
      "image/png": "[encoded data removed]",
      "text/plain": [
       "<Figure size 432x288 with 1 Axes>"
      ]
     },
     "metadata": {
      "needs_background": "light"
     },
     "output_type": "display_data"
    }
   ],
   "source": [
    "plt.imshow(np.rot90(grid_ani>grid_R),\n",
    "          extent=[0.051,0.759,0.1,2.0],\n",
    "          aspect=(0.759-0.051)/1.9)\n",
    "plt.scatter(walk0[:,1], walk0[:,2])\n",
    "plt.pause(1)\n"
   ]
  },
  {
   "cell_type": "markdown",
   "metadata": {},
   "source": [
    "_________________________________________________________________________\n",
    "# 10/02/23 - New idea from Michele.\n",
    "The way you are enforcing the prior, especially for the JAM_cyl case, effectively produces a bias towards flat models. In fact, let's assume your proposal distribution is flat, then you have nearly zero probability of landing a sample in the corner (q, sig_z/sig_R)=(1, 1) of the \"triangle\" [R(q), 1] where we allow model solutions. This is because the area covered by a given interval dq varies as 1-R(q).\n",
    "\n",
    "This suggest that we may try to use a transformation of variables that gives equal probability to all q's. You could e.g., parametrize the anisotropy with a new variable k defined like this \n",
    "\n",
    "    sig_z/sig_R = R(q) + [1 - R(q)]*k\n",
    "\n",
    "Then you set the same bounds k = [0, 1] for every q. Feel free to think and experiment more and give feedback, as this is just an idea.\n",
    "\n",
    "You can do a similar transformation for sig_th/sig_r."
   ]
  },
  {
   "cell_type": "markdown",
   "metadata": {},
   "source": [
    "________________________________________\n",
    "# What about dynamical modeling in spherical geometry?"
   ]
  },
  {
   "cell_type": "code",
   "execution_count": 333,
   "metadata": {},
   "outputs": [],
   "source": [
    "surf = tommy_pickles['surf_lum']\n",
    "sigma = tommy_pickles['sigma_lum']\n",
    "qobs = tommy_pickles['qobs_lum']"
   ]
  },
  {
   "cell_type": "code",
   "execution_count": 334,
   "metadata": {},
   "outputs": [],
   "source": [
    "sigma_circ = sigma*np.sqrt(qobs)\n"
   ]
  },
  {
   "cell_type": "code",
   "execution_count": 335,
   "metadata": {},
   "outputs": [
    {
     "data": {
      "text/plain": [
       "20023.070575430764"
      ]
     },
     "execution_count": 335,
     "metadata": {},
     "output_type": "execute_result"
    }
   ],
   "source": [
    "np.sum(surf)"
   ]
  },
  {
   "cell_type": "code",
   "execution_count": 336,
   "metadata": {},
   "outputs": [
    {
     "data": {
      "text/plain": [
       "array([0.019     , 0.16525636, 0.43856205, 0.89301246, 1.7218511 ,\n",
       "       4.94193347])"
      ]
     },
     "execution_count": 336,
     "metadata": {},
     "output_type": "execute_result"
    }
   ],
   "source": [
    "sigma"
   ]
  },
  {
   "cell_type": "code",
   "execution_count": 337,
   "metadata": {},
   "outputs": [
    {
     "data": {
      "text/plain": [
       "array([0.7, 0.7, 0.7, 0.7, 0.7, 0.8])"
      ]
     },
     "execution_count": 337,
     "metadata": {},
     "output_type": "execute_result"
    }
   ],
   "source": [
    "qobs"
   ]
  },
  {
   "cell_type": "code",
   "execution_count": 338,
   "metadata": {},
   "outputs": [],
   "source": [
    "rs = np.logspace(0.1, 1, 100)\n"
   ]
  },
  {
   "cell_type": "code",
   "execution_count": 351,
   "metadata": {},
   "outputs": [
    {
     "data": {
      "text/plain": [
       "array([11496.84830495,  6137.61998833,  1655.51738253,   454.38671302,\n",
       "         229.02602869,    49.67215791])"
      ]
     },
     "execution_count": 351,
     "metadata": {},
     "output_type": "execute_result"
    }
   ],
   "source": [
    "surf"
   ]
  },
  {
   "cell_type": "code",
   "execution_count": 370,
   "metadata": {},
   "outputs": [],
   "source": [
    "# write function to create the gaussians from surf_pot, etc\n",
    "def make_gaussian(r, surf_pot, sigma_pot, qobs_pot):\n",
    "    gauss = surf_pot/np.sqrt(2.*np.pi*sigma_pot**2*qobs_pot)*np.exp(-r**2/(2*sigma_pot**2))\n",
    "    return(gauss)\n"
   ]
  },
  {
   "cell_type": "code",
   "execution_count": 377,
   "metadata": {},
   "outputs": [
    {
     "data": {
      "image/png": "[encoded data removed]",
      "text/plain": [
       "<Figure size 432x288 with 1 Axes>"
      ]
     },
     "metadata": {
      "needs_background": "light"
     },
     "output_type": "display_data"
    }
   ],
   "source": [
    "for i in range(len(surf)):\n",
    "    plt.loglog(rs, make_gaussian(rs, surf[i], sigma[i], qobs[i]))\n",
    "    plt.ylim(1, 10000)"
   ]
  },
  {
   "cell_type": "code",
   "execution_count": null,
   "metadata": {},
   "outputs": [],
   "source": []
  },
  {
   "cell_type": "code",
   "execution_count": 274,
   "metadata": {},
   "outputs": [
    {
     "data": {
      "text/plain": [
       "(2.1561611882574176, 3.0165523507826654e-05)"
      ]
     },
     "execution_count": 274,
     "metadata": {},
     "output_type": "execute_result"
    }
   ],
   "source": [
    "mge_half_light_radius(surf, sig, qobs)"
   ]
  },
  {
   "cell_type": "code",
   "execution_count": 275,
   "metadata": {},
   "outputs": [
    {
     "name": "stdout",
     "output_type": "stream",
     "text": [
      "Help on function mge_half_light_radius in module jampy.mge_half_light_isophote:\n",
      "\n",
      "mge_half_light_radius(surf, sigma, q_obs, distance=1e-05)\n",
      "    Computes the circularized projected half-light radius of an\n",
      "    MGE model using the approach described after equation (11)\n",
      "    in Cappellari et al. (2013, MNRAS, 432, 1709)\n",
      "    https://ui.adsabs.harvard.edu/abs/2013MNRAS.432.1709C\n",
      "\n"
     ]
    }
   ],
   "source": [
    "help(mge_half_light_radius)"
   ]
  },
  {
   "cell_type": "markdown",
   "metadata": {
    "tags": []
   },
   "source": [
    "______________________\n",
    "\n",
    "# Dynamical Modeling with JAM\n"
   ]
  },
  {
   "cell_type": "markdown",
   "metadata": {},
   "source": [
    "# Priors:\n",
    "### Power law slope - Uniform [1.4, 2.8] or Gaussian from lensing\n",
    "### Anisotropy constant - Uniform [R(q_min), 1] or [R(q_min), 2] for cylindrical/spherical\n",
    "### Anisotropy OM - Uniform [0.1, 2.0] # 5.0] # 09/13/23 - I changed it to 2.0 because I only have data out to about the effective radius, I think...\n",
    "### Shape/Inclination - Uniform [0.051, q_obs_min]\n",
    "### Einstein radius - Uniform [0.7, 2.0] or Gaussian from lensing\n",
    "###################### M_tot/L_B power law - Uniform [0, 1.5]\n",
    "### f_DM - Uniform [0.01, 0.8]\n",
    "### M_*/L_B composite - Uniform [0, 1.5]"
   ]
  },
  {
   "cell_type": "code",
   "execution_count": 34,
   "metadata": {},
   "outputs": [],
   "source": [
    "# set up the starting guesses for each model\n",
    "\n",
    "# power law constant ani\n",
    "# These are all parameters that would make more sense in AdaMet.\n",
    "# For emcee, sigpar isn't used\n",
    "\n",
    "\n",
    "p0_pow_const = [2.0, 0.4, 0.9, 1.0, 1.0] # gamma0, q0, ratio0, einstein radius, lambda_int\n",
    "bounds_pow_const = [[1.4, 0.051, 0.01, 0.7, 0.5], \n",
    "                    [2.8, 1.0, 1.0, 2.0, 1.5]]\n",
    "sigpar_pow_const = np.array([0.2, 0.2, 0.2, 0.2, 0.2])  # crude estimate of uncertainties\n",
    "\n",
    "# power law om ani\n",
    "p0_pow_om = [2, 0.4, 1.0, 1.0, 1.0] # gamma0, q0, anis_rad0, einstin radius, lambda_int\n",
    "bounds_pow_om = [[1.4, 0.051, 0.1, 0.7, 0.5],  \n",
    "                  [2.8, 1.0, 2.0, 2.0, 1.5]]#, 2.0]]\n",
    "sigpar_pow_om = np.array([0.2, 0.2, 0.2, 0.2, 0.2])  # crude estimate of uncertainties\n",
    "\n",
    "# nfw const ani\n",
    "p0_nfw_const = [0.3, 0.4, 0.9, 1.0, 1.0] # f_dm0, q0, ratio0, lg_ml0\n",
    "bounds_nfw_const = [[0.01, 0.051, 0.01, 0., 0.5], \n",
    "                  [0.8, 1.0, 1.0, 1.5, 1.5]]#, 2.0]]\n",
    "sigpar_nfw_const = np.array([0.2, 0.2, 0.2, 0.2, 0.2, 0.2])  # crude estimate of uncertainties\n",
    "\n",
    "# nfw om ani\n",
    "p0_nfw_om = [0.3, 0.4, 1.0, 1.0, 1.0] # f_dm0, q0, anis_rad0, lg_ml0\n",
    "bounds_nfw_om = [[0.01, 0.051, 0.1, 0., 0.5], \n",
    "                  [0.8, 1.0, 2.0, 1.5, 1.5]]#, 2.0]]\n",
    "sigpar_nfw_om = np.array([0.2, 0.2, 0.2, 0.2, 0.2])  # crude estimate of uncertainties\n",
    "\n",
    "prior_type_uniform = ['uniform','uniform','uniform','uniform','uniform']\n"
   ]
  },
  {
   "cell_type": "code",
   "execution_count": 53,
   "metadata": {},
   "outputs": [
    {
     "data": {
      "text/plain": [
       "['SDSSJ0029-0055', 'SDSSJ0037-0942', 'SDSSJ0330-0020', 'SDSSJ1112+0826']"
      ]
     },
     "execution_count": 53,
     "metadata": {},
     "output_type": "execute_result"
    }
   ],
   "source": [
    "obj_names[:4]"
   ]
  },
  {
   "cell_type": "code",
   "execution_count": 56,
   "metadata": {},
   "outputs": [
    {
     "data": {
      "text/plain": [
       "['SDSSJ1250+0523',\n",
       " 'SDSSJ1306+0600',\n",
       " 'SDSSJ1402+6321',\n",
       " 'SDSSJ1531-0105',\n",
       " 'SDSSJ1538+5817',\n",
       " 'SDSSJ1621+3931',\n",
       " 'SDSSJ1627-0053']"
      ]
     },
     "execution_count": 56,
     "metadata": {},
     "output_type": "execute_result"
    }
   ],
   "source": [
    "#active_ind = #[0, 3, 4, 7, -4]\n",
    "#active_obj = np.zeros_like(obj_names, dtype=bool)\n",
    "#for n in active_ind:\n",
    "#    active_obj[n] = 1\n",
    "\n",
    "active_obj_names = obj_names.copy() # np.array(obj_names)[active_obj]\n",
    "#active_obj_names.remove(obj_names[2])\n",
    "\n",
    "for obj_name in obj_names[:5]:\n",
    "    active_obj_names.remove(obj_name) # for this specific rerun, I only need J1250 and onward\n",
    "active_obj_names.remove(obj_names[-2]) # also remove 1630 and 2303\n",
    "active_obj_names.remove(obj_names[-1])\n",
    "active_obj_names"
   ]
  },
  {
   "cell_type": "code",
   "execution_count": 22,
   "metadata": {},
   "outputs": [
    {
     "data": {
      "text/html": [
       "<div>\n",
       "<style scoped>\n",
       "    .dataframe tbody tr th:only-of-type {\n",
       "        vertical-align: middle;\n",
       "    }\n",
       "\n",
       "    .dataframe tbody tr th {\n",
       "        vertical-align: top;\n",
       "    }\n",
       "\n",
       "    .dataframe thead th {\n",
       "        text-align: right;\n",
       "    }\n",
       "</style>\n",
       "<table border=\"1\" class=\"dataframe\">\n",
       "  <thead>\n",
       "    <tr style=\"text-align: right;\">\n",
       "      <th></th>\n",
       "      <th>obj_name</th>\n",
       "      <th>gamma</th>\n",
       "      <th>dgamma</th>\n",
       "      <th>theta_E</th>\n",
       "      <th>dtheta_E</th>\n",
       "    </tr>\n",
       "  </thead>\n",
       "  <tbody>\n",
       "    <tr>\n",
       "      <th>0</th>\n",
       "      <td>SDSSJ0029-0055</td>\n",
       "      <td>2.47</td>\n",
       "      <td>0.08</td>\n",
       "      <td>0.951</td>\n",
       "      <td>0.003</td>\n",
       "    </tr>\n",
       "    <tr>\n",
       "      <th>1</th>\n",
       "      <td>SDSSJ0037-0942</td>\n",
       "      <td>2.18</td>\n",
       "      <td>0.04</td>\n",
       "      <td>1.509</td>\n",
       "      <td>0.020</td>\n",
       "    </tr>\n",
       "    <tr>\n",
       "      <th>2</th>\n",
       "      <td>SDSSJ0330-0020</td>\n",
       "      <td>2.16</td>\n",
       "      <td>0.02</td>\n",
       "      <td>1.077</td>\n",
       "      <td>0.005</td>\n",
       "    </tr>\n",
       "    <tr>\n",
       "      <th>3</th>\n",
       "      <td>SDSSJ1112+0826</td>\n",
       "      <td>2.21</td>\n",
       "      <td>0.06</td>\n",
       "      <td>1.421</td>\n",
       "      <td>0.015</td>\n",
       "    </tr>\n",
       "    <tr>\n",
       "      <th>4</th>\n",
       "      <td>SDSSJ1204+0358</td>\n",
       "      <td>2.19</td>\n",
       "      <td>0.06</td>\n",
       "      <td>1.285</td>\n",
       "      <td>0.005</td>\n",
       "    </tr>\n",
       "    <tr>\n",
       "      <th>5</th>\n",
       "      <td>SDSSJ1250+0523</td>\n",
       "      <td>1.91</td>\n",
       "      <td>0.06</td>\n",
       "      <td>1.115</td>\n",
       "      <td>0.004</td>\n",
       "    </tr>\n",
       "    <tr>\n",
       "      <th>6</th>\n",
       "      <td>SDSSJ1306+0600</td>\n",
       "      <td>2.18</td>\n",
       "      <td>0.06</td>\n",
       "      <td>1.299</td>\n",
       "      <td>0.012</td>\n",
       "    </tr>\n",
       "    <tr>\n",
       "      <th>7</th>\n",
       "      <td>SDSSJ1402+6321</td>\n",
       "      <td>2.24</td>\n",
       "      <td>0.07</td>\n",
       "      <td>1.354</td>\n",
       "      <td>0.003</td>\n",
       "    </tr>\n",
       "    <tr>\n",
       "      <th>8</th>\n",
       "      <td>SDSSJ1531-0105</td>\n",
       "      <td>1.90</td>\n",
       "      <td>0.12</td>\n",
       "      <td>1.705</td>\n",
       "      <td>0.009</td>\n",
       "    </tr>\n",
       "    <tr>\n",
       "      <th>9</th>\n",
       "      <td>SDSSJ1538+5817</td>\n",
       "      <td>NaN</td>\n",
       "      <td>NaN</td>\n",
       "      <td>NaN</td>\n",
       "      <td>NaN</td>\n",
       "    </tr>\n",
       "    <tr>\n",
       "      <th>10</th>\n",
       "      <td>SDSSJ1621+3931</td>\n",
       "      <td>2.01</td>\n",
       "      <td>0.06</td>\n",
       "      <td>1.263</td>\n",
       "      <td>0.005</td>\n",
       "    </tr>\n",
       "    <tr>\n",
       "      <th>11</th>\n",
       "      <td>SDSSJ1627-0053</td>\n",
       "      <td>1.84</td>\n",
       "      <td>0.14</td>\n",
       "      <td>1.227</td>\n",
       "      <td>0.002</td>\n",
       "    </tr>\n",
       "    <tr>\n",
       "      <th>12</th>\n",
       "      <td>SDSSJ1630+4520</td>\n",
       "      <td>2.00</td>\n",
       "      <td>0.03</td>\n",
       "      <td>1.788</td>\n",
       "      <td>0.006</td>\n",
       "    </tr>\n",
       "    <tr>\n",
       "      <th>13</th>\n",
       "      <td>SDSSJ2303+1422</td>\n",
       "      <td>2.00</td>\n",
       "      <td>0.05</td>\n",
       "      <td>1.611</td>\n",
       "      <td>0.008</td>\n",
       "    </tr>\n",
       "  </tbody>\n",
       "</table>\n",
       "</div>"
      ],
      "text/plain": [
       "          obj_name  gamma  dgamma  theta_E  dtheta_E\n",
       "0   SDSSJ0029-0055   2.47    0.08    0.951     0.003\n",
       "1   SDSSJ0037-0942   2.18    0.04    1.509     0.020\n",
       "2   SDSSJ0330-0020   2.16    0.02    1.077     0.005\n",
       "3   SDSSJ1112+0826   2.21    0.06    1.421     0.015\n",
       "4   SDSSJ1204+0358   2.19    0.06    1.285     0.005\n",
       "5   SDSSJ1250+0523   1.91    0.06    1.115     0.004\n",
       "6   SDSSJ1306+0600   2.18    0.06    1.299     0.012\n",
       "7   SDSSJ1402+6321   2.24    0.07    1.354     0.003\n",
       "8   SDSSJ1531-0105   1.90    0.12    1.705     0.009\n",
       "9   SDSSJ1538+5817    NaN     NaN      NaN       NaN\n",
       "10  SDSSJ1621+3931   2.01    0.06    1.263     0.005\n",
       "11  SDSSJ1627-0053   1.84    0.14    1.227     0.002\n",
       "12  SDSSJ1630+4520   2.00    0.03    1.788     0.006\n",
       "13  SDSSJ2303+1422   2.00    0.05    1.611     0.008"
      ]
     },
     "execution_count": 22,
     "metadata": {},
     "output_type": "execute_result"
    }
   ],
   "source": [
    "lens_models"
   ]
  },
  {
   "cell_type": "markdown",
   "metadata": {},
   "source": [
    "____________________\n",
    "\n",
    "# Emcee models\n",
    "## Introducing different mass sheet scale radii as factors of break radius, which is currently 100*reff\n",
    "## Using scale radius 0.3"
   ]
  },
  {
   "cell_type": "code",
   "execution_count": 28,
   "metadata": {},
   "outputs": [],
   "source": [
    "# Don't redo the constant ones from 091123.\n",
    "\n",
    "import glob\n",
    "\n",
    "SN=15\n",
    "\n",
    "model='*'#pow' # wildcard should select all of them\n",
    "anisotropy='OM'\n",
    "align='*'\n",
    "sampler='*'#emcee'\n",
    "\n",
    "date_time='*'#'2023_09_11'\n",
    "run_id = '1'\n",
    "#model_dir = \n",
    "\n",
    "model_dirs_skip = np.array(glob.glob(f'{jam_output_dir}/**/**/*_{date_time}_v{run_id}_{model}_{anisotropy}_{align}_{sampler}*'))\n",
    "model_dirs_skip = np.sort(model_dirs_skip)"
   ]
  },
  {
   "cell_type": "markdown",
   "metadata": {},
   "source": [
    "model_dirs_skip"
   ]
  },
  {
   "cell_type": "markdown",
   "metadata": {},
   "source": [
    "skip_models = np.array([0,1,2,3])\n",
    "any(skip_models == 0)"
   ]
  },
  {
   "cell_type": "markdown",
   "metadata": {},
   "source": [
    "# For now, rerunning the constant spherical. Can do that down low."
   ]
  },
  {
   "cell_type": "code",
   "execution_count": 57,
   "metadata": {},
   "outputs": [
    {
     "name": "stdout",
     "output_type": "stream",
     "text": [
      "Thank you for choosing MiseryBot 9.3.2, where you will hate everything and probably quit after a short while.\n",
      "...\n",
      "Please hold...\n",
      "...\n",
      "Ah yes, the JAM routine. This one is fun.\n",
      "...\n",
      "But where to start?\n",
      "...\n",
      "Current date is 2023_09_21. Hopefully tomorrow will be better.\n",
      "########################################################\n",
      "########################################################\n",
      "Jamming object SDSSJ1250+0523.\n",
      "Brace for jamming.\n",
      "########################################################\n",
      "Designated target is S/N 15.\n",
      "Beginning power_law models.\n",
      "Beginning const models.\n",
      "Beginning sph models.\n",
      "Commencing JAM routine with model power_law, anisotropy const, and alignment sph... lensprior... number of steps 100\n",
      "Current date and time is 2023_09_21-11_18_55_AM\n",
      "JAMMING.\n",
      "########################################################\n",
      "p0 [1.91  0.4   0.9   1.115 1.   ]\n",
      "bounds [[1.4   0.051 0.01  0.7   0.5  ]\n",
      " [2.8   1.    1.    2.    1.5  ]]\n",
      "sigpar [0.06  0.2   0.2   0.004 0.2  ]\n",
      "prior_type ['gaussian', 'uniform', 'uniform', 'gaussian', 'uniform']\n",
      "bounds in jam [[1.4   0.051 0.01  0.7   0.5  ]\n",
      " [2.8   0.95  2.    2.    1.5  ]]\n",
      "Files in /data/raw_data/KECK_KCWI_SLACS_kinematics_shawn/jam_outputs/SDSSJ1250+0523/target_sn_15/SDSSJ1250+0523_model_2023_09_21_v1_15_power_law_const_sph_emcee_lensprior_0.3/ will be overwritten.\n",
      "\n",
      "Outputs to  /data/raw_data/KECK_KCWI_SLACS_kinematics_shawn/jam_outputs/SDSSJ1250+0523/target_sn_15/SDSSJ1250+0523_model_2023_09_21_v1_15_power_law_const_sph_emcee_lensprior_0.3/\n",
      "\n",
      "Started Emcee please wait...\n",
      "Progress is printed periodically\n",
      "emcee: Exception while calling your likelihood function:\n",
      "  params: [2.71542123 0.41192387 1.20997345 1.26729747 1.07031059]\n",
      "  args: []\n",
      "  kwargs: {'surf_lum': array([4559.75712726,  158.34960114,   50.37866394,   17.58959491,\n",
      "         10.80590184]), 'sigma_lum': array([0.019     , 0.10085039, 0.24853993, 0.63001099, 1.52584434]), 'qobs_lum': array([0.95, 0.95, 0.95, 0.95, 0.95]), 'distance': array([762.82896837]), 'xbin': array([ 0.        ,  0.03709721, -0.10380093, -0.14089814, -0.06670372,\n",
      "        0.07419443, -0.24469907, -0.18905325, -0.28179629, -0.0296065 ,\n",
      "       -0.38559722, -0.3485    ,  0.11129164, -0.29285418, -0.155642  ,\n",
      "        0.02603932,  0.16693746,  0.25218978,  0.21509257,  0.3078356 ,\n",
      "        0.17799536, -0.4745355 , -0.5709645 , -0.59694443, -0.42269443,\n",
      "       -0.39290976, -0.09256486,  0.16772217,  0.47769808,  0.44873375,\n",
      "        0.463537  ,  0.35599071,  0.71697523,  0.01673746,  0.44039975,\n",
      "       -0.43746056, -0.74515511, -0.85644675, -0.89875183,  0.69706824,\n",
      "        0.92983029, -1.39473483, -1.27976541, -1.20505366, -0.81078855,\n",
      "       -0.58214118, -1.98737725, -0.81328545, -0.45979164, -1.30150641,\n",
      "       -0.56733793, -0.3188935 , -2.08134809, -0.90478004, -0.17799536,\n",
      "       -0.60443514, -0.35599071, -1.26910871, -0.21509257, -0.03709721,\n",
      "       -0.32263886,  0.14089814, -0.67738112, -0.07419443,  0.3188935 ,\n",
      "        0.10380093,  0.71447833,  0.64153236, -0.9376732 , -0.35973607,\n",
      "        0.28179629,  0.49688886, -0.11129164,  0.06670372, -0.57358019,\n",
      "        0.24469907,  0.45979164,  0.42269443,  0.0296065 , -0.07793978,\n",
      "        0.83433096,  0.20760186,  0.70823607, -0.27448375,  0.38559722,\n",
      "        0.67113886,  0.24095372,  0.63404164, -0.52417663,  0.41894907,\n",
      "       -1.3745296 ,  0.59694443,  0.2038565 ,  1.11382483,  0.00731254,\n",
      "       -0.20481938, -0.93911956,  0.55859876, -0.47194685, -1.87815207,\n",
      "        0.25944293,  0.46710418,  0.14762473, -1.04003014, -0.11086339,\n",
      "        0.93438654,  0.93064118,  1.00858096,  0.86014757,  1.3851096 ,\n",
      "        0.67717325,  0.71457436,  1.57707584,  1.37316236,  1.3162384 ,\n",
      "        1.99339763,  1.48097906,  2.15043788,  1.98758533]), 'ybin': array([ 0.        , -0.14089814, -0.17799536, -0.03709721, -0.3188935 ,\n",
      "       -0.28179629, -0.21509257, -0.42643979, -0.07419443, -0.45979164,\n",
      "       -0.25218978, -0.39308793, -0.42269443, -0.60443514, -0.74408483,\n",
      "       -0.67113886, -0.63404164, -0.38559722, -0.24469907, -0.59694443,\n",
      "       -0.10380093, -0.67738112, -0.50188266, -0.3078356 , -0.11129164,\n",
      "       -1.08277539, -1.07903004, -0.9803657 , -0.89875183, -0.55984722,\n",
      "       -0.3299514 , -0.20760186, -0.81566358, -1.56019651, -1.30852058,\n",
      "       -2.02477712, -1.17551843, -0.752824  , -0.47769808, -2.05327148,\n",
      "       -1.13856733, -1.62678476, -0.81405816, -0.28714669, -0.1632515 ,\n",
      "       -0.07793978, -0.74925681,  0.03697843,  0.0296065 ,  0.07918848,\n",
      "        0.15195604,  0.06670372,  0.30094195,  0.28910883,  0.10380093,\n",
      "        0.29285418,  0.20760186,  0.456849  ,  0.24469907,  0.14089814,\n",
      "        0.36704861,  0.03709721,  0.4745355 ,  0.28179629, -0.06670372,\n",
      "        0.17799536, -0.61543365, -0.43375232,  0.7001594 ,  0.50794675,\n",
      "        0.07419443, -0.17050465,  0.42269443,  0.3188935 ,  0.65253086,\n",
      "        0.21509257, -0.0296065 ,  0.11129164,  0.45979164,  0.58214118,\n",
      "       -0.30765743,  0.35599071, -0.11485882,  0.75639118,  0.25218978,\n",
      "        0.02603932,  0.51543746,  0.16693746,  0.94175847,  0.41163653,\n",
      "        0.88108914,  0.3078356 ,  0.65633561, -0.69291416,  0.83058561,\n",
      "        1.12126384,  1.1898554 ,  0.54884871,  1.44034397,  1.41097497,\n",
      "        0.92208019,  0.80097911,  1.31952506,  2.04265157,  2.08873721,\n",
      "        0.17068282,  0.47102771, -0.11111347,  0.81029795, -0.33069236,\n",
      "        1.19528579,  2.00347661, -1.5654703 ,  0.17320942,  0.72321749,\n",
      "       -0.92073078,  1.48910181, -0.0959443 ,  0.73257099]), 'sigmapsf': 0.19708260364418206, 'normpsf': 1.0, 'rms': array([251.1755305 , 253.68040876, 254.582732  , 249.57319073,\n",
      "       248.2470645 , 249.95496771, 258.25968458, 225.72341097,\n",
      "       243.23128951, 235.43735058, 258.25968458, 240.92728437,\n",
      "       242.77666808, 208.07704694, 211.10776945, 221.02042882,\n",
      "       224.32305536, 242.53371769, 244.82095515, 225.41787913,\n",
      "       248.55278893, 224.01529218, 226.16224952, 234.26669368,\n",
      "       243.23128951, 206.49917926, 221.60004815, 199.64748123,\n",
      "       216.73367686, 227.7293936 , 241.49481929, 236.94562484,\n",
      "       215.06766779, 192.94719692, 180.53807314, 183.01501275,\n",
      "       196.04938726, 220.08754774, 225.70157713, 188.96215928,\n",
      "       221.9316983 , 173.40645836, 205.53192026, 206.14654498,\n",
      "       228.154313  , 226.77132036, 179.93372054, 214.84432137,\n",
      "       222.33427276, 215.48949248, 225.05292808, 222.33427276,\n",
      "       169.52897487, 239.93619834, 243.35050965, 233.17480395,\n",
      "       228.79549118, 214.57041782, 243.31138184, 248.48619931,\n",
      "       231.9948068 , 247.70019433, 237.21531032, 246.64415636,\n",
      "       239.81611543, 249.48182934, 218.28609029, 236.61378723,\n",
      "       211.07749854, 234.18884865, 241.65623934, 236.43802882,\n",
      "       236.49512727, 247.28914137, 217.4070342 , 251.33755354,\n",
      "       238.87419647, 240.12989701, 238.95592824, 240.20677016,\n",
      "       234.99434236, 248.74047189, 229.43770873, 229.64324877,\n",
      "       249.95495056, 222.94353228, 243.5189261 , 211.98671596,\n",
      "       210.99435534, 250.38985247, 221.46443318, 224.2157835 ,\n",
      "       244.12909539, 219.12739224, 234.62930522, 233.31563259,\n",
      "       192.16576491, 248.50371206, 196.80087166, 209.8337905 ,\n",
      "       230.05918963, 211.46361538, 214.9499828 , 174.9110606 ,\n",
      "       165.94897295, 209.04641293, 241.20484707, 223.46219599,\n",
      "       222.06938222, 213.53825967, 212.92460008, 201.12640786,\n",
      "       194.28718324, 213.80022495, 226.95173491, 198.30790516,\n",
      "       181.14368417, 186.56320392, 225.70373061]), 'erms': array([ 4.89011448,  5.07676285,  4.51507675,  4.26595773,  4.9839354 ,\n",
      "        5.70704998,  6.32580151,  5.33852346,  5.65222633,  5.67494114,\n",
      "        6.32580151,  6.56873736,  6.68935163,  5.87615407,  7.55809244,\n",
      "        5.56283811,  6.50462084,  5.41293049,  4.67607154,  5.4388492 ,\n",
      "        4.14394159,  9.42826985,  8.27751813,  8.91664904,  5.65222633,\n",
      "        8.70809607, 10.1191642 ,  7.91178114,  8.76429908,  7.61284478,\n",
      "        6.84631486,  6.11195441, 10.70255765, 11.05913503,  9.25068059,\n",
      "       10.43173325,  9.60923004, 11.44747067, 10.03936526, 12.02066396,\n",
      "       13.48262565, 10.37165302, 12.19957078, 10.85674222,  7.60829115,\n",
      "        6.77780898, 11.76889826,  7.63616726,  5.46985503, 11.83761806,\n",
      "        5.90997272,  5.46985503, 12.30082501, 10.01548259,  4.32113779,\n",
      "        7.12031595,  6.58934647, 14.52155236,  4.82783118,  4.97318607,\n",
      "        5.73005282,  3.94066901,  8.51456617,  5.46024831,  5.50395573,\n",
      "        4.05079214,  8.68044255,  8.07264694, 12.30950767,  6.88896216,\n",
      "        5.18656351,  5.87709226,  6.52537439,  4.4370046 , 10.41183507,\n",
      "        5.53954494,  5.31422162,  5.00722974,  5.30326039,  7.2444209 ,\n",
      "        8.67713552,  6.15803859,  8.86937509,  8.64810053,  5.34987013,\n",
      "        8.11373975,  7.01748486,  7.90541324, 10.19152238,  5.73546154,\n",
      "       18.52453121,  8.48750717,  8.66303536,  9.43884525,  7.84174275,\n",
      "       10.85953624, 12.61552502,  8.18614131, 13.02051763, 17.56311736,\n",
      "        8.68581886,  9.6206999 ,  9.2398761 , 13.11196259, 11.28923453,\n",
      "        8.60794713, 10.18632355, 10.63333319,  9.14469841, 11.51230467,\n",
      "        9.48085947, 10.37319112, 13.3398601 , 10.64465913, 11.43723843,\n",
      "       15.96561634,  9.66030446, 14.98579005, 15.17213992]), 'pixsize': 0.1457, 'goodbins': array([ True,  True,  True,  True,  True,  True,  True,  True,  True,\n",
      "        True,  True,  True,  True,  True,  True,  True,  True,  True,\n",
      "        True,  True,  True,  True,  True,  True,  True,  True,  True,\n",
      "        True,  True,  True,  True,  True,  True,  True,  True,  True,\n",
      "        True,  True,  True,  True,  True,  True,  True,  True,  True,\n",
      "        True,  True,  True,  True,  True,  True,  True,  True,  True,\n",
      "        True,  True,  True,  True,  True,  True,  True,  True,  True,\n",
      "        True,  True,  True,  True,  True,  True,  True,  True,  True,\n",
      "        True,  True,  True,  True,  True,  True,  True,  True,  True,\n",
      "        True,  True,  True,  True,  True,  True,  True,  True,  True,\n",
      "        True,  True,  True,  True,  True,  True,  True,  True,  True,\n",
      "        True,  True,  True,  True,  True,  True,  True,  True,  True,\n",
      "        True,  True,  True,  True,  True,  True,  True,  True,  True,\n",
      "        True,  True]), 'plot': False, 'reff': 1.1960156772797002, 'model': 'power_law', 'anisotropy': 'const', 'align': 'sph', 'p0': array([1.91 , 0.25 , 0.9  , 1.115, 1.   ]), 'bounds': array([[1.4  , 0.051, 0.01 , 0.7  , 0.5  ],\n",
      "       [2.8  , 0.95 , 2.   , 2.   , 1.5  ]]), 'sigpar': array([0.06 , 0.14 , 0.2  , 0.004, 0.2  ]), 'prior_type': ['gaussian', 'gaussian', 'uniform', 'gaussian', 'uniform'], 'labels': ['$\\\\gamma$', '$q_{\\\\rm intr}$', '$\\\\sigma_{\\\\theta}/\\\\sigma_r$', '$\\\\theta_E$', '$\\\\lambda_{int}$'], 'zlens': 43    0.232\n",
      "Name: z_lens, dtype: float64, 'zsource': 43    0.795\n",
      "Name: z_src, dtype: float64, 'rs_mst': 0.3}\n",
      "  exception:\n"
     ]
    },
    {
     "name": "stderr",
     "output_type": "stream",
     "text": [
      "Traceback (most recent call last):\n",
      "  File \"/home/shawnknabel/.local/lib/python3.7/site-packages/emcee/ensemble.py\", line 624, in __call__\n",
      "    return self.f(x, *self.args, **self.kwargs)\n",
      "  File \"<ipython-input-10-5de7eaaea88b>\", line 71, in jam_lnprob\n",
      "    beta=beta, data=rms, errors=erms, ml=1, nodots=True)\n",
      "  File \"/home/shawnknabel/.local/lib/python3.7/site-packages/jampy/jam_axi_proj.py\", line 809, in __init__\n",
      "    pixSize_pc, pixang, step_pc, nrad, nang, nlos, epsrel, interp, analytic_los)\n",
      "  File \"/home/shawnknabel/.local/lib/python3.7/site-packages/jampy/jam_axi_proj.py\", line 232, in psf_conv\n",
      "    beta, gamma, nrad, nang, nlos, epsrel, align)\n",
      "  File \"/home/shawnknabel/.local/lib/python3.7/site-packages/jampy/jam_axi_proj.py\", line 65, in vmom_proj\n",
      "    rmin=np.min(sigma_lum)/3, rmax=rmax, align=align)\n",
      "  File \"/home/shawnknabel/.local/lib/python3.7/site-packages/jampy/jam_axi_intr.py\", line 335, in __init__\n",
      "    dens_pot, sigma_pot, qintr_pot, beta, gamma, epsrel)\n",
      "  File \"/home/shawnknabel/.local/lib/python3.7/site-packages/jampy/jam_axi_intr.py\", line 255, in intrinsic_moments_sph\n",
      "    for txt in ['sig2r', 'sig2th', 'sig2phi', 'v2phi']]\n",
      "  File \"/home/shawnknabel/.local/lib/python3.7/site-packages/jampy/jam_axi_intr.py\", line 255, in <listcomp>\n",
      "    for txt in ['sig2r', 'sig2th', 'sig2phi', 'v2phi']]\n",
      "  File \"/home/shawnknabel/.local/lib/python3.7/site-packages/jampy/quad2d.py\", line 162, in __init__\n",
      "    Qsub, esub = self.tensor(a, b, thetaL, thetaR, phiB, phiT, WT3, WT7, args)\n",
      "  File \"/home/shawnknabel/.local/lib/python3.7/site-packages/jampy/quad2d.py\", line 221, in tensor\n",
      "    x = np.tile(xx, (2*n, 1))\n",
      "  File \"<__array_function__ internals>\", line 6, in tile\n",
      "  File \"/home/shawnknabel/.local/lib/python3.7/site-packages/numpy/lib/shape_base.py\", line 1258, in tile\n",
      "    c = c.reshape(-1, n).repeat(nrep, 0)\n",
      "KeyboardInterrupt\n"
     ]
    },
    {
     "ename": "KeyboardInterrupt",
     "evalue": "",
     "output_type": "error",
     "traceback": [
      "\u001b[0;31m---------------------------------------------------------------------------\u001b[0m",
      "\u001b[0;31mKeyboardInterrupt\u001b[0m                         Traceback (most recent call last)",
      "\u001b[0;32m<ipython-input-57-05bddb6c363e>\u001b[0m in \u001b[0;36m<module>\u001b[0;34m()\u001b[0m\n\u001b[1;32m    137\u001b[0m                         \u001b[0mprint\u001b[0m\u001b[0;34m(\u001b[0m\u001b[0;34m'prior_type'\u001b[0m\u001b[0;34m,\u001b[0m \u001b[0mprior_type\u001b[0m\u001b[0;34m)\u001b[0m\u001b[0;34m\u001b[0m\u001b[0m\n\u001b[1;32m    138\u001b[0m \u001b[0;34m\u001b[0m\u001b[0m\n\u001b[0;32m--> 139\u001b[0;31m                         \u001b[0mspace_jam\u001b[0m \u001b[0;34m(\u001b[0m\u001b[0mobj_name\u001b[0m\u001b[0;34m,\u001b[0m \u001b[0mSN\u001b[0m\u001b[0;34m,\u001b[0m \u001b[0mmodel\u001b[0m\u001b[0;34m,\u001b[0m \u001b[0manisotropy\u001b[0m\u001b[0;34m,\u001b[0m \u001b[0malign\u001b[0m\u001b[0;34m,\u001b[0m \u001b[0msampler\u001b[0m\u001b[0;34m=\u001b[0m\u001b[0;34m'emcee'\u001b[0m\u001b[0;34m,\u001b[0m \u001b[0msampler_args\u001b[0m\u001b[0;34m=\u001b[0m\u001b[0msampler_args\u001b[0m\u001b[0;34m,\u001b[0m                                    \u001b[0mrs_mst\u001b[0m\u001b[0;34m=\u001b[0m\u001b[0mrs_mst\u001b[0m\u001b[0;34m,\u001b[0m                                    \u001b[0mp0\u001b[0m\u001b[0;34m=\u001b[0m\u001b[0mp0\u001b[0m\u001b[0;34m,\u001b[0m \u001b[0mbounds\u001b[0m\u001b[0;34m=\u001b[0m\u001b[0mbounds\u001b[0m\u001b[0;34m,\u001b[0m \u001b[0msigpar\u001b[0m\u001b[0;34m=\u001b[0m\u001b[0msigpar\u001b[0m\u001b[0;34m,\u001b[0m \u001b[0mprior_type\u001b[0m\u001b[0;34m=\u001b[0m\u001b[0mprior_type\u001b[0m\u001b[0;34m,\u001b[0m \u001b[0mlensprior\u001b[0m\u001b[0;34m=\u001b[0m\u001b[0mlensprior\u001b[0m\u001b[0;34m,\u001b[0m                                    \u001b[0mdate_time\u001b[0m\u001b[0;34m=\u001b[0m\u001b[0mdate_time\u001b[0m\u001b[0;34m,\u001b[0m \u001b[0moverwrite\u001b[0m\u001b[0;34m=\u001b[0m\u001b[0;32mTrue\u001b[0m\u001b[0;34m,\u001b[0m \u001b[0mrun_id\u001b[0m\u001b[0;34m=\u001b[0m\u001b[0;36m1\u001b[0m\u001b[0;34m)\u001b[0m\u001b[0;34m\u001b[0m\u001b[0m\n\u001b[0m\u001b[1;32m    140\u001b[0m \u001b[0;34m\u001b[0m\u001b[0m\n\u001b[1;32m    141\u001b[0m                         \u001b[0mprint\u001b[0m\u001b[0;34m(\u001b[0m\u001b[0;34m'########################################################'\u001b[0m\u001b[0;34m)\u001b[0m\u001b[0;34m\u001b[0m\u001b[0m\n",
      "\u001b[0;32m<ipython-input-19-2d8c80d7c6d4>\u001b[0m in \u001b[0;36mspace_jam\u001b[0;34m(obj_name, SN, model, anisotropy, align, sampler, sampler_args, rs_mst, p0, bounds, sigpar, prior_type, lensprior, date_time, overwrite, run_id)\u001b[0m\n\u001b[1;32m     98\u001b[0m         \u001b[0mwalk0\u001b[0m \u001b[0;34m=\u001b[0m \u001b[0mnp\u001b[0m\u001b[0;34m.\u001b[0m\u001b[0mrandom\u001b[0m\u001b[0;34m.\u001b[0m\u001b[0muniform\u001b[0m\u001b[0;34m(\u001b[0m\u001b[0mbounds\u001b[0m\u001b[0;34m[\u001b[0m\u001b[0;36m0\u001b[0m\u001b[0;34m]\u001b[0m\u001b[0;34m,\u001b[0m \u001b[0mbounds\u001b[0m\u001b[0;34m[\u001b[0m\u001b[0;36m1\u001b[0m\u001b[0;34m]\u001b[0m\u001b[0;34m,\u001b[0m \u001b[0;34m[\u001b[0m\u001b[0mnwalkers\u001b[0m\u001b[0;34m,\u001b[0m\u001b[0mndim\u001b[0m\u001b[0;34m]\u001b[0m\u001b[0;34m)\u001b[0m\u001b[0;34m\u001b[0m\u001b[0m\n\u001b[1;32m     99\u001b[0m         \u001b[0msampler\u001b[0m \u001b[0;34m=\u001b[0m \u001b[0memcee\u001b[0m\u001b[0;34m.\u001b[0m\u001b[0mEnsembleSampler\u001b[0m\u001b[0;34m(\u001b[0m\u001b[0mnwalkers\u001b[0m\u001b[0;34m,\u001b[0m \u001b[0mndim\u001b[0m\u001b[0;34m,\u001b[0m \u001b[0mjam_prob_func\u001b[0m\u001b[0;34m,\u001b[0m \u001b[0mkwargs\u001b[0m\u001b[0;34m=\u001b[0m\u001b[0mkwargs\u001b[0m\u001b[0;34m)\u001b[0m\u001b[0;34m\u001b[0m\u001b[0m\n\u001b[0;32m--> 100\u001b[0;31m         \u001b[0msampler\u001b[0m\u001b[0;34m.\u001b[0m\u001b[0mrun_mcmc\u001b[0m\u001b[0;34m(\u001b[0m\u001b[0mwalk0\u001b[0m\u001b[0;34m,\u001b[0m \u001b[0mnstep\u001b[0m\u001b[0;34m,\u001b[0m \u001b[0mprogress\u001b[0m\u001b[0;34m=\u001b[0m\u001b[0;32mTrue\u001b[0m\u001b[0;34m)\u001b[0m\u001b[0;34m\u001b[0m\u001b[0m\n\u001b[0m\u001b[1;32m    101\u001b[0m         \u001b[0;31m# save sampler as pickle\u001b[0m\u001b[0;34m\u001b[0m\u001b[0;34m\u001b[0m\u001b[0m\n\u001b[1;32m    102\u001b[0m         \u001b[0mf\u001b[0m \u001b[0;34m=\u001b[0m \u001b[0mopen\u001b[0m\u001b[0;34m(\u001b[0m\u001b[0;34mf\"{model_dir}{obj_name}_{date_time}_{model_name}_emcee_sampler.pkl\"\u001b[0m\u001b[0;34m,\u001b[0m\u001b[0;34m\"wb\"\u001b[0m\u001b[0;34m)\u001b[0m\u001b[0;34m\u001b[0m\u001b[0m\n",
      "\u001b[0;32m~/.local/lib/python3.7/site-packages/emcee/ensemble.py\u001b[0m in \u001b[0;36mrun_mcmc\u001b[0;34m(self, initial_state, nsteps, **kwargs)\u001b[0m\n\u001b[1;32m    441\u001b[0m \u001b[0;34m\u001b[0m\u001b[0m\n\u001b[1;32m    442\u001b[0m         \u001b[0mresults\u001b[0m \u001b[0;34m=\u001b[0m \u001b[0;32mNone\u001b[0m\u001b[0;34m\u001b[0m\u001b[0m\n\u001b[0;32m--> 443\u001b[0;31m         \u001b[0;32mfor\u001b[0m \u001b[0mresults\u001b[0m \u001b[0;32min\u001b[0m \u001b[0mself\u001b[0m\u001b[0;34m.\u001b[0m\u001b[0msample\u001b[0m\u001b[0;34m(\u001b[0m\u001b[0minitial_state\u001b[0m\u001b[0;34m,\u001b[0m \u001b[0miterations\u001b[0m\u001b[0;34m=\u001b[0m\u001b[0mnsteps\u001b[0m\u001b[0;34m,\u001b[0m \u001b[0;34m**\u001b[0m\u001b[0mkwargs\u001b[0m\u001b[0;34m)\u001b[0m\u001b[0;34m:\u001b[0m\u001b[0;34m\u001b[0m\u001b[0m\n\u001b[0m\u001b[1;32m    444\u001b[0m             \u001b[0;32mpass\u001b[0m\u001b[0;34m\u001b[0m\u001b[0m\n\u001b[1;32m    445\u001b[0m \u001b[0;34m\u001b[0m\u001b[0m\n",
      "\u001b[0;32m~/.local/lib/python3.7/site-packages/emcee/ensemble.py\u001b[0m in \u001b[0;36msample\u001b[0;34m(self, initial_state, log_prob0, rstate0, blobs0, iterations, tune, skip_initial_state_check, thin_by, thin, store, progress, progress_kwargs)\u001b[0m\n\u001b[1;32m    342\u001b[0m             \u001b[0mstate\u001b[0m\u001b[0;34m.\u001b[0m\u001b[0mblobs\u001b[0m \u001b[0;34m=\u001b[0m \u001b[0mblobs0\u001b[0m\u001b[0;34m\u001b[0m\u001b[0m\n\u001b[1;32m    343\u001b[0m         \u001b[0;32mif\u001b[0m \u001b[0mstate\u001b[0m\u001b[0;34m.\u001b[0m\u001b[0mlog_prob\u001b[0m \u001b[0;32mis\u001b[0m \u001b[0;32mNone\u001b[0m\u001b[0;34m:\u001b[0m\u001b[0;34m\u001b[0m\u001b[0m\n\u001b[0;32m--> 344\u001b[0;31m             \u001b[0mstate\u001b[0m\u001b[0;34m.\u001b[0m\u001b[0mlog_prob\u001b[0m\u001b[0;34m,\u001b[0m \u001b[0mstate\u001b[0m\u001b[0;34m.\u001b[0m\u001b[0mblobs\u001b[0m \u001b[0;34m=\u001b[0m \u001b[0mself\u001b[0m\u001b[0;34m.\u001b[0m\u001b[0mcompute_log_prob\u001b[0m\u001b[0;34m(\u001b[0m\u001b[0mstate\u001b[0m\u001b[0;34m.\u001b[0m\u001b[0mcoords\u001b[0m\u001b[0;34m)\u001b[0m\u001b[0;34m\u001b[0m\u001b[0m\n\u001b[0m\u001b[1;32m    345\u001b[0m         \u001b[0;32mif\u001b[0m \u001b[0mnp\u001b[0m\u001b[0;34m.\u001b[0m\u001b[0mshape\u001b[0m\u001b[0;34m(\u001b[0m\u001b[0mstate\u001b[0m\u001b[0;34m.\u001b[0m\u001b[0mlog_prob\u001b[0m\u001b[0;34m)\u001b[0m \u001b[0;34m!=\u001b[0m \u001b[0;34m(\u001b[0m\u001b[0mself\u001b[0m\u001b[0;34m.\u001b[0m\u001b[0mnwalkers\u001b[0m\u001b[0;34m,\u001b[0m\u001b[0;34m)\u001b[0m\u001b[0;34m:\u001b[0m\u001b[0;34m\u001b[0m\u001b[0m\n\u001b[1;32m    346\u001b[0m             \u001b[0;32mraise\u001b[0m \u001b[0mValueError\u001b[0m\u001b[0;34m(\u001b[0m\u001b[0;34m\"incompatible input dimensions\"\u001b[0m\u001b[0;34m)\u001b[0m\u001b[0;34m\u001b[0m\u001b[0m\n",
      "\u001b[0;32m~/.local/lib/python3.7/site-packages/emcee/ensemble.py\u001b[0m in \u001b[0;36mcompute_log_prob\u001b[0;34m(self, coords)\u001b[0m\n\u001b[1;32m    487\u001b[0m             \u001b[0;32melse\u001b[0m\u001b[0;34m:\u001b[0m\u001b[0;34m\u001b[0m\u001b[0m\n\u001b[1;32m    488\u001b[0m                 \u001b[0mmap_func\u001b[0m \u001b[0;34m=\u001b[0m \u001b[0mmap\u001b[0m\u001b[0;34m\u001b[0m\u001b[0m\n\u001b[0;32m--> 489\u001b[0;31m             \u001b[0mresults\u001b[0m \u001b[0;34m=\u001b[0m \u001b[0mlist\u001b[0m\u001b[0;34m(\u001b[0m\u001b[0mmap_func\u001b[0m\u001b[0;34m(\u001b[0m\u001b[0mself\u001b[0m\u001b[0;34m.\u001b[0m\u001b[0mlog_prob_fn\u001b[0m\u001b[0;34m,\u001b[0m \u001b[0mp\u001b[0m\u001b[0;34m)\u001b[0m\u001b[0;34m)\u001b[0m\u001b[0;34m\u001b[0m\u001b[0m\n\u001b[0m\u001b[1;32m    490\u001b[0m \u001b[0;34m\u001b[0m\u001b[0m\n\u001b[1;32m    491\u001b[0m         \u001b[0;32mtry\u001b[0m\u001b[0;34m:\u001b[0m\u001b[0;34m\u001b[0m\u001b[0m\n",
      "\u001b[0;32m~/.local/lib/python3.7/site-packages/emcee/ensemble.py\u001b[0m in \u001b[0;36m__call__\u001b[0;34m(self, x)\u001b[0m\n\u001b[1;32m    622\u001b[0m     \u001b[0;32mdef\u001b[0m \u001b[0m__call__\u001b[0m\u001b[0;34m(\u001b[0m\u001b[0mself\u001b[0m\u001b[0;34m,\u001b[0m \u001b[0mx\u001b[0m\u001b[0;34m)\u001b[0m\u001b[0;34m:\u001b[0m\u001b[0;34m\u001b[0m\u001b[0m\n\u001b[1;32m    623\u001b[0m         \u001b[0;32mtry\u001b[0m\u001b[0;34m:\u001b[0m\u001b[0;34m\u001b[0m\u001b[0m\n\u001b[0;32m--> 624\u001b[0;31m             \u001b[0;32mreturn\u001b[0m \u001b[0mself\u001b[0m\u001b[0;34m.\u001b[0m\u001b[0mf\u001b[0m\u001b[0;34m(\u001b[0m\u001b[0mx\u001b[0m\u001b[0;34m,\u001b[0m \u001b[0;34m*\u001b[0m\u001b[0mself\u001b[0m\u001b[0;34m.\u001b[0m\u001b[0margs\u001b[0m\u001b[0;34m,\u001b[0m \u001b[0;34m**\u001b[0m\u001b[0mself\u001b[0m\u001b[0;34m.\u001b[0m\u001b[0mkwargs\u001b[0m\u001b[0;34m)\u001b[0m\u001b[0;34m\u001b[0m\u001b[0m\n\u001b[0m\u001b[1;32m    625\u001b[0m         \u001b[0;32mexcept\u001b[0m\u001b[0;34m:\u001b[0m  \u001b[0;31m# pragma: no cover\u001b[0m\u001b[0;34m\u001b[0m\u001b[0m\n\u001b[1;32m    626\u001b[0m             \u001b[0;32mimport\u001b[0m \u001b[0mtraceback\u001b[0m\u001b[0;34m\u001b[0m\u001b[0m\n",
      "\u001b[0;32m<ipython-input-10-5de7eaaea88b>\u001b[0m in \u001b[0;36mjam_lnprob\u001b[0;34m(pars, bounds, p0, sigpar, prior_type, surf_lum, sigma_lum, qobs_lum, distance, xbin, ybin, sigmapsf, normpsf, goodbins, rms, erms, pixsize, reff, plot, model, anisotropy, align, labels, zlens, zsource, rs_mst)\u001b[0m\n\u001b[1;32m     69\u001b[0m                                \u001b[0minc\u001b[0m\u001b[0;34m,\u001b[0m \u001b[0mmbh\u001b[0m\u001b[0;34m,\u001b[0m \u001b[0mdistance\u001b[0m\u001b[0;34m,\u001b[0m \u001b[0mxbin\u001b[0m\u001b[0;34m,\u001b[0m \u001b[0mybin\u001b[0m\u001b[0;34m,\u001b[0m \u001b[0mplot\u001b[0m\u001b[0;34m=\u001b[0m\u001b[0mplot\u001b[0m\u001b[0;34m,\u001b[0m \u001b[0mpixsize\u001b[0m\u001b[0;34m=\u001b[0m\u001b[0mpixsize\u001b[0m\u001b[0;34m,\u001b[0m \u001b[0mquiet\u001b[0m\u001b[0;34m=\u001b[0m\u001b[0;36m1\u001b[0m\u001b[0;34m,\u001b[0m\u001b[0;34m\u001b[0m\u001b[0m\n\u001b[1;32m     70\u001b[0m                                \u001b[0msigmapsf\u001b[0m\u001b[0;34m=\u001b[0m\u001b[0msigmapsf\u001b[0m\u001b[0;34m,\u001b[0m \u001b[0mnormpsf\u001b[0m\u001b[0;34m=\u001b[0m\u001b[0mnormpsf\u001b[0m\u001b[0;34m,\u001b[0m \u001b[0mgoodbins\u001b[0m\u001b[0;34m=\u001b[0m\u001b[0mgoodbins\u001b[0m\u001b[0;34m,\u001b[0m \u001b[0malign\u001b[0m\u001b[0;34m=\u001b[0m\u001b[0malign\u001b[0m\u001b[0;34m,\u001b[0m\u001b[0;34m\u001b[0m\u001b[0m\n\u001b[0;32m---> 71\u001b[0;31m                                beta=beta, data=rms, errors=erms, ml=1, nodots=True)\n\u001b[0m\u001b[1;32m     72\u001b[0m \u001b[0;34m\u001b[0m\u001b[0m\n\u001b[1;32m     73\u001b[0m             \u001b[0mresid\u001b[0m \u001b[0;34m=\u001b[0m \u001b[0;34m(\u001b[0m\u001b[0mrms\u001b[0m\u001b[0;34m[\u001b[0m\u001b[0mgoodbins\u001b[0m\u001b[0;34m]\u001b[0m \u001b[0;34m-\u001b[0m \u001b[0mjam\u001b[0m\u001b[0;34m.\u001b[0m\u001b[0mmodel\u001b[0m\u001b[0;34m[\u001b[0m\u001b[0mgoodbins\u001b[0m\u001b[0;34m]\u001b[0m\u001b[0;34m)\u001b[0m\u001b[0;34m/\u001b[0m\u001b[0merms\u001b[0m\u001b[0;34m[\u001b[0m\u001b[0mgoodbins\u001b[0m\u001b[0;34m]\u001b[0m\u001b[0;34m\u001b[0m\u001b[0m\n",
      "\u001b[0;32m~/.local/lib/python3.7/site-packages/jampy/jam_axi_proj.py\u001b[0m in \u001b[0;36m__init__\u001b[0;34m(self, surf_lum, sigma_lum, qobs_lum, surf_pot, sigma_pot, qobs_pot, inc, mbh, distance, xbin, ybin, align, analytic_los, beta, data, epsrel, errors, flux_obs, gamma, goodbins, interp, kappa, ml, moment, nang, nlos, nodots, normpsf, nrad, pixang, pixsize, plot, quiet, rbh, sigmapsf, step)\u001b[0m\n\u001b[1;32m    807\u001b[0m             \u001b[0msurf_pot_pc\u001b[0m\u001b[0;34m,\u001b[0m \u001b[0msigma_pot_pc\u001b[0m\u001b[0;34m,\u001b[0m \u001b[0mqobs_pot\u001b[0m\u001b[0;34m,\u001b[0m\u001b[0;34m\u001b[0m\u001b[0m\n\u001b[1;32m    808\u001b[0m             \u001b[0mbeta\u001b[0m\u001b[0;34m,\u001b[0m \u001b[0mgamma\u001b[0m\u001b[0;34m,\u001b[0m \u001b[0mmoment\u001b[0m\u001b[0;34m,\u001b[0m \u001b[0malign\u001b[0m\u001b[0;34m,\u001b[0m \u001b[0msigmaPsf_pc\u001b[0m\u001b[0;34m,\u001b[0m \u001b[0mnormpsf\u001b[0m\u001b[0;34m,\u001b[0m\u001b[0;34m\u001b[0m\u001b[0m\n\u001b[0;32m--> 809\u001b[0;31m             pixSize_pc, pixang, step_pc, nrad, nang, nlos, epsrel, interp, analytic_los)\n\u001b[0m\u001b[1;32m    810\u001b[0m \u001b[0;34m\u001b[0m\u001b[0m\n\u001b[1;32m    811\u001b[0m         \u001b[0;32mif\u001b[0m \u001b[0mmoment\u001b[0m \u001b[0;32min\u001b[0m \u001b[0mstr2\u001b[0m\u001b[0;34m[\u001b[0m\u001b[0;34m:\u001b[0m\u001b[0;36m3\u001b[0m\u001b[0;34m]\u001b[0m\u001b[0;34m:\u001b[0m\u001b[0;34m\u001b[0m\u001b[0m\n",
      "\u001b[0;32m~/.local/lib/python3.7/site-packages/jampy/jam_axi_proj.py\u001b[0m in \u001b[0;36mpsf_conv\u001b[0;34m(x, y, inc_deg, surf_lum, sigma_lum, qobs_lum, surf_pot, sigma_pot, qobs_pot, beta, gamma, moment, align, sigmaPsf, normPsf, pixSize, pixAng, step, nrad, nang, nlos, epsrel, interp, analytic_los)\u001b[0m\n\u001b[1;32m    230\u001b[0m                               \u001b[0mdens_lum\u001b[0m\u001b[0;34m,\u001b[0m \u001b[0msigma_lum\u001b[0m\u001b[0;34m,\u001b[0m \u001b[0mqintr_lum\u001b[0m\u001b[0;34m,\u001b[0m\u001b[0;34m\u001b[0m\u001b[0m\n\u001b[1;32m    231\u001b[0m                               \u001b[0mdens_pot\u001b[0m\u001b[0;34m,\u001b[0m \u001b[0msigma_pot\u001b[0m\u001b[0;34m,\u001b[0m \u001b[0mqintr_pot\u001b[0m\u001b[0;34m,\u001b[0m\u001b[0;34m\u001b[0m\u001b[0m\n\u001b[0;32m--> 232\u001b[0;31m                               beta, gamma, nrad, nang, nlos, epsrel, align)\n\u001b[0m\u001b[1;32m    233\u001b[0m         model = {'xx': vel2[0, 0],\n\u001b[1;32m    234\u001b[0m                  \u001b[0;34m'yy'\u001b[0m\u001b[0;34m:\u001b[0m \u001b[0mvel2\u001b[0m\u001b[0;34m[\u001b[0m\u001b[0;36m1\u001b[0m\u001b[0;34m,\u001b[0m \u001b[0;36m1\u001b[0m\u001b[0;34m]\u001b[0m\u001b[0;34m,\u001b[0m\u001b[0;34m\u001b[0m\u001b[0m\n",
      "\u001b[0;32m~/.local/lib/python3.7/site-packages/jampy/jam_axi_proj.py\u001b[0m in \u001b[0;36mvmom_proj\u001b[0;34m(x1, y1, inc, dens_lum, sigma_lum, qintr_lum, dens_pot, sigma_pot, qintr_pot, beta, gamma, nrad, nang, nlos, epsrel, align)\u001b[0m\n\u001b[1;32m     63\u001b[0m                      \u001b[0mdens_pot\u001b[0m\u001b[0;34m,\u001b[0m \u001b[0msigma_pot\u001b[0m\u001b[0;34m,\u001b[0m \u001b[0mqintr_pot\u001b[0m\u001b[0;34m,\u001b[0m\u001b[0;34m\u001b[0m\u001b[0m\n\u001b[1;32m     64\u001b[0m                      \u001b[0mbeta\u001b[0m\u001b[0;34m,\u001b[0m \u001b[0mgamma\u001b[0m\u001b[0;34m,\u001b[0m \u001b[0mnrad\u001b[0m\u001b[0;34m,\u001b[0m \u001b[0mnang\u001b[0m\u001b[0;34m,\u001b[0m \u001b[0mepsrel\u001b[0m\u001b[0;34m,\u001b[0m\u001b[0;34m\u001b[0m\u001b[0m\n\u001b[0;32m---> 65\u001b[0;31m                      rmin=np.min(sigma_lum)/3, rmax=rmax, align=align)\n\u001b[0m\u001b[1;32m     66\u001b[0m \u001b[0;34m\u001b[0m\u001b[0m\n\u001b[1;32m     67\u001b[0m     \u001b[0mx\u001b[0m \u001b[0;34m=\u001b[0m \u001b[0mx1\u001b[0m\u001b[0;34m[\u001b[0m\u001b[0;34m:\u001b[0m\u001b[0;34m,\u001b[0m \u001b[0;32mNone\u001b[0m\u001b[0;34m]\u001b[0m\u001b[0;34m\u001b[0m\u001b[0m\n",
      "\u001b[0;32m~/.local/lib/python3.7/site-packages/jampy/jam_axi_intr.py\u001b[0m in \u001b[0;36m__init__\u001b[0;34m(self, xbin, ybin, dens_lum, sigma_lum, qintr_lum, dens_pot, sigma_pot, qintr_pot, beta, gamma, nrad, nang, epsrel, rmin, rmax, align)\u001b[0m\n\u001b[1;32m    333\u001b[0m             \u001b[0msig2r\u001b[0m\u001b[0;34m[\u001b[0m\u001b[0mj\u001b[0m\u001b[0;34m]\u001b[0m\u001b[0;34m,\u001b[0m \u001b[0msig2th\u001b[0m\u001b[0;34m[\u001b[0m\u001b[0mj\u001b[0m\u001b[0;34m]\u001b[0m\u001b[0;34m,\u001b[0m \u001b[0msig2phi\u001b[0m\u001b[0;34m[\u001b[0m\u001b[0mj\u001b[0m\u001b[0;34m]\u001b[0m\u001b[0;34m,\u001b[0m \u001b[0mv2phi\u001b[0m\u001b[0;34m[\u001b[0m\u001b[0mj\u001b[0m\u001b[0;34m]\u001b[0m\u001b[0;34m,\u001b[0m \u001b[0mnu\u001b[0m\u001b[0;34m[\u001b[0m\u001b[0mj\u001b[0m\u001b[0;34m]\u001b[0m \u001b[0;34m=\u001b[0m\u001b[0;31m \u001b[0m\u001b[0;31m\\\u001b[0m\u001b[0;34m\u001b[0m\u001b[0m\n\u001b[1;32m    334\u001b[0m                 fun(Rj, zj, dens_lum, sigma_lum, qintr_lum,\n\u001b[0;32m--> 335\u001b[0;31m                     dens_pot, sigma_pot, qintr_pot, beta, gamma, epsrel)\n\u001b[0m\u001b[1;32m    336\u001b[0m \u001b[0;34m\u001b[0m\u001b[0m\n\u001b[1;32m    337\u001b[0m         \u001b[0mself\u001b[0m\u001b[0;34m.\u001b[0m\u001b[0msig2r\u001b[0m \u001b[0;34m=\u001b[0m \u001b[0msig2r\u001b[0m\u001b[0;34m.\u001b[0m\u001b[0mreshape\u001b[0m\u001b[0;34m(\u001b[0m\u001b[0mnang\u001b[0m\u001b[0;34m,\u001b[0m \u001b[0mnrad\u001b[0m\u001b[0;34m)\u001b[0m\u001b[0;34m\u001b[0m\u001b[0m\n",
      "\u001b[0;32m~/.local/lib/python3.7/site-packages/jampy/jam_axi_intr.py\u001b[0m in \u001b[0;36mintrinsic_moments_sph\u001b[0;34m(R, z, dens_lum, sigma_lum, qintr_lum, dens_pot, sigma_pot, qintr_pot, beta, gamma, epsrel)\u001b[0m\n\u001b[1;32m    253\u001b[0m     \u001b[0msig2r\u001b[0m\u001b[0;34m,\u001b[0m \u001b[0msig2th\u001b[0m\u001b[0;34m,\u001b[0m \u001b[0msig2phi\u001b[0m\u001b[0;34m,\u001b[0m \u001b[0mv2phi\u001b[0m \u001b[0;34m=\u001b[0m\u001b[0;31m \u001b[0m\u001b[0;31m\\\u001b[0m\u001b[0;34m\u001b[0m\u001b[0m\n\u001b[1;32m    254\u001b[0m         [quad2d(integrand_sph, xlim, ylim, epsrel=epsrel, args=args+[txt]).integ/nu\n\u001b[0;32m--> 255\u001b[0;31m          for txt in ['sig2r', 'sig2th', 'sig2phi', 'v2phi']]\n\u001b[0m\u001b[1;32m    256\u001b[0m     v2phi += quad1d(integand_tan_dth_pot, xlim, epsrel=epsrel,\n\u001b[1;32m    257\u001b[0m                      args=(r, th, dens_pot, sigma_pot, qintr_pot)).integ\n",
      "\u001b[0;32m~/.local/lib/python3.7/site-packages/jampy/jam_axi_intr.py\u001b[0m in \u001b[0;36m<listcomp>\u001b[0;34m(.0)\u001b[0m\n\u001b[1;32m    253\u001b[0m     \u001b[0msig2r\u001b[0m\u001b[0;34m,\u001b[0m \u001b[0msig2th\u001b[0m\u001b[0;34m,\u001b[0m \u001b[0msig2phi\u001b[0m\u001b[0;34m,\u001b[0m \u001b[0mv2phi\u001b[0m \u001b[0;34m=\u001b[0m\u001b[0;31m \u001b[0m\u001b[0;31m\\\u001b[0m\u001b[0;34m\u001b[0m\u001b[0m\n\u001b[1;32m    254\u001b[0m         [quad2d(integrand_sph, xlim, ylim, epsrel=epsrel, args=args+[txt]).integ/nu\n\u001b[0;32m--> 255\u001b[0;31m          for txt in ['sig2r', 'sig2th', 'sig2phi', 'v2phi']]\n\u001b[0m\u001b[1;32m    256\u001b[0m     v2phi += quad1d(integand_tan_dth_pot, xlim, epsrel=epsrel,\n\u001b[1;32m    257\u001b[0m                      args=(r, th, dens_pot, sigma_pot, qintr_pot)).integ\n",
      "\u001b[0;32m~/.local/lib/python3.7/site-packages/jampy/quad2d.py\u001b[0m in \u001b[0;36m__init__\u001b[0;34m(self, fun, xlim, ylim, epsrel, epsabs, plot, verbose, singular, args)\u001b[0m\n\u001b[1;32m    160\u001b[0m \u001b[0;34m\u001b[0m\u001b[0m\n\u001b[1;32m    161\u001b[0m             \u001b[0;31m# Approximate integral over four subrectangles.\u001b[0m\u001b[0;34m\u001b[0m\u001b[0;34m\u001b[0m\u001b[0m\n\u001b[0;32m--> 162\u001b[0;31m             \u001b[0mQsub\u001b[0m\u001b[0;34m,\u001b[0m \u001b[0mesub\u001b[0m \u001b[0;34m=\u001b[0m \u001b[0mself\u001b[0m\u001b[0;34m.\u001b[0m\u001b[0mtensor\u001b[0m\u001b[0;34m(\u001b[0m\u001b[0ma\u001b[0m\u001b[0;34m,\u001b[0m \u001b[0mb\u001b[0m\u001b[0;34m,\u001b[0m \u001b[0mthetaL\u001b[0m\u001b[0;34m,\u001b[0m \u001b[0mthetaR\u001b[0m\u001b[0;34m,\u001b[0m \u001b[0mphiB\u001b[0m\u001b[0;34m,\u001b[0m \u001b[0mphiT\u001b[0m\u001b[0;34m,\u001b[0m \u001b[0mWT3\u001b[0m\u001b[0;34m,\u001b[0m \u001b[0mWT7\u001b[0m\u001b[0;34m,\u001b[0m \u001b[0margs\u001b[0m\u001b[0;34m)\u001b[0m\u001b[0;34m\u001b[0m\u001b[0m\n\u001b[0m\u001b[1;32m    163\u001b[0m \u001b[0;34m\u001b[0m\u001b[0m\n\u001b[1;32m    164\u001b[0m             \u001b[0;31m# Saved in LIST is \"e\", a conservative estimate of the error in the\u001b[0m\u001b[0;34m\u001b[0m\u001b[0;34m\u001b[0m\u001b[0m\n",
      "\u001b[0;32m~/.local/lib/python3.7/site-packages/jampy/quad2d.py\u001b[0m in \u001b[0;36mtensor\u001b[0;34m(self, a, b, thetaL, thetaR, phiB, phiT, WT3, WT7, args)\u001b[0m\n\u001b[1;32m    219\u001b[0m         \u001b[0;32melse\u001b[0m\u001b[0;34m:\u001b[0m\u001b[0;34m\u001b[0m\u001b[0m\n\u001b[1;32m    220\u001b[0m             \u001b[0mt\u001b[0m \u001b[0;34m=\u001b[0m \u001b[0mphi\u001b[0m\u001b[0;34m\u001b[0m\u001b[0m\n\u001b[0;32m--> 221\u001b[0;31m         \u001b[0mx\u001b[0m \u001b[0;34m=\u001b[0m \u001b[0mnp\u001b[0m\u001b[0;34m.\u001b[0m\u001b[0mtile\u001b[0m\u001b[0;34m(\u001b[0m\u001b[0mxx\u001b[0m\u001b[0;34m,\u001b[0m \u001b[0;34m(\u001b[0m\u001b[0;36m2\u001b[0m\u001b[0;34m*\u001b[0m\u001b[0mn\u001b[0m\u001b[0;34m,\u001b[0m \u001b[0;36m1\u001b[0m\u001b[0;34m)\u001b[0m\u001b[0;34m)\u001b[0m\u001b[0;34m\u001b[0m\u001b[0m\n\u001b[0m\u001b[1;32m    222\u001b[0m         \u001b[0my\u001b[0m \u001b[0;34m=\u001b[0m \u001b[0mbottom\u001b[0m \u001b[0;34m+\u001b[0m \u001b[0mt\u001b[0m\u001b[0;34m*\u001b[0m\u001b[0mdydt\u001b[0m\u001b[0;34m\u001b[0m\u001b[0m\n\u001b[1;32m    223\u001b[0m         \u001b[0mz\u001b[0m \u001b[0;34m=\u001b[0m \u001b[0mself\u001b[0m\u001b[0;34m.\u001b[0m\u001b[0mFUN\u001b[0m\u001b[0;34m(\u001b[0m\u001b[0mx\u001b[0m\u001b[0;34m.\u001b[0m\u001b[0mravel\u001b[0m\u001b[0;34m(\u001b[0m\u001b[0;34m)\u001b[0m\u001b[0;34m,\u001b[0m \u001b[0my\u001b[0m\u001b[0;34m.\u001b[0m\u001b[0mravel\u001b[0m\u001b[0;34m(\u001b[0m\u001b[0;34m)\u001b[0m\u001b[0;34m,\u001b[0m \u001b[0;34m*\u001b[0m\u001b[0margs\u001b[0m\u001b[0;34m)\u001b[0m\u001b[0;34m\u001b[0m\u001b[0m\n",
      "\u001b[0;32m<__array_function__ internals>\u001b[0m in \u001b[0;36mtile\u001b[0;34m(*args, **kwargs)\u001b[0m\n",
      "\u001b[0;32m~/.local/lib/python3.7/site-packages/numpy/lib/shape_base.py\u001b[0m in \u001b[0;36mtile\u001b[0;34m(A, reps)\u001b[0m\n\u001b[1;32m   1256\u001b[0m         \u001b[0;32mfor\u001b[0m \u001b[0mdim_in\u001b[0m\u001b[0;34m,\u001b[0m \u001b[0mnrep\u001b[0m \u001b[0;32min\u001b[0m \u001b[0mzip\u001b[0m\u001b[0;34m(\u001b[0m\u001b[0mc\u001b[0m\u001b[0;34m.\u001b[0m\u001b[0mshape\u001b[0m\u001b[0;34m,\u001b[0m \u001b[0mtup\u001b[0m\u001b[0;34m)\u001b[0m\u001b[0;34m:\u001b[0m\u001b[0;34m\u001b[0m\u001b[0m\n\u001b[1;32m   1257\u001b[0m             \u001b[0;32mif\u001b[0m \u001b[0mnrep\u001b[0m \u001b[0;34m!=\u001b[0m \u001b[0;36m1\u001b[0m\u001b[0;34m:\u001b[0m\u001b[0;34m\u001b[0m\u001b[0m\n\u001b[0;32m-> 1258\u001b[0;31m                 \u001b[0mc\u001b[0m \u001b[0;34m=\u001b[0m \u001b[0mc\u001b[0m\u001b[0;34m.\u001b[0m\u001b[0mreshape\u001b[0m\u001b[0;34m(\u001b[0m\u001b[0;34m-\u001b[0m\u001b[0;36m1\u001b[0m\u001b[0;34m,\u001b[0m \u001b[0mn\u001b[0m\u001b[0;34m)\u001b[0m\u001b[0;34m.\u001b[0m\u001b[0mrepeat\u001b[0m\u001b[0;34m(\u001b[0m\u001b[0mnrep\u001b[0m\u001b[0;34m,\u001b[0m \u001b[0;36m0\u001b[0m\u001b[0;34m)\u001b[0m\u001b[0;34m\u001b[0m\u001b[0m\n\u001b[0m\u001b[1;32m   1259\u001b[0m             \u001b[0mn\u001b[0m \u001b[0;34m//=\u001b[0m \u001b[0mdim_in\u001b[0m\u001b[0;34m\u001b[0m\u001b[0m\n\u001b[1;32m   1260\u001b[0m     \u001b[0;32mreturn\u001b[0m \u001b[0mc\u001b[0m\u001b[0;34m.\u001b[0m\u001b[0mreshape\u001b[0m\u001b[0;34m(\u001b[0m\u001b[0mshape_out\u001b[0m\u001b[0;34m)\u001b[0m\u001b[0;34m\u001b[0m\u001b[0m\n",
      "\u001b[0;31mKeyboardInterrupt\u001b[0m: "
     ]
    }
   ],
   "source": [
    "# set mass model, anisotropy, and alignment\n",
    "models = ['power_law','nfw']\n",
    "anis = ['const','OM']\n",
    "aligns = ['sph', 'cyl']\n",
    "lenspriors = ['lensprior','nolensprior']\n",
    "#scale_radii = np.arange(0.1, 0.6, 0.1) # 10*reff to 50*reff\n",
    "rs_mst = 0.3 # scale radius for mass sheet\n",
    "\n",
    "# set nstep\n",
    "nstep= 100\n",
    "nwalkers= 32\n",
    "\n",
    "print('Thank you for choosing MiseryBot 9.3.2, where you will hate everything and probably quit after a short while.')\n",
    "print('...')\n",
    "print('Please hold...')\n",
    "print('...')\n",
    "print('Ah yes, the JAM routine. This one is fun.')\n",
    "print('...')\n",
    "print('But where to start?')\n",
    "print('...')\n",
    "\n",
    "date_time = datetime.now().strftime(\"%Y_%m_%d\")#-%I_%M_%S_%p\")\n",
    "print(f'Current date is {date_time}. Hopefully tomorrow will be better.')\n",
    "\n",
    "\n",
    "print('########################################################')\n",
    "print('########################################################')\n",
    "\n",
    "for i, obj_name in enumerate(active_obj_names):\n",
    "    \n",
    "    print(f'Jamming object {obj_name}.')\n",
    "    print('Brace for jamming.')\n",
    "\n",
    "    print('########################################################') \n",
    "    \n",
    "    for j, SN in enumerate([vorbin_SN_targets[1]]):\n",
    "        \n",
    "        print(f'Designated target is S/N {SN}.')\n",
    "        \n",
    "        for k, model in enumerate([models[0]]):\n",
    "            \n",
    "            print(f'Beginning {model} models.')\n",
    "            \n",
    "            for l, anisotropy in enumerate([anis[0]]):\n",
    "                \n",
    "                print(f'Beginning {anisotropy} models.')\n",
    "                \n",
    "                # skip the const models for J0029, 0037, 1112, 1204\n",
    "                #if any(skip_models == i) and anisotropy=='const':\n",
    "                #    print('Skipping constant anisotropy, completed on 09/11/23.')\n",
    "                #    continue\n",
    "                    \n",
    "                for m, align in enumerate([aligns[0]]):\n",
    "                    \n",
    "                    print(f'Beginning {align} models.')\n",
    "                    \n",
    "                    for n, lensprior in enumerate([lenspriors[0]]):                        \n",
    "\n",
    "                        print(f'Commencing JAM routine with model {model}, anisotropy {anisotropy}, and alignment {align}... {lensprior}... number of steps {nstep}')\n",
    "                        print(f'Current date and time is {tick()}')\n",
    "                        print('JAMMING.')\n",
    "                        print('########################################################') \n",
    "\n",
    "                        if model=='power_law' and anisotropy=='const':\n",
    "                            p0 = np.copy(p0_pow_const)\n",
    "                            bounds = np.copy(bounds_pow_const)\n",
    "                            sigpar = np.copy(sigpar_pow_const)\n",
    "                            # take lens priors lensprior = 'lensprior'\n",
    "                            if lensprior=='lensprior':\n",
    "                                if obj_name == 'SDSSJ1538+5817':\n",
    "                                    print('SDSSJ1538+5817 does not have lens prior for now.')\n",
    "                                    continue\n",
    "                                else:\n",
    "                                    # update lensing priors\n",
    "                                    lens_model = lens_models[lens_models['obj_name']==obj_name]\n",
    "                                    p0[0] = lens_model['gamma'].iloc[0] #power_law_slopes.iloc[obj_name].iloc[i, 1]\n",
    "                                    sigpar[0] = lens_model['dgamma'].iloc[0]\n",
    "                                    p0[3] = lens_model['theta_E'].iloc[0]\n",
    "                                    sigpar[3] = lens_model['dtheta_E'].iloc[0]\n",
    "                                    prior_type=['gaussian','uniform','uniform','gaussian','uniform']\n",
    "                            else:\n",
    "                                prior_type = np.copy(prior_type_uniform)\n",
    "\n",
    "                        if model=='power_law' and anisotropy=='OM':\n",
    "                            p0 = np.copy(p0_pow_om)\n",
    "                            bounds = np.copy(bounds_pow_om)\n",
    "                            sigpar = np.copy(sigpar_pow_om)\n",
    "                            # take lens priors lensprior = 'lensprior'\n",
    "                            if lensprior=='lensprior':\n",
    "                                if obj_name == 'SDSSJ1538+5817':\n",
    "                                    print('SDSSJ1538+5817 does not have lens prior for now.')\n",
    "                                    continue\n",
    "                                else:\n",
    "                                    # update lensing priors\n",
    "                                    lens_model = lens_models[lens_models['obj_name']==obj_name]\n",
    "                                    p0[0] = lens_model['gamma'].iloc[0] #power_law_slopes.iloc[obj_name].iloc[i, 1]\n",
    "                                    sigpar[0] = lens_model['dgamma'].iloc[0]\n",
    "                                    p0[3] = lens_model['theta_E'].iloc[0]\n",
    "                                    sigpar[3] = lens_model['dtheta_E'].iloc[0]\n",
    "                                    prior_type=['gaussian','uniform','uniform','gaussian','uniform']\n",
    "                            else:\n",
    "                                prior_type = np.copy(prior_type_uniform)\n",
    "                                \n",
    "                        if model=='nfw' and anisotropy=='const':\n",
    "                            p0 = np.copy(p0_nfw_const)\n",
    "                            bounds = np.copy(bounds_nfw_const)\n",
    "                            sigpar = np.copy(sigpar_nfw_const)\n",
    "                            prior_type = np.copy(prior_type_uniform)\n",
    "                            if lensprior=='lensprior':\n",
    "                                print('No lens prior for NFW.')\n",
    "                                print('########################################################') \n",
    "                                print(\"No JAM! On to the next?\")\n",
    "                                print('########################################################') \n",
    "                                print('########################################################')\n",
    "                                continue\n",
    "\n",
    "                        if model=='nfw' and anisotropy=='OM':\n",
    "                            p0 = np.copy(p0_nfw_om)\n",
    "                            bounds = np.copy(bounds_nfw_om)\n",
    "                            sigpar = np.copy(sigpar_nfw_om)\n",
    "                            prior_type = np.copy(prior_type_uniform)\n",
    "                            if lensprior=='lensprior':\n",
    "                                print('No lens prior for NFW.')\n",
    "                                print('########################################################') \n",
    "                                print(\"No JAM! On to the next?\")\n",
    "                                print('########################################################') \n",
    "                                print('########################################################')\n",
    "                                continue\n",
    "\n",
    "                        # sampler args for emcee\n",
    "                        ndim = len(p0)\n",
    "                        sampler_args = [nstep, nwalkers, ndim] # 10 walkers\n",
    "\n",
    "                        print('p0', p0)\n",
    "                        print('bounds', bounds)\n",
    "                        print('sigpar', sigpar)\n",
    "                        print('prior_type', prior_type)\n",
    "\n",
    "                        space_jam (obj_name, SN, model, anisotropy, align, sampler='emcee', sampler_args=sampler_args, \\\n",
    "                                   rs_mst=rs_mst, \\\n",
    "                                   p0=p0, bounds=bounds, sigpar=sigpar, prior_type=prior_type, lensprior=lensprior, \\\n",
    "                                   date_time=date_time, overwrite=True, run_id=1)\n",
    "\n",
    "                        print('########################################################') \n",
    "                        print(\"We've been... JAMMED! On to the next?\")\n",
    "                        print('########################################################') \n",
    "                        print('########################################################') \n",
    "\n",
    "print(f'Okay, all done as of {tick()}. Thank you for using MiseryBot 9.1.3. We deprecated while you were away. Hope you data is not corrupted.')\n"
   ]
  },
  {
   "cell_type": "code",
   "execution_count": null,
   "metadata": {},
   "outputs": [],
   "source": []
  },
  {
   "cell_type": "markdown",
   "metadata": {},
   "source": [
    "__________________\n",
    "__________________\n",
    "\n",
    "# BREAK\n",
    "__________________\n",
    "__________________"
   ]
  }
 ],
 "metadata": {
  "kernelspec": {
   "display_name": "Python 3",
   "language": "python",
   "name": "python3"
  },
  "language_info": {
   "codemirror_mode": {
    "name": "ipython",
    "version": 3
   },
   "file_extension": ".py",
   "mimetype": "text/x-python",
   "name": "python",
   "nbconvert_exporter": "python",
   "pygments_lexer": "ipython3",
   "version": "3.7.0"
  }
 },
 "nbformat": 4,
 "nbformat_minor": 5
}
