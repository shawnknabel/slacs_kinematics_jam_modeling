{
 "cells": [
  {
   "cell_type": "markdown",
   "metadata": {},
   "source": [
    "# 03/11/24 - Debugging the JAM method with spherical geometry and with OM anisotropy.\n",
    "### 02/22/24 - Adding covariance matrix to the space_jam method\n",
    "### 02/12/24 - Adding least squares fitting option to forgo the time consuming MCMC for testing purposes.\n",
    "### 12/26/23 - This notebook tests the modules \"space_jam\" and \"total_mass_mge\" in e.g. home/shawnknabel/Documents/slacs_kinematics/my_python_packages/space_jam.py"
   ]
  },
  {
   "cell_type": "code",
   "execution_count": 1,
   "metadata": {},
   "outputs": [],
   "source": [
    "# import general libraries and modules\n",
    "import numpy as np\n",
    "np.set_printoptions(threshold=10000)\n",
    "import matplotlib.pyplot as plt\n",
    "plt.rcParams[\"figure.figsize\"] = (8, 6)\n",
    "#plt.switch_backend('agg')\n",
    "%matplotlib inline\n",
    "import pandas as pd\n",
    "import warnings\n",
    "warnings.filterwarnings( \"ignore\", module = \"matplotlib\\..*\" )\n",
    "warnings.filterwarnings( \"ignore\", module = \"plotbin\\..*\" )\n",
    "import os\n",
    "from os import path\n",
    "from pathlib import Path\n",
    "#import pickle\n",
    "import dill as pickle\n",
    "from datetime import datetime\n",
    "def tick():\n",
    "    return datetime.now().strftime(\"%Y_%m_%d-%I_%M_%S_%p\")\n",
    "import glob\n",
    "\n",
    "# astronomy/scipy\n",
    "from astropy.io import fits\n",
    "#from astropy.wcs import WCS\n",
    "#from scipy.ndimage import rotate\n",
    "#from scipy.ndimage import map_coordinates\n",
    "#from scipy.optimize import least_squares as lsq\n",
    "#from astropy.convolution import convolve, convolve_fft, Gaussian2DKernel\n",
    "#from astropy.cosmology import Planck15 as cosmo # I took 15 because for some reason Planck18 isn't in this astropy install #Planck18 as cosmo  # Planck 2018\n",
    "from astropy.cosmology import FlatLambdaCDM\n",
    "cosmo = FlatLambdaCDM(H0=70, Om0=0.3, Tcmb0=2.725)\n",
    "#from scipy.interpolate import interp1d\n",
    "#from scipy.optimize import fsolve\n",
    "import astropy.units as u\n",
    "import astropy.constants as constants\n",
    "\n",
    "# my functions\n",
    "import sys\n",
    "sys.path.append(\"/home/shawnknabel/Documents/slacs_kinematics/my_python_packages\")\n",
    "\n",
    "\n",
    "################################################################\n",
    "# some needed information\n",
    "kcwi_scale = 0.1457  # arcsec/pixel\n",
    "hst_scale = 0.050 # ACS/WFC\n",
    "\n",
    "# value of c^2 / 4 pi G\n",
    "c2_4piG = (constants.c **2 / constants.G / 4 / np.pi).to('solMass/pc')\n"
   ]
  },
  {
   "cell_type": "code",
   "execution_count": 2,
   "metadata": {},
   "outputs": [],
   "source": [
    "# bring in the space_jam and total_mass_mge modules\n",
    "\n",
    "from space_jam import space_jam\n",
    "from total_mass_mge import total_mass_mge"
   ]
  },
  {
   "cell_type": "code",
   "execution_count": 3,
   "metadata": {},
   "outputs": [
    {
     "name": "stdout",
     "output_type": "stream",
     "text": [
      "\n"
     ]
    }
   ],
   "source": [
    "##################################################################################################################################\n",
    "\n",
    "old_date_of_kin = '2023-02-28_2'\n",
    "date_of_kin = '2024_02_15'\n",
    "\n",
    "#------------------------------------------------------------------------------\n",
    "# Directories and files\n",
    "\n",
    "# data directory\n",
    "data_dir = '/data/raw_data/KECK_KCWI_SLACS_kinematics_shawn/'\n",
    "hst_dir = '/data/raw_data/HST_SLACS_ACS/kcwi_kinematics_lenses/'\n",
    "tables_dir = f'{data_dir}tables/'\n",
    "mosaics_dir = f'{data_dir}mosaics/'\n",
    "kinematics_full_dir = f'{data_dir}kinematics/'\n",
    "kinematics_dir =f'{kinematics_full_dir}{date_of_kin}/'\n",
    "old_kinematics_dir = f'{kinematics_full_dir}{old_date_of_kin}/'\n",
    "jam_output_dir = f'{data_dir}jam_outputs/'\n",
    "# create a directory for JAM outputs\n",
    "#Path(jam_output_dir).mkdir(parents=True, exist_ok=True)\n",
    "#print(f'Outputs will be in {jam_output_dir}')\n",
    "print()\n",
    "\n",
    "# target SN for voronoi binning\n",
    "vorbin_SN_targets = np.array([10, 15, 20])\n",
    "\n",
    "#################################################\n",
    "# objects\n",
    "obj_names = ['SDSSJ0029-0055', \n",
    "             'SDSSJ0037-0942',\n",
    "             'SDSSJ0330-0020',\n",
    "             'SDSSJ1112+0826',\n",
    "             'SDSSJ1204+0358',\n",
    "             'SDSSJ1250+0523',\n",
    "             'SDSSJ1306+0600',\n",
    "             'SDSSJ1402+6321',\n",
    "             'SDSSJ1531-0105',\n",
    "             'SDSSJ1538+5817',\n",
    "             'SDSSJ1621+3931',\n",
    "             'SDSSJ1627-0053',\n",
    "             'SDSSJ1630+4520',\n",
    "             'SDSSJ2303+1422'\n",
    "            ]\n",
    "\n",
    "#################################################\n",
    "\n",
    "paper_table = pd.read_csv(f'{tables_dir}paper_table_100223.csv')\n",
    "slacs_ix_table = pd.read_csv(f'{tables_dir}slacs_ix_table3.csv')\n",
    "zs = paper_table['zlens']\n",
    "zlenses = slacs_ix_table['z_lens']\n",
    "zsources = slacs_ix_table['z_src']\n",
    "# get the revised KCWI sigmapsf\n",
    "sigmapsf_table = pd.read_csv(f'{tables_dir}kcwi_sigmapsf_estimates.csv')"
   ]
  },
  {
   "cell_type": "markdown",
   "metadata": {},
   "source": [
    "# 03/11/24 - Spherical Geometry is not working. Here, I am going to debug. \n",
    "## There are only 5 parameters. Let's roll.\n",
    "## Use lsq minimization"
   ]
  },
  {
   "cell_type": "code",
   "execution_count": 12,
   "metadata": {
    "tags": []
   },
   "outputs": [],
   "source": [
    "'''\n",
    "Run spherical geometry\n",
    "'''\n",
    "\n",
    "def space_jam_sph(i):\n",
    "\n",
    "    obj_name = obj_names[i]\n",
    "    kin_dir = f'{kinematics_dir}{obj_name}/'\n",
    "    jam_dir = f'{jam_output_dir}{obj_name}/'\n",
    "    jam_details_file = f'{kin_dir}{obj_name}_details_for_jampy_xshooter_{date_of_kin}.pkl'\n",
    "    mass_model='power_law'\n",
    "    anisotropy='const'\n",
    "    geometry='sph'\n",
    "    align='sph'\n",
    "    zlens= zlenses[slacs_ix_table['Name']==obj_name].to_numpy()[0]\n",
    "    zsource = zsources[slacs_ix_table['Name']==obj_name].to_numpy()[0]\n",
    "    sigmapsf = sigmapsf_table[sigmapsf_table['obj_name']==obj_name]['kcwi_sigmapsf'].to_numpy()[0]\n",
    "    #cosmo = cosmo\n",
    "    fast_slow = paper_table.loc[0, 'class_for_JAM_models']\n",
    "    systematics_est = 0.05 # %\n",
    "    covariance_est = 0.02 # %\n",
    "    p0 = [2.0, 0.9, 1.0, 0.5, 7] # gamma0, k_ani, einstein radius, k_mst, a_mst\n",
    "    bounds = [[1.4, 0.0, 0.7, 0.0, 5 ], \n",
    "              [2.8, 1.0, 2.0, 1.0, 10]]\n",
    "    sigpar = np.array([0.2, 0.2, 0.2, 0.2, 0.2])  # crude estimate of uncertainties\n",
    "    prior_type = ['uniform','uniform','uniform','uniform','uniform']\n",
    "    lensprior = False\n",
    "    fix_pars = [0, 0, 0, 1, 1]\n",
    "    lambda_int= 1.0\n",
    "    nstep = 1000\n",
    "    nwalkers = 12\n",
    "    ndim = 5\n",
    "    minimization = 'lsq'\n",
    "    sampler_args = [nstep, nwalkers, ndim] # 10 walkers\n",
    "    date_time = datetime.now().strftime(\"%Y_%m_%d\")#-%I_%M_%S_%p\"\n",
    "    run_id = 1\n",
    "\n",
    "    welcome_to_the_jam = space_jam(jam_dir, jam_details_file,\n",
    "                                     obj_name, mass_model, anisotropy, geometry, align, \n",
    "                                    zlens=zlens, zsource=zsource, cosmo=cosmo, sigmapsf=sigmapsf, fast_slow=fast_slow,\n",
    "                                   systematics_est=systematics_est, covariance_est=covariance_est,\n",
    "                                   p0=p0, bounds=bounds, sigpar=sigpar, prior_type=prior_type, lensprior=lensprior, fix_pars=fix_pars, lambda_int=lambda_int,\n",
    "                                   minimization=minimization, sampler_args=sampler_args, date_time=date_time, run_id=run_id, plot=True, overwrite=True, \n",
    "                                   test_prior=False, constant_err=False, kinmap_test=None)\n",
    "\n",
    "    welcome_to_the_jam.fit_lsq()\n",
    "    #welcome_to_the_jam.summary_plot()\n",
    "    #welcome_to_the_jam.save_space_jam()"
   ]
  },
  {
   "cell_type": "markdown",
   "metadata": {},
   "source": [
    "# Run it on J0029 index 0"
   ]
  },
  {
   "cell_type": "code",
   "execution_count": 13,
   "metadata": {
    "tags": []
   },
   "outputs": [
    {
     "name": "stdout",
     "output_type": "stream",
     "text": [
      "Files in /data/raw_data/KECK_KCWI_SLACS_kinematics_shawn/jam_outputs/SDSSJ0029-0055/SDSSJ0029-0055_2024_03_12_v1/ will be overwritten.\n",
      "\n",
      "JAM Outputs to  /data/raw_data/KECK_KCWI_SLACS_kinematics_shawn/jam_outputs/SDSSJ0029-0055/SDSSJ0029-0055_2024_03_12_v1/\n",
      "\n",
      "[0.0193628  0.1271433  0.245625   0.62405075 1.096469   1.30303874\n",
      " 2.41793371 4.86902665 4.86902665] [0.80435509 0.8        0.80871018 0.82702924 0.8        0.9\n",
      " 0.8        0.8        0.9       ]\n",
      "Priors are now  ['uniform', 'uniform', 'uniform', 'uniform', 'uniform']\n",
      "Mean prior values are  [2.0, 0.9, 1.0, 0.5, 7]\n",
      "Added 5.0% systematics to diagonal.\n",
      "Covariance terms are 2.0%.\n",
      "Residuals > 10%: Change `inner_slope` or `outer_slope` or increase `ngauss`\n",
      "Residuals > 10%: Change `inner_slope` or `outer_slope` or increase `ngauss`\n",
      "Residuals > 10%: Change `inner_slope` or `outer_slope` or increase `ngauss`\n",
      "Residuals > 10%: Change `inner_slope` or `outer_slope` or increase `ngauss`\n",
      "\n",
      "Start lambda: 98.16  chi2: 430.9\n",
      "Start p_free: 2.000 0.9000 1.000\n",
      "Residuals > 10%: Change `inner_slope` or `outer_slope` or increase `ngauss`\n",
      "\n",
      "iter: 1  lambda: 98.16  chi2: 85.56  ratio: 0.9987\n",
      "p_free: 2.017 0.7829 1.115\n",
      "h: 0.01718 -0.1171 0.1150\n",
      "Residuals > 10%: Change `inner_slope` or `outer_slope` or increase `ngauss`\n",
      "Residuals > 10%: Change `inner_slope` or `outer_slope` or increase `ngauss`\n",
      "Residuals > 10%: Change `inner_slope` or `outer_slope` or increase `ngauss`\n",
      "Residuals > 10%: Change `inner_slope` or `outer_slope` or increase `ngauss`\n",
      "\n",
      "iter: 2  lambda: 49.08  chi2: 85.09  ratio: 0.9718\n",
      "p_free: 2.008 0.7902 1.123\n",
      "h: -0.008845 0.007271 0.008236\n",
      "Residuals > 10%: Change `inner_slope` or `outer_slope` or increase `ngauss`\n",
      "Residuals > 10%: Change `inner_slope` or `outer_slope` or increase `ngauss`\n",
      "Residuals > 10%: Change `inner_slope` or `outer_slope` or increase `ngauss`\n",
      "Residuals > 10%: Change `inner_slope` or `outer_slope` or increase `ngauss`\n",
      "\n",
      "iter: 3  lambda: 24.54  chi2: 85.07  ratio: 1.047\n",
      "p_free: 2.010 0.7964 1.125\n",
      "h: 0.001313 0.006215 0.001371\n",
      "Residuals > 10%: Change `inner_slope` or `outer_slope` or increase `ngauss`\n",
      "Residuals > 10%: Change `inner_slope` or `outer_slope` or increase `ngauss`\n",
      "Residuals > 10%: Change `inner_slope` or `outer_slope` or increase `ngauss`\n",
      "Residuals > 10%: Change `inner_slope` or `outer_slope` or increase `ngauss`\n",
      "\n",
      "iter: 4  lambda: 12.27  chi2: 85.08  ratio: -2.491\n",
      "p_free: 2.003 0.7835 1.122\n",
      "h: -0.006205 -0.01295 -0.003016\n",
      "\n",
      "Terminating on small function variation (ftol)\n",
      "Final iter: 4  Func calls: 17  chi2: 85.07  Status: 2\n",
      "Final p: 2.010 0.7964 1.125\n",
      "\n",
      "\n",
      "Success!\n",
      "\n",
      "Best fit, [2.00965134 0.7964262  1.12455785 0.5        7.        ]\n",
      "Residuals > 10%: Change `inner_slope` or `outer_slope` or increase `ngauss`\n"
     ]
    }
   ],
   "source": [
    "space_jam_sph(0)"
   ]
  },
  {
   "cell_type": "markdown",
   "metadata": {},
   "source": [
    "# Now OM"
   ]
  },
  {
   "cell_type": "code",
   "execution_count": 15,
   "metadata": {
    "tags": []
   },
   "outputs": [],
   "source": [
    "'''\n",
    "Run spherical geometry\n",
    "'''\n",
    "\n",
    "def space_jam_sph_OM(i):\n",
    "\n",
    "    obj_name = obj_names[i]\n",
    "    kin_dir = f'{kinematics_dir}{obj_name}/'\n",
    "    jam_dir = f'{jam_output_dir}{obj_name}/'\n",
    "    jam_details_file = f'{kin_dir}{obj_name}_details_for_jampy_xshooter_{date_of_kin}.pkl'\n",
    "    mass_model='power_law'\n",
    "    anisotropy='OM'\n",
    "    geometry='sph'\n",
    "    align='sph'\n",
    "    zlens= zlenses[slacs_ix_table['Name']==obj_name].to_numpy()[0]\n",
    "    zsource = zsources[slacs_ix_table['Name']==obj_name].to_numpy()[0]\n",
    "    sigmapsf = sigmapsf_table[sigmapsf_table['obj_name']==obj_name]['kcwi_sigmapsf'].to_numpy()[0]\n",
    "    #cosmo = cosmo\n",
    "    fast_slow = paper_table.loc[0, 'class_for_JAM_models']\n",
    "    systematics_est = 0.05 # %\n",
    "    covariance_est = 0.02 # %\n",
    "    p0 = [2.0, 0.9, 1.0, 0.5, 7] # gamma0, k_ani, einstein radius, k_mst, a_mst\n",
    "    bounds = [[1.4, 0.0, 0.7, 0.0, 5 ], \n",
    "              [2.8, 1.0, 2.0, 1.0, 10]]\n",
    "    sigpar = np.array([0.2, 0.2, 0.2, 0.2, 0.2])  # crude estimate of uncertainties\n",
    "    prior_type = ['uniform','uniform','uniform','uniform','uniform']\n",
    "    lensprior = False\n",
    "    fix_pars = [0, 0, 0, 1, 1]\n",
    "    lambda_int= 1.0\n",
    "    nstep = 1000\n",
    "    nwalkers = 12\n",
    "    ndim = 5\n",
    "    minimization = 'lsq'\n",
    "    sampler_args = [nstep, nwalkers, ndim] # 10 walkers\n",
    "    date_time = datetime.now().strftime(\"%Y_%m_%d\")#-%I_%M_%S_%p\"\n",
    "    run_id = 1\n",
    "\n",
    "    welcome_to_the_jam = space_jam(jam_dir, jam_details_file,\n",
    "                                     obj_name, mass_model, anisotropy, geometry, align, \n",
    "                                    zlens=zlens, zsource=zsource, cosmo=cosmo, sigmapsf=sigmapsf, fast_slow=fast_slow,\n",
    "                                   systematics_est=systematics_est, covariance_est=covariance_est,\n",
    "                                   p0=p0, bounds=bounds, sigpar=sigpar, prior_type=prior_type, lensprior=lensprior, fix_pars=fix_pars, lambda_int=lambda_int,\n",
    "                                   minimization=minimization, sampler_args=sampler_args, date_time=date_time, run_id=run_id, plot=True, overwrite=True, \n",
    "                                   test_prior=False, constant_err=False, kinmap_test=None)\n",
    "\n",
    "    welcome_to_the_jam.fit_lsq()\n",
    "    #welcome_to_the_jam.summary_plot()\n",
    "    #welcome_to_the_jam.save_space_jam()"
   ]
  },
  {
   "cell_type": "code",
   "execution_count": 18,
   "metadata": {
    "tags": []
   },
   "outputs": [
    {
     "name": "stdout",
     "output_type": "stream",
     "text": [
      "Files in /data/raw_data/KECK_KCWI_SLACS_kinematics_shawn/jam_outputs/SDSSJ0029-0055/SDSSJ0029-0055_2024_03_12_v1/ will be overwritten.\n",
      "\n",
      "JAM Outputs to  /data/raw_data/KECK_KCWI_SLACS_kinematics_shawn/jam_outputs/SDSSJ0029-0055/SDSSJ0029-0055_2024_03_12_v1/\n",
      "\n",
      "[0.0193628  0.1271433  0.245625   0.62405075 1.096469   1.30303874\n",
      " 2.41793371 4.86902665 4.86902665] [0.80435509 0.8        0.80871018 0.82702924 0.8        0.9\n",
      " 0.8        0.8        0.9       ]\n"
     ]
    },
    {
     "ename": "UnboundLocalError",
     "evalue": "cannot access local variable 'bound_ani_ratio_hi' where it is not associated with a value",
     "output_type": "error",
     "traceback": [
      "\u001b[0;31m---------------------------------------------------------------------------\u001b[0m",
      "\u001b[0;31mTypeError\u001b[0m                                 Traceback (most recent call last)",
      "File \u001b[0;32m~/Documents/slacs_kinematics/my_python_packages/space_jam.py:411\u001b[0m, in \u001b[0;36mspace_jam.get_priors_and_labels\u001b[0;34m(self)\u001b[0m\n\u001b[1;32m    410\u001b[0m \u001b[38;5;28;01mtry\u001b[39;00m:\n\u001b[0;32m--> 411\u001b[0m     \u001b[38;5;28;01mif\u001b[39;00m \u001b[38;5;28many\u001b[39m(\u001b[38;5;28mself\u001b[39m\u001b[38;5;241m.\u001b[39mprior_type\u001b[38;5;241m==\u001b[39m\u001b[38;5;28;01mNone\u001b[39;00m):\n\u001b[1;32m    412\u001b[0m             \u001b[38;5;28mself\u001b[39m\u001b[38;5;241m.\u001b[39mprior_type\u001b[38;5;241m=\u001b[39m[\u001b[38;5;124m'\u001b[39m\u001b[38;5;124muniform\u001b[39m\u001b[38;5;124m'\u001b[39m,\u001b[38;5;124m'\u001b[39m\u001b[38;5;124muniform\u001b[39m\u001b[38;5;124m'\u001b[39m,\u001b[38;5;124m'\u001b[39m\u001b[38;5;124muniform\u001b[39m\u001b[38;5;124m'\u001b[39m,\u001b[38;5;124m'\u001b[39m\u001b[38;5;124muniform\u001b[39m\u001b[38;5;124m'\u001b[39m,\u001b[38;5;124m'\u001b[39m\u001b[38;5;124muniform\u001b[39m\u001b[38;5;124m'\u001b[39m]  \n",
      "\u001b[0;31mTypeError\u001b[0m: 'bool' object is not iterable",
      "\nDuring handling of the above exception, another exception occurred:\n",
      "\u001b[0;31mUnboundLocalError\u001b[0m                         Traceback (most recent call last)",
      "Cell \u001b[0;32mIn[18], line 1\u001b[0m\n\u001b[0;32m----> 1\u001b[0m space_jam_sph_OM(\u001b[38;5;241m0\u001b[39m)\n",
      "Cell \u001b[0;32mIn[15], line 38\u001b[0m, in \u001b[0;36mspace_jam_sph_OM\u001b[0;34m(i)\u001b[0m\n\u001b[1;32m     35\u001b[0m date_time \u001b[38;5;241m=\u001b[39m datetime\u001b[38;5;241m.\u001b[39mnow()\u001b[38;5;241m.\u001b[39mstrftime(\u001b[38;5;124m\"\u001b[39m\u001b[38;5;124m%\u001b[39m\u001b[38;5;124mY_\u001b[39m\u001b[38;5;124m%\u001b[39m\u001b[38;5;124mm_\u001b[39m\u001b[38;5;132;01m%d\u001b[39;00m\u001b[38;5;124m\"\u001b[39m)\u001b[38;5;66;03m#-%I_%M_%S_%p\"\u001b[39;00m\n\u001b[1;32m     36\u001b[0m run_id \u001b[38;5;241m=\u001b[39m \u001b[38;5;241m1\u001b[39m\n\u001b[0;32m---> 38\u001b[0m welcome_to_the_jam \u001b[38;5;241m=\u001b[39m space_jam(jam_dir, jam_details_file,\n\u001b[1;32m     39\u001b[0m                                  obj_name, mass_model, anisotropy, geometry, align, \n\u001b[1;32m     40\u001b[0m                                 zlens\u001b[38;5;241m=\u001b[39mzlens, zsource\u001b[38;5;241m=\u001b[39mzsource, cosmo\u001b[38;5;241m=\u001b[39mcosmo, sigmapsf\u001b[38;5;241m=\u001b[39msigmapsf, fast_slow\u001b[38;5;241m=\u001b[39mfast_slow,\n\u001b[1;32m     41\u001b[0m                                systematics_est\u001b[38;5;241m=\u001b[39msystematics_est, covariance_est\u001b[38;5;241m=\u001b[39mcovariance_est,\n\u001b[1;32m     42\u001b[0m                                p0\u001b[38;5;241m=\u001b[39mp0, bounds\u001b[38;5;241m=\u001b[39mbounds, sigpar\u001b[38;5;241m=\u001b[39msigpar, prior_type\u001b[38;5;241m=\u001b[39mprior_type, lensprior\u001b[38;5;241m=\u001b[39mlensprior, fix_pars\u001b[38;5;241m=\u001b[39mfix_pars, lambda_int\u001b[38;5;241m=\u001b[39mlambda_int,\n\u001b[1;32m     43\u001b[0m                                minimization\u001b[38;5;241m=\u001b[39mminimization, sampler_args\u001b[38;5;241m=\u001b[39msampler_args, date_time\u001b[38;5;241m=\u001b[39mdate_time, run_id\u001b[38;5;241m=\u001b[39mrun_id, plot\u001b[38;5;241m=\u001b[39m\u001b[38;5;28;01mTrue\u001b[39;00m, overwrite\u001b[38;5;241m=\u001b[39m\u001b[38;5;28;01mTrue\u001b[39;00m, \n\u001b[1;32m     44\u001b[0m                                test_prior\u001b[38;5;241m=\u001b[39m\u001b[38;5;28;01mFalse\u001b[39;00m, constant_err\u001b[38;5;241m=\u001b[39m\u001b[38;5;28;01mFalse\u001b[39;00m, kinmap_test\u001b[38;5;241m=\u001b[39m\u001b[38;5;28;01mNone\u001b[39;00m)\n\u001b[1;32m     46\u001b[0m welcome_to_the_jam\u001b[38;5;241m.\u001b[39mfit_lsq()\n",
      "File \u001b[0;32m~/Documents/slacs_kinematics/my_python_packages/space_jam.py:255\u001b[0m, in \u001b[0;36mspace_jam.__init__\u001b[0;34m(self, jam_dir, jampy_details_file, obj_name, mass_model, anisotropy, geometry, align, zlens, zsource, sigmapsf, cosmo, fast_slow, systematics_est, covariance_est, p0, bounds, sigpar, prior_type, lensprior, fix_pars, lambda_int, minimization, sampler_args, date_time, run_id, plot, overwrite, test_prior, constant_err, kinmap_test)\u001b[0m\n\u001b[1;32m    249\u001b[0m \u001b[38;5;28mself\u001b[39m\u001b[38;5;241m.\u001b[39mprepare_to_jam(jampy_details_file, \n\u001b[1;32m    250\u001b[0m                     constant_err, \n\u001b[1;32m    251\u001b[0m                     kinmap_test, \n\u001b[1;32m    252\u001b[0m                     geometry)\n\u001b[1;32m    254\u001b[0m \u001b[38;5;66;03m# set up the labels and priors\u001b[39;00m\n\u001b[0;32m--> 255\u001b[0m \u001b[38;5;28mself\u001b[39m\u001b[38;5;241m.\u001b[39mget_priors_and_labels()\n\u001b[1;32m    257\u001b[0m \u001b[38;5;66;03m# approximate the covariance matrix\u001b[39;00m\n\u001b[1;32m    258\u001b[0m \u001b[38;5;28mself\u001b[39m\u001b[38;5;241m.\u001b[39mapproximate_covariance_matrix()\n",
      "File \u001b[0;32m~/Documents/slacs_kinematics/my_python_packages/space_jam.py:431\u001b[0m, in \u001b[0;36mspace_jam.get_priors_and_labels\u001b[0;34m(self)\u001b[0m\n\u001b[1;32m    429\u001b[0m \u001b[38;5;28;01melif\u001b[39;00m \u001b[38;5;28mself\u001b[39m\u001b[38;5;241m.\u001b[39manisotropy \u001b[38;5;241m==\u001b[39m \u001b[38;5;124m'\u001b[39m\u001b[38;5;124mOM\u001b[39m\u001b[38;5;124m'\u001b[39m:\n\u001b[1;32m    430\u001b[0m     label2 \u001b[38;5;241m=\u001b[39m \u001b[38;5;124mr\u001b[39m\u001b[38;5;124m\"\u001b[39m\u001b[38;5;124m$a_\u001b[39m\u001b[38;5;132;01m{ani}\u001b[39;00m\u001b[38;5;124m$\u001b[39m\u001b[38;5;124m\"\u001b[39m\n\u001b[0;32m--> 431\u001b[0m \u001b[38;5;28mself\u001b[39m\u001b[38;5;241m.\u001b[39mshape_anis_bounds \u001b[38;5;241m=\u001b[39m np\u001b[38;5;241m.\u001b[39marray([\u001b[38;5;241m0.0\u001b[39m, bound_ani_ratio_hi])\n\u001b[1;32m    432\u001b[0m \u001b[38;5;66;03m# set up empty array and add the ratios here so they don't have to be calculated again\u001b[39;00m\n\u001b[1;32m    433\u001b[0m \u001b[38;5;28mself\u001b[39m\u001b[38;5;241m.\u001b[39manisotropy_ratio_samples \u001b[38;5;241m=\u001b[39m np\u001b[38;5;241m.\u001b[39marray([], dtype\u001b[38;5;241m=\u001b[39m\u001b[38;5;124m'\u001b[39m\u001b[38;5;124mf\u001b[39m\u001b[38;5;124m'\u001b[39m)\n",
      "\u001b[0;31mUnboundLocalError\u001b[0m: cannot access local variable 'bound_ani_ratio_hi' where it is not associated with a value"
     ]
    }
   ],
   "source": [
    "space_jam_sph_OM(0)"
   ]
  },
  {
   "cell_type": "code",
   "execution_count": 21,
   "metadata": {
    "tags": []
   },
   "outputs": [],
   "source": [
    "aaa = 'KCWI_PSJ0147_r_00014_icubes_sum.fits'"
   ]
  },
  {
   "cell_type": "code",
   "execution_count": 22,
   "metadata": {
    "tags": []
   },
   "outputs": [
    {
     "data": {
      "text/plain": [
       "'14'"
      ]
     },
     "execution_count": 22,
     "metadata": {},
     "output_type": "execute_result"
    }
   ],
   "source": [
    "aaa[-18:-16]"
   ]
  },
  {
   "cell_type": "code",
   "execution_count": 31,
   "metadata": {
    "tags": []
   },
   "outputs": [],
   "source": [
    "file = '/data/raw_data/Keck_KCWI_drizzle/PSJ0147+4630/KCWI_PSJ0147_r_00010_icubes_sum.fits'"
   ]
  },
  {
   "cell_type": "code",
   "execution_count": 32,
   "metadata": {
    "tags": []
   },
   "outputs": [
    {
     "data": {
      "text/plain": [
       "(193, 46)"
      ]
     },
     "execution_count": 32,
     "metadata": {},
     "output_type": "execute_result"
    }
   ],
   "source": [
    "data = fits.getdata(file)\n",
    "data.shape"
   ]
  },
  {
   "cell_type": "code",
   "execution_count": 33,
   "metadata": {
    "tags": []
   },
   "outputs": [
    {
     "data": {
      "text/plain": [
       "6421"
      ]
     },
     "execution_count": 33,
     "metadata": {},
     "output_type": "execute_result"
    }
   ],
   "source": [
    "np.argmax(data)"
   ]
  },
  {
   "cell_type": "code",
   "execution_count": 34,
   "metadata": {
    "tags": []
   },
   "outputs": [
    {
     "data": {
      "text/plain": [
       "(139, 27)"
      ]
     },
     "execution_count": 34,
     "metadata": {},
     "output_type": "execute_result"
    }
   ],
   "source": [
    "np.unravel_index(data.argmax(), data.shape)"
   ]
  },
  {
   "cell_type": "code",
   "execution_count": 38,
   "metadata": {
    "tags": []
   },
   "outputs": [
    {
     "data": {
      "text/plain": [
       "array([[  19,   28,   70, 2270],\n",
       "       [  26,   27,   69, 2288],\n",
       "       [  38,   28,   67, 1982],\n",
       "       [  45,   28,   70, 2679],\n",
       "       [  17,   27,  135, 2560],\n",
       "       [  28,   27,  131, 2286],\n",
       "       [  36,   27,  130, 1762],\n",
       "       [  44,   28,   70, 2536],\n",
       "       [  39,   28,   67, 2138],\n",
       "       [  18,   27,  135, 2496],\n",
       "       [  27,   28,   69, 2143],\n",
       "       [  37,   28,   68, 1491],\n",
       "       [  16,   27,  135, 2257],\n",
       "       [  29,   27,  131, 1833],\n",
       "       [  15,   27,   70, 2224],\n",
       "       [  34,   27,  130, 1960],\n",
       "       [  24,   27,  138, 2623],\n",
       "       [  35,   27,  130, 2054],\n",
       "       [  14,   27,   70, 2174],\n",
       "       [  25,   27,   69, 2338],\n",
       "       [  12,   27,  138, 2105],\n",
       "       [  33,   28,   68, 2605],\n",
       "       [  40,   28,  136, 2171],\n",
       "       [  23,   27,  138, 3025],\n",
       "       [  32,   28,   68, 2389],\n",
       "       [  13,   27,   70, 2063],\n",
       "       [  22,   27,  138, 2518],\n",
       "       [  41,   28,  136, 2214],\n",
       "       [  21,   28,   70, 1885],\n",
       "       [  42,   28,  136, 2967],\n",
       "       [  10,   27,  139, 2297],\n",
       "       [  31,   28,   68, 2193],\n",
       "       [  43,   28,   70, 2756],\n",
       "       [  20,   28,   70, 2032],\n",
       "       [  30,   27,  131, 2209],\n",
       "       [  11,   27,  139, 2225]])"
      ]
     },
     "execution_count": 38,
     "metadata": {},
     "output_type": "execute_result"
    }
   ],
   "source": [
    "np.genfromtxt('/data/raw_data/Keck_KCWI_drizzle/PSJ0147+4630/config').astype(int)"
   ]
  },
  {
   "cell_type": "code",
   "execution_count": null,
   "metadata": {},
   "outputs": [],
   "source": []
  }
 ],
 "metadata": {
  "kernelspec": {
   "display_name": "Python 3 (ipykernel)",
   "language": "python",
   "name": "python3"
  },
  "language_info": {
   "codemirror_mode": {
    "name": "ipython",
    "version": 3
   },
   "file_extension": ".py",
   "mimetype": "text/x-python",
   "name": "python",
   "nbconvert_exporter": "python",
   "pygments_lexer": "ipython3",
   "version": "3.11.5"
  }
 },
 "nbformat": 4,
 "nbformat_minor": 4
}
