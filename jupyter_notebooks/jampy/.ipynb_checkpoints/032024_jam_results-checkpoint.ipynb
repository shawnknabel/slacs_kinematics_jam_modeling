{
 "cells": [
  {
   "cell_type": "markdown",
   "metadata": {},
   "source": [
    "# 03/20/24 - JAM results from March 11-12 and 19-20\n",
    "### Copied from 031824_jam_axi results_from_031124.ipynb\n",
    "\n",
    "_____\n",
    "\n",
    "#### 03/18/24 - JAM results with axi sph and cyl from 03/11/24.\n",
    "#### 02/22/24 - Adding covariance matrix to the space_jam method\n",
    "#### 02/12/24 - Adding least squares fitting option to forgo the time consuming MCMC for testing purposes.\n",
    "#### 12/26/23 - This notebook tests the modules \"space_jam\" and \"total_mass_mge\" in e.g. home/shawnknabel/Documents/slacs_kinematics/my_python_packages/space_jam.py"
   ]
  },
  {
   "cell_type": "code",
   "execution_count": 1,
   "metadata": {},
   "outputs": [],
   "source": [
    "# import general libraries and modules\n",
    "import numpy as np\n",
    "np.set_printoptions(threshold=10000)\n",
    "import matplotlib.pyplot as plt\n",
    "plt.rcParams[\"figure.figsize\"] = (8, 6)\n",
    "#plt.switch_backend('agg')\n",
    "%matplotlib inline\n",
    "import pandas as pd\n",
    "import warnings\n",
    "warnings.filterwarnings( \"ignore\", module = \"matplotlib\\..*\" )\n",
    "warnings.filterwarnings( \"ignore\", module = \"plotbin\\..*\" )\n",
    "import os\n",
    "from os import path\n",
    "from pathlib import Path\n",
    "#import pickle\n",
    "import dill as pickle\n",
    "from datetime import datetime\n",
    "def tick():\n",
    "    return datetime.now().strftime(\"%Y_%m_%d-%I_%M_%S_%p\")\n",
    "import glob\n",
    "\n",
    "# astronomy/scipy\n",
    "from astropy.io import fits\n",
    "#from astropy.wcs import WCS\n",
    "#from scipy.ndimage import rotate\n",
    "#from scipy.ndimage import map_coordinates\n",
    "#from scipy.optimize import least_squares as lsq\n",
    "#from astropy.convolution import convolve, convolve_fft, Gaussian2DKernel\n",
    "#from astropy.cosmology import Planck15 as cosmo # I took 15 because for some reason Planck18 isn't in this astropy install #Planck18 as cosmo  # Planck 2018\n",
    "from astropy.cosmology import FlatLambdaCDM\n",
    "cosmo = FlatLambdaCDM(H0=70, Om0=0.3, Tcmb0=2.725)\n",
    "#from scipy.interpolate import interp1d\n",
    "#from scipy.optimize import fsolve\n",
    "import astropy.units as u\n",
    "import astropy.constants as constants\n",
    "\n",
    "\n",
    "# jam\n",
    "from jampy.jam_axi_proj import jam_axi_proj\n",
    "from jampy.jam_axi_proj import rotate_points\n",
    "from jampy.jam_axi_proj import bilinear_interpolate\n",
    "from jampy.jam_sph_proj import jam_sph_proj\n",
    "from jampy.mge_half_light_isophote import mge_half_light_isophote\n",
    "from plotbin.plot_velfield import plot_velfield\n",
    "from plotbin.sauron_colormap import register_sauron_colormap\n",
    "register_sauron_colormap()\n",
    "from pafit.fit_kinematic_pa import fit_kinematic_pa\n",
    "#from jampy.jam_axi_proj import jam_axi_proj\n",
    "from jampy.mge_radial_mass import mge_radial_mass\n",
    "from plotbin.symmetrize_velfield import symmetrize_velfield\n",
    "\n",
    "# adamet\n",
    "#from adamet.adamet import adamet\n",
    "from adamet.corner_plot import corner_plot\n",
    "# emcee\n",
    "import emcee\n",
    "import corner\n",
    "#from IPython.display import display, Math\n",
    "\n",
    "\n",
    "# my functions\n",
    "import sys\n",
    "sys.path.append(\"/home/shawnknabel/Documents/slacs_kinematics/my_python_packages\")\n",
    "\n",
    "\n",
    "################################################################\n",
    "# some needed information\n",
    "kcwi_scale = 0.1457  # arcsec/pixel\n",
    "hst_scale = 0.050 # ACS/WFC\n",
    "\n",
    "# value of c^2 / 4 pi G\n",
    "c2_4piG = (constants.c **2 / constants.G / 4 / np.pi).to('solMass/pc')\n"
   ]
  },
  {
   "cell_type": "code",
   "execution_count": 2,
   "metadata": {},
   "outputs": [],
   "source": [
    "# bring in the space_jam and total_mass_mge modules\n",
    "\n",
    "#\"from space_jam import space_jam\n",
    "from total_mass_mge import total_mass_mge"
   ]
  },
  {
   "cell_type": "code",
   "execution_count": 3,
   "metadata": {},
   "outputs": [
    {
     "name": "stdout",
     "output_type": "stream",
     "text": [
      "\n"
     ]
    }
   ],
   "source": [
    "##################################################################################################################################\n",
    "\n",
    "old_date_of_kin = '2023-02-28_2'\n",
    "date_of_kin = '2024_02_15'\n",
    "\n",
    "#------------------------------------------------------------------------------\n",
    "# Directories and files\n",
    "\n",
    "# data directory\n",
    "data_dir = '/data/raw_data/KECK_KCWI_SLACS_kinematics_shawn/'\n",
    "hst_dir = '/data/raw_data/HST_SLACS_ACS/kcwi_kinematics_lenses/'\n",
    "tables_dir = f'{data_dir}tables/'\n",
    "mosaics_dir = f'{data_dir}mosaics/'\n",
    "kinematics_full_dir = f'{data_dir}kinematics/'\n",
    "kinematics_dir =f'{kinematics_full_dir}{date_of_kin}/'\n",
    "old_kinematics_dir = f'{kinematics_full_dir}{old_date_of_kin}/'\n",
    "jam_output_dir = f'{data_dir}jam_outputs/'\n",
    "# create a directory for JAM outputs\n",
    "#Path(jam_output_dir).mkdir(parents=True, exist_ok=True)\n",
    "#print(f'Outputs will be in {jam_output_dir}')\n",
    "print()\n",
    "\n",
    "# target SN for voronoi binning\n",
    "vorbin_SN_targets = np.array([10, 15, 20])\n",
    "\n",
    "#################################################\n",
    "# objects\n",
    "obj_names = ['SDSSJ0029-0055', \n",
    "             'SDSSJ0037-0942',\n",
    "             'SDSSJ0330-0020',\n",
    "             'SDSSJ1112+0826',\n",
    "             'SDSSJ1204+0358',\n",
    "             'SDSSJ1250+0523',\n",
    "             'SDSSJ1306+0600',\n",
    "             'SDSSJ1402+6321',\n",
    "             'SDSSJ1531-0105',\n",
    "             'SDSSJ1538+5817',\n",
    "             'SDSSJ1621+3931',\n",
    "             'SDSSJ1627-0053',\n",
    "             'SDSSJ1630+4520',\n",
    "             'SDSSJ2303+1422'\n",
    "            ]\n",
    "\n",
    "#################################################\n",
    "\n",
    "paper_table = pd.read_csv(f'{tables_dir}paper_table_100223.csv')\n",
    "slacs_ix_table = pd.read_csv(f'{tables_dir}slacs_ix_table3.csv')\n",
    "zs = paper_table['zlens']\n",
    "zlenses = slacs_ix_table['z_lens']\n",
    "zsources = slacs_ix_table['z_src']\n",
    "# get the revised KCWI sigmapsf\n",
    "sigmapsf_table = pd.read_csv(f'{tables_dir}kcwi_sigmapsf_estimates.csv')"
   ]
  },
  {
   "cell_type": "markdown",
   "metadata": {},
   "source": [
    "# I need to bring in the safety copy of space_jam.py from 3/19/24 because these models were done with that version, and I have since changed the order of the parameters, etc."
   ]
  },
  {
   "cell_type": "markdown",
   "metadata": {
    "tags": []
   },
   "source": [
    "# There was a problem with the summary_plot and index_accepted_samples functions for these runs"
   ]
  },
  {
   "cell_type": "code",
   "execution_count": 4,
   "metadata": {
    "tags": []
   },
   "outputs": [],
   "source": [
    "import types\n",
    "\n",
    "    \n",
    "#################\n",
    "# function to identify where samples were updated (accepted) vs rejected, so I can index the \"anisotropy_ratio_samples\" etc. properly                              \n",
    "def index_accepted_samples(self):\n",
    "\n",
    "    # create an array of the indices that are to be accepted for each of the steps\n",
    "    self.index_accepted = np.zeros(self.pars.shape[0], dtype=int)\n",
    "\n",
    "    # every step includes the initial state\n",
    "    every_step = np.concatenate((self.initial_state, self.sampler.flatchain))\n",
    "    nwalkers = self.sampler_args[1]\n",
    "\n",
    "    # loop through each of hte walkers individually\n",
    "    for i in range(nwalkers):\n",
    "        # this walker will be every \"nwalkers\" of the parameters\n",
    "        this_walker = every_step[i::nwalkers]\n",
    "        # start with the initial state, it will be replaced by the first one that was accepted\n",
    "        last_accepted_state = this_walker[0]\n",
    "        # start with the index of the initial state\n",
    "        last_accepted_index = i\n",
    "        # loop through the steps of this walker\n",
    "        for j, sample in enumerate(this_walker):\n",
    "            # skip the initialization\n",
    "            if j==0:\n",
    "                continue\n",
    "            # if the walker is not equal to the last accepted state, then a new sample was accepted\n",
    "            # the param_index is the index of the parameter in the shape nwalkers*nsteps\n",
    "            param_index = (j-1)*nwalkers+i\n",
    "            # the replace_index is the index of the \"lambda_int\" samples, shape (nwalkers+1)*nsteps to include the initial state\n",
    "            replace_index = j*nwalkers+i\n",
    "            if (not np.all(this_walker[j] == last_accepted_state)) & (np.isfinite(self.chi2s[replace_index])):\n",
    "                # report this index to the array\n",
    "                self.index_accepted[param_index] = replace_index\n",
    "                last_accepted_state = this_walker[j]\n",
    "                last_accepted_index = replace_index\n",
    "            else:\n",
    "                self.index_accepted[(j-1)*nwalkers+i] = last_accepted_index\n",
    "\n",
    "    # save the accepted lambda_int and anisotropy\n",
    "    if self.anisotropy == 'const':\n",
    "        self.anisotropy_ratio_accepted = np.zeros(self.pars.shape[0], dtype=float)\n",
    "    self.lambda_int_accepted = np.zeros(self.pars.shape[0], dtype=float)\n",
    "    self.chi2_accepted = np.zeros(self.pars.shape[0], dtype=float)\n",
    "    # loop through the steps\n",
    "    for i in range(self.pars.shape[0]):\n",
    "        if self.anisotropy == 'const':\n",
    "            self.anisotropy_ratio_accepted[i] = self.anisotropy_ratio_samples[self.index_accepted[i]]\n",
    "        self.lambda_int_accepted[i] = self.lambda_int_samples[self.index_accepted[i]]\n",
    "        self.chi2_accepted[i] = self.chi2s[self.index_accepted[i]]\n"
   ]
  },
  {
   "cell_type": "code",
   "execution_count": 5,
   "metadata": {
    "tags": []
   },
   "outputs": [],
   "source": [
    "# Add the new function to the existing class instance."
   ]
  },
  {
   "cell_type": "markdown",
   "metadata": {
    "tags": []
   },
   "source": [
    "# Look at a bunch of them"
   ]
  },
  {
   "cell_type": "code",
   "execution_count": 6,
   "metadata": {
    "tags": []
   },
   "outputs": [],
   "source": [
    "# Get file paths with glob\n",
    "\n",
    "dates = ['2024_03_11',\n",
    "         '2024_03_12'\n",
    "        ]\n",
    "\n",
    "day1 = glob.glob(f'{jam_output_dir}**/*{dates[0]}*/**.pkl')\n",
    "day2 = glob.glob(f'{jam_output_dir}**/*{dates[1]}*/**.pkl')"
   ]
  },
  {
   "cell_type": "code",
   "execution_count": 7,
   "metadata": {
    "tags": []
   },
   "outputs": [],
   "source": [
    "day1.sort()\n",
    "day2.sort()"
   ]
  },
  {
   "cell_type": "code",
   "execution_count": 8,
   "metadata": {
    "tags": []
   },
   "outputs": [
    {
     "data": {
      "text/plain": [
       "['/data/raw_data/KECK_KCWI_SLACS_kinematics_shawn/jam_outputs/SDSSJ0029-0055/SDSSJ0029-0055_2024_03_11_v1/SDSSJ0029-0055_2024_03_11_v1_space_jam.pkl',\n",
       " '/data/raw_data/KECK_KCWI_SLACS_kinematics_shawn/jam_outputs/SDSSJ0037-0942/SDSSJ0037-0942_2024_03_11_v1/SDSSJ0037-0942_2024_03_11_v1_space_jam.pkl',\n",
       " '/data/raw_data/KECK_KCWI_SLACS_kinematics_shawn/jam_outputs/SDSSJ0330-0020/SDSSJ0330-0020_2024_03_11_v1/SDSSJ0330-0020_2024_03_11_v1_space_jam.pkl',\n",
       " '/data/raw_data/KECK_KCWI_SLACS_kinematics_shawn/jam_outputs/SDSSJ1112+0826/SDSSJ1112+0826_2024_03_11_v1/SDSSJ1112+0826_2024_03_11_v1_space_jam.pkl',\n",
       " '/data/raw_data/KECK_KCWI_SLACS_kinematics_shawn/jam_outputs/SDSSJ1204+0358/SDSSJ1204+0358_2024_03_11_v1/SDSSJ1204+0358_2024_03_11_v1_space_jam.pkl',\n",
       " '/data/raw_data/KECK_KCWI_SLACS_kinematics_shawn/jam_outputs/SDSSJ1402+6321/SDSSJ1402+6321_2024_03_11_v1/SDSSJ1402+6321_2024_03_11_v1_space_jam.pkl',\n",
       " '/data/raw_data/KECK_KCWI_SLACS_kinematics_shawn/jam_outputs/SDSSJ1531-0105/SDSSJ1531-0105_2024_03_11_v1/SDSSJ1531-0105_2024_03_11_v1_space_jam.pkl',\n",
       " '/data/raw_data/KECK_KCWI_SLACS_kinematics_shawn/jam_outputs/SDSSJ1538+5817/SDSSJ1538+5817_2024_03_11_v1/SDSSJ1538+5817_2024_03_11_v1_space_jam.pkl',\n",
       " '/data/raw_data/KECK_KCWI_SLACS_kinematics_shawn/jam_outputs/SDSSJ1621+3931/SDSSJ1621+3931_2024_03_11_v1/SDSSJ1621+3931_2024_03_11_v1_space_jam.pkl',\n",
       " '/data/raw_data/KECK_KCWI_SLACS_kinematics_shawn/jam_outputs/SDSSJ1627-0053/SDSSJ1627-0053_2024_03_11_v1/SDSSJ1627-0053_2024_03_11_v1_space_jam.pkl',\n",
       " '/data/raw_data/KECK_KCWI_SLACS_kinematics_shawn/jam_outputs/SDSSJ1630+4520/SDSSJ1630+4520_2024_03_11_v1/SDSSJ1630+4520_2024_03_11_v1_space_jam.pkl',\n",
       " '/data/raw_data/KECK_KCWI_SLACS_kinematics_shawn/jam_outputs/SDSSJ2303+1422/SDSSJ2303+1422_2024_03_11_v1/SDSSJ2303+1422_2024_03_11_v1_space_jam.pkl']"
      ]
     },
     "execution_count": 8,
     "metadata": {},
     "output_type": "execute_result"
    }
   ],
   "source": [
    "day1"
   ]
  },
  {
   "cell_type": "code",
   "execution_count": 9,
   "metadata": {
    "tags": []
   },
   "outputs": [],
   "source": [
    "# Function to show the result and take chi2 and gamma values"
   ]
  },
  {
   "cell_type": "code",
   "execution_count": 10,
   "metadata": {
    "tags": []
   },
   "outputs": [],
   "source": [
    "def show_me (file_path):\n",
    "    \n",
    "    with open(file_path, 'rb') as f:\n",
    "        jammed = pickle.load(f)\n",
    "    \n",
    "    ###########################################\n",
    "    # Rearrange everything because I changed the positions of the parameters in the newest space_jam.py :(\n",
    "    \n",
    "    # rearrange the parameters\n",
    "    q = np.copy(jammed.bestfit[1])\n",
    "    ani = np.copy(jammed.bestfit[2])\n",
    "    thetae = np.copy(jammed.bestfit[3])\n",
    "    jammed.bestfit[1] = thetae\n",
    "    jammed.bestfit[2] = q\n",
    "    jammed.bestfit[3] = ani\n",
    "\n",
    "    # rearrange the bounds\n",
    "    # lower\n",
    "    q_bl = np.copy(jammed.bounds[0][1])\n",
    "    ani_bl = np.copy(jammed.bounds[0][2])\n",
    "    thetae_bl = np.copy(jammed.bounds[0][3])\n",
    "    jammed.bounds[0][1] = thetae_bl\n",
    "    jammed.bounds[0][2] = q_bl\n",
    "    jammed.bounds[0][3] = ani_bl\n",
    "    # upper\n",
    "    q_bh = np.copy(jammed.bounds[1][1])\n",
    "    ani_bh = np.copy(jammed.bounds[1][2])\n",
    "    thetae_bh = np.copy(jammed.bounds[1][3])\n",
    "    jammed.bounds[1][1] = thetae_bh\n",
    "    jammed.bounds[1][2] = q_bh\n",
    "    jammed.bounds[1][3] = ani_bh\n",
    "\n",
    "    # rearrange the pars\n",
    "    q = np.copy(jammed.pars[:,1])\n",
    "    ani = np.copy(jammed.pars[:,2])\n",
    "    thetae = np.copy(jammed.pars[:,3])\n",
    "    jammed.pars[:,1] = thetae\n",
    "    jammed.pars[:,2] = q\n",
    "    jammed.pars[:,3] = ani\n",
    "\n",
    "    # rearrange the labels\n",
    "    q = np.copy(jammed.labels[1])\n",
    "    ani = np.copy(jammed.labels[2])\n",
    "    thetae = np.copy(jammed.labels[3])\n",
    "    jammed.labels[1] = thetae\n",
    "    jammed.labels[2] = q\n",
    "    jammed.labels[3] = ani\n",
    "    \n",
    "    #################################################################################\n",
    "    # update the function to properly index the accepted samples\n",
    "    jammed.index_accepted_samples = types.MethodType(index_accepted_samples, jammed)\n",
    "    # update the accepted samples\n",
    "    jammed.chi2_samples = jammed.chi2s\n",
    "    jammed.index_accepted_samples()\n",
    "    \n",
    "    # save the bestfit chi2\n",
    "    chi2 = jammed.chi2s[jammed.index_accepted][np.nanargmax(jammed.lnprob)]\n",
    "    gamma = jammed.bestfit[0]\n",
    "    \n",
    "    #################################################################################\n",
    "    # plot the summary\n",
    "    jammed.summary_plot(burn=1200, save=False)\n",
    "    \n",
    "    return jammed, chi2, gamma\n",
    "\n"
   ]
  },
  {
   "cell_type": "code",
   "execution_count": null,
   "metadata": {},
   "outputs": [],
   "source": [
    "%matplotlib inline"
   ]
  },
  {
   "cell_type": "markdown",
   "metadata": {},
   "source": [
    "# Take the first one - J0029"
   ]
  },
  {
   "cell_type": "code",
   "execution_count": 11,
   "metadata": {
    "tags": []
   },
   "outputs": [
    {
     "name": "stdout",
     "output_type": "stream",
     "text": [
      "Residuals > 10%: Change `inner_slope` or `outer_slope` or increase `ngauss`\n"
     ]
    },
    {
     "name": "stderr",
     "output_type": "stream",
     "text": [
      "/home/shawnknabel/.local/lib/python3.11/site-packages/jampy/jam_axi_proj.py:1018: UserWarning: Attempt to set non-positive xlim on a log-scaled axis will be ignored.\n",
      "  plt.clf()\n"
     ]
    },
    {
     "name": "stdout",
     "output_type": "stream",
     "text": [
      "bestfit [2.09685486 1.15006984 0.77894625 1.31859615]\n"
     ]
    }
   ],
   "source": [
    "jammed, chi2, gamma = show_me(day1[0])"
   ]
  },
  {
   "cell_type": "markdown",
   "metadata": {},
   "source": [
    "# Now show for many"
   ]
  },
  {
   "cell_type": "code",
   "execution_count": 12,
   "metadata": {
    "tags": []
   },
   "outputs": [],
   "source": [
    "# chi2s\n",
    "chi2_day1 = np.zeros(len(day1))\n",
    "chi2_day2 = np.zeros(len(day2))\n",
    "\n",
    "# gammas\n",
    "gamma_day1 = np.zeros(len(day1))\n",
    "gamma_day2 = np.zeros(len(day2))"
   ]
  },
  {
   "cell_type": "code",
   "execution_count": 13,
   "metadata": {
    "collapsed": true,
    "jupyter": {
     "outputs_hidden": true
    },
    "tags": []
   },
   "outputs": [
    {
     "name": "stdout",
     "output_type": "stream",
     "text": [
      "Residuals > 10%: Change `inner_slope` or `outer_slope` or increase `ngauss`\n",
      "bestfit [2.09685486 1.15006984 0.77894625 1.31859615]\n",
      "chi2 45.76359150700637\n",
      "Residuals > 10%: Change `inner_slope` or `outer_slope` or increase `ngauss`\n",
      "bestfit [2.08329486 1.70807245 0.69706152 1.01915134]\n",
      "Too few points to create valid contours\n",
      "chi2 69.35832540845428\n",
      "Residuals > 10%: Change `inner_slope` or `outer_slope` or increase `ngauss`\n",
      "bestfit [1.9681606  1.38762193 0.73061136 0.98646846]\n",
      "chi2 43.97725113893053\n",
      "Residuals > 10%: Change `inner_slope` or `outer_slope` or increase `ngauss`\n",
      "bestfit [1.98527772 1.70823214 0.7348048  0.88170529]\n",
      "chi2 17.929335697138626\n",
      "Residuals > 10%: Change `inner_slope` or `outer_slope` or increase `ngauss`\n",
      "bestfit [2.05668681 1.85849549 0.74098983 1.45750982]\n",
      "chi2 62.69844126328898\n",
      "Residuals > 10%: Change `inner_slope` or `outer_slope` or increase `ngauss`\n",
      "bestfit [2.0806176  1.59277164 0.73648409 1.25146092]\n",
      "Too few points to create valid contours\n",
      "chi2 56.17876175892775\n",
      "Residuals > 10%: Change `inner_slope` or `outer_slope` or increase `ngauss`\n",
      "bestfit [2.14964672 1.98528082 0.66416968 0.91064466]\n",
      "chi2 20.419663724943625\n",
      "Residuals > 10%: Change `inner_slope` or `outer_slope` or increase `ngauss`\n",
      "bestfit [1.99276533 1.51102494 0.80505843 0.93036263]\n",
      "chi2 39.25183348952539\n",
      "Residuals > 10%: Change `inner_slope` or `outer_slope` or increase `ngauss`\n",
      "bestfit [1.95588125 1.35758899 0.75700788 1.87785139]\n",
      "chi2 66.39828318857131\n",
      "Residuals > 10%: Change `inner_slope` or `outer_slope` or increase `ngauss`\n",
      "bestfit [1.93264571 1.64774401 0.74264816 1.80814717]\n",
      "chi2 57.77044117330317\n",
      "Residuals > 10%: Change `inner_slope` or `outer_slope` or increase `ngauss`\n",
      "bestfit [2.20200041 1.63771192 0.8004258  1.11531652]\n",
      "chi2 57.93375249449154\n",
      "Residuals > 10%: Change `inner_slope` or `outer_slope` or increase `ngauss`\n",
      "bestfit [1.88406679 1.85554566 0.6732677  0.90126975]\n",
      "chi2 37.10353561455859\n"
     ]
    }
   ],
   "source": [
    "\n",
    "for i, f in enumerate(day1):\n",
    "    jammed, chi2, gamma = show_me(f)\n",
    "    print('chi2', chi2)\n",
    "    chi2_day1[i] = chi2\n",
    "    gamma_day1[i] = gamma"
   ]
  },
  {
   "cell_type": "code",
   "execution_count": 14,
   "metadata": {
    "collapsed": true,
    "jupyter": {
     "outputs_hidden": true
    },
    "tags": []
   },
   "outputs": [
    {
     "name": "stdout",
     "output_type": "stream",
     "text": [
      "Residuals > 10%: Change `inner_slope` or `outer_slope` or increase `ngauss`\n",
      "bestfit [2.09414194 1.13268412 0.74787067 0.98306713]\n",
      "Too few points to create valid contours\n",
      "chi2 41.96247707490504\n",
      "Residuals > 10%: Change `inner_slope` or `outer_slope` or increase `ngauss`\n",
      "bestfit [2.10226357 1.67098369 0.69871206 0.92456775]\n",
      "Too few points to create valid contours\n",
      "chi2 56.13125205732679\n",
      "Residuals > 10%: Change `inner_slope` or `outer_slope` or increase `ngauss`\n",
      "bestfit [1.93047071 1.4208081  0.73311557 0.91113747]\n",
      "Too few points to create valid contours\n",
      "chi2 33.06713256569164\n",
      "Residuals > 10%: Change `inner_slope` or `outer_slope` or increase `ngauss`\n",
      "bestfit [2.01466106 1.66882277 0.72010455 0.90931125]\n",
      "Too few points to create valid contours\n",
      "chi2 9.28162723481987\n",
      "Residuals > 10%: Change `inner_slope` or `outer_slope` or increase `ngauss`\n",
      "bestfit [1.99034415 1.95380468 0.76064952 0.97291425]\n",
      "Too few points to create valid contours\n",
      "Too few points to create valid contours\n",
      "Too few points to create valid contours\n",
      "chi2 61.51463456244437\n",
      "Residuals > 10%: Change `inner_slope` or `outer_slope` or increase `ngauss`\n",
      "bestfit [2.08243886 1.57290921 0.73109754 0.9527705 ]\n",
      "Too few points to create valid contours\n",
      "Too few points to create valid contours\n",
      "chi2 38.18482566904113\n",
      "Residuals > 10%: Change `inner_slope` or `outer_slope` or increase `ngauss`\n",
      "bestfit [2.14198298 1.9988142  0.6647885  0.92973042]\n",
      "Too few points to create valid contours\n",
      "Too few points to create valid contours\n",
      "Too few points to create valid contours\n"
     ]
    },
    {
     "name": "stderr",
     "output_type": "stream",
     "text": [
      "/home/shawnknabel/.local/lib/python3.11/site-packages/corner/core.py:126: RuntimeWarning: More than 20 figures have been opened. Figures created through the pyplot interface (`matplotlib.pyplot.figure`) are retained until explicitly closed and may consume too much memory. (To control this warning, see the rcParam `figure.max_open_warning`). Consider using `matplotlib.pyplot.close()`.\n",
      "  fig, axes = pl.subplots(K, K, figsize=(dim, dim))\n"
     ]
    },
    {
     "name": "stdout",
     "output_type": "stream",
     "text": [
      "chi2 19.225925122097074\n",
      "Residuals > 10%: Change `inner_slope` or `outer_slope` or increase `ngauss`\n",
      "bestfit [1.9761962  1.53413059 0.75726057 0.91360043]\n",
      "Too few points to create valid contours\n",
      "chi2 32.79977066870026\n",
      "Residuals > 10%: Change `inner_slope` or `outer_slope` or increase `ngauss`\n",
      "bestfit [1.98016339 1.36133102 0.7549707  0.95914442]\n",
      "chi2 59.35798623494016\n",
      "Residuals > 10%: Change `inner_slope` or `outer_slope` or increase `ngauss`\n",
      "bestfit [1.93874052 1.63591595 0.74759266 0.99065802]\n",
      "Too few points to create valid contours\n",
      "chi2 55.15496985011915\n",
      "Residuals > 10%: Change `inner_slope` or `outer_slope` or increase `ngauss`\n",
      "bestfit [2.05185126 1.73520945 0.78373366 0.93611584]\n",
      "Too few points to create valid contours\n",
      "chi2 50.5415300051638\n",
      "Residuals > 10%: Change `inner_slope` or `outer_slope` or increase `ngauss`\n",
      "bestfit [1.88466953 1.89027084 0.67218599 0.88632595]\n",
      "Too few points to create valid contours\n",
      "chi2 33.49555867576138\n"
     ]
    }
   ],
   "source": [
    "for i, f in enumerate(day2):\n",
    "    jammed, chi2, gamma = show_me(f)\n",
    "    print('chi2', chi2)\n",
    "    chi2_day2[i] = chi2\n",
    "    gamma_day2[i] = gamma"
   ]
  },
  {
   "cell_type": "markdown",
   "metadata": {},
   "source": [
    "# Look at the chi2s"
   ]
  },
  {
   "cell_type": "code",
   "execution_count": 15,
   "metadata": {
    "tags": []
   },
   "outputs": [
    {
     "data": {
      "text/plain": [
       "array([45.76359151, 69.35832541, 43.97725114, 17.9293357 , 62.69844126,\n",
       "       56.17876176, 20.41966372, 39.25183349, 66.39828319, 57.77044117,\n",
       "       57.93375249, 37.10353561])"
      ]
     },
     "execution_count": 15,
     "metadata": {},
     "output_type": "execute_result"
    }
   ],
   "source": [
    "chi2_day1"
   ]
  },
  {
   "cell_type": "code",
   "execution_count": 16,
   "metadata": {
    "tags": []
   },
   "outputs": [
    {
     "data": {
      "text/plain": [
       "array([41.96247707, 56.13125206, 33.06713257,  9.28162723, 61.51463456,\n",
       "       38.18482567, 19.22592512, 32.79977067, 59.35798623, 55.15496985,\n",
       "       50.54153001, 33.49555868])"
      ]
     },
     "execution_count": 16,
     "metadata": {},
     "output_type": "execute_result"
    }
   ],
   "source": [
    "chi2_day2"
   ]
  },
  {
   "cell_type": "code",
   "execution_count": 17,
   "metadata": {
    "tags": []
   },
   "outputs": [
    {
     "data": {
      "text/plain": [
       "Text(775.0694444444443, 0.5, '$\\\\chi^2$')"
      ]
     },
     "execution_count": 17,
     "metadata": {},
     "output_type": "execute_result"
    }
   ],
   "source": [
    "plt.plot(range(len(chi2_day1)), chi2_day1, label='axisymm spherical')\n",
    "plt.plot(range(len(chi2_day1)), chi2_day2, label='axisymm cylindrical')\n",
    "plt.legend()\n",
    "plt.xlabel('object')\n",
    "plt.ylabel(r'$\\chi^2$')"
   ]
  },
  {
   "cell_type": "code",
   "execution_count": 18,
   "metadata": {
    "tags": []
   },
   "outputs": [
    {
     "data": {
      "text/plain": [
       "Text(775.0694444444443, 0.5, '$\\\\Delta\\\\chi^2$')"
      ]
     },
     "execution_count": 18,
     "metadata": {},
     "output_type": "execute_result"
    }
   ],
   "source": [
    "plt.plot( abs(chi2_day2 - chi2_day1) )\n",
    "plt.legend()\n",
    "plt.xlabel('object')\n",
    "plt.ylabel(r'$\\Delta\\chi^2$')"
   ]
  },
  {
   "cell_type": "code",
   "execution_count": 19,
   "metadata": {
    "tags": []
   },
   "outputs": [
    {
     "data": {
      "text/plain": [
       "-7.00546056151079"
      ]
     },
     "execution_count": 19,
     "metadata": {},
     "output_type": "execute_result"
    }
   ],
   "source": [
    "np.mean(chi2_day2 - chi2_day1)"
   ]
  },
  {
   "cell_type": "markdown",
   "metadata": {},
   "source": [
    "# So it appears that the cylindrical is consistently better than the spherical in all cases, but not by a lot."
   ]
  },
  {
   "cell_type": "markdown",
   "metadata": {},
   "source": [
    "# Look at the gamma\n"
   ]
  },
  {
   "cell_type": "code",
   "execution_count": 20,
   "metadata": {
    "tags": []
   },
   "outputs": [
    {
     "data": {
      "text/plain": [
       "array([2.09685486, 2.08329486, 1.9681606 , 1.98527772, 2.05668681,\n",
       "       2.0806176 , 2.14964672, 1.99276533, 1.95588125, 1.93264571,\n",
       "       2.20200041, 1.88406679])"
      ]
     },
     "execution_count": 20,
     "metadata": {},
     "output_type": "execute_result"
    }
   ],
   "source": [
    "gamma_day1"
   ]
  },
  {
   "cell_type": "code",
   "execution_count": 21,
   "metadata": {
    "tags": []
   },
   "outputs": [
    {
     "data": {
      "text/plain": [
       "array([2.09414194, 2.10226357, 1.93047071, 2.01466106, 1.99034415,\n",
       "       2.08243886, 2.14198298, 1.9761962 , 1.98016339, 1.93874052,\n",
       "       2.05185126, 1.88466953])"
      ]
     },
     "execution_count": 21,
     "metadata": {},
     "output_type": "execute_result"
    }
   ],
   "source": [
    "gamma_day2"
   ]
  },
  {
   "cell_type": "code",
   "execution_count": 22,
   "metadata": {
    "tags": []
   },
   "outputs": [
    {
     "data": {
      "text/plain": [
       "Text(775.0694444444443, 0.5, '$\\\\gamma_{PL}$')"
      ]
     },
     "execution_count": 22,
     "metadata": {},
     "output_type": "execute_result"
    }
   ],
   "source": [
    "plt.plot(gamma_day1, label='axisymm spherical')\n",
    "plt.plot(gamma_day2, label='axisymm cylindrical')\n",
    "plt.legend()\n",
    "plt.xlabel('object')\n",
    "plt.ylabel(r'$\\gamma_{PL}$')"
   ]
  },
  {
   "cell_type": "code",
   "execution_count": 23,
   "metadata": {
    "tags": []
   },
   "outputs": [
    {
     "data": {
      "text/plain": [
       "Text(775.0694444444443, 0.5, 'Percent difference $\\\\gamma_{PL}$')"
      ]
     },
     "execution_count": 23,
     "metadata": {},
     "output_type": "execute_result"
    }
   ],
   "source": [
    "plt.plot((gamma_day1-gamma_day2)/gamma_day2)\n",
    "plt.xlabel('object')\n",
    "plt.ylabel(r'Percent difference $\\gamma_{PL}$')"
   ]
  },
  {
   "cell_type": "markdown",
   "metadata": {},
   "source": [
    "# What about convergence of the chains? Should I trim it like Zoe was suggesting?"
   ]
  },
  {
   "cell_type": "code",
   "execution_count": 24,
   "metadata": {
    "tags": []
   },
   "outputs": [],
   "source": [
    "def check_convergence(samples): # stolen from https://github.com/exoplanet-dev/exoplanet/blob/2e66605f3d51e4cc052759438657c41d646de446/paper/notebooks/scaling/scaling.py#L124\n",
    "    tau = emcee.autocorr.integrated_time(samples, tol=0)\n",
    "    num = samples.shape[0] * samples.shape[1]\n",
    "    converged = np.all(tau * 1 < num)\n",
    "    converged &= np.all(len(samples) > 50 * tau)\n",
    "    return converged, num / tau"
   ]
  },
  {
   "cell_type": "code",
   "execution_count": 25,
   "metadata": {
    "tags": []
   },
   "outputs": [
    {
     "data": {
      "text/plain": [
       "(False, array([234.20092872, 192.30417702, 208.67864104, 187.4444768 ]))"
      ]
     },
     "execution_count": 25,
     "metadata": {},
     "output_type": "execute_result"
    }
   ],
   "source": [
    "check_convergence(jammed.sampler.get_chain()[:,:,:4])"
   ]
  },
  {
   "cell_type": "code",
   "execution_count": 26,
   "metadata": {
    "tags": []
   },
   "outputs": [
    {
     "ename": "AutocorrError",
     "evalue": "The chain is shorter than 50 times the integrated autocorrelation time for 4 parameter(s). Use this estimate with caution and run a longer chain!\nN/50 = 20;\ntau: [51.23805472 62.40114066 57.5046873  64.01895753]",
     "output_type": "error",
     "traceback": [
      "\u001b[0;31m---------------------------------------------------------------------------\u001b[0m",
      "\u001b[0;31mAutocorrError\u001b[0m                             Traceback (most recent call last)",
      "Cell \u001b[0;32mIn[26], line 1\u001b[0m\n\u001b[0;32m----> 1\u001b[0m a \u001b[38;5;241m=\u001b[39m emcee\u001b[38;5;241m.\u001b[39mautocorr\u001b[38;5;241m.\u001b[39mintegrated_time(jammed\u001b[38;5;241m.\u001b[39msampler\u001b[38;5;241m.\u001b[39mget_chain()[:,:,:\u001b[38;5;241m4\u001b[39m])\n\u001b[1;32m      2\u001b[0m np\u001b[38;5;241m.\u001b[39mmean(a)\n",
      "File \u001b[0;32m~/.local/lib/python3.11/site-packages/emcee/autocorr.py:112\u001b[0m, in \u001b[0;36mintegrated_time\u001b[0;34m(x, c, tol, quiet)\u001b[0m\n\u001b[1;32m    110\u001b[0m     msg \u001b[38;5;241m+\u001b[39m\u001b[38;5;241m=\u001b[39m \u001b[38;5;124m\"\u001b[39m\u001b[38;5;124mN/\u001b[39m\u001b[38;5;132;01m{0}\u001b[39;00m\u001b[38;5;124m = \u001b[39m\u001b[38;5;132;01m{1:.0f}\u001b[39;00m\u001b[38;5;124m;\u001b[39m\u001b[38;5;130;01m\\n\u001b[39;00m\u001b[38;5;124mtau: \u001b[39m\u001b[38;5;132;01m{2}\u001b[39;00m\u001b[38;5;124m\"\u001b[39m\u001b[38;5;241m.\u001b[39mformat(tol, n_t \u001b[38;5;241m/\u001b[39m tol, tau_est)\n\u001b[1;32m    111\u001b[0m     \u001b[38;5;28;01mif\u001b[39;00m \u001b[38;5;129;01mnot\u001b[39;00m quiet:\n\u001b[0;32m--> 112\u001b[0m         \u001b[38;5;28;01mraise\u001b[39;00m AutocorrError(tau_est, msg)\n\u001b[1;32m    113\u001b[0m     logger\u001b[38;5;241m.\u001b[39mwarning(msg)\n\u001b[1;32m    115\u001b[0m \u001b[38;5;28;01mreturn\u001b[39;00m tau_est\n",
      "\u001b[0;31mAutocorrError\u001b[0m: The chain is shorter than 50 times the integrated autocorrelation time for 4 parameter(s). Use this estimate with caution and run a longer chain!\nN/50 = 20;\ntau: [51.23805472 62.40114066 57.5046873  64.01895753]"
     ]
    }
   ],
   "source": [
    "a = emcee.autocorr.integrated_time(jammed.sampler.get_chain()[:,:,:4])\n",
    "np.mean(a)"
   ]
  },
  {
   "cell_type": "code",
   "execution_count": null,
   "metadata": {
    "tags": []
   },
   "outputs": [],
   "source": [
    "for walker in jammed.sampler.chain:\n",
    "    plt.plot(walker[:,0], c='k', alpha=0.5)"
   ]
  },
  {
   "cell_type": "code",
   "execution_count": null,
   "metadata": {
    "tags": []
   },
   "outputs": [],
   "source": [
    "jammed.sampler.flatchain[:,:3]"
   ]
  },
  {
   "cell_type": "markdown",
   "metadata": {},
   "source": [
    "___________________________\n",
    "# Now look at Day 3 and 4 (spherical) from 03/19/24.\n",
    "### I'm calling them two different dates just to keep things consistent in this notebook for now. I'm driving myself crazy."
   ]
  },
  {
   "cell_type": "code",
   "execution_count": 72,
   "metadata": {
    "tags": []
   },
   "outputs": [],
   "source": [
    "date3 = '2024_03_19_v1'\n",
    "date4 = '2024_03_19_v2'"
   ]
  },
  {
   "cell_type": "code",
   "execution_count": 73,
   "metadata": {
    "tags": []
   },
   "outputs": [],
   "source": [
    "day3 = glob.glob(f'{jam_output_dir}**/*{date3}*/**.pkl')\n",
    "day4 = glob.glob(f'{jam_output_dir}**/*{date4}*/**.pkl')"
   ]
  },
  {
   "cell_type": "code",
   "execution_count": 74,
   "metadata": {
    "tags": []
   },
   "outputs": [
    {
     "data": {
      "text/plain": [
       "['/data/raw_data/KECK_KCWI_SLACS_kinematics_shawn/jam_outputs/SDSSJ0029-0055/SDSSJ0029-0055_2024_03_19_v1/SDSSJ0029-0055_2024_03_19_v1_space_jam.pkl']"
      ]
     },
     "execution_count": 74,
     "metadata": {},
     "output_type": "execute_result"
    }
   ],
   "source": [
    "day3"
   ]
  },
  {
   "cell_type": "code",
   "execution_count": 75,
   "metadata": {
    "tags": []
   },
   "outputs": [
    {
     "data": {
      "text/plain": [
       "[]"
      ]
     },
     "execution_count": 75,
     "metadata": {},
     "output_type": "execute_result"
    }
   ],
   "source": [
    "day4"
   ]
  },
  {
   "cell_type": "code",
   "execution_count": 76,
   "metadata": {
    "tags": []
   },
   "outputs": [],
   "source": [
    "###################\n",
    "# function to plot summary\n",
    "def summary_plot(self, burn=0, save=False):\n",
    "\n",
    "    \"\"\"\n",
    "    Print the best fitting solution with uncertainties.\n",
    "    Plot the final corner plot with the best fitting JAM model.\n",
    "    \"\"\"\n",
    "\n",
    "    # jam the best fit\n",
    "    jam, surf_potential, lambda_int = self.jam_lnprob(self.bestfit, plot=True, test_prior=False, bestfit=True)\n",
    "    plt.pause(1)\n",
    "    if jam==0:\n",
    "        return 'Cannot plot this bestfit'\n",
    "    rms_model = jam.model\n",
    "    flux_model = jam.flux\n",
    "\n",
    "    # sort the xbin and ybin by radius if spherical\n",
    "    # set the correct parameter number for the anisotropy ratio\n",
    "    if self.geometry == 'sph':\n",
    "        # anisotropy is at index 2 because there is no q_intr\n",
    "        anis_index = 2\n",
    "        # get radius of bin centers\n",
    "        rad_bin = np.sqrt(self.xbin**2 + self.ybin**2)\n",
    "        # sort by bin radius\n",
    "        sort = np.argsort(rad_bin)\n",
    "        xbin = self.xbin.copy()[sort]\n",
    "        ybin = self.ybin.copy()[sort]\n",
    "    else:\n",
    "        # anisotropy is at index 3 because there is a q_intr\n",
    "        anis_index = 3\n",
    "        # keep bin centers\n",
    "        xbin = self.xbin\n",
    "        ybin = self.ybin\n",
    "\n",
    "    # if least squares, just plot the best fit\n",
    "    if self.minimization == 'lsq':\n",
    "        plt.figure(figsize=(8,6))\n",
    "\n",
    "        # plot circular reff\n",
    "        reff_plot = plt.Circle((0,0), self.reff, color='k', fill=False, linestyle='--')\n",
    "\n",
    "        # plot data\n",
    "        rms1 = self.Vrms.copy()\n",
    "        rms1[self.goodbins] = symmetrize_velfield(xbin[self.goodbins], ybin[self.goodbins], self.Vrms[self.goodbins])\n",
    "        vmin, vmax = np.percentile(rms1[self.goodbins], [0.5, 99.5])\n",
    "        plot_velfield(xbin, ybin, rms1, vmin=vmin, vmax=vmax, linescolor='w', \n",
    "                      colorbar=1, label=r\"Data $V_{\\rm rms}$ (km/s)\", flux=flux_model, nodots=True)\n",
    "        plt.tick_params(labelbottom=False)\n",
    "        plt.ylabel('arcsec')\n",
    "        #ax = plt.gca()\n",
    "        #ax.add_patch(reff_plot)\n",
    "\n",
    "        plt.figure(figsize=(8,6))\n",
    "\n",
    "        # plot circular reff again... can only patch one time\n",
    "        reff_plot = plt.Circle((0,0), self.reff, color='k', fill=False, linestyle='--')\n",
    "\n",
    "        # plot model\n",
    "        plot_velfield(xbin, ybin, rms_model, vmin=vmin, vmax=vmax, linescolor='w',\n",
    "                      colorbar=1, label=r\"Model $V_{\\rm rms}$ (km/s)\", flux=flux_model, nodots=True)\n",
    "        #plt.tick_params(labelbottom=False)\n",
    "        plt.xlabel('arcsec')\n",
    "        plt.ylabel('arcsec')\n",
    "        #ax = plt.gca()\n",
    "        #ax.add_patch(reff_plot)\n",
    "\n",
    "    else:\n",
    "        plot_pars = self.pars.copy()\n",
    "        \n",
    "        print(plot_pars.shape)\n",
    "        print(self.pars.shape)\n",
    "        plot_probs = self.lnprob.copy()\n",
    "        plot_bounds = np.array(self.bounds).copy()#self.bounds.copy()\n",
    "        plot_truths = np.zeros_like(self.p0)#self.p0.copy() # let them all be 0s for now, I'll get back to this\n",
    "        #truths should only be for gamma, theta_E and q_intr\n",
    "        #plot_truths[2] = 0\n",
    "        #plot_truths[-1] = 0\n",
    "        #plot_truths[-2] = 0\n",
    "        # substitute the plot parameters with the ratios and lambda_ints\n",
    "        if self.anisotropy == 'const':\n",
    "            plot_pars[:,anis_index] = self.anisotropy_ratio_accepted.astype(float)\n",
    "        plot_pars[:,-2] = self.lambda_int_accepted.astype(float)\n",
    "        # some bounds should change\n",
    "        # anistropy\n",
    "        if self.anisotropy == 'const':\n",
    "            plot_bounds[0][anis_index] = self.shape_anis_bounds[0]\n",
    "            plot_bounds[1][anis_index] = self.shape_anis_bounds[1]\n",
    "        # lambda_int\n",
    "        plot_bounds[0][-2] = 0.8\n",
    "        plot_bounds[1][-2] = 1.2\n",
    "        \n",
    "        print(plot_pars.shape)\n",
    "        # burn samples\n",
    "        plot_pars = plot_pars[burn:]\n",
    "        plot_probs = plot_probs[burn:]\n",
    "        \n",
    "        print(plot_pars.shape)\n",
    "\n",
    "        # take only the parameters that weren't fixed\n",
    "        plot_pars = plot_pars[:,~np.array(self.fix_pars, dtype=bool)]\n",
    "        plot_bounds = plot_bounds[:,~np.array(self.fix_pars, dtype=bool)]\n",
    "        plot_truths = plot_truths[~np.array(self.fix_pars, dtype=bool)]\n",
    "        plot_labels = np.copy(self.labels)[~np.array(self.fix_pars, dtype=bool)]\n",
    "        \n",
    "        print(plot_pars.shape)\n",
    "        # calculate uncertainties in posterior\n",
    "        plot_bestfit = plot_pars[np.nanargmax(plot_probs)]\n",
    "        print('bestfit', plot_bestfit)\n",
    "        perc = np.percentile(plot_pars, [15.86, 84.14], axis=0)  # 68% interval\n",
    "        sig_bestfit = np.squeeze(np.diff(perc, axis=0)/2)   # half of interval (1sigma)\n",
    "        chi2_bestfit = self.chi2_accepted[burn:][np.nanargmax(plot_probs)]\n",
    "\n",
    "        # For plotting, only show the finite probability points\n",
    "        finite = np.isfinite(plot_probs)\n",
    "\n",
    "        # Produce final corner plot without trial values and with best fitting JAM\n",
    "        plt.rcParams.update({'font.size': 14})\n",
    "        plt.clf()\n",
    "        #corner_plot(plot_pars[finite], plot_probs[finite], labels=plot_labels, extents=plot_bounds, truths=plot_truths, truth_color='k', fignum=1)\n",
    "        corner.corner(plot_pars[finite], labels=plot_labels, range=plot_bounds.T, truths=plot_truths, truth_color='k', fignum=1)\n",
    "\n",
    "        dx = 0.24\n",
    "        yfac = 0.87\n",
    "        fig = plt.gcf()\n",
    "        fig.set_size_inches((12,12))\n",
    "        fig.tight_layout()\n",
    "\n",
    "        i = 0                          \n",
    "        # annotate the model results\n",
    "        plt.annotate(f'chi2 = {np.around(chi2_bestfit, 2)}', (0.30, 0.97-(1+len(self.labels))*0.03), xycoords='figure fraction', fontsize=16)\n",
    "        for label, best, sig in zip(self.labels, plot_bestfit, sig_bestfit):\n",
    "            string = f\"{label} = {best:#.4g}\"# ± {sig:#.2g}\"\n",
    "            plt.annotate(string, (0.30, 0.94-i*0.03), xycoords='figure fraction', fontsize=16) \n",
    "            i = i+1\n",
    "\n",
    "        # plot circular reff\n",
    "        reff_plot = plt.Circle((0,0), self.reff, color='k', fill=False, linestyle='--')\n",
    "\n",
    "        # plot data\n",
    "        fig.add_axes([0.69, 0.99 - dx*yfac, dx, dx*yfac])  # left, bottom, xsize, ysize\n",
    "        rms1 = self.Vrms.copy()\n",
    "        rms1[self.goodbins] = symmetrize_velfield(self.xbin[self.goodbins], self.ybin[self.goodbins], self.Vrms[self.goodbins])\n",
    "        vmin, vmax = np.percentile(rms1[self.goodbins], [0.5, 99.5])\n",
    "        plot_velfield(self.xbin, self.ybin, rms1, vmin=vmin, vmax=vmax, linescolor='w', \n",
    "                      colorbar=1, label=r\"Data $V_{\\rm rms}$ (km/s)\", flux=flux_model, nodots=True)\n",
    "        plt.tick_params(labelbottom=False)\n",
    "        plt.ylabel('arcsec')\n",
    "        ax = plt.gca()\n",
    "        ax.add_patch(reff_plot)\n",
    "\n",
    "        # plot circular reff again... can only patch one time\n",
    "        reff_plot = plt.Circle((0,0), self.reff, color='k', fill=False, linestyle='--')\n",
    "\n",
    "        # plot model\n",
    "        fig.add_axes([0.69, 0.98 - 2*dx*yfac, dx, dx*yfac])  # left, bottom, xsize, ysize\n",
    "        plot_velfield(self.xbin, self.ybin, rms_model, vmin=vmin, vmax=vmax, linescolor='w',\n",
    "                      colorbar=1, label=r\"Model $V_{\\rm rms}$ (km/s)\", flux=flux_model, nodots=True)\n",
    "        #plt.tick_params(labelbottom=False)\n",
    "        plt.xlabel('arcsec')\n",
    "        plt.ylabel('arcsec')\n",
    "        ax = plt.gca()\n",
    "        ax.add_patch(reff_plot)\n",
    "\n",
    "    if save==True:\n",
    "        plt.savefig(f'{self.model_dir}{self.obj_name}_corner_plot_{self.model_name}_{self.date_time}.png', bbox_inches='tight')\n",
    "        plt.savefig(f'{self.model_dir}{self.obj_name}_corner_plot_{self.model_name}_{self.date_time}.pdf', bbox_inches='tight')\n",
    "\n",
    "    plt.show()\n",
    "    plt.pause(1)\n"
   ]
  },
  {
   "cell_type": "code",
   "execution_count": 80,
   "metadata": {
    "tags": []
   },
   "outputs": [],
   "source": [
    "def show_me_sph (file_path):\n",
    "    \n",
    "    with open(file_path, 'rb') as f:\n",
    "        jammed = pickle.load(f)\n",
    "    \n",
    "    \n",
    "    #################################################################################\n",
    "    \n",
    "    # update the function to properly index the accepted samples\n",
    "    jammed.index_accepted_samples = types.MethodType(index_accepted_samples, jammed)\n",
    "    # update the accepted samples\n",
    "    jammed.index_accepted_samples()\n",
    "\n",
    "    \n",
    "    # save the bestfit chi2\n",
    "    chi2 = jammed.chi2s[jammed.index_accepted][np.nanargmax(jammed.lnprob)]\n",
    "    gamma = jammed.bestfit[0]\n",
    "    \n",
    "    #################################################################################\n",
    "        \n",
    "    # update the function to summary_plot()\n",
    "    #jammed.summary_plot = types.MethodType(summary_plot, jammed)# plot the summary\n",
    "    #jammed.summary_plot(burn=1200, save=False)\n",
    "    \n",
    "    return jammed, chi2, gamma\n",
    "\n"
   ]
  },
  {
   "cell_type": "code",
   "execution_count": 81,
   "metadata": {
    "tags": []
   },
   "outputs": [],
   "source": [
    "%matplotlib inline"
   ]
  },
  {
   "cell_type": "code",
   "execution_count": 82,
   "metadata": {
    "tags": []
   },
   "outputs": [],
   "source": [
    "jammed, chi2, gamma = show_me_sph(day3[0])"
   ]
  },
  {
   "cell_type": "code",
   "execution_count": 86,
   "metadata": {
    "tags": []
   },
   "outputs": [
    {
     "data": {
      "text/plain": [
       "array([[2.0723247 , 1.60209506, 3.62438139, 0.5       , 7.        ],\n",
       "       [2.49530831, 1.87617635, 2.50869527, 0.5       , 7.        ],\n",
       "       [2.18321775, 1.65016429, 3.8414541 , 0.5       , 7.        ],\n",
       "       [1.88543041, 1.29281052, 1.18794963, 0.5       , 7.        ],\n",
       "       [2.03048216, 1.39443561, 2.70774526, 0.5       , 7.        ],\n",
       "       [1.94352071, 1.83940093, 3.77146592, 0.5       , 7.        ],\n",
       "       [2.712705  , 1.10596227, 3.42783562, 0.5       , 7.        ],\n",
       "       [2.10408039, 1.94807478, 3.64553797, 0.5       , 7.        ],\n",
       "       [2.21430573, 1.97145012, 2.56904789, 0.5       , 7.        ],\n",
       "       [1.46477241, 1.3346342 , 3.89443334, 0.5       , 7.        ],\n",
       "       [2.22886924, 1.54034955, 3.59381544, 0.5       , 7.        ],\n",
       "       [2.18217963, 1.97361361, 1.34962217, 0.5       , 7.        ],\n",
       "       [2.0723247 , 1.60209506, 3.62438139, 0.5       , 7.        ],\n",
       "       [2.49530831, 1.87617635, 2.50869527, 0.5       , 7.        ],\n",
       "       [2.18321775, 1.65016429, 3.8414541 , 0.5       , 7.        ],\n",
       "       [1.88543041, 1.29281052, 1.18794963, 0.5       , 7.        ],\n",
       "       [2.03048216, 1.39443561, 2.70774526, 0.5       , 7.        ],\n",
       "       [1.94352071, 1.83940093, 3.77146592, 0.5       , 7.        ],\n",
       "       [2.712705  , 1.10596227, 3.42783562, 0.5       , 7.        ],\n",
       "       [2.10408039, 1.94807478, 3.64553797, 0.5       , 7.        ],\n",
       "       [2.17185607, 1.90877453, 1.995989  , 0.5       , 7.        ],\n",
       "       [1.46477241, 1.3346342 , 3.89443334, 0.5       , 7.        ],\n",
       "       [2.19574423, 1.49859792, 3.72872287, 0.5       , 7.        ],\n",
       "       [2.12152836, 1.83446725, 1.31657862, 0.5       , 7.        ],\n",
       "       [2.0723247 , 1.60209506, 3.62438139, 0.5       , 7.        ],\n",
       "       [2.49530831, 1.87617635, 2.50869527, 0.5       , 7.        ],\n",
       "       [2.18321775, 1.65016429, 3.8414541 , 0.5       , 7.        ],\n",
       "       [1.83718013, 1.18211456, 1.1616623 , 0.5       , 7.        ],\n",
       "       [2.03048216, 1.39443561, 2.70774526, 0.5       , 7.        ],\n",
       "       [1.94352071, 1.83940093, 3.77146592, 0.5       , 7.        ],\n",
       "       [2.712705  , 1.10596227, 3.42783562, 0.5       , 7.        ],\n",
       "       [2.08825944, 1.7757048 , 3.63499759, 0.5       , 7.        ],\n",
       "       [1.85203781, 1.94100648, 1.48904299, 0.5       , 7.        ],\n",
       "       [1.59971502, 1.54592458, 3.05627522, 0.5       , 7.        ],\n",
       "       [2.15793525, 1.54968521, 3.73513017, 0.5       , 7.        ],\n",
       "       [2.09984445, 1.78471995, 1.30476497, 0.5       , 7.        ]])"
      ]
     },
     "execution_count": 86,
     "metadata": {},
     "output_type": "execute_result"
    }
   ],
   "source": [
    "jammed.pars"
   ]
  },
  {
   "cell_type": "code",
   "execution_count": 87,
   "metadata": {
    "tags": []
   },
   "outputs": [
    {
     "data": {
      "text/plain": [
       "[3, 12, 5]"
      ]
     },
     "execution_count": 87,
     "metadata": {},
     "output_type": "execute_result"
    }
   ],
   "source": [
    "jammed.sampler_args"
   ]
  },
  {
   "cell_type": "code",
   "execution_count": null,
   "metadata": {},
   "outputs": [],
   "source": []
  }
 ],
 "metadata": {
  "kernelspec": {
   "display_name": "Python 3 (ipykernel)",
   "language": "python",
   "name": "python3"
  },
  "language_info": {
   "codemirror_mode": {
    "name": "ipython",
    "version": 3
   },
   "file_extension": ".py",
   "mimetype": "text/x-python",
   "name": "python",
   "nbconvert_exporter": "python",
   "pygments_lexer": "ipython3",
   "version": "3.11.5"
  }
 },
 "nbformat": 4,
 "nbformat_minor": 4
}
