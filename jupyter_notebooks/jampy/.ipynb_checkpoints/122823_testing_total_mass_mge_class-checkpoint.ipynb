{
 "cells": [
  {
   "cell_type": "markdown",
   "metadata": {},
   "source": [
    "# 12/28/23 - This notebook tests the module \"total_mass_mge\" in e.g. home/shawnknabel/Documents/slacs_kinematics/my_python_packages/total_mass_mge.py\n",
    "## I'm trying to determine how the mass is producing the wrong kinematic profile."
   ]
  },
  {
   "cell_type": "code",
   "execution_count": 16,
   "metadata": {},
   "outputs": [],
   "source": [
    "# import general libraries and modules\n",
    "import numpy as np\n",
    "np.set_printoptions(threshold=10000)\n",
    "import matplotlib.pyplot as plt\n",
    "plt.rcParams[\"figure.figsize\"] = (8, 6)\n",
    "plt.switch_backend('agg')\n",
    "%matplotlib inline\n",
    "import pandas as pd\n",
    "import warnings\n",
    "warnings.filterwarnings( \"ignore\", module = \"matplotlib\\..*\" )\n",
    "warnings.filterwarnings( \"ignore\", module = \"plotbin\\..*\" )\n",
    "import os\n",
    "from os import path\n",
    "from pathlib import Path\n",
    "#import pickle\n",
    "import dill as pickle\n",
    "from datetime import datetime\n",
    "def tick():\n",
    "    return datetime.now().strftime(\"%Y_%m_%d-%I_%M_%S_%p\")\n",
    "import glob\n",
    "\n",
    "# astronomy/scipy\n",
    "from astropy.io import fits\n",
    "#from astropy.wcs import WCS\n",
    "#from scipy.ndimage import rotate\n",
    "#from scipy.ndimage import map_coordinates\n",
    "#from scipy.optimize import least_squares as lsq\n",
    "#from astropy.convolution import convolve, convolve_fft, Gaussian2DKernel\n",
    "#from astropy.cosmology import Planck15 as cosmo # I took 15 because for some reason Planck18 isn't in this astropy install #Planck18 as cosmo  # Planck 2018\n",
    "from astropy.cosmology import FlatLambdaCDM\n",
    "cosmo = FlatLambdaCDM(H0=70, Om0=0.3, Tcmb0=2.725)\n",
    "#from scipy.interpolate import interp1d\n",
    "#from scipy.optimize import fsolve\n",
    "import astropy.units as u\n",
    "import astropy.constants as constants\n",
    "\n",
    "# jampy\n",
    "from jampy.jam_axi_proj import jam_axi_proj\n",
    "from jampy.mge_half_light_isophote import mge_half_light_isophote\n",
    "\n",
    "# my functions\n",
    "import sys\n",
    "sys.path.append(\"/home/shawnknabel/Documents/slacs_kinematics/my_python_packages\")\n",
    "\n",
    "\n",
    "################################################################\n",
    "# some needed information\n",
    "kcwi_scale = 0.1457  # arcsec/pixel\n",
    "hst_scale = 0.050 # ACS/WFC\n",
    "\n",
    "# value of c^2 / 4 pi G\n",
    "c2_4piG = (constants.c **2 / constants.G / 4 / np.pi).to('solMass/pc')\n"
   ]
  },
  {
   "cell_type": "code",
   "execution_count": 121,
   "metadata": {},
   "outputs": [
    {
     "data": {
      "text/latex": [
       "$3.0856776 \\times 10^{16} \\; \\mathrm{m}$"
      ],
      "text/plain": [
       "<<class 'astropy.constants.iau2015.IAU2015'> name='Parsec' value=3.085677581491367e+16 uncertainty=0.0 unit='m' reference='Derived from au + IAU 2015 Resolution B 2 note [4]'>"
      ]
     },
     "execution_count": 121,
     "metadata": {},
     "output_type": "execute_result"
    }
   ],
   "source": [
    "constants.pc"
   ]
  },
  {
   "cell_type": "code",
   "execution_count": 120,
   "metadata": {},
   "outputs": [
    {
     "data": {
      "text/latex": [
       "$\\mathrm{M_{\\odot}}$"
      ],
      "text/plain": [
       "Unit(\"solMass\")"
      ]
     },
     "execution_count": 120,
     "metadata": {},
     "output_type": "execute_result"
    }
   ],
   "source": [
    "u.M_sun"
   ]
  },
  {
   "cell_type": "code",
   "execution_count": 122,
   "metadata": {},
   "outputs": [
    {
     "data": {
      "text/latex": [
       "$1.6629165 \\times 10^{12} \\; \\mathrm{\\frac{M_{\\odot}}{pc}}$"
      ],
      "text/plain": [
       "<Quantity 1.66291654e+12 solMass / pc>"
      ]
     },
     "execution_count": 122,
     "metadata": {},
     "output_type": "execute_result"
    }
   ],
   "source": [
    "constants.c **2 / constants.G / 4 / np.pi * (u.M_sun / constants.M_sun) * (constants.pc / u.pc)"
   ]
  },
  {
   "cell_type": "code",
   "execution_count": 123,
   "metadata": {},
   "outputs": [
    {
     "data": {
      "text/latex": [
       "$1.6629165 \\times 10^{12} \\; \\mathrm{\\frac{M_{\\odot}}{pc}}$"
      ],
      "text/plain": [
       "<Quantity 1.66291654e+12 solMass / pc>"
      ]
     },
     "execution_count": 123,
     "metadata": {},
     "output_type": "execute_result"
    }
   ],
   "source": [
    "c2_4piG"
   ]
  },
  {
   "cell_type": "code",
   "execution_count": 2,
   "metadata": {},
   "outputs": [],
   "source": [
    "# bring in the total_mass_mge module\n",
    "\n",
    "from total_mass_mge import total_mass_mge"
   ]
  },
  {
   "cell_type": "code",
   "execution_count": 3,
   "metadata": {},
   "outputs": [
    {
     "name": "stdout",
     "output_type": "stream",
     "text": [
      "\n"
     ]
    }
   ],
   "source": [
    "##################################################################################################################################\n",
    "\n",
    "date_of_kin = '2023-02-28_2'\n",
    "\n",
    "#------------------------------------------------------------------------------\n",
    "# Directories and files\n",
    "\n",
    "# data directory\n",
    "data_dir = '/data/raw_data/KECK_KCWI_SLACS_kinematics_shawn/'\n",
    "hst_dir = '/data/raw_data/HST_SLACS_ACS/kcwi_kinematics_lenses/'\n",
    "tables_dir = f'{data_dir}tables/'\n",
    "mosaics_dir = f'{data_dir}mosaics/'\n",
    "kinematics_full_dir = f'{data_dir}kinematics/'\n",
    "kinematics_dir =f'{kinematics_full_dir}{date_of_kin}/'\n",
    "jam_output_dir = f'{data_dir}jam_outputs/'\n",
    "# create a directory for JAM outputs\n",
    "#Path(jam_output_dir).mkdir(parents=True, exist_ok=True)\n",
    "#print(f'Outputs will be in {jam_output_dir}')\n",
    "print()\n",
    "\n",
    "# target SN for voronoi binning\n",
    "vorbin_SN_targets = np.array([10, 15, 20])\n",
    "\n",
    "#################################################\n",
    "# objects\n",
    "obj_names = ['SDSSJ0029-0055', \n",
    "             'SDSSJ0037-0942',\n",
    "             'SDSSJ0330-0020',\n",
    "             'SDSSJ1112+0826',\n",
    "             'SDSSJ1204+0358',\n",
    "             'SDSSJ1250+0523',\n",
    "             'SDSSJ1306+0600',\n",
    "             'SDSSJ1402+6321',\n",
    "             'SDSSJ1531-0105',\n",
    "             'SDSSJ1538+5817',\n",
    "             'SDSSJ1621+3931',\n",
    "             'SDSSJ1627-0053',\n",
    "             'SDSSJ1630+4520',\n",
    "             'SDSSJ2303+1422'\n",
    "            ]\n",
    "\n",
    "#################################################\n",
    "\n",
    "paper_table = pd.read_csv(f'{tables_dir}paper_table_100223.csv')\n",
    "slacs_ix_table = pd.read_csv(f'{tables_dir}slacs_ix_table3.csv')\n",
    "zs = paper_table['zlens']\n",
    "#zlenses = slacs_ix_table['z_lens']\n",
    "#zsources = slacs_ix_table['z_src']"
   ]
  },
  {
   "cell_type": "code",
   "execution_count": 4,
   "metadata": {},
   "outputs": [],
   "source": [
    "###############################################################################\n",
    "\n",
    "# class to collect and save all the attributes I need for jampy\n",
    "class jampy_details:\n",
    "    \n",
    "    def __init__(details, surf_density, mge_sigma, q, kcwi_sigmapsf, Vrms_bin, dVrms_bin, cov_matrix, V_bin, dV_bin, xbin_phot, ybin_phot, reff):\n",
    "        details.surf_density=surf_density \n",
    "        details.mge_sigma=mge_sigma\n",
    "        details.q=q \n",
    "        details.kcwi_sigmapst=kcwi_sigmapsf \n",
    "        details.Vrms_bin=Vrms_bin \n",
    "        details.dVrms_bind=dVrms_bin\n",
    "        details.cov_matrix=cov_matrix\n",
    "        details.V_bin=V_bin \n",
    "        details.dV_bin=dV_bin \n",
    "        details.xbin_phot=xbin_phot \n",
    "        details.ybin_phot=ybin_phot\n",
    "        details.reff=reff\n",
    "        \n",
    "        \n",
    "###############################################################################\n",
    "\n",
    "\n",
    "def prepare_to_jam(obj_name, file_dir, SN):\n",
    "\n",
    "    # take the surface density, etc from mge saved parameters\n",
    "    with open(f'{file_dir}{obj_name}_{SN}_details_for_jampy_with_cov.pkl', 'rb') as f:\n",
    "        tommy_pickles = pickle.load(f)\n",
    "        \n",
    "    surf = tommy_pickles.surf_density\n",
    "    sigma = tommy_pickles.mge_sigma\n",
    "    qObs = tommy_pickles.q\n",
    "    #kcwi_sigmapsf = tommy_pickles.kcwi_sigmapst # mistake in name  \n",
    "    try:\n",
    "        kcwi_sigmapsf = tommy_pickles.kcwi_sigmapsf\n",
    "    except:\n",
    "        kcwi_sigmapsf = tommy_pickles.kcwi_sigmapst\n",
    "    Vrms_bin = tommy_pickles.Vrms_bin\n",
    "    try:\n",
    "        dVrms_bin = tommy_pickles.dVrms_bin \n",
    "    except:\n",
    "        dVrms_bin = tommy_pickles.dVrms_bind # mistake in name\n",
    "    try: \n",
    "        cov_matrix = tommy_pickles.cov_matrix\n",
    "    except:\n",
    "        cov_matrix=1\n",
    "    V_bin = tommy_pickles.V_bin\n",
    "    dV_bin = tommy_pickles.dV_bin\n",
    "    xbin_phot = tommy_pickles.xbin_phot\n",
    "    ybin_phot = tommy_pickles.ybin_phot\n",
    "    reff = tommy_pickles.reff\n",
    "    \n",
    "    return (surf, sigma, qObs, kcwi_sigmapsf, Vrms_bin, dVrms_bin, cov_matrix, V_bin, dV_bin, xbin_phot, ybin_phot, reff)"
   ]
  },
  {
   "cell_type": "code",
   "execution_count": 5,
   "metadata": {},
   "outputs": [],
   "source": [
    "# get all the info for one of the objects\n",
    "\n",
    "obj_name = obj_names[1] # j0037\n",
    "SN = 15\n",
    "file_dir = f'{kinematics_dir}{obj_name}/target_sn_{SN}/{obj_name}_{SN}_marginalized_gnog_final_kinematics/'\n",
    "\n",
    "surf, sigma, qobs,  \\\n",
    "    kcwi_sigmapsf, Vrms, dVrms, \\\n",
    "    cov_matrix, V_bin, dV_bin, \\\n",
    "    xbin, ybin, reff = prepare_to_jam(obj_name, file_dir, SN)"
   ]
  },
  {
   "cell_type": "code",
   "execution_count": 70,
   "metadata": {},
   "outputs": [],
   "source": [
    "# lens model power law info\n",
    "\n",
    "lens_models_chinyi = pd.read_csv(f'{tables_dir}lens_models_table_chinyi.csv')\n",
    "lens_models_chinyi_sys = pd.read_csv(f'{tables_dir}lens_models_table_chinyi_with_sys.csv')\n",
    "lens_models_anowar = pd.read_csv(f'{tables_dir}lens_models_table_anowar.csv')"
   ]
  },
  {
   "cell_type": "code",
   "execution_count": 86,
   "metadata": {},
   "outputs": [],
   "source": [
    "# set up reasonable mass parameters\n",
    "\n",
    "zlens = slacs_ix_table[slacs_ix_table['Name']==obj_name]['z_lens']\n",
    "zsource = slacs_ix_table[slacs_ix_table['Name']==obj_name]['z_src']\n",
    "gamma = lens_models_chinyi_sys[lens_models_chinyi_sys['obj_name']==obj_name]['gamma'].values[0]\n",
    "f_dm = 0\n",
    "theta_E = lens_models_chinyi_sys[lens_models_chinyi_sys['obj_name']==obj_name]['theta_E'].values[0]\n",
    "k_mst = 0.8\n",
    "a_mst = 7\n",
    "lambda_int = 1.0\n",
    "\n",
    "# Get the effective shape and (not) effective radius from the half-light isophote\n",
    "_, _, eps_eff, _ = mge_half_light_isophote(surf, sigma, qobs)\n",
    "qobs_eff = 1-eps_eff"
   ]
  },
  {
   "cell_type": "code",
   "execution_count": 87,
   "metadata": {},
   "outputs": [
    {
     "data": {
      "image/png": "[encoded data removed]",
      "text/plain": [
       "<Figure size 432x288 with 2 Axes>"
      ]
     },
     "metadata": {
      "needs_background": "light"
     },
     "output_type": "display_data"
    }
   ],
   "source": [
    "# get total mass profile\n",
    "break_factor=200\n",
    "\n",
    "total_mass = total_mass_mge(surf, sigma, qobs, 'power_law', qobs_eff, reff, break_factor, zlens, zsource, cosmo,\n",
    "                           gamma, f_dm, theta_E, k_mst, a_mst, lambda_int, plot=True)"
   ]
  },
  {
   "cell_type": "code",
   "execution_count": 88,
   "metadata": {},
   "outputs": [
    {
     "data": {
      "text/latex": [
       "$1.6629165 \\times 10^{12} \\; \\mathrm{\\frac{M_{\\odot}}{pc}}$"
      ],
      "text/plain": [
       "<Quantity 1.66291654e+12 solMass / pc>"
      ]
     },
     "execution_count": 88,
     "metadata": {},
     "output_type": "execute_result"
    }
   ],
   "source": [
    "c2_4piG"
   ]
  },
  {
   "cell_type": "code",
   "execution_count": 111,
   "metadata": {},
   "outputs": [
    {
     "name": "stdout",
     "output_type": "stream",
     "text": [
      "jam_axi_proj(align='sph', moment='zz') -- elapsed time sec: 1.62\n",
      "analytic_los=0 logistic=0 constant_anisotropy=1\n",
      "inc=90.0; beta[1]=0.10; kappa=1.00; M/L=1.00; BH=0.0; chi2/DOF=nan\n",
      "Total mass MGE (MSun): 4.948e+11\n",
      "\n"
     ]
    }
   ],
   "source": [
    "# jam to get velocity\n",
    "\n",
    "inc=90\n",
    "mbh=0\n",
    "distance = cosmo.angular_diameter_distance(zlens).value\n",
    "beta = np.ones_like(surf)*0.1\n",
    "\n",
    "\n",
    "\n",
    "\n",
    "jam_zz =  jam_axi_proj(surf_lum=surf, sigma_lum=sigma, qobs_lum=qobs,\n",
    "            surf_pot=total_mass.surf_pot/2, sigma_pot=total_mass.sigma_pot, qobs_pot=total_mass.qobs_pot,\n",
    "            inc=inc, mbh=mbh, distance=distance,\n",
    "            xbin=xbin.ravel(), ybin=ybin.ravel(), align='sph',\n",
    "            beta=beta, moment='zz', pixsize=0.1457,\n",
    "            sigmapsf=kcwi_sigmapsf, plot=True)"
   ]
  },
  {
   "cell_type": "code",
   "execution_count": 112,
   "metadata": {},
   "outputs": [
    {
     "data": {
      "text/plain": [
       "array([7.07106781e-03, 1.46330915e-02, 2.92055344e-02, 4.22312277e-02,\n",
       "       6.10384552e-02, 1.23057244e-01, 2.35236282e-01, 4.11152096e-01,\n",
       "       6.56253309e-01, 9.61816871e-01, 1.41001075e+00, 2.33662769e+00,\n",
       "       4.21848230e+00, 8.14327560e+00, 1.64862901e+01, 1.77133981e+01,\n",
       "       3.38424224e+01, 7.40110795e+01, 2.46093876e+02])"
      ]
     },
     "execution_count": 112,
     "metadata": {},
     "output_type": "execute_result"
    }
   ],
   "source": [
    "total_mass.sigma_pot"
   ]
  },
  {
   "cell_type": "code",
   "execution_count": 113,
   "metadata": {},
   "outputs": [
    {
     "data": {
      "image/png": "[encoded data removed]",
      "text/plain": [
       "<Figure size 432x288 with 2 Axes>"
      ]
     },
     "metadata": {
      "needs_background": "light"
     },
     "output_type": "display_data"
    }
   ],
   "source": [
    "vel_field = jam_zz.model\n",
    "\n",
    "plot_velfield(xbin, ybin, vel_field, vmin=np.min(jam_zz.model)-10, vmax=np.max(jam_zz.model)+10, linescolor='w', \n",
    "                  colorbar=1, label=r\"Data $V_{\\rm rms}$ (km/s)\", nodots=True) ;\n"
   ]
  },
  {
   "cell_type": "code",
   "execution_count": 114,
   "metadata": {},
   "outputs": [
    {
     "data": {
      "text/plain": [
       "490.6538287056615"
      ]
     },
     "execution_count": 114,
     "metadata": {},
     "output_type": "execute_result"
    }
   ],
   "source": [
    "np.mean(vel_field)"
   ]
  },
  {
   "cell_type": "code",
   "execution_count": 126,
   "metadata": {},
   "outputs": [],
   "source": [
    "# Check the distances\n",
    "DL = cosmo.angular_diameter_distance(zlens).to('pc')\n",
    "DS = cosmo.angular_diameter_distance(zsource).to('pc')\n",
    "DLS = cosmo.angular_diameter_distance_z1z2(zlens, zsource).to('pc')"
   ]
  },
  {
   "cell_type": "code",
   "execution_count": 132,
   "metadata": {},
   "outputs": [],
   "source": [
    "sigma_crit = DS / (DL * DLS) * c2_4piG"
   ]
  },
  {
   "cell_type": "code",
   "execution_count": 133,
   "metadata": {},
   "outputs": [
    {
     "data": {
      "text/latex": [
       "$[3811.3489] \\; \\mathrm{\\frac{M_{\\odot}}{pc^{2}}}$"
      ],
      "text/plain": [
       "<Quantity [3811.34885867] solMass / pc2>"
      ]
     },
     "execution_count": 133,
     "metadata": {},
     "output_type": "execute_result"
    }
   ],
   "source": [
    "sigma_crit"
   ]
  },
  {
   "cell_type": "code",
   "execution_count": 149,
   "metadata": {},
   "outputs": [],
   "source": [
    "surface_mass_density = sigma_crit.value * total_mass.kappa_int"
   ]
  },
  {
   "cell_type": "code",
   "execution_count": 150,
   "metadata": {},
   "outputs": [],
   "source": [
    "# integrate over it"
   ]
  },
  {
   "cell_type": "code",
   "execution_count": 151,
   "metadata": {},
   "outputs": [],
   "source": [
    "from scipy.integrate import quad"
   ]
  },
  {
   "cell_type": "code",
   "execution_count": 158,
   "metadata": {},
   "outputs": [],
   "source": [
    "def integrand (r):\n",
    "    return surface_mass_density[total_mass.r==r] * r"
   ]
  },
  {
   "cell_type": "code",
   "execution_count": 159,
   "metadata": {},
   "outputs": [
    {
     "ename": "TypeError",
     "evalue": "only size-1 arrays can be converted to Python scalars",
     "output_type": "error",
     "traceback": [
      "\u001b[0;31m---------------------------------------------------------------------------\u001b[0m",
      "\u001b[0;31mTypeError\u001b[0m                                 Traceback (most recent call last)",
      "\u001b[0;32m<ipython-input-159-0ed95e427683>\u001b[0m in \u001b[0;36m<module>\u001b[0;34m()\u001b[0m\n\u001b[0;32m----> 1\u001b[0;31m \u001b[0;36m2\u001b[0m\u001b[0;34m*\u001b[0m\u001b[0mnp\u001b[0m\u001b[0;34m.\u001b[0m\u001b[0mpi\u001b[0m \u001b[0;34m*\u001b[0m \u001b[0mquad\u001b[0m\u001b[0;34m(\u001b[0m\u001b[0mintegrand\u001b[0m\u001b[0;34m,\u001b[0m \u001b[0;36m0\u001b[0m\u001b[0;34m,\u001b[0m \u001b[0;36m200\u001b[0m\u001b[0;34m*\u001b[0m\u001b[0mreff\u001b[0m\u001b[0;34m)\u001b[0m\u001b[0;34m\u001b[0m\u001b[0m\n\u001b[0m",
      "\u001b[0;32m/usr/local/anaconda3/lib/python3.7/site-packages/scipy/integrate/quadpack.py\u001b[0m in \u001b[0;36mquad\u001b[0;34m(func, a, b, args, full_output, epsabs, epsrel, limit, points, weight, wvar, wopts, maxp1, limlst)\u001b[0m\n\u001b[1;32m    339\u001b[0m     \u001b[0;32mif\u001b[0m \u001b[0mweight\u001b[0m \u001b[0;32mis\u001b[0m \u001b[0;32mNone\u001b[0m\u001b[0;34m:\u001b[0m\u001b[0;34m\u001b[0m\u001b[0m\n\u001b[1;32m    340\u001b[0m         retval = _quad(func, a, b, args, full_output, epsabs, epsrel, limit,\n\u001b[0;32m--> 341\u001b[0;31m                        points)\n\u001b[0m\u001b[1;32m    342\u001b[0m     \u001b[0;32melse\u001b[0m\u001b[0;34m:\u001b[0m\u001b[0;34m\u001b[0m\u001b[0m\n\u001b[1;32m    343\u001b[0m         retval = _quad_weight(func, a, b, args, full_output, epsabs, epsrel,\n",
      "\u001b[0;32m/usr/local/anaconda3/lib/python3.7/site-packages/scipy/integrate/quadpack.py\u001b[0m in \u001b[0;36m_quad\u001b[0;34m(func, a, b, args, full_output, epsabs, epsrel, limit, points)\u001b[0m\n\u001b[1;32m    446\u001b[0m     \u001b[0;32mif\u001b[0m \u001b[0mpoints\u001b[0m \u001b[0;32mis\u001b[0m \u001b[0;32mNone\u001b[0m\u001b[0;34m:\u001b[0m\u001b[0;34m\u001b[0m\u001b[0m\n\u001b[1;32m    447\u001b[0m         \u001b[0;32mif\u001b[0m \u001b[0minfbounds\u001b[0m \u001b[0;34m==\u001b[0m \u001b[0;36m0\u001b[0m\u001b[0;34m:\u001b[0m\u001b[0;34m\u001b[0m\u001b[0m\n\u001b[0;32m--> 448\u001b[0;31m             \u001b[0;32mreturn\u001b[0m \u001b[0m_quadpack\u001b[0m\u001b[0;34m.\u001b[0m\u001b[0m_qagse\u001b[0m\u001b[0;34m(\u001b[0m\u001b[0mfunc\u001b[0m\u001b[0;34m,\u001b[0m\u001b[0ma\u001b[0m\u001b[0;34m,\u001b[0m\u001b[0mb\u001b[0m\u001b[0;34m,\u001b[0m\u001b[0margs\u001b[0m\u001b[0;34m,\u001b[0m\u001b[0mfull_output\u001b[0m\u001b[0;34m,\u001b[0m\u001b[0mepsabs\u001b[0m\u001b[0;34m,\u001b[0m\u001b[0mepsrel\u001b[0m\u001b[0;34m,\u001b[0m\u001b[0mlimit\u001b[0m\u001b[0;34m)\u001b[0m\u001b[0;34m\u001b[0m\u001b[0m\n\u001b[0m\u001b[1;32m    449\u001b[0m         \u001b[0;32melse\u001b[0m\u001b[0;34m:\u001b[0m\u001b[0;34m\u001b[0m\u001b[0m\n\u001b[1;32m    450\u001b[0m             \u001b[0;32mreturn\u001b[0m \u001b[0m_quadpack\u001b[0m\u001b[0;34m.\u001b[0m\u001b[0m_qagie\u001b[0m\u001b[0;34m(\u001b[0m\u001b[0mfunc\u001b[0m\u001b[0;34m,\u001b[0m\u001b[0mbound\u001b[0m\u001b[0;34m,\u001b[0m\u001b[0minfbounds\u001b[0m\u001b[0;34m,\u001b[0m\u001b[0margs\u001b[0m\u001b[0;34m,\u001b[0m\u001b[0mfull_output\u001b[0m\u001b[0;34m,\u001b[0m\u001b[0mepsabs\u001b[0m\u001b[0;34m,\u001b[0m\u001b[0mepsrel\u001b[0m\u001b[0;34m,\u001b[0m\u001b[0mlimit\u001b[0m\u001b[0;34m)\u001b[0m\u001b[0;34m\u001b[0m\u001b[0m\n",
      "\u001b[0;31mTypeError\u001b[0m: only size-1 arrays can be converted to Python scalars"
     ]
    }
   ],
   "source": [
    "2*np.pi * quad(integrand, 0, 200*reff)"
   ]
  },
  {
   "cell_type": "code",
   "execution_count": 157,
   "metadata": {},
   "outputs": [
    {
     "data": {
      "text/plain": [
       "array([1.00000000e-02, 1.01072800e-02, 1.02157108e-02, 1.03253050e-02,\n",
       "       1.04360748e-02, 1.05480330e-02, 1.06611922e-02, 1.07755655e-02,\n",
       "       1.08911657e-02, 1.10080061e-02, 1.11261000e-02, 1.12454607e-02,\n",
       "       1.13661020e-02, 1.14880375e-02, 1.16112811e-02, 1.17358469e-02,\n",
       "       1.18617490e-02, 1.19890019e-02, 1.21176198e-02, 1.22476176e-02,\n",
       "       1.23790100e-02, 1.25118120e-02, 1.26460387e-02, 1.27817054e-02,\n",
       "       1.29188274e-02, 1.30574206e-02, 1.31975006e-02, 1.33390833e-02,\n",
       "       1.34821849e-02, 1.36268218e-02, 1.37730103e-02, 1.39207671e-02,\n",
       "       1.40701090e-02, 1.42210531e-02, 1.43736165e-02, 1.45278167e-02,\n",
       "       1.46836710e-02, 1.48411974e-02, 1.50004137e-02, 1.51613381e-02,\n",
       "       1.53239889e-02, 1.54883846e-02, 1.56545440e-02, 1.58224859e-02,\n",
       "       1.59922294e-02, 1.61637940e-02, 1.63371992e-02, 1.65124646e-02,\n",
       "       1.66896103e-02, 1.68686563e-02, 1.70496232e-02, 1.72325315e-02,\n",
       "       1.74174021e-02, 1.76042559e-02, 1.77931143e-02, 1.79839988e-02,\n",
       "       1.81769311e-02, 1.83719332e-02, 1.85690272e-02, 1.87682357e-02,\n",
       "       1.89695812e-02, 1.91730869e-02, 1.93787757e-02, 1.95866711e-02,\n",
       "       1.97967969e-02, 2.00091768e-02, 2.02238352e-02, 2.04407965e-02,\n",
       "       2.06600853e-02, 2.08817266e-02, 2.11057457e-02, 2.13321681e-02,\n",
       "       2.15610195e-02, 2.17923261e-02, 2.20261141e-02, 2.22624102e-02,\n",
       "       2.25012412e-02, 2.27426345e-02, 2.29866174e-02, 2.32332177e-02,\n",
       "       2.34824636e-02, 2.37343834e-02, 2.39890058e-02, 2.42463598e-02,\n",
       "       2.45064747e-02, 2.47693801e-02, 2.50351059e-02, 2.53036824e-02,\n",
       "       2.55751403e-02, 2.58495103e-02, 2.61268238e-02, 2.64071122e-02,\n",
       "       2.66904077e-02, 2.69767423e-02, 2.72661487e-02, 2.75586598e-02,\n",
       "       2.78543091e-02, 2.81531300e-02, 2.84551567e-02, 2.87604235e-02,\n",
       "       2.90689653e-02, 2.93808170e-02, 2.96960144e-02, 3.00145931e-02,\n",
       "       3.03365896e-02, 3.06620404e-02, 3.09909827e-02, 3.13234539e-02,\n",
       "       3.16594918e-02, 3.19991347e-02, 3.23424213e-02, 3.26893907e-02,\n",
       "       3.30400824e-02, 3.33945363e-02, 3.37527928e-02, 3.41148926e-02,\n",
       "       3.44808771e-02, 3.48507879e-02, 3.52246670e-02, 3.56025571e-02,\n",
       "       3.59845012e-02, 3.63705429e-02, 3.67607259e-02, 3.71550949e-02,\n",
       "       3.75536946e-02, 3.79565706e-02, 3.83637685e-02, 3.87753349e-02,\n",
       "       3.91913166e-02, 3.96117609e-02, 4.00367158e-02, 4.04662295e-02,\n",
       "       4.09003511e-02, 4.13391300e-02, 4.17826160e-02, 4.22308598e-02,\n",
       "       4.26839123e-02, 4.31418252e-02, 4.36046506e-02, 4.40724411e-02,\n",
       "       4.45452502e-02, 4.50231315e-02, 4.55061395e-02, 4.59943292e-02,\n",
       "       4.64877562e-02, 4.69864767e-02, 4.74905475e-02, 4.80000260e-02,\n",
       "       4.85149701e-02, 4.90354386e-02, 4.95614906e-02, 5.00931861e-02,\n",
       "       5.06305857e-02, 5.11737504e-02, 5.17227423e-02, 5.22776237e-02,\n",
       "       5.28384579e-02, 5.34053087e-02, 5.39782407e-02, 5.45573191e-02,\n",
       "       5.51426098e-02, 5.57341796e-02, 5.63320957e-02, 5.69364262e-02,\n",
       "       5.75472400e-02, 5.81646067e-02, 5.87885964e-02, 5.94192803e-02,\n",
       "       6.00567301e-02, 6.07010185e-02, 6.13522189e-02, 6.20104053e-02,\n",
       "       6.26756527e-02, 6.33480369e-02, 6.40276345e-02, 6.47145228e-02,\n",
       "       6.54087800e-02, 6.61104852e-02, 6.68197182e-02, 6.75365600e-02,\n",
       "       6.82610920e-02, 6.89933968e-02, 6.97335577e-02, 7.04816591e-02,\n",
       "       7.12377861e-02, 7.20020249e-02, 7.27744624e-02, 7.35551866e-02,\n",
       "       7.43442864e-02, 7.51418517e-02, 7.59479732e-02, 7.67627429e-02,\n",
       "       7.75862533e-02, 7.84185984e-02, 7.92598729e-02, 8.01101726e-02,\n",
       "       8.09695943e-02, 8.18382358e-02, 8.27161962e-02, 8.36035753e-02,\n",
       "       8.45004742e-02, 8.54069950e-02, 8.63232410e-02, 8.72493165e-02,\n",
       "       8.81853269e-02, 8.91313788e-02, 9.00875799e-02, 9.10540392e-02,\n",
       "       9.20308667e-02, 9.30181735e-02, 9.40160722e-02, 9.50246763e-02,\n",
       "       9.60441008e-02, 9.70744616e-02, 9.81158761e-02, 9.91684630e-02,\n",
       "       1.00232342e-01, 1.01307634e-01, 1.02394462e-01, 1.03492950e-01,\n",
       "       1.04603222e-01, 1.05725405e-01, 1.06859627e-01, 1.08006016e-01,\n",
       "       1.09164705e-01, 1.10335823e-01, 1.11519506e-01, 1.12715886e-01,\n",
       "       1.13925102e-01, 1.15147290e-01, 1.16382590e-01, 1.17631142e-01,\n",
       "       1.18893089e-01, 1.20168573e-01, 1.21457741e-01, 1.22760740e-01,\n",
       "       1.24077717e-01, 1.25408822e-01, 1.26754207e-01, 1.28114026e-01,\n",
       "       1.29488433e-01, 1.30877585e-01, 1.32281639e-01, 1.33700756e-01,\n",
       "       1.35135097e-01, 1.36584826e-01, 1.38050108e-01, 1.39531109e-01,\n",
       "       1.41027998e-01, 1.42540946e-01, 1.44070125e-01, 1.45615709e-01,\n",
       "       1.47177874e-01, 1.48756797e-01, 1.50352660e-01, 1.51965643e-01,\n",
       "       1.53595930e-01, 1.55243706e-01, 1.56909160e-01, 1.58592481e-01,\n",
       "       1.60293861e-01, 1.62013493e-01, 1.63751573e-01, 1.65508300e-01,\n",
       "       1.67283872e-01, 1.69078493e-01, 1.70892367e-01, 1.72725699e-01,\n",
       "       1.74578700e-01, 1.76451580e-01, 1.78344552e-01, 1.80257832e-01,\n",
       "       1.82191637e-01, 1.84146189e-01, 1.86121708e-01, 1.88118421e-01,\n",
       "       1.90136555e-01, 1.92176340e-01, 1.94238007e-01, 1.96321792e-01,\n",
       "       1.98427931e-01, 2.00556665e-01, 2.02708237e-01, 2.04882890e-01,\n",
       "       2.07080873e-01, 2.09302436e-01, 2.11547832e-01, 2.13817316e-01,\n",
       "       2.16111148e-01, 2.18429588e-01, 2.20772900e-01, 2.23141351e-01,\n",
       "       2.25535210e-01, 2.27954751e-01, 2.30400249e-01, 2.32871982e-01,\n",
       "       2.35370232e-01, 2.37895284e-01, 2.40447423e-01, 2.43026943e-01,\n",
       "       2.45634135e-01, 2.48269297e-01, 2.50932729e-01, 2.53624735e-01,\n",
       "       2.56345620e-01, 2.59095695e-01, 2.61875273e-01, 2.64684670e-01,\n",
       "       2.67524207e-01, 2.70394206e-01, 2.73294994e-01, 2.76226902e-01,\n",
       "       2.79190263e-01, 2.82185415e-01, 2.85212700e-01, 2.88272461e-01,\n",
       "       2.91365047e-01, 2.94490810e-01, 2.97650106e-01, 3.00843296e-01,\n",
       "       3.04070742e-01, 3.07332812e-01, 3.10629877e-01, 3.13962314e-01,\n",
       "       3.17330500e-01, 3.20734821e-01, 3.24175663e-01, 3.27653419e-01,\n",
       "       3.31168484e-01, 3.34721258e-01, 3.38312147e-01, 3.41941558e-01,\n",
       "       3.45609906e-01, 3.49317608e-01, 3.53065087e-01, 3.56852768e-01,\n",
       "       3.60681083e-01, 3.64550469e-01, 3.68461365e-01, 3.72414218e-01,\n",
       "       3.76409476e-01, 3.80447596e-01, 3.84529036e-01, 3.88654263e-01,\n",
       "       3.92823745e-01, 3.97037956e-01, 4.01297378e-01, 4.05602496e-01,\n",
       "       4.09953798e-01, 4.14351781e-01, 4.18796946e-01, 4.23289798e-01,\n",
       "       4.27830850e-01, 4.32420618e-01, 4.37059625e-01, 4.41748399e-01,\n",
       "       4.46487475e-01, 4.51277391e-01, 4.56118693e-01, 4.61011933e-01,\n",
       "       4.65957668e-01, 4.70956460e-01, 4.76008880e-01, 4.81115502e-01,\n",
       "       4.86276907e-01, 4.91493684e-01, 4.96766427e-01, 5.02095736e-01,\n",
       "       5.07482217e-01, 5.12926485e-01, 5.18429159e-01, 5.23990865e-01,\n",
       "       5.29612238e-01, 5.35293916e-01, 5.41036548e-01, 5.46840786e-01,\n",
       "       5.52707292e-01, 5.58636734e-01, 5.64629788e-01, 5.70687134e-01,\n",
       "       5.76809464e-01, 5.82997474e-01, 5.89251869e-01, 5.95573362e-01,\n",
       "       6.01962671e-01, 6.08420524e-01, 6.14947658e-01, 6.21544815e-01,\n",
       "       6.28212745e-01, 6.34952210e-01, 6.41763975e-01, 6.48648817e-01,\n",
       "       6.55607520e-01, 6.62640875e-01, 6.69749685e-01, 6.76934757e-01,\n",
       "       6.84196911e-01, 6.91536973e-01, 6.98955780e-01, 7.06454175e-01,\n",
       "       7.14033014e-01, 7.21693158e-01, 7.29435480e-01, 7.37260861e-01,\n",
       "       7.45170194e-01, 7.53164377e-01, 7.61244322e-01, 7.69410949e-01,\n",
       "       7.77665187e-01, 7.86007977e-01, 7.94440268e-01, 8.02963021e-01,\n",
       "       8.11577206e-01, 8.20283804e-01, 8.29083806e-01, 8.37978214e-01,\n",
       "       8.46968042e-01, 8.56054313e-01, 8.65238061e-01, 8.74520332e-01,\n",
       "       8.83902183e-01, 8.93384683e-01, 9.02968911e-01, 9.12655959e-01,\n",
       "       9.22446930e-01, 9.32342937e-01, 9.42345110e-01, 9.52454585e-01,\n",
       "       9.62672515e-01, 9.73000063e-01, 9.83438404e-01, 9.93988729e-01,\n",
       "       1.00465224e+00, 1.01543014e+00, 1.02632367e+00, 1.03733407e+00,\n",
       "       1.04846259e+00, 1.05971049e+00, 1.07107906e+00, 1.08256960e+00,\n",
       "       1.09418340e+00, 1.10592180e+00, 1.11778612e+00, 1.12977773e+00,\n",
       "       1.14189798e+00, 1.15414826e+00, 1.16652996e+00, 1.17904449e+00,\n",
       "       1.19169327e+00, 1.20447775e+00, 1.21739939e+00, 1.23045964e+00,\n",
       "       1.24366001e+00, 1.25700199e+00, 1.27048711e+00, 1.28411689e+00,\n",
       "       1.29789289e+00, 1.31181668e+00, 1.32588985e+00, 1.34011399e+00,\n",
       "       1.35449073e+00, 1.36902170e+00, 1.38370856e+00, 1.39855298e+00,\n",
       "       1.41355665e+00, 1.42872128e+00, 1.44404860e+00, 1.45954035e+00,\n",
       "       1.47519829e+00, 1.49102422e+00, 1.50701992e+00, 1.52318723e+00,\n",
       "       1.53952797e+00, 1.55604403e+00, 1.57273726e+00, 1.58960958e+00,\n",
       "       1.60666291e+00, 1.62389918e+00, 1.64132037e+00, 1.65892845e+00,\n",
       "       1.67672543e+00, 1.69471333e+00, 1.71289421e+00, 1.73127014e+00,\n",
       "       1.74984320e+00, 1.76861551e+00, 1.78758921e+00, 1.80676646e+00,\n",
       "       1.82614945e+00, 1.84574037e+00, 1.86554147e+00, 1.88555499e+00,\n",
       "       1.90578322e+00, 1.92622846e+00, 1.94689303e+00, 1.96777929e+00,\n",
       "       1.98888962e+00, 2.01022643e+00, 2.03179213e+00, 2.05358919e+00,\n",
       "       2.07562009e+00, 2.09788733e+00, 2.12039346e+00, 2.14314104e+00,\n",
       "       2.16613265e+00, 2.18937091e+00, 2.21285848e+00, 2.23659802e+00,\n",
       "       2.26059223e+00, 2.28484386e+00, 2.30935566e+00, 2.33413042e+00,\n",
       "       2.35917096e+00, 2.38448014e+00, 2.41006084e+00, 2.43591596e+00,\n",
       "       2.46204846e+00, 2.48846131e+00, 2.51515751e+00, 2.54214012e+00,\n",
       "       2.56941219e+00, 2.59697683e+00, 2.62483719e+00, 2.65299644e+00,\n",
       "       2.68145778e+00, 2.71022445e+00, 2.73929973e+00, 2.76868693e+00,\n",
       "       2.79838939e+00, 2.82841050e+00, 2.85875368e+00, 2.88942238e+00,\n",
       "       2.92042010e+00, 2.95175036e+00, 2.98341672e+00, 3.01542281e+00,\n",
       "       3.04777226e+00, 3.08046875e+00, 3.11351601e+00, 3.14691780e+00,\n",
       "       3.18067792e+00, 3.21480023e+00, 3.24928859e+00, 3.28414695e+00,\n",
       "       3.31937927e+00, 3.35498956e+00, 3.39098188e+00, 3.42736032e+00,\n",
       "       3.46412903e+00, 3.50129220e+00, 3.53885405e+00, 3.57681886e+00,\n",
       "       3.61519097e+00, 3.65397472e+00, 3.69317455e+00, 3.73279492e+00,\n",
       "       3.77284033e+00, 3.81331535e+00, 3.85422459e+00, 3.89557270e+00,\n",
       "       3.93736439e+00, 3.97960442e+00, 4.02229761e+00, 4.06544880e+00,\n",
       "       4.10906292e+00, 4.15314494e+00, 4.19769986e+00, 4.24273278e+00,\n",
       "       4.28824880e+00, 4.33425312e+00, 4.38075097e+00, 4.42774766e+00,\n",
       "       4.47524852e+00, 4.52325897e+00, 4.57178448e+00, 4.62083057e+00,\n",
       "       4.67040283e+00, 4.72050690e+00, 4.77114848e+00, 4.82233335e+00,\n",
       "       4.87406732e+00, 4.92635630e+00, 4.97920624e+00, 5.03262315e+00,\n",
       "       5.08661311e+00, 5.14118228e+00, 5.19633687e+00, 5.25208316e+00,\n",
       "       5.30842749e+00, 5.36537628e+00, 5.42293602e+00, 5.48111326e+00,\n",
       "       5.53991463e+00, 5.59934682e+00, 5.65941659e+00, 5.72013080e+00,\n",
       "       5.78149634e+00, 5.84352022e+00, 5.90620948e+00, 5.96957128e+00,\n",
       "       6.03361282e+00, 6.09834140e+00, 6.16376439e+00, 6.22988924e+00,\n",
       "       6.29672347e+00, 6.36427470e+00, 6.43255062e+00, 6.50155900e+00,\n",
       "       6.57130771e+00, 6.64180468e+00, 6.71305794e+00, 6.78507560e+00,\n",
       "       6.85786587e+00, 6.93143704e+00, 7.00579747e+00, 7.08095565e+00,\n",
       "       7.15692012e+00, 7.23369953e+00, 7.31130264e+00, 7.38973827e+00,\n",
       "       7.46901536e+00, 7.54914294e+00, 7.63013012e+00, 7.71198613e+00,\n",
       "       7.79472030e+00, 7.87834203e+00, 7.96286086e+00, 8.04828641e+00,\n",
       "       8.13462840e+00, 8.22189667e+00, 8.31010115e+00, 8.39925189e+00,\n",
       "       8.48935904e+00, 8.58043286e+00, 8.67248371e+00, 8.76552209e+00,\n",
       "       8.85955859e+00, 8.95460390e+00, 9.05066887e+00, 9.14776442e+00,\n",
       "       9.24590160e+00, 9.34509161e+00, 9.44534572e+00, 9.54667536e+00,\n",
       "       9.64909207e+00, 9.75260750e+00, 9.85723344e+00, 9.96298181e+00,\n",
       "       1.00698646e+01, 1.01778941e+01, 1.02870825e+01, 1.03974423e+01,\n",
       "       1.05089861e+01, 1.06217264e+01, 1.07356763e+01, 1.08508486e+01,\n",
       "       1.09672565e+01, 1.10849131e+01, 1.12038321e+01, 1.13240267e+01,\n",
       "       1.14455109e+01, 1.15682983e+01, 1.16924029e+01, 1.18178390e+01,\n",
       "       1.19446207e+01, 1.20727626e+01, 1.22022792e+01, 1.23331852e+01,\n",
       "       1.24654955e+01, 1.25992253e+01, 1.27343898e+01, 1.28710043e+01,\n",
       "       1.30090844e+01, 1.31486458e+01, 1.32897044e+01, 1.34322763e+01,\n",
       "       1.35763778e+01, 1.37220251e+01, 1.38692349e+01, 1.40180241e+01,\n",
       "       1.41684094e+01, 1.43204080e+01, 1.44740373e+01, 1.46293147e+01,\n",
       "       1.47862580e+01, 1.49448849e+01, 1.51052136e+01, 1.52672623e+01,\n",
       "       1.54310494e+01, 1.55965937e+01, 1.57639139e+01, 1.59330291e+01,\n",
       "       1.61039586e+01, 1.62767218e+01, 1.64513384e+01, 1.66278283e+01,\n",
       "       1.68062116e+01, 1.69865086e+01, 1.71687398e+01, 1.73529260e+01,\n",
       "       1.75390882e+01, 1.77272474e+01, 1.79174253e+01, 1.81096434e+01,\n",
       "       1.83039236e+01, 1.85002880e+01, 1.86987591e+01, 1.88993593e+01,\n",
       "       1.91021116e+01, 1.93070390e+01, 1.95141648e+01, 1.97235127e+01,\n",
       "       1.99351065e+01, 2.01489703e+01, 2.03651283e+01, 2.05836054e+01,\n",
       "       2.08044262e+01, 2.10276161e+01, 2.12532003e+01, 2.14812045e+01,\n",
       "       2.17116548e+01, 2.19445774e+01, 2.21799987e+01, 2.24179457e+01,\n",
       "       2.26584454e+01, 2.29015251e+01, 2.31472126e+01, 2.33955358e+01,\n",
       "       2.36465230e+01, 2.39002029e+01, 2.41566042e+01, 2.44157561e+01,\n",
       "       2.46776883e+01, 2.49424305e+01, 2.52100128e+01, 2.54804657e+01,\n",
       "       2.57538201e+01, 2.60301070e+01, 2.63093579e+01, 2.65916046e+01,\n",
       "       2.68768793e+01, 2.71652143e+01, 2.74566427e+01, 2.77511975e+01,\n",
       "       2.80489122e+01, 2.83498209e+01, 2.86539577e+01, 2.89613572e+01,\n",
       "       2.92720546e+01, 2.95860851e+01, 2.99034845e+01, 3.02242890e+01,\n",
       "       3.05485351e+01, 3.08762597e+01, 3.12075001e+01, 3.15422941e+01,\n",
       "       3.18806797e+01, 3.22226955e+01, 3.25683805e+01, 3.29177740e+01,\n",
       "       3.32709158e+01, 3.36278461e+01, 3.39886055e+01, 3.43532351e+01,\n",
       "       3.47217766e+01, 3.50942717e+01, 3.54707629e+01, 3.58512931e+01,\n",
       "       3.62359057e+01, 3.66246444e+01, 3.70175535e+01, 3.74146777e+01,\n",
       "       3.78160622e+01, 3.82217528e+01, 3.86317957e+01, 3.90462374e+01,\n",
       "       3.94651254e+01, 3.98885071e+01, 4.03164309e+01, 4.07489454e+01,\n",
       "       4.11861000e+01, 4.16279444e+01, 4.20745288e+01, 4.25259042e+01,\n",
       "       4.29821220e+01, 4.34432341e+01, 4.39092930e+01, 4.43803517e+01,\n",
       "       4.48564640e+01, 4.53376840e+01, 4.58240665e+01, 4.63156670e+01,\n",
       "       4.68125413e+01, 4.73147461e+01, 4.78223386e+01, 4.83353765e+01,\n",
       "       4.88539182e+01, 4.93780229e+01, 4.99077502e+01, 5.04431604e+01,\n",
       "       5.09843145e+01, 5.15312740e+01, 5.20841014e+01, 5.26428595e+01,\n",
       "       5.32076119e+01, 5.37784230e+01, 5.43553578e+01, 5.49384819e+01,\n",
       "       5.55278617e+01, 5.61235645e+01, 5.67256579e+01, 5.73342106e+01,\n",
       "       5.79492918e+01, 5.85709716e+01, 5.91993208e+01, 5.98344110e+01,\n",
       "       6.04763144e+01, 6.11251041e+01, 6.17808540e+01, 6.24436388e+01,\n",
       "       6.31135340e+01, 6.37906158e+01, 6.44749613e+01, 6.51666485e+01,\n",
       "       6.58657561e+01, 6.65723637e+01, 6.72865519e+01, 6.80084018e+01,\n",
       "       6.87379957e+01, 6.94754167e+01, 7.02207488e+01, 7.09740768e+01,\n",
       "       7.17354864e+01, 7.25050645e+01, 7.32828986e+01, 7.40690773e+01,\n",
       "       7.48636902e+01, 7.56668276e+01, 7.64785811e+01, 7.72990431e+01,\n",
       "       7.81283070e+01, 7.89664672e+01, 7.98136192e+01, 8.06698595e+01,\n",
       "       8.15352855e+01, 8.24099958e+01, 8.32940900e+01, 8.41876687e+01,\n",
       "       8.50908338e+01, 8.60036880e+01, 8.69263353e+01, 8.78588808e+01,\n",
       "       8.88014306e+01, 8.97540920e+01, 9.07169737e+01, 9.16901851e+01,\n",
       "       9.26738371e+01, 9.36680417e+01, 9.46729122e+01, 9.56885629e+01,\n",
       "       9.67151095e+01, 9.77526689e+01, 9.88013593e+01, 9.98612999e+01,\n",
       "       1.00932612e+02, 1.02015416e+02, 1.03109837e+02, 1.04216000e+02,\n",
       "       1.05334028e+02, 1.06464052e+02, 1.07606198e+02, 1.08760597e+02,\n",
       "       1.09927380e+02, 1.11106680e+02, 1.12298633e+02, 1.13503372e+02,\n",
       "       1.14721036e+02, 1.15951763e+02, 1.17195693e+02, 1.18452968e+02,\n",
       "       1.19723731e+02, 1.21008127e+02, 1.22306302e+02, 1.23618403e+02,\n",
       "       1.24944581e+02, 1.26284986e+02, 1.27639771e+02, 1.29009090e+02,\n",
       "       1.30393099e+02, 1.31791956e+02, 1.33205820e+02, 1.34634851e+02,\n",
       "       1.36079214e+02, 1.37539071e+02, 1.39014590e+02, 1.40505938e+02,\n",
       "       1.42013285e+02, 1.43536803e+02, 1.45076666e+02, 1.46633048e+02,\n",
       "       1.48206127e+02, 1.49796082e+02, 1.51403093e+02, 1.53027345e+02,\n",
       "       1.54669022e+02, 1.56328311e+02, 1.58005401e+02, 1.59700482e+02,\n",
       "       1.61413748e+02, 1.63145395e+02, 1.64895618e+02, 1.66664618e+02,\n",
       "       1.68452595e+02, 1.70259754e+02, 1.72086300e+02, 1.73932441e+02,\n",
       "       1.75798388e+02, 1.77684353e+02, 1.79590550e+02, 1.81517197e+02,\n",
       "       1.83464513e+02, 1.85432719e+02, 1.87422041e+02, 1.89432704e+02,\n",
       "       1.91464938e+02, 1.93518973e+02, 1.95595044e+02, 1.97693387e+02,\n",
       "       1.99814241e+02, 2.01957848e+02, 2.04124451e+02, 2.06314297e+02,\n",
       "       2.08527636e+02, 2.10764720e+02, 2.13025803e+02, 2.15311144e+02,\n",
       "       2.17621001e+02, 2.19955638e+02, 2.22315322e+02, 2.24700320e+02,\n",
       "       2.27110904e+02, 2.29547349e+02, 2.32009933e+02, 2.34498934e+02,\n",
       "       2.37014638e+02, 2.39557331e+02, 2.42127301e+02, 2.44724842e+02,\n",
       "       2.47350249e+02, 2.50003822e+02, 2.52685862e+02, 2.55396675e+02,\n",
       "       2.58136570e+02, 2.60905858e+02, 2.63704856e+02, 2.66533881e+02,\n",
       "       2.69393255e+02, 2.72283305e+02, 2.75204360e+02, 2.78156751e+02,\n",
       "       2.81140816e+02, 2.84156894e+02, 2.87205328e+02, 2.90286466e+02,\n",
       "       2.93400658e+02, 2.96548260e+02, 2.99729628e+02, 3.02945127e+02,\n",
       "       3.06195121e+02, 3.09479982e+02, 3.12800082e+02, 3.16155800e+02,\n",
       "       3.19547519e+02, 3.22975624e+02, 3.26440505e+02, 3.29942558e+02,\n",
       "       3.33482181e+02, 3.37059776e+02, 3.40675753e+02, 3.44330521e+02,\n",
       "       3.48024498e+02, 3.51758104e+02, 3.55531764e+02, 3.59345907e+02,\n",
       "       3.63200969e+02, 3.67097388e+02, 3.71035608e+02, 3.75016076e+02,\n",
       "       3.79039248e+02, 3.83105580e+02, 3.87215535e+02, 3.91369582e+02,\n",
       "       3.95568194e+02, 3.99811848e+02, 4.04101029e+02, 4.08436223e+02,\n",
       "       4.12817926e+02, 4.17246635e+02, 4.21722856e+02, 4.26247097e+02])"
      ]
     },
     "execution_count": 157,
     "metadata": {},
     "output_type": "execute_result"
    }
   ],
   "source": []
  },
  {
   "cell_type": "code",
   "execution_count": null,
   "metadata": {},
   "outputs": [],
   "source": []
  }
 ],
 "metadata": {
  "kernelspec": {
   "display_name": "Python 3",
   "language": "python",
   "name": "python3"
  },
  "language_info": {
   "codemirror_mode": {
    "name": "ipython",
    "version": 3
   },
   "file_extension": ".py",
   "mimetype": "text/x-python",
   "name": "python",
   "nbconvert_exporter": "python",
   "pygments_lexer": "ipython3",
   "version": "3.7.0"
  }
 },
 "nbformat": 4,
 "nbformat_minor": 2
}
