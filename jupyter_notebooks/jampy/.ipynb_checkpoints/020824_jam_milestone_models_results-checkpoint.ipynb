{
 "cells": [
  {
   "cell_type": "markdown",
   "metadata": {},
   "source": [
    "# 02/08/24 - Results from my scripts today.\n",
    "# 02/07/24 - Added spherical modeling and OM anisotropy\n",
    "# 02/02/24 - Modified so that I can show the differences between cyl/sph and MFL/PL\n",
    "# 02/01/24 - This notebook was copied from 011924_jam_mass_profile_testing.ipynb and will be used to measure the enclossed mass within the einstein radius of mass-follows-light models\n",
    "______________\n",
    "# 01/19/24 - This notebook tests my mass profile class \"total_mass_mge\" in e.g.\n",
    "# 01/29/24 - Added looking at the mass profile and brightness profile at Michele's suggestion, using the mass-follows-light to compare with powerlaw\n",
    "# 01/30/24 - Added Michele's power law code to see if I can reproduce it.\n",
    "## Shawn wrote this. I've compiled this to be ready for Michele to test."
   ]
  },
  {
   "cell_type": "code",
   "execution_count": null,
   "metadata": {},
   "outputs": [],
   "source": [
    "# import general libraries and modules\n",
    "import numpy as np\n",
    "import matplotlib.pyplot as plt\n",
    "import matplotlib as mpl\n",
    "mpl.rcParams['mathtext.fontset'] = 'dejavuserif'\n",
    "plt.rcParams[\"figure.figsize\"] = (8, 6)\n",
    "plt.rcParams.update({'font.size': 16})\n",
    "%matplotlib inline\n",
    "import pandas as pd\n",
    "import dill as pickle\n",
    "from glob import glob\n",
    "\n",
    "# astronomy/scipy\n",
    "from astropy.cosmology import FlatLambdaCDM\n",
    "cosmo = FlatLambdaCDM(H0=70, Om0=0.3, Tcmb0=2.725)\n",
    "import astropy.units as u\n",
    "import astropy.constants as constants\n",
    "\n",
    "# ppxf/capfit\n",
    "from ppxf.capfit import capfit\n",
    "\n",
    "# mge fit\n",
    "import mgefit\n",
    "from mgefit.mge_fit_1d import mge_fit_1d\n",
    "\n",
    "# jampy\n",
    "from jampy.jam_axi_proj import jam_axi_proj\n",
    "from jampy.jam_sph_proj import jam_sph_proj\n",
    "from jampy.mge_half_light_isophote import mge_half_light_isophote\n",
    "from jampy.mge_half_light_isophote import mge_half_light_radius\n",
    "\n",
    "# plotbin\n",
    "from plotbin.plot_velfield import plot_velfield\n",
    "from plotbin.symmetrize_velfield import symmetrize_velfield\n",
    "from plotbin.sauron_colormap import register_sauron_colormap\n",
    "register_sauron_colormap()\n",
    "\n",
    "\n",
    "# my functions\n",
    "import sys\n",
    "sys.path.append(\"/home/shawnknabel/Documents/slacs_kinematics/my_python_packages\")\n",
    "import slacs_mge_jampy\n",
    "\n",
    "################################################################\n",
    "# some needed information\n",
    "kcwi_scale = 0.1457  # arcsec/pixel\n",
    "\n",
    "# value of c^2 / 4 pi G\n",
    "c2_4piG = (constants.c **2 / constants.G / 4 / np.pi).to('solMass/pc')\n"
   ]
  },
  {
   "cell_type": "code",
   "execution_count": null,
   "metadata": {
    "tags": []
   },
   "outputs": [],
   "source": [
    "#################################################\n",
    "# objects\n",
    "obj_names = ['SDSSJ0029-0055', \n",
    "             'SDSSJ0037-0942',\n",
    "             'SDSSJ0330-0020',\n",
    "             'SDSSJ1112+0826',\n",
    "             'SDSSJ1204+0358',\n",
    "             'SDSSJ1250+0523',\n",
    "             'SDSSJ1306+0600',\n",
    "             'SDSSJ1402+6321',\n",
    "             'SDSSJ1531-0105',\n",
    "             'SDSSJ1538+5817',\n",
    "             'SDSSJ1621+3931',\n",
    "             'SDSSJ1627-0053',\n",
    "             'SDSSJ1630+4520',\n",
    "             'SDSSJ2303+1422'\n",
    "            ]"
   ]
  },
  {
   "cell_type": "code",
   "execution_count": null,
   "metadata": {
    "tags": []
   },
   "outputs": [],
   "source": [
    "#################################################\n",
    "# directories and tables\n",
    "\n",
    "date_of_kin = '2023-02-28_2'\n",
    "# data directory\n",
    "data_dir = '/data/raw_data/KECK_KCWI_SLACS_kinematics_shawn/'\n",
    "hst_dir = '/data/raw_data/HST_SLACS_ACS/kcwi_kinematics_lenses/'\n",
    "tables_dir = f'{data_dir}tables/'\n",
    "mosaics_dir = f'{data_dir}mosaics/'\n",
    "kinematics_full_dir = f'{data_dir}kinematics/'\n",
    "kinematics_dir =f'{kinematics_full_dir}{date_of_kin}/'\n",
    "jam_output_dir = f'{data_dir}jam_outputs/2024_02_07_jam_milestone_outputs/'\n",
    "milestone_dir = f'{data_dir}milestone23_data/'\n",
    "\n",
    "paper_table = pd.read_csv(f'{tables_dir}paper_table_100223.csv')\n",
    "slacs_ix_table = pd.read_csv(f'{tables_dir}slacs_ix_table3.csv')\n",
    "zs = paper_table['zlens']\n",
    "zlenses = slacs_ix_table['z_lens']\n",
    "zsources = slacs_ix_table['z_src']\n",
    "# get the revised KCWI sigmapsf\n",
    "sigmapsf_table = pd.read_csv(f'{tables_dir}kcwi_sigmapsf_estimates.csv')\n",
    "lens_models = pd.read_csv(f'{tables_dir}lens_models_table_chinyi.csv')"
   ]
  },
  {
   "cell_type": "code",
   "execution_count": null,
   "metadata": {
    "tags": []
   },
   "outputs": [],
   "source": [
    "lens_models_chinyi = pd.read_csv(f'{tables_dir}lens_models_table_chinyi.csv')\n",
    "lens_models_chinyi_sys = pd.read_csv(f'{tables_dir}lens_models_table_chinyi_with_sys.csv')\n",
    "lens_models_anowar = pd.read_csv(f'{tables_dir}lens_models_table_anowar.csv')\n",
    "\n",
    "lens_models_chinyi_sys.rename(columns={'dgamma':'gamma_err',\n",
    "                                       'dgamma_sys':'gamma_sys',\n",
    "                                      },inplace=True)\n",
    "\n",
    "\n",
    "lens_models_chinyi_sys['dgamma'] = np.sqrt( lens_models_chinyi_sys['gamma_err']**2 + lens_models_chinyi_sys['gamma_sys']**2 )\n",
    "lens_models_chinyi_sys.loc[9, 'dgamma'] = np.sqrt( lens_models_chinyi_sys.loc[9, 'gamma_err']**2 + np.nanmean(lens_models_chinyi_sys['gamma_sys'])**2)\n",
    "lens_models = lens_models_chinyi_sys"
   ]
  },
  {
   "cell_type": "markdown",
   "metadata": {},
   "source": [
    "# Functions needed to get the data, etc"
   ]
  },
  {
   "cell_type": "code",
   "execution_count": null,
   "metadata": {
    "tags": []
   },
   "outputs": [],
   "source": [
    "###############################################################################\n",
    "\n",
    "# class to collect and save all the attributes I need for jampy\n",
    "class jampy_details:\n",
    "    \n",
    "    def __init__(details, surf_density, mge_sigma, q, kcwi_sigmapsf, Vrms_bin, dVrms_bin, V_bin, dV_bin, xbin_phot, ybin_phot, reff):\n",
    "        details.surf_density=surf_density \n",
    "        details.mge_sigma=mge_sigma\n",
    "        details.q=q \n",
    "        details.kcwi_sigmapst=kcwi_sigmapsf \n",
    "        details.Vrms_bin=Vrms_bin \n",
    "        details.dVrms_bind=dVrms_bin\n",
    "        details.V_bin=V_bin \n",
    "        details.dV_bin=dV_bin \n",
    "        details.xbin_phot=xbin_phot \n",
    "        details.ybin_phot=ybin_phot\n",
    "        details.reff=reff\n",
    "        \n",
    "        \n",
    "###############################################################################\n",
    "\n",
    "\n",
    "def prepare_to_jam(obj_name, file_dir, SN):\n",
    "\n",
    "    # take the surface density, etc from mge saved parameters\n",
    "    with open(f'{file_dir}{obj_name}_{SN}_details_for_jampy.pkl', 'rb') as f:\n",
    "        tommy_pickles = pickle.load(f)\n",
    "        \n",
    "    surf = tommy_pickles.surf_density\n",
    "    sigma = tommy_pickles.mge_sigma\n",
    "    qObs = tommy_pickles.q\n",
    "    #kcwi_sigmapsf = tommy_pickles.kcwi_sigmapst # mistake in name  \n",
    "    try:\n",
    "        kcwi_sigmapsf = tommy_pickles.kcwi_sigmapsf\n",
    "    except:\n",
    "        kcwi_sigmapsf = tommy_pickles.kcwi_sigmapst\n",
    "    Vrms_bin = tommy_pickles.Vrms_bin\n",
    "    try:\n",
    "        dVrms_bin = tommy_pickles.dVrms_bin \n",
    "    except:\n",
    "        dVrms_bin = tommy_pickles.dVrms_bind # mistake in name\n",
    "    V_bin = tommy_pickles.V_bin\n",
    "    dV_bin = tommy_pickles.dV_bin\n",
    "    xbin_phot = tommy_pickles.xbin_phot\n",
    "    ybin_phot = tommy_pickles.ybin_phot\n",
    "    reff = tommy_pickles.reff\n",
    "    \n",
    "    return (surf, sigma, qObs, kcwi_sigmapsf, Vrms_bin, dVrms_bin, V_bin, dV_bin, xbin_phot, ybin_phot, reff)\n",
    "\n",
    "def calculate_1d_gaussian(r, amp, sigma):\n",
    "    return amp * np.exp(-1/2 * r**2 / sigma**2)\n",
    "\n"
   ]
  },
  {
   "cell_type": "markdown",
   "metadata": {
    "tags": []
   },
   "source": [
    "# Michele's power law code"
   ]
  },
  {
   "cell_type": "code",
   "execution_count": null,
   "metadata": {
    "tags": []
   },
   "outputs": [],
   "source": [
    "###############################################################################\n",
    "\n",
    "def total_mass_mge_cap(gamma, rbreak):\n",
    "    \"\"\"\n",
    "    Returns the MGE parameters for a generalized NFW dark halo profile\n",
    "    https://ui.adsabs.harvard.edu/abs/2001ApJ...555..504W\n",
    "    - gamma is the inner logarithmic slope (gamma = -1 for NFW)\n",
    "    - rbreak is the break radius in arcsec\n",
    "\n",
    "    \"\"\"\n",
    "    # The fit is performed in log spaced radii from 0.01\" to 10*rbreak\n",
    "    n = 1000#300     # Number of values to sample the gNFW profile for the MGE fit\n",
    "    r = np.geomspace(0.01, rbreak, n)   # logarithmically spaced radii in arcsec\n",
    "    rho = (r/rbreak)**gamma * (0.5 + 0.5*r/rbreak)**(-gamma - 3)  # rho=1 at r=rbreak\n",
    "    ngauss=30#15\n",
    "    m = mge_fit_1d(r, rho, ngauss=ngauss, inner_slope=2, outer_slope=3, quiet=1, plot=1)\n",
    "\n",
    "    surf_dm, sigma_dm = m.sol           # Peak surface density and sigma\n",
    "    #surf_dm /= np.sqrt(2*np.pi*sigma_dm**2)\n",
    "    qobs_dm = np.ones_like(surf_dm)     # Assume spherical dark halo\n",
    "\n",
    "    return surf_dm, sigma_dm, qobs_dm\n",
    "\n",
    "###############################################################################\n",
    "\n",
    "def jam_resid(pars, surf_lum=None, sigma_lum=None, qobs_lum=None, \n",
    "              distance=None, align=None, goodbins=None,\n",
    "              xbin=None, ybin=None, sigmapsf=None, normpsf=None, \n",
    "              rms=None, erms=None, pixsize=None, plot=True, return_mge=False):\n",
    "\n",
    "    q, ratio, gamma = pars\n",
    "\n",
    "    # Sample inclination using min(q), with Equation (14) of Cappellari (2008)\n",
    "    qmin = np.min(qobs_lum)\n",
    "    inc = np.degrees(np.arctan2(np.sqrt(1 - qmin**2), np.sqrt(qmin**2 - q**2)))\n",
    "    beta = np.full_like(qobs_lum, 1 - ratio**2)   # assume constant anisotropy\n",
    "\n",
    "    rbreak = 50 # arcsec 20*reff\n",
    "    mbh = 0                     # Ignore the central black hole\n",
    "    surf_pot, sigma_pot, qobs_pot = total_mass_mge_cap(gamma, rbreak)\n",
    "\n",
    "    jam = jam_axi_proj(surf_lum, sigma_lum, qobs_lum, surf_pot, sigma_pot, qobs_pot,\n",
    "                       inc, mbh, distance, xbin, ybin, plot=plot, pixsize=pixsize, quiet=1,\n",
    "                       sigmapsf=sigmapsf, normpsf=normpsf, goodbins=goodbins, align=align,\n",
    "                       beta=beta, data=rms, errors=erms, ml=None)\n",
    "    resid = (rms[goodbins] - jam.model[goodbins])/erms[goodbins]\n",
    "    chi2 = np.sum(resid**2)\n",
    "    \n",
    "    if return_mge==True:\n",
    "        \n",
    "        # return the mass mge multiplied by the ml from jam\n",
    "        return surf_pot*jam.ml, sigma_pot, qobs_pot, chi2\n",
    "    \n",
    "    else:\n",
    "        return resid   # ln(likelihood) + cost.\n",
    "\n"
   ]
  },
  {
   "cell_type": "code",
   "execution_count": null,
   "metadata": {
    "tags": []
   },
   "outputs": [],
   "source": [
    "def calculate_mass_and_slope_enclosed(surf_pot, sigma_pot, qobs_pot, distance, radius, plot=False):\n",
    "    \n",
    "    # circularize mass\n",
    "    pc = distance*np.pi/0.648 # constant factor arcsec -> pc\n",
    "    sigma = sigma_pot*np.sqrt(qobs_pot) # circularize while conserving mass\n",
    "    mass = 2*np.pi*surf_pot*(sigma*pc)**2 # keep peak surface brightnesss of each gaussian\n",
    "    mass_tot = np.sum(mass)\n",
    "    \n",
    "    # radii to sample\n",
    "    nrad = 50\n",
    "    rmin = 0.01 #np.min(sigma)\n",
    "    rad = np.geomspace(rmin, radius, nrad) # arcsec\n",
    "    \n",
    "    # enclosed mass is integral\n",
    "    mass_enclosed = (mass*(1 - np.exp(-0.5*(rad[:, None]/sigma)**2))).sum(1)[-1]\n",
    "    \n",
    "    # slope is average over interval\n",
    "    mass_profile_1d = np.zeros_like(rad, dtype=float)\n",
    "    for i in range(len(surf_pot)):\n",
    "        amp = surf_pot[i]\n",
    "        sigma = sigma_pot[i]\n",
    "        q = qobs_pot[i]\n",
    "        zz = calculate_1d_gaussian(rad, amp, sigma)\n",
    "        mass_profile_1d += zz\n",
    "    # diff in log space minus 1 (because we're in surface mass density    \n",
    "    gamma_avg = (np.log(mass_profile_1d[-1])-np.log(mass_profile_1d[0]))/(np.log(rad[-1])-np.log(rad[0]))-1\n",
    "    \n",
    "    # add up the mass profile\n",
    "    r = np.geomspace(np.min(sigma_pot), np.max(sigma_pot), nrad) # arcsec\n",
    "    # slope is average over interval\n",
    "    mass_profile_1d = np.zeros_like(r, dtype=float)\n",
    "    for i in range(len(surf_pot)):\n",
    "        amp = surf_pot[i]\n",
    "        sigma = sigma_pot[i]\n",
    "        q = qobs_pot[i]\n",
    "        zz = calculate_1d_gaussian(r, amp, sigma)\n",
    "        mass_profile_1d += zz\n",
    "        \n",
    "    if plot==True:\n",
    "        plt.loglog(r, mass_profile_1d)\n",
    "        plt.pause(1)\n",
    "        \n",
    "    return mass_enclosed, gamma_avg, r, mass_profile_1d\n"
   ]
  },
  {
   "cell_type": "markdown",
   "metadata": {
    "tags": []
   },
   "source": [
    "# PL, constant anisotropy"
   ]
  },
  {
   "cell_type": "code",
   "execution_count": null,
   "metadata": {
    "tags": []
   },
   "outputs": [],
   "source": [
    "# anis_ratio, gamma_fit, mass_enclosed, gamma\n",
    "\n",
    "# axisymmetric sph\n",
    "pl_const_axisph_solutions = np.genfromtxt(f'{jam_output_dir}jam_pl_const_axicyl_solutions_02072024.txt')\n",
    "pl_const_axisph_cov = np.genfromtxt(f'{jam_output_dir}jam_pl_const_axicyl_covariances_02072024.txt')\n",
    "pl_const_axisph_mass_profiles = np.genfromtxt(f'{jam_output_dir}jam_pl_const_axicyl_profiles_02072024.txt')\n"
   ]
  },
  {
   "cell_type": "markdown",
   "metadata": {},
   "source": [
    "# Get the different combinations of things\n",
    "## PL, MFL, Const, OM, axicyl, axisph, sphsph"
   ]
  },
  {
   "cell_type": "code",
   "execution_count": null,
   "metadata": {
    "tags": []
   },
   "outputs": [],
   "source": [
    "# mass model\n",
    "pl = glob(f'{jam_output_dir}*pl*.txt')\n",
    "pl_sol = glob(f'{jam_output_dir}*pl*sol*.txt')\n",
    "mfl = glob(f'{jam_output_dir}*mfl*.txt')\n",
    "mfl_sol = glob(f'{jam_output_dir}*mfl*sol*.txt')\n",
    "# anisotropy\n",
    "const = glob(f'{jam_output_dir}*const*.txt')\n",
    "const_sol = glob(f'{jam_output_dir}*const*sol*.txt')\n",
    "om = glob(f'{jam_output_dir}*om*.txt')\n",
    "om_sol = glob(f'{jam_output_dir}*om*sol*.txt')\n",
    "# geometry\n",
    "axicyl = glob(f'{jam_output_dir}*axicyl*.txt')\n",
    "axicyl_sol = glob(f'{jam_output_dir}*axicyl*sol*.txt')\n",
    "axisph = glob(f'{jam_output_dir}*axisph*.txt')\n",
    "axisph_sol = glob(f'{jam_output_dir}*axisph*sol*.txt')\n",
    "sphsph = glob(f'{jam_output_dir}*sphsph*.txt')\n",
    "sphsph_sol = glob(f'{jam_output_dir}*sphsph*sol*.txt')\n"
   ]
  },
  {
   "cell_type": "markdown",
   "metadata": {},
   "source": [
    "# Start with power law slope"
   ]
  },
  {
   "cell_type": "code",
   "execution_count": null,
   "metadata": {
    "tags": []
   },
   "outputs": [],
   "source": [
    "pl_sol"
   ]
  },
  {
   "cell_type": "code",
   "execution_count": null,
   "metadata": {
    "tags": []
   },
   "outputs": [],
   "source": [
    "pl_sol.sort()"
   ]
  },
  {
   "cell_type": "code",
   "execution_count": null,
   "metadata": {
    "tags": []
   },
   "outputs": [],
   "source": [
    "pl_sol"
   ]
  },
  {
   "cell_type": "code",
   "execution_count": null,
   "metadata": {
    "tags": []
   },
   "outputs": [],
   "source": [
    "gammas = np.empty((5, 14))\n",
    "gamma_errs = np.empty((5,14))\n",
    "pl_labels = ['const axi cyl',\n",
    "                'const axi sph',\n",
    "                'const sph',\n",
    "                'om axi sph',\n",
    "                'om sph'\n",
    "               ]"
   ]
  },
  {
   "cell_type": "code",
   "execution_count": null,
   "metadata": {
    "tags": []
   },
   "outputs": [],
   "source": [
    "plt.figure(figsize=(8,6))\n",
    "\n",
    "for i, file in enumerate(pl_sol):\n",
    "    \n",
    "    # get the solutions\n",
    "    solutions = np.genfromtxt(file)\n",
    "    \n",
    "    \n",
    "    # gamma and gamma_err are index 3 and 4\n",
    "    gamma = solutions[:,3]\n",
    "    gamma_err = solutions[:,4]\n",
    "    \n",
    "    gammas[i] = gamma\n",
    "    gamma_errs[i] = gamma_err\n",
    "    \n",
    "    alpha=0.7\n",
    "    # plot\n",
    "    x = range(14)\n",
    "    #plt.errorbar(x, gamma, yerr=gamma_err, label=file)\n",
    "    plt.scatter(x, gamma, label=pl_labels[i], alpha=alpha, edgecolor='k', s=100)\n",
    "    plt.legend()\n",
    "    plt.ylim(-2.5, -1.4)\n",
    "    "
   ]
  },
  {
   "cell_type": "markdown",
   "metadata": {},
   "source": [
    "## Bring in the lens models"
   ]
  },
  {
   "cell_type": "code",
   "execution_count": 278,
   "metadata": {
    "tags": []
   },
   "outputs": [],
   "source": [
    "lens_gammas = lens_models['gamma'] #np.delete(lens_models['gamma'], 2)\n",
    "lens_gamma_errs = lens_models['dgamma'] #np.delete(lens_models['dgamma'], 2)"
   ]
  },
  {
   "cell_type": "code",
   "execution_count": 279,
   "metadata": {
    "tags": []
   },
   "outputs": [],
   "source": [
    "# Just remove 2 altogether\n",
    "\n",
    "#gammas = np.delete(gammas, 2, axis=1)\n",
    "#gamma_errs = np.delete(gamma_errs, 2, axis=1)"
   ]
  },
  {
   "cell_type": "code",
   "execution_count": 280,
   "metadata": {
    "tags": []
   },
   "outputs": [],
   "source": [
    "pl_colors = ['r','b','g','orange','purple']\n",
    "pl_markers = ['o','>','s','D','^']"
   ]
  },
  {
   "cell_type": "code",
   "execution_count": 281,
   "metadata": {
    "tags": []
   },
   "outputs": [
    {
     "name": "stderr",
     "output_type": "stream",
     "text": [
      "/tmp/ipykernel_12889/2093427999.py:21: UserWarning: You passed a edgecolor/edgecolors ('k') for an unfilled marker ('x').  Matplotlib is ignoring the edgecolor in favor of the facecolor.  This behavior may change in the future.\n",
      "  plt.scatter(j, -gamma, label=label, alpha=alpha, color=pl_colors[i], edgecolor='k', s=100, marker=marker)\n"
     ]
    },
    {
     "data": {
      "text/plain": [
       "Text(0.5, 0, 'object')"
      ]
     },
     "execution_count": 281,
     "metadata": {},
     "output_type": "execute_result"
    },
    {
     "data": {
      "image/png": "[encoded data removed]",
      "text/plain": [
       "<Figure size 800x600 with 1 Axes>"
      ]
     },
     "metadata": {},
     "output_type": "display_data"
    }
   ],
   "source": [
    "# plot them, but indicate where one of them was extremely bad\n",
    "\n",
    "for i, model in enumerate(gammas):\n",
    "    \n",
    "    for j, gamma in enumerate(model):\n",
    "        \n",
    "        if gamma > -1.4:\n",
    "            marker='x'\n",
    "            gamma = -1.4\n",
    "        else:\n",
    "            marker=pl_markers[i]\n",
    "        \n",
    "        if j==len(model)-1:\n",
    "            label = pl_labels[i]\n",
    "        else:\n",
    "            label = None\n",
    "            \n",
    "        alpha=0.7\n",
    "        # plot\n",
    "        #plt.errorbar(x, gamma, yerr=gamma_err, label=file)\n",
    "        plt.scatter(j, -gamma, label=label, alpha=alpha, color=pl_colors[i], edgecolor='k', s=100, marker=marker)\n",
    "    \n",
    "plt.scatter(range(14), lens_gammas, c='k', s=100, marker='*', label='lens model')\n",
    "    \n",
    "plt.legend(loc=(1.01,0.5))\n",
    "plt.ylim(1.4, 2.5)\n",
    "plt.ylabel(r'$\\gamma$', rotation='horizontal', labelpad=10)\n",
    "plt.xlabel('object')"
   ]
  },
  {
   "cell_type": "code",
   "execution_count": 282,
   "metadata": {
    "tags": []
   },
   "outputs": [
    {
     "data": {
      "text/plain": [
       "Text(0.5, 0, 'object')"
      ]
     },
     "execution_count": 282,
     "metadata": {},
     "output_type": "execute_result"
    },
    {
     "data": {
      "image/png": "[encoded data removed]",
      "text/plain": [
       "<Figure size 800x600 with 1 Axes>"
      ]
     },
     "metadata": {},
     "output_type": "display_data"
    }
   ],
   "source": [
    "# plot them, but indicate where one of them was extremely bad\n",
    "\n",
    "for i, model in enumerate(gammas):\n",
    "    \n",
    "    for j, gamma in enumerate(model):\n",
    "        \n",
    "        gamma_err = gamma_errs[i,j]\n",
    "        if gamma > -1.4:\n",
    "            marker='x'\n",
    "            gamma = -1.4\n",
    "            gamma_err = 0\n",
    "            markeredgecolor=pl_colors[i]\n",
    "        else:\n",
    "            marker=pl_markers[i]\n",
    "            markeredgecolor='k'\n",
    "        \n",
    "        if j==len(model)-1:\n",
    "            label = pl_labels[i]\n",
    "        else:\n",
    "            label = None\n",
    "            \n",
    "        alpha=0.7\n",
    "        # plot\n",
    "        #plt.errorbar(x, gamma, yerr=gamma_err, label=file)\n",
    "        plt.errorbar(j, -gamma, yerr=gamma_err, label=label, alpha=alpha, color=pl_colors[i], markerfacecolor=pl_colors[i], markeredgecolor=markeredgecolor, markersize=10, marker=marker, capsize=5)\n",
    "    \n",
    "plt.errorbar(range(14), lens_gammas, yerr=lens_gamma_errs, c='k', markersize=10, marker='*', ls='none', label='lens model', capsize=5)\n",
    "    \n",
    "plt.legend(loc=(1.01,0.5))\n",
    "plt.ylim(1.4, 2.5)\n",
    "plt.ylabel(r'$\\gamma$', rotation='horizontal', labelpad=10)\n",
    "plt.xlabel('object')"
   ]
  },
  {
   "cell_type": "code",
   "execution_count": 195,
   "metadata": {
    "tags": []
   },
   "outputs": [
    {
     "data": {
      "text/plain": [
       "array([[0.09215648, 0.02838206, 0.06461047, 0.00609226, 0.0210008 ,\n",
       "        0.16264135, 0.01316311, 0.10210806, 0.02715939, 0.28599383,\n",
       "        0.06903884, 0.05194858, 0.04285273],\n",
       "       [0.07216268, 0.02834568, 0.06517255, 0.05489504, 0.0206835 ,\n",
       "        0.15445927, 0.01291977, 0.10431619, 0.06457602, 0.28718667,\n",
       "        0.07894764, 0.05772364, 0.04303007]])"
      ]
     },
     "execution_count": 195,
     "metadata": {},
     "output_type": "execute_result"
    }
   ],
   "source": [
    "gamma_errs[:2]"
   ]
  },
  {
   "cell_type": "code",
   "execution_count": 86,
   "metadata": {
    "tags": []
   },
   "outputs": [
    {
     "data": {
      "text/plain": [
       "array([[-2.13302633, -2.14149972, -1.99419008, -2.06907222, -2.04510158,\n",
       "        -1.8920132 , -2.08410461, -2.17115775, -2.07708876, -2.04511909,\n",
       "        -1.99419243, -2.09978624, -1.80683748],\n",
       "       [-2.13365867, -2.1414828 , -1.99422923, -2.04833678, -2.04755037,\n",
       "        -1.89093163, -2.08407398, -2.17096627, -2.0301378 , -2.04565467,\n",
       "        -2.00701098, -2.10195708, -1.80711871]])"
      ]
     },
     "execution_count": 86,
     "metadata": {},
     "output_type": "execute_result"
    }
   ],
   "source": [
    "gammas[:2]"
   ]
  },
  {
   "cell_type": "markdown",
   "metadata": {},
   "source": [
    "# Look at anisotropy"
   ]
  },
  {
   "cell_type": "code",
   "execution_count": 283,
   "metadata": {
    "tags": []
   },
   "outputs": [],
   "source": [
    "anis = np.empty((5, 14))\n",
    "ani_errs = np.empty((5,14))\n"
   ]
  },
  {
   "cell_type": "code",
   "execution_count": 285,
   "metadata": {
    "tags": []
   },
   "outputs": [
    {
     "name": "stdout",
     "output_type": "stream",
     "text": [
      "/data/raw_data/KECK_KCWI_SLACS_kinematics_shawn/jam_outputs/2024_02_07_jam_milestone_outputs/jam_pl_const_axicyl_solutions_02072024.txt\n",
      "/data/raw_data/KECK_KCWI_SLACS_kinematics_shawn/jam_outputs/2024_02_07_jam_milestone_outputs/jam_pl_const_axisph_solutions_02072024.txt\n",
      "/data/raw_data/KECK_KCWI_SLACS_kinematics_shawn/jam_outputs/2024_02_07_jam_milestone_outputs/jam_pl_const_sphsph_solutions_02072024.txt\n",
      "/data/raw_data/KECK_KCWI_SLACS_kinematics_shawn/jam_outputs/2024_02_07_jam_milestone_outputs/jam_pl_om_axisph_solutions_02072024.txt\n",
      "/data/raw_data/KECK_KCWI_SLACS_kinematics_shawn/jam_outputs/2024_02_07_jam_milestone_outputs/jam_pl_om_sphsph_solutions_02072024.txt\n"
     ]
    },
    {
     "data": {
      "image/png": "[encoded data removed]",
      "text/plain": [
       "<Figure size 800x600 with 1 Axes>"
      ]
     },
     "metadata": {},
     "output_type": "display_data"
    }
   ],
   "source": [
    "plt.figure(figsize=(8,6))\n",
    "\n",
    "for i, file in enumerate(pl_sol):\n",
    "    print(file)\n",
    "    \n",
    "    # get the solutions\n",
    "    solutions = np.genfromtxt(file)\n",
    "    \n",
    "    \n",
    "    # gamma and gamma_err are index 3 and 4\n",
    "    ani = solutions[:,1]\n",
    "    ani_err = solutions[:,2]\n",
    "    \n",
    "    anis[i] = ani\n",
    "    ani_errs[i] = ani_err\n",
    "    \n",
    "    alpha=0.7\n",
    "    # plot\n",
    "    x = range(14)\n",
    "    #plt.errorbar(x, gamma, yerr=gamma_err, label=file)\n",
    "    plt.scatter(x, ani, label=pl_labels[i], alpha=alpha, edgecolor='k', s=100)\n",
    "    plt.legend()\n",
    "    #plt.ylim(-2.5, -1.4)"
   ]
  },
  {
   "cell_type": "markdown",
   "metadata": {
    "tags": []
   },
   "source": [
    "# Just remove 2 altogether\n",
    "\n",
    "anis = np.delete(anis, 2, axis=1)\n",
    "ani_errs = np.delete(ani_errs, 2, axis=1)"
   ]
  },
  {
   "cell_type": "code",
   "execution_count": 295,
   "metadata": {
    "tags": []
   },
   "outputs": [
    {
     "name": "stderr",
     "output_type": "stream",
     "text": [
      "/tmp/ipykernel_12889/2174062431.py:28: UserWarning: You passed a edgecolor/edgecolors ('k') for an unfilled marker ('x').  Matplotlib is ignoring the edgecolor in favor of the facecolor.  This behavior may change in the future.\n",
      "  plt.scatter(j, beta, label=label, alpha=alpha, color=pl_colors[i], edgecolor='k', s=100, marker=marker)\n"
     ]
    },
    {
     "data": {
      "text/plain": [
       "(-0.85, 1.0)"
      ]
     },
     "execution_count": 295,
     "metadata": {},
     "output_type": "execute_result"
    },
    {
     "data": {
      "image/png": "[encoded data removed]",
      "text/plain": [
       "<Figure size 800x600 with 1 Axes>"
      ]
     },
     "metadata": {},
     "output_type": "display_data"
    }
   ],
   "source": [
    "# Look at only constant anis\n",
    "\n",
    "plt.figure(figsize=(8,6))\n",
    "\n",
    "for i, model in enumerate(anis[:3]):\n",
    "    \n",
    "    for j, ani in enumerate(model):\n",
    "        \n",
    "        # take the beta value\n",
    "        beta = 1-ani**2\n",
    "        \n",
    "        if beta==-3:\n",
    "            marker='x'\n",
    "            beta=-0.85\n",
    "        elif beta==1:\n",
    "            marker='x'\n",
    "        else:\n",
    "            marker=pl_markers[i]\n",
    "        \n",
    "        if j==len(model)-1:\n",
    "            label = pl_labels[i]\n",
    "        else:\n",
    "            label = None\n",
    "            \n",
    "        alpha=0.7\n",
    "        # plot\n",
    "        #plt.errorbar(x, gamma, yerr=gamma_err, label=file)\n",
    "        plt.scatter(j, beta, label=label, alpha=alpha, color=pl_colors[i], edgecolor='k', s=100, marker=marker)\n",
    "        \n",
    "plt.legend(loc=(1.01,0.5))\n",
    "plt.ylabel(r'$\\beta$', rotation='horizontal', labelpad=10)\n",
    "plt.xlabel('object')\n",
    "plt.ylim(-0.85, 1)"
   ]
  },
  {
   "cell_type": "code",
   "execution_count": 294,
   "metadata": {
    "tags": []
   },
   "outputs": [
    {
     "data": {
      "text/plain": [
       "(-0.85, 1.0)"
      ]
     },
     "execution_count": 294,
     "metadata": {},
     "output_type": "execute_result"
    },
    {
     "data": {
      "image/png": "[encoded data removed]",
      "text/plain": [
       "<Figure size 800x600 with 1 Axes>"
      ]
     },
     "metadata": {},
     "output_type": "display_data"
    }
   ],
   "source": [
    "# Look at only constant anis\n",
    "\n",
    "plt.figure(figsize=(8,6))\n",
    "\n",
    "for i, model in enumerate(anis[:3]):\n",
    "    \n",
    "    for j, ani in enumerate(model):\n",
    "        \n",
    "        ani_err = ani_errs[i,j]\n",
    "        \n",
    "        # take the beta value\n",
    "        beta = 1-ani**2\n",
    "        beta_err = np.sqrt(np.square(2 * beta * ani_err / ani))\n",
    "        \n",
    "        if beta==-3:\n",
    "            marker='x'\n",
    "            beta=-0.85\n",
    "            beta_err=0\n",
    "            markeredgecolor=pl_colors[i]\n",
    "        else:\n",
    "            marker=pl_markers[i]\n",
    "            markeredgecolor='k'\n",
    "        \n",
    "        if j==len(model)-1:\n",
    "            label = pl_labels[i]\n",
    "        else:\n",
    "            label = None\n",
    "            \n",
    "        alpha=0.7\n",
    "        # plot\n",
    "        #plt.errorbar(x, gamma, yerr=gamma_err, label=file)\n",
    "        plt.errorbar(j, beta, yerr=beta_err, label=label, alpha=alpha, color=pl_colors[i], markeredgecolor=markeredgecolor, markersize=10, marker=marker, capsize=5)\n",
    "        \n",
    "plt.legend(loc=(1.01,0.5))\n",
    "plt.ylabel(r'$\\beta$', rotation='horizontal', labelpad=10)\n",
    "plt.xlabel('object')\n",
    "plt.ylim(-0.85, 1)"
   ]
  },
  {
   "cell_type": "code",
   "execution_count": 289,
   "metadata": {
    "tags": []
   },
   "outputs": [
    {
     "data": {
      "text/plain": [
       "Text(0.5, 0, 'object')"
      ]
     },
     "execution_count": 289,
     "metadata": {},
     "output_type": "execute_result"
    },
    {
     "data": {
      "image/png": "[encoded data removed]",
      "text/plain": [
       "<Figure size 800x600 with 1 Axes>"
      ]
     },
     "metadata": {},
     "output_type": "display_data"
    }
   ],
   "source": [
    "plt.figure(figsize=(8,6))\n",
    "\n",
    "for i, model in enumerate(anis[3:]):\n",
    "    \n",
    "    for j, ani in enumerate(model):\n",
    "        \n",
    "        # take the beta value\n",
    "        #beta = 1-ani**2\n",
    "        \n",
    "        #if beta==-3:\n",
    "        #    marker='x'\n",
    "        #    beta=-0.75\n",
    "        #else:\n",
    "        #    marker=pl_markers[i+3]\n",
    "        \n",
    "        if j==len(model)-1:\n",
    "            label = pl_labels[i+3]\n",
    "        else:\n",
    "            label = None\n",
    "            \n",
    "        alpha=0.7\n",
    "        # plot\n",
    "        #plt.errorbar(x, gamma, yerr=gamma_err, label=file)\n",
    "        plt.scatter(j, ani, label=label, alpha=alpha, color=pl_colors[i+3], edgecolor='k', s=100, marker=marker)\n",
    "        \n",
    "plt.legend(loc=(1.01,0.5))\n",
    "#plt.ylim(-2.5, -1.4)\n",
    "plt.ylabel(r'$a_{ani}$', rotation='horizontal', labelpad=20)\n",
    "plt.xlabel('object')\n",
    "#plt.ylim(-0.75, 1)"
   ]
  },
  {
   "cell_type": "code",
   "execution_count": 290,
   "metadata": {
    "tags": []
   },
   "outputs": [
    {
     "data": {
      "text/plain": [
       "(0.0, 2.0)"
      ]
     },
     "execution_count": 290,
     "metadata": {},
     "output_type": "execute_result"
    },
    {
     "data": {
      "image/png": "[encoded data removed]",
      "text/plain": [
       "<Figure size 800x600 with 1 Axes>"
      ]
     },
     "metadata": {},
     "output_type": "display_data"
    }
   ],
   "source": [
    "plt.figure(figsize=(8,6))\n",
    "\n",
    "for i, model in enumerate(anis[3:]):\n",
    "    \n",
    "    for j, ani in enumerate(model):\n",
    "        \n",
    "        ani_err = ani_errs[i+3,j]\n",
    "        \n",
    "        if j==len(model)-1:\n",
    "            label = pl_labels[i+3]\n",
    "        else:\n",
    "            label = None\n",
    "            \n",
    "        alpha=0.7\n",
    "        # plot\n",
    "        #plt.errorbar(x, gamma, yerr=gamma_err, label=file)\n",
    "        plt.errorbar(j, ani, yerr=ani_err, label=label, alpha=alpha, color=pl_colors[i+3], markeredgecolor='k', markersize=10, marker=marker, capsize=5)\n",
    "        \n",
    "plt.legend(loc=(1.01,0.5))\n",
    "#plt.ylim(-2.5, -1.4)\n",
    "plt.ylabel(r'$a_{ani}$', rotation='horizontal', labelpad=20)\n",
    "plt.xlabel('object')\n",
    "plt.ylim(0., 2.)"
   ]
  },
  {
   "cell_type": "code",
   "execution_count": 112,
   "metadata": {
    "tags": []
   },
   "outputs": [
    {
     "data": {
      "text/plain": [
       "array([[0.62528256, 0.93137864, 1.07829233, 2.        , 2.        ,\n",
       "        1.23919555, 1.07362191, 0.61131514, 1.11860863, 1.34573258,\n",
       "        2.        , 2.        , 0.64926587],\n",
       "       [1.04838218, 1.90347122, 2.        , 0.04850278, 0.15424519,\n",
       "        0.0364702 , 2.        , 1.01921378, 0.01      , 2.        ,\n",
       "        2.        , 2.        , 2.        ]])"
      ]
     },
     "execution_count": 112,
     "metadata": {},
     "output_type": "execute_result"
    }
   ],
   "source": [
    "anis[3:]"
   ]
  },
  {
   "cell_type": "markdown",
   "metadata": {},
   "source": [
    "# Put both the slope and anisotropy together"
   ]
  },
  {
   "cell_type": "code",
   "execution_count": 293,
   "metadata": {
    "tags": []
   },
   "outputs": [
    {
     "name": "stderr",
     "output_type": "stream",
     "text": [
      "/tmp/ipykernel_12889/788358562.py:40: UserWarning: You passed a edgecolor/edgecolors ('k') for an unfilled marker ('x').  Matplotlib is ignoring the edgecolor in favor of the facecolor.  This behavior may change in the future.\n",
      "  plt.scatter(beta, -gamma, label=label, alpha=alpha, color=pl_colors[i], edgecolor='k', s=100, marker=marker)\n"
     ]
    },
    {
     "data": {
      "text/plain": [
       "(1.4, 2.4)"
      ]
     },
     "execution_count": 293,
     "metadata": {},
     "output_type": "execute_result"
    },
    {
     "data": {
      "image/png": "[encoded data removed]",
      "text/plain": [
       "<Figure size 800x600 with 1 Axes>"
      ]
     },
     "metadata": {},
     "output_type": "display_data"
    }
   ],
   "source": [
    "# Look at only constant anis\n",
    "\n",
    "plt.figure(figsize=(8,6))\n",
    "\n",
    "for i, model in enumerate(anis[:3]):\n",
    "    \n",
    "    gamma_model = gammas[i]\n",
    "    \n",
    "    for j, ani in enumerate(model):\n",
    "        \n",
    "        marker=pl_markers[i]\n",
    "        \n",
    "        # take the beta value\n",
    "        beta = 1-ani**2\n",
    "        beta_err = np.sqrt(np.square(2 * beta * ani_err / ani))\n",
    "        \n",
    "        if beta==-3:\n",
    "            marker='x'\n",
    "            beta=-0.85\n",
    "            beta_err=0\n",
    "            markeredgecolor=pl_colors[i]\n",
    "        else:\n",
    "            marker=pl_markers[i]\n",
    "            markeredgecolor='k'\n",
    "        \n",
    "        # take gamma value\n",
    "        gamma = gamma_model[j]\n",
    "        if gamma > -1.4:\n",
    "            marker='x'\n",
    "            gamma = -1.4\n",
    "        \n",
    "        if j==len(model)-1:\n",
    "            label = pl_labels[i]\n",
    "        else:\n",
    "            label = None\n",
    "        \n",
    "        alpha=0.7\n",
    "        # plot\n",
    "        #plt.errorbar(x, gamma, yerr=gamma_err, label=file)\n",
    "        plt.scatter(beta, -gamma, label=label, alpha=alpha, color=pl_colors[i], edgecolor='k', s=100, marker=marker)\n",
    "        \n",
    "plt.legend(loc='upper left')\n",
    "plt.legend(loc=(1.01,0.5))\n",
    "plt.ylabel(r'$\\gamma$', rotation='horizontal', labelpad=20)\n",
    "plt.xlabel(r'$\\beta$')\n",
    "plt.xlim(-0.85, 1)\n",
    "plt.ylim(1.4, 2.4)#-2.4, -1.4)"
   ]
  },
  {
   "cell_type": "code",
   "execution_count": 298,
   "metadata": {
    "tags": []
   },
   "outputs": [
    {
     "data": {
      "text/plain": [
       "(1.4, 2.4)"
      ]
     },
     "execution_count": 298,
     "metadata": {},
     "output_type": "execute_result"
    },
    {
     "data": {
      "image/png": "[encoded data removed]",
      "text/plain": [
       "<Figure size 800x600 with 1 Axes>"
      ]
     },
     "metadata": {},
     "output_type": "display_data"
    }
   ],
   "source": [
    "# Look at only constant anis\n",
    "\n",
    "plt.figure(figsize=(8,6))\n",
    "\n",
    "for i, model in enumerate(anis[:3]):\n",
    "    \n",
    "    gamma_model = gammas[i]\n",
    "    \n",
    "    for j, ani in enumerate(model):\n",
    "        \n",
    "        marker=pl_markers[i]\n",
    "        markeredgecolor='k'\n",
    "        \n",
    "        # take the beta value\n",
    "        beta = 1-ani**2\n",
    "        beta_err = np.sqrt(np.square(2 * beta * ani_errs[i,j] / ani))\n",
    "        \n",
    "        if beta==-3:\n",
    "            marker='x'\n",
    "            beta=-0.85\n",
    "            markeredgecolor=pl_colors[i]\n",
    "            beta_err=0\n",
    "        \n",
    "        if j==len(model)-1:\n",
    "            label = pl_labels[i]\n",
    "        else:\n",
    "            label = None\n",
    "        \n",
    "        # take gamma value\n",
    "        gamma = gamma_model[j]\n",
    "        gamma_err = gamma_errs[i,j]\n",
    "        if gamma > -1.4:\n",
    "            marker='x'\n",
    "            gamma = -1.4\n",
    "            gamma_err = 0\n",
    "            markeredgecolor=pl_colors[i]\n",
    "        \n",
    "        alpha=0.7\n",
    "        # plot\n",
    "        #plt.errorbar(x, gamma, yerr=gamma_err, label=file)\n",
    "        plt.errorbar(beta, -gamma, xerr=beta_err, yerr=gamma_err, label=label, alpha=alpha, color=pl_colors[i], markeredgecolor=markeredgecolor, markersize=10, marker=marker, capsize=5)\n",
    "        \n",
    "plt.legend(loc='upper left')\n",
    "plt.legend(loc=(1.01,0.5))\n",
    "plt.ylabel(r'$\\gamma$', rotation='horizontal', labelpad=20)\n",
    "plt.xlabel(r'$\\beta$')\n",
    "plt.xlim(-0.85, 1)\n",
    "plt.ylim(1.4, 2.4)"
   ]
  },
  {
   "cell_type": "code",
   "execution_count": null,
   "metadata": {},
   "outputs": [],
   "source": []
  },
  {
   "cell_type": "code",
   "execution_count": 301,
   "metadata": {
    "tags": []
   },
   "outputs": [
    {
     "data": {
      "text/plain": [
       "-2.1992692273405585"
      ]
     },
     "execution_count": 301,
     "metadata": {},
     "output_type": "execute_result"
    }
   ],
   "source": [
    "gamma"
   ]
  },
  {
   "cell_type": "code",
   "execution_count": 304,
   "metadata": {
    "tags": []
   },
   "outputs": [
    {
     "data": {
      "text/plain": [
       "(1.4, 2.4)"
      ]
     },
     "execution_count": 304,
     "metadata": {},
     "output_type": "execute_result"
    },
    {
     "data": {
      "image/png": "[encoded data removed]",
      "text/plain": [
       "<Figure size 800x600 with 1 Axes>"
      ]
     },
     "metadata": {},
     "output_type": "display_data"
    }
   ],
   "source": [
    "# Look at only constant anis\n",
    "\n",
    "plt.figure(figsize=(8,6))\n",
    "\n",
    "for i, model in enumerate(anis[3:]):\n",
    "    \n",
    "    gamma_model = gammas[i+3]\n",
    "    \n",
    "    for j, ani in enumerate(model):\n",
    "        \n",
    "        marker=pl_markers[i+3]\n",
    "        markeredgecolor='k'\n",
    "        \n",
    "        # take the beta value\n",
    "        ani_err = ani_errs[i+3,j]\n",
    "        \n",
    "        if j==len(model)-1:\n",
    "            label = pl_labels[i+3]\n",
    "        else:\n",
    "            label = None\n",
    "        \n",
    "        # take gamma value\n",
    "        gamma = gamma_model[j]\n",
    "        gamma_err = gamma_errs[i+3,j]\n",
    "        if gamma > -1.4:\n",
    "            marker='x'\n",
    "            gamma = -1.4\n",
    "            gamma_err = 0\n",
    "            markeredgecolor=pl_colors[i+3]\n",
    "        \n",
    "        alpha=0.7\n",
    "        # plot\n",
    "        #plt.errorbar(x, gamma, yerr=gamma_err, label=file)\n",
    "        plt.errorbar(ani, -gamma, xerr=ani_err, yerr=gamma_err, label=label, alpha=alpha, color=pl_colors[i+3], markeredgecolor=markeredgecolor, markersize=10, marker=marker, capsize=5)\n",
    "        \n",
    "plt.legend(loc='upper left')\n",
    "plt.legend(loc=(1.01,0.5))\n",
    "plt.ylabel(r'$\\gamma$', rotation='horizontal', labelpad=20)\n",
    "plt.xlabel(r'$a_{ani}$')\n",
    "plt.xlim(0.0, 2.0)\n",
    "plt.ylim(1.4, 2.4)"
   ]
  },
  {
   "cell_type": "markdown",
   "metadata": {},
   "source": [
    "# Chi2s"
   ]
  },
  {
   "cell_type": "markdown",
   "metadata": {
    "tags": []
   },
   "source": [
    "# Compare the 5 PL models"
   ]
  },
  {
   "cell_type": "code",
   "execution_count": 305,
   "metadata": {
    "tags": []
   },
   "outputs": [],
   "source": [
    "chi2s = np.zeros_like(gammas)\n",
    "\n",
    "for i, file in enumerate(pl_sol):\n",
    "    \n",
    "    # get the solutions\n",
    "    solutions = np.genfromtxt(file)\n",
    "    \n",
    "    \n",
    "    # gamma and gamma_err are index 3 and 4\n",
    "    chi2 = solutions[:,-1]\n",
    "    \n",
    "    chi2s[i] = chi2\n",
    "    "
   ]
  },
  {
   "cell_type": "code",
   "execution_count": 307,
   "metadata": {
    "tags": []
   },
   "outputs": [],
   "source": [
    "# number of parameters in each model\n",
    "\n",
    "# const axi cyl - q, ratio, gamma\n",
    "# const axi sph - q, ratio, gamma\n",
    "# const sph sph - ratio, gamma\n",
    "# om axi sph - q, ani, gamma\n",
    "# om sph sph - ani, gamma\n",
    "\n",
    "ks = np.array([3, 3, 2, 3, 2])"
   ]
  },
  {
   "cell_type": "code",
   "execution_count": 308,
   "metadata": {
    "tags": []
   },
   "outputs": [],
   "source": [
    "# number of datapoints in each object\n",
    "ns = np.ones((len(obj_names), len(ks)))\n",
    "\n",
    "for i in range(len(obj_names)):\n",
    "\n",
    "    obj_name = obj_names[i]\n",
    "    obj_abbr = obj_name[4:9]\n",
    "\n",
    "    \n",
    "    SN = 15\n",
    "\n",
    "    if obj_abbr=='J0330':\n",
    "        file_dir = f'{kinematics_dir}{obj_name}/target_sn_{SN}/{obj_name}_{SN}_final_kinematics/no_g/'\n",
    "    else:\n",
    "        file_dir = f'{kinematics_dir}{obj_name}/target_sn_{SN}/{obj_name}_{SN}_marginalized_gnog_final_kinematics/'\n",
    "        \n",
    "    surf_lum, sigma_lum, qobs_lum, wrong_psf, Vrms, dVrms, V_bin, dV_bin, xbin, ybin, reff = prepare_to_jam(obj_name, file_dir, SN)\n",
    "    \n",
    "    n = len(Vrms)\n",
    "    ns[i] = np.ones(len(ks))*n"
   ]
  },
  {
   "cell_type": "code",
   "execution_count": 313,
   "metadata": {
    "tags": []
   },
   "outputs": [],
   "source": [
    "bics = ks * np.log(ns) + chi2s.T"
   ]
  },
  {
   "cell_type": "code",
   "execution_count": 314,
   "metadata": {
    "tags": []
   },
   "outputs": [
    {
     "data": {
      "text/plain": [
       "array([[166.72799924, 166.72488166, 159.68457947, 164.42974791,\n",
       "        156.29155355],\n",
       "       [273.33223605, 273.33223837, 263.19779952, 277.0981523 ,\n",
       "        262.31353802],\n",
       "       [ 31.50470771,  31.50477856,  29.05470346,  27.58325352,\n",
       "          7.59167373],\n",
       "       [ 26.31310442,  26.31311018,  23.64817122,  40.34484337,\n",
       "         22.95201414],\n",
       "       [286.64197947, 286.47415425, 282.42503329, 300.78250909,\n",
       "        296.90714421],\n",
       "       [254.89057395, 254.7763345 , 218.34398631, 394.75182698,\n",
       "        378.83252538],\n",
       "       [196.9943586 , 196.99433609, 194.60044949, 205.75958915,\n",
       "        193.48521432],\n",
       "       [203.8100376 , 203.81008127, 199.1742228 , 237.55402827,\n",
       "        205.23214078],\n",
       "       [ 76.19193034,  76.19161856,  80.25784039,  71.19494959,\n",
       "         77.336162  ],\n",
       "       [111.07007944, 110.53816335, 104.78891048, 109.37137882,\n",
       "        101.47963379],\n",
       "       [124.80296799, 124.80277126, 126.03614161, 124.05578064,\n",
       "        127.80846937],\n",
       "       [172.03595713, 171.90495499, 174.79926993, 172.80827269,\n",
       "        176.83496424],\n",
       "       [158.2420524 , 158.24215842, 161.79050341, 165.52826898,\n",
       "        175.37652109],\n",
       "       [125.97930202, 125.97952136, 118.74112504, 139.54120707,\n",
       "        114.66700663]])"
      ]
     },
     "execution_count": 314,
     "metadata": {},
     "output_type": "execute_result"
    }
   ],
   "source": [
    "bics"
   ]
  },
  {
   "cell_type": "code",
   "execution_count": 316,
   "metadata": {
    "tags": []
   },
   "outputs": [],
   "source": [
    "delta_bics = (bics.T-np.min(bics, axis=1)).T"
   ]
  },
  {
   "cell_type": "code",
   "execution_count": 317,
   "metadata": {
    "tags": []
   },
   "outputs": [
    {
     "data": {
      "text/plain": [
       "array([[1.04364457e+01, 1.04333281e+01, 3.39302592e+00, 8.13819437e+00,\n",
       "        0.00000000e+00],\n",
       "       [1.10186980e+01, 1.10187004e+01, 8.84261498e-01, 1.47846143e+01,\n",
       "        0.00000000e+00],\n",
       "       [2.39130340e+01, 2.39131048e+01, 2.14630297e+01, 1.99915798e+01,\n",
       "        0.00000000e+00],\n",
       "       [3.36109028e+00, 3.36109604e+00, 6.96157084e-01, 1.73928292e+01,\n",
       "        0.00000000e+00],\n",
       "       [4.21694618e+00, 4.04912096e+00, 0.00000000e+00, 1.83574758e+01,\n",
       "        1.44821109e+01],\n",
       "       [3.65465876e+01, 3.64323482e+01, 0.00000000e+00, 1.76407841e+02,\n",
       "        1.60488539e+02],\n",
       "       [3.50914428e+00, 3.50912177e+00, 1.11523517e+00, 1.22743748e+01,\n",
       "        0.00000000e+00],\n",
       "       [4.63581480e+00, 4.63585847e+00, 0.00000000e+00, 3.83798055e+01,\n",
       "        6.05791798e+00],\n",
       "       [4.99698075e+00, 4.99666898e+00, 9.06289081e+00, 0.00000000e+00,\n",
       "        6.14121241e+00],\n",
       "       [9.59044564e+00, 9.05852956e+00, 3.30927669e+00, 7.89174503e+00,\n",
       "        0.00000000e+00],\n",
       "       [7.47187343e-01, 7.46990621e-01, 1.98036097e+00, 0.00000000e+00,\n",
       "        3.75268873e+00],\n",
       "       [1.31002140e-01, 0.00000000e+00, 2.89431494e+00, 9.03317696e-01,\n",
       "        4.93000925e+00],\n",
       "       [0.00000000e+00, 1.06015014e-04, 3.54845101e+00, 7.28621657e+00,\n",
       "        1.71344687e+01],\n",
       "       [1.13122954e+01, 1.13125147e+01, 4.07411841e+00, 2.48742004e+01,\n",
       "        0.00000000e+00]])"
      ]
     },
     "execution_count": 317,
     "metadata": {},
     "output_type": "execute_result"
    }
   ],
   "source": [
    "delta_bics"
   ]
  },
  {
   "cell_type": "code",
   "execution_count": 331,
   "metadata": {
    "tags": []
   },
   "outputs": [
    {
     "data": {
      "text/plain": [
       "<matplotlib.legend.Legend at 0x7fef3b0d4510>"
      ]
     },
     "execution_count": 331,
     "metadata": {},
     "output_type": "execute_result"
    },
    {
     "data": {
      "image/png": "[encoded data removed]",
      "text/plain": [
       "<Figure size 800x600 with 1 Axes>"
      ]
     },
     "metadata": {},
     "output_type": "display_data"
    }
   ],
   "source": [
    "for i, delta_bic in enumerate(delta_bics.T):\n",
    "    \n",
    "    marker=pl_markers[i]\n",
    "    \n",
    "    plt.scatter(range(14), delta_bic, label=pl_labels[i], alpha=alpha, color=pl_colors[i], edgecolor='k', s=100, marker=marker)\n",
    "\n",
    "plt.ylim(-5, 50)\n",
    "plt.ylabel(r'$\\Delta_{BIC}$', fontsize=16)\n",
    "plt.legend(fontsize=16)"
   ]
  },
  {
   "cell_type": "markdown",
   "metadata": {},
   "source": [
    "# Histograms"
   ]
  },
  {
   "cell_type": "code",
   "execution_count": 223,
   "metadata": {
    "tags": []
   },
   "outputs": [
    {
     "data": {
      "image/png": "[encoded data removed]",
      "text/plain": [
       "<Figure size 800x600 with 1 Axes>"
      ]
     },
     "metadata": {},
     "output_type": "display_data"
    }
   ],
   "source": [
    "bins = np.arange(-2.3, -1.4, 0.1)\n",
    "\n",
    "for i, model in enumerate(gammas):\n",
    "    \n",
    "    plt.hist(model, facecolor=pl_colors[i], bins=bins, alpha=0.05, edgecolor=None)\n",
    "    plt.hist(model, facecolor='None', bins=bins, alpha=0.6, edgecolor=pl_colors[i], linewidth=3)"
   ]
  },
  {
   "cell_type": "code",
   "execution_count": 228,
   "metadata": {
    "tags": []
   },
   "outputs": [
    {
     "data": {
      "image/png": "[encoded data removed]",
      "text/plain": [
       "<Figure size 800x600 with 1 Axes>"
      ]
     },
     "metadata": {},
     "output_type": "display_data"
    }
   ],
   "source": [
    "plt.figure(figsize=(8,6))\n",
    "\n",
    "for i, file in enumerate(pl_sol):\n",
    "    \n",
    "    # get the solutions\n",
    "    solutions = np.genfromtxt(file)\n",
    "    \n",
    "    \n",
    "    # gamma and gamma_err are index 3 and 4\n",
    "    chi2 = solutions[:,-1]\n",
    "    \n",
    "    alpha=0.7\n",
    "    # plot\n",
    "    x = range(14)\n",
    "    #plt.errorbar(x, gamma, yerr=gamma_err, label=file)\n",
    "    plt.scatter(x, chi2, label=pl_labels[i], alpha=alpha, edgecolor='k', s=100)\n",
    "    plt.legend()\n",
    "    #plt.ylim(-2.5, -1.4)\n",
    "    "
   ]
  },
  {
   "cell_type": "code",
   "execution_count": null,
   "metadata": {},
   "outputs": [],
   "source": []
  },
  {
   "cell_type": "code",
   "execution_count": null,
   "metadata": {},
   "outputs": [],
   "source": []
  },
  {
   "cell_type": "code",
   "execution_count": null,
   "metadata": {},
   "outputs": [],
   "source": []
  },
  {
   "cell_type": "markdown",
   "metadata": {
    "jp-MarkdownHeadingCollapsed": true,
    "tags": []
   },
   "source": [
    "## Axisymmetric Cylindrical PL"
   ]
  },
  {
   "cell_type": "code",
   "execution_count": null,
   "metadata": {
    "tags": []
   },
   "outputs": [],
   "source": [
    "for i in range(1):#len(obj_names)):\n",
    "\n",
    "    obj_name = obj_names[i]\n",
    "    obj_abbr = obj_name[4:9]\n",
    "    \n",
    "    print('######################')\n",
    "    print()\n",
    "    print(obj_name)\n",
    "    print()\n",
    "    \n",
    "    SN = 15\n",
    "    mass_model='power_law'\n",
    "    anisotropy='const'\n",
    "    geometry='axi'\n",
    "    align='cyl'\n",
    "    zlens= zlenses[slacs_ix_table['Name']==obj_name]\n",
    "    zsource = zsources[slacs_ix_table['Name']==obj_name]\n",
    "    sigmapsf = sigmapsf_table[sigmapsf_table['obj_name']==obj_name]['kcwi_sigmapsf'].to_numpy()[0]\n",
    "    theta_E = lens_models[lens_models['obj_name']==obj_name]['theta_E'].to_numpy()[0]\n",
    "    cosmo = cosmo\n",
    "    distance = cosmo.angular_diameter_distance(zlens).to_numpy()[0]\n",
    "    fast_slow = paper_table.loc[0, 'class_for_JAM_models']\n",
    "    \n",
    "    if obj_abbr=='J0330':\n",
    "        file_dir = f'{kinematics_dir}{obj_name}/target_sn_{SN}/{obj_name}_{SN}_final_kinematics/no_g/'\n",
    "    else:\n",
    "        file_dir = f'{kinematics_dir}{obj_name}/target_sn_{SN}/{obj_name}_{SN}_marginalized_gnog_final_kinematics/'\n",
    "        \n",
    "    surf_lum, sigma_lum, qobs_lum, wrong_psf, Vrms, dVrms, V_bin, dV_bin, xbin, ybin, reff = prepare_to_jam(obj_name, file_dir, SN)\n",
    "\n",
    "    goodbins = np.isfinite(Vrms/dVrms)\n",
    "    \n",
    "    # cut out the bad bins\n",
    "    Vrms = Vrms[goodbins]\n",
    "    dVrms = dVrms[goodbins]\n",
    "    xbin = xbin[goodbins]\n",
    "    ybin = ybin[goodbins]\n",
    "    \n",
    "    # Starting guesses\n",
    "    q0 = np.median(qobs_lum)\n",
    "    ratio0 = 1          # Anisotropy ratio sigma_z/sigma_R\n",
    "    gamma0 = -2         # Total mass logarithmic slope rho = r^gamma\n",
    "    normpsf= 1\n",
    "    \n",
    "    qmin = np.min(qobs_lum)\n",
    "    p0 = [q0, ratio0, gamma0]\n",
    "    bounds = [[0.051, 0.01, -4], [qmin, 1, 0]]\n",
    "    goodbins = np.isfinite(xbin)  # Here I fit all bins\n",
    "\n",
    "    # These parameters are passed to JAM\n",
    "    kwargs = {'surf_lum': surf_lum, 'sigma_lum': sigma_lum, 'qobs_lum': qobs_lum,\n",
    "              'distance': distance, 'xbin': xbin, 'ybin': ybin, 'sigmapsf': sigmapsf,\n",
    "              'normpsf': normpsf, 'rms': Vrms, 'erms': dVrms, 'pixsize': kcwi_scale,#pixsize,\n",
    "              'goodbins': goodbins, 'align':align, 'plot': 0, 'return_mge': False}\n",
    "\n",
    "    sol = \n",
    "    # bestfit paramters\n",
    "    q = sol.x[0]\n",
    "    inc = np.degrees(np.arctan2(np.sqrt(1 - qmin**2), np.sqrt(qmin**2 - q**2)))\n",
    "    anis_ratio = sol.x[1]\n",
    "    gamma_fit = sol.x[2]\n",
    "    print('Best fit,', anis_ratio, gamma_fit)\n",
    "    \n",
    "    # covariance matrix of free parameters\n",
    "    cov = sol.cov\n",
    "    # qerr doesn't matter but is the first index\n",
    "    anis_ratio_err = np.sqrt(sol.cov.diagonal()[1])\n",
    "    gamma_err = np.sqrt(sol.cov.diagonal()[2])\n",
    "    \n",
    "    # plot the best fit\n",
    "    kwargs['plot'] = 1\n",
    "    kwargs['return_mge'] = True\n",
    "    surf_pot, sigma_pot, qobs_pot, chi2 = jam_resid(sol.x, **kwargs)\n",
    "    plt.savefig(f'{jam_output_dir}{obj_name}_pl_const_axicyl_fit.png')\n",
    "    plt.pause(1)\n",
    "    plt.clf()\n",
    "    \n",
    "    # take chi2/dof\n",
    "    #dof = len(Vrms)\n",
    "    #chi2_red = chi2/dof\n",
    "    \n",
    "    # calculate the enclosed mass\n",
    "    mass_enclosed, gamma_avg, profile_radii, profile_1d \\\n",
    "                = calculate_mass_and_slope_enclosed(surf_pot, sigma_pot, qobs_pot, distance, radius=theta_E, plot=True)\n",
    "    \n",
    "    print('Mass enclosed, avg gamma', mass_enclosed, gamma_avg)\n",
    "    \n",
    "    pl_const_axicyl_solutions[i] = np.array([inc, \n",
    "                                             anis_ratio, anis_ratio_err, \n",
    "                                             gamma_fit, gamma_err, \n",
    "                                             gamma_avg, mass_enclosed, \n",
    "                                             chi2])\n",
    "    pl_const_axicyl_cov[i] = cov\n",
    "    pl_const_axicyl_mass_profiles_r[i] = profile_radii\n",
    "    pl_const_axicyl_mass_profiles[i] = profile_1d"
   ]
  },
  {
   "cell_type": "code",
   "execution_count": null,
   "metadata": {},
   "outputs": [],
   "source": [
    "# save with header\n",
    "sol_header = '#### 14 objects - inc, anis_ratio, anis_ratio_err, gamma_fit, gamma_err, gamma_avg, mass_enclosed, chi2'\n",
    "np.savetxt(f'{jam_output_dir}jam_pl_const_axicyl_solutions_02072024.txt', pl_const_axicyl_solutions, header=sol_header) \n",
    "np.savetxt(f'{jam_output_dir}jam_pl_const_axicyl_covariances_02072024.txt', pl_const_axicyl_cov.reshape(14,9), header='covariance matrix has been reshaped to 2D, reshape back to (14,3,3)') \n",
    "\n",
    "profile_header = '#### radius, surface mass density (Msol/pc2), has been reshaped to 2D, reshape back to (14,50,2)'\n",
    "pl_const_axicyl_mass_profile_joined = np.dstack((pl_const_axicyl_mass_profiles_r, pl_const_axicyl_mass_profiles)).reshape(14, 100)\n",
    "np.savetxt(f'{jam_output_dir}jam_pl_const_axicyl_profiles_02072024.txt', pl_const_axicyl_mass_profile_joined, header=profile_header) "
   ]
  },
  {
   "cell_type": "markdown",
   "metadata": {},
   "source": [
    "## Axisymmetric Spherical PL"
   ]
  },
  {
   "cell_type": "code",
   "execution_count": null,
   "metadata": {
    "tags": []
   },
   "outputs": [],
   "source": [
    "for i in range(1):#len(obj_names)):\n",
    "\n",
    "    obj_name = obj_names[i]\n",
    "    obj_abbr = obj_name[4:9]\n",
    "    \n",
    "    print('######################')\n",
    "    print()\n",
    "    print(obj_name)\n",
    "    print()\n",
    "    \n",
    "    # Model\n",
    "    SN = 15\n",
    "    mass_model='power_law'\n",
    "    anisotropy='const'\n",
    "    geometry='axi'\n",
    "    align='cyl'\n",
    "    \n",
    "    # object attributes\n",
    "    zlens= zlenses[slacs_ix_table['Name']==obj_name]\n",
    "    zsource = zsources[slacs_ix_table['Name']==obj_name]\n",
    "    sigmapsf = sigmapsf_table[sigmapsf_table['obj_name']==obj_name]['kcwi_sigmapsf'].to_numpy()[0]\n",
    "    theta_E = lens_models[lens_models['obj_name']==obj_name]['theta_E'].to_numpy()[0]\n",
    "    cosmo = cosmo\n",
    "    distance = cosmo.angular_diameter_distance(zlens).to_numpy()[0]\n",
    "    fast_slow = paper_table.loc[0, 'class_for_JAM_models']\n",
    "    \n",
    "    if obj_abbr=='J0330':\n",
    "        file_dir = f'{kinematics_dir}{obj_name}/target_sn_{SN}/{obj_name}_{SN}_final_kinematics/no_g/'\n",
    "    else:\n",
    "        file_dir = f'{kinematics_dir}{obj_name}/target_sn_{SN}/{obj_name}_{SN}_marginalized_gnog_final_kinematics/'\n",
    "        \n",
    "    surf_lum, sigma_lum, qobs_lum, wrong_psf, Vrms, dVrms, V_bin, dV_bin, xbin, ybin, reff = prepare_to_jam(obj_name, file_dir, SN)\n",
    "    \n",
    "    goodbins = np.isfinite(Vrms/dVrms)\n",
    "    \n",
    "    # cut out the bad bins\n",
    "    Vrms = Vrms[goodbins]\n",
    "    dVrms = dVrms[goodbins]\n",
    "    xbin = xbin[goodbins]\n",
    "    ybin = ybin[goodbins]\n",
    "    \n",
    "    # Starting guesses\n",
    "    q0 = np.median(qobs_lum)\n",
    "    ratio0 = 1          # Anisotropy ratio sigma_z/sigma_R\n",
    "    gamma0 = -2         # Total mass logarithmic slope rho = r^gamma\n",
    "    normpsf= 1\n",
    "    \n",
    "    qmin = np.min(qobs_lum)\n",
    "    p0 = [q0, ratio0, gamma0]\n",
    "    bounds = [[0.051, 0.01, -4], [qmin, 2.0, 0]]\n",
    "    goodbins = np.isfinite(xbin)  # Here I fit all bins\n",
    "\n",
    "    # These parameters are passed to JAM\n",
    "    kwargs = {'surf_lum': surf_lum, 'sigma_lum': sigma_lum, 'qobs_lum': qobs_lum,\n",
    "              'distance': distance, 'xbin': xbin, 'ybin': ybin, 'sigmapsf': sigmapsf,\n",
    "              'normpsf': normpsf, 'rms': Vrms, 'erms': dVrms, 'pixsize': kcwi_scale,#pixsize,\n",
    "              'goodbins': goodbins, 'align':align, 'plot': 0, 'return_mge': False}\n",
    "\n",
    "    sol = capfit(jam_resid, p0, kwargs=kwargs, bounds=bounds, verbose=2, fixed=[0, 0, 0])\n",
    "    if sol.success==True:\n",
    "        print()\n",
    "        print('Success!')\n",
    "        print()\n",
    "    else:\n",
    "        print()\n",
    "        print('Fit failed to meet convergence criteria.')\n",
    "        print()\n",
    "        \n",
    "    # bestfit paramters\n",
    "    q = sol.x[0]\n",
    "    inc = np.degrees(np.arctan2(np.sqrt(1 - qmin**2), np.sqrt(qmin**2 - q**2)))\n",
    "    anis_ratio = sol.x[1]\n",
    "    gamma_fit = sol.x[2]\n",
    "    print('Best fit,', anis_ratio, gamma_fit)\n",
    "    \n",
    "    # covariance matrix of free parameters\n",
    "    cov = sol.cov\n",
    "    # qerr doesn't matter but is the first index\n",
    "    anis_ratio_err = np.sqrt(sol.cov.diagonal()[1])\n",
    "    gamma_err = np.sqrt(sol.cov.diagonal()[2])\n",
    "    \n",
    "    \n",
    "    # plot the best fit\n",
    "    kwargs['plot'] = 1\n",
    "    kwargs['return_mge'] = True\n",
    "    surf_pot, sigma_pot, qobs_pot, chi2 = jam_resid(sol.x, **kwargs)\n",
    "    plt.savefig(f'{jam_output_dir}{obj_name}_pl_const_axisph_fit.png')\n",
    "    plt.pause(1)\n",
    "    \n",
    "    # take chi2/dof\n",
    "    #dof = len(Vrms)\n",
    "    #chi2_red = chi2/dof\n",
    "    \n",
    "    # calculate the enclosed mass\n",
    "    mass_enclosed, gamma_avg, profile_radii, profile_1d \\\n",
    "                = calculate_mass_and_slope_enclosed(surf_pot, sigma_pot, qobs_pot, distance, radius=theta_E, plot=True)\n",
    "    \n",
    "    print('Mass enclosed, avg gamma', mass_enclosed, gamma_avg)\n",
    "    \n",
    "    pl_const_axisph_solutions[i] = np.array([inc, \n",
    "                                             anis_ratio, anis_ratio_err, \n",
    "                                             gamma_fit, gamma_err, \n",
    "                                             gamma_avg, mass_enclosed, \n",
    "                                             chi2])\n",
    "    pl_const_axisph_cov[i] = cov\n",
    "    pl_const_axisph_mass_profiles_r[i] = profile_radii\n",
    "    pl_const_axisph_mass_profiles[i] = profile_1d"
   ]
  },
  {
   "cell_type": "code",
   "execution_count": null,
   "metadata": {
    "tags": []
   },
   "outputs": [],
   "source": [
    "# save with header\n",
    "sol_header = '#### 14 objects - inc, anis_ratio, anis_ratio_err, gamma_fit, gamma_err, gamma_avg, mass_enclosed, chi2'\n",
    "np.savetxt(f'{jam_output_dir}jam_pl_const_axisph_solutions_02072024.txt', pl_const_axisph_solutions, header=sol_header) \n",
    "np.savetxt(f'{jam_output_dir}jam_pl_const_axisph_covariances_02072024.txt', pl_const_axisph_cov.reshape(14,9), header='covariance matrix has been reshaped to 2D, reshape back to (14,3,3)') \n",
    "\n",
    "pl_const_axisph_mass_profile_joined = np.dstack((pl_const_axisph_mass_profiles_r, pl_const_axisph_mass_profiles)).reshape(14, 100)\n",
    "np.savetxt(f'{jam_output_dir}jam_pl_const_axisph_profiles_02072024.txt', pl_const_axisph_mass_profile_joined, header=profile_header) "
   ]
  },
  {
   "cell_type": "markdown",
   "metadata": {},
   "source": [
    "## Spherical Geometry PL"
   ]
  },
  {
   "cell_type": "code",
   "execution_count": null,
   "metadata": {},
   "outputs": [],
   "source": [
    "# spherical models require my 1D kinematics\n",
    "# as in e.g. data/raw_data/KECK_KCWI_SLACS_kinematics_shawn/milestone23_data/SDSSJ0029-0055/SDSSJ0029-0055_kinmap.csv"
   ]
  },
  {
   "cell_type": "code",
   "execution_count": null,
   "metadata": {
    "tags": []
   },
   "outputs": [],
   "source": [
    "###############################################################################\n",
    "\n",
    "def jam_resid_sph(pars, surf_lum=None, sigma_lum=None,\n",
    "                  distance=None, rbin=None,\n",
    "                   sigmapsf=None, normpsf=None, \n",
    "                  rms=None, erms=None, pixsize=None, plot=True, return_mge=False):\n",
    "\n",
    "    ratio, gamma = pars\n",
    "\n",
    "    beta = np.full_like(surf_lum, 1 - ratio**2)   # assume constant anisotropy\n",
    "\n",
    "    #rbreak = 20e3              # Adopt fixed halo break radius of 20 kpc (much larger than the data)\n",
    "    #pc = distance*np.pi/0.648   # Constant factor to convert arcsec --> pc\n",
    "    #rbreak /= pc\n",
    "    # Convert the break radius from pc --> arcsec\n",
    "    rbreak = 50 #20*reff\n",
    "    mbh = 0                     # Ignore the central black hole\n",
    "    surf_pot, sigma_pot, qobs_pot = total_mass_mge_cap(gamma, rbreak)\n",
    "\n",
    "    jam = jam_sph_proj(surf_lum, sigma_lum, surf_pot, sigma_pot,\n",
    "                       mbh, distance, rbin,\n",
    "                       sigmapsf=sigmapsf, normpsf=normpsf,\n",
    "                      beta=beta, data=rms, errors=erms, \n",
    "                       plot=plot, pixsize=pixsize, quiet=1, ml=None)\n",
    "    \n",
    "    resid = (rms - jam.model)/erms\n",
    "    chi2 = np.sum(resid**2)\n",
    "    \n",
    "    if return_mge==True:\n",
    "        \n",
    "        # return the mass mge multiplied by the ml from jam\n",
    "        return surf_pot*jam.ml, sigma_pot, qobs_pot, chi2\n",
    "    \n",
    "    else:\n",
    "        return resid   # ln(likelihood) + cost."
   ]
  },
  {
   "cell_type": "code",
   "execution_count": null,
   "metadata": {
    "tags": []
   },
   "outputs": [],
   "source": [
    "pl_const_sphsph_solutions = np.ones((len(obj_names), 8))\n",
    "pl_const_sphsph_cov = np.ones((len(obj_names), 2, 2))\n",
    "pl_const_sphsph_mass_profiles_r = np.ones((len(obj_names), 50))\n",
    "pl_const_sphsph_mass_profiles = np.ones((len(obj_names), 50))"
   ]
  },
  {
   "cell_type": "code",
   "execution_count": null,
   "metadata": {
    "tags": []
   },
   "outputs": [],
   "source": [
    "for i in range(1):#len(obj_names)):\n",
    "\n",
    "    obj_name = obj_names[i]\n",
    "    obj_abbr = obj_name[4:9]\n",
    "    \n",
    "    print('######################')\n",
    "    print()\n",
    "    print(obj_name)\n",
    "    print()\n",
    "    \n",
    "    if obj_abbr=='J0330':\n",
    "        print('J0330 is not reliable and will not be used here.')\n",
    "        print()\n",
    "        continue\n",
    "    \n",
    "    SN = 15\n",
    "    mass_model='power_law'\n",
    "    anisotropy='const'\n",
    "    geometry='sph'\n",
    "    zlens= zlenses[slacs_ix_table['Name']==obj_name]\n",
    "    zsource = zsources[slacs_ix_table['Name']==obj_name]\n",
    "    sigmapsf = sigmapsf_table[sigmapsf_table['obj_name']==obj_name]['kcwi_sigmapsf'].to_numpy()[0]\n",
    "    theta_E = lens_models[lens_models['obj_name']==obj_name]['theta_E'].to_numpy()[0]\n",
    "    cosmo = cosmo\n",
    "    distance = cosmo.angular_diameter_distance(zlens).to_numpy()[0]\n",
    "    fast_slow = paper_table.loc[0, 'class_for_JAM_models']\n",
    "    \n",
    "    # load in the 1D kinematics\n",
    "    Vrms_1d = pd.read_csv(f'{milestone_dir}{obj_name}/{obj_name}_kinmap.csv')\n",
    "    Vrms = Vrms_1d['binned_Vrms'].to_numpy()\n",
    "    rbin = np.mean(Vrms_1d[['bin_inner_edge','bin_outer_edge']].to_numpy(), axis=1)\n",
    "    Vrms_cov = np.loadtxt(f'{milestone_dir}{obj_name}/{obj_name}_kinmap_cov.csv', delimiter=',', dtype=float)\n",
    "    dVrms = np.sqrt(Vrms_cov.diagonal())\n",
    "    \n",
    "    if obj_abbr=='J0330':\n",
    "        file_dir = f'{kinematics_dir}{obj_name}/target_sn_{SN}/{obj_name}_{SN}_final_kinematics/no_g/'\n",
    "    else:\n",
    "        file_dir = f'{kinematics_dir}{obj_name}/target_sn_{SN}/{obj_name}_{SN}_marginalized_gnog_final_kinematics/'\n",
    "        \n",
    "    surf_lum, sigma_lum, _, _, _, _, _, _, _, _, reff = prepare_to_jam(obj_name, file_dir, SN)\n",
    "    \n",
    "    # Starting guesses\n",
    "    ratio0 = 1          # Anisotropy ratio sigma_z/sigma_R\n",
    "    gamma0 = -2         # Total mass logarithmic slope rho = r^gamma\n",
    "    \n",
    "    normpsf= 1  \n",
    "    p0 = [ratio0, gamma0]\n",
    "    bounds = [[0.01, -4], [2.0, 0]]\n",
    "\n",
    "    # These parameters are passed to JAM\n",
    "    kwargs = {'surf_lum': surf_lum, 'sigma_lum': sigma_lum,\n",
    "              'distance': distance, 'rbin':rbin, \n",
    "              'sigmapsf': sigmapsf, 'normpsf': normpsf, \n",
    "              'rms': Vrms, 'erms': dVrms, \n",
    "              'pixsize': kcwi_scale,#pixsize,\n",
    "              'plot': 0, 'return_mge': False}\n",
    "\n",
    "    sol = capfit(jam_resid_sph, p0, kwargs=kwargs, bounds=bounds, verbose=2, fixed=[0, 0])\n",
    "    if sol.success==True:\n",
    "        print()\n",
    "        print('Success!')\n",
    "        print()\n",
    "    else:\n",
    "        print()\n",
    "        print('Fit failed to meet convergence criteria.')\n",
    "        print()\n",
    "    \n",
    "    # bestfit paramters\n",
    "    anis_ratio = sol.x[0]\n",
    "    gamma_fit = sol.x[1]\n",
    "    print('Best fit,', anis_ratio, gamma_fit)\n",
    "    \n",
    "    # covariance matrix of free parameters\n",
    "    cov = sol.cov\n",
    "    anis_ratio_err = np.sqrt(sol.cov.diagonal()[0])\n",
    "    gamma_err = np.sqrt(sol.cov.diagonal()[1])\n",
    "    \n",
    "    # plot the bestfit\n",
    "    kwargs['plot'] = 1\n",
    "    kwargs['return_mge'] = True\n",
    "    surf_pot, sigma_pot, qobs_pot, chi2 = jam_resid_sph(sol.x, **kwargs)\n",
    "    plt.savefig(f'{jam_output_dir}{obj_name}_pl_const_sphsph_fit.png')\n",
    "    plt.pause(1)\n",
    "    \n",
    "    # take chi2/dof\n",
    "    #dof = len(Vrms)\n",
    "    #chi2_red = chi2/dof\n",
    "    \n",
    "    # calculate the enclosed mass\n",
    "    mass_enclosed, gamma_avg, profile_radii, profile_1d = calculate_mass_and_slope_enclosed(surf_pot, sigma_pot, qobs_pot, distance, radius=theta_E, plot=True)\n",
    "    \n",
    "    print('Mass enclosed, avg gamma', mass_enclosed, gamma_avg)\n",
    "    \n",
    "    inc=np.nan\n",
    "    \n",
    "    pl_const_sphsph_solutions[i] = np.array([inc, anis_ratio, anis_ratio_err, gamma_fit, gamma_err, gamma_avg, mass_enclosed, chi2])\n",
    "    pl_const_sphsph_cov[i] = cov\n",
    "    pl_const_sphsph_mass_profiles_r[i] = profile_radii\n",
    "    pl_const_sphsph_mass_profiles[i] = profile_1d"
   ]
  },
  {
   "cell_type": "code",
   "execution_count": null,
   "metadata": {
    "tags": []
   },
   "outputs": [],
   "source": [
    "# save with header\n",
    "sol_header = '#### 14 objects - inc, anis_ratio, anis_ratio_err, gamma_fit, gamma_err, gamma_avg, mass_enclosed, chi2'\n",
    "np.savetxt(f'{jam_output_dir}jam_pl_const_sphsph_solutions_02072024.txt', pl_const_sphsph_solutions, header=sol_header) \n",
    "np.savetxt(f'{jam_output_dir}jam_pl_const_sphsph_covariances_02072024.txt', pl_const_sphsph_cov.reshape(14,4), header='covariance matrix has been reshaped to 2D, reshape back to (14,3,3)') \n",
    "\n",
    "pl_const_sphsph_mass_profile_joined = np.dstack((pl_const_sphsph_mass_profiles_r, pl_const_sphsph_mass_profiles)).reshape(14, 100)\n",
    "np.savetxt(f'{jam_output_dir}jam_pl_const_sphsph_profiles_02072024.txt', pl_const_sphsph_mass_profile_joined, header=profile_header) "
   ]
  },
  {
   "cell_type": "markdown",
   "metadata": {},
   "source": [
    "# PL, Osipkov-Merrit"
   ]
  },
  {
   "cell_type": "code",
   "execution_count": null,
   "metadata": {
    "tags": []
   },
   "outputs": [],
   "source": [
    "###############################################################################\n",
    "\n",
    "def jam_resid_sph_OM(pars, surf_lum=None, sigma_lum=None,\n",
    "                      distance=None, rbin=None,\n",
    "                       sigmapsf=None, normpsf=None, \n",
    "                      rms=None, erms=None, pixsize=None, plot=True, return_mge=False):\n",
    "    \n",
    "    # OM uses anisotropy radius instead of the ratio\n",
    "    a_ani, gamma = pars\n",
    "    rani = reff * a_ani\n",
    "\n",
    "    rbreak = 20*reff\n",
    "    mbh = 0                     # Ignore the central black hole\n",
    "    surf_pot, sigma_pot, qobs_pot = total_mass_mge_cap(gamma, rbreak)\n",
    "\n",
    "    jam = jam_sph_proj(surf_lum, sigma_lum, surf_pot, sigma_pot,\n",
    "                       mbh, distance, rbin,\n",
    "                       sigmapsf=sigmapsf, normpsf=normpsf,\n",
    "                       rani=rani, data=rms, errors=erms, \n",
    "                       plot=plot, pixsize=pixsize, quiet=1, ml=None)\n",
    "    \n",
    "    resid = (rms - jam.model)/erms\n",
    "    chi2 = np.sum(resid**2)\n",
    "    \n",
    "    if return_mge==True:\n",
    "        \n",
    "        # return the mass mge multiplied by the ml from jam\n",
    "        return surf_pot*jam.ml, sigma_pot, qobs_pot, chi2\n",
    "    \n",
    "    else:\n",
    "        return resid   # ln(likelihood) + cost."
   ]
  },
  {
   "cell_type": "code",
   "execution_count": null,
   "metadata": {
    "tags": []
   },
   "outputs": [],
   "source": [
    "###############################################################################\n",
    "\n",
    "def jam_resid_axi_OM(pars, surf_lum=None, sigma_lum=None, qobs_lum=None, \n",
    "                      distance=None, align=None, goodbins=None,\n",
    "                      xbin=None, ybin=None, sigmapsf=None, normpsf=None, \n",
    "                      rms=None, erms=None, pixsize=None, plot=True, return_mge=False):\n",
    "    \n",
    "    #### OM should only be done with spherical alignment\n",
    "    \n",
    "    q, a_ani, gamma = pars\n",
    "    rani = a_ani * reff\n",
    "    \n",
    "    # Sample inclination using min(q), with Equation (14) of Cappellari (2008)\n",
    "    qmin = np.min(qobs_lum)\n",
    "    inc = np.degrees(np.arctan2(np.sqrt(1 - qmin**2), np.sqrt(qmin**2 - q**2)))\n",
    "    beta= [rani, 0, 1, 2]\n",
    "\n",
    "    rbreak = 50 #20*reff\n",
    "    mbh = 0                     # Ignore the central black hole\n",
    "    surf_pot, sigma_pot, qobs_pot = total_mass_mge_cap(gamma, rbreak)\n",
    "\n",
    "    jam = jam_axi_proj(surf_lum, sigma_lum, qobs_lum, surf_pot, sigma_pot, qobs_pot,\n",
    "                       inc, mbh, distance, xbin, ybin, plot=plot, pixsize=pixsize, quiet=1,\n",
    "                       sigmapsf=sigmapsf, normpsf=normpsf, goodbins=goodbins, align=align,\n",
    "                       beta=beta, data=rms, errors=erms, ml=None, logistic=True)\n",
    "    resid = (rms[goodbins] - jam.model[goodbins])/erms[goodbins]\n",
    "    chi2 = np.sum(resid**2)\n",
    "    \n",
    "    if return_mge==True:\n",
    "        \n",
    "        # return the mass mge multiplied by the ml from jam\n",
    "        return surf_pot*jam.ml, sigma_pot, qobs_pot, chi2\n",
    "    \n",
    "    else:\n",
    "        return resid   # ln(likelihood) + cost."
   ]
  },
  {
   "cell_type": "code",
   "execution_count": null,
   "metadata": {
    "tags": []
   },
   "outputs": [],
   "source": [
    "# will need the fit parameters, average slopes, enclosed masses, and uncertainties on fit parameters\n",
    "\n",
    "# np.array([inc, a_ani, a_ani_err, gamma_fit, gamma_err, gamma_avg, mass_enclosed, chi2_red])\n",
    "pl_om_sphsph_solutions = np.ones((len(obj_names), 8))\n",
    "pl_om_sphsph_cov = np.ones((len(obj_names), 2, 2))\n",
    "pl_om_sphsph_mass_profiles_r = np.ones((len(obj_names), 50))\n",
    "pl_om_sphsph_mass_profiles = np.ones((len(obj_names), 50))\n",
    "\n",
    "# np.array([inc, a_ani, a_ani_err, gamma_fit, gamma_err, gamma_avg, mass_enclosed, chi2_red])\n",
    "pl_om_axisph_solutions = np.ones((len(obj_names), 8))\n",
    "pl_om_axisph_cov = np.ones((len(obj_names), 3, 3))\n",
    "pl_om_axisph_mass_profiles_r = np.ones((len(obj_names), 50))\n",
    "pl_om_axisph_mass_profiles = np.ones((len(obj_names), 50))"
   ]
  },
  {
   "cell_type": "markdown",
   "metadata": {},
   "source": [
    "## OM PL spherical geometry"
   ]
  },
  {
   "cell_type": "code",
   "execution_count": null,
   "metadata": {
    "tags": []
   },
   "outputs": [],
   "source": [
    "for i in range(1):#len(obj_names)):\n",
    "\n",
    "    obj_name = obj_names[i]\n",
    "    obj_abbr = obj_name[4:9]\n",
    "    \n",
    "    print('######################')\n",
    "    print()\n",
    "    print(obj_name)\n",
    "    print()\n",
    "    \n",
    "    if obj_abbr=='J0330':\n",
    "        print('J0330 is not reliable and will not be used here.')\n",
    "        print()\n",
    "        continue\n",
    "    \n",
    "    SN = 15\n",
    "    mass_model='power_law'\n",
    "    anisotropy='om'\n",
    "    geometry='sph'\n",
    "    zlens= zlenses[slacs_ix_table['Name']==obj_name]\n",
    "    zsource = zsources[slacs_ix_table['Name']==obj_name]\n",
    "    sigmapsf = sigmapsf_table[sigmapsf_table['obj_name']==obj_name]['kcwi_sigmapsf'].to_numpy()[0]\n",
    "    theta_E = lens_models[lens_models['obj_name']==obj_name]['theta_E'].to_numpy()[0]\n",
    "    cosmo = cosmo\n",
    "    distance = cosmo.angular_diameter_distance(zlens).to_numpy()[0]\n",
    "    fast_slow = paper_table.loc[0, 'class_for_JAM_models']\n",
    "    \n",
    "    # load in the 1D kinematics\n",
    "    Vrms_1d = pd.read_csv(f'{milestone_dir}{obj_name}/{obj_name}_kinmap.csv')\n",
    "    Vrms = Vrms_1d['binned_Vrms'].to_numpy()\n",
    "    rbin = np.mean(Vrms_1d[['bin_inner_edge','bin_outer_edge']].to_numpy(), axis=1)\n",
    "    Vrms_cov = np.loadtxt(f'{milestone_dir}{obj_name}/{obj_name}_kinmap_cov.csv', delimiter=',', dtype=float)\n",
    "    dVrms = np.sqrt(Vrms_cov.diagonal())\n",
    "    \n",
    "    if obj_abbr=='J0330':\n",
    "        file_dir = f'{kinematics_dir}{obj_name}/target_sn_{SN}/{obj_name}_{SN}_final_kinematics/no_g/'\n",
    "    else:\n",
    "        file_dir = f'{kinematics_dir}{obj_name}/target_sn_{SN}/{obj_name}_{SN}_marginalized_gnog_final_kinematics/'\n",
    "        \n",
    "    surf_lum, sigma_lum, _, _, _, _, _, _, _, _, reff = prepare_to_jam(obj_name, file_dir, SN)\n",
    "    \n",
    "    # Starting guesses\n",
    "    ani0 = 0.5          # Anisotropy ratio sigma_z/sigma_R\n",
    "    gamma0 = -2         # Total mass logarithmic slope rho = r^gamma\n",
    "    \n",
    "    normpsf= 1  \n",
    "    p0 = [ani0, gamma0]\n",
    "    bounds = [[0.01, -4], [2.0, 0]]\n",
    "\n",
    "    # These parameters are passed to JAM\n",
    "    kwargs = {'surf_lum': surf_lum, 'sigma_lum': sigma_lum,\n",
    "              'distance': distance, 'rbin':rbin, \n",
    "              'sigmapsf': sigmapsf, 'normpsf': normpsf, \n",
    "              'rms': Vrms, 'erms': dVrms, \n",
    "              'pixsize': kcwi_scale,#pixsize,\n",
    "              'plot': 0, 'return_mge': False}\n",
    "    \n",
    "    # do the fit, take the solutions and covariance matrix\n",
    "    sol = capfit(jam_resid_sph_OM, p0, kwargs=kwargs, bounds=bounds, verbose=2, fixed=[0, 0])\n",
    "    if sol.success==True:\n",
    "        print()\n",
    "        print('Success!')\n",
    "        print()\n",
    "    else:\n",
    "        print()\n",
    "        print('Fit failed to meet convergence criteria.')\n",
    "        print()\n",
    "    # bestfit paramters\n",
    "    a_ani = sol.x[0]\n",
    "    gamma_fit = sol.x[1]\n",
    "    # covariance matrix of free parameters\n",
    "    cov = sol.cov\n",
    "    a_ani_err = np.sqrt(sol.cov.diagonal()[0])\n",
    "    gamma_err = np.sqrt(sol.cov.diagonal()[1])                    \n",
    "    \n",
    "    print('Best fit,', anis_ratio, gamma_fit)\n",
    "    \n",
    "    kwargs['plot'] = 1\n",
    "    kwargs['return_mge'] = True\n",
    "    surf_pot, sigma_pot, qobs_pot, chi2 = jam_resid_sph_OM(sol.x, **kwargs)\n",
    "    plt.savefig(f'{jam_output_dir}{obj_name}_pl_om_sphsph_fit.png')\n",
    "    plt.pause(1)\n",
    "    \n",
    "    # take chi2/dof\n",
    "    #dof = len(Vrms)\n",
    "    #chi2_red = chi2/dof\n",
    "    \n",
    "    # calculate the enclosed mass\n",
    "    mass_enclosed, gamma_avg, profile_radii, profile_1d = calculate_mass_and_slope_enclosed(surf_pot, sigma_pot, qobs_pot, distance, radius=theta_E, plot=True)\n",
    "    \n",
    "    print('Mass enclosed, avg gamma', mass_enclosed, gamma_avg)\n",
    "    \n",
    "    inc=np.nan\n",
    "    \n",
    "    pl_om_sphsph_solutions[i] = np.array([inc, a_ani, a_ani_err, gamma_fit, gamma_err, gamma_avg, mass_enclosed, chi2])\n",
    "    pl_om_sphsph_cov[i] = cov\n",
    "    pl_om_sphsph_mass_profiles_r[i] = profile_radii\n",
    "    pl_om_sphsph_mass_profiles[i] = profile_1d"
   ]
  },
  {
   "cell_type": "code",
   "execution_count": null,
   "metadata": {
    "tags": []
   },
   "outputs": [],
   "source": [
    "# save with header\n",
    "sol_header = '#### 14 objects - inc, anis_radius, anis_radius_err, gamma_fit, gamma_err, gamma_avg, mass_enclosed, chi2'\n",
    "np.savetxt(f'{jam_output_dir}jam_pl_om_sphsph_solutions_02072024.txt', pl_om_sphsph_solutions, header=sol_header) \n",
    "np.savetxt(f'{jam_output_dir}jam_pl_om_sphsph_covariances_02072024.txt', pl_om_sphsph_cov.reshape(14,4), header='covariance matrix has been reshaped to 2D, reshape back to (14,2,2)') \n",
    " \n",
    "pl_om_sphsph_mass_profile_joined = np.dstack((pl_om_sphsph_mass_profiles_r, pl_om_sphsph_mass_profiles)).reshape(14, 100)\n",
    "np.savetxt(f'{jam_output_dir}jam_pl_om_sphsph_profiles_02072024.txt', pl_om_sphsph_mass_profile_joined, header=profile_header) "
   ]
  },
  {
   "cell_type": "markdown",
   "metadata": {},
   "source": [
    "## OM PL axisymmetric geometry"
   ]
  },
  {
   "cell_type": "code",
   "execution_count": null,
   "metadata": {},
   "outputs": [],
   "source": [
    "for i in range(1):#len(obj_names)):\n",
    "\n",
    "    obj_name = obj_names[i]\n",
    "    obj_abbr = obj_name[4:9]\n",
    "    \n",
    "    print('######################')\n",
    "    print()\n",
    "    print(obj_name)\n",
    "    print()\n",
    "    \n",
    "    SN = 15\n",
    "    mass_model='power_law'\n",
    "    anisotropy='om'\n",
    "    geometry='axi'\n",
    "    align='sph'\n",
    "    zlens= zlenses[slacs_ix_table['Name']==obj_name]\n",
    "    zsource = zsources[slacs_ix_table['Name']==obj_name]\n",
    "    sigmapsf = sigmapsf_table[sigmapsf_table['obj_name']==obj_name]['kcwi_sigmapsf'].to_numpy()[0]\n",
    "    theta_E = lens_models[lens_models['obj_name']==obj_name]['theta_E'].to_numpy()[0]\n",
    "    cosmo = cosmo\n",
    "    distance = cosmo.angular_diameter_distance(zlens).to_numpy()[0]\n",
    "    fast_slow = paper_table.loc[0, 'class_for_JAM_models']\n",
    "    \n",
    "    if obj_abbr=='J0330':\n",
    "        file_dir = f'{kinematics_dir}{obj_name}/target_sn_{SN}/{obj_name}_{SN}_final_kinematics/no_g/'\n",
    "    else:\n",
    "        file_dir = f'{kinematics_dir}{obj_name}/target_sn_{SN}/{obj_name}_{SN}_marginalized_gnog_final_kinematics/'\n",
    "        \n",
    "    surf_lum, sigma_lum, qobs_lum, wrong_psf, Vrms, dVrms, V_bin, dV_bin, xbin, ybin, reff = prepare_to_jam(obj_name, file_dir, SN)\n",
    "    \n",
    "    goodbins = np.isfinite(Vrms/dVrms)\n",
    "    \n",
    "    # cut out the bad bins\n",
    "    Vrms = Vrms[goodbins]\n",
    "    dVrms = dVrms[goodbins]\n",
    "    xbin = xbin[goodbins]\n",
    "    ybin = ybin[goodbins]\n",
    "    \n",
    "    # Starting guesses\n",
    "    q0 = np.median(qobs_lum)\n",
    "    ani0 = 0.5          # Anisotropy ratio sigma_z/sigma_R\n",
    "    gamma0 = -2         # Total mass logarithmic slope rho = r^gamma\n",
    "    normpsf= 1\n",
    "    \n",
    "    \n",
    "    qmin = np.min(qobs_lum)\n",
    "    p0 = [q0, ani0, gamma0]\n",
    "    bounds = [[0.051, 0.01, -4], [qmin, 2.0, 0]]\n",
    "    goodbins = np.isfinite(xbin)  # Here I fit all bins\n",
    "\n",
    "    # These parameters are passed to JAM\n",
    "    kwargs = {'surf_lum': surf_lum, 'sigma_lum': sigma_lum, 'qobs_lum': qobs_lum,\n",
    "              'distance': distance, 'xbin': xbin, 'ybin': ybin, 'sigmapsf': sigmapsf,\n",
    "              'normpsf': normpsf, 'rms': Vrms, 'erms': dVrms, 'pixsize': kcwi_scale,#pixsize,\n",
    "              'goodbins': goodbins, 'align':align, 'plot': 0, 'return_mge': False}\n",
    "\n",
    "    sol = capfit(jam_resid_axi_OM, p0, kwargs=kwargs, bounds=bounds, verbose=2, fixed=[0, 0, 0])\n",
    "    # bestfit paramters\n",
    "    q = sol.x[0]\n",
    "    inc = np.degrees(np.arctan2(np.sqrt(1 - qmin**2), np.sqrt(qmin**2 - q**2)))\n",
    "    a_ani = sol.x[1]\n",
    "    gamma_fit = sol.x[2]\n",
    "    # covariance matrix of free parameters\n",
    "    cov = sol.cov\n",
    "    q_err = np.sqrt(sol.cov.diagonal()[0])\n",
    "    a_ani_err = np.sqrt(sol.cov.diagonal()[1])\n",
    "    gamma_err = np.sqrt(sol.cov.diagonal()[2])   \n",
    "    \n",
    "    print('Best fit,', anis_ratio, gamma_fit)\n",
    "    \n",
    "    kwargs['plot'] = 1\n",
    "    kwargs['return_mge'] = True\n",
    "    surf_pot, sigma_pot, qobs_pot, chi2 = jam_resid_axi_OM(sol.x, **kwargs)\n",
    "    plt.savefig(f'{jam_output_dir}{obj_name}_pl_om_axisph_fit.png')\n",
    "    plt.pause(1)\n",
    "    \n",
    "    # take chi2/dof\n",
    "    #dof = len(Vrms)\n",
    "    #chi2_red = chi2/dof\n",
    "    \n",
    "    # calculate the enclosed mass\n",
    "    mass_enclosed, gamma_avg, profile_radii, profile_1d = calculate_mass_and_slope_enclosed(surf_pot, sigma_pot, qobs_pot, distance, radius=theta_E, plot=True)\n",
    "    \n",
    "    print('Mass enclosed, avg gamma', mass_enclosed, gamma_avg)\n",
    "    \n",
    "    pl_om_axisph_solutions[i] = np.array([inc, a_ani, a_ani_err, gamma_fit, gamma_err, gamma_avg, mass_enclosed, chi2])\n",
    "    pl_om_axisph_cov[i] = cov\n",
    "    pl_om_axisph_mass_profiles_r[i] = profile_radii\n",
    "    pl_om_axisph_mass_profiles[i] = profile_1d"
   ]
  },
  {
   "cell_type": "code",
   "execution_count": null,
   "metadata": {
    "tags": []
   },
   "outputs": [],
   "source": [
    "# save with header\n",
    "sol_header = '#### 14 objects - inc, anis_radius, anis_radius_err, gamma_fit, gamma_err, gamma_avg, mass_enclosed, chi2'\n",
    "np.savetxt(f'{jam_output_dir}jam_pl_om_axisph_solutions_02072024.txt', pl_om_axisph_solutions, header=sol_header) \n",
    "np.savetxt(f'{jam_output_dir}jam_pl_om_axisph_covariances_02072024.txt', pl_om_axisph_cov.reshape(14,9), header='covariance matrix has been reshaped to 2D, reshape back to (14,2,2)') \n",
    " \n",
    "pl_om_axisph_mass_profile_joined = np.dstack((pl_om_axisph_mass_profiles_r, pl_om_axisph_mass_profiles)).reshape(14, 100)\n",
    "np.savetxt(f'{jam_output_dir}jam_pl_om_axisph_profiles_02072024.txt', pl_om_axisph_mass_profile_joined, header=profile_header) "
   ]
  },
  {
   "cell_type": "markdown",
   "metadata": {
    "tags": []
   },
   "source": [
    "_____________________________\n",
    "_____________________________\n",
    "_____________________________\n",
    "_____________________________\n",
    "# MFL, constant anisotropy"
   ]
  },
  {
   "cell_type": "code",
   "execution_count": null,
   "metadata": {},
   "outputs": [],
   "source": [
    "def jam_resid_mfl(pars, surf_lum=None, sigma_lum=None, qobs_lum=None, distance=None,\n",
    "                  xbin=None, ybin=None, sigmapsf=None, normpsf=None, goodbins=None,\n",
    "                  rms=None, erms=None, pixsize=None, align=None, plot=True, return_mge=False):\n",
    "\n",
    "    q, ratio = pars\n",
    "\n",
    "    # Sample inclination using min(q), with Equation (14) of Cappellari (2008)\n",
    "    qmin = np.min(qobs_lum)\n",
    "    inc = np.degrees(np.arctan2(np.sqrt(1 - qmin**2), np.sqrt(qmin**2 - q**2)))\n",
    "    \n",
    "    # anisotropy\n",
    "    beta = np.full_like(qobs_lum, 1 - ratio**2)   # assume constant anisotropy\n",
    "    \n",
    "    # break radius (how far out we fit it)\n",
    "    rbreak = 50 #20*reff\n",
    "    mbh = 0 # Ignore the central black hole\n",
    "    \n",
    "    # take the surface brigbhtness profile as the mass prfoile, it will be scaled by some M/L\n",
    "    surf_pot, sigma_pot, qobs_pot = surf_lum, sigma_lum, qobs_lum\n",
    "    \n",
    "    # do the fit\n",
    "    jam = jam_axi_proj(surf_lum, sigma_lum, qobs_lum, surf_pot, sigma_pot, qobs_pot,\n",
    "                       inc, mbh, distance, xbin, ybin, plot=plot, pixsize=pixsize, quiet=1,\n",
    "                       sigmapsf=sigmapsf, normpsf=normpsf, goodbins=goodbins, align=align,\n",
    "                       beta=beta, data=rms, errors=erms, ml=None)\n",
    "    \n",
    "    # get residual and chi2\n",
    "    resid = (rms[goodbins] - jam.model[goodbins])/erms[goodbins]\n",
    "    chi2 = np.sum(resid**2)\n",
    "    \n",
    "    if return_mge==True:\n",
    "        \n",
    "        # return the mass mge multiplied by the ml from jam\n",
    "        return surf_pot*jam.ml, sigma_pot, qobs_pot, chi2\n",
    "    \n",
    "    else:\n",
    "        return resid   # ln(likelihood) + cost.\n"
   ]
  },
  {
   "cell_type": "code",
   "execution_count": null,
   "metadata": {},
   "outputs": [],
   "source": [
    "# anis_ratio, gamma_fit, mass_enclosed, gamma\n",
    "\n",
    "mfl_const_axisph_solutions = np.ones((len(obj_names), 8))\n",
    "mfl_const_axisph_cov = np.ones((len(obj_names), 2, 2))\n",
    "mfl_const_axisph_mass_profiles_r = np.ones((len(obj_names), 50))\n",
    "mfl_const_axisph_mass_profiles = np.ones((len(obj_names), 50))\n",
    "\n",
    "mfl_const_axicyl_solutions = np.ones((len(obj_names), 8))\n",
    "mfl_const_axicyl_cov = np.ones((len(obj_names), 2, 2))\n",
    "mfl_const_axicyl_mass_profiles_r = np.ones((len(obj_names), 50))\n",
    "mfl_const_axicyl_mass_profiles = np.ones((len(obj_names), 50))"
   ]
  },
  {
   "cell_type": "markdown",
   "metadata": {},
   "source": [
    "## Axisymmetric Cylindrical MFL"
   ]
  },
  {
   "cell_type": "code",
   "execution_count": null,
   "metadata": {
    "tags": []
   },
   "outputs": [],
   "source": [
    "\n",
    "for i in range(1):#len(obj_names)):\n",
    "\n",
    "    obj_name = obj_names[i]\n",
    "    obj_abbr = obj_name[4:9]\n",
    "    \n",
    "    print('######################')\n",
    "    print()\n",
    "    print(obj_name)\n",
    "    print()\n",
    "    \n",
    "    SN = 15\n",
    "    mass_model='mfl'\n",
    "    anisotropy='const'\n",
    "    geometry='axi'\n",
    "    align='cyl'\n",
    "    zlens= zlenses[slacs_ix_table['Name']==obj_name]\n",
    "    zsource = zsources[slacs_ix_table['Name']==obj_name]\n",
    "    sigmapsf = sigmapsf_table[sigmapsf_table['obj_name']==obj_name]['kcwi_sigmapsf'].to_numpy()[0]\n",
    "    cosmo = cosmo\n",
    "    distance = cosmo.angular_diameter_distance(zlens).to_numpy()[0]\n",
    "    fast_slow = paper_table.loc[0, 'class_for_JAM_models']\n",
    "    \n",
    "    if obj_abbr=='J0330':\n",
    "        file_dir = f'{kinematics_dir}{obj_name}/target_sn_{SN}/{obj_name}_{SN}_final_kinematics/no_g/'\n",
    "    else:\n",
    "        file_dir = f'{kinematics_dir}{obj_name}/target_sn_{SN}/{obj_name}_{SN}_marginalized_gnog_final_kinematics/'\n",
    "        \n",
    "    surf_lum, sigma_lum, qobs_lum, wrong_psf, Vrms, dVrms, V_bin, dV_bin, xbin, ybin, reff = prepare_to_jam(obj_name, file_dir, SN)\n",
    "    \n",
    "    goodbins = np.isfinite(Vrms/dVrms)\n",
    "    \n",
    "    # cut out the bad bins\n",
    "    Vrms = Vrms[goodbins]\n",
    "    dVrms = dVrms[goodbins]\n",
    "    xbin = xbin[goodbins]\n",
    "    ybin = ybin[goodbins]\n",
    "    \n",
    "    # Starting guesses\n",
    "    q0 = np.median(qobs_lum)\n",
    "    ratio0 = 1          # Anisotropy ratio sigma_z/sigma_R\n",
    "    gamma0 = -2         # Total mass logarithmic slope rho = r^gamma\n",
    "    normpsf= 1\n",
    "    \n",
    "    qmin = np.min(qobs_lum)\n",
    "    p0 = [q0, ratio0]\n",
    "    bounds = [[0.051, 0.01], [qmin, 1]]\n",
    "    goodbins = np.isfinite(xbin)  # Here I fit all bins\n",
    "\n",
    "    # These parameters are passed to JAM\n",
    "    kwargs = {'surf_lum': surf_lum, 'sigma_lum': sigma_lum, 'qobs_lum': qobs_lum,\n",
    "              'distance': distance, 'xbin': xbin, 'ybin': ybin, 'sigmapsf': sigmapsf,\n",
    "              'normpsf': normpsf, 'rms': Vrms, 'erms': dVrms, 'pixsize': kcwi_scale,#pixsize,\n",
    "              'goodbins': goodbins, 'align':align, 'plot': 0, 'return_mge': False}\n",
    "\n",
    "    sol = capfit(jam_resid_mfl, p0, kwargs=kwargs, bounds=bounds, verbose=2, fixed=[0, 0])\n",
    "    if sol.success==True:\n",
    "        print()\n",
    "        print('Success!')\n",
    "        print()\n",
    "    else:\n",
    "        print()\n",
    "        print('Fit failed to meet convergence criteria.')\n",
    "        print()\n",
    "    \n",
    "    q = sol.x[0]\n",
    "    inc = np.degrees(np.arctan2(np.sqrt(1 - qmin**2), np.sqrt(qmin**2 - q**2)))\n",
    "    anis_ratio = sol.x[1]\n",
    "    print('Best fit,', inc, anis_ratio)\n",
    "    \n",
    "    # covariance matrix of free parameters\n",
    "    cov = sol.cov\n",
    "    # qerr doesn't matter but is the first index\n",
    "    anis_ratio_err = np.sqrt(sol.cov.diagonal()[1])\n",
    "    gamma_err = np.nan \n",
    "    \n",
    "    # plot\n",
    "    kwargs['plot'] = 1\n",
    "    kwargs['return_mge'] = True\n",
    "    surf_pot, sigma_pot, qobs_pot, chi2 = jam_resid_mfl(sol.x, **kwargs)\n",
    "    plt.savefig(f'{jam_output_dir}{obj_name}_mfl_const_axicyl_fit.png')\n",
    "    plt.pause(1)\n",
    "    \n",
    "    # take chi2/dof\n",
    "    #dof = len(Vrms)\n",
    "    #chi2_red = chi2/dof\n",
    "    \n",
    "    gamma_fit = np.nan\n",
    "    gamma_err = np.nan\n",
    "    \n",
    "    # calculate the enclosed mass\n",
    "    mass_enclosed, gamma_avg, profile_radii, profile_1d \\\n",
    "                = calculate_mass_and_slope_enclosed(surf_pot, sigma_pot, qobs_pot, distance, radius=theta_E, plot=True)\n",
    "    \n",
    "    print('Mass enclosed, avg gamma', mass_enclosed, gamma_avg)\n",
    "    \n",
    "    mfl_const_axicyl_solutions[i] = np.array([inc, \n",
    "                                             anis_ratio, anis_ratio_err, \n",
    "                                             gamma_fit, gamma_err, \n",
    "                                             gamma_avg, mass_enclosed, \n",
    "                                             chi2])\n",
    "    mfl_const_axicyl_cov[i] = cov\n",
    "    mfl_const_axicyl_mass_profiles_r[i] = profile_radii\n",
    "    mfl_const_axicyl_mass_profiles[i] = profile_1d"
   ]
  },
  {
   "cell_type": "code",
   "execution_count": null,
   "metadata": {},
   "outputs": [],
   "source": [
    "# save with header\n",
    "sol_header = '#### 14 objects - inc, anis_ratio, anis_ratio_err, gamma_fit, gamma_err, gamma_avg, mass_enclosed, chi2'\n",
    "np.savetxt(f'{jam_output_dir}jam_mfl_const_axicyl_solutions_02072024.txt', mfl_const_axicyl_solutions, header=sol_header) \n",
    "np.savetxt(f'{jam_output_dir}jam_mfl_const_axicyl_covariances_02072024.txt', mfl_const_axicyl_cov.reshape(14,4), header='covariance matrix has been reshaped to 2D, reshape back to (14,3,3)') \n",
    "\n",
    "profile_header = '#### radius, surface mass density (Msol/pc2), has been reshaped to 2D, reshape back to (14,50,2)'\n",
    "mfl_const_axicyl_mass_profile_joined = np.dstack((mfl_const_axicyl_mass_profiles_r, mfl_const_axicyl_mass_profiles)).reshape(14, 100)\n",
    "np.savetxt(f'{jam_output_dir}jam_mfl_const_axicyl_profiles_02072024.txt', mfl_const_axicyl_mass_profile_joined, header=profile_header) "
   ]
  },
  {
   "cell_type": "markdown",
   "metadata": {},
   "source": [
    "## Axisymmetric Spherical MFL"
   ]
  },
  {
   "cell_type": "code",
   "execution_count": null,
   "metadata": {
    "tags": []
   },
   "outputs": [],
   "source": [
    "\n",
    "for i in range(1):#len(obj_names)):\n",
    "\n",
    "    obj_name = obj_names[i]\n",
    "    obj_abbr = obj_name[4:9]\n",
    "    SN = 15\n",
    "    \n",
    "    print('######################')\n",
    "    print()\n",
    "    print(obj_name)\n",
    "    print()\n",
    "    \n",
    "    mass_model='mfl'\n",
    "    anisotropy='const'\n",
    "    geometry='axi'\n",
    "    align='sph'\n",
    "    zlens= zlenses[slacs_ix_table['Name']==obj_name]\n",
    "    zsource = zsources[slacs_ix_table['Name']==obj_name]\n",
    "    sigmapsf = sigmapsf_table[sigmapsf_table['obj_name']==obj_name]['kcwi_sigmapsf'].to_numpy()[0]\n",
    "    cosmo = cosmo\n",
    "    distance = cosmo.angular_diameter_distance(zlens).to_numpy()[0]\n",
    "    fast_slow = paper_table.loc[0, 'class_for_JAM_models']\n",
    "    \n",
    "    if obj_abbr=='J0330':\n",
    "        file_dir = f'{kinematics_dir}{obj_name}/target_sn_{SN}/{obj_name}_{SN}_final_kinematics/no_g/'\n",
    "    else:\n",
    "        file_dir = f'{kinematics_dir}{obj_name}/target_sn_{SN}/{obj_name}_{SN}_marginalized_gnog_final_kinematics/'\n",
    "        \n",
    "    surf_lum, sigma_lum, qobs_lum, wrong_psf, Vrms, dVrms, V_bin, dV_bin, xbin, ybin, reff = prepare_to_jam(obj_name, file_dir, SN)\n",
    "    \n",
    "    goodbins = np.isfinite(Vrms/dVrms)\n",
    "    \n",
    "    # cut out the bad bins\n",
    "    Vrms = Vrms[goodbins]\n",
    "    dVrms = dVrms[goodbins]\n",
    "    xbin = xbin[goodbins]\n",
    "    ybin = ybin[goodbins]\n",
    "        \n",
    "    # Starting guesses\n",
    "    q0 = np.median(qobs_lum)\n",
    "    ratio0 = 1          # Anisotropy ratio sigma_z/sigma_R\n",
    "    normpsf= 1\n",
    "    \n",
    "    qmin = np.min(qobs_lum)\n",
    "    p0 = [q0, ratio0]\n",
    "    bounds = [[0.051, 0.01], [qmin, 2.0]]\n",
    "    goodbins = np.isfinite(xbin)  # Here I fit all bins\n",
    "\n",
    "    # These parameters are passed to JAM\n",
    "    kwargs = {'surf_lum': surf_lum, 'sigma_lum': sigma_lum, 'qobs_lum': qobs_lum,\n",
    "              'distance': distance, 'xbin': xbin, 'ybin': ybin, 'sigmapsf': sigmapsf,\n",
    "              'normpsf': normpsf, 'rms': Vrms, 'erms': dVrms, 'pixsize': kcwi_scale,#pixsize,\n",
    "              'goodbins': goodbins, 'align':align, 'plot': 0, 'return_mge': False}\n",
    "\n",
    "    sol = capfit(jam_resid_mfl, p0, kwargs=kwargs, bounds=bounds, verbose=2, fixed=[0, 0])\n",
    "    if sol.success==True:\n",
    "        print()\n",
    "        print('Success!')\n",
    "        print()\n",
    "    else:\n",
    "        print()\n",
    "        print('Fit failed to meet convergence criteria.')\n",
    "        print()\n",
    "        \n",
    "    # bestfit\n",
    "    q = sol.x[0]\n",
    "    inc = np.degrees(np.arctan2(np.sqrt(1 - qmin**2), np.sqrt(qmin**2 - q**2)))\n",
    "    anis_ratio = sol.x[1]\n",
    "    print('Best fit,', inc, anis_ratio)\n",
    "    \n",
    "    # covariance matrix of free parameters\n",
    "    cov = sol.cov\n",
    "    # qerr doesn't matter but is the first index\n",
    "    anis_ratio_err = np.sqrt(sol.cov.diagonal()[1])\n",
    "    \n",
    "    # plot\n",
    "    kwargs['plot'] = 1\n",
    "    kwargs['return_mge'] = True\n",
    "    surf_pot, sigma_pot, qobs_pot, chi2 = jam_resid_mfl(sol.x, **kwargs)\n",
    "    plt.savefig(f'{jam_output_dir}{obj_name}_mfl_const_axisph_fit.png')\n",
    "    plt.pause(1)\n",
    "    \n",
    "    # take chi2/dof\n",
    "    #dof = len(Vrms)\n",
    "    #chi2_red = chi2/dof\n",
    "    \n",
    "    gamma_fit = np.nan\n",
    "    gamma_err = np.nan\n",
    "    \n",
    "    # calculate the enclosed mass\n",
    "    mass_enclosed, gamma_avg, profile_radii, profile_1d \\\n",
    "                = calculate_mass_and_slope_enclosed(surf_pot, sigma_pot, qobs_pot, distance, radius=theta_E, plot=True)\n",
    "    \n",
    "    print('Mass enclosed, avg gamma', mass_enclosed, gamma_avg)\n",
    "    \n",
    "    mfl_const_axisph_solutions[i] = np.array([inc, \n",
    "                                             anis_ratio, anis_ratio_err, \n",
    "                                             gamma_fit, gamma_err, \n",
    "                                             gamma_avg, mass_enclosed, \n",
    "                                             chi2])\n",
    "    mfl_const_axisph_cov[i] = cov\n",
    "    mfl_const_axisph_mass_profiles_r[i] = profile_radii\n",
    "    mfl_const_axisph_mass_profiles[i] = profile_1d"
   ]
  },
  {
   "cell_type": "code",
   "execution_count": null,
   "metadata": {
    "tags": []
   },
   "outputs": [],
   "source": [
    "# save with header\n",
    "sol_header = '#### 14 objects - inc, anis_ratio, anis_ratio_err, gamma_fit, gamma_err, gamma_avg, mass_enclosed, chi2'\n",
    "np.savetxt(f'{jam_output_dir}jam_mfl_const_axisph_solutions_02072024.txt', mfl_const_axisph_solutions, header=sol_header) \n",
    "np.savetxt(f'{jam_output_dir}jam_mfl_const_axisph_covariances_02072024.txt', mfl_const_axisph_cov.reshape(14,4), header='covariance matrix has been reshaped to 2D, reshape back to (14,3,3)') \n",
    "\n",
    "profile_header = '#### radius, surface mass density (Msol/pc2), has been reshaped to 2D, reshape back to (14,50,2)'\n",
    "mfl_const_axisph_mass_profile_joined = np.dstack((mfl_const_axisph_mass_profiles_r, mfl_const_axisph_mass_profiles)).reshape(14, 100)\n",
    "np.savetxt(f'{jam_output_dir}jam_mfl_const_axisph_profiles_02072024.txt', mfl_const_axisph_mass_profile_joined, header=profile_header) "
   ]
  },
  {
   "cell_type": "markdown",
   "metadata": {},
   "source": [
    "## Spherical Geometry MFL"
   ]
  },
  {
   "cell_type": "code",
   "execution_count": null,
   "metadata": {
    "tags": []
   },
   "outputs": [],
   "source": [
    "def jam_resid_mfl_sph(pars, surf_lum=None, sigma_lum=None,\n",
    "                  distance=None, rbin=None,\n",
    "                   sigmapsf=None, normpsf=None, \n",
    "                  rms=None, erms=None, pixsize=None, plot=True, return_mge=False):\n",
    "\n",
    "    ratio = pars\n",
    "\n",
    "    # anisotropy\n",
    "    beta = np.full_like(surf_lum, 1 - ratio**2)   # assume constant anisotropy\n",
    "    \n",
    "    # break radius (how far out we fit it)\n",
    "    rbreak = 50 # arcsec 20*reff\n",
    "    mbh = 0 # Ignore the central black hole\n",
    "    \n",
    "    # take the surface brigbhtness profile as the mass prfoile, it will be scaled by some M/L\n",
    "    surf_pot, sigma_pot = surf_lum, sigma_lum\n",
    "    qobs_pot = np.ones_like(surf_pot)\n",
    "    \n",
    "    # do the fit\n",
    "    jam = jam_sph_proj(surf_lum, sigma_lum, surf_pot, sigma_pot,\n",
    "                       mbh, distance, rbin,\n",
    "                       sigmapsf=sigmapsf, normpsf=normpsf,\n",
    "                      beta=beta, data=rms, errors=erms, \n",
    "                       plot=plot, pixsize=pixsize, quiet=1, ml=None)\n",
    "    \n",
    "    # get residual and chi2\n",
    "    resid = (rms - jam.model)/erms\n",
    "    chi2 = np.sum(resid**2)\n",
    "    \n",
    "    if return_mge==True:\n",
    "        \n",
    "        # return the mass mge multiplied by the ml from jam\n",
    "        return surf_pot*jam.ml, sigma_pot, qobs_pot, chi2\n",
    "    \n",
    "    else:\n",
    "        return resid   # ln(likelihood) + cost.\n"
   ]
  },
  {
   "cell_type": "code",
   "execution_count": null,
   "metadata": {
    "tags": []
   },
   "outputs": [],
   "source": [
    "mfl_const_sphsph_solutions = np.ones((len(obj_names), 8))\n",
    "mfl_const_sphsph_cov = np.ones((len(obj_names), 1, 1))\n",
    "mfl_const_sphsph_mass_profiles_r = np.ones((len(obj_names), 50))\n",
    "mfl_const_sphsph_mass_profiles = np.ones((len(obj_names), 50))"
   ]
  },
  {
   "cell_type": "code",
   "execution_count": null,
   "metadata": {
    "tags": []
   },
   "outputs": [],
   "source": [
    "for i in range(1):#len(obj_names)):\n",
    "\n",
    "    obj_name = obj_names[i]\n",
    "    obj_abbr = obj_name[4:9]\n",
    "    \n",
    "    print('######################')\n",
    "    print()\n",
    "    print(obj_name)\n",
    "    print()\n",
    "    \n",
    "    SN = 15\n",
    "    mass_model='mfl'\n",
    "    anisotropy='const'\n",
    "    geometry='sph'\n",
    "    zlens= zlenses[slacs_ix_table['Name']==obj_name]\n",
    "    zsource = zsources[slacs_ix_table['Name']==obj_name]\n",
    "    sigmapsf = sigmapsf_table[sigmapsf_table['obj_name']==obj_name]['kcwi_sigmapsf'].to_numpy()[0]\n",
    "    theta_E = lens_models[lens_models['obj_name']==obj_name]['theta_E'].to_numpy()[0]\n",
    "    cosmo = cosmo\n",
    "    distance = cosmo.angular_diameter_distance(zlens).to_numpy()[0]\n",
    "    fast_slow = paper_table.loc[0, 'class_for_JAM_models']\n",
    "    \n",
    "    # load in the 1D kinematics\n",
    "    Vrms_1d = pd.read_csv(f'{milestone_dir}{obj_name}/{obj_name}_kinmap.csv')\n",
    "    Vrms = Vrms_1d['binned_Vrms'].to_numpy()\n",
    "    rbin = np.mean(Vrms_1d[['bin_inner_edge','bin_outer_edge']].to_numpy(), axis=1)\n",
    "    Vrms_cov = np.loadtxt(f'{milestone_dir}{obj_name}/{obj_name}_kinmap_cov.csv', delimiter=',', dtype=float)\n",
    "    dVrms = np.sqrt(Vrms_cov.diagonal())\n",
    "    \n",
    "    if obj_abbr=='J0330':\n",
    "        file_dir = f'{kinematics_dir}{obj_name}/target_sn_{SN}/{obj_name}_{SN}_final_kinematics/no_g/'\n",
    "    else:\n",
    "        file_dir = f'{kinematics_dir}{obj_name}/target_sn_{SN}/{obj_name}_{SN}_marginalized_gnog_final_kinematics/'\n",
    "        \n",
    "    surf_lum, sigma_lum, _, _, _, _, _, _, _, _, reff = prepare_to_jam(obj_name, file_dir, SN)\n",
    "    \n",
    "    # Starting guesses\n",
    "    ratio0 = 1          # Anisotropy ratio sigma_z/sigma_R\n",
    "    \n",
    "    normpsf= 1  \n",
    "    p0 = [ratio0]\n",
    "    bounds = [[0.01], [2.0]]\n",
    "\n",
    "    # These parameters are passed to JAM\n",
    "    kwargs = {'surf_lum': surf_lum, 'sigma_lum': sigma_lum,\n",
    "              'distance': distance, 'rbin':rbin, \n",
    "              'sigmapsf': sigmapsf, 'normpsf': normpsf, \n",
    "              'rms': Vrms, 'erms': dVrms, \n",
    "              'pixsize': kcwi_scale,#pixsize,\n",
    "              'plot': 0, 'return_mge': False}\n",
    "\n",
    "    sol = capfit(jam_resid_mfl_sph, p0, kwargs=kwargs, bounds=bounds, verbose=2, fixed=[0])\n",
    "    if sol.success==True:\n",
    "        print()\n",
    "        print('Success!')\n",
    "        print()\n",
    "    else:\n",
    "        print()\n",
    "        print('Fit failed to meet convergence criteria.')\n",
    "        print()\n",
    "    \n",
    "    # bestfit\n",
    "    anis_ratio = sol.x[0]\n",
    "    print('Best fit,', anis_ratio)\n",
    "    \n",
    "    # covariance matrix of free parameters\n",
    "    cov = sol.cov\n",
    "    anis_ratio_err = np.sqrt(sol.cov.diagonal()[0])\n",
    "    \n",
    "    kwargs['plot'] = 1\n",
    "    kwargs['return_mge'] = True\n",
    "    surf_pot, sigma_pot, qobs_pot, chi2 = jam_resid_mfl_sph(sol.x, **kwargs)\n",
    "    plt.savefig(f'{jam_output_dir}{obj_name}_mfl_const_sphsph_fit.png')\n",
    "    plt.pause(1)\n",
    "    \n",
    "    # take chi2/dof\n",
    "    #dof = len(Vrms)\n",
    "    #chi2_red = chi2/dof\n",
    "    \n",
    "    # calculate the enclosed mass\n",
    "    mass_enclosed, gamma_avg, profile_radii, profile_1d = calculate_mass_and_slope_enclosed(surf_pot, sigma_pot, qobs_pot, distance, radius=theta_E, plot=True)\n",
    "    \n",
    "    # parameters not fit\n",
    "    inc = np.nan\n",
    "    gamma_fit = np.nan\n",
    "    gamma_err = np.nan\n",
    "    \n",
    "    \n",
    "    print('Mass enclosed, avg gamma', mass_enclosed, gamma_avg)\n",
    "    \n",
    "    mfl_const_sphsph_solutions[i] = np.array([inc, anis_ratio, anis_ratio_err, gamma_fit, gamma_err, gamma_avg, mass_enclosed, chi2])\n",
    "    mfl_const_sphsph_cov[i] = cov\n",
    "    mfl_const_sphsph_mass_profiles_r[i] = profile_radii\n",
    "    mfl_const_sphsph_mass_profiles[i] = profile_1d"
   ]
  },
  {
   "cell_type": "code",
   "execution_count": null,
   "metadata": {},
   "outputs": [],
   "source": [
    "# save with header\n",
    "sol_header = '#### 14 objects - inc, anis_ratio, anis_ratio_err, gamma_fit, gamma_err, gamma_avg, mass_enclosed, chi2'\n",
    "np.savetxt(f'{jam_output_dir}jam_mfl_const_sphsph_solutions_02072024.txt', mfl_const_sphsph_solutions, header=sol_header) \n",
    "np.savetxt(f'{jam_output_dir}jam_mfl_const_sphsph_covariances_02072024.txt', mfl_const_sphsph_cov.reshape(14,1), header='covariance matrix has been reshaped to 2D, reshape back to (14,3,3)') \n",
    "\n",
    "mfl_const_sphsph_mass_profile_joined = np.dstack((mfl_const_sphsph_mass_profiles_r, mfl_const_sphsph_mass_profiles)).reshape(14, 100)\n",
    "np.savetxt(f'{jam_output_dir}jam_mfl_const_sphsph_profiles_02072024.txt', mfl_const_sphsph_mass_profile_joined, header=profile_header) "
   ]
  },
  {
   "cell_type": "markdown",
   "metadata": {},
   "source": [
    "# MFL, Osipkov-Merrit"
   ]
  },
  {
   "cell_type": "code",
   "execution_count": null,
   "metadata": {
    "tags": []
   },
   "outputs": [],
   "source": [
    "###############################################################################\n",
    "\n",
    "def jam_resid_mfl_sph_OM(pars, surf_lum=None, sigma_lum=None,\n",
    "                      distance=None, rbin=None,\n",
    "                       sigmapsf=None, normpsf=None, \n",
    "                      rms=None, erms=None, pixsize=None, plot=True, return_mge=False):\n",
    "    \n",
    "    # OM uses anisotropy radius instead of the ratio\n",
    "    a_ani = pars\n",
    "    rani = reff * a_ani\n",
    "\n",
    "    rbreak = 50 #20*reff\n",
    "    mbh = 0                     # Ignore the central black hole\n",
    "    \n",
    "    # take the surface brigbhtness profile as the mass prfoile, it will be scaled by some M/L\n",
    "    surf_pot, sigma_pot = surf_lum, sigma_lum\n",
    "    qobs_pot = np.ones_like(surf_pot)\n",
    "\n",
    "    jam = jam_sph_proj(surf_lum, sigma_lum, surf_pot, sigma_pot,\n",
    "                       mbh, distance, rbin,\n",
    "                       sigmapsf=sigmapsf, normpsf=normpsf,\n",
    "                       rani=rani, data=rms, errors=erms, \n",
    "                       plot=plot, pixsize=pixsize, quiet=1, ml=None)\n",
    "    \n",
    "    resid = (rms - jam.model)/erms\n",
    "    chi2 = np.sum(resid**2)\n",
    "    \n",
    "    if return_mge==True:\n",
    "        \n",
    "        # return the mass mge multiplied by the ml from jam\n",
    "        return surf_pot*jam.ml, sigma_pot, qobs_pot, chi2\n",
    "    \n",
    "    else:\n",
    "        return resid   # ln(likelihood) + cost."
   ]
  },
  {
   "cell_type": "code",
   "execution_count": null,
   "metadata": {
    "tags": []
   },
   "outputs": [],
   "source": [
    "###############################################################################\n",
    "\n",
    "def jam_resid_mfl_axi_OM(pars, surf_lum=None, sigma_lum=None, qobs_lum=None, \n",
    "                      distance=None, align=None, goodbins=None,\n",
    "                      xbin=None, ybin=None, sigmapsf=None, normpsf=None, \n",
    "                      rms=None, erms=None, pixsize=None, plot=True, return_mge=False):\n",
    "    \n",
    "    #### OM should only be done with spherical alignment\n",
    "    \n",
    "    q, a_ani = pars\n",
    "    rani = a_ani * reff\n",
    "    \n",
    "    # Sample inclination using min(q), with Equation (14) of Cappellari (2008)\n",
    "    qmin = np.min(qobs_lum)\n",
    "    inc = np.degrees(np.arctan2(np.sqrt(1 - qmin**2), np.sqrt(qmin**2 - q**2)))\n",
    "    beta = [rani, 0, 1, 2]\n",
    "    \n",
    "    rbreak = 50 #20*reff\n",
    "    mbh = 0                     # Ignore the central black hole\n",
    "    \n",
    "    # take the surface brigbhtness profile as the mass prfoile, it will be scaled by some M/L\n",
    "    surf_pot, sigma_pot = surf_lum, sigma_lum\n",
    "    qobs_pot = np.ones_like(surf_pot)\n",
    "\n",
    "    jam = jam_axi_proj(surf_lum, sigma_lum, qobs_lum, surf_pot, sigma_pot, qobs_pot,\n",
    "                       inc, mbh, distance, xbin, ybin, plot=plot, pixsize=pixsize, quiet=1,\n",
    "                       sigmapsf=sigmapsf, normpsf=normpsf, goodbins=goodbins, align=align,\n",
    "                       beta=beta, data=rms, errors=erms, ml=None, logistic=True)\n",
    "    resid = (rms[goodbins] - jam.model[goodbins])/erms[goodbins]\n",
    "    chi2 = np.sum(resid**2)\n",
    "    \n",
    "    if return_mge==True:\n",
    "        \n",
    "        # return the mass mge multiplied by the ml from jam\n",
    "        return surf_pot*jam.ml, sigma_pot, qobs_pot, chi2\n",
    "    \n",
    "    else:\n",
    "        return resid   # ln(likelihood) + cost."
   ]
  },
  {
   "cell_type": "code",
   "execution_count": null,
   "metadata": {
    "tags": []
   },
   "outputs": [],
   "source": [
    "# will need the fit parameters, average slopes, enclosed masses, and uncertainties on fit parameters\n",
    "\n",
    "# np.array([inc, a_ani, a_ani_err, gamma_fit, gamma_err, gamma_avg, mass_enclosed, chi2_red])\n",
    "mfl_om_sphsph_solutions = np.ones((len(obj_names), 8))\n",
    "mfl_om_sphsph_cov = np.ones((len(obj_names), 1, 1))\n",
    "mfl_om_sphsph_mass_profiles_r = np.ones((len(obj_names), 50))\n",
    "mfl_om_sphsph_mass_profiles = np.ones((len(obj_names), 50))\n",
    "\n",
    "# np.array([inc, a_ani, a_ani_err, gamma_fit, gamma_err, gamma_avg, mass_enclosed, chi2_red])\n",
    "mfl_om_axisph_solutions = np.ones((len(obj_names), 8))\n",
    "mfl_om_axisph_cov = np.ones((len(obj_names), 2, 2))\n",
    "mfl_om_axisph_mass_profiles_r = np.ones((len(obj_names), 50))\n",
    "mfl_om_axisph_mass_profiles = np.ones((len(obj_names), 50))"
   ]
  },
  {
   "cell_type": "markdown",
   "metadata": {},
   "source": [
    "## OM MFL spherical geometry"
   ]
  },
  {
   "cell_type": "code",
   "execution_count": null,
   "metadata": {},
   "outputs": [],
   "source": [
    "for i in range(1):#len(obj_names)):\n",
    "\n",
    "    obj_name = obj_names[i]\n",
    "    obj_abbr = obj_name[4:9]\n",
    "    \n",
    "    print('######################')\n",
    "    print()\n",
    "    print(obj_name)\n",
    "    print()\n",
    "    \n",
    "    SN = 15\n",
    "    mass_model='mfl'\n",
    "    anisotropy='om'\n",
    "    geometry='sph'\n",
    "    zlens= zlenses[slacs_ix_table['Name']==obj_name]\n",
    "    zsource = zsources[slacs_ix_table['Name']==obj_name]\n",
    "    sigmapsf = sigmapsf_table[sigmapsf_table['obj_name']==obj_name]['kcwi_sigmapsf'].to_numpy()[0]\n",
    "    theta_E = lens_models[lens_models['obj_name']==obj_name]['theta_E'].to_numpy()[0]\n",
    "    cosmo = cosmo\n",
    "    distance = cosmo.angular_diameter_distance(zlens).to_numpy()[0]\n",
    "    fast_slow = paper_table.loc[0, 'class_for_JAM_models']\n",
    "    \n",
    "    # load in the 1D kinematics\n",
    "    Vrms_1d = pd.read_csv(f'{milestone_dir}{obj_name}/{obj_name}_kinmap.csv')\n",
    "    Vrms = Vrms_1d['binned_Vrms'].to_numpy()\n",
    "    rbin = np.mean(Vrms_1d[['bin_inner_edge','bin_outer_edge']].to_numpy(), axis=1)\n",
    "    Vrms_cov = np.loadtxt(f'{milestone_dir}{obj_name}/{obj_name}_kinmap_cov.csv', delimiter=',', dtype=float)\n",
    "    dVrms = np.sqrt(Vrms_cov.diagonal())\n",
    "    \n",
    "    if obj_abbr=='J0330':\n",
    "        file_dir = f'{kinematics_dir}{obj_name}/target_sn_{SN}/{obj_name}_{SN}_final_kinematics/no_g/'\n",
    "    else:\n",
    "        file_dir = f'{kinematics_dir}{obj_name}/target_sn_{SN}/{obj_name}_{SN}_marginalized_gnog_final_kinematics/'\n",
    "        \n",
    "    surf_lum, sigma_lum, _, _, _, _, _, _, _, _, reff = prepare_to_jam(obj_name, file_dir, SN)\n",
    "\n",
    "    # Starting guesses\n",
    "    ani0 = 0.5          # Anisotropy ratio sigma_z/sigma_R\n",
    "    \n",
    "    normpsf= 1  \n",
    "    p0 = [ani0]\n",
    "    bounds = [[0.01], [2.0]]\n",
    "\n",
    "    # These parameters are passed to JAM\n",
    "    kwargs = {'surf_lum': surf_lum, 'sigma_lum': sigma_lum,\n",
    "              'distance': distance, 'rbin':rbin, \n",
    "              'sigmapsf': sigmapsf, 'normpsf': normpsf, \n",
    "              'rms': Vrms, 'erms': dVrms, \n",
    "              'pixsize': kcwi_scale,#pixsize,\n",
    "              'plot': 0, 'return_mge': False}\n",
    "\n",
    "    sol = capfit(jam_resid_mfl_sph_OM, p0, kwargs=kwargs, bounds=bounds, verbose=2, fixed=[0])\n",
    "    if sol.success==True:\n",
    "        print()\n",
    "        print('Success!')\n",
    "        print()\n",
    "    else:\n",
    "        print()\n",
    "        print('Fit failed to meet convergence criteria.')\n",
    "        print()\n",
    "    \n",
    "    # bestfit\n",
    "    a_ani = sol.x[0]\n",
    "    print('Best fit,', a_ani)\n",
    "    \n",
    "    # covariance matrix of free parameters\n",
    "    cov = sol.cov\n",
    "    a_ani_err = np.sqrt(sol.cov.diagonal()[0])\n",
    "    \n",
    "    kwargs['plot'] = 1\n",
    "    kwargs['return_mge'] = True\n",
    "    surf_pot, sigma_pot, qobs_pot, chi2 = jam_resid_mfl_sph_OM(sol.x, **kwargs)\n",
    "    plt.savefig(f'{jam_output_dir}{obj_name}_mfl_const_sphsph_fit.png')\n",
    "    plt.pause(1)\n",
    "    \n",
    "    # take chi2/dof\n",
    "    #dof = len(Vrms)\n",
    "    #chi2_red = chi2/dof\n",
    "    \n",
    "    # calculate the enclosed mass\n",
    "    mass_enclosed, gamma_avg, profile_radii, profile_1d = calculate_mass_and_slope_enclosed(surf_pot, sigma_pot, qobs_pot, distance, radius=theta_E, plot=True)\n",
    "    \n",
    "    # parameters not fit\n",
    "    inc = np.nan\n",
    "    gamma_fit = np.nan\n",
    "    gamma_err = np.nan\n",
    "    \n",
    "    \n",
    "    print('Mass enclosed, avg gamma', mass_enclosed, gamma_avg)\n",
    "    \n",
    "    mfl_om_sphsph_solutions[i] = np.array([inc, a_ani, a_ani_err, gamma_fit, gamma_err, gamma_avg, mass_enclosed, chi2])\n",
    "    mfl_om_sphsph_cov[i] = cov\n",
    "    mfl_om_sphsph_mass_profiles_r[i] = profile_radii\n",
    "    mfl_om_sphsph_mass_profiles[i] = profile_1d"
   ]
  },
  {
   "cell_type": "code",
   "execution_count": null,
   "metadata": {},
   "outputs": [],
   "source": [
    "# save with header\n",
    "sol_header = '#### 14 objects - inc, anis_ratio, anis_ratio_err, gamma_fit, gamma_err, gamma_avg, mass_enclosed, chi2'\n",
    "np.savetxt(f'{jam_output_dir}jam_mfl_om_sphsph_solutions_02072024.txt', mfl_om_sphsph_solutions, header=sol_header) \n",
    "np.savetxt(f'{jam_output_dir}jam_mfl_om_sphsph_covariances_02072024.txt', mfl_om_sphsph_cov.reshape(14,1), header='covariance matrix has been reshaped to 2D, reshape back to (14,3,3)') \n",
    "\n",
    "mfl_om_sphsph_mass_profile_joined = np.dstack((mfl_om_sphsph_mass_profiles_r, mfl_om_sphsph_mass_profiles)).reshape(14, 100)\n",
    "np.savetxt(f'{jam_output_dir}jam_mfl_om_sphsph_profiles_02072024.txt', mfl_om_sphsph_mass_profile_joined, header=profile_header) "
   ]
  },
  {
   "cell_type": "markdown",
   "metadata": {},
   "source": [
    "## OM MFL axisymmetric geometry"
   ]
  },
  {
   "cell_type": "code",
   "execution_count": null,
   "metadata": {},
   "outputs": [],
   "source": [
    "for i in range(1):#len(obj_names)):\n",
    "\n",
    "    obj_name = obj_names[i]\n",
    "    obj_abbr = obj_name[4:9]\n",
    "    \n",
    "    print('######################')\n",
    "    print()\n",
    "    print(obj_name)\n",
    "    print()\n",
    "    \n",
    "    SN = 15\n",
    "    mass_model='MFL'\n",
    "    anisotropy='om'\n",
    "    geometry='axi'\n",
    "    align='sph'\n",
    "    zlens= zlenses[slacs_ix_table['Name']==obj_name]\n",
    "    zsource = zsources[slacs_ix_table['Name']==obj_name]\n",
    "    sigmapsf = sigmapsf_table[sigmapsf_table['obj_name']==obj_name]['kcwi_sigmapsf'].to_numpy()[0]\n",
    "    theta_E = lens_models[lens_models['obj_name']==obj_name]['theta_E'].to_numpy()[0]\n",
    "    cosmo = cosmo\n",
    "    distance = cosmo.angular_diameter_distance(zlens).to_numpy()[0]\n",
    "    fast_slow = paper_table.loc[0, 'class_for_JAM_models']\n",
    "    \n",
    "    if obj_abbr=='J0330':\n",
    "        file_dir = f'{kinematics_dir}{obj_name}/target_sn_{SN}/{obj_name}_{SN}_final_kinematics/no_g/'\n",
    "    else:\n",
    "        file_dir = f'{kinematics_dir}{obj_name}/target_sn_{SN}/{obj_name}_{SN}_marginalized_gnog_final_kinematics/'\n",
    "        \n",
    "    surf_lum, sigma_lum, qobs_lum, wrong_psf, Vrms, dVrms, V_bin, dV_bin, xbin, ybin, reff = prepare_to_jam(obj_name, file_dir, SN)\n",
    "    \n",
    "    goodbins = np.isfinite(Vrms/dVrms)\n",
    "    \n",
    "    # cut out the bad bins\n",
    "    Vrms = Vrms[goodbins]\n",
    "    dVrms = dVrms[goodbins]\n",
    "    xbin = xbin[goodbins]\n",
    "    ybin = ybin[goodbins]\n",
    "    \n",
    "    # Starting guesses\n",
    "    q0 = np.median(qobs_lum)\n",
    "    ani0 = 0.5          # Anisotropy ratio sigma_z/sigma_R\n",
    "    normpsf= 1\n",
    "    \n",
    "    \n",
    "    qmin = np.min(qobs_lum)\n",
    "    p0 = [q0, ani0]\n",
    "    bounds = [[0.051, 0.01], [qmin, 2.0]]\n",
    "    goodbins = np.isfinite(xbin)  # Here I fit all bins\n",
    "\n",
    "    # These parameters are passed to JAM\n",
    "    kwargs = {'surf_lum': surf_lum, 'sigma_lum': sigma_lum, 'qobs_lum': qobs_lum,\n",
    "              'distance': distance, 'xbin': xbin, 'ybin': ybin, 'sigmapsf': sigmapsf,\n",
    "              'normpsf': normpsf, 'rms': Vrms, 'erms': dVrms, 'pixsize': kcwi_scale,#pixsize,\n",
    "              'goodbins': goodbins, 'align':align, 'plot': 0, 'return_mge': False}\n",
    "\n",
    "    sol = capfit(jam_resid_mfl_axi_OM, p0, kwargs=kwargs, bounds=bounds, verbose=2, fixed=[0, 0])\n",
    "    # bestfit paramters\n",
    "    q = sol.x[0]\n",
    "    inc = np.degrees(np.arctan2(np.sqrt(1 - qmin**2), np.sqrt(qmin**2 - q**2)))\n",
    "    a_ani = sol.x[1]\n",
    "    # covariance matrix of free parameters\n",
    "    cov = sol.cov\n",
    "    q_err = np.sqrt(sol.cov.diagonal()[0])\n",
    "    a_ani_err = np.sqrt(sol.cov.diagonal()[1])\n",
    "    \n",
    "    print('Best fit,', a_ani)\n",
    "    \n",
    "    kwargs['plot'] = 1\n",
    "    kwargs['return_mge'] = True\n",
    "    surf_pot, sigma_pot, qobs_pot, chi2 = jam_resid_mfl_axi_OM(sol.x, **kwargs)\n",
    "    plt.savefig(f'{jam_output_dir}{obj_name}_pl_om_axisph_fit.png')\n",
    "    plt.pause(1)\n",
    "    \n",
    "    # take chi2/dof\n",
    "    #dof = len(Vrms)\n",
    "    #chi2_red = chi2/dof\n",
    "    \n",
    "    # calculate the enclosed mass\n",
    "    mass_enclosed, gamma_avg, profile_radii, profile_1d = calculate_mass_and_slope_enclosed(surf_pot, sigma_pot, qobs_pot, distance, radius=theta_E, plot=True)\n",
    "    \n",
    "    print('Mass enclosed, avg gamma', mass_enclosed, gamma_avg)\n",
    "    \n",
    "    # parameters not fit\n",
    "    #inc = np.nan\n",
    "    gamma_fit = np.nan\n",
    "    gamma_err = np.nan\n",
    "    \n",
    "    mfl_om_axisph_solutions[i] = np.array([inc, a_ani, a_ani_err, gamma_fit, gamma_err, gamma_avg, mass_enclosed, chi2])\n",
    "    mfl_om_axisph_cov[i] = cov\n",
    "    mfl_om_axisph_mass_profiles_r[i] = profile_radii\n",
    "    mfl_om_axisph_mass_profiles[i] = profile_1d"
   ]
  },
  {
   "cell_type": "code",
   "execution_count": null,
   "metadata": {
    "tags": []
   },
   "outputs": [],
   "source": [
    "# save with header\n",
    "sol_header = '#### 14 objects - inc, anis_ratio, anis_ratio_err, gamma_fit, gamma_err, gamma_avg, mass_enclosed, chi2'\n",
    "np.savetxt(f'{jam_output_dir}jam_mfl_om_axisph_solutions_02072024.txt', mfl_om_axisph_solutions, header=sol_header) \n",
    "np.savetxt(f'{jam_output_dir}jam_mfl_om_axisph_covariances_02072024.txt', mfl_om_axisph_cov.reshape(14,4), header='covariance matrix has been reshaped to 2D, reshape back to (14,3,3)') \n",
    "\n",
    "mfl_om_axisph_mass_profile_joined = np.dstack((mfl_om_axisph_mass_profiles_r, mfl_om_axisph_mass_profiles)).reshape(14, 100)\n",
    "np.savetxt(f'{jam_output_dir}jam_mfl_om_axisph_profiles_02072024.txt', mfl_om_axisph_mass_profile_joined, header=profile_header) "
   ]
  },
  {
   "cell_type": "markdown",
   "metadata": {
    "tags": []
   },
   "source": [
    "# Calculate M_Ein from lens models"
   ]
  },
  {
   "cell_type": "code",
   "execution_count": null,
   "metadata": {
    "tags": []
   },
   "outputs": [],
   "source": [
    "M_enc_lens_model = np.zeros(len(obj_names))"
   ]
  },
  {
   "cell_type": "code",
   "execution_count": null,
   "metadata": {
    "tags": []
   },
   "outputs": [],
   "source": [
    "for i, obj_name in enumerate(obj_names):\n",
    "    \n",
    "    # redshifts and einstein radius from lens model\n",
    "    zlens= zlenses[slacs_ix_table['Name']==obj_name]\n",
    "    zsource = zsources[slacs_ix_table['Name']==obj_name]\n",
    "    theta_E = lens_models[lens_models['obj_name']==obj_name]['theta_E']\n",
    "    \n",
    "    # Go from convergence to surface mass density with critical surface density\n",
    "    # get distances\n",
    "    DL = cosmo.angular_diameter_distance(zlens).to_numpy()[0]*1e6#.to('pc')\n",
    "    DS = cosmo.angular_diameter_distance(zsource).to_numpy()[0]*1e6#.to('pc')\n",
    "    DLS = cosmo.angular_diameter_distance_z1z2(zlens, zsource).to_numpy()[0]*1e6#.to('pc')\n",
    "    \n",
    "    # get arcsec to parsec conversion\n",
    "    pc = DL / 206265\n",
    "    \n",
    "    # calculate critical surface density\n",
    "    sigma_crit = c2_4piG * DS / DL / DLS\n",
    "    \n",
    "    # calculate area and multiply by sigma_crit\n",
    "    mass = np.pi * (theta_E * pc)**2 * sigma_crit\n",
    "    \n",
    "    M_enc_lens_model[i] = mass"
   ]
  },
  {
   "cell_type": "markdown",
   "metadata": {},
   "source": [
    "# Combine everything to tables for keeping"
   ]
  },
  {
   "cell_type": "code",
   "execution_count": null,
   "metadata": {
    "tags": []
   },
   "outputs": [],
   "source": [
    "for i, obj_name in enumerate(obj_names):\n",
    "    print('####################################################')\n",
    "    print(obj_name)\n",
    "    print()\n",
    "    print('gamma_lens:', lens_models.loc[i, 'gamma'])\n",
    "    print('gamma_dyn_cyl:', -pl_cyl_solutions[i,2])\n",
    "    print('gamma_dyn_sph:', -pl_sph_solutions[i,2])\n",
    "    print('M_dyn_cyl/M_lens:', mfl_cyl_solutions[i,3]/M_enc_lens_model[i])\n",
    "    print('M_dyn_sph/M_lens:', mfl_sph_solutions[i,3]/M_enc_lens_model[i])\n",
    "    print('beta_cyl:', pl_cyl_solutions[i,1])\n",
    "    print('beta_sph:', pl_sph_solutions[i,1])\n",
    "    print()"
   ]
  },
  {
   "cell_type": "markdown",
   "metadata": {
    "tags": []
   },
   "source": [
    "# Plot everything"
   ]
  },
  {
   "cell_type": "code",
   "execution_count": null,
   "metadata": {
    "tags": []
   },
   "outputs": [],
   "source": [
    "import matplotlib as mpl\n",
    "mpl.rcParams['mathtext.fontset'] = 'dejavuserif'"
   ]
  },
  {
   "cell_type": "code",
   "execution_count": null,
   "metadata": {
    "tags": []
   },
   "outputs": [],
   "source": [
    "plt.figure(figsize=(8,8))\n",
    "plt.scatter(np.log10(M_enc_lens_model), np.log10(mfl_cyl_solutions[:,3]), c='r', label='cylindrical')\n",
    "plt.scatter(np.log10(M_enc_lens_model), np.log10(mfl_sph_solutions[:,3]), c='blue', label='spherical')\n",
    "plt.xlim(10.9, 11.6)\n",
    "plt.ylim(10.9, 11.6)\n",
    "plt.xlabel(r'$\\log{M_E/M_{\\odot}}$ Lens Model', fontsize=16)\n",
    "plt.ylabel(r'$\\log{M_E/M_{\\odot}}$ Dynamical Model', fontsize=16)\n",
    "plt.plot(np.arange(10.9, 11.7, 0.1), np.arange(10.9, 11.7, 0.1), 'k--')\n",
    "plt.legend(fontsize=16)"
   ]
  },
  {
   "cell_type": "code",
   "execution_count": null,
   "metadata": {
    "tags": []
   },
   "outputs": [],
   "source": [
    "bins = np.arange(1.5, 2.6, 0.1)\n",
    "plt.hist(-pl_cyl_solutions[:,2], color='r', label='cylindrical', alpha=0.5, bins=bins)\n",
    "plt.hist(-pl_sph_solutions[:,2], color='b', label='spherical', alpha=0.5, bins=bins)\n",
    "plt.hist(lens_models['gamma'], color='k', label='lens_model', alpha=0.9, linewidth=3, bins=bins, histtype='step')\n",
    "plt.xlabel(r'$\\gamma_{pl}$', fontsize=16)\n",
    "plt.legend()"
   ]
  },
  {
   "cell_type": "code",
   "execution_count": null,
   "metadata": {
    "tags": []
   },
   "outputs": [],
   "source": [
    "bins = np.arange(0.0, 0.8, 0.1)\n",
    "plt.hist(1-pl_cyl_solutions[:,1]**2, color='r', label='PL', alpha=0.5, bins=bins)\n",
    "plt.hist(1-mfl_cyl_solutions[:,1]**2, color='orange', label='MFL', alpha=0.5, bins=bins)#, histtype='stepfilled')\n",
    "plt.xlabel(r'$\\beta_z$', fontsize=16)\n",
    "plt.legend(fontsize=16)"
   ]
  },
  {
   "cell_type": "code",
   "execution_count": null,
   "metadata": {
    "tags": []
   },
   "outputs": [],
   "source": [
    "bins = np.arange(-1.5, 1.0, 0.25)\n",
    "plt.hist(1-pl_sph_solutions[:,1]**2, color='b', label='PL', alpha=0.5, bins=bins)\n",
    "plt.hist(1-mfl_sph_solutions[:,1]**2, color='cyan', label='MFL', alpha=0.5, bins=bins)#, histtype='stepfilled')\n",
    "plt.xlabel(r'$\\beta_\\theta$', fontsize=16)\n",
    "plt.xticks(bins)\n",
    "plt.legend(fontsize=16)"
   ]
  },
  {
   "cell_type": "code",
   "execution_count": null,
   "metadata": {
    "tags": []
   },
   "outputs": [],
   "source": [
    "3 * np.log(60) - 60*1.0"
   ]
  },
  {
   "cell_type": "code",
   "execution_count": null,
   "metadata": {
    "tags": []
   },
   "outputs": [],
   "source": [
    "2 * np.log(60) - 60*2.0"
   ]
  },
  {
   "cell_type": "code",
   "execution_count": null,
   "metadata": {},
   "outputs": [],
   "source": []
  },
  {
   "cell_type": "code",
   "execution_count": null,
   "metadata": {
    "tags": []
   },
   "outputs": [],
   "source": [
    "np.log(60)+60*(1.0-1.05)"
   ]
  },
  {
   "cell_type": "markdown",
   "metadata": {},
   "source": [
    "# Chi2s, BICs etc"
   ]
  },
  {
   "cell_type": "code",
   "execution_count": null,
   "metadata": {
    "tags": []
   },
   "outputs": [],
   "source": [
    "chi2s = np.column_stack((pl_cyl_solutions[:,-1], pl_sph_solutions[:,-1], mfl_cyl_solutions[:,-1], mfl_sph_solutions[:,-1]))"
   ]
  },
  {
   "cell_type": "code",
   "execution_count": null,
   "metadata": {
    "tags": []
   },
   "outputs": [],
   "source": [
    "plt.plot(range(14),(chi2s.T/np.min(chi2s, axis=1))[0], label='PL cyl')\n",
    "plt.plot(range(14),(chi2s.T/np.min(chi2s, axis=1))[1], label='PL sph')\n",
    "plt.plot(range(14),(chi2s.T/np.min(chi2s, axis=1))[2], label='MFL cyl')\n",
    "plt.plot(range(14),(chi2s.T/np.min(chi2s, axis=1))[3], label='MFL sph')\n",
    "plt.legend()"
   ]
  },
  {
   "cell_type": "code",
   "execution_count": null,
   "metadata": {
    "tags": []
   },
   "outputs": [],
   "source": [
    "# number of parameters in each model\n",
    "ks = np.array([4, 4, 3, 3])"
   ]
  },
  {
   "cell_type": "code",
   "execution_count": null,
   "metadata": {
    "tags": []
   },
   "outputs": [],
   "source": [
    "np.ones(12)"
   ]
  },
  {
   "cell_type": "code",
   "execution_count": null,
   "metadata": {
    "tags": []
   },
   "outputs": [],
   "source": [
    "# number of datapoints in each object\n",
    "ns = np.ones((len(obj_names), 4))\n",
    "\n",
    "for i in range(len(obj_names)):\n",
    "\n",
    "    obj_name = obj_names[i]\n",
    "    obj_abbr = obj_name[4:9]\n",
    "\n",
    "    \n",
    "    SN = 15\n",
    "\n",
    "    if obj_abbr=='J0330':\n",
    "        file_dir = f'{kinematics_dir}{obj_name}/target_sn_{SN}/{obj_name}_{SN}_final_kinematics/no_g/'\n",
    "    else:\n",
    "        file_dir = f'{kinematics_dir}{obj_name}/target_sn_{SN}/{obj_name}_{SN}_marginalized_gnog_final_kinematics/'\n",
    "        \n",
    "    surf_lum, sigma_lum, qobs_lum, wrong_psf, Vrms, dVrms, V_bin, dV_bin, xbin, ybin, reff = prepare_to_jam(obj_name, file_dir, SN)\n",
    "    \n",
    "    n = len(Vrms)\n",
    "    ns[i] = np.ones(4)*n"
   ]
  },
  {
   "cell_type": "code",
   "execution_count": null,
   "metadata": {
    "tags": []
   },
   "outputs": [],
   "source": [
    "bics = ks * np.log(ns) + ns * chi2s"
   ]
  },
  {
   "cell_type": "code",
   "execution_count": null,
   "metadata": {
    "tags": []
   },
   "outputs": [],
   "source": [
    "bics"
   ]
  },
  {
   "cell_type": "code",
   "execution_count": null,
   "metadata": {
    "tags": []
   },
   "outputs": [],
   "source": [
    "delta_bics = (bics.T-np.min(bics, axis=1)).T"
   ]
  },
  {
   "cell_type": "code",
   "execution_count": null,
   "metadata": {
    "tags": []
   },
   "outputs": [],
   "source": [
    "delta_bics"
   ]
  },
  {
   "cell_type": "code",
   "execution_count": null,
   "metadata": {
    "tags": []
   },
   "outputs": [],
   "source": [
    "plt.plot(range(14),delta_bics[:,0], label='PL cyl', marker='o', c='r')\n",
    "plt.plot(range(14),delta_bics[:,1], label='PL sph', marker='o', c='b')\n",
    "plt.plot(range(14),delta_bics[:,2], label='MFL cyl', marker='o', c='green')\n",
    "plt.plot(range(14),delta_bics[:,3], label='MFL sph', marker='o', c='orange')\n",
    "plt.ylim(0, 50)\n",
    "plt.ylabel(r'$\\Delta_{BIC}$', fontsize=16)\n",
    "plt.legend(fontsize=16)"
   ]
  },
  {
   "cell_type": "code",
   "execution_count": null,
   "metadata": {
    "tags": []
   },
   "outputs": [],
   "source": [
    "np.mean(delta_bics[:,0])"
   ]
  },
  {
   "cell_type": "code",
   "execution_count": null,
   "metadata": {
    "tags": []
   },
   "outputs": [],
   "source": [
    "np.mean(delta_bics[:,1])"
   ]
  },
  {
   "cell_type": "code",
   "execution_count": null,
   "metadata": {
    "tags": []
   },
   "outputs": [],
   "source": [
    "plt.scatter(1-pl_sph_solutions[:,1]**2, pl_sph_solutions[:,-1])"
   ]
  },
  {
   "cell_type": "code",
   "execution_count": null,
   "metadata": {
    "tags": []
   },
   "outputs": [],
   "source": [
    "plt.scatter(1-pl_cyl_solutions[:,1]**2, -pl_cyl_solutions[:,2], c='r', label='power law')\n",
    "plt.scatter(1-mfl_cyl_solutions[:,1]**2, -mfl_cyl_solutions[:,2], c='g', label='MFL')\n",
    "plt.legend()\n",
    "plt.pause(1)\n",
    "plt.scatter(1-pl_sph_solutions[:,1]**2, -pl_sph_solutions[:,2], c='b', label='power law')\n",
    "plt.scatter(1-mfl_sph_solutions[:,1]**2, -mfl_sph_solutions[:,2], c='magenta', label='MFL')\n",
    "plt.legend()\n",
    "plt.pause(1)"
   ]
  },
  {
   "cell_type": "code",
   "execution_count": null,
   "metadata": {
    "tags": []
   },
   "outputs": [],
   "source": [
    "-pl_sph_solutions[:,2] / -pl_cyl_solutions[:,2]"
   ]
  },
  {
   "cell_type": "code",
   "execution_count": null,
   "metadata": {
    "tags": []
   },
   "outputs": [],
   "source": [
    "plt.figure(figsize=(8,8))\n",
    "plt.scatter(-pl_sph_solutions[:,2], -pl_cyl_solutions[:,2])\n",
    "#plt.scatter(lens_models['gamma'], -mfl_cyl_solutions[:,2], c='g')\n",
    "#plt.scatter(lens_models['gamma'], , xerr=lens_models['dgamma'], ls='none', marker='o', c='b', ecolor='k', label='spherical')\n",
    "#plt.scatter(lens_models['gamma'], -mfl_sph_solutions[:,2], c='magenta')\n",
    "plt.plot(np.linspace(1.7, 2.2, 100), np.linspace(1.7, 2.2, 100), 'k--')\n",
    "plt.xlim(1.7, 2.2)\n",
    "plt.ylim(1.7, 2.2)\n",
    "plt.xlabel(r'$\\gamma_{pl}$ Spherical Model', fontsize=16)\n",
    "plt.ylabel(r'$\\gamma_{pl}$ Cylindrical Model', fontsize=16)\n",
    "#plt.legend(fontsize=16)"
   ]
  },
  {
   "cell_type": "code",
   "execution_count": null,
   "metadata": {
    "tags": []
   },
   "outputs": [],
   "source": [
    "plt.figure(figsize=(8,8))\n",
    "plt.errorbar(lens_models['gamma'], -pl_cyl_solutions[:,2], xerr=lens_models['dgamma'], ls='none', marker='o', c='r', ecolor='k', label='cylindrical')\n",
    "#plt.scatter(lens_models['gamma'], -mfl_cyl_solutions[:,2], c='g')\n",
    "plt.errorbar(lens_models['gamma'], -pl_sph_solutions[:,2], xerr=lens_models['dgamma'], ls='none', marker='o', c='b', ecolor='k', label='spherical')\n",
    "#plt.scatter(lens_models['gamma'], -mfl_sph_solutions[:,2], c='magenta')\n",
    "plt.plot(np.linspace(1.7, 2.5, 100), np.linspace(1.7, 2.5, 100), 'k--')\n",
    "plt.xlim(1.7, 2.5)\n",
    "plt.ylim(1.7, 2.5)\n",
    "plt.xlabel(r'$\\gamma_{pl}$ Lens Model', fontsize=16)\n",
    "plt.ylabel(r'$\\gamma_{pl}$ Dynamical Model', fontsize=16)\n",
    "plt.legend(fontsize=16)"
   ]
  },
  {
   "cell_type": "code",
   "execution_count": null,
   "metadata": {
    "tags": []
   },
   "outputs": [],
   "source": [
    "plt.errorbar(range(14), -pl_cyl_solutions[:,2], yerr=0.1, c='r', ls='none', marker='o', capsize=3, label='cylindrical', alpha=0.7)\n",
    "plt.errorbar(range(14), -pl_sph_solutions[:,2], yerr=0.1, c='b', ls='none', marker='o', capsize=3, label='spherical', alpha=0.7)\n",
    "plt.errorbar(range(14), lens_models['gamma'], yerr=lens_models['dgamma'], ls='none', c='k', marker='o', capsize=3, label='lens model', alpha=0.7)\n",
    "plt.ylabel(r'$\\gamma_{pl}$', fontsize=16)\n",
    "plt.legend()"
   ]
  },
  {
   "cell_type": "markdown",
   "metadata": {},
   "source": [
    "# Make the lensing mass profile"
   ]
  },
  {
   "cell_type": "code",
   "execution_count": null,
   "metadata": {
    "tags": []
   },
   "outputs": [],
   "source": [
    "for i, obj_name in enumerate(obj_names):\n",
    "    \n",
    "    # redshifts and einstein radius from lens model\n",
    "    zlens= zlenses[slacs_ix_table['Name']==obj_name]\n",
    "    zsource = zsources[slacs_ix_table['Name']==obj_name]\n",
    "    theta_E = lens_models[lens_models['obj_name']==obj_name]['theta_E'].to_numpy()[0]\n",
    "    gamma = lens_models[lens_models['obj_name']==obj_name]['gamma'].to_numpy()[0]\n",
    "    dgamma = lens_models[lens_models['obj_name']==obj_name]['dgamma'].to_numpy()[0]\n",
    "    \n",
    "    # Go from convergence to surface mass density with critical surface density\n",
    "    # get distances\n",
    "    DL = cosmo.angular_diameter_distance(zlens).to_numpy()[0]*1e6#.to('pc')\n",
    "    DS = cosmo.angular_diameter_distance(zsource).to_numpy()[0]*1e6#.to('pc')\n",
    "    DLS = cosmo.angular_diameter_distance_z1z2(zlens, zsource).to_numpy()[0]*1e6#.to('pc')\n",
    "    \n",
    "    # get arcsec to parsec conversion\n",
    "    pc = DL / 206265\n",
    "    \n",
    "    # calculate critical surface density\n",
    "    sigma_crit = c2_4piG * DS / DL / DLS\n",
    "    \n",
    "    # radii\n",
    "    r = np.geomspace(0.01, 20, 50)\n",
    "    sigma_pl = sigma_crit*(theta_E/r)**(gamma-1) * (3-gamma)/2\n",
    "    \n",
    "    # power law\n",
    "    \n",
    "    \n",
    "    # calculate area and multiply by sigma_crit\n",
    "    #mass = np.pi * (theta_E * pc)**2 * sigma_crit\n",
    "    \n",
    "    lens_mass_profiles[i] = sigma_pl"
   ]
  },
  {
   "cell_type": "code",
   "execution_count": null,
   "metadata": {
    "tags": []
   },
   "outputs": [],
   "source": [
    " for i, obj_name in enumerate(obj_names):\n",
    "    \n",
    "    print('####################################################')\n",
    "    print(obj_name)\n",
    "    print()\n",
    "    print('gamma_lens:', lens_models.loc[i, 'gamma'])\n",
    "    print('gamma_dyn_cyl:', -pl_cyl_solutions[i,2])\n",
    "    print('gamma_dyn_sph:', -pl_sph_solutions[i,2])\n",
    "    print('M_dyn_cyl/M_lens:', mfl_cyl_solutions[i,3]/M_enc_lens_model[i])\n",
    "    print('M_dyn_sph/M_lens:', mfl_sph_solutions[i,3]/M_enc_lens_model[i])\n",
    "    print('beta_cyl:', pl_cyl_solutions[i,1])\n",
    "    print('beta_sph:', pl_sph_solutions[i,1])\n",
    "    print()\n",
    "    \n",
    "    plt.loglog(pl_cyl_mass_profiles_r[i], pl_cyl_mass_profiles[i], c='r', label='PL cyl')\n",
    "    plt.loglog(pl_sph_mass_profiles_r[i], pl_sph_mass_profiles[i], c='b', label='PL sph')\n",
    "    plt.loglog(mfl_cyl_mass_profiles_r[i], mfl_cyl_mass_profiles[i], c='g', label='MFL cyl')\n",
    "    plt.loglog(mfl_sph_mass_profiles_r[i], mfl_sph_mass_profiles[i], c='orange', label='MFL sph')\n",
    "    plt.loglog(np.geomspace(0.01, 20, 50), lens_mass_profiles[i], c='k', label='lens model')\n",
    "    plt.legend()\n",
    "    plt.xlabel('radius - arcsec')\n",
    "    plt.ylabel('Mass density')\n",
    "    plt.pause(1)\n",
    "    \n",
    "    print()"
   ]
  },
  {
   "cell_type": "markdown",
   "metadata": {},
   "source": [
    "# Save the solutions and profiles"
   ]
  },
  {
   "cell_type": "code",
   "execution_count": null,
   "metadata": {
    "tags": []
   },
   "outputs": [],
   "source": [
    "date_of_kin"
   ]
  },
  {
   "cell_type": "code",
   "execution_count": null,
   "metadata": {},
   "outputs": [],
   "source": [
    "# save with header\n",
    "pl_header = '#### 14 objects - inc, anis_ratio, gamma_fit, gamma_avg, mass_enclosed, chi2'\n",
    "mfl_header = '#### 14 objects - inc, anis_ratio, gamma_avg, mass_enclosed, chi2'\n",
    "np.savetxt(f'{kinematics_dir}jam_pl_cyl_solutions_02062024.txt', pl_cyl_solutions, header=pl_header) \n",
    "np.savetxt(f'{kinematics_dir}jam_pl_sph_solutions_02062024.txt', pl_sph_solutions, header=pl_header) \n",
    "np.savetxt(f'{kinematics_dir}jam_mfl_cyl_solutions_02062024.txt', mfl_cyl_solutions, header=mfl_header) \n",
    "np.savetxt(f'{kinematics_dir}jam_mfl_sph_solutions_02062024.txt', mfl_sph_solutions, header=mfl_header) \n",
    "\n",
    "profile_header = '#### radius, surface mass density (Msol/pc2)'\n",
    "pl_cyl_mass_profile_joined = np.dstack((pl_cyl_mass_profiles_r, pl_cyl_mass_profiles))[0]\n",
    "pl_sph_mass_profile_joined = np.dstack((pl_sph_mass_profiles_r, pl_sph_mass_profiles))[0]\n",
    "mfl_cyl_mass_profile_joined = np.dstack((mfl_cyl_mass_profiles_r, mfl_cyl_mass_profiles))[0]\n",
    "mfl_sph_mass_profile_joined = np.dstack((mfl_sph_mass_profiles_r, mfl_sph_mass_profiles))[0]\n",
    "np.savetxt(f'{kinematics_dir}jam_pl_cyl_profiles_02062024.txt', pl_cyl_mass_profile_joined, header=profile_header) \n",
    "np.savetxt(f'{kinematics_dir}jam_pl_sph_profiles_02062024.txt', pl_sph_mass_profile_joined, header=profile_header) \n",
    "np.savetxt(f'{kinematics_dir}jam_mfl_cyl_profiles_02062024.txt', mfl_cyl_mass_profile_joined, header=profile_header) \n",
    "np.savetxt(f'{kinematics_dir}jam_mfl_sph_profiles_02062024.txt', mfl_sph_mass_profile_joined, header=profile_header) \n"
   ]
  },
  {
   "cell_type": "markdown",
   "metadata": {},
   "source": [
    "# Make some pandas dataframes"
   ]
  },
  {
   "cell_type": "code",
   "execution_count": null,
   "metadata": {},
   "outputs": [],
   "source": [
    "columns = anis_ratio, gamma_fit, mass_enclosed, gamma"
   ]
  },
  {
   "cell_type": "code",
   "execution_count": null,
   "metadata": {
    "tags": []
   },
   "outputs": [],
   "source": [
    "lens_models['anis_ratio'] = solutions[:,0]\n",
    "lens_models['gamma_dyn_fit'] = solutions[:,1]\n",
    "lens_models['mass_dyn_enclosed'] = solutions[:,2]\n",
    "lens_models['gamma_dyn_avg'] = solutions[:,3]"
   ]
  },
  {
   "cell_type": "code",
   "execution_count": null,
   "metadata": {
    "tags": []
   },
   "outputs": [],
   "source": [
    "lens_models"
   ]
  },
  {
   "cell_type": "code",
   "execution_count": null,
   "metadata": {
    "tags": []
   },
   "outputs": [],
   "source": [
    "lens_models[['obj_name', 'theta_E', 'gamma', 'anis_ratio', 'gamma_dyn_fit', 'mass_dyn_enclosed', 'gamma_dyn_avg']]"
   ]
  },
  {
   "cell_type": "code",
   "execution_count": null,
   "metadata": {
    "tags": []
   },
   "outputs": [],
   "source": [
    "lens_models.to_csv(f'{tables_dir}lens_dyn_table_02012024.csv', index=False)"
   ]
  },
  {
   "cell_type": "code",
   "execution_count": null,
   "metadata": {
    "tags": []
   },
   "outputs": [],
   "source": [
    "print(np.mean(lens_models.gamma))\n",
    "print(np.std(lens_models.gamma))"
   ]
  },
  {
   "cell_type": "code",
   "execution_count": null,
   "metadata": {
    "tags": []
   },
   "outputs": [],
   "source": [
    "for i in range(len(obj_names)):\n",
    "    plt.errorbar(i, lens_models.loc[i, 'gamma'], c='k', yerr=lens_models.loc[i, 'dgamma'], marker='o', label='lens model')\n",
    "    plt.scatter(i, -lens_models.loc[i, 'gamma_dyn_fit'], c='b', label='dyn model fit')\n",
    "    plt.scatter(i, -lens_models.loc[i, 'gamma_dyn_avg'], c='r', label='dyn model avg')\n",
    "    plt.xlabel('object')\n",
    "    plt.ylabel(r'$\\gamma_{pl}$', fontsize=16, rotation='horizontal', labelpad=20)"
   ]
  },
  {
   "cell_type": "code",
   "execution_count": null,
   "metadata": {
    "tags": []
   },
   "outputs": [],
   "source": [
    "fast = paper_table['class_for_JAM_models']=='fast'\n",
    "markers = np.full_like(obj_names, 'o')\n",
    "markers[fast] = 'x'"
   ]
  },
  {
   "cell_type": "code",
   "execution_count": null,
   "metadata": {
    "tags": []
   },
   "outputs": [],
   "source": [
    "lens_models[fast]"
   ]
  },
  {
   "cell_type": "code",
   "execution_count": null,
   "metadata": {
    "tags": []
   },
   "outputs": [],
   "source": [
    "plt.errorbar(lens_models['theta_E'], lens_models['gamma'], \n",
    "             c='k', \n",
    "             xerr=lens_models['dtheta_E'], yerr=lens_models['dgamma'], \n",
    "             ls='none', marker='o', label='lens model')\n",
    "plt.scatter(lens_models['theta_E'], -lens_models['gamma_dyn_fit'], c='b', label='dyn model fit')\n",
    "plt.scatter(lens_models['theta_E'], -lens_models['gamma_dyn_avg'], c='r', label='dyn model avg')\n",
    "plt.scatter(lens_models[fast]['theta_E'], lens_models[fast]['gamma'], edgecolor='purple', facecolor='none', marker='s', s=100, label='fast rotator')\n",
    "plt.xlabel(r'$\\theta_{E}$', fontsize=16)\n",
    "plt.ylabel(r'$\\gamma_{pl}$', fontsize=16, rotation='horizontal', labelpad=20)\n",
    "plt.legend()"
   ]
  },
  {
   "cell_type": "code",
   "execution_count": null,
   "metadata": {
    "tags": []
   },
   "outputs": [],
   "source": [
    "fig, ax = plt.subplots(figsize=(8,8))\n",
    "ax.errorbar(lens_models['gamma'],  -lens_models['gamma_dyn_avg'], xerr=lens_models['dgamma'], \n",
    "             ls='none', marker='o', c='k')\n",
    "ax.set_aspect('equal')\n",
    "ax.set_xlabel(r'$\\gamma_{lens}$', fontsize=16, rotation='horizontal', labelpad=20)\n",
    "ax.set_ylabel(r'$\\gamma_{dyn}$', fontsize=16, rotation='horizontal', labelpad=20)\n",
    "ax.plot(np.linspace(1.7, 2.7, 100), np.linspace(1.7, 2.7, 100), linestyle=':')\n",
    "ax.set_xlim(1.7, 2.7)\n",
    "ax.set_ylim(1.7, 2.7)"
   ]
  },
  {
   "cell_type": "code",
   "execution_count": null,
   "metadata": {
    "tags": []
   },
   "outputs": [],
   "source": [
    "1-lens_models['anis_ratio']**2"
   ]
  },
  {
   "cell_type": "code",
   "execution_count": null,
   "metadata": {
    "tags": []
   },
   "outputs": [],
   "source": [
    "plt.errorbar(lens_models['anis_ratio'], lens_models['gamma'], \n",
    "             c='k', yerr=lens_models['dgamma'], \n",
    "             ls='none', marker='o', label='lens model')\n",
    "plt.scatter(lens_models['anis_ratio'], -lens_models['gamma_dyn_fit'], c='b', label='dyn model fit')\n",
    "plt.scatter(lens_models['anis_ratio'], -lens_models['gamma_dyn_avg'], c='r', label='dyn model avg')\n",
    "plt.scatter(lens_models[fast]['anis_ratio'], lens_models[fast]['gamma'], edgecolor='purple', facecolor='none', marker='s', s=100, label='fast rotator')\n",
    "plt.xlabel(r'$\\sigma_z/\\sigma_R$', fontsize=16)\n",
    "plt.ylabel(r'$\\gamma_{pl}$', fontsize=16, rotation='horizontal', labelpad=20)\n",
    "plt.legend()"
   ]
  },
  {
   "cell_type": "code",
   "execution_count": null,
   "metadata": {
    "tags": []
   },
   "outputs": [],
   "source": [
    "plt.errorbar(1-lens_models['anis_ratio']**2, lens_models['gamma'], \n",
    "             c='k', yerr=lens_models['dgamma'], \n",
    "             ls='none', marker='o', label='lens model')\n",
    "plt.scatter(1-lens_models['anis_ratio']**2, -lens_models['gamma_dyn_fit'], c='b', label='dyn model fit')\n",
    "plt.scatter(1-lens_models['anis_ratio']**2, -lens_models['gamma_dyn_avg'], c='r', label='dyn model avg')\n",
    "plt.scatter(1-lens_models[fast]['anis_ratio']**2, lens_models[fast]['gamma'], edgecolor='purple', facecolor='none', marker='s', s=100, label='fast rotator')\n",
    "plt.xlabel(r'$\\beta$', fontsize=16)\n",
    "plt.ylabel(r'$\\gamma_{pl}$', fontsize=16, rotation='horizontal', labelpad=20)\n",
    "plt.legend()"
   ]
  },
  {
   "cell_type": "code",
   "execution_count": null,
   "metadata": {
    "tags": []
   },
   "outputs": [],
   "source": [
    "plt.errorbar(np.log10(lens_models['mass_dyn_enclosed']), lens_models['gamma'], \n",
    "             c='k', yerr=lens_models['dgamma'], \n",
    "             ls='none', marker='o', label='lens model')\n",
    "plt.scatter(np.log10(lens_models['mass_dyn_enclosed']), -lens_models['gamma_dyn_fit'], c='b', label='dyn model fit')\n",
    "plt.scatter(np.log10(lens_models['mass_dyn_enclosed']), -lens_models['gamma_dyn_avg'], c='r', label='dyn model avg')\n",
    "plt.scatter(np.log10(lens_models[fast]['mass_dyn_enclosed']), lens_models[fast]['gamma'], edgecolor='purple', facecolor='none', marker='s', s=100, label='fast rotator')\n",
    "plt.xlabel(r'$\\log_{10} M_{E,dyn}$', fontsize=16)\n",
    "plt.ylabel(r'$\\gamma_{pl}$', fontsize=16, rotation='horizontal', labelpad=20)\n",
    "plt.legend()"
   ]
  },
  {
   "cell_type": "code",
   "execution_count": null,
   "metadata": {
    "tags": []
   },
   "outputs": [],
   "source": [
    "plt.scatter(lens_models['theta_E']/paper_table['reff_slacs'], np.log10(lens_models['mass_dyn_enclosed']))"
   ]
  },
  {
   "cell_type": "code",
   "execution_count": null,
   "metadata": {
    "tags": []
   },
   "outputs": [],
   "source": [
    "plt.errorbar(np.log10(lens_models['mass_dyn_enclosed']), lens_models['theta_E'], \n",
    "             c='k', yerr=lens_models['dtheta_E'], \n",
    "             ls='none', marker='o', label='lens model')\n",
    "#plt.scatter(lens_models['mass_dyn_enclosed'], -lens_models['gamma_dyn_fit'], c='b', label='dyn model fit')\n",
    "#plt.scatter(lens_models['mass_dyn_enclosed'], -lens_models['gamma_dyn_avg'], c='r', label='dyn model avg')\n",
    "plt.scatter(np.log10(lens_models[fast]['mass_dyn_enclosed']), lens_models[fast]['theta_E'], edgecolor='purple', facecolor='none', marker='s', s=100, label='fast rotator')\n",
    "plt.xlabel(r'$\\log_{10} M_{E,dyn}$', fontsize=16)\n",
    "plt.ylabel(r'$\\theta_E$', fontsize=16, rotation='horizontal', labelpad=20)\n",
    "plt.legend()"
   ]
  },
  {
   "cell_type": "code",
   "execution_count": null,
   "metadata": {
    "tags": []
   },
   "outputs": [],
   "source": [
    "plt.hist(1-lens_models['anis_ratio']**2)"
   ]
  },
  {
   "cell_type": "code",
   "execution_count": null,
   "metadata": {
    "tags": []
   },
   "outputs": [],
   "source": [
    "plt.errorbar(1-lens_models['anis_ratio']**2, lens_models['theta_E'], \n",
    "             c='k', yerr=lens_models['dtheta_E'], \n",
    "             ls='none', marker='o', label='lens model')\n",
    "#plt.scatter(1-lens_models['anis_ratio']**2, -lens_models['gamma_dyn_fit'], c='b', label='dyn model fit')\n",
    "#plt.scatter(1-lens_models['anis_ratio']**2, -lens_models['gamma_dyn_avg'], c='r', label='dyn model avg')\n",
    "plt.xlabel(r'$\\beta$', fontsize=16)\n",
    "plt.ylabel(r'$\\theta_{E}$', fontsize=16, rotation='horizontal', labelpad=20)\n",
    "plt.legend()"
   ]
  },
  {
   "cell_type": "code",
   "execution_count": null,
   "metadata": {},
   "outputs": [],
   "source": [
    "# squash"
   ]
  },
  {
   "cell_type": "code",
   "execution_count": null,
   "metadata": {
    "tags": []
   },
   "outputs": [],
   "source": [
    "import matplotlib as mpl\n",
    "\n",
    "#mpl.rcParams['font.family'] = 'monospace'#'sans-serif'\n",
    "mpl.rcParams['mathtext.fontset'] = 'dejavuserif'"
   ]
  },
  {
   "cell_type": "code",
   "execution_count": null,
   "metadata": {
    "tags": []
   },
   "outputs": [],
   "source": [
    "plt.figure()\n",
    "plt.title(r'$\\gamma_{pl}$', fontsize=16)"
   ]
  },
  {
   "cell_type": "code",
   "execution_count": null,
   "metadata": {},
   "outputs": [],
   "source": []
  },
  {
   "cell_type": "code",
   "execution_count": null,
   "metadata": {
    "tags": []
   },
   "outputs": [],
   "source": [
    "mass_enclosed, gamma_avg = calculate_mass_and_slope_enclosed(surf_pot, sigma_pot, qobs_pot, distance, radius=theta_E, plot=True)"
   ]
  },
  {
   "cell_type": "code",
   "execution_count": null,
   "metadata": {
    "tags": []
   },
   "outputs": [],
   "source": [
    "mass_density = 2*np.pi*surf_pot*(sigma)**2\n",
    "mass_density_profile = (mass_density*np.exp(-0.5*(rad[:, None]/sigma)**2)).sum(1)"
   ]
  },
  {
   "cell_type": "code",
   "execution_count": null,
   "metadata": {
    "tags": []
   },
   "outputs": [],
   "source": [
    "mass_density_profile"
   ]
  },
  {
   "cell_type": "code",
   "execution_count": null,
   "metadata": {
    "tags": []
   },
   "outputs": [],
   "source": [
    "def calculate_1d_gaussian(r, amp, sigma):\n",
    "    return amp * np.exp(-1/2 * r**2 / sigma**2)\n",
    "\n"
   ]
  },
  {
   "cell_type": "code",
   "execution_count": null,
   "metadata": {
    "tags": []
   },
   "outputs": [],
   "source": [
    "mass_profile_1d = np.zeros_like(rad, dtype=float)\n",
    "for i in range(len(surf_pot)):\n",
    "    amp = surf_pot[i]\n",
    "    sigma = sigma_pot[i]\n",
    "    q = qobs_pot[i]\n",
    "    zz = calculate_1d_gaussian(rad, amp, sigma)\n",
    "    mass_profile_1d += zz"
   ]
  },
  {
   "cell_type": "code",
   "execution_count": null,
   "metadata": {
    "tags": []
   },
   "outputs": [],
   "source": [
    "mass_profile_1d"
   ]
  },
  {
   "cell_type": "code",
   "execution_count": null,
   "metadata": {
    "tags": []
   },
   "outputs": [],
   "source": [
    "plt.loglog(rad, mass_profile_1d)\n",
    "print((np.log(mass_profile_1d[-1])-np.log(mass_profile_1d[0]))/(np.log(rad[-1])-np.log(rad[0]))-1)"
   ]
  },
  {
   "cell_type": "code",
   "execution_count": null,
   "metadata": {
    "tags": []
   },
   "outputs": [],
   "source": [
    "np.log(mass_profile_1d[-1])-np.log(mass_profile_1d[0])"
   ]
  },
  {
   "cell_type": "code",
   "execution_count": null,
   "metadata": {
    "tags": []
   },
   "outputs": [],
   "source": [
    "np.log(rad[-1])-np.log(rad[0])"
   ]
  },
  {
   "cell_type": "code",
   "execution_count": null,
   "metadata": {
    "tags": []
   },
   "outputs": [],
   "source": [
    "np.log(rad[-1])"
   ]
  },
  {
   "cell_type": "code",
   "execution_count": null,
   "metadata": {
    "tags": []
   },
   "outputs": [],
   "source": [
    "rad"
   ]
  },
  {
   "cell_type": "code",
   "execution_count": null,
   "metadata": {
    "tags": []
   },
   "outputs": [],
   "source": [
    "theta_E"
   ]
  },
  {
   "cell_type": "code",
   "execution_count": null,
   "metadata": {
    "tags": []
   },
   "outputs": [],
   "source": [
    "np.log(rad[0])"
   ]
  },
  {
   "cell_type": "code",
   "execution_count": null,
   "metadata": {
    "tags": []
   },
   "outputs": [],
   "source": [
    "\"{:.2e}\".format(np.sum(mass_density*np.exp(-0.5*(rad.max()/sigma)**2)))\n"
   ]
  },
  {
   "cell_type": "code",
   "execution_count": null,
   "metadata": {},
   "outputs": [],
   "source": [
    "1/mass_enclosed * "
   ]
  },
  {
   "cell_type": "code",
   "execution_count": null,
   "metadata": {
    "tags": []
   },
   "outputs": [],
   "source": [
    "mass"
   ]
  },
  {
   "cell_type": "code",
   "execution_count": null,
   "metadata": {
    "tags": []
   },
   "outputs": [],
   "source": [
    "mass_enclosed"
   ]
  },
  {
   "cell_type": "code",
   "execution_count": null,
   "metadata": {},
   "outputs": [],
   "source": []
  }
 ],
 "metadata": {
  "kernelspec": {
   "display_name": "Python 3 (ipykernel)",
   "language": "python",
   "name": "python3"
  },
  "language_info": {
   "codemirror_mode": {
    "name": "ipython",
    "version": 3
   },
   "file_extension": ".py",
   "mimetype": "text/x-python",
   "name": "python",
   "nbconvert_exporter": "python",
   "pygments_lexer": "ipython3",
   "version": "3.11.5"
  }
 },
 "nbformat": 4,
 "nbformat_minor": 4
}
