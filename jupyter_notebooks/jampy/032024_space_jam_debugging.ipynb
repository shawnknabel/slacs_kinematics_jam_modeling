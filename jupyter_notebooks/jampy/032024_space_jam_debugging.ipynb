{
 "cells": [
  {
   "cell_type": "markdown",
   "metadata": {},
   "source": [
    "# 03/11/24 - Debugging the JAM method with spherical geometry and with OM anisotropy.\n",
    "# 03/18/24 - Picking up with OM.\n",
    "# 03/20/24 - Back to the drawing board because the plotting isn't working correctly\n",
    "______________________\n",
    "### 02/22/24 - Adding covariance matrix to the space_jam method\n",
    "### 02/12/24 - Adding least squares fitting option to forgo the time consuming MCMC for testing purposes.\n",
    "### 12/26/23 - This notebook tests the modules \"space_jam\" and \"total_mass_mge\" in e.g. home/shawnknabel/Documents/slacs_kinematics/my_python_packages/space_jam.py"
   ]
  },
  {
   "cell_type": "code",
   "execution_count": 1,
   "metadata": {},
   "outputs": [],
   "source": [
    "# import general libraries and modules\n",
    "import numpy as np\n",
    "np.set_printoptions(threshold=10000)\n",
    "import matplotlib.pyplot as plt\n",
    "plt.rcParams[\"figure.figsize\"] = (8, 6)\n",
    "#plt.switch_backend('agg')\n",
    "%matplotlib inline\n",
    "import pandas as pd\n",
    "import warnings\n",
    "warnings.filterwarnings( \"ignore\", module = \"matplotlib\\..*\" )\n",
    "warnings.filterwarnings( \"ignore\", module = \"plotbin\\..*\" )\n",
    "import os\n",
    "from os import path\n",
    "from pathlib import Path\n",
    "#import pickle\n",
    "import dill as pickle\n",
    "from datetime import datetime\n",
    "def tick():\n",
    "    return datetime.now().strftime(\"%Y_%m_%d-%I_%M_%S_%p\")\n",
    "import glob\n",
    "\n",
    "# astronomy/scipy\n",
    "from astropy.io import fits\n",
    "#from astropy.wcs import WCS\n",
    "#from scipy.ndimage import rotate\n",
    "#from scipy.ndimage import map_coordinates\n",
    "#from scipy.optimize import least_squares as lsq\n",
    "#from astropy.convolution import convolve, convolve_fft, Gaussian2DKernel\n",
    "#from astropy.cosmology import Planck15 as cosmo # I took 15 because for some reason Planck18 isn't in this astropy install #Planck18 as cosmo  # Planck 2018\n",
    "from astropy.cosmology import FlatLambdaCDM\n",
    "cosmo = FlatLambdaCDM(H0=70, Om0=0.3, Tcmb0=2.725)\n",
    "#from scipy.interpolate import interp1d\n",
    "#from scipy.optimize import fsolve\n",
    "import astropy.units as u\n",
    "import astropy.constants as constants\n",
    "\n",
    "# my functions\n",
    "import sys\n",
    "sys.path.append(\"/home/shawnknabel/Documents/slacs_kinematics/my_python_packages\")\n",
    "\n",
    "\n",
    "################################################################\n",
    "# some needed information\n",
    "kcwi_scale = 0.1457  # arcsec/pixel\n",
    "hst_scale = 0.050 # ACS/WFC\n",
    "\n",
    "# value of c^2 / 4 pi G\n",
    "c2_4piG = (constants.c **2 / constants.G / 4 / np.pi).to('solMass/pc')\n"
   ]
  },
  {
   "cell_type": "code",
   "execution_count": 2,
   "metadata": {},
   "outputs": [],
   "source": [
    "# bring in the space_jam and total_mass_mge modules\n",
    "\n",
    "from space_jam import space_jam\n",
    "from total_mass_mge import total_mass_mge"
   ]
  },
  {
   "cell_type": "code",
   "execution_count": 3,
   "metadata": {},
   "outputs": [
    {
     "name": "stdout",
     "output_type": "stream",
     "text": [
      "\n"
     ]
    }
   ],
   "source": [
    "##################################################################################################################################\n",
    "\n",
    "old_date_of_kin = '2023-02-28_2'\n",
    "date_of_kin = '2024_02_15'\n",
    "\n",
    "#------------------------------------------------------------------------------\n",
    "# Directories and files\n",
    "\n",
    "# data directory\n",
    "data_dir = '/data/raw_data/KECK_KCWI_SLACS_kinematics_shawn/'\n",
    "hst_dir = '/data/raw_data/HST_SLACS_ACS/kcwi_kinematics_lenses/'\n",
    "tables_dir = f'{data_dir}tables/'\n",
    "mosaics_dir = f'{data_dir}mosaics/'\n",
    "kinematics_full_dir = f'{data_dir}kinematics/'\n",
    "kinematics_dir =f'{kinematics_full_dir}{date_of_kin}/'\n",
    "old_kinematics_dir = f'{kinematics_full_dir}{old_date_of_kin}/'\n",
    "jam_output_dir = f'{data_dir}jam_outputs/'\n",
    "# create a directory for JAM outputs\n",
    "#Path(jam_output_dir).mkdir(parents=True, exist_ok=True)\n",
    "#print(f'Outputs will be in {jam_output_dir}')\n",
    "print()\n",
    "\n",
    "# target SN for voronoi binning\n",
    "vorbin_SN_targets = np.array([10, 15, 20])\n",
    "\n",
    "#################################################\n",
    "# objects\n",
    "obj_names = ['SDSSJ0029-0055', \n",
    "             'SDSSJ0037-0942',\n",
    "             'SDSSJ0330-0020',\n",
    "             'SDSSJ1112+0826',\n",
    "             'SDSSJ1204+0358',\n",
    "             'SDSSJ1250+0523',\n",
    "             'SDSSJ1306+0600',\n",
    "             'SDSSJ1402+6321',\n",
    "             'SDSSJ1531-0105',\n",
    "             'SDSSJ1538+5817',\n",
    "             'SDSSJ1621+3931',\n",
    "             'SDSSJ1627-0053',\n",
    "             'SDSSJ1630+4520',\n",
    "             'SDSSJ2303+1422'\n",
    "            ]\n",
    "\n",
    "#################################################\n",
    "\n",
    "paper_table = pd.read_csv(f'{tables_dir}paper_table_100223.csv')\n",
    "slacs_ix_table = pd.read_csv(f'{tables_dir}slacs_ix_table3.csv')\n",
    "zs = paper_table['zlens']\n",
    "zlenses = slacs_ix_table['z_lens']\n",
    "zsources = slacs_ix_table['z_src']\n",
    "# get the revised KCWI sigmapsf\n",
    "sigmapsf_table = pd.read_csv(f'{tables_dir}kcwi_sigmapsf_estimates.csv')"
   ]
  },
  {
   "cell_type": "markdown",
   "metadata": {},
   "source": [
    "# 03/11/24 - Spherical Geometry is not working. Here, I am going to debug. \n",
    "## There are only 5 parameters. Let's roll.\n",
    "## Use lsq minimization"
   ]
  },
  {
   "cell_type": "code",
   "execution_count": 8,
   "metadata": {
    "tags": []
   },
   "outputs": [],
   "source": [
    "%matplotlib inline"
   ]
  },
  {
   "cell_type": "code",
   "execution_count": 9,
   "metadata": {
    "tags": []
   },
   "outputs": [],
   "source": [
    "'''\n",
    "Run spherical geometry\n",
    "'''\n",
    "\n",
    "def space_jam_sph(i):\n",
    "\n",
    "    obj_name = obj_names[i]\n",
    "    kin_dir = f'{kinematics_dir}{obj_name}/'\n",
    "    jam_dir = f'{jam_output_dir}{obj_name}/'\n",
    "    jam_details_file = f'{kin_dir}{obj_name}_details_for_jampy_xshooter_{date_of_kin}.pkl'\n",
    "    mass_model='power_law'\n",
    "    anisotropy='const'\n",
    "    geometry='sph'\n",
    "    align='sph'\n",
    "    zlens= zlenses[slacs_ix_table['Name']==obj_name].to_numpy()[0]\n",
    "    zsource = zsources[slacs_ix_table['Name']==obj_name].to_numpy()[0]\n",
    "    sigmapsf = sigmapsf_table[sigmapsf_table['obj_name']==obj_name]['kcwi_sigmapsf'].to_numpy()[0]\n",
    "    #cosmo = cosmo\n",
    "    fast_slow = paper_table.loc[0, 'class_for_JAM_models']\n",
    "    systematics_est = 0.05 # %\n",
    "    covariance_est = 0.02 # %\n",
    "    # gamma0, einstein radius, anis, k_mst, a_mst\n",
    "    p0 =      [2.0,  1.0,  0.9,   0.5,   7] \n",
    "    bounds = [[1.4,  0.7,  0.0,   0.0,   5 ], \n",
    "              [2.8,  2.0,  1.0,   1.0,   10]]\n",
    "    sigpar = np.array([0.2, 0.2, 0.2, 0.2, 0.2])  # crude estimate of uncertainties\n",
    "    prior_type = ['uniform','uniform','uniform','uniform','uniform']\n",
    "    lensprior = False\n",
    "    fix_pars = [0, 0, 0, 1, 1]\n",
    "    lambda_int= 1.0\n",
    "    nstep = 1000\n",
    "    nwalkers = 12\n",
    "    ndim = 5\n",
    "    minimization = 'lsq'\n",
    "    sampler_args = [nstep, nwalkers, ndim] # 10 walkers\n",
    "    date_time = datetime.now().strftime(\"%Y_%m_%d\")#-%I_%M_%S_%p\"\n",
    "    run_id = 1\n",
    "\n",
    "    welcome_to_the_jam = space_jam(jam_dir, jam_details_file,\n",
    "                                     obj_name, mass_model, anisotropy, geometry, align, \n",
    "                                    zlens=zlens, zsource=zsource, cosmo=cosmo, sigmapsf=sigmapsf, fast_slow=fast_slow,\n",
    "                                   systematics_est=systematics_est, covariance_est=covariance_est,\n",
    "                                   p0=p0, bounds=bounds, sigpar=sigpar, prior_type=prior_type, lensprior=lensprior, fix_pars=fix_pars, lambda_int=lambda_int,\n",
    "                                   minimization=minimization, sampler_args=sampler_args, date_time=date_time, run_id=run_id, plot=True, overwrite=True, \n",
    "                                   test_prior=False, constant_err=False, kinmap_test=None)\n",
    "\n",
    "    welcome_to_the_jam.fit_lsq()\n",
    "    welcome_to_the_jam.summary_plot()\n",
    "    #welcome_to_the_jam.save_space_jam()"
   ]
  },
  {
   "cell_type": "markdown",
   "metadata": {},
   "source": [
    "# Run it on J0029 index 0"
   ]
  },
  {
   "cell_type": "code",
   "execution_count": 6,
   "metadata": {
    "collapsed": true,
    "jupyter": {
     "outputs_hidden": true
    },
    "tags": []
   },
   "outputs": [
    {
     "name": "stdout",
     "output_type": "stream",
     "text": [
      "Files in /data/raw_data/KECK_KCWI_SLACS_kinematics_shawn/jam_outputs/SDSSJ0029-0055/SDSSJ0029-0055_2024_03_20_v1/ will be overwritten.\n",
      "\n",
      "JAM Outputs to  /data/raw_data/KECK_KCWI_SLACS_kinematics_shawn/jam_outputs/SDSSJ0029-0055/SDSSJ0029-0055_2024_03_20_v1/\n",
      "\n",
      "[0.0193628  0.1271433  0.245625   0.62405075 1.096469   1.30303874\n",
      " 2.41793371 4.86902665 4.86902665] [0.80435509 0.8        0.80871018 0.82702924 0.8        0.9\n",
      " 0.8        0.8        0.9       ]\n",
      "Parameters are  ['$\\\\gamma$', '$\\\\theta_E$', '$\\\\sigma_{\\\\theta}/\\\\sigma_r$', '$\\\\lambda_{int}$', '$a_{MST}$']\n",
      "Priors are now  ['uniform', 'uniform', 'uniform', 'uniform', 'uniform']\n",
      "Mean prior values are  [2.0, 1.0, 0.9, 0.5, 7]\n",
      "Added 5.0% systematics to diagonal.\n",
      "Covariance terms are 2.0%.\n",
      "Residuals > 10%: Change `inner_slope` or `outer_slope` or increase `ngauss`\n",
      "Residuals > 10%: Change `inner_slope` or `outer_slope` or increase `ngauss`\n",
      "Residuals > 10%: Change `inner_slope` or `outer_slope` or increase `ngauss`\n",
      "Residuals > 10%: Change `inner_slope` or `outer_slope` or increase `ngauss`\n",
      "\n",
      "Start lambda: 98.16  chi2: 430.9\n",
      "Start p_free: 2.000 1.000 0.9000\n",
      "Residuals > 10%: Change `inner_slope` or `outer_slope` or increase `ngauss`\n",
      "\n",
      "iter: 1  lambda: 98.16  chi2: 85.56  ratio: 0.9987\n",
      "p_free: 2.017 1.115 0.7829\n",
      "h: 0.01718 0.1150 -0.1171\n",
      "Residuals > 10%: Change `inner_slope` or `outer_slope` or increase `ngauss`\n",
      "Residuals > 10%: Change `inner_slope` or `outer_slope` or increase `ngauss`\n",
      "Residuals > 10%: Change `inner_slope` or `outer_slope` or increase `ngauss`\n",
      "Residuals > 10%: Change `inner_slope` or `outer_slope` or increase `ngauss`\n",
      "\n",
      "iter: 2  lambda: 49.08  chi2: 85.09  ratio: 0.9726\n",
      "p_free: 2.008 1.123 0.7902\n",
      "h: -0.008845 0.008236 0.007271\n"
     ]
    },
    {
     "ename": "KeyboardInterrupt",
     "evalue": "",
     "output_type": "error",
     "traceback": [
      "\u001b[0;31m---------------------------------------------------------------------------\u001b[0m",
      "\u001b[0;31mKeyboardInterrupt\u001b[0m                         Traceback (most recent call last)",
      "Cell \u001b[0;32mIn[6], line 1\u001b[0m\n\u001b[0;32m----> 1\u001b[0m space_jam_sph(\u001b[38;5;241m0\u001b[39m)\n",
      "Cell \u001b[0;32mIn[5], line 47\u001b[0m, in \u001b[0;36mspace_jam_sph\u001b[0;34m(i)\u001b[0m\n\u001b[1;32m     37\u001b[0m run_id \u001b[38;5;241m=\u001b[39m \u001b[38;5;241m1\u001b[39m\n\u001b[1;32m     39\u001b[0m welcome_to_the_jam \u001b[38;5;241m=\u001b[39m space_jam(jam_dir, jam_details_file,\n\u001b[1;32m     40\u001b[0m                                  obj_name, mass_model, anisotropy, geometry, align, \n\u001b[1;32m     41\u001b[0m                                 zlens\u001b[38;5;241m=\u001b[39mzlens, zsource\u001b[38;5;241m=\u001b[39mzsource, cosmo\u001b[38;5;241m=\u001b[39mcosmo, sigmapsf\u001b[38;5;241m=\u001b[39msigmapsf, fast_slow\u001b[38;5;241m=\u001b[39mfast_slow,\n\u001b[0;32m   (...)\u001b[0m\n\u001b[1;32m     44\u001b[0m                                minimization\u001b[38;5;241m=\u001b[39mminimization, sampler_args\u001b[38;5;241m=\u001b[39msampler_args, date_time\u001b[38;5;241m=\u001b[39mdate_time, run_id\u001b[38;5;241m=\u001b[39mrun_id, plot\u001b[38;5;241m=\u001b[39m\u001b[38;5;28;01mTrue\u001b[39;00m, overwrite\u001b[38;5;241m=\u001b[39m\u001b[38;5;28;01mTrue\u001b[39;00m, \n\u001b[1;32m     45\u001b[0m                                test_prior\u001b[38;5;241m=\u001b[39m\u001b[38;5;28;01mFalse\u001b[39;00m, constant_err\u001b[38;5;241m=\u001b[39m\u001b[38;5;28;01mFalse\u001b[39;00m, kinmap_test\u001b[38;5;241m=\u001b[39m\u001b[38;5;28;01mNone\u001b[39;00m)\n\u001b[0;32m---> 47\u001b[0m welcome_to_the_jam\u001b[38;5;241m.\u001b[39mfit_lsq()\n\u001b[1;32m     48\u001b[0m welcome_to_the_jam\u001b[38;5;241m.\u001b[39msummary_plot()\n",
      "File \u001b[0;32m~/Documents/slacs_kinematics/my_python_packages/space_jam.py:835\u001b[0m, in \u001b[0;36mspace_jam.fit_lsq\u001b[0;34m(self)\u001b[0m\n\u001b[1;32m    832\u001b[0m \u001b[38;5;66;03m# set up chi2s to be saved for later use\u001b[39;00m\n\u001b[1;32m    833\u001b[0m \u001b[38;5;28mself\u001b[39m\u001b[38;5;241m.\u001b[39mchi2_samples \u001b[38;5;241m=\u001b[39m np\u001b[38;5;241m.\u001b[39marray([], dtype\u001b[38;5;241m=\u001b[39m\u001b[38;5;28mfloat\u001b[39m)\n\u001b[0;32m--> 835\u001b[0m sol \u001b[38;5;241m=\u001b[39m capfit(\u001b[38;5;28mself\u001b[39m\u001b[38;5;241m.\u001b[39mjam_lnprob, \u001b[38;5;28mself\u001b[39m\u001b[38;5;241m.\u001b[39mp0, bounds\u001b[38;5;241m=\u001b[39m\u001b[38;5;28mself\u001b[39m\u001b[38;5;241m.\u001b[39mbounds, verbose\u001b[38;5;241m=\u001b[39m\u001b[38;5;241m2\u001b[39m, fixed\u001b[38;5;241m=\u001b[39m\u001b[38;5;28mself\u001b[39m\u001b[38;5;241m.\u001b[39mfix_pars)\n\u001b[1;32m    836\u001b[0m \u001b[38;5;28;01mif\u001b[39;00m sol\u001b[38;5;241m.\u001b[39msuccess\u001b[38;5;241m==\u001b[39m\u001b[38;5;28;01mTrue\u001b[39;00m:\n\u001b[1;32m    837\u001b[0m     \u001b[38;5;28mprint\u001b[39m()\n",
      "File \u001b[0;32m~/.local/lib/python3.11/site-packages/ppxf/capfit.py:869\u001b[0m, in \u001b[0;36mcapfit.__init__\u001b[0;34m(self, func, p0, A_eq, A_ineq, abs_step, b_eq, b_ineq, bounds, diff_step, fixed, ftol, linear_method, max_nfev, rcond, tied, verbose, x_scale, xtol, args, kwargs)\u001b[0m\n\u001b[1;32m    865\u001b[0m     \u001b[38;5;28;01massert\u001b[39;00m np\u001b[38;5;241m.\u001b[39mall(np\u001b[38;5;241m.\u001b[39misfinite(resid)), \\\n\u001b[1;32m    866\u001b[0m         \u001b[38;5;124m\"\u001b[39m\u001b[38;5;124mThe fitting function returned infinite residuals\u001b[39m\u001b[38;5;124m\"\u001b[39m\n\u001b[1;32m    867\u001b[0m     \u001b[38;5;28;01mreturn\u001b[39;00m resid\n\u001b[0;32m--> 869\u001b[0m p1, p1_err \u001b[38;5;241m=\u001b[39m \u001b[38;5;28mself\u001b[39m\u001b[38;5;241m.\u001b[39moptimize(call, p0[free], A_eq, b_eq, A_ineq, b_ineq, bounds[:, free])\n\u001b[1;32m    871\u001b[0m \u001b[38;5;28mself\u001b[39m\u001b[38;5;241m.\u001b[39mx \u001b[38;5;241m=\u001b[39m tie(p1)\n\u001b[1;32m    872\u001b[0m \u001b[38;5;28mself\u001b[39m\u001b[38;5;241m.\u001b[39mx_err \u001b[38;5;241m=\u001b[39m np\u001b[38;5;241m.\u001b[39mzeros_like(\u001b[38;5;28mself\u001b[39m\u001b[38;5;241m.\u001b[39mx)\n",
      "File \u001b[0;32m~/.local/lib/python3.11/site-packages/ppxf/capfit.py:943\u001b[0m, in \u001b[0;36mcapfit.optimize\u001b[0;34m(self, call, p1, A_eq, b_eq, A_ineq, b_ineq, bounds)\u001b[0m\n\u001b[1;32m    940\u001b[0m         lam \u001b[38;5;241m/\u001b[39m\u001b[38;5;241m=\u001b[39m \u001b[38;5;241m2\u001b[39m\n\u001b[1;32m    942\u001b[0m     \u001b[38;5;28;01mif\u001b[39;00m ratio \u001b[38;5;241m>\u001b[39m \u001b[38;5;241m0.01\u001b[39m:  \u001b[38;5;66;03m# Successful step: move on\u001b[39;00m\n\u001b[0;32m--> 943\u001b[0m         J1 \u001b[38;5;241m=\u001b[39m \u001b[38;5;28mself\u001b[39m\u001b[38;5;241m.\u001b[39mfdjac(call, p2, f2, bounds)\n\u001b[1;32m    944\u001b[0m         p1, f1 \u001b[38;5;241m=\u001b[39m p2, f2\n\u001b[1;32m    946\u001b[0m \u001b[38;5;28mself\u001b[39m\u001b[38;5;241m.\u001b[39mcost \u001b[38;5;241m=\u001b[39m \u001b[38;5;241m0.5\u001b[39m\u001b[38;5;241m*\u001b[39mchi2(f1)  \u001b[38;5;66;03m# as in least_squares()\u001b[39;00m\n",
      "File \u001b[0;32m~/.local/lib/python3.11/site-packages/ppxf/capfit.py:985\u001b[0m, in \u001b[0;36mcapfit.fdjac\u001b[0;34m(self, call, pars, f, bounds)\u001b[0m\n\u001b[1;32m    983\u001b[0m     pars1 \u001b[38;5;241m=\u001b[39m pars\u001b[38;5;241m.\u001b[39mcopy()\n\u001b[1;32m    984\u001b[0m     pars1[j] \u001b[38;5;241m+\u001b[39m\u001b[38;5;241m=\u001b[39m hj\n\u001b[0;32m--> 985\u001b[0m     f1 \u001b[38;5;241m=\u001b[39m call(pars1)\n\u001b[1;32m    986\u001b[0m     jac[:, j] \u001b[38;5;241m=\u001b[39m (f1 \u001b[38;5;241m-\u001b[39m f)\u001b[38;5;241m/\u001b[39mhj\n\u001b[1;32m    988\u001b[0m \u001b[38;5;28;01mreturn\u001b[39;00m jac\n",
      "File \u001b[0;32m~/.local/lib/python3.11/site-packages/ppxf/capfit.py:864\u001b[0m, in \u001b[0;36mcapfit.__init__.<locals>.call\u001b[0;34m(pfree)\u001b[0m\n\u001b[1;32m    862\u001b[0m \u001b[38;5;28mself\u001b[39m\u001b[38;5;241m.\u001b[39mnfev \u001b[38;5;241m+\u001b[39m\u001b[38;5;241m=\u001b[39m \u001b[38;5;241m1\u001b[39m\n\u001b[1;32m    863\u001b[0m p \u001b[38;5;241m=\u001b[39m tie(pfree)\n\u001b[0;32m--> 864\u001b[0m resid \u001b[38;5;241m=\u001b[39m func(p, \u001b[38;5;241m*\u001b[39margs, \u001b[38;5;241m*\u001b[39m\u001b[38;5;241m*\u001b[39mkwargs)\n\u001b[1;32m    865\u001b[0m \u001b[38;5;28;01massert\u001b[39;00m np\u001b[38;5;241m.\u001b[39mall(np\u001b[38;5;241m.\u001b[39misfinite(resid)), \\\n\u001b[1;32m    866\u001b[0m     \u001b[38;5;124m\"\u001b[39m\u001b[38;5;124mThe fitting function returned infinite residuals\u001b[39m\u001b[38;5;124m\"\u001b[39m\n\u001b[1;32m    867\u001b[0m \u001b[38;5;28;01mreturn\u001b[39;00m resid\n",
      "File \u001b[0;32m~/Documents/slacs_kinematics/my_python_packages/space_jam.py:719\u001b[0m, in \u001b[0;36mspace_jam.jam_lnprob\u001b[0;34m(self, pars, lambda_int, plot, test_prior, bestfit)\u001b[0m\n\u001b[1;32m    717\u001b[0m     beta \u001b[38;5;241m=\u001b[39m np\u001b[38;5;241m.\u001b[39marray([r_a, beta_0, beta_inf, alpha])\n\u001b[1;32m    718\u001b[0m \u001b[38;5;66;03m# Obtain total mass profile\u001b[39;00m\n\u001b[0;32m--> 719\u001b[0m total_mass \u001b[38;5;241m=\u001b[39m total_mass_mge(\u001b[38;5;28mself\u001b[39m\u001b[38;5;241m.\u001b[39msurf_lum, \u001b[38;5;28mself\u001b[39m\u001b[38;5;241m.\u001b[39msigma_lum, \u001b[38;5;28mself\u001b[39m\u001b[38;5;241m.\u001b[39mqobs_lum, \n\u001b[1;32m    720\u001b[0m                              \u001b[38;5;28mself\u001b[39m\u001b[38;5;241m.\u001b[39mmass_model, \u001b[38;5;28mself\u001b[39m\u001b[38;5;241m.\u001b[39mqobs_eff, \u001b[38;5;28mself\u001b[39m\u001b[38;5;241m.\u001b[39mreff, \u001b[38;5;28mself\u001b[39m\u001b[38;5;241m.\u001b[39mbreak_factor, \n\u001b[1;32m    721\u001b[0m                            \u001b[38;5;28mself\u001b[39m\u001b[38;5;241m.\u001b[39mzlens, \u001b[38;5;28mself\u001b[39m\u001b[38;5;241m.\u001b[39mzsource, \u001b[38;5;28mself\u001b[39m\u001b[38;5;241m.\u001b[39mcosmo,\n\u001b[1;32m    722\u001b[0m                              gamma, f_dm, theta_E, k_mst, a_mst, lambda_int\u001b[38;5;241m=\u001b[39m\u001b[38;5;28mself\u001b[39m\u001b[38;5;241m.\u001b[39mlambda_int, \n\u001b[1;32m    723\u001b[0m                              ngauss\u001b[38;5;241m=\u001b[39m\u001b[38;5;241m30\u001b[39m, inner_slope\u001b[38;5;241m=\u001b[39m\u001b[38;5;241m2\u001b[39m, outer_slope\u001b[38;5;241m=\u001b[39m\u001b[38;5;241m3\u001b[39m, \n\u001b[1;32m    724\u001b[0m                              quiet\u001b[38;5;241m=\u001b[39m\u001b[38;5;241m1\u001b[39m, plot\u001b[38;5;241m=\u001b[39m\u001b[38;5;28;01mFalse\u001b[39;00m, skip_mge\u001b[38;5;241m=\u001b[39m\u001b[38;5;28;01mFalse\u001b[39;00m)\n\u001b[1;32m    725\u001b[0m surf_pot \u001b[38;5;241m=\u001b[39m total_mass\u001b[38;5;241m.\u001b[39msurf_pot\n\u001b[1;32m    726\u001b[0m sigma_pot \u001b[38;5;241m=\u001b[39m total_mass\u001b[38;5;241m.\u001b[39msigma_pot\n",
      "File \u001b[0;32m~/Documents/slacs_kinematics/my_python_packages/total_mass_mge.py:173\u001b[0m, in \u001b[0;36mtotal_mass_mge.__init__\u001b[0;34m(self, surf_lum, sigma_lum, qobs_lum, model, qobs_eff, reff, break_factor, zlens, zsource, cosmo, gamma, f_dm, theta_E, k_mst, a_mst, lambda_int, ngauss, inner_slope, outer_slope, quiet, plot, skip_mge)\u001b[0m\n\u001b[1;32m    170\u001b[0m \u001b[38;5;28mself\u001b[39m\u001b[38;5;241m.\u001b[39mconvergence_to_surf_mass_density()\n\u001b[1;32m    172\u001b[0m \u001b[38;5;66;03m# get 1d mge profile\u001b[39;00m\n\u001b[0;32m--> 173\u001b[0m m \u001b[38;5;241m=\u001b[39m mge_fit_1d(\u001b[38;5;28mself\u001b[39m\u001b[38;5;241m.\u001b[39mr, \u001b[38;5;28mself\u001b[39m\u001b[38;5;241m.\u001b[39msurf_mass_density, ngauss\u001b[38;5;241m=\u001b[39mngauss, inner_slope\u001b[38;5;241m=\u001b[39minner_slope, outer_slope\u001b[38;5;241m=\u001b[39mouter_slope, quiet\u001b[38;5;241m=\u001b[39mquiet, plot\u001b[38;5;241m=\u001b[39mplot) \u001b[38;5;66;03m# this creates a circular gaussian with sigma=sigma_x (i.e. along the major axis)\u001b[39;00m\n\u001b[1;32m    174\u001b[0m surf_pot_tot, sigma_pot \u001b[38;5;241m=\u001b[39m m\u001b[38;5;241m.\u001b[39msol           \u001b[38;5;66;03m# total counts of gaussians Msol/(pc*2/arcsec**2)\u001b[39;00m\n\u001b[1;32m    175\u001b[0m \u001b[38;5;66;03m# Normalize by dividing by sqrt(2 * np.pi * sigma_pot**2 * q)\u001b[39;00m\n",
      "File \u001b[0;32m~/.local/lib/python3.11/site-packages/mgefit/mge_fit_1d.py:278\u001b[0m, in \u001b[0;36mmge_fit_1d.__init__\u001b[0;34m(self, x, y, negative, ngauss, rbounds, inner_slope, outer_slope, quiet, plot, fignum)\u001b[0m\n\u001b[1;32m    275\u001b[0m     iterfunc \u001b[38;5;241m=\u001b[39m \u001b[38;5;28mself\u001b[39m\u001b[38;5;241m.\u001b[39m_print\n\u001b[1;32m    277\u001b[0m t \u001b[38;5;241m=\u001b[39m clock()\n\u001b[0;32m--> 278\u001b[0m mp \u001b[38;5;241m=\u001b[39m mpfit(\u001b[38;5;28mself\u001b[39m\u001b[38;5;241m.\u001b[39m_fitfunc, log_sigma, iterfunct\u001b[38;5;241m=\u001b[39miterfunc,\n\u001b[1;32m    279\u001b[0m            nprint\u001b[38;5;241m=\u001b[39m\u001b[38;5;241m10\u001b[39m, parinfo\u001b[38;5;241m=\u001b[39mparinfo, quiet\u001b[38;5;241m=\u001b[39mquiet)\n\u001b[1;32m    281\u001b[0m \u001b[38;5;28;01mif\u001b[39;00m mp\u001b[38;5;241m.\u001b[39mstatus \u001b[38;5;241m<\u001b[39m\u001b[38;5;241m=\u001b[39m \u001b[38;5;241m0\u001b[39m:\n\u001b[1;32m    282\u001b[0m     \u001b[38;5;28mprint\u001b[39m(\u001b[38;5;124m\"\u001b[39m\u001b[38;5;124mMpfit error: \u001b[39m\u001b[38;5;132;01m%d\u001b[39;00m\u001b[38;5;124m, status: \u001b[39m\u001b[38;5;132;01m%d\u001b[39;00m\u001b[38;5;124m\"\u001b[39m \u001b[38;5;241m%\u001b[39m (mp\u001b[38;5;241m.\u001b[39merrmsg, mp\u001b[38;5;241m.\u001b[39mstatus))\n",
      "File \u001b[0;32m~/.local/lib/python3.11/site-packages/mgefit/cap_mpfit.py:1077\u001b[0m, in \u001b[0;36mmpfit.__init__\u001b[0;34m(self, fcn, xall, functkw, parinfo, ftol, xtol, gtol, damp, maxiter, factor, nprint, iterfunct, iterkw, nocovar, rescale, autoderivative, quiet, diag, epsfcn, args)\u001b[0m\n\u001b[1;32m   1075\u001b[0m \u001b[38;5;28mself\u001b[39m\u001b[38;5;241m.\u001b[39mstatus \u001b[38;5;241m=\u001b[39m \u001b[38;5;241m2\u001b[39m\n\u001b[1;32m   1076\u001b[0m catch_msg \u001b[38;5;241m=\u001b[39m \u001b[38;5;124m'\u001b[39m\u001b[38;5;124mcalling MPFIT_FDJAC2\u001b[39m\u001b[38;5;124m'\u001b[39m\n\u001b[0;32m-> 1077\u001b[0m fjac \u001b[38;5;241m=\u001b[39m \u001b[38;5;28mself\u001b[39m\u001b[38;5;241m.\u001b[39mfdjac2(fcn, x, fvec, step, qulim, ulim, dside,\n\u001b[1;32m   1078\u001b[0m               epsfcn\u001b[38;5;241m=\u001b[39mepsfcn, autoderivative\u001b[38;5;241m=\u001b[39mautoderivative, dstep\u001b[38;5;241m=\u001b[39mdstep,\n\u001b[1;32m   1079\u001b[0m               functkw\u001b[38;5;241m=\u001b[39mfunctkw, ifree\u001b[38;5;241m=\u001b[39mifree, xall\u001b[38;5;241m=\u001b[39m\u001b[38;5;28mself\u001b[39m\u001b[38;5;241m.\u001b[39mparams, args\u001b[38;5;241m=\u001b[39margs)\n\u001b[1;32m   1080\u001b[0m \u001b[38;5;28;01mif\u001b[39;00m fjac \u001b[38;5;129;01mis\u001b[39;00m \u001b[38;5;28;01mNone\u001b[39;00m:\n\u001b[1;32m   1081\u001b[0m     \u001b[38;5;28mself\u001b[39m\u001b[38;5;241m.\u001b[39merrmsg \u001b[38;5;241m=\u001b[39m \u001b[38;5;124m'\u001b[39m\u001b[38;5;124mWARNING: premature termination by FDJAC2\u001b[39m\u001b[38;5;124m'\u001b[39m\n",
      "File \u001b[0;32m~/.local/lib/python3.11/site-packages/mgefit/cap_mpfit.py:1532\u001b[0m, in \u001b[0;36mmpfit.fdjac2\u001b[0;34m(self, fcn, x, fvec, step, ulimited, ulimit, dside, epsfcn, autoderivative, functkw, xall, ifree, dstep, args)\u001b[0m\n\u001b[1;32m   1530\u001b[0m xp \u001b[38;5;241m=\u001b[39m xall\u001b[38;5;241m.\u001b[39mcopy()\n\u001b[1;32m   1531\u001b[0m xp[ifree[j]] \u001b[38;5;241m+\u001b[39m\u001b[38;5;241m=\u001b[39m h[j]\n\u001b[0;32m-> 1532\u001b[0m [status, fp] \u001b[38;5;241m=\u001b[39m \u001b[38;5;28mself\u001b[39m\u001b[38;5;241m.\u001b[39mcall(fcn, xp, args, functkw)\n\u001b[1;32m   1534\u001b[0m \u001b[38;5;28;01mif\u001b[39;00m status \u001b[38;5;241m<\u001b[39m \u001b[38;5;241m0\u001b[39m:\n\u001b[1;32m   1535\u001b[0m     \u001b[38;5;28;01mreturn\u001b[39;00m \u001b[38;5;28;01mNone\u001b[39;00m\n",
      "File \u001b[0;32m~/.local/lib/python3.11/site-packages/mgefit/cap_mpfit.py:1452\u001b[0m, in \u001b[0;36mmpfit.call\u001b[0;34m(self, fcn, x, args, functkw, fjac)\u001b[0m\n\u001b[1;32m   1450\u001b[0m     x \u001b[38;5;241m=\u001b[39m \u001b[38;5;28mself\u001b[39m\u001b[38;5;241m.\u001b[39mtie(x, \u001b[38;5;28mself\u001b[39m\u001b[38;5;241m.\u001b[39mptied)\n\u001b[1;32m   1451\u001b[0m \u001b[38;5;28mself\u001b[39m\u001b[38;5;241m.\u001b[39mnfev \u001b[38;5;241m+\u001b[39m\u001b[38;5;241m=\u001b[39m \u001b[38;5;241m1\u001b[39m\n\u001b[0;32m-> 1452\u001b[0m f \u001b[38;5;241m=\u001b[39m fcn(x, \u001b[38;5;241m*\u001b[39margs, fjac\u001b[38;5;241m=\u001b[39mfjac, \u001b[38;5;241m*\u001b[39m\u001b[38;5;241m*\u001b[39mfunctkw)\n\u001b[1;32m   1454\u001b[0m \u001b[38;5;66;03m# Apply the damping if requested.  This replaces the residuals\u001b[39;00m\n\u001b[1;32m   1455\u001b[0m \u001b[38;5;66;03m# with their hyperbolic tangent.  Thus residuals larger than\u001b[39;00m\n\u001b[1;32m   1456\u001b[0m \u001b[38;5;66;03m# DAMP are essentially clipped.\u001b[39;00m\n\u001b[1;32m   1457\u001b[0m \u001b[38;5;28;01mif\u001b[39;00m \u001b[38;5;28mself\u001b[39m\u001b[38;5;241m.\u001b[39mdamp \u001b[38;5;241m>\u001b[39m \u001b[38;5;241m0\u001b[39m:\n",
      "File \u001b[0;32m~/.local/lib/python3.11/site-packages/mgefit/mge_fit_1d.py:365\u001b[0m, in \u001b[0;36mmge_fit_1d._fitfunc\u001b[0;34m(self, logSigma, fjac)\u001b[0m\n\u001b[1;32m    363\u001b[0m     \u001b[38;5;28mself\u001b[39m\u001b[38;5;241m.\u001b[39mweights \u001b[38;5;241m=\u001b[39m linalg\u001b[38;5;241m.\u001b[39mlstsq(A, b)[\u001b[38;5;241m0\u001b[39m]\n\u001b[1;32m    364\u001b[0m \u001b[38;5;28;01melse\u001b[39;00m:             \u001b[38;5;66;03m# Solution by NNLS\u001b[39;00m\n\u001b[0;32m--> 365\u001b[0m     \u001b[38;5;28mself\u001b[39m\u001b[38;5;241m.\u001b[39mweights \u001b[38;5;241m=\u001b[39m optimize\u001b[38;5;241m.\u001b[39mnnls(A, b, maxiter\u001b[38;5;241m=\u001b[39m\u001b[38;5;241m30\u001b[39m\u001b[38;5;241m*\u001b[39msigma2\u001b[38;5;241m.\u001b[39msize)[\u001b[38;5;241m0\u001b[39m]\n\u001b[1;32m    367\u001b[0m \u001b[38;5;28mself\u001b[39m\u001b[38;5;241m.\u001b[39myfit \u001b[38;5;241m=\u001b[39m \u001b[38;5;28mself\u001b[39m\u001b[38;5;241m.\u001b[39mgauss \u001b[38;5;241m@\u001b[39m \u001b[38;5;28mself\u001b[39m\u001b[38;5;241m.\u001b[39mweights\n\u001b[1;32m    368\u001b[0m \u001b[38;5;28mself\u001b[39m\u001b[38;5;241m.\u001b[39merr \u001b[38;5;241m=\u001b[39m \u001b[38;5;241m1\u001b[39m \u001b[38;5;241m-\u001b[39m \u001b[38;5;28mself\u001b[39m\u001b[38;5;241m.\u001b[39myfit \u001b[38;5;241m/\u001b[39m \u001b[38;5;28mself\u001b[39m\u001b[38;5;241m.\u001b[39my\n",
      "File \u001b[0;32m/usr/local/anaconda3/lib/python3.11/site-packages/scipy/optimize/_nnls.py:81\u001b[0m, in \u001b[0;36mnnls\u001b[0;34m(A, b, maxiter)\u001b[0m\n\u001b[1;32m     78\u001b[0m zz \u001b[38;5;241m=\u001b[39m zeros((m,), dtype\u001b[38;5;241m=\u001b[39mdouble)\n\u001b[1;32m     79\u001b[0m index \u001b[38;5;241m=\u001b[39m zeros((n,), dtype\u001b[38;5;241m=\u001b[39m\u001b[38;5;28mint\u001b[39m)\n\u001b[0;32m---> 81\u001b[0m x, rnorm, mode \u001b[38;5;241m=\u001b[39m __nnls\u001b[38;5;241m.\u001b[39mnnls(A, m, n, b, w, zz, index, maxiter)\n\u001b[1;32m     82\u001b[0m \u001b[38;5;28;01mif\u001b[39;00m mode \u001b[38;5;241m!=\u001b[39m \u001b[38;5;241m1\u001b[39m:\n\u001b[1;32m     83\u001b[0m     \u001b[38;5;28;01mraise\u001b[39;00m \u001b[38;5;167;01mRuntimeError\u001b[39;00m(\u001b[38;5;124m\"\u001b[39m\u001b[38;5;124mtoo many iterations\u001b[39m\u001b[38;5;124m\"\u001b[39m)\n",
      "\u001b[0;31mKeyboardInterrupt\u001b[0m: "
     ]
    }
   ],
   "source": [
    "space_jam_sph(0)"
   ]
  },
  {
   "cell_type": "markdown",
   "metadata": {
    "tags": []
   },
   "source": [
    "# Now MCMC"
   ]
  },
  {
   "cell_type": "code",
   "execution_count": null,
   "metadata": {
    "tags": []
   },
   "outputs": [],
   "source": [
    "'''\n",
    "Run spherical geometry\n",
    "'''\n",
    "\n",
    "def space_jam_sph(i):\n",
    "\n",
    "    obj_name = obj_names[i]\n",
    "    kin_dir = f'{kinematics_dir}{obj_name}/'\n",
    "    jam_dir = f'{jam_output_dir}{obj_name}/'\n",
    "    jam_details_file = f'{kin_dir}{obj_name}_details_for_jampy_xshooter_{date_of_kin}.pkl'\n",
    "    mass_model='power_law'\n",
    "    anisotropy='const'\n",
    "    geometry='sph'\n",
    "    align='sph'\n",
    "    zlens= zlenses[slacs_ix_table['Name']==obj_name].to_numpy()[0]\n",
    "    zsource = zsources[slacs_ix_table['Name']==obj_name].to_numpy()[0]\n",
    "    sigmapsf = sigmapsf_table[sigmapsf_table['obj_name']==obj_name]['kcwi_sigmapsf'].to_numpy()[0]\n",
    "    #cosmo = cosmo\n",
    "    fast_slow = paper_table.loc[0, 'class_for_JAM_models']\n",
    "    systematics_est = 0.05 # %\n",
    "    covariance_est = 0.02 # %\n",
    "    # gamma0, einstein radius, anis, k_mst, a_mst\n",
    "    p0 =      [2.0,  1.0,  0.9,   0.5,   7] \n",
    "    bounds = [[1.4,  0.7,  0.0,   0.0,   5 ], \n",
    "              [2.8,  2.0,  1.0,   1.0,   10]]\n",
    "    sigpar = np.array([0.2, 0.2, 0.2, 0.2, 0.2])  # crude estimate of uncertainties\n",
    "    prior_type = ['uniform','uniform','uniform','uniform','uniform']\n",
    "    lensprior = False\n",
    "    fix_pars = [0, 0, 0, 1, 1]\n",
    "    lambda_int= 1.0\n",
    "    nstep = 1\n",
    "    nwalkers = 12\n",
    "    ndim = 5\n",
    "    minimization = 'MCMC'\n",
    "    sampler_args = [nstep, nwalkers, ndim] # 10 walkers\n",
    "    date_time = datetime.now().strftime(\"%Y_%m_%d\")#-%I_%M_%S_%p\"\n",
    "    run_id = 1\n",
    "\n",
    "    welcome_to_the_jam = space_jam(jam_dir, jam_details_file,\n",
    "                                     obj_name, mass_model, anisotropy, geometry, align, \n",
    "                                    zlens=zlens, zsource=zsource, cosmo=cosmo, sigmapsf=sigmapsf, fast_slow=fast_slow,\n",
    "                                   systematics_est=systematics_est, covariance_est=covariance_est,\n",
    "                                   p0=p0, bounds=bounds, sigpar=sigpar, prior_type=prior_type, lensprior=lensprior, fix_pars=fix_pars, lambda_int=lambda_int,\n",
    "                                   minimization=minimization, sampler_args=sampler_args, date_time=date_time, run_id=run_id, plot=True, overwrite=True, \n",
    "                                   test_prior=False, constant_err=False, kinmap_test=None)\n",
    "\n",
    "    #welcome_to_the_jam.fit_lsq()\n",
    "    welcome_to_the_jam.run_mcmc()\n",
    "    welcome_to_the_jam.summary_plot()\n",
    "    #welcome_to_the_jam.save_space_jam()"
   ]
  },
  {
   "cell_type": "code",
   "execution_count": null,
   "metadata": {
    "tags": []
   },
   "outputs": [],
   "source": [
    "space_jam_sph(0)"
   ]
  },
  {
   "cell_type": "code",
   "execution_count": null,
   "metadata": {
    "tags": []
   },
   "outputs": [],
   "source": [
    "# import general libraries and modules\n",
    "import numpy as np\n",
    "np.set_printoptions(threshold=10000)\n",
    "import matplotlib.pyplot as plt\n",
    "plt.rcParams[\"figure.figsize\"] = (8, 6)\n",
    "#plt.switch_backend('agg')\n",
    "#%matplotlib inline\n",
    "import pandas as pd\n",
    "import warnings\n",
    "warnings.filterwarnings( \"ignore\", module = \"matplotlib\\..*\" )\n",
    "warnings.filterwarnings( \"ignore\", module = \"plotbin\\..*\" )\n",
    "import os\n",
    "from os import path\n",
    "from pathlib import Path\n",
    "import pickle\n",
    "#import dill as pickle\n",
    "from datetime import datetime\n",
    "def tick():\n",
    "    return datetime.now().strftime(\"%Y_%m_%d-%I_%M_%S_%p\")\n",
    "import glob\n",
    "\n",
    "# astronomy/scipy\n",
    "from astropy.io import fits\n",
    "#from astropy.wcs import WCS\n",
    "#from scipy.ndimage import rotate\n",
    "#from scipy.ndimage import map_coordinates\n",
    "#from scipy.optimize import least_squares as lsq\n",
    "#from astropy.convolution import convolve, convolve_fft, Gaussian2DKernel\n",
    "#from astropy.cosmology import Planck15 as cosmo # I took 15 because for some reason Planck18 isn't in this astropy install #Planck18 as cosmo  # Planck 2018\n",
    "from astropy.cosmology import FlatLambdaCDM\n",
    "cosmo = FlatLambdaCDM(H0=70, Om0=0.3, Tcmb0=2.725)\n",
    "#from scipy.interpolate import interp1d\n",
    "#from scipy.optimize import fsolve\n",
    "import astropy.units as u\n",
    "import astropy.constants as constants\n",
    "\n",
    "# my functions\n",
    "import sys\n",
    "sys.path.append(\"/home/shawnknabel/Documents/slacs_kinematics/my_python_packages\")\n",
    "\n",
    "\n",
    "################################################################\n",
    "# some needed information\n",
    "kcwi_scale = 0.1457  # arcsec/pixel\n",
    "hst_scale = 0.050 # ACS/WFC\n",
    "\n",
    "# value of c^2 / 4 pi G\n",
    "c2_4piG = (constants.c **2 / constants.G / 4 / np.pi).to('solMass/pc')\n",
    "\n",
    "\n",
    "########################################################\n",
    "\n",
    "# bring in the space_jam and total_mass_mge modules\n",
    "\n",
    "from space_jam import space_jam\n",
    "from total_mass_mge import total_mass_mge\n",
    "\n",
    "#########################################################\n",
    "\n",
    "##################################################################################################################################\n",
    "\n",
    "date_of_kin = '2024_02_15'\n",
    "\n",
    "# set today's datetime\n",
    "date_time = datetime.now().strftime(\"%Y_%m_%d\")#-%I_%M_%S_%p\"\n",
    "\n",
    "#------------------------------------------------------------------------------\n",
    "# Directories and files\n",
    "\n",
    "# data directory\n",
    "data_dir = '/data/raw_data/KECK_KCWI_SLACS_kinematics_shawn/'\n",
    "hst_dir = '/data/raw_data/HST_SLACS_ACS/kcwi_kinematics_lenses/'\n",
    "tables_dir = f'{data_dir}tables/'\n",
    "mosaics_dir = f'{data_dir}mosaics/'\n",
    "kinematics_full_dir = f'{data_dir}kinematics/'\n",
    "kinematics_dir =f'{kinematics_full_dir}{date_of_kin}/'\n",
    "jam_output_dir = f'{data_dir}jam_outputs/'\n",
    "# create a directory for JAM outputs\n",
    "#Path(jam_output_dir).mkdir(parents=True, exist_ok=True)\n",
    "#print(f'Outputs will be in {jam_output_dir}')\n",
    "print()\n",
    "\n",
    "#################################################\n",
    "# objects\n",
    "obj_names = ['SDSSJ0029-0055', \n",
    "             'SDSSJ0037-0942',\n",
    "             'SDSSJ0330-0020',\n",
    "             'SDSSJ1112+0826',\n",
    "             'SDSSJ1204+0358',\n",
    "             'SDSSJ1250+0523',\n",
    "             'SDSSJ1306+0600',\n",
    "             'SDSSJ1402+6321',\n",
    "             'SDSSJ1531-0105',\n",
    "             'SDSSJ1538+5817',\n",
    "             'SDSSJ1621+3931',\n",
    "             'SDSSJ1627-0053',\n",
    "             'SDSSJ1630+4520',\n",
    "             'SDSSJ2303+1422'\n",
    "            ]\n",
    "\n",
    "#################################################\n",
    "\n",
    "paper_table = pd.read_csv(f'{tables_dir}paper_table_100223.csv')\n",
    "slacs_ix_table = pd.read_csv(f'{tables_dir}slacs_ix_table3.csv')\n",
    "zs = paper_table['zlens']\n",
    "zlenses = slacs_ix_table['z_lens']\n",
    "zsources = slacs_ix_table['z_src']\n",
    "# get the revised KCWI sigmapsf\n",
    "sigmapsf_table = pd.read_csv(f'{tables_dir}kcwi_sigmapsf_estimates.csv')\n",
    "\n",
    "#############################################################################\n",
    "\n",
    "# define the tasks\n",
    "\n",
    "'''\n",
    "First task is spherical constant\n",
    "'''\n",
    "\n",
    "def task_1(i):\n",
    "\n",
    "    obj_name = obj_names[i]\n",
    "    kin_dir = f'{kinematics_dir}{obj_name}/'\n",
    "    jam_dir = f'{jam_output_dir}{obj_name}/'\n",
    "    jam_details_file = f'{kin_dir}{obj_name}_details_for_jampy_xshooter_{date_of_kin}.pkl'\n",
    "    mass_model='power_law'\n",
    "    anisotropy='const'\n",
    "    geometry='sph'\n",
    "    align='sph'\n",
    "    zlens= zlenses[slacs_ix_table['Name']==obj_name].to_numpy()[0]\n",
    "    zsource = zsources[slacs_ix_table['Name']==obj_name].to_numpy()[0]\n",
    "    sigmapsf = sigmapsf_table[sigmapsf_table['obj_name']==obj_name]['kcwi_sigmapsf'].to_numpy()[0]\n",
    "    #cosmo = cosmo\n",
    "    fast_slow = paper_table.loc[0, 'class_for_JAM_models']\n",
    "    systematics_est = 0.05 # %\n",
    "    covariance_est = 0.02 # %\n",
    "    # gamma0, einstein radius, anis, k_mst, a_mst\n",
    "    p0 =      [2.0,  1.0,  0.9,   0.5,   7] \n",
    "    bounds = [[1.4,  0.7,  0.0,   0.0,   5 ], \n",
    "              [2.8,  2.0,  1.0,   1.0,   10]]\n",
    "    sigpar = np.array([0.2, 0.2, 0.2, 0.2, 0.2])  # crude estimate of uncertainties\n",
    "    prior_type = ['uniform','uniform','uniform','uniform','uniform']\n",
    "    lensprior = False\n",
    "    fix_pars = [0, 0, 0, 1, 1]\n",
    "    lambda_int= 1.0\n",
    "    nstep = 1\n",
    "    nwalkers = 12\n",
    "    ndim = 5\n",
    "    burn = 0\n",
    "    minimization = 'MCMC'\n",
    "    sampler_args = [nstep, nwalkers, ndim] # 10 walkers\n",
    "    run_id = 1\n",
    "\n",
    "    welcome_to_the_jam = space_jam(jam_dir, jam_details_file,\n",
    "                                   obj_name, mass_model, anisotropy, geometry, align, \n",
    "                                   zlens=zlens, zsource=zsource, cosmo=cosmo, sigmapsf=sigmapsf, fast_slow=fast_slow,\n",
    "                                   systematics_est=systematics_est, covariance_est=covariance_est,\n",
    "                                   p0=p0, bounds=bounds, sigpar=sigpar, prior_type=prior_type, lensprior=lensprior, \n",
    "                                   fix_pars=fix_pars, lambda_int=lambda_int,\n",
    "                                   minimization=minimization, sampler_args=sampler_args, \n",
    "                                   date_time=date_time, run_id=run_id, plot=True, overwrite=True, \n",
    "                                   test_prior=False, constant_err=False, kinmap_test=None)\n",
    "\n",
    "    welcome_to_the_jam.run_mcmc()\n",
    "    welcome_to_the_jam.save_space_jam()\n",
    "    welcome_to_the_jam.summary_plot(save=True, burn=burn)\n",
    "    \n",
    "'''\n",
    "Second task is axisymmetric cylindrical\n",
    "'''\n",
    "\n",
    "def task_2(i):\n",
    "\n",
    "    obj_name = obj_names[i]\n",
    "    kin_dir = f'{kinematics_dir}{obj_name}/'\n",
    "    jam_dir = f'{jam_output_dir}{obj_name}/'\n",
    "    jam_details_file = f'{kin_dir}{obj_name}_details_for_jampy_xshooter_{date_of_kin}.pkl'\n",
    "    mass_model='power_law'\n",
    "    anisotropy='OM'\n",
    "    geometry='sph'\n",
    "    align='sph'\n",
    "    zlens= zlenses[slacs_ix_table['Name']==obj_name].to_numpy()[0]\n",
    "    zsource = zsources[slacs_ix_table['Name']==obj_name].to_numpy()[0]\n",
    "    sigmapsf = sigmapsf_table[sigmapsf_table['obj_name']==obj_name]['kcwi_sigmapsf'].to_numpy()[0]\n",
    "    #cosmo = cosmo\n",
    "    fast_slow = paper_table.loc[0, 'class_for_JAM_models']\n",
    "    systematics_est = 0.05 # %\n",
    "    covariance_est = 0.02 # %\n",
    "    # gamma0, einstein radius, anis, k_mst, a_mst\n",
    "    p0 =      [2.0,  1.0,  0.7,   0.5,   7] \n",
    "    bounds = [[1.4,  0.7,  0.01,  0.0,   5 ], \n",
    "              [2.8,  2.0,  4.0,   1.0,   10]]\n",
    "    sigpar = np.array([0.2, 0.2, 0.2, 0.2, 0.2])  # crude estimate of uncertainties\n",
    "    prior_type = ['uniform','uniform','uniform','uniform','uniform']\n",
    "    lensprior = False\n",
    "    fix_pars = [0, 0, 0, 1, 1]\n",
    "    lambda_int= 1.0\n",
    "    nstep = 1\n",
    "    nwalkers = 12\n",
    "    ndim = 5\n",
    "    burn = 0\n",
    "    minimization = 'MCMC'\n",
    "    sampler_args = [nstep, nwalkers, ndim] # 10 walkers\n",
    "    run_id = 2\n",
    "\n",
    "    welcome_to_the_jam = space_jam(jam_dir, jam_details_file,\n",
    "                                   obj_name, mass_model, anisotropy, geometry, align, \n",
    "                                   zlens=zlens, zsource=zsource, cosmo=cosmo, sigmapsf=sigmapsf, fast_slow=fast_slow,\n",
    "                                   systematics_est=systematics_est, covariance_est=covariance_est,\n",
    "                                   p0=p0, bounds=bounds, sigpar=sigpar, prior_type=prior_type, lensprior=lensprior, \n",
    "                                   fix_pars=fix_pars, lambda_int=lambda_int,\n",
    "                                   minimization=minimization, sampler_args=sampler_args, \n",
    "                                   date_time=date_time, run_id=run_id, plot=True, overwrite=True, \n",
    "                                   test_prior=False, constant_err=False, kinmap_test=None)\n",
    "\n",
    "    welcome_to_the_jam.run_mcmc()\n",
    "    welcome_to_the_jam.save_space_jam()\n",
    "    welcome_to_the_jam.summary_plot(save=True, burn=burn)\n",
    "    \n",
    "# protect the entry point\n",
    "from concurrent.futures import ProcessPoolExecutor\n",
    "\n",
    "if __name__ == '__main__':\n",
    "    # report a message\n",
    "    print('Starting task 1...')\n",
    "    # create the process pool\n",
    "    with ProcessPoolExecutor(1) as exe:\n",
    "        # perform calculations\n",
    "        results = exe.map(task_1, range(1))\n",
    "    # report a message\n",
    "    print('Done.')\n",
    "    \n",
    "if __name__ == '__main__':\n",
    "    # report a message\n",
    "    print('Starting task 2...')\n",
    "    # create the process pool\n",
    "    with ProcessPoolExecutor(1) as exe:\n",
    "        # perform calculations\n",
    "        results = exe.map(task_2, range(1))\n",
    "    # report a message\n",
    "    print('Done.')"
   ]
  },
  {
   "cell_type": "markdown",
   "metadata": {
    "tags": []
   },
   "source": [
    "# Now OM"
   ]
  },
  {
   "cell_type": "code",
   "execution_count": null,
   "metadata": {
    "tags": []
   },
   "outputs": [],
   "source": [
    "'''\n",
    "Run spherical geometry\n",
    "'''\n",
    "\n",
    "def space_jam_sph_OM(i):\n",
    "\n",
    "    obj_name = obj_names[i]\n",
    "    kin_dir = f'{kinematics_dir}{obj_name}/'\n",
    "    jam_dir = f'{jam_output_dir}{obj_name}/'\n",
    "    jam_details_file = f'{kin_dir}{obj_name}_details_for_jampy_xshooter_{date_of_kin}.pkl'\n",
    "    mass_model='power_law'\n",
    "    anisotropy='OM'\n",
    "    geometry='sph'\n",
    "    align='sph'\n",
    "    zlens= zlenses[slacs_ix_table['Name']==obj_name].to_numpy()[0]\n",
    "    zsource = zsources[slacs_ix_table['Name']==obj_name].to_numpy()[0]\n",
    "    sigmapsf = sigmapsf_table[sigmapsf_table['obj_name']==obj_name]['kcwi_sigmapsf'].to_numpy()[0]\n",
    "    #cosmo = cosmo\n",
    "    fast_slow = paper_table.loc[0, 'class_for_JAM_models']\n",
    "    systematics_est = 0.05 # %\n",
    "    covariance_est = 0.02 # %\n",
    "    # gamma0, einstein radius, anis, k_mst, a_mst\n",
    "    p0 =      [2.0,  1.0,  0.7,   0.5,   7] \n",
    "    bounds = [[1.4,  0.7,  0.01,   0.0,   5 ], \n",
    "              [2.8,  2.0,  4.0,   1.0,   10]]\n",
    "    sigpar = np.array([0.2, 0.2, 0.2, 0.2, 0.2])  # crude estimate of uncertainties\n",
    "    prior_type = ['uniform','uniform','uniform','uniform','uniform']\n",
    "    lensprior = False\n",
    "    fix_pars = [0, 0, 0, 1, 1]\n",
    "    lambda_int= 1.0\n",
    "    nstep = 1000\n",
    "    nwalkers = 12\n",
    "    ndim = 5\n",
    "    minimization = 'lsq'\n",
    "    sampler_args = [nstep, nwalkers, ndim] # 10 walkers\n",
    "    date_time = datetime.now().strftime(\"%Y_%m_%d\")#-%I_%M_%S_%p\"\n",
    "    run_id = 1\n",
    "\n",
    "    welcome_to_the_jam = space_jam(jam_dir, jam_details_file,\n",
    "                                     obj_name, mass_model, anisotropy, geometry, align, \n",
    "                                    zlens=zlens, zsource=zsource, cosmo=cosmo, sigmapsf=sigmapsf, fast_slow=fast_slow,\n",
    "                                   systematics_est=systematics_est, covariance_est=covariance_est,\n",
    "                                   p0=p0, bounds=bounds, sigpar=sigpar, prior_type=prior_type, lensprior=lensprior, fix_pars=fix_pars, lambda_int=lambda_int,\n",
    "                                   minimization=minimization, sampler_args=sampler_args, date_time=date_time, run_id=run_id, plot=True, overwrite=True, \n",
    "                                   test_prior=False, constant_err=False, kinmap_test=None)\n",
    "\n",
    "    welcome_to_the_jam.fit_lsq()\n",
    "    #welcome_to_the_jam.summary_plot()\n",
    "    #welcome_to_the_jam.save_space_jam()"
   ]
  },
  {
   "cell_type": "code",
   "execution_count": null,
   "metadata": {
    "tags": []
   },
   "outputs": [],
   "source": [
    "space_jam_sph_OM(0)"
   ]
  },
  {
   "cell_type": "markdown",
   "metadata": {},
   "source": [
    "________________________________\n",
    "# 03/20/24 - Also looking at why the axisymmetric models failed for J1250 and J1306\n",
    "from 031924_jam_axi_cyl_and_sph_j1250_j1306.py"
   ]
  },
  {
   "cell_type": "code",
   "execution_count": 5,
   "metadata": {
    "tags": []
   },
   "outputs": [],
   "source": [
    "%matplotlib inline"
   ]
  },
  {
   "cell_type": "code",
   "execution_count": 4,
   "metadata": {
    "tags": []
   },
   "outputs": [
    {
     "name": "stdout",
     "output_type": "stream",
     "text": [
      "Files in /data/raw_data/KECK_KCWI_SLACS_kinematics_shawn/jam_outputs/SDSSJ1250+0523/SDSSJ1250+0523_2024_03_11_v1/ will be overwritten.\n",
      "\n",
      "JAM Outputs to  /data/raw_data/KECK_KCWI_SLACS_kinematics_shawn/jam_outputs/SDSSJ1250+0523/SDSSJ1250+0523_2024_03_11_v1/\n",
      "\n",
      "Giving the qs a little nudge\n",
      "Parameters are  ['$\\\\gamma$', '$\\\\theta_E$', '$q_{\\\\rm intr}$', '$\\\\sigma_{\\\\theta}/\\\\sigma_r$', '$\\\\lambda_{int}$', '$a_{MST}$']\n",
      "Priors are now  ['uniform', 'uniform', 'gaussian', 'uniform', 'uniform', 'uniform']\n",
      "Mean prior values are  [2.0, 1.0, 0.74, 0.9, 0.5, 7]\n",
      "Added 5.0% systematics to diagonal.\n",
      "Covariance terms are 2.0%.\n",
      "Residuals > 10%: Change `inner_slope` or `outer_slope` or increase `ngauss`\n",
      "Residuals > 10%: Change `inner_slope` or `outer_slope` or increase `ngauss`\n",
      "Residuals > 10%: Change `inner_slope` or `outer_slope` or increase `ngauss`\n",
      "Residuals > 10%: Change `inner_slope` or `outer_slope` or increase `ngauss`\n",
      "Residuals > 10%: Change `inner_slope` or `outer_slope` or increase `ngauss`\n",
      "\n",
      "Start lambda: 218.1  chi2: 9646.\n",
      "Start p_free: 2.000 1.000 0.7400 0.9000\n",
      "Residuals > 10%: Change `inner_slope` or `outer_slope` or increase `ngauss`\n",
      "\n",
      "iter: 1  lambda: 218.1  chi2: 1383.  ratio: 0.8730\n",
      "p_free: 2.240 1.315 0.9631 0.000\n",
      "h: 0.2398 0.3145 0.2231 -0.9000\n",
      "Residuals > 10%: Change `inner_slope` or `outer_slope` or increase `ngauss`\n",
      "Residuals > 10%: Change `inner_slope` or `outer_slope` or increase `ngauss`\n",
      "Residuals > 10%: Change `inner_slope` or `outer_slope` or increase `ngauss`\n",
      "Residuals > 10%: Change `inner_slope` or `outer_slope` or increase `ngauss`\n",
      "Residuals > 10%: Change `inner_slope` or `outer_slope` or increase `ngauss`\n",
      "\n",
      "iter: 2  lambda: 109.1  chi2: 196.8  ratio: 0.9857\n",
      "p_free: 2.214 1.280 0.9693 0.3010\n",
      "h: -0.02604 -0.03417 0.006157 0.3010\n",
      "Residuals > 10%: Change `inner_slope` or `outer_slope` or increase `ngauss`\n",
      "Residuals > 10%: Change `inner_slope` or `outer_slope` or increase `ngauss`\n",
      "Residuals > 10%: Change `inner_slope` or `outer_slope` or increase `ngauss`\n",
      "Residuals > 10%: Change `inner_slope` or `outer_slope` or increase `ngauss`\n",
      "Residuals > 10%: Change `inner_slope` or `outer_slope` or increase `ngauss`\n",
      "\n",
      "iter: 3  lambda: 54.54  chi2: 181.0  ratio: 0.9866\n",
      "p_free: 2.185 1.319 0.9693 0.3413\n",
      "h: -0.02839 0.03862 0.000 0.04021\n",
      "Residuals > 10%: Change `inner_slope` or `outer_slope` or increase `ngauss`\n",
      "Residuals > 10%: Change `inner_slope` or `outer_slope` or increase `ngauss`\n",
      "Residuals > 10%: Change `inner_slope` or `outer_slope` or increase `ngauss`\n",
      "Residuals > 10%: Change `inner_slope` or `outer_slope` or increase `ngauss`\n",
      "Residuals > 10%: Change `inner_slope` or `outer_slope` or increase `ngauss`\n",
      "\n",
      "iter: 4  lambda: 27.27  chi2: 181.0  ratio: -0.04328\n",
      "p_free: 2.183 1.320 0.9693 0.3350\n",
      "h: -0.002388 0.001520 0.000 -0.006288\n",
      "\n",
      "Terminating on small function variation (ftol)\n",
      "Final iter: 4  Func calls: 21  chi2: 181.0  Status: 2\n",
      "Final p: 2.185 1.319 0.9693 0.3413\n",
      "\n",
      "\n",
      "Success!\n",
      "\n",
      "Best fit, [2.18535953 1.31895433 0.96925057 0.34125447 0.5        7.        ]\n",
      "Residuals > 10%: Change `inner_slope` or `outer_slope` or increase `ngauss`\n"
     ]
    },
    {
     "name": "stderr",
     "output_type": "stream",
     "text": [
      "/home/shawnknabel/.local/lib/python3.11/site-packages/jampy/jam_axi_proj.py:1018: UserWarning: Attempt to set non-positive xlim on a log-scaled axis will be ignored.\n",
      "  plt.clf()\n"
     ]
    }
   ],
   "source": [
    "# define the tasks\n",
    "\n",
    "'''\n",
    "First task is axisymmetric spherical\n",
    "'''\n",
    "\n",
    "i=5\n",
    "\n",
    "obj_name = obj_names[i]\n",
    "kin_dir = f'{kinematics_dir}{obj_name}/'\n",
    "jam_dir = f'{jam_output_dir}{obj_name}/'\n",
    "jam_details_file = f'{kin_dir}{obj_name}_details_for_jampy_xshooter_{date_of_kin}.pkl'\n",
    "mass_model='power_law'\n",
    "anisotropy='const'\n",
    "geometry='axi'\n",
    "align='sph'\n",
    "zlens= zlenses[slacs_ix_table['Name']==obj_name].to_numpy()[0]\n",
    "zsource = zsources[slacs_ix_table['Name']==obj_name].to_numpy()[0]\n",
    "sigmapsf = sigmapsf_table[sigmapsf_table['obj_name']==obj_name]['kcwi_sigmapsf'].to_numpy()[0]\n",
    "#cosmo = cosmo\n",
    "fast_slow = paper_table.loc[0, 'class_for_JAM_models']\n",
    "systematics_est = 0.05 # %\n",
    "covariance_est = 0.02 # %\n",
    "p0 =      [2.0,  1.0,  0.4,    0.9,   0.5,  7] # gamma0, einstein radius, q0, k_ani, k_mst, a_mst\n",
    "bounds = [[1.4,  0.7,  0.051,  0.0,   0.0,  5 ], \n",
    "          [2.8,  2.0,  1.0,    1.0,   1.0,  10]]\n",
    "sigpar = np.array([0.2, 0.2, 0.2, 0.2, 0.2, 0.2])  # crude estimate of uncertainties\n",
    "prior_type = ['uniform','uniform','uniform','uniform','uniform','uniform']\n",
    "lensprior = False\n",
    "fix_pars = [0, 0, 0, 0, 1, 1]\n",
    "lambda_int= 1.0\n",
    "nstep = 1\n",
    "nwalkers = 12\n",
    "ndim = 6\n",
    "minimization = 'lsq'\n",
    "sampler_args = [nstep, nwalkers, ndim] # 10 walkers\n",
    "date_time = '2024_03_11'#datetime.now().strftime(\"%Y_%m_%d\")#-%I_%M_%S_%p\"\n",
    "run_id = 1\n",
    "\n",
    "welcome_to_the_jam = space_jam(jam_dir, jam_details_file,\n",
    "                                 obj_name, mass_model, anisotropy, geometry, align, \n",
    "                                zlens=zlens, zsource=zsource, cosmo=cosmo, sigmapsf=sigmapsf, fast_slow=fast_slow,\n",
    "                               systematics_est=systematics_est, covariance_est=covariance_est,\n",
    "                               p0=p0, bounds=bounds, sigpar=sigpar, prior_type=prior_type, lensprior=lensprior, fix_pars=fix_pars, lambda_int=lambda_int,\n",
    "                               minimization=minimization, sampler_args=sampler_args, date_time=date_time, run_id=run_id, plot=True, overwrite=True, \n",
    "                               test_prior=False, constant_err=False, kinmap_test=None)\n",
    "\n",
    "welcome_to_the_jam.fit_lsq()\n",
    "#welcome_to_the_jam.run_mcmc()\n",
    "#welcome_to_the_jam.save_space_jam()\n",
    " "
   ]
  },
  {
   "cell_type": "code",
   "execution_count": 16,
   "metadata": {
    "tags": []
   },
   "outputs": [
    {
     "name": "stdout",
     "output_type": "stream",
     "text": [
      "Files in /data/raw_data/KECK_KCWI_SLACS_kinematics_shawn/jam_outputs/SDSSJ1306+0600/SDSSJ1306+0600_2024_03_11_v1/ will be overwritten.\n",
      "\n",
      "JAM Outputs to  /data/raw_data/KECK_KCWI_SLACS_kinematics_shawn/jam_outputs/SDSSJ1306+0600/SDSSJ1306+0600_2024_03_11_v1/\n",
      "\n",
      "Giving the qs a little nudge\n",
      "Parameters are  ['$\\\\gamma$', '$\\\\theta_E$', '$q_{\\\\rm intr}$', '$\\\\sigma_{\\\\theta}/\\\\sigma_r$', '$\\\\lambda_{int}$', '$a_{MST}$']\n",
      "Priors are now  ['uniform', 'uniform', 'gaussian', 'uniform', 'uniform', 'uniform']\n",
      "Mean prior values are  [2.0, 1.0, 0.74, 0.9, 0.5, 7]\n",
      "Added 5.0% systematics to diagonal.\n",
      "Covariance terms are 2.0%.\n",
      "Residuals > 10%: Change `inner_slope` or `outer_slope` or increase `ngauss`\n",
      "Residuals > 10%: Change `inner_slope` or `outer_slope` or increase `ngauss`\n",
      "Residuals > 10%: Change `inner_slope` or `outer_slope` or increase `ngauss`\n",
      "Residuals > 10%: Change `inner_slope` or `outer_slope` or increase `ngauss`\n",
      "Residuals > 10%: Change `inner_slope` or `outer_slope` or increase `ngauss`\n",
      "\n",
      "Start lambda: 1709.  chi2: 2928.\n",
      "Start p_free: 2.000 1.000 0.7707 0.9000\n",
      "Residuals > 10%: Change `inner_slope` or `outer_slope` or increase `ngauss`\n",
      "\n",
      "iter: 1  lambda: 1709.  chi2: 138.2  ratio: 0.9869\n",
      "p_free: 2.208 1.257 0.8112 0.3081\n",
      "h: 0.2082 0.2569 0.04056 -0.5919\n",
      "Residuals > 10%: Change `inner_slope` or `outer_slope` or increase `ngauss`\n",
      "Residuals > 10%: Change `inner_slope` or `outer_slope` or increase `ngauss`\n",
      "Residuals > 10%: Change `inner_slope` or `outer_slope` or increase `ngauss`\n",
      "Residuals > 10%: Change `inner_slope` or `outer_slope` or increase `ngauss`\n",
      "Residuals > 10%: Change `inner_slope` or `outer_slope` or increase `ngauss`\n",
      "\n",
      "iter: 2  lambda: 854.4  chi2: 102.9  ratio: 0.8503\n",
      "p_free: 2.252 1.286 0.8530 0.7309\n",
      "h: 0.04403 0.02865 0.04173 0.4228\n",
      "Residuals > 10%: Change `inner_slope` or `outer_slope` or increase `ngauss`\n",
      "Residuals > 10%: Change `inner_slope` or `outer_slope` or increase `ngauss`\n",
      "Residuals > 10%: Change `inner_slope` or `outer_slope` or increase `ngauss`\n",
      "Residuals > 10%: Change `inner_slope` or `outer_slope` or increase `ngauss`\n",
      "Residuals > 10%: Change `inner_slope` or `outer_slope` or increase `ngauss`\n",
      "\n",
      "iter: 3  lambda: 427.2  chi2: 112.9  ratio: -1.517\n",
      "p_free: 2.251 1.288 0.9234 1.000\n",
      "h: -0.001721 0.002069 0.07048 0.2691\n",
      "Residuals > 10%: Change `inner_slope` or `outer_slope` or increase `ngauss`\n",
      "\n",
      "iter: 3  lambda: 1709.  chi2: 112.8  ratio: -1.511\n",
      "p_free: 2.251 1.288 0.9234 1.000\n",
      "h: -0.001709 0.002068 0.07048 0.2691\n",
      "Residuals > 10%: Change `inner_slope` or `outer_slope` or increase `ngauss`\n",
      "\n",
      "iter: 3  lambda: 6835.  chi2: 112.2  ratio: -1.504\n",
      "p_free: 2.249 1.288 0.9063 1.000\n",
      "h: -0.003631 0.001992 0.05336 0.2691\n",
      "Residuals > 10%: Change `inner_slope` or `outer_slope` or increase `ngauss`\n",
      "\n",
      "iter: 3  lambda: 2.734e+04  chi2: 113.8  ratio: -2.129\n",
      "p_free: 2.245 1.287 0.8735 1.000\n",
      "h: -0.007188 0.001838 0.02057 0.2691\n",
      "Residuals > 10%: Change `inner_slope` or `outer_slope` or increase `ngauss`\n",
      "\n",
      "iter: 3  lambda: 1.094e+05  chi2: 110.1  ratio: -1.753\n",
      "p_free: 2.241 1.287 0.8591 0.8942\n",
      "h: -0.01160 0.001341 0.006115 0.1632\n",
      "Residuals > 10%: Change `inner_slope` or `outer_slope` or increase `ngauss`\n",
      "\n",
      "iter: 3  lambda: 4.375e+05  chi2: 105.2  ratio: -0.6846\n",
      "p_free: 2.239 1.286 0.8547 0.7710\n",
      "h: -0.01371 0.0007377 0.001708 0.04002\n",
      "Residuals > 10%: Change `inner_slope` or `outer_slope` or increase `ngauss`\n",
      "\n",
      "iter: 3  lambda: 1.750e+06  chi2: 104.5  ratio: -0.6188\n",
      "p_free: 2.243 1.286 0.8534 0.7420\n",
      "h: -0.009488 0.0003562 0.0004805 0.01104\n",
      "Residuals > 10%: Change `inner_slope` or `outer_slope` or increase `ngauss`\n",
      "\n",
      "iter: 3  lambda: 6.999e+06  chi2: 102.9  ratio: 0.05186\n",
      "p_free: 2.248 1.286 0.8531 0.7360\n",
      "h: -0.004281 0.0001017 0.0001401 0.005066\n",
      "Residuals > 10%: Change `inner_slope` or `outer_slope` or increase `ngauss`\n",
      "Residuals > 10%: Change `inner_slope` or `outer_slope` or increase `ngauss`\n",
      "Residuals > 10%: Change `inner_slope` or `outer_slope` or increase `ngauss`\n",
      "Residuals > 10%: Change `inner_slope` or `outer_slope` or increase `ngauss`\n",
      "Residuals > 10%: Change `inner_slope` or `outer_slope` or increase `ngauss`\n",
      "\n",
      "iter: 4  lambda: 2.800e+07  chi2: 102.8  ratio: 0.7938\n",
      "p_free: 2.248 1.286 0.8531 0.7376\n",
      "h: 0.0003556 2.927e-06 3.778e-05 0.001557\n",
      "\n",
      "Terminating on small step (xtol)\n",
      "Final iter: 4  Func calls: 28  chi2: 102.8  Status: 3\n",
      "Final p: 2.248 1.286 0.8531 0.7376\n",
      "\n",
      "\n",
      "Success!\n",
      "\n",
      "Best fit, [2.24833623 1.28565721 0.85314577 0.73756936 0.5        7.        ]\n",
      "Residuals > 10%: Change `inner_slope` or `outer_slope` or increase `ngauss`\n"
     ]
    },
    {
     "data": {
      "image/png": "[encoded data removed]",
      "text/plain": [
       "<Figure size 800x600 with 4 Axes>"
      ]
     },
     "metadata": {},
     "output_type": "display_data"
    }
   ],
   "source": [
    "# define the tasks\n",
    "\n",
    "'''\n",
    "First task is axisymmetric spherical\n",
    "'''\n",
    "\n",
    "i=6\n",
    "\n",
    "obj_name = obj_names[i]\n",
    "kin_dir = f'{kinematics_dir}{obj_name}/'\n",
    "jam_dir = f'{jam_output_dir}{obj_name}/'\n",
    "jam_details_file = f'{kin_dir}{obj_name}_details_for_jampy_xshooter_{date_of_kin}.pkl'\n",
    "mass_model='power_law'\n",
    "anisotropy='const'\n",
    "geometry='axi'\n",
    "align='sph'\n",
    "zlens= zlenses[slacs_ix_table['Name']==obj_name].to_numpy()[0]\n",
    "zsource = zsources[slacs_ix_table['Name']==obj_name].to_numpy()[0]\n",
    "sigmapsf = sigmapsf_table[sigmapsf_table['obj_name']==obj_name]['kcwi_sigmapsf'].to_numpy()[0]\n",
    "#cosmo = cosmo\n",
    "fast_slow = paper_table.loc[0, 'class_for_JAM_models']\n",
    "systematics_est = 0.05 # %\n",
    "covariance_est = 0.02 # %\n",
    "p0 =      [2.0,  1.0,  0.4,    0.9,   0.5,  7] # gamma0, einstein radius, q0, k_ani, k_mst, a_mst\n",
    "bounds = [[1.4,  0.7,  0.051,  0.0,   0.0,  5 ], \n",
    "          [2.8,  2.0,  1.0,    1.0,   1.0,  10]]\n",
    "sigpar = np.array([0.2, 0.2, 0.2, 0.2, 0.2, 0.2])  # crude estimate of uncertainties\n",
    "prior_type = ['uniform','uniform','uniform','uniform','uniform','uniform']\n",
    "lensprior = False\n",
    "fix_pars = [0, 0, 0, 0, 1, 1]\n",
    "lambda_int= 1.0\n",
    "nstep = 1\n",
    "nwalkers = 12\n",
    "ndim = 6\n",
    "minimization = 'lsq'\n",
    "sampler_args = [nstep, nwalkers, ndim] # 10 walkers\n",
    "date_time = '2024_03_11'#datetime.now().strftime(\"%Y_%m_%d\")#-%I_%M_%S_%p\"\n",
    "run_id = 1\n",
    "\n",
    "welcome_to_the_jam = space_jam(jam_dir, jam_details_file,\n",
    "                                 obj_name, mass_model, anisotropy, geometry, align, \n",
    "                                zlens=zlens, zsource=zsource, cosmo=cosmo, sigmapsf=sigmapsf, fast_slow=fast_slow,\n",
    "                               systematics_est=systematics_est, covariance_est=covariance_est,\n",
    "                               p0=p0, bounds=bounds, sigpar=sigpar, prior_type=prior_type, lensprior=lensprior, fix_pars=fix_pars, lambda_int=lambda_int,\n",
    "                               minimization=minimization, sampler_args=sampler_args, date_time=date_time, run_id=run_id, plot=True, overwrite=True, \n",
    "                               test_prior=False, constant_err=False, kinmap_test=None)\n",
    "\n",
    "welcome_to_the_jam.fit_lsq()\n",
    "\n",
    "#welcome_to_the_jam.save_space_jam()\n",
    " "
   ]
  },
  {
   "cell_type": "code",
   "execution_count": 17,
   "metadata": {
    "tags": []
   },
   "outputs": [
    {
     "name": "stdout",
     "output_type": "stream",
     "text": [
      "Started Emcee please wait...\n",
      "Progress is printed periodically\n",
      "Residuals > 10%: Change `inner_slope` or `outer_slope` or increase `ngauss`\n",
      "Residuals > 10%: Change `inner_slope` or `outer_slope` or increase `ngauss`\n",
      "Residuals > 10%: Change `inner_slope` or `outer_slope` or increase `ngauss`\n",
      "Residuals > 10%: Change `inner_slope` or `outer_slope` or increase `ngauss`\n",
      "Residuals > 10%: Change `inner_slope` or `outer_slope` or increase `ngauss`\n",
      "Residuals > 10%: Change `inner_slope` or `outer_slope` or increase `ngauss`\n",
      "Residuals > 10%: Change `inner_slope` or `outer_slope` or increase `ngauss`\n",
      "Residuals > 10%: Change `inner_slope` or `outer_slope` or increase `ngauss`\n",
      "Residuals > 10%: Change `inner_slope` or `outer_slope` or increase `ngauss`\n",
      "Residuals > 10%: Change `inner_slope` or `outer_slope` or increase `ngauss`\n",
      "Residuals > 10%: Change `inner_slope` or `outer_slope` or increase `ngauss`\n",
      "Residuals > 10%: Change `inner_slope` or `outer_slope` or increase `ngauss`\n"
     ]
    },
    {
     "name": "stderr",
     "output_type": "stream",
     "text": [
      "  0%|                                                              | 0/1 [00:00<?, ?it/s]"
     ]
    },
    {
     "name": "stdout",
     "output_type": "stream",
     "text": [
      "Residuals > 10%: Change `inner_slope` or `outer_slope` or increase `ngauss`\n",
      "Residuals > 10%: Change `inner_slope` or `outer_slope` or increase `ngauss`\n",
      "Residuals > 10%: Change `inner_slope` or `outer_slope` or increase `ngauss`\n",
      "Residuals > 10%: Change `inner_slope` or `outer_slope` or increase `ngauss`\n",
      "Residuals > 10%: Change `inner_slope` or `outer_slope` or increase `ngauss`\n",
      "Residuals > 10%: Change `inner_slope` or `outer_slope` or increase `ngauss`\n",
      "Residuals > 10%: Change `inner_slope` or `outer_slope` or increase `ngauss`\n"
     ]
    },
    {
     "name": "stderr",
     "output_type": "stream",
     "text": [
      "100%|██████████████████████████████████████████████████████| 1/1 [00:05<00:00,  5.73s/it]"
     ]
    },
    {
     "name": "stdout",
     "output_type": "stream",
     "text": [
      "n accepted unique parameters 12\n",
      "Saving to /data/raw_data/KECK_KCWI_SLACS_kinematics_shawn/jam_outputs/SDSSJ1306+0600/SDSSJ1306+0600_2024_03_11_v1/SDSSJ1306+0600_2024_03_11_v1_space_jam.pkl\n",
      "Job's finished!\n"
     ]
    },
    {
     "name": "stderr",
     "output_type": "stream",
     "text": [
      "\n"
     ]
    }
   ],
   "source": [
    "welcome_to_the_jam.run_mcmc()"
   ]
  },
  {
   "cell_type": "code",
   "execution_count": null,
   "metadata": {},
   "outputs": [],
   "source": [
    "welcome_to_the_jam.summary_plot"
   ]
  },
  {
   "cell_type": "code",
   "execution_count": null,
   "metadata": {},
   "outputs": [],
   "source": []
  },
  {
   "cell_type": "code",
   "execution_count": null,
   "metadata": {},
   "outputs": [],
   "source": []
  },
  {
   "cell_type": "code",
   "execution_count": 7,
   "metadata": {
    "tags": []
   },
   "outputs": [],
   "source": [
    "# squash"
   ]
  },
  {
   "cell_type": "code",
   "execution_count": 8,
   "metadata": {
    "tags": []
   },
   "outputs": [
    {
     "data": {
      "text/plain": [
       "array([0.95      , 0.94275743, 0.93146436, 0.92979804, 0.8       ,\n",
       "       0.8       ])"
      ]
     },
     "execution_count": 8,
     "metadata": {},
     "output_type": "execute_result"
    }
   ],
   "source": [
    "welcome_to_the_jam.qobs_lum"
   ]
  },
  {
   "cell_type": "code",
   "execution_count": 9,
   "metadata": {
    "tags": []
   },
   "outputs": [
    {
     "data": {
      "text/plain": [
       "[[1.4, 0.7, 0.7706801642992446, 0.0, 0.0, 5],\n",
       " [2.8, 2.0, 0.9234479623725592, 1.0, 1.0, 10]]"
      ]
     },
     "execution_count": 9,
     "metadata": {},
     "output_type": "execute_result"
    }
   ],
   "source": [
    "welcome_to_the_jam.bounds"
   ]
  },
  {
   "cell_type": "code",
   "execution_count": 10,
   "metadata": {
    "tags": []
   },
   "outputs": [
    {
     "data": {
      "text/plain": [
       "0.9234479623725592"
      ]
     },
     "execution_count": 10,
     "metadata": {},
     "output_type": "execute_result"
    }
   ],
   "source": [
    "welcome_to_the_jam.qobs_eff"
   ]
  },
  {
   "cell_type": "code",
   "execution_count": 11,
   "metadata": {
    "tags": []
   },
   "outputs": [],
   "source": [
    "# I get the lower bound on shape from my inclination restictions"
   ]
  },
  {
   "cell_type": "code",
   "execution_count": 12,
   "metadata": {
    "tags": []
   },
   "outputs": [
    {
     "data": {
      "text/plain": [
       "37.02632789936134"
      ]
     },
     "execution_count": 12,
     "metadata": {},
     "output_type": "execute_result"
    }
   ],
   "source": [
    "inc = welcome_to_the_jam.calculate_inclination_from_qintr_eff(welcome_to_the_jam.bounds[0][2])\n",
    "inc"
   ]
  },
  {
   "cell_type": "code",
   "execution_count": 13,
   "metadata": {
    "tags": []
   },
   "outputs": [
    {
     "data": {
      "text/plain": [
       "0.7989264481433506"
      ]
     },
     "execution_count": 13,
     "metadata": {},
     "output_type": "execute_result"
    }
   ],
   "source": [
    "inc = np.radians(inc)\n",
    "qmin = 0.05\n",
    "np.sqrt(np.cos(inc)**2 + (qmin*np.sin(inc))**2)"
   ]
  },
  {
   "cell_type": "code",
   "execution_count": 14,
   "metadata": {
    "tags": []
   },
   "outputs": [
    {
     "name": "stdout",
     "output_type": "stream",
     "text": [
      "37.02632789936134\n"
     ]
    }
   ],
   "source": [
    "# calculate the inclination\n",
    "y = (1 - welcome_to_the_jam.qobs_eff**2)/(1 - welcome_to_the_jam.bounds[0][2]**2) # sin^2(inclination)\n",
    "inc = 180/np.pi*np.arcsin(np.sqrt(y))\n",
    "print(inc)\n"
   ]
  },
  {
   "cell_type": "code",
   "execution_count": 15,
   "metadata": {
    "tags": []
   },
   "outputs": [
    {
     "data": {
      "text/plain": [
       "0.7827102641012038"
      ]
     },
     "execution_count": 15,
     "metadata": {},
     "output_type": "execute_result"
    }
   ],
   "source": [
    "# calculate the q_obs_min\n",
    "qmin = 0.05 # let minimum deprojected q_intr be 0.05 (as in jampy)\n",
    "np.sqrt(np.cos(inc)**2 + (qmin*np.sin(inc))**2)"
   ]
  },
  {
   "cell_type": "code",
   "execution_count": null,
   "metadata": {},
   "outputs": [],
   "source": []
  },
  {
   "cell_type": "code",
   "execution_count": 11,
   "metadata": {
    "tags": []
   },
   "outputs": [
    {
     "data": {
      "text/plain": [
       "False"
      ]
     },
     "execution_count": 11,
     "metadata": {},
     "output_type": "execute_result"
    }
   ],
   "source": [
    "np.all(welcome_to_the_jam.qobs_lum >= np.sqrt(np.cos(inc)**2 + (qmin*np.sin(inc))**2))"
   ]
  },
  {
   "cell_type": "code",
   "execution_count": 12,
   "metadata": {
    "tags": []
   },
   "outputs": [
    {
     "data": {
      "text/plain": [
       "1.0025"
      ]
     },
     "execution_count": 12,
     "metadata": {},
     "output_type": "execute_result"
    }
   ],
   "source": [
    "(1+0.05**2)"
   ]
  },
  {
   "cell_type": "code",
   "execution_count": 13,
   "metadata": {
    "tags": []
   },
   "outputs": [
    {
     "data": {
      "text/plain": [
       "0.7687582686276753"
      ]
     },
     "execution_count": 13,
     "metadata": {},
     "output_type": "execute_result"
    }
   ],
   "source": [
    "qbound_poop = np.sqrt( (welcome_to_the_jam.qobs_eff**2 - (0.8)**2)/(1 - (0.8)**2))\n",
    "qbound_poop"
   ]
  },
  {
   "cell_type": "code",
   "execution_count": 14,
   "metadata": {
    "tags": []
   },
   "outputs": [
    {
     "data": {
      "text/plain": [
       "0.7706801642992445"
      ]
     },
     "execution_count": 14,
     "metadata": {},
     "output_type": "execute_result"
    }
   ],
   "source": [
    "qbound_poop * (1+0.05**2)"
   ]
  },
  {
   "cell_type": "code",
   "execution_count": 35,
   "metadata": {
    "tags": []
   },
   "outputs": [
    {
     "data": {
      "text/plain": [
       "0.7989264481433506"
      ]
     },
     "execution_count": 35,
     "metadata": {},
     "output_type": "execute_result"
    }
   ],
   "source": [
    "inc = welcome_to_the_jam.calculate_inclination_from_qintr_eff(welcome_to_the_jam.bounds[0][2]*(1+0.05**2))\n",
    "inc = np.radians(inc)\n",
    "qmin = 0.05\n",
    "inc = np.sqrt(inc**2)\n",
    "np.sqrt(np.cos(inc)**2 + (qmin*np.sin(inc))**2)"
   ]
  },
  {
   "cell_type": "code",
   "execution_count": null,
   "metadata": {},
   "outputs": [],
   "source": []
  },
  {
   "cell_type": "code",
   "execution_count": null,
   "metadata": {},
   "outputs": [],
   "source": []
  },
  {
   "cell_type": "markdown",
   "metadata": {},
   "source": [
    "# Wait, have I been calculating inclination incorrectly this whole time?"
   ]
  },
  {
   "cell_type": "code",
   "execution_count": 22,
   "metadata": {},
   "outputs": [],
   "source": [
    "def calculate_inclination_from_qintr_eff (self, qintr_eff):#, x_bound_hi ):\n",
    "\n",
    "        #f = lambda x: np.sqrt( (qobs_eff**2 - x)/(1 - x) ) - q_intr\n",
    "        #xx = fsolve(f, x_bound_hi)[0]\n",
    "\n",
    "        y = (1 - self.qobs_eff**2)/(1 - qintr_eff**2) # sin^2(inclination)\n",
    "        inclination = 180/np.pi*np.arcsin(np.sqrt(y))\n",
    "\n",
    "        return inclination"
   ]
  },
  {
   "cell_type": "markdown",
   "metadata": {},
   "source": [
    "# No, it's fine! I added the term (welcome_to_the_jam.bounds[0][1]*(1+qmin**2)) to space_jam.py"
   ]
  },
  {
   "cell_type": "code",
   "execution_count": 56,
   "metadata": {
    "tags": []
   },
   "outputs": [
    {
     "data": {
      "text/plain": [
       "[[1.4, 0.7194924387425982, 0.7687582686276754, 0.0, 0.0, 5],\n",
       " [2.8, 2.0, 0.9234479623725592, 1.0, 1.0, 10]]"
      ]
     },
     "execution_count": 56,
     "metadata": {},
     "output_type": "execute_result"
    }
   ],
   "source": [
    "welcome_to_the_jam.bounds"
   ]
  },
  {
   "cell_type": "code",
   "execution_count": 3,
   "metadata": {
    "tags": []
   },
   "outputs": [
    {
     "ename": "NameError",
     "evalue": "name 'welcome_to_the_jam' is not defined",
     "output_type": "error",
     "traceback": [
      "\u001b[0;31m---------------------------------------------------------------------------\u001b[0m",
      "\u001b[0;31mNameError\u001b[0m                                 Traceback (most recent call last)",
      "Cell \u001b[0;32mIn[3], line 1\u001b[0m\n\u001b[0;32m----> 1\u001b[0m welcome_to_the_jam\u001b[38;5;241m.\u001b[39mfit_lsq()\n",
      "\u001b[0;31mNameError\u001b[0m: name 'welcome_to_the_jam' is not defined"
     ]
    }
   ],
   "source": [
    "welcome_to_the_jam.fit_lsq()"
   ]
  },
  {
   "cell_type": "code",
   "execution_count": null,
   "metadata": {
    "tags": []
   },
   "outputs": [],
   "source": [
    "welcome_to_the_jam.bounds"
   ]
  },
  {
   "cell_type": "code",
   "execution_count": null,
   "metadata": {
    "tags": []
   },
   "outputs": [],
   "source": [
    "welcome_to_the_jam.labels"
   ]
  },
  {
   "cell_type": "code",
   "execution_count": null,
   "metadata": {},
   "outputs": [],
   "source": []
  },
  {
   "cell_type": "code",
   "execution_count": null,
   "metadata": {},
   "outputs": [],
   "source": []
  },
  {
   "cell_type": "code",
   "execution_count": null,
   "metadata": {},
   "outputs": [],
   "source": []
  },
  {
   "cell_type": "code",
   "execution_count": null,
   "metadata": {},
   "outputs": [],
   "source": []
  },
  {
   "cell_type": "code",
   "execution_count": null,
   "metadata": {},
   "outputs": [],
   "source": [
    "   \n",
    "'''\n",
    "Second task is axisymmetric cylindrical\n",
    "'''\n",
    "\n",
    "def task_2(i):\n",
    "\n",
    "    obj_name = obj_names[i]\n",
    "    kin_dir = f'{kinematics_dir}{obj_name}/'\n",
    "    jam_dir = f'{jam_output_dir}{obj_name}/'\n",
    "    jam_details_file = f'{kin_dir}{obj_name}_details_for_jampy_xshooter_{date_of_kin}.pkl'\n",
    "    mass_model='power_law'\n",
    "    anisotropy='const'\n",
    "    geometry='axi'\n",
    "    align='cyl'\n",
    "    zlens= zlenses[slacs_ix_table['Name']==obj_name].to_numpy()[0]\n",
    "    zsource = zsources[slacs_ix_table['Name']==obj_name].to_numpy()[0]\n",
    "    sigmapsf = sigmapsf_table[sigmapsf_table['obj_name']==obj_name]['kcwi_sigmapsf'].to_numpy()[0]\n",
    "    #cosmo = cosmo\n",
    "    fast_slow = paper_table.loc[0, 'class_for_JAM_models']\n",
    "    systematics_est = 0.05 # %\n",
    "    covariance_est = 0.02 # %\n",
    "    p0 =      [2.0,  1.0,  0.4,    0.9,   0.5,  7] # gamma0, einstein radius, q0, k_ani, k_mst, a_mst\n",
    "    bounds = [[1.4,  0.7,  0.051,  0.0,   0.0,  5 ], \n",
    "              [2.8,  2.0,  1.0,    1.0,   1.0,  10]]\n",
    "    sigpar = np.array([0.2, 0.2, 0.2, 0.2, 0.2, 0.2])  # crude estimate of uncertainties\n",
    "    prior_type = ['uniform','uniform','uniform','uniform','uniform','uniform']\n",
    "    lensprior = False\n",
    "    fix_pars = [0, 0, 0, 0, 1, 1]\n",
    "    lambda_int= 1.0\n",
    "    nstep = 1000\n",
    "    nwalkers = 12\n",
    "    ndim = 6\n",
    "    minimization = 'MCMC'\n",
    "    sampler_args = [nstep, nwalkers, ndim] # 10 walkers\n",
    "    date_time = '2024_03_12'#datetime.now().strftime(\"%Y_%m_%d\")#-%I_%M_%S_%p\"\n",
    "    run_id = 2 \n",
    "\n",
    "    welcome_to_the_jam = space_jam(jam_dir, jam_details_file,\n",
    "                                     obj_name, mass_model, anisotropy, geometry, align, \n",
    "                                    zlens=zlens, zsource=zsource, cosmo=cosmo, sigmapsf=sigmapsf, fast_slow=fast_slow,\n",
    "                                   systematics_est=systematics_est, covariance_est=covariance_est,\n",
    "                                   p0=p0, bounds=bounds, sigpar=sigpar, prior_type=prior_type, lensprior=lensprior, fix_pars=fix_pars, lambda_int=lambda_int,\n",
    "                                   minimization=minimization, sampler_args=sampler_args, date_time=date_time, run_id=run_id, plot=True, overwrite=True, \n",
    "                                   test_prior=False, constant_err=False, kinmap_test=None)\n",
    "\n",
    "    welcome_to_the_jam.run_mcmc()\n",
    "    welcome_to_the_jam.save_space_jam()\n",
    "    \n",
    "# protect the entry point\n",
    "from concurrent.futures import ProcessPoolExecutor\n",
    "\n",
    "if __name__ == '__main__':\n",
    "    # report a message\n",
    "    print('Starting task 1...')\n",
    "    # create the process pool\n",
    "    with ProcessPoolExecutor(2) as exe:\n",
    "        # perform calculations\n",
    "        results = exe.map(task_1, range(5,7))\n",
    "    # report a message\n",
    "    print('Done.')\n",
    "    \n",
    "if __name__ == '__main__':\n",
    "    # report a message\n",
    "    print('Starting task 2...')\n",
    "    # create the process pool\n",
    "    with ProcessPoolExecutor(2) as exe:\n",
    "        # perform calculations\n",
    "        results = exe.map(task_2, range(5,7))\n",
    "    # report a message\n",
    "    print('Done.')\n"
   ]
  },
  {
   "cell_type": "code",
   "execution_count": null,
   "metadata": {},
   "outputs": [],
   "source": []
  },
  {
   "cell_type": "code",
   "execution_count": null,
   "metadata": {},
   "outputs": [],
   "source": [
    "# define the tasks\n",
    "\n",
    "'''\n",
    "First task is axisymmetric spherical\n",
    "'''\n",
    "\n",
    "def task_1(i):\n",
    "\n",
    "    obj_name = obj_names[i]\n",
    "    kin_dir = f'{kinematics_dir}{obj_name}/'\n",
    "    jam_dir = f'{jam_output_dir}{obj_name}/'\n",
    "    jam_details_file = f'{kin_dir}{obj_name}_details_for_jampy_xshooter_{date_of_kin}.pkl'\n",
    "    mass_model='power_law'\n",
    "    anisotropy='const'\n",
    "    geometry='axi'\n",
    "    align='sph'\n",
    "    zlens= zlenses[slacs_ix_table['Name']==obj_name].to_numpy()[0]\n",
    "    zsource = zsources[slacs_ix_table['Name']==obj_name].to_numpy()[0]\n",
    "    sigmapsf = sigmapsf_table[sigmapsf_table['obj_name']==obj_name]['kcwi_sigmapsf'].to_numpy()[0]\n",
    "    #cosmo = cosmo\n",
    "    fast_slow = paper_table.loc[0, 'class_for_JAM_models']\n",
    "    systematics_est = 0.05 # %\n",
    "    covariance_est = 0.02 # %\n",
    "    p0 =      [2.0,  1.0,  0.4,    0.9,   0.5,  7] # gamma0, einstein radius, q0, k_ani, k_mst, a_mst\n",
    "    bounds = [[1.4,  0.7,  0.051,  0.0,   0.0,  5 ], \n",
    "              [2.8,  2.0,  1.0,    1.0,   1.0,  10]]\n",
    "    sigpar = np.array([0.2, 0.2, 0.2, 0.2, 0.2, 0.2])  # crude estimate of uncertainties\n",
    "    prior_type = ['uniform','uniform','uniform','uniform','uniform','uniform']\n",
    "    lensprior = False\n",
    "    fix_pars = [0, 0, 0, 0, 1, 1]\n",
    "    lambda_int= 1.0\n",
    "    nstep = 1000\n",
    "    nwalkers = 12\n",
    "    ndim = 6\n",
    "    minimization = 'MCMC'\n",
    "    sampler_args = [nstep, nwalkers, ndim] # 10 walkers\n",
    "    date_time = '2024_03_11'#datetime.now().strftime(\"%Y_%m_%d\")#-%I_%M_%S_%p\"\n",
    "    run_id = 1\n",
    "\n",
    "    welcome_to_the_jam = space_jam(jam_dir, jam_details_file,\n",
    "                                     obj_name, mass_model, anisotropy, geometry, align, \n",
    "                                    zlens=zlens, zsource=zsource, cosmo=cosmo, sigmapsf=sigmapsf, fast_slow=fast_slow,\n",
    "                                   systematics_est=systematics_est, covariance_est=covariance_est,\n",
    "                                   p0=p0, bounds=bounds, sigpar=sigpar, prior_type=prior_type, lensprior=lensprior, fix_pars=fix_pars, lambda_int=lambda_int,\n",
    "                                   minimization=minimization, sampler_args=sampler_args, date_time=date_time, run_id=run_id, plot=True, overwrite=True, \n",
    "                                   test_prior=False, constant_err=False, kinmap_test=None)\n",
    "\n",
    "    welcome_to_the_jam.run_mcmc()\n",
    "    welcome_to_the_jam.save_space_jam()\n",
    "    \n",
    "'''\n",
    "Second task is axisymmetric cylindrical\n",
    "'''\n",
    "\n",
    "def task_2(i):\n",
    "\n",
    "    obj_name = obj_names[i]\n",
    "    kin_dir = f'{kinematics_dir}{obj_name}/'\n",
    "    jam_dir = f'{jam_output_dir}{obj_name}/'\n",
    "    jam_details_file = f'{kin_dir}{obj_name}_details_for_jampy_xshooter_{date_of_kin}.pkl'\n",
    "    mass_model='power_law'\n",
    "    anisotropy='const'\n",
    "    geometry='axi'\n",
    "    align='cyl'\n",
    "    zlens= zlenses[slacs_ix_table['Name']==obj_name].to_numpy()[0]\n",
    "    zsource = zsources[slacs_ix_table['Name']==obj_name].to_numpy()[0]\n",
    "    sigmapsf = sigmapsf_table[sigmapsf_table['obj_name']==obj_name]['kcwi_sigmapsf'].to_numpy()[0]\n",
    "    #cosmo = cosmo\n",
    "    fast_slow = paper_table.loc[0, 'class_for_JAM_models']\n",
    "    systematics_est = 0.05 # %\n",
    "    covariance_est = 0.02 # %\n",
    "    p0 =      [2.0,  1.0,  0.4,    0.9,   0.5,  7] # gamma0, einstein radius, q0, k_ani, k_mst, a_mst\n",
    "    bounds = [[1.4,  0.7,  0.051,  0.0,   0.0,  5 ], \n",
    "              [2.8,  2.0,  1.0,    1.0,   1.0,  10]]\n",
    "    sigpar = np.array([0.2, 0.2, 0.2, 0.2, 0.2, 0.2])  # crude estimate of uncertainties\n",
    "    prior_type = ['uniform','uniform','uniform','uniform','uniform','uniform']\n",
    "    lensprior = False\n",
    "    fix_pars = [0, 0, 0, 0, 1, 1]\n",
    "    lambda_int= 1.0\n",
    "    nstep = 1000\n",
    "    nwalkers = 12\n",
    "    ndim = 6\n",
    "    minimization = 'MCMC'\n",
    "    sampler_args = [nstep, nwalkers, ndim] # 10 walkers\n",
    "    date_time = '2024_03_12'#datetime.now().strftime(\"%Y_%m_%d\")#-%I_%M_%S_%p\"\n",
    "    run_id = 2 \n",
    "\n",
    "    welcome_to_the_jam = space_jam(jam_dir, jam_details_file,\n",
    "                                     obj_name, mass_model, anisotropy, geometry, align, \n",
    "                                    zlens=zlens, zsource=zsource, cosmo=cosmo, sigmapsf=sigmapsf, fast_slow=fast_slow,\n",
    "                                   systematics_est=systematics_est, covariance_est=covariance_est,\n",
    "                                   p0=p0, bounds=bounds, sigpar=sigpar, prior_type=prior_type, lensprior=lensprior, fix_pars=fix_pars, lambda_int=lambda_int,\n",
    "                                   minimization=minimization, sampler_args=sampler_args, date_time=date_time, run_id=run_id, plot=True, overwrite=True, \n",
    "                                   test_prior=False, constant_err=False, kinmap_test=None)\n",
    "\n",
    "    welcome_to_the_jam.run_mcmc()\n",
    "    welcome_to_the_jam.save_space_jam()\n",
    "    \n",
    "# protect the entry point\n",
    "from concurrent.futures import ProcessPoolExecutor\n",
    "\n",
    "if __name__ == '__main__':\n",
    "    # report a message\n",
    "    print('Starting task 1...')\n",
    "    # create the process pool\n",
    "    with ProcessPoolExecutor(2) as exe:\n",
    "        # perform calculations\n",
    "        results = exe.map(task_1, range(5,7))\n",
    "    # report a message\n",
    "    print('Done.')\n",
    "    \n",
    "if __name__ == '__main__':\n",
    "    # report a message\n",
    "    print('Starting task 2...')\n",
    "    # create the process pool\n",
    "    with ProcessPoolExecutor(2) as exe:\n",
    "        # perform calculations\n",
    "        results = exe.map(task_2, range(5,7))\n",
    "    # report a message\n",
    "    print('Done.')\n"
   ]
  }
 ],
 "metadata": {
  "kernelspec": {
   "display_name": "Python 3 (ipykernel)",
   "language": "python",
   "name": "python3"
  },
  "language_info": {
   "codemirror_mode": {
    "name": "ipython",
    "version": 3
   },
   "file_extension": ".py",
   "mimetype": "text/x-python",
   "name": "python",
   "nbconvert_exporter": "python",
   "pygments_lexer": "ipython3",
   "version": "3.11.5"
  }
 },
 "nbformat": 4,
 "nbformat_minor": 4
}
