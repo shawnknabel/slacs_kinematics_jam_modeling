{
 "cells": [
  {
   "cell_type": "markdown",
   "metadata": {},
   "source": [
    "# 8/29/22 - looking at the fast/slow rotator classification calculations"
   ]
  },
  {
   "cell_type": "code",
   "execution_count": 1,
   "metadata": {},
   "outputs": [],
   "source": [
    "import numpy as np\n",
    "import matplotlib.pyplot as plt\n",
    "plt.rcParams.update({'font.size': 14})\n",
    "plt.rcParams.update({\"figure.figsize\" : (8, 6)})\n",
    "from astropy.io import fits"
   ]
  },
  {
   "cell_type": "code",
   "execution_count": 2,
   "metadata": {},
   "outputs": [],
   "source": [
    "def calc_V_sigma_squared (delta, omega, alpha):\n",
    "    \n",
    "    numerator = (1-delta) * omega - 1\n",
    "    denominator = alpha * (1-delta) * omega + 1\n",
    "    \n",
    "    V_sigma_sq = numerator/denominator\n",
    "    \n",
    "    return V_sigma_sq\n",
    "\n",
    "def calc_omega (e):\n",
    "    \n",
    "    numerator = np.arcsin(e)/np.sqrt(1-e**2) - e\n",
    "    denominator = e - np.arcsin(e) * np.sqrt(1-e**2)\n",
    "    \n",
    "    omega = 0.5 * numerator/denominator\n",
    "    \n",
    "    return omega\n",
    "\n",
    "def calc_e (epsilon):\n",
    "    \n",
    "    e = np.sqrt( 1 - (1 - epsilon)**2 )\n",
    "    \n",
    "    return e"
   ]
  },
  {
   "cell_type": "code",
   "execution_count": 3,
   "metadata": {},
   "outputs": [
    {
     "name": "stdout",
     "output_type": "stream",
     "text": [
      "0.6253722178308376\n"
     ]
    }
   ],
   "source": [
    "epsilon = 0.5\n",
    "delta = 0.0\n",
    "alpha = 0.15\n",
    "\n",
    "e = calc_e(epsilon)\n",
    "omega = calc_omega(e)\n",
    "V_sigma_sq = calc_V_sigma_squared(delta, omega, alpha)\n",
    "\n",
    "print(V_sigma_sq)"
   ]
  },
  {
   "cell_type": "code",
   "execution_count": 4,
   "metadata": {},
   "outputs": [],
   "source": [
    "def calc_isotropic_V_sigma (epsilon):\n",
    "    \n",
    "    # isotropic delta = 0\n",
    "    delta = 0\n",
    "    # alpha empirically = 0.15\n",
    "    alpha = 0.15\n",
    "    \n",
    "    # calculations\n",
    "    e = calc_e(epsilon)\n",
    "    omega = calc_omega(e)\n",
    "    V_sigma_squared = calc_V_sigma_squared(delta, omega, alpha)\n",
    "    V_sigma_iso = np.sqrt(V_sigma_squared)\n",
    "    \n",
    "    return(V_sigma_iso)\n",
    "    "
   ]
  },
  {
   "cell_type": "code",
   "execution_count": 5,
   "metadata": {},
   "outputs": [
    {
     "data": {
      "text/plain": [
       "0.7908047912290603"
      ]
     },
     "execution_count": 5,
     "metadata": {},
     "output_type": "execute_result"
    }
   ],
   "source": [
    "calc_isotropic_V_sigma (0.5)"
   ]
  },
  {
   "cell_type": "code",
   "execution_count": 6,
   "metadata": {},
   "outputs": [
    {
     "name": "stderr",
     "output_type": "stream",
     "text": [
      "/usr/local/anaconda3/lib/python3.7/site-packages/ipykernel_launcher.py:15: RuntimeWarning: invalid value encountered in double_scalars\n",
      "  from ipykernel import kernelapp as app\n",
      "/usr/local/anaconda3/lib/python3.7/site-packages/ipykernel_launcher.py:12: RuntimeWarning: divide by zero encountered in double_scalars\n",
      "  if sys.path[0] == '':\n",
      "/usr/local/anaconda3/lib/python3.7/site-packages/ipykernel_launcher.py:6: RuntimeWarning: invalid value encountered in double_scalars\n",
      "  \n"
     ]
    },
    {
     "data": {
      "text/plain": [
       "[<matplotlib.lines.Line2D at 0x7fe012c06fd0>]"
      ]
     },
     "execution_count": 6,
     "metadata": {},
     "output_type": "execute_result"
    },
    {
     "data": {
      "image/png": "[encoded data removed]",
      "text/plain": [
       "<Figure size 576x576 with 1 Axes>"
      ]
     },
     "metadata": {
      "needs_background": "light"
     },
     "output_type": "display_data"
    }
   ],
   "source": [
    "epsilons = np.linspace(0,1,100)\n",
    "V_sigmas = np.zeros(100)\n",
    "\n",
    "i=0\n",
    "for epsilon in epsilons:\n",
    "    V_sigma = calc_isotropic_V_sigma(epsilon)\n",
    "    V_sigmas[i] = V_sigma\n",
    "    i = i+1\n",
    "\n",
    "plt.figure(figsize=(8,8))\n",
    "plt.xlim(0.0,1.0)\n",
    "plt.ylim(0.0,1.0)\n",
    "plt.plot(epsilons, V_sigmas)\n",
    "plt.plot(epsilons, 1/3 * V_sigmas)"
   ]
  },
  {
   "cell_type": "code",
   "execution_count": 7,
   "metadata": {},
   "outputs": [],
   "source": [
    "obj_name = 'SDSSJ0029-0055'\n",
    "obj_abbr = obj_name[4:9] # e.g. J0029\n",
    "\n",
    "# data directory\n",
    "data_dir = '/data/raw_data/KECK_KCWI_SLACS_kinematics_shawn/'\n",
    "# object directory\n",
    "dir = f'{data_dir}mosaics/{obj_name}/'\n",
    "\n",
    "#KCWI mosaic datacube\n",
    "name = f'KCWI_{obj_abbr}_icubes_mosaic_0.1457'\n",
    "\n",
    "save_dir = f'{dir}{obj_name}_systematics/'"
   ]
  },
  {
   "cell_type": "code",
   "execution_count": 8,
   "metadata": {},
   "outputs": [],
   "source": [
    "VD=np.genfromtxt(f'{dir}{obj_name}_final_kinematics/{obj_name}_VD_binned.txt',\n",
    "                 delimiter=',')\n",
    "VD_cov = np.genfromtxt(f'{dir}{obj_name}_final_kinematics/{obj_name}_covariance_matrix_VD.txt',\n",
    "                 delimiter=',')\n",
    "dVD = np.sqrt(np.diagonal(VD_cov))\n",
    "V=np.genfromtxt(f'{dir}{obj_name}_final_kinematics/{obj_name}_V_binned.txt',\n",
    "                 delimiter=',')\n",
    "# subtract the mean V\n",
    "V = V - np.mean(V)"
   ]
  },
  {
   "cell_type": "code",
   "execution_count": 9,
   "metadata": {},
   "outputs": [
    {
     "data": {
      "text/plain": [
       "(193,)"
      ]
     },
     "execution_count": 9,
     "metadata": {},
     "output_type": "execute_result"
    }
   ],
   "source": [
    "VD.shape"
   ]
  },
  {
   "cell_type": "code",
   "execution_count": 10,
   "metadata": {},
   "outputs": [],
   "source": [
    "## import voronoi binning data\n",
    "voronoi_binning_data = fits.getdata(dir +'voronoi_binning_' + name + '_data.fits')\n",
    "vorbin_pixels = np.genfromtxt(f'{dir}voronoi_2d_binning_{name}_output.txt',\n",
    "                 delimiter='')"
   ]
  },
  {
   "cell_type": "code",
   "execution_count": 11,
   "metadata": {},
   "outputs": [],
   "source": [
    "# sort the voronoi bin pixel data by bin\n",
    "vorbin_pixels = vorbin_pixels[vorbin_pixels[:,2].argsort()]"
   ]
  },
  {
   "cell_type": "code",
   "execution_count": 12,
   "metadata": {},
   "outputs": [
    {
     "data": {
      "text/plain": [
       "(193, 5215)"
      ]
     },
     "execution_count": 12,
     "metadata": {},
     "output_type": "execute_result"
    }
   ],
   "source": [
    "voronoi_binning_data.shape"
   ]
  },
  {
   "cell_type": "code",
   "execution_count": 13,
   "metadata": {},
   "outputs": [
    {
     "data": {
      "text/plain": [
       "46.56224683860459"
      ]
     },
     "execution_count": 13,
     "metadata": {},
     "output_type": "execute_result"
    }
   ],
   "source": [
    "np.sum(voronoi_binning_data[0])"
   ]
  },
  {
   "cell_type": "code",
   "execution_count": 14,
   "metadata": {},
   "outputs": [
    {
     "data": {
      "text/plain": [
       "array([[-1.04327070e+00, -3.48771208e-01, -4.07077471e-02, ...,\n",
       "        -5.71330273e-11,  5.81965010e-10, -8.57840166e-11],\n",
       "       [-1.65305545e-01, -5.19808558e-02, -5.49226893e-03, ...,\n",
       "        -2.53551615e-11,  4.11457583e-10,  4.56602370e-10],\n",
       "       [-1.66051458e-01, -5.05358511e-02, -4.72523857e-03, ...,\n",
       "        -7.19188196e-12,  1.16708835e-10,  1.29512762e-10],\n",
       "       ...,\n",
       "       [ 2.11107500e+00,  6.39783269e-01,  5.76862562e-02, ...,\n",
       "        -1.46444346e-12, -6.19374053e-13, -7.61659298e-13],\n",
       "       [-2.39237950e+00, -8.36421084e-01, -1.10167316e-01, ...,\n",
       "        -7.56991127e-10,  4.70339996e-09, -4.11666802e-09],\n",
       "       [-2.84205921e+00, -9.47620626e-01, -1.11191807e-01, ...,\n",
       "         1.19936437e-10, -6.46204879e-12,  1.07146340e-10]])"
      ]
     },
     "execution_count": 14,
     "metadata": {},
     "output_type": "execute_result"
    }
   ],
   "source": [
    "voronoi_binning_data"
   ]
  },
  {
   "cell_type": "code",
   "execution_count": 15,
   "metadata": {},
   "outputs": [
    {
     "data": {
      "text/plain": [
       "array([ 46.56224684,  46.66780916,  41.83787413,  42.21674527,\n",
       "        37.76461507,  41.9217586 ,  38.11880304,  34.56359637,\n",
       "        38.87069007,  33.75140074,  34.58318887,  31.12777136,\n",
       "        31.64439302,  37.15869227,  28.65873965,  35.31044472,\n",
       "        27.90095755,  29.97303981,  22.17037648,  23.10866547,\n",
       "        25.6652339 ,  39.05510575,  32.66404045,  22.82857676,\n",
       "        41.17408371,  24.31306654,  36.55112312,  39.25998667,\n",
       "        26.24096441,  32.15665501,  45.71751117,  35.52898756,\n",
       "        37.0686952 ,  30.45141021,  26.05274567,  39.06830415,\n",
       "        39.05510575,  22.17037648,  40.57170666,  58.54028178,\n",
       "        52.00274879,  55.81736799,  40.82333849,  23.10866547,\n",
       "        29.60166623,  23.75598301,  23.75598301,  45.33796627,\n",
       "        39.0420046 ,  58.20614341,  75.61642732,  86.66551162,\n",
       "        62.73140297,  54.37742995,  46.65172484,  40.47060574,\n",
       "        30.67925177,  74.90594773,  95.23583379,  53.22743   ,\n",
       "        29.02569338,  23.32802131,  93.68500041,  80.71947711,\n",
       "        59.2191648 ,  35.70367995,  41.93486732,  24.45872005,\n",
       "        27.85960475,  23.32802131, 113.62752034,  56.5635642 ,\n",
       "        31.40561641,  24.45872005,  27.85960475,  34.84202071,\n",
       "        34.79270409,  57.46307904,  37.77427962,  31.40561641,\n",
       "        38.32528611,  41.80148601,  37.66943193,  41.51908034,\n",
       "        23.65580349,  45.57904153,  34.84202071,  45.6668415 ,\n",
       "        25.54213723,  21.22983543,  21.22983543,  31.87895107,\n",
       "        32.68707044,  37.25227004,  37.66943193,  35.16023456,\n",
       "        28.95023366,  56.86244947,  26.5250977 ,  41.73935255,\n",
       "        44.59610036,  38.4298046 ,  23.85139498,  37.25227004,\n",
       "        42.67597535,  27.70266185,  35.52798737,  60.00386111,\n",
       "        46.84741812,  24.12690157,  41.63674311,  27.94674304,\n",
       "        20.82872637,  30.13999846,  27.13395942,  20.82872637,\n",
       "        35.52798737,  31.90416118,  35.85270312,  24.82873006,\n",
       "        64.44007981,  61.80810332,  35.24418265,  24.2163307 ,\n",
       "        32.83547916,  35.84579108,  26.25995876,  74.9807097 ,\n",
       "        32.83547916,  34.1952686 ,  34.75913301,  33.49136151,\n",
       "        23.58751002,  65.24592227,  24.12476721,  27.52996821,\n",
       "        33.53469087,  27.52996821,  25.26793639,  24.73310432,\n",
       "        39.40517316,  25.96251956,  23.33253716,  63.68630224,\n",
       "        25.5201391 ,  20.69440867,  37.57424039,  21.77361636,\n",
       "        54.14012145,  21.77361636,  60.40024511,  71.65722529,\n",
       "        34.29282107,  63.03008544,  55.20080653,  33.42966334,\n",
       "        21.67247667,  21.30735629,  20.68736765,  36.43029934,\n",
       "        19.9288294 ,  34.38096639,  57.61242062,  46.31053189,\n",
       "        42.09032481,  37.20002318,  55.7628658 ,  35.80347648,\n",
       "        35.57129343,  46.61643725,  42.03205855,  74.62032093,\n",
       "        61.54976829,  45.8355171 ,  55.82556092,  54.39279731,\n",
       "        34.29648483,  63.15919744,  42.16372609,  44.63811456,\n",
       "        47.59881569,  43.82865245,  59.00719823,  70.35958125,\n",
       "        52.44419065,  77.36843791,  43.31198444,  53.39454284,\n",
       "        90.62724036,  70.967313  , 107.09374991,  62.29512476,\n",
       "        89.82739348])"
      ]
     },
     "execution_count": 15,
     "metadata": {},
     "output_type": "execute_result"
    }
   ],
   "source": [
    "# sum each bin across all wavelengths\n",
    "\n",
    "bin_luminosities = np.zeros(len(VD))\n",
    "\n",
    "for i in range(len(VD)):\n",
    "    lum = np.sum(voronoi_binning_data[i])\n",
    "    bin_luminosities[i] = lum\n",
    "    \n",
    "bin_luminosities"
   ]
  },
  {
   "cell_type": "code",
   "execution_count": 16,
   "metadata": {},
   "outputs": [
    {
     "data": {
      "text/plain": [
       "267.04286941503244"
      ]
     },
     "execution_count": 16,
     "metadata": {},
     "output_type": "execute_result"
    }
   ],
   "source": [
    "np.max(VD)"
   ]
  },
  {
   "cell_type": "code",
   "execution_count": 17,
   "metadata": {},
   "outputs": [
    {
     "data": {
      "text/plain": [
       "193"
      ]
     },
     "execution_count": 17,
     "metadata": {},
     "output_type": "execute_result"
    }
   ],
   "source": [
    "len(bin_luminosities)"
   ]
  },
  {
   "cell_type": "code",
   "execution_count": 18,
   "metadata": {},
   "outputs": [],
   "source": [
    "def lum_weight_bin (V, VD, dVD, lum):\n",
    "    \n",
    "    bin_weighted_V_sq = lum * V**2\n",
    "    bin_weighted_VD_sq = lum * VD**2\n",
    "    bin_weighted_dVD_sq = lum * 2 * VD * dVD\n",
    "\n",
    "    return bin_weighted_V_sq, bin_weighted_VD_sq, bin_weighted_dVD_sq\n",
    "\n",
    "def lum_weight_V_sigma (V_array, VD_array, dVD_array, lum_array):\n",
    "    \n",
    "    assert (len(V_array)==len(VD_array)) & (len(V_array)==len(lum_array)) & (len(V_array)==len(dVD_array))\n",
    "    \n",
    "    V_sq = 0\n",
    "    VD_sq = 0\n",
    "    dVD_sq = 0\n",
    "    \n",
    "    for i in range(len(V_array)):\n",
    "        bin_V_sq, bin_VD_sq, bin_dVD_sq = lum_weight_bin(V_array[i], VD_array[i], dVD_array[i], lum_array[i])\n",
    "        V_sq += bin_V_sq\n",
    "        VD_sq += bin_VD_sq\n",
    "        dVD_sq += bin_dVD_sq\n",
    "    \n",
    "    V_sigma_sq = V_sq/VD_sq\n",
    "    V_sigma = np.sqrt(V_sigma_sq)\n",
    "    \n",
    "    VD_integrated_rms = np.sqrt(VD_sq/np.sum(lum_array))\n",
    "\n",
    "    dVD_int_rms = dVD_sq / (2 * np.sqrt(np.sum(lum_array) * VD_sq))\n",
    "    \n",
    "    return(V_sigma, VD_integrated_rms, dVD_int_rms) # this is integrated out to the edge of my data right now\n",
    "        "
   ]
  },
  {
   "cell_type": "code",
   "execution_count": 19,
   "metadata": {},
   "outputs": [
    {
     "data": {
      "text/plain": [
       "(0.11207741094590849, 196.77994671937714, 14.331470138681258)"
      ]
     },
     "execution_count": 19,
     "metadata": {},
     "output_type": "execute_result"
    }
   ],
   "source": [
    "lum_weight_V_sigma ( V, VD, dVD, bin_luminosities )"
   ]
  },
  {
   "cell_type": "code",
   "execution_count": 20,
   "metadata": {},
   "outputs": [],
   "source": [
    "# Now let's do the lambda_R calculation\n",
    "\n",
    "\n",
    "def calc_lambda_R (V_array, VD_array, R_array, lum_array):\n",
    "    \n",
    "    assert (len(V_array)==len(VD_array)) & (len(V_array)==len(lum_array)) & (len(V_array)==len(R_array))\n",
    "    \n",
    "    numerator = 0\n",
    "    denominator = 0\n",
    "    \n",
    "    for i in range(len(V_array)):\n",
    "        V = V_array[i]\n",
    "        VD = VD_array[i]\n",
    "        lum = lum_array[i]\n",
    "        R = R_array[i]\n",
    "        \n",
    "        \n",
    "        num = lum * R * np.abs(V)\n",
    "        den = lum * R * np.sqrt(V**2 + VD**2)\n",
    "        \n",
    "        numerator += num\n",
    "        denominator += den\n",
    "        \n",
    "    lambda_R = numerator / denominator\n",
    "    \n",
    "    return lambda_R\n"
   ]
  },
  {
   "cell_type": "code",
   "execution_count": 21,
   "metadata": {},
   "outputs": [],
   "source": [
    "def calc_R (bin_arrays, num_bins):\n",
    "    \n",
    "    bin_R_means = np.zeros(num_bins)\n",
    "    \n",
    "    for i in range(num_bins):\n",
    "        bin_pixels = bin_arrays[bin_arrays[:,2]==i]\n",
    "        bin_xx = bin_pixels[:,0] - 21 # subtract 21 pixels, center don't know which is x and which is y, but doesn't matter for R\n",
    "        bin_yy = bin_pixels[:,1] - 21\n",
    "        bin_R = np.zeros(len(bin_pixels))\n",
    "        for j in range(len(bin_pixels)):\n",
    "            bin_R[j] = np.sqrt(bin_xx[j]**2 + bin_yy[j]**2)\n",
    "        bin_R_means[i] = np.mean(bin_R)*0.1457\n",
    "        \n",
    "    return bin_R_means\n",
    "            "
   ]
  },
  {
   "cell_type": "code",
   "execution_count": 22,
   "metadata": {},
   "outputs": [
    {
     "data": {
      "text/plain": [
       "array([ True,  True,  True,  True,  True,  True,  True,  True,  True,\n",
       "        True,  True,  True,  True,  True,  True,  True,  True,  True,\n",
       "        True,  True,  True,  True,  True,  True,  True,  True,  True,\n",
       "        True,  True,  True,  True,  True,  True,  True,  True,  True,\n",
       "        True,  True,  True,  True,  True,  True,  True,  True,  True,\n",
       "        True,  True,  True,  True,  True,  True, False, False,  True,\n",
       "        True,  True,  True, False, False,  True,  True,  True, False,\n",
       "        True,  True,  True,  True,  True,  True,  True, False,  True,\n",
       "        True,  True,  True,  True,  True,  True,  True,  True,  True,\n",
       "        True,  True,  True,  True,  True,  True,  True,  True,  True,\n",
       "        True,  True,  True,  True,  True,  True,  True, False,  True,\n",
       "        True,  True,  True,  True,  True,  True,  True,  True,  True,\n",
       "        True,  True,  True,  True,  True,  True,  True,  True,  True,\n",
       "        True,  True,  True, False, False,  True,  True,  True,  True,\n",
       "        True, False,  True,  True,  True,  True,  True,  True,  True,\n",
       "        True,  True,  True,  True,  True,  True,  True,  True,  True,\n",
       "        True,  True,  True,  True,  True,  True, False, False,  True,\n",
       "       False,  True,  True,  True,  True,  True,  True,  True,  True,\n",
       "       False,  True,  True,  True,  True,  True,  True,  True,  True,\n",
       "       False, False,  True,  True,  True,  True, False, False,  True,\n",
       "       False, False, False, False, False, False, False, False, False,\n",
       "       False, False, False, False])"
      ]
     },
     "execution_count": 22,
     "metadata": {},
     "output_type": "execute_result"
    }
   ],
   "source": [
    "Rs = calc_R (vorbin_pixels, len(voronoi_binning_data))\n",
    "Rs < 1.5"
   ]
  },
  {
   "cell_type": "code",
   "execution_count": 23,
   "metadata": {},
   "outputs": [
    {
     "data": {
      "text/plain": [
       "(array([5., 3., 2., 0., 1., 0., 1., 0., 1., 1.]),\n",
       " array([0.07523905, 0.0958347 , 0.11643034, 0.13702598, 0.15762162,\n",
       "        0.17821726, 0.1988129 , 0.21940855, 0.24000419, 0.26059983,\n",
       "        0.28119547]),\n",
       " <BarContainer object of 10 artists>)"
      ]
     },
     "execution_count": 23,
     "metadata": {},
     "output_type": "execute_result"
    },
    {
     "data": {
      "image/png": "[encoded data removed]",
      "text/plain": [
       "<Figure size 432x288 with 1 Axes>"
      ]
     },
     "metadata": {
      "needs_background": "light"
     },
     "output_type": "display_data"
    },
    {
     "data": {
      "image/png": "[encoded data removed]",
      "text/plain": [
       "<Figure size 432x288 with 1 Axes>"
      ]
     },
     "metadata": {
      "needs_background": "light"
     },
     "output_type": "display_data"
    }
   ],
   "source": [
    "#################################################\n",
    "# objects\n",
    "obj_names = ['SDSSJ0029-0055',\n",
    "             'SDSSJ0037-0942',\n",
    "             'SDSSJ0330-0020',\n",
    "             'SDSSJ1112+0826',\n",
    "             'SDSSJ1204+0358',\n",
    "             'SDSSJ1250+0523',\n",
    "             'SDSSJ1306+0600',\n",
    "             'SDSSJ1402+6321',\n",
    "             'SDSSJ1531-0105',\n",
    "             'SDSSJ1538+5817',\n",
    "             'SDSSJ1621+3931',\n",
    "             'SDSSJ1627-0053',\n",
    "             'SDSSJ1630+4520',\n",
    "             'SDSSJ2303+1422'\n",
    "            ]\n",
    "\n",
    "V_sigmas = np.zeros(len(obj_names))\n",
    "lambda_Rs = np.zeros(len(obj_names))\n",
    "VD_ap_int_rms = np.zeros(len(obj_names)) # aperture integrated rms veldisp w/in effective radius\n",
    "\n",
    "b=0\n",
    "\n",
    "for obj_name in obj_names:\n",
    "    \n",
    "    #################\n",
    "    # set up directories\n",
    "    obj_abbr = obj_name[4:9] # e.g. J0029\n",
    "    # data directory\n",
    "    data_dir = '/data/raw_data/KECK_KCWI_SLACS_kinematics_shawn/'\n",
    "    # object directory\n",
    "    dir = f'{data_dir}mosaics/{obj_name}/'\n",
    "    #KCWI mosaic datacube\n",
    "    name = f'KCWI_{obj_abbr}_icubes_mosaic_0.1457'\n",
    "    save_dir = f'{dir}{obj_name}_systematics/'\n",
    "    \n",
    "    #################\n",
    "    # get velocity and bin data \n",
    "    VD=np.genfromtxt(f'{dir}{obj_name}_final_kinematics/{obj_name}_VD_binned.txt',\n",
    "                 delimiter=',')\n",
    "    VD_cov = np.genfromtxt(f'{dir}{obj_name}_final_kinematics/{obj_name}_covariance_matrix_VD.txt',\n",
    "                     delimiter=',')\n",
    "    dVD = np.sqrt(np.diagonal(VD_cov)) # to have error bars\n",
    "    V=np.genfromtxt(f'{dir}{obj_name}_final_kinematics/{obj_name}_V_binned.txt',\n",
    "                     delimiter=',')\n",
    "    # subtract the mean V\n",
    "    V = V - np.mean(V)\n",
    "    # import voronoi binning data (#bins, 5215), spectrum for each bin\n",
    "    voronoi_binning_data = fits.getdata(dir +'voronoi_binning_' + name + '_data.fits')\n",
    "    # import pixel data for bins\n",
    "    vorbin_pixels = np.genfromtxt(f'{dir}voronoi_2d_binning_{name}_output.txt',\n",
    "                 delimiter='')\n",
    "\n",
    "    #################\n",
    "    # sum each bin across all wavelengths to get bin luminosities\n",
    "    bin_luminosities = np.zeros(len(V))\n",
    "    for i in range(len(V)):\n",
    "        lum = np.sum(voronoi_binning_data[i])\n",
    "        bin_luminosities[i] = lum\n",
    "        \n",
    "    #################\n",
    "    # get mean R for each bin by pixel positions\n",
    "    R = calc_R (vorbin_pixels, len(V))\n",
    "        \n",
    "    #################\n",
    "    # calculate V_sigma\n",
    "    V_sigmas[b], VD_ap_int_rms[b], dVD_ap_int_rms = lum_weight_V_sigma ( V, VD, dVD, bin_luminosities )\n",
    "    # calculate lambda_R\n",
    "    lambda_Rs[b] = calc_lambda_R (V, VD, R, bin_luminosities)\n",
    "    \n",
    "    b = b+1\n",
    "    \n",
    "plt.figure()    \n",
    "plt.hist(V_sigmas)\n",
    "plt.figure()\n",
    "plt.hist(lambda_Rs)\n"
   ]
  },
  {
   "cell_type": "code",
   "execution_count": 24,
   "metadata": {},
   "outputs": [],
   "source": [
    "import pandas as pd"
   ]
  },
  {
   "cell_type": "code",
   "execution_count": 25,
   "metadata": {},
   "outputs": [
    {
     "data": {
      "text/plain": [
       "array([['J0008-0004', '000802.96-', '0669-52559', '0.4400', '1.1924',\n",
       "        '18.65', '86.7', '1.71', '0.313', '0.83', '27.3', '-99', '-99',\n",
       "        '-9999', 'S', 'E', 'B-A-x', 'A', '0'],\n",
       "       ['J0028-0929', '002817.87-', '0653-52145', '0.0565', '0.7146',\n",
       "        '13.75', '92.8', '15.21', '0.346', '0.48', '78.9', '147', '7',\n",
       "        '2.01', 'S', 'L', 'x-x-x', 'X', '0'],\n",
       "       ['J0029-0055', '002907.77-', '0391-51782', '0.2270', '0.9313',\n",
       "        '17.09', '76.3', '2.16', '0.310', '0.84', '26.6', '229', '18',\n",
       "        '1.75', 'S', 'E', 'A-A-A', 'A', '0'],\n",
       "       ['J0037-0942', '003753.21-', '0655-52162', '0.1955', '0.6322',\n",
       "        '16.26', '120.5', '2.19', '0.326', '0.73', '11.4', '279', '14',\n",
       "        '2.00', 'S', 'E', 'A-A-A', 'A', '0'],\n",
       "       ['J0044+0113', '004402.90+', '0393-51794', '0.1196', '0.1965',\n",
       "        '15.73', '68.8', '2.61', '0.321', '0.76', '151.3', '266', '13',\n",
       "        '1.67', 'S', 'E', 'A-A-A', 'A', '0']], dtype='<U10')"
      ]
     },
     "execution_count": 25,
     "metadata": {},
     "output_type": "execute_result"
    }
   ],
   "source": [
    "slacs_data = np.genfromtxt(f'{data_dir}slacs_tableA1.txt', delimiter='', dtype='U10')\n",
    "slacs_data[:5]"
   ]
  },
  {
   "cell_type": "code",
   "execution_count": 26,
   "metadata": {},
   "outputs": [
    {
     "data": {
      "text/plain": [
       "array([['J0008-0004', '000802.96-', '0669-52559', ..., 'B-A-x', 'A', '0'],\n",
       "       ['J0028-0929', '002817.87-', '0653-52145', ..., 'x-x-x', 'X', '0'],\n",
       "       ['J0029-0055', '002907.77-', '0391-51782', ..., 'A-A-A', 'A', '0'],\n",
       "       ...,\n",
       "       ['J2321-0939', '232120.93-', '0645-52203', ..., 'A-A-A', 'A', '0'],\n",
       "       ['J2341+0000', '234111.57+', '0682-52525', ..., 'A-A-A', 'A', '0'],\n",
       "       ['J2347-0005', '234728.08-', '0684-52523', ..., 'B-A-A', 'B', '0']],\n",
       "      dtype='<U10')"
      ]
     },
     "execution_count": 26,
     "metadata": {},
     "output_type": "execute_result"
    }
   ],
   "source": [
    "slacs_data"
   ]
  },
  {
   "cell_type": "code",
   "execution_count": 27,
   "metadata": {},
   "outputs": [],
   "source": [
    "slacs_qs = slacs_data[:,9].astype(float)\n",
    "slacs_reffs = slacs_data[:,7].astype(float)\n",
    "slacs_morphologies = slacs_data[:,15].astype(str)\n",
    "slacs_sigmas = slacs_data[:,11].astype(float)\n",
    "slacs_sigmas_err = slacs_data[:,12].astype(float)"
   ]
  },
  {
   "cell_type": "code",
   "execution_count": 28,
   "metadata": {},
   "outputs": [],
   "source": [
    "ellipticities = np.empty(len(obj_names))\n",
    "reffs = np.empty(len(obj_names))\n",
    "morphologies = np.empty(len(obj_names), dtype=str)\n",
    "sdss_sigmas = np.empty(len(obj_names))\n",
    "sdss_sigmas_err = np.empty(len(obj_names))\n",
    "\n",
    "for i in range(len(obj_names)):\n",
    "    name = obj_names[i]\n",
    "    name = name[4:]\n",
    "    if name == 'J1306+0600':\n",
    "        ellipticities[i] = 1 - 0.909 # These values from Shajib 2020\n",
    "        reffs[i] = 2.30\n",
    "        morphologies[i] = ''\n",
    "        sdss_sigmas[i] = 0\n",
    "        sdss_sigmas_err[i] = 0\n",
    "    else:\n",
    "        q = slacs_qs[slacs_data[:,0]==name]\n",
    "        ellipticities[i] = 1 - q[0]\n",
    "        reffs[i] = slacs_reffs[slacs_data[:,0]==name]\n",
    "        morphologies[i] = slacs_morphologies[slacs_data[:,0]==name][0]\n",
    "        sdss_sigmas[i] = slacs_sigmas[slacs_data[:,0]==name]\n",
    "        sdss_sigmas_err[i] = slacs_sigmas_err[slacs_data[:,0]==name]"
   ]
  },
  {
   "cell_type": "code",
   "execution_count": 29,
   "metadata": {},
   "outputs": [
    {
     "data": {
      "text/plain": [
       "array(['E', 'E', 'E', 'E', 'E', 'E', '', 'E', 'E', 'E', 'E', 'E', 'E',\n",
       "       'E'], dtype='<U1')"
      ]
     },
     "execution_count": 29,
     "metadata": {},
     "output_type": "execute_result"
    }
   ],
   "source": [
    "morphologies"
   ]
  },
  {
   "cell_type": "markdown",
   "metadata": {},
   "source": [
    "# All are listed as early-type"
   ]
  },
  {
   "cell_type": "code",
   "execution_count": 30,
   "metadata": {},
   "outputs": [],
   "source": [
    "def calc_Vsig_to_lamR (V_sigma):\n",
    "    k = 1.1\n",
    "    numerator = k * V_sigma\n",
    "    denominator = np.sqrt(1 + k**2 * V_sigma**2)\n",
    "    lamR = numerator/denominator\n",
    "    return lamR"
   ]
  },
  {
   "cell_type": "code",
   "execution_count": 31,
   "metadata": {},
   "outputs": [
    {
     "data": {
      "text/plain": [
       "array([0.11207741, 0.19193151, 0.14448807, 0.28337142, 0.08016957,\n",
       "       0.15495014, 0.11004297, 0.09662315, 0.08018216, 0.10181765,\n",
       "       0.24134413, 0.08844863, 0.12160354, 0.08337562])"
      ]
     },
     "execution_count": 31,
     "metadata": {},
     "output_type": "execute_result"
    }
   ],
   "source": [
    "V_sigmas"
   ]
  },
  {
   "cell_type": "code",
   "execution_count": 32,
   "metadata": {},
   "outputs": [],
   "source": [
    "V_sigmas = V_sigmas[ellipticities > 0]\n",
    "lambda_Rs = lambda_Rs[ellipticities > 0]\n",
    "ellipticities = ellipticities[ellipticities > 0]"
   ]
  },
  {
   "cell_type": "code",
   "execution_count": 33,
   "metadata": {},
   "outputs": [
    {
     "name": "stderr",
     "output_type": "stream",
     "text": [
      "/usr/local/anaconda3/lib/python3.7/site-packages/ipykernel_launcher.py:15: RuntimeWarning: invalid value encountered in double_scalars\n",
      "  from ipykernel import kernelapp as app\n",
      "/usr/local/anaconda3/lib/python3.7/site-packages/ipykernel_launcher.py:12: RuntimeWarning: divide by zero encountered in double_scalars\n",
      "  if sys.path[0] == '':\n",
      "/usr/local/anaconda3/lib/python3.7/site-packages/ipykernel_launcher.py:6: RuntimeWarning: invalid value encountered in double_scalars\n",
      "  \n"
     ]
    },
    {
     "data": {
      "text/plain": [
       "<matplotlib.legend.Legend at 0x7fe008c48e10>"
      ]
     },
     "execution_count": 33,
     "metadata": {},
     "output_type": "execute_result"
    },
    {
     "data": {
      "image/png": "[encoded data removed]",
      "text/plain": [
       "<Figure size 576x576 with 1 Axes>"
      ]
     },
     "metadata": {
      "needs_background": "light"
     },
     "output_type": "display_data"
    },
    {
     "data": {
      "image/png": "[encoded data removed]",
      "text/plain": [
       "<Figure size 576x576 with 1 Axes>"
      ]
     },
     "metadata": {
      "needs_background": "light"
     },
     "output_type": "display_data"
    }
   ],
   "source": [
    "# plot the V_sigma and lambda_R to ellipticities\n",
    "\n",
    "epsilons = np.linspace(0.0,1.0,100)\n",
    "V_sigmas_iso = np.zeros(100)\n",
    "lambda_Rs_iso = np.zeros(100)\n",
    "\n",
    "i=0\n",
    "for epsilon in epsilons:\n",
    "    V_sigma = calc_isotropic_V_sigma(epsilon)\n",
    "    V_sigmas_iso[i] = V_sigma\n",
    "    lambda_Rs_iso[i] = calc_Vsig_to_lamR(V_sigma)\n",
    "    i = i+1\n",
    "\n",
    "\n",
    "plt.figure(figsize=(8,8))\n",
    "plt.xlim(0.0,1.0)\n",
    "plt.ylim(0.0,1.0)\n",
    "plt.plot(epsilons, V_sigmas_iso, \n",
    "         c='limegreen',linewidth=4,zorder=-1,\n",
    "        label='isotropic rotator')\n",
    "plt.plot(epsilons, 1/3 * V_sigmas_iso, \n",
    "         c='magenta',linewidth=4,zorder=-1,\n",
    "        label=r'1/3 $\\times$ isotropic')\n",
    "plt.scatter(ellipticities, V_sigmas, s=100)\n",
    "plt.xlabel(r'$\\epsilon$',fontsize=16)\n",
    "plt.ylabel(r'$V/\\sigma$',fontsize=16)\n",
    "plt.legend()\n",
    "\n",
    "\n",
    "plt.figure(figsize=(8,8))\n",
    "plt.xlim(0.0,1.0)\n",
    "plt.ylim(0.0,1.0)\n",
    "plt.plot(epsilons, lambda_Rs_iso, c='limegreen',linewidth=4,zorder=-1)\n",
    "plt.plot(epsilons, 1/3 * lambda_Rs_iso, c='magenta',linewidth=4,zorder=-1)\n",
    "plt.plot([0.0, 0.4],[0.08, 0.08+0.4/4],\n",
    "         linestyle='-',c='k',linewidth=4,zorder=-1)\n",
    "plt.plot([0.4, 0.4],[0.0, 0.08+0.4/4],\n",
    "         linestyle='-',c='k',linewidth=4,zorder=-1,\n",
    "        label=r'$\\lambda_R = 0.08 + \\epsilon/4$')\n",
    "plt.scatter(ellipticities, lambda_Rs, s=100)\n",
    "plt.xlabel(r'$\\epsilon$',fontsize=16)\n",
    "plt.ylabel(r'$\\lambda_R$',fontsize=16)\n",
    "plt.legend()"
   ]
  },
  {
   "cell_type": "code",
   "execution_count": 34,
   "metadata": {},
   "outputs": [
    {
     "data": {
      "text/plain": [
       "array([[0.16      , 0.27      , 0.23      , 0.23      , 0.03      ,\n",
       "        0.03      , 0.091     , 0.23      , 0.32      , 0.18      ,\n",
       "        0.27      , 0.15      , 0.16      , 0.36      ],\n",
       "       [0.11207741, 0.19193151, 0.14448807, 0.28337142, 0.08016957,\n",
       "        0.15495014, 0.11004297, 0.09662315, 0.08018216, 0.10181765,\n",
       "        0.24134413, 0.08844863, 0.12160354, 0.08337562],\n",
       "       [0.10867334, 0.19998203, 0.13448152, 0.28119547, 0.07523905,\n",
       "        0.17003366, 0.10822951, 0.10100174, 0.08074321, 0.09362663,\n",
       "        0.25352513, 0.07872223, 0.12681699, 0.08089614]])"
      ]
     },
     "execution_count": 34,
     "metadata": {},
     "output_type": "execute_result"
    }
   ],
   "source": [
    "np.vstack((ellipticities, V_sigmas, lambda_Rs))"
   ]
  },
  {
   "cell_type": "markdown",
   "metadata": {},
   "source": [
    "# Above was all done without taking the effective radius as the boundary for integration. Let's see if it makes a difference"
   ]
  },
  {
   "cell_type": "code",
   "execution_count": 38,
   "metadata": {},
   "outputs": [
    {
     "name": "stdout",
     "output_type": "stream",
     "text": [
      "length before cutting... 193\n",
      "length after cutting... 187\n",
      "\n",
      "length before cutting... 303\n",
      "length after cutting... 281\n",
      "\n",
      "length before cutting... 12\n",
      "length after cutting... 7\n",
      "\n",
      "length before cutting... 18\n",
      "length after cutting... 18\n",
      "\n",
      "length before cutting... 99\n",
      "length after cutting... 84\n",
      "\n",
      "length before cutting... 65\n",
      "length after cutting... 53\n",
      "\n",
      "length before cutting... 64\n",
      "length after cutting... 64\n",
      "\n",
      "length before cutting... 108\n",
      "length after cutting... 108\n",
      "\n",
      "length before cutting... 39\n",
      "length after cutting... 39\n",
      "\n",
      "length before cutting... 45\n",
      "length after cutting... 34\n",
      "\n",
      "length before cutting... 37\n",
      "length after cutting... 37\n",
      "\n",
      "length before cutting... 71\n",
      "length after cutting... 66\n",
      "\n",
      "length before cutting... 52\n",
      "length after cutting... 48\n",
      "\n",
      "length before cutting... 54\n",
      "length after cutting... 54\n",
      "\n"
     ]
    },
    {
     "data": {
      "text/plain": [
       "(array([1., 5., 5., 0., 0., 1., 0., 0., 1., 1.]),\n",
       " array([0.04463938, 0.06829499, 0.0919506 , 0.11560621, 0.13926182,\n",
       "        0.16291743, 0.18657304, 0.21022864, 0.23388425, 0.25753986,\n",
       "        0.28119547]),\n",
       " <BarContainer object of 10 artists>)"
      ]
     },
     "execution_count": 38,
     "metadata": {},
     "output_type": "execute_result"
    },
    {
     "data": {
      "image/png": "[encoded data removed]",
      "text/plain": [
       "<Figure size 432x288 with 1 Axes>"
      ]
     },
     "metadata": {
      "needs_background": "light"
     },
     "output_type": "display_data"
    },
    {
     "data": {
      "image/png": "[encoded data removed]",
      "text/plain": [
       "<Figure size 432x288 with 1 Axes>"
      ]
     },
     "metadata": {
      "needs_background": "light"
     },
     "output_type": "display_data"
    }
   ],
   "source": [
    "#################################################\n",
    "# objects\n",
    "obj_names = ['SDSSJ0029-0055',\n",
    "             'SDSSJ0037-0942',\n",
    "             'SDSSJ0330-0020',\n",
    "             'SDSSJ1112+0826',\n",
    "             'SDSSJ1204+0358',\n",
    "             'SDSSJ1250+0523',\n",
    "             'SDSSJ1306+0600',\n",
    "             'SDSSJ1402+6321',\n",
    "             'SDSSJ1531-0105',\n",
    "             'SDSSJ1538+5817',\n",
    "             'SDSSJ1621+3931',\n",
    "             'SDSSJ1627-0053',\n",
    "             'SDSSJ1630+4520',\n",
    "             'SDSSJ2303+1422'\n",
    "            ]\n",
    "\n",
    "V_sigmas = np.zeros(len(obj_names))\n",
    "lambda_Rs = np.zeros(len(obj_names))\n",
    "VD_ap_int_rms = np.zeros(len(obj_names))\n",
    "dVD_ap_int_rms = np.zeros(len(obj_names))\n",
    "\n",
    "b=0\n",
    "\n",
    "for obj_name in obj_names:\n",
    "       \n",
    "    #################\n",
    "    # set up directories\n",
    "    obj_abbr = obj_name[4:9] # e.g. J0029\n",
    "    # data directory\n",
    "    data_dir = '/data/raw_data/KECK_KCWI_SLACS_kinematics_shawn/'\n",
    "    # object directory\n",
    "    dir = f'{data_dir}mosaics/{obj_name}/'\n",
    "    #KCWI mosaic datacube\n",
    "    name = f'KCWI_{obj_abbr}_icubes_mosaic_0.1457'\n",
    "    save_dir = f'{dir}{obj_name}_systematics/'\n",
    "\n",
    "    #################\n",
    "    # get velocity and bin data \n",
    "    VD=np.genfromtxt(f'{dir}{obj_name}_final_kinematics/{obj_name}_VD_binned.txt',\n",
    "             delimiter=',')\n",
    "    VD_cov = np.genfromtxt(f'{dir}{obj_name}_final_kinematics/{obj_name}_covariance_matrix_VD.txt',\n",
    "                     delimiter=',')\n",
    "    dVD = np.sqrt(np.diagonal(VD_cov))\n",
    "    V=np.genfromtxt(f'{dir}{obj_name}_final_kinematics/{obj_name}_V_binned.txt',\n",
    "                     delimiter=',')\n",
    "    # subtract the mean V\n",
    "    V = V - np.mean(V)\n",
    "    # import voronoi binning data (#bins, 5215), spectrum for each bin\n",
    "    voronoi_binning_data = fits.getdata(dir +'voronoi_binning_' + name + '_data.fits')\n",
    "    # import pixel data for bins\n",
    "    vorbin_pixels = np.genfromtxt(f'{dir}voronoi_2d_binning_{name}_output.txt',\n",
    "                 delimiter='')\n",
    "    #################\n",
    "    # sum each bin across all wavelengths to get bin luminosities\n",
    "    bin_luminosities = np.zeros(len(V))\n",
    "    for i in range(len(V)):\n",
    "        lum = np.sum(voronoi_binning_data[i])\n",
    "        bin_luminosities[i] = lum\n",
    "        \n",
    "    # get pixel luminosities\n",
    "    # calculate pixel luminosities\n",
    "    #pixel_luminosities = np.zeros(len(vorbin_pixels))\n",
    "    #for i in range(len(vorbin_pixels)):\n",
    "    #    x = int(vorbin_pixels[i,0])                      ###### For future, better calculation by weighting only the *pixels* within the effective radius\n",
    "    #    y = int(vorbin_pixels[i,1])\n",
    "    #    pixel_luminosity = summed_datacube[y,x]\n",
    "    #    pixel_luminosities[i] = pixel_luminosity \n",
    "        \n",
    "\n",
    "    #################\n",
    "    # get mean R for each bin by pixel positions\n",
    "    short_name = obj_name[4:]\n",
    "    R = calc_R (vorbin_pixels, len(V))\n",
    "    print(f'length before cutting... {len(R)}')\n",
    "    effective_radius = reffs[b]\n",
    "    condition = R < effective_radius\n",
    "    R = R[condition]\n",
    "    V = V[condition]\n",
    "    VD = VD[condition]\n",
    "    dVD = dVD[condition]\n",
    "    bin_luminosities = bin_luminosities[condition]\n",
    "    print(f'length after cutting... {len(R)}')\n",
    "    print()\n",
    "\n",
    "    #################\n",
    "    # calculate V_sigma\n",
    "    V_sigmas[b], VD_ap_int_rms[b], dVD_ap_int_rms[b] = lum_weight_V_sigma ( V, VD, dVD, bin_luminosities )\n",
    "    # calculate lambda_R\n",
    "    lambda_Rs[b] = calc_lambda_R (V, VD, R, bin_luminosities)\n",
    "\n",
    "    b = b+1\n",
    "    \n",
    "plt.figure()    \n",
    "plt.hist(V_sigmas)\n",
    "plt.figure()\n",
    "plt.hist(lambda_Rs)\n"
   ]
  },
  {
   "cell_type": "code",
   "execution_count": 467,
   "metadata": {},
   "outputs": [
    {
     "data": {
      "text/plain": [
       "'/data/raw_data/KECK_KCWI_SLACS_kinematics_shawn/mosaics/SDSSJ2303+1422/SDSSJ2303+1422_systematics/'"
      ]
     },
     "execution_count": 467,
     "metadata": {},
     "output_type": "execute_result"
    }
   ],
   "source": [
    "save_dir"
   ]
  },
  {
   "cell_type": "code",
   "execution_count": 39,
   "metadata": {},
   "outputs": [],
   "source": [
    "V_sigmas = V_sigmas[ellipticities > 0]\n",
    "lambda_Rs = lambda_Rs[ellipticities > 0]\n",
    "ellipticities = ellipticities[ellipticities > 0]"
   ]
  },
  {
   "cell_type": "code",
   "execution_count": 40,
   "metadata": {},
   "outputs": [
    {
     "name": "stderr",
     "output_type": "stream",
     "text": [
      "/usr/local/anaconda3/lib/python3.7/site-packages/ipykernel_launcher.py:15: RuntimeWarning: invalid value encountered in double_scalars\n",
      "  from ipykernel import kernelapp as app\n",
      "/usr/local/anaconda3/lib/python3.7/site-packages/ipykernel_launcher.py:12: RuntimeWarning: divide by zero encountered in double_scalars\n",
      "  if sys.path[0] == '':\n",
      "/usr/local/anaconda3/lib/python3.7/site-packages/ipykernel_launcher.py:6: RuntimeWarning: invalid value encountered in double_scalars\n",
      "  \n"
     ]
    },
    {
     "data": {
      "image/png": "[encoded data removed]",
      "text/plain": [
       "<Figure size 576x576 with 1 Axes>"
      ]
     },
     "metadata": {
      "needs_background": "light"
     },
     "output_type": "display_data"
    },
    {
     "data": {
      "image/png": "[encoded data removed]",
      "text/plain": [
       "<Figure size 576x576 with 1 Axes>"
      ]
     },
     "metadata": {
      "needs_background": "light"
     },
     "output_type": "display_data"
    }
   ],
   "source": [
    "# plot the V_sigma and lambda_R to ellipticities\n",
    "\n",
    "\n",
    "epsilons = np.linspace(0.0,1.0,100)\n",
    "V_sigmas_iso = np.zeros(100)\n",
    "lambda_Rs_iso = np.zeros(100)\n",
    "\n",
    "i=0\n",
    "for epsilon in epsilons:\n",
    "    V_sigma = calc_isotropic_V_sigma(epsilon)\n",
    "    V_sigmas_iso[i] = V_sigma\n",
    "    lambda_Rs_iso[i] = calc_Vsig_to_lamR(V_sigma)\n",
    "    i = i+1\n",
    "\n",
    "\n",
    "plt.figure(figsize=(8,8))\n",
    "plt.xlim(0.0,1.0)\n",
    "plt.ylim(0.0,1.0)\n",
    "plt.plot(epsilons, V_sigmas_iso, \n",
    "         c='limegreen',linewidth=4,zorder=-1,\n",
    "        label='isotropic rotator')\n",
    "plt.plot(epsilons, 1/3 * V_sigmas_iso, \n",
    "         c='magenta',linewidth=4,zorder=-1,\n",
    "        label=r'1/3 $\\times$ isotropic')\n",
    "plt.scatter(ellipticities, V_sigmas, s=100)\n",
    "plt.xlabel(r'$\\epsilon$',fontsize=16)\n",
    "plt.ylabel(r'$V/\\sigma$',fontsize=16)\n",
    "plt.legend()\n",
    "plt.savefig(f'{data_dir}mosaics/kinematic_class_vsigma.png')\n",
    "plt.savefig(f'{data_dir}mosaics/kinematic_class_vsigma.pdf')\n",
    "\n",
    "\n",
    "plt.figure(figsize=(8,8))\n",
    "plt.xlim(0.0,1.0)\n",
    "plt.ylim(0.0,1.0)\n",
    "plt.plot(epsilons, lambda_Rs_iso, c='limegreen',linewidth=4,zorder=-1)\n",
    "plt.plot(epsilons, 1/3 * lambda_Rs_iso, c='magenta',linewidth=4,zorder=-1)\n",
    "plt.plot([0.0, 0.4],[0.08, 0.08+0.4/4],\n",
    "         linestyle='-',c='k',linewidth=4,zorder=-1)\n",
    "plt.plot([0.4, 0.4],[0.0, 0.08+0.4/4],\n",
    "         linestyle='-',c='k',linewidth=4,zorder=-1,\n",
    "        label=r'$\\lambda_R = 0.08 + \\epsilon/4$')\n",
    "plt.scatter(ellipticities, lambda_Rs, s=100)\n",
    "plt.xlabel(r'$\\epsilon$',fontsize=16)\n",
    "plt.ylabel(r'$\\lambda_R$',fontsize=16)\n",
    "plt.legend()\n",
    "plt.savefig(f'{data_dir}mosaics/kinematic_class_lambdar.png')\n",
    "plt.savefig(f'{data_dir}mosaics/kinematic_class_lambdar.pdf')"
   ]
  },
  {
   "cell_type": "code",
   "execution_count": 41,
   "metadata": {},
   "outputs": [],
   "source": [
    "#obj_names_a = np.array(obj_names)\n",
    "#obj_names_a = np.delete(obj_names_a, 6)"
   ]
  },
  {
   "cell_type": "code",
   "execution_count": 43,
   "metadata": {},
   "outputs": [],
   "source": [
    "#obj_names_a[lambda_Rs>0.17]"
   ]
  },
  {
   "cell_type": "code",
   "execution_count": 44,
   "metadata": {},
   "outputs": [
    {
     "data": {
      "text/plain": [
       "array([0.1777557 , 0.28119547, 0.25352513])"
      ]
     },
     "execution_count": 44,
     "metadata": {},
     "output_type": "execute_result"
    }
   ],
   "source": [
    "lambda_Rs[lambda_Rs>0.17]"
   ]
  },
  {
   "cell_type": "code",
   "execution_count": 45,
   "metadata": {},
   "outputs": [
    {
     "data": {
      "text/plain": [
       "array([0.10038901, 0.1777557 , 0.07339927, 0.28119547, 0.07030964,\n",
       "       0.09800887, 0.10822951, 0.10100174, 0.08074321, 0.04463938,\n",
       "       0.25352513, 0.07437719, 0.10584494, 0.08089614])"
      ]
     },
     "execution_count": 45,
     "metadata": {},
     "output_type": "execute_result"
    }
   ],
   "source": [
    "lambda_Rs"
   ]
  },
  {
   "cell_type": "code",
   "execution_count": 46,
   "metadata": {},
   "outputs": [
    {
     "data": {
      "text/plain": [
       "array([0.16 , 0.27 , 0.23 , 0.23 , 0.03 , 0.03 , 0.091, 0.23 , 0.32 ,\n",
       "       0.18 , 0.27 , 0.15 , 0.16 , 0.36 ])"
      ]
     },
     "execution_count": 46,
     "metadata": {},
     "output_type": "execute_result"
    }
   ],
   "source": [
    "ellipticities"
   ]
  },
  {
   "cell_type": "code",
   "execution_count": 47,
   "metadata": {},
   "outputs": [
    {
     "data": {
      "text/plain": [
       "['SDSSJ0029-0055',\n",
       " 'SDSSJ0037-0942',\n",
       " 'SDSSJ0330-0020',\n",
       " 'SDSSJ1112+0826',\n",
       " 'SDSSJ1204+0358',\n",
       " 'SDSSJ1250+0523',\n",
       " 'SDSSJ1306+0600',\n",
       " 'SDSSJ1402+6321',\n",
       " 'SDSSJ1531-0105',\n",
       " 'SDSSJ1538+5817',\n",
       " 'SDSSJ1621+3931',\n",
       " 'SDSSJ1627-0053',\n",
       " 'SDSSJ1630+4520',\n",
       " 'SDSSJ2303+1422']"
      ]
     },
     "execution_count": 47,
     "metadata": {},
     "output_type": "execute_result"
    }
   ],
   "source": [
    "obj_names"
   ]
  },
  {
   "cell_type": "code",
   "execution_count": 425,
   "metadata": {},
   "outputs": [],
   "source": [
    "# Get the SDSS sigma (not corrected)"
   ]
  },
  {
   "cell_type": "code",
   "execution_count": 48,
   "metadata": {},
   "outputs": [
    {
     "data": {
      "text/plain": [
       "array([229., 279., 212., 320., 267., 252.,   0., 267., 279., 189., 236.,\n",
       "       290., 276., 255.])"
      ]
     },
     "execution_count": 48,
     "metadata": {},
     "output_type": "execute_result"
    }
   ],
   "source": [
    "sdss_sigmas"
   ]
  },
  {
   "cell_type": "code",
   "execution_count": 49,
   "metadata": {},
   "outputs": [
    {
     "data": {
      "text/plain": [
       "array([199.36699242, 259.19827888, 227.74603688, 255.24973187,\n",
       "       246.69221146, 228.07360863, 224.65994837, 266.47704382,\n",
       "       254.15471111, 228.4114471 , 241.51338048, 254.50388677,\n",
       "       250.2633312 , 244.37378391])"
      ]
     },
     "execution_count": 49,
     "metadata": {},
     "output_type": "execute_result"
    }
   ],
   "source": [
    "VD_ap_int_rms"
   ]
  },
  {
   "cell_type": "code",
   "execution_count": 50,
   "metadata": {},
   "outputs": [
    {
     "data": {
      "image/png": "[encoded data removed]",
      "text/plain": [
       "<Figure size 432x288 with 1 Axes>"
      ]
     },
     "metadata": {
      "needs_background": "light"
     },
     "output_type": "display_data"
    }
   ],
   "source": [
    "plt.figure()\n",
    "plt.errorbar(range(len(sdss_sigmas)), sdss_sigmas, sdss_sigmas_err, c='k', linestyle='', marker='o', label='SLACS V - Bolton et al. 2008')\n",
    "plt.errorbar(range(len(sdss_sigmas)), VD_ap_int_rms, dVD_ap_int_rms, c='b', linestyle='', marker='o', label='KCWI integrated')\n",
    "plt.ylim(150, 350)\n",
    "plt.legend()\n",
    "plt.xticks(range(14),labels=obj_names, rotation=90)\n",
    "plt.ylabel(r'$\\sigma$ km/s')\n",
    "plt.tight_layout()\n",
    "plt.savefig(f'{data_dir}mosaics/integrated_sigma_vs_slacs.png')\n",
    "plt.savefig(f'{data_dir}mosaics/integrated_sigma_vs_slacs.pdf')"
   ]
  },
  {
   "cell_type": "code",
   "execution_count": null,
   "metadata": {},
   "outputs": [],
   "source": [
    "# combine info for a table"
   ]
  },
  {
   "cell_type": "code",
   "execution_count": 51,
   "metadata": {},
   "outputs": [
    {
     "data": {
      "text/plain": [
       "array([199.367, 259.198, 227.746, 255.25 , 246.692, 228.074, 224.66 ,\n",
       "       266.477, 254.155, 228.411, 241.513, 254.504, 250.263, 244.374])"
      ]
     },
     "execution_count": 51,
     "metadata": {},
     "output_type": "execute_result"
    }
   ],
   "source": [
    "np.set_printoptions(precision=3, suppress=True)\n",
    "\n",
    "VD_ap_int_rms"
   ]
  },
  {
   "cell_type": "code",
   "execution_count": 53,
   "metadata": {},
   "outputs": [],
   "source": [
    "table = np.vstack((VD_ap_int_rms, dVD_ap_int_rms, sdss_sigmas, sdss_sigmas_err, ellipticities, V_sigmas, lambda_Rs))\n",
    "df = pd.DataFrame(table.T)\n",
    "df.insert(0, 'obj_names', obj_names, True)\n",
    "#df.to_numpy()"
   ]
  },
  {
   "cell_type": "code",
   "execution_count": 54,
   "metadata": {},
   "outputs": [],
   "source": [
    "def bmatrix(a, b):\n",
    "    \"\"\"Returns a LaTeX bmatrix\n",
    "\n",
    "    :a: numpy array\n",
    "    :returns: LaTeX bmatrix as a string\n",
    "    \"\"\"\n",
    "    if len(a.shape) > 2:\n",
    "        raise ValueError('bmatrix can at most display two dimensions')\n",
    "    lines = str(a).replace('[', '').replace(']', '').splitlines()\n",
    "    rv = [r'\\begin{bmatrix}']\n",
    "    rv += [b[i] + ' & ' + ' & '.join(lines[i].split()) + r'\\\\' for i in range(len(lines))]\n",
    "    rv +=  [r'\\end{bmatrix}']\n",
    "    return '\\n'.join(rv)"
   ]
  },
  {
   "cell_type": "code",
   "execution_count": 55,
   "metadata": {},
   "outputs": [
    {
     "name": "stdout",
     "output_type": "stream",
     "text": [
      "\\begin{bmatrix}\n",
      "SDSSJ0029-0055 & 199.367 & 13.881 & 229. & 18. & 0.16 & 0.107 & 0.1\\\\\n",
      "SDSSJ0037-0942 & 259.198 & 12.98 & 279. & 14. & 0.27 & 0.176 & 0.178\\\\\n",
      "SDSSJ0330-0020 & 227.746 & 13.121 & 212. & 21. & 0.23 & 0.094 & 0.073\\\\\n",
      "SDSSJ1112+0826 & 255.25 & 6.799 & 320. & 20. & 0.23 & 0.283 & 0.281\\\\\n",
      "SDSSJ1204+0358 & 246.692 & 8.316 & 267. & 17. & 0.03 & 0.078 & 0.07\\\\\n",
      "SDSSJ1250+0523 & 228.074 & 6.552 & 252. & 14. & 0.03 & 0.097 & 0.098\\\\\n",
      "SDSSJ1306+0600 & 224.66 & 14.157 & 0. & 0. & 0.091 & 0.11 & 0.108\\\\\n",
      "SDSSJ1402+6321 & 266.477 & 9.517 & 267. & 17. & 0.23 & 0.097 & 0.101\\\\\n",
      "SDSSJ1531-0105 & 254.155 & 18.07 & 279. & 14. & 0.32 & 0.08 & 0.081\\\\\n",
      "SDSSJ1538+5817 & 228.411 & 9.362 & 189. & 12. & 0.18 & 0.056 & 0.045\\\\\n",
      "SDSSJ1621+3931 & 241.513 & 12.678 & 236. & 20. & 0.27 & 0.241 & 0.254\\\\\n",
      "SDSSJ1627-0053 & 254.504 & 19.166 & 290. & 15. & 0.15 & 0.086 & 0.074\\\\\n",
      "SDSSJ1630+4520 & 250.263 & 9.64 & 276. & 16. & 0.16 & 0.107 & 0.106\\\\\n",
      "SDSSJ2303+1422 & 244.374 & 16.478 & 255. & 16. & 0.36 & 0.083 & 0.081\\\\\n",
      "\\end{bmatrix}\n"
     ]
    }
   ],
   "source": [
    "print(bmatrix(table.T, obj_names))"
   ]
  },
  {
   "cell_type": "code",
   "execution_count": 57,
   "metadata": {},
   "outputs": [
    {
     "name": "stdout",
     "output_type": "stream",
     "text": [
      "SDSSJ0029-0055\n",
      "s s\n",
      "\n",
      "SDSSJ0037-0942\n",
      "f f\n",
      "\n",
      "SDSSJ0330-0020\n",
      "s s\n",
      "\n",
      "SDSSJ1112+0826\n",
      "f f\n",
      "\n",
      "SDSSJ1204+0358\n",
      "f s\n",
      "\n",
      "SDSSJ1250+0523\n",
      "f f\n",
      "\n",
      "SDSSJ1306+0600\n",
      "f f\n",
      "\n",
      "SDSSJ1402+6321\n",
      "s s\n",
      "\n",
      "SDSSJ1531-0105\n",
      "s s\n",
      "\n",
      "SDSSJ1538+5817\n",
      "s s\n",
      "\n",
      "SDSSJ1621+3931\n",
      "f f\n",
      "\n",
      "SDSSJ1627-0053\n",
      "s s\n",
      "\n",
      "SDSSJ1630+4520\n",
      "s s\n",
      "\n",
      "SDSSJ2303+1422\n",
      "s s\n",
      "\n"
     ]
    }
   ],
   "source": [
    "# classification according to the Cappellari paper\n",
    "\n",
    "V_sig_class = np.empty(14, dtype=str)\n",
    "lam_R_class = np.empty(14, dtype=str)\n",
    "\n",
    "for i in range(14):\n",
    "    \n",
    "    print(obj_names[i])\n",
    "    \n",
    "    V_sig = V_sigmas[i]\n",
    "    lam_R = lambda_Rs[i]\n",
    "    ellip = ellipticities[i]\n",
    "    \n",
    "    V_sig_bound = calc_isotropic_V_sigma(ellip) / 3\n",
    "    lam_R_bound = 0.08 + ellip/4\n",
    "    \n",
    "    if (V_sig < V_sig_bound):\n",
    "        V_sig_class[i] = 'slow'\n",
    "    elif (V_sig > V_sig_bound):\n",
    "        V_sig_class[i] = 'fast'\n",
    "    \n",
    "    if (lam_R < lam_R_bound):\n",
    "        lam_R_class[i] = 'slow'\n",
    "    elif (lam_R > lam_R_bound):\n",
    "        lam_R_class[i] = 'fast'\n",
    "        \n",
    "    print(V_sig_class[i], lam_R_class[i])\n",
    "    \n",
    "    print()"
   ]
  },
  {
   "cell_type": "code",
   "execution_count": 58,
   "metadata": {},
   "outputs": [
    {
     "data": {
      "text/plain": [
       "array(['s', 'f', 's', 'f', 'f', 'f', 'f', 's', 's', 's', 'f', 's', 's',\n",
       "       's'], dtype='<U1')"
      ]
     },
     "execution_count": 58,
     "metadata": {},
     "output_type": "execute_result"
    }
   ],
   "source": [
    "V_sig_class"
   ]
  },
  {
   "cell_type": "code",
   "execution_count": 59,
   "metadata": {},
   "outputs": [
    {
     "data": {
      "text/plain": [
       "array(['s', 'f', 's', 'f', 's', 'f', 'f', 's', 's', 's', 'f', 's', 's',\n",
       "       's'], dtype='<U1')"
      ]
     },
     "execution_count": 59,
     "metadata": {},
     "output_type": "execute_result"
    }
   ],
   "source": [
    "lam_R_class"
   ]
  },
  {
   "cell_type": "code",
   "execution_count": 60,
   "metadata": {},
   "outputs": [],
   "source": [
    "def bmatrix(a, b, c, d):\n",
    "    \"\"\"Returns a LaTeX bmatrix\n",
    "\n",
    "    :a: numpy array\n",
    "    :returns: LaTeX bmatrix as a string\n",
    "    \"\"\"\n",
    "    if len(a.shape) > 2:\n",
    "        raise ValueError('bmatrix can at most display two dimensions')\n",
    "    lines = str(a).replace('[', '').replace(']', '').splitlines()\n",
    "    rv = [r'\\begin{bmatrix}']\n",
    "    rv += [b[i] + ' & ' + ' & '.join(lines[i].split()) + ' & ' + c[i] + ' & ' + d[i] + r'\\\\' for i in range(len(lines))]\n",
    "    rv +=  [r'\\end{bmatrix}']\n",
    "    return '\\n'.join(rv)"
   ]
  },
  {
   "cell_type": "code",
   "execution_count": 61,
   "metadata": {},
   "outputs": [
    {
     "name": "stdout",
     "output_type": "stream",
     "text": [
      "\\begin{bmatrix}\n",
      "SDSSJ0029-0055 & 199.367 & 13.881 & 229. & 18. & 0.16 & 0.107 & 0.1 & s & s\\\\\n",
      "SDSSJ0037-0942 & 259.198 & 12.98 & 279. & 14. & 0.27 & 0.176 & 0.178 & f & f\\\\\n",
      "SDSSJ0330-0020 & 227.746 & 13.121 & 212. & 21. & 0.23 & 0.094 & 0.073 & s & s\\\\\n",
      "SDSSJ1112+0826 & 255.25 & 6.799 & 320. & 20. & 0.23 & 0.283 & 0.281 & f & f\\\\\n",
      "SDSSJ1204+0358 & 246.692 & 8.316 & 267. & 17. & 0.03 & 0.078 & 0.07 & f & s\\\\\n",
      "SDSSJ1250+0523 & 228.074 & 6.552 & 252. & 14. & 0.03 & 0.097 & 0.098 & f & f\\\\\n",
      "SDSSJ1306+0600 & 224.66 & 14.157 & 0. & 0. & 0.091 & 0.11 & 0.108 & f & f\\\\\n",
      "SDSSJ1402+6321 & 266.477 & 9.517 & 267. & 17. & 0.23 & 0.097 & 0.101 & s & s\\\\\n",
      "SDSSJ1531-0105 & 254.155 & 18.07 & 279. & 14. & 0.32 & 0.08 & 0.081 & s & s\\\\\n",
      "SDSSJ1538+5817 & 228.411 & 9.362 & 189. & 12. & 0.18 & 0.056 & 0.045 & s & s\\\\\n",
      "SDSSJ1621+3931 & 241.513 & 12.678 & 236. & 20. & 0.27 & 0.241 & 0.254 & f & f\\\\\n",
      "SDSSJ1627-0053 & 254.504 & 19.166 & 290. & 15. & 0.15 & 0.086 & 0.074 & s & s\\\\\n",
      "SDSSJ1630+4520 & 250.263 & 9.64 & 276. & 16. & 0.16 & 0.107 & 0.106 & s & s\\\\\n",
      "SDSSJ2303+1422 & 244.374 & 16.478 & 255. & 16. & 0.36 & 0.083 & 0.081 & s & s\\\\\n",
      "\\end{bmatrix}\n"
     ]
    }
   ],
   "source": [
    "print(bmatrix(table.T, obj_names, V_sig_class, lam_R_class))"
   ]
  },
  {
   "cell_type": "code",
   "execution_count": 62,
   "metadata": {},
   "outputs": [],
   "source": [
    "# plot fast and slow on the vsig and lamr plots"
   ]
  },
  {
   "cell_type": "code",
   "execution_count": 63,
   "metadata": {},
   "outputs": [],
   "source": [
    "slow1 = V_sig_class == 's'\n",
    "fast1 = V_sig_class == 'f'\n",
    "slow2 = lam_R_class == 's'\n",
    "fast2 = lam_R_class == 'f'\n",
    "\n",
    "eps_slow1 = ellipticities[slow1]\n",
    "V_sigmas_slow = V_sigmas[slow1]\n",
    "eps_fast1 = ellipticities[fast1]\n",
    "V_sigmas_fast = V_sigmas[fast1]\n",
    "\n",
    "eps_slow2 = ellipticities[slow2]\n",
    "lambda_Rs_slow = lambda_Rs[slow2]\n",
    "eps_fast2 = ellipticities[fast2]\n",
    "lambda_Rs_fast = lambda_Rs[fast2]"
   ]
  },
  {
   "cell_type": "code",
   "execution_count": 69,
   "metadata": {},
   "outputs": [
    {
     "data": {
      "image/png": "[encoded data removed]",
      "text/plain": [
       "<Figure size 576x576 with 1 Axes>"
      ]
     },
     "metadata": {
      "needs_background": "light"
     },
     "output_type": "display_data"
    },
    {
     "data": {
      "image/png": "[encoded data removed]",
      "text/plain": [
       "<Figure size 576x576 with 1 Axes>"
      ]
     },
     "metadata": {
      "needs_background": "light"
     },
     "output_type": "display_data"
    }
   ],
   "source": [
    "# plot the V_sigma and lambda_R to ellipticities\n",
    "\n",
    "plt.figure(figsize=(8,8))\n",
    "plt.xlim(0.0,1.0)\n",
    "plt.ylim(0.0,1.0)\n",
    "plt.plot(epsilons, V_sigmas_iso, \n",
    "         c='limegreen',linewidth=4,zorder=-1,\n",
    "        label='isotropic rotator')\n",
    "plt.plot(epsilons, 1/3 * V_sigmas_iso, \n",
    "         c='magenta',linewidth=4,zorder=-1,\n",
    "        label=r'1/3 $\\times$ isotropic')\n",
    "plt.scatter(eps_slow1, V_sigmas_slow, s=150, c='r', label='slow rotator')\n",
    "plt.scatter(eps_fast1, V_sigmas_fast, s=200, c='b', marker='$\\Phi$', label='fast rotator')\n",
    "plt.xlabel(r'$\\epsilon$',fontsize=16)\n",
    "plt.ylabel(r'$V/\\sigma$',fontsize=16)\n",
    "plt.legend()\n",
    "plt.savefig(f'{data_dir}mosaics/kinematic_class_vsigma.png')\n",
    "plt.savefig(f'{data_dir}mosaics/kinematic_class_vsigma.pdf')\n",
    "\n",
    "\n",
    "plt.figure(figsize=(8,8))\n",
    "plt.xlim(0.0,1.0)\n",
    "plt.ylim(0.0,1.0)\n",
    "plt.plot(epsilons, lambda_Rs_iso, c='limegreen',linewidth=4,zorder=-1)\n",
    "plt.plot(epsilons, 1/3 * lambda_Rs_iso, c='magenta',linewidth=4,zorder=-1)\n",
    "plt.plot([0.0, 0.4],[0.08, 0.08+0.4/4],\n",
    "         linestyle='-',c='k',linewidth=4,zorder=-1)\n",
    "plt.plot([0.4, 0.4],[0.0, 0.08+0.4/4],\n",
    "         linestyle='-',c='k',linewidth=4,zorder=-1,\n",
    "        label=r'$\\lambda_R = 0.08 + \\epsilon/4$')\n",
    "plt.scatter(eps_slow2, lambda_Rs_slow, s=150, c='r', label='slow rotator')\n",
    "plt.scatter(eps_fast2, lambda_Rs_fast, s=200, c='b', marker='$\\Phi$', label='fast rotator')\n",
    "plt.xlabel(r'$\\epsilon$',fontsize=16)\n",
    "plt.ylabel(r'$\\lambda_R$',fontsize=16)\n",
    "plt.legend()\n",
    "plt.savefig(f'{data_dir}mosaics/kinematic_class_lambdar.png')\n",
    "plt.savefig(f'{data_dir}mosaics/kinematic_class_lambdar.pdf')"
   ]
  },
  {
   "cell_type": "markdown",
   "metadata": {},
   "source": [
    "__________________________________\n",
    "# 09/30/22 - Do similar analysis but integrate with luminosity weighted pixel contributions, like I did for the rebinning for the 1D velocity profiles in \"2d_to_1d_milestone_092722.ipynb\""
   ]
  },
  {
   "cell_type": "code",
   "execution_count": null,
   "metadata": {},
   "outputs": [],
   "source": [
    "# Define function to calculate luminosity weights for rebinning from Voronoi bins to shells\n",
    "### In this case, the shell will justbe the effective radius (shells = [1])\n",
    "\n",
    "def calc_luminosity_weights_in_shells (bin_arrays, num_bins, bin_luminosities, pixel_luminosities, shells, reff):\n",
    "    \n",
    "    # create array with each bin and len num_bins\n",
    "    luminosity_weights = np.zeros((num_bins, len(shells)))\n",
    "    \n",
    "    for i in range(num_bins):\n",
    "        # pixels in this bin, take x and y coordinates\n",
    "        in_bin = bin_arrays[:,2]==i\n",
    "        bin_pixels = bin_arrays[in_bin]\n",
    "        bin_xx = bin_pixels[:,0] - 21 # subtract 21 pixels, center don't know which is x and which is y, but doesn't matter for R\n",
    "        bin_yy = bin_pixels[:,1] - 21\n",
    "        # luminosity of bin and of pixels in bin\n",
    "        bin_luminosity = bin_luminosities[i]\n",
    "        bin_pixels_lum = pixel_luminosities[in_bin]\n",
    "        #print(bin_luminosity, np.sum(bin_pixels_lum))\n",
    "        # calculate radius of each pixel in the bin\n",
    "        bin_R = np.zeros(len(bin_pixels))\n",
    "        for j in range(len(bin_pixels)):\n",
    "            bin_R[j] = np.sqrt(bin_xx[j]**2 + bin_yy[j]**2)*0.1457 # arcsec\n",
    "        # calculate fraction of these pixels in each shell\n",
    "        for k in range(len(shells)):\n",
    "            inner_shell = shells[k]\n",
    "            if k == len(shells) - 1:\n",
    "                outer_shell = 10 # everything extending to the farthest pixel\n",
    "            else:\n",
    "                outer_shell = shells[k+1]\n",
    "            in_shell = (bin_R >= inner_shell*reff) & (bin_R <= outer_shell*reff)\n",
    "            # weight pixels by fractional luminosity of total bin\n",
    "            bin_luminosity_in_shell = np.sum(bin_pixels_lum[in_shell])#/bin_luminosity\n",
    "            luminosity_weights[i,k] = bin_luminosity_in_shell\n",
    "        \n",
    "    return luminosity_weights"
   ]
  },
  {
   "cell_type": "code",
   "execution_count": null,
   "metadata": {},
   "outputs": [],
   "source": [
    "def lum_weight_bin (V, VD, dVD, lum):\n",
    "    \n",
    "    bin_weighted_V_sq = lum * V**2\n",
    "    bin_weighted_VD_sq = lum * VD**2\n",
    "    bin_weighted_dVD_sq = lum * 2 * VD * dVD\n",
    "\n",
    "    return bin_weighted_V_sq, bin_weighted_VD_sq, bin_weighted_dVD_sq\n",
    "\n",
    "def lum_weight_V_sigma (V_array, VD_array, dVD_array, lum_array):\n",
    "    \n",
    "    assert (len(V_array)==len(VD_array)) & (len(V_array)==len(lum_array)) & (len(V_array)==len(dVD_array))\n",
    "    \n",
    "    V_sq = 0\n",
    "    VD_sq = 0\n",
    "    dVD_sq = 0\n",
    "    \n",
    "    for i in range(len(V_array)):\n",
    "        bin_V_sq, bin_VD_sq, bin_dVD_sq = lum_weight_bin(V_array[i], VD_array[i], dVD_array[i], lum_array[i])\n",
    "        V_sq += bin_V_sq\n",
    "        VD_sq += bin_VD_sq\n",
    "        dVD_sq += bin_dVD_sq\n",
    "    \n",
    "    V_sigma_sq = V_sq/VD_sq\n",
    "    V_sigma = np.sqrt(V_sigma_sq)\n",
    "    \n",
    "    VD_integrated_rms = np.sqrt(VD_sq/np.sum(lum_array))\n",
    "\n",
    "    dVD_int_rms = dVD_sq / (2 * np.sqrt(np.sum(lum_array) * VD_sq))\n",
    "    \n",
    "    return(V_sigma, VD_integrated_rms, dVD_int_rms) # this is integrated out to the edge of my data right now\n",
    "        "
   ]
  },
  {
   "cell_type": "code",
   "execution_count": 70,
   "metadata": {},
   "outputs": [],
   "source": [
    "# Define function to assign velocities to each pixel from their Voronoi bin, taking only those within the effective radius\n",
    "\n",
    "def calc_aperture_velocities_from_lum_weight_pixels (bin_arrays, V_array, VD_array, dVD_array, pixel_luminosities, reff):\n",
    "    \n",
    "    # normalize pixel luminosities\n",
    "    normalized_pixel_luminosities = pixel_luminosities/np.sum(pixel_luminosities)\n",
    "    \n",
    "    # create array for velocity of each pixel\n",
    "    pixel_Vs = np.zeros(len(pixel_luminosities))\n",
    "    pixel_VDs = np.zeros(len(pixel_luminosities))\n",
    "    pixel_dVDs = np.zeros(len(pixel_luminosities))\n",
    "    velocity_in_aperture = 0\n",
    "    \n",
    "    for i in range(num_bins):\n",
    "        # pixels in this bin\n",
    "        in_bin = bin_arrays[:,2]==i\n",
    "        bin_pixels = bin_arrays[in_bin]\n",
    "        # add velocity to the weighted_pixel_velocities\n",
    "        pixel_Vs[in_bin] = V_array[i]\n",
    "        pixel_VDs[in_bin] = VD_array[i]\n",
    "        pixel_dVDs[in_bin] = dVD_array[i]       \n",
    "        \n",
    "    # get radius of pixels\n",
    "    pixel_xx = bin_arrays[:,0] - 21 # subtract 21 pixels, center don't know which is x and which is y, but doesn't matter for R\n",
    "    pixel_yy = bin_arrays[:,1] - 21\n",
    "    # calculate radius of each pixel\n",
    "    pixel_radii = np.sqrt(pixel_xx[j]**2 + pixel_yy[j]**2)*0.1457 # arcsec\n",
    "    # if they are in the effective radius\n",
    "    in_aperture = (bin_R <= reff)\n",
    "    \n",
    "    # weight squared pixel velocities by pixel luminosity\n",
    "    lum_weighted_pixel_Vs_sq = pixel_Vs**2 * normalized_pixel_luminosities\n",
    "    lum_weighted_pixel_VDs_sq = pixel_VDs**2 * normalized_pixel_luminosities\n",
    "    lum_weighted_pixel_dVDs_sq = pixel_dVDs**2 * normalized_pixel_luminosities\n",
    "    \n",
    "    # take only those in the effective radius                                                    ################# bunch of this hasn't been worked out yet\n",
    "    lum_weighted_aperture_V = np.sqrt(np.sum(lum_weighted_pixel_Vs_sq[in_aperture]))\n",
    "    lum_weighted_aperture_VD = np.sqrt(np.sum(lum_weighted_pixel_VDs_sq[in_aperture]))\n",
    "    lum_weighted_aperture_dVD = np.sqrt(np.sum(lum_weighted_pixel_dVDs_sq[in_aperture]))\n",
    "    \n",
    "    return lum_weighted_aperture_V, lum_weighted_aperture_VD, lum_weighted_aperture_dVD"
   ]
  },
  {
   "cell_type": "code",
   "execution_count": 38,
   "metadata": {},
   "outputs": [
    {
     "name": "stdout",
     "output_type": "stream",
     "text": [
      "length before cutting... 193\n",
      "length after cutting... 187\n",
      "\n",
      "length before cutting... 303\n",
      "length after cutting... 281\n",
      "\n",
      "length before cutting... 12\n",
      "length after cutting... 7\n",
      "\n",
      "length before cutting... 18\n",
      "length after cutting... 18\n",
      "\n",
      "length before cutting... 99\n",
      "length after cutting... 84\n",
      "\n",
      "length before cutting... 65\n",
      "length after cutting... 53\n",
      "\n",
      "length before cutting... 64\n",
      "length after cutting... 64\n",
      "\n",
      "length before cutting... 108\n",
      "length after cutting... 108\n",
      "\n",
      "length before cutting... 39\n",
      "length after cutting... 39\n",
      "\n",
      "length before cutting... 45\n",
      "length after cutting... 34\n",
      "\n",
      "length before cutting... 37\n",
      "length after cutting... 37\n",
      "\n",
      "length before cutting... 71\n",
      "length after cutting... 66\n",
      "\n",
      "length before cutting... 52\n",
      "length after cutting... 48\n",
      "\n",
      "length before cutting... 54\n",
      "length after cutting... 54\n",
      "\n"
     ]
    },
    {
     "data": {
      "text/plain": [
       "(array([1., 5., 5., 0., 0., 1., 0., 0., 1., 1.]),\n",
       " array([0.04463938, 0.06829499, 0.0919506 , 0.11560621, 0.13926182,\n",
       "        0.16291743, 0.18657304, 0.21022864, 0.23388425, 0.25753986,\n",
       "        0.28119547]),\n",
       " <BarContainer object of 10 artists>)"
      ]
     },
     "execution_count": 38,
     "metadata": {},
     "output_type": "execute_result"
    },
    {
     "data": {
      "image/png": "[encoded data removed]",
      "text/plain": [
       "<Figure size 432x288 with 1 Axes>"
      ]
     },
     "metadata": {
      "needs_background": "light"
     },
     "output_type": "display_data"
    },
    {
     "data": {
      "image/png": "[encoded data removed]",
      "text/plain": [
       "<Figure size 432x288 with 1 Axes>"
      ]
     },
     "metadata": {
      "needs_background": "light"
     },
     "output_type": "display_data"
    }
   ],
   "source": [
    "# plug in the extra steps of doing the integral over luminosity weighted pixels instead of just the bins. Will be more spatially accurate as an aperture of radius reff\n",
    "\n",
    "#################################################\n",
    "# objects\n",
    "obj_names = ['SDSSJ0029-0055',\n",
    "             'SDSSJ0037-0942',\n",
    "             'SDSSJ0330-0020',\n",
    "             'SDSSJ1112+0826',\n",
    "             'SDSSJ1204+0358',\n",
    "             'SDSSJ1250+0523',\n",
    "             'SDSSJ1306+0600',\n",
    "             'SDSSJ1402+6321',\n",
    "             'SDSSJ1531-0105',\n",
    "             'SDSSJ1538+5817',\n",
    "             'SDSSJ1621+3931',\n",
    "             'SDSSJ1627-0053',\n",
    "             'SDSSJ1630+4520',\n",
    "             'SDSSJ2303+1422'\n",
    "            ]\n",
    "\n",
    "V_sigmas_bin_method = np.zeros(len(obj_names))\n",
    "lambda_Rs_bin_method = np.zeros(len(obj_names))\n",
    "VD_ap_int_rms_bin_method = np.zeros(len(obj_names))\n",
    "dVD_ap_int_rms_bin_method = np.zeros(len(obj_names))\n",
    "\n",
    "V_sigmas_pixel_method = np.zeros(len(obj_names))\n",
    "lambda_Rs_pixel_method = np.zeros(len(obj_names))\n",
    "VD_ap_int_rms_pixel_method = np.zeros(len(obj_names))\n",
    "dVD_ap_int_rms_pixel_method = np.zeros(len(obj_names))\n",
    "\n",
    "b=0\n",
    "\n",
    "for obj_name in obj_names:\n",
    "       \n",
    "    #################\n",
    "    # set up directories\n",
    "    obj_abbr = obj_name[4:9] # e.g. J0029\n",
    "    # data directory\n",
    "    data_dir = '/data/raw_data/KECK_KCWI_SLACS_kinematics_shawn/'\n",
    "    # object directory\n",
    "    dir = f'{data_dir}mosaics/{obj_name}/'\n",
    "    #KCWI mosaic datacube\n",
    "    name = f'KCWI_{obj_abbr}_icubes_mosaic_0.1457'\n",
    "    save_dir = f'{dir}{obj_name}_systematics/'\n",
    "\n",
    "    #################\n",
    "    # get velocity and bin data \n",
    "    VD=np.genfromtxt(f'{dir}{obj_name}_final_kinematics/{obj_name}_VD_binned.txt',\n",
    "             delimiter=',')\n",
    "    VD_cov = np.genfromtxt(f'{dir}{obj_name}_final_kinematics/{obj_name}_covariance_matrix_VD.txt',\n",
    "                     delimiter=',')\n",
    "    dVD = np.sqrt(np.diagonal(VD_cov))\n",
    "    V=np.genfromtxt(f'{dir}{obj_name}_final_kinematics/{obj_name}_V_binned.txt',\n",
    "                     delimiter=',')\n",
    "    # subtract the mean V\n",
    "    V = V - np.mean(V)\n",
    "    # import voronoi binning data (#bins, 5215), spectrum for each bin\n",
    "    voronoi_binning_data = fits.getdata(dir +'voronoi_binning_' + name + '_data.fits')\n",
    "    num_bins = len(voronoi_binning_data)\n",
    "    # import pixel data for bins\n",
    "    vorbin_pixels = np.genfromtxt(f'{dir}voronoi_2d_binning_{name}_output.txt',\n",
    "                 delimiter='')\n",
    "    \n",
    "    #################\n",
    "    # sum each bin across all wavelengths to get bin luminosities\n",
    "    bin_luminosities = np.zeros(len(V))\n",
    "    for i in range(len(V)):\n",
    "        lum = np.sum(voronoi_binning_data[i])\n",
    "        bin_luminosities[i] = lum\n",
    "        \n",
    "\n",
    "    #################\n",
    "    # get mean R for each bin by pixel positions\n",
    "    short_name = obj_name[4:]\n",
    "    R = calc_R (vorbin_pixels, len(V))\n",
    "    print(f'length before cutting... {len(R)}')\n",
    "    effective_radius = reffs[b]\n",
    "    condition = R < effective_radius\n",
    "    R = R[condition]\n",
    "    V = V[condition]\n",
    "    VD = VD[condition]\n",
    "    dVD = dVD[condition]\n",
    "    bin_luminosities = bin_luminosities[condition]\n",
    "    print(f'length after cutting... {len(R)}')\n",
    "    print()\n",
    "\n",
    "    #################\n",
    "    # calculate V_sigma\n",
    "    V_sigmas_bin_method[b], VD_ap_int_rms_bin_method[b], dVD_ap_int_rms_bin_method[b] = lum_weight_V_sigma ( V, VD, dVD, bin_luminosities )\n",
    "    # calculate lambda_R\n",
    "    lambda_Rs_bin_method[b] = calc_lambda_R (V, VD, R, bin_luminosities)\n",
    "    \n",
    "    ###########################################\n",
    "    # Now second method\n",
    "    ###########################################\n",
    "    \n",
    "    # bring in cropped datacube and sum across wavelengths\n",
    "    file = f'{dir}KCWI_{obj_abbr}_icubes_mosaic_0.1457_crop.fits'\n",
    "    datacube = fits.open(file)[0].data\n",
    "    summed_datacube = np.nansum(datacube, axis=0)\n",
    "    normalized_summed_datacube = summed_datacube/np.sum(summed_datacube)\n",
    "    \n",
    "    # get effective radius\n",
    "    if obj_name == 'SDSSJ1306+0600':\n",
    "        reff = 2.30\n",
    "    else:    \n",
    "        # get reff from slacs table\n",
    "        slacs_table = np.genfromtxt(f'{data_dir}slacs_tableA1.txt', delimiter='', dtype='U10')\n",
    "        slacs_table_name = obj_name[4:]\n",
    "        slacs_reffs = slacs_table[:,7].astype(float)\n",
    "        reff = slacs_reffs[slacs_table[:,0]==slacs_table_name]\n",
    "        \n",
    "    # calculate pixel luminosities\n",
    "    pixel_luminosities = np.zeros(len(vorbin_pixels))\n",
    "    for i in range(len(vorbin_pixels)):\n",
    "        x = int(vorbin_pixels[i,0])\n",
    "        y = int(vorbin_pixels[i,1])\n",
    "        pixel_luminosity = summed_datacube[y,x]\n",
    "        pixel_luminosities[i] = pixel_luminosity\n",
    "\n",
    "    # calculate luminosity weights for each bin contribution to the integrated velocities within the effective radius\n",
    "    shells=[1.]\n",
    "    luminosity_weights = calc_luminosity_weights_in_shells(vorbin_pixels, num_bins, bin_luminosities, pixel_luminosities, shells, reff)\n",
    "    \n",
    "    # calculate the luminosity-weighted mean V and VD for the aperture within the effective radius\n",
    "    sum_lum_weights = np.sum(luminosity_weights, axis=0) # sum over the weights for the normalization\n",
    "    normalized_lum_weights = luminosity_weights / sum_lum_weights\n",
    "    \n",
    "    # calculate V_sigma\n",
    "    V_sigmas_pixel_method[b], VD_ap_int_rms_pixel_method[b], dVD_ap_int_rms_pixel_method[b] = lum_weight_V_sigma ( V, VD, dVD, normalized_lum_weights )\n",
    "    # calculate lambda_R\n",
    "    lambda_Rs_pixel_method[b] = calc_lambda_R (V, VD, R, bin_luminosities)\n",
    "\n",
    "    \n",
    "plt.figure()    \n",
    "plt.hist(V_sigmas)\n",
    "plt.figure()\n",
    "plt.hist(lambda_Rs)\n"
   ]
  },
  {
   "cell_type": "code",
   "execution_count": 467,
   "metadata": {},
   "outputs": [
    {
     "data": {
      "text/plain": [
       "'/data/raw_data/KECK_KCWI_SLACS_kinematics_shawn/mosaics/SDSSJ2303+1422/SDSSJ2303+1422_systematics/'"
      ]
     },
     "execution_count": 467,
     "metadata": {},
     "output_type": "execute_result"
    }
   ],
   "source": [
    "save_dir"
   ]
  },
  {
   "cell_type": "code",
   "execution_count": 39,
   "metadata": {},
   "outputs": [],
   "source": [
    "V_sigmas = V_sigmas[ellipticities > 0]\n",
    "lambda_Rs = lambda_Rs[ellipticities > 0]\n",
    "ellipticities = ellipticities[ellipticities > 0]"
   ]
  },
  {
   "cell_type": "code",
   "execution_count": 40,
   "metadata": {},
   "outputs": [
    {
     "name": "stderr",
     "output_type": "stream",
     "text": [
      "/usr/local/anaconda3/lib/python3.7/site-packages/ipykernel_launcher.py:15: RuntimeWarning: invalid value encountered in double_scalars\n",
      "  from ipykernel import kernelapp as app\n",
      "/usr/local/anaconda3/lib/python3.7/site-packages/ipykernel_launcher.py:12: RuntimeWarning: divide by zero encountered in double_scalars\n",
      "  if sys.path[0] == '':\n",
      "/usr/local/anaconda3/lib/python3.7/site-packages/ipykernel_launcher.py:6: RuntimeWarning: invalid value encountered in double_scalars\n",
      "  \n"
     ]
    },
    {
     "data": {
      "image/png": "[encoded data removed]",
      "text/plain": [
       "<Figure size 576x576 with 1 Axes>"
      ]
     },
     "metadata": {
      "needs_background": "light"
     },
     "output_type": "display_data"
    },
    {
     "data": {
      "image/png": "[encoded data removed]",
      "text/plain": [
       "<Figure size 576x576 with 1 Axes>"
      ]
     },
     "metadata": {
      "needs_background": "light"
     },
     "output_type": "display_data"
    }
   ],
   "source": [
    "# plot the V_sigma and lambda_R to ellipticities\n",
    "\n",
    "\n",
    "epsilons = np.linspace(0.0,1.0,100)\n",
    "V_sigmas_iso = np.zeros(100)\n",
    "lambda_Rs_iso = np.zeros(100)\n",
    "\n",
    "i=0\n",
    "for epsilon in epsilons:\n",
    "    V_sigma = calc_isotropic_V_sigma(epsilon)\n",
    "    V_sigmas_iso[i] = V_sigma\n",
    "    lambda_Rs_iso[i] = calc_Vsig_to_lamR(V_sigma)\n",
    "    i = i+1\n",
    "\n",
    "\n",
    "plt.figure(figsize=(8,8))\n",
    "plt.xlim(0.0,1.0)\n",
    "plt.ylim(0.0,1.0)\n",
    "plt.plot(epsilons, V_sigmas_iso, \n",
    "         c='limegreen',linewidth=4,zorder=-1,\n",
    "        label='isotropic rotator')\n",
    "plt.plot(epsilons, 1/3 * V_sigmas_iso, \n",
    "         c='magenta',linewidth=4,zorder=-1,\n",
    "        label=r'1/3 $\\times$ isotropic')\n",
    "plt.scatter(ellipticities, V_sigmas, s=100)\n",
    "plt.xlabel(r'$\\epsilon$',fontsize=16)\n",
    "plt.ylabel(r'$V/\\sigma$',fontsize=16)\n",
    "plt.legend()\n",
    "plt.savefig(f'{data_dir}mosaics/kinematic_class_vsigma.png')\n",
    "plt.savefig(f'{data_dir}mosaics/kinematic_class_vsigma.pdf')\n",
    "\n",
    "\n",
    "plt.figure(figsize=(8,8))\n",
    "plt.xlim(0.0,1.0)\n",
    "plt.ylim(0.0,1.0)\n",
    "plt.plot(epsilons, lambda_Rs_iso, c='limegreen',linewidth=4,zorder=-1)\n",
    "plt.plot(epsilons, 1/3 * lambda_Rs_iso, c='magenta',linewidth=4,zorder=-1)\n",
    "plt.plot([0.0, 0.4],[0.08, 0.08+0.4/4],\n",
    "         linestyle='-',c='k',linewidth=4,zorder=-1)\n",
    "plt.plot([0.4, 0.4],[0.0, 0.08+0.4/4],\n",
    "         linestyle='-',c='k',linewidth=4,zorder=-1,\n",
    "        label=r'$\\lambda_R = 0.08 + \\epsilon/4$')\n",
    "plt.scatter(ellipticities, lambda_Rs, s=100)\n",
    "plt.xlabel(r'$\\epsilon$',fontsize=16)\n",
    "plt.ylabel(r'$\\lambda_R$',fontsize=16)\n",
    "plt.legend()\n",
    "plt.savefig(f'{data_dir}mosaics/kinematic_class_lambdar.png')\n",
    "plt.savefig(f'{data_dir}mosaics/kinematic_class_lambdar.pdf')"
   ]
  },
  {
   "cell_type": "code",
   "execution_count": 41,
   "metadata": {},
   "outputs": [],
   "source": [
    "#obj_names_a = np.array(obj_names)\n",
    "#obj_names_a = np.delete(obj_names_a, 6)"
   ]
  },
  {
   "cell_type": "code",
   "execution_count": 43,
   "metadata": {},
   "outputs": [],
   "source": [
    "#obj_names_a[lambda_Rs>0.17]"
   ]
  },
  {
   "cell_type": "code",
   "execution_count": 44,
   "metadata": {},
   "outputs": [
    {
     "data": {
      "text/plain": [
       "array([0.1777557 , 0.28119547, 0.25352513])"
      ]
     },
     "execution_count": 44,
     "metadata": {},
     "output_type": "execute_result"
    }
   ],
   "source": [
    "lambda_Rs[lambda_Rs>0.17]"
   ]
  },
  {
   "cell_type": "code",
   "execution_count": 45,
   "metadata": {},
   "outputs": [
    {
     "data": {
      "text/plain": [
       "array([0.10038901, 0.1777557 , 0.07339927, 0.28119547, 0.07030964,\n",
       "       0.09800887, 0.10822951, 0.10100174, 0.08074321, 0.04463938,\n",
       "       0.25352513, 0.07437719, 0.10584494, 0.08089614])"
      ]
     },
     "execution_count": 45,
     "metadata": {},
     "output_type": "execute_result"
    }
   ],
   "source": [
    "lambda_Rs"
   ]
  },
  {
   "cell_type": "code",
   "execution_count": 46,
   "metadata": {},
   "outputs": [
    {
     "data": {
      "text/plain": [
       "array([0.16 , 0.27 , 0.23 , 0.23 , 0.03 , 0.03 , 0.091, 0.23 , 0.32 ,\n",
       "       0.18 , 0.27 , 0.15 , 0.16 , 0.36 ])"
      ]
     },
     "execution_count": 46,
     "metadata": {},
     "output_type": "execute_result"
    }
   ],
   "source": [
    "ellipticities"
   ]
  },
  {
   "cell_type": "code",
   "execution_count": 47,
   "metadata": {},
   "outputs": [
    {
     "data": {
      "text/plain": [
       "['SDSSJ0029-0055',\n",
       " 'SDSSJ0037-0942',\n",
       " 'SDSSJ0330-0020',\n",
       " 'SDSSJ1112+0826',\n",
       " 'SDSSJ1204+0358',\n",
       " 'SDSSJ1250+0523',\n",
       " 'SDSSJ1306+0600',\n",
       " 'SDSSJ1402+6321',\n",
       " 'SDSSJ1531-0105',\n",
       " 'SDSSJ1538+5817',\n",
       " 'SDSSJ1621+3931',\n",
       " 'SDSSJ1627-0053',\n",
       " 'SDSSJ1630+4520',\n",
       " 'SDSSJ2303+1422']"
      ]
     },
     "execution_count": 47,
     "metadata": {},
     "output_type": "execute_result"
    }
   ],
   "source": [
    "obj_names"
   ]
  },
  {
   "cell_type": "code",
   "execution_count": 425,
   "metadata": {},
   "outputs": [],
   "source": [
    "# Get the SDSS sigma (not corrected)"
   ]
  },
  {
   "cell_type": "code",
   "execution_count": 48,
   "metadata": {},
   "outputs": [
    {
     "data": {
      "text/plain": [
       "array([229., 279., 212., 320., 267., 252.,   0., 267., 279., 189., 236.,\n",
       "       290., 276., 255.])"
      ]
     },
     "execution_count": 48,
     "metadata": {},
     "output_type": "execute_result"
    }
   ],
   "source": [
    "sdss_sigmas"
   ]
  },
  {
   "cell_type": "code",
   "execution_count": 49,
   "metadata": {},
   "outputs": [
    {
     "data": {
      "text/plain": [
       "array([199.36699242, 259.19827888, 227.74603688, 255.24973187,\n",
       "       246.69221146, 228.07360863, 224.65994837, 266.47704382,\n",
       "       254.15471111, 228.4114471 , 241.51338048, 254.50388677,\n",
       "       250.2633312 , 244.37378391])"
      ]
     },
     "execution_count": 49,
     "metadata": {},
     "output_type": "execute_result"
    }
   ],
   "source": [
    "VD_ap_int_rms"
   ]
  },
  {
   "cell_type": "code",
   "execution_count": 50,
   "metadata": {},
   "outputs": [
    {
     "data": {
      "image/png": "[encoded data removed]",
      "text/plain": [
       "<Figure size 432x288 with 1 Axes>"
      ]
     },
     "metadata": {
      "needs_background": "light"
     },
     "output_type": "display_data"
    }
   ],
   "source": [
    "plt.figure()\n",
    "plt.errorbar(range(len(sdss_sigmas)), sdss_sigmas, sdss_sigmas_err, c='k', linestyle='', marker='o', label='SLACS V - Bolton et al. 2008')\n",
    "plt.errorbar(range(len(sdss_sigmas)), VD_ap_int_rms, dVD_ap_int_rms, c='b', linestyle='', marker='o', label='KCWI integrated')\n",
    "plt.ylim(150, 350)\n",
    "plt.legend()\n",
    "plt.xticks(range(14),labels=obj_names, rotation=90)\n",
    "plt.ylabel(r'$\\sigma$ km/s')\n",
    "plt.tight_layout()\n",
    "plt.savefig(f'{data_dir}mosaics/integrated_sigma_vs_slacs.png')\n",
    "plt.savefig(f'{data_dir}mosaics/integrated_sigma_vs_slacs.pdf')"
   ]
  },
  {
   "cell_type": "code",
   "execution_count": null,
   "metadata": {},
   "outputs": [],
   "source": [
    "# combine info for a table"
   ]
  },
  {
   "cell_type": "code",
   "execution_count": 51,
   "metadata": {},
   "outputs": [
    {
     "data": {
      "text/plain": [
       "array([199.367, 259.198, 227.746, 255.25 , 246.692, 228.074, 224.66 ,\n",
       "       266.477, 254.155, 228.411, 241.513, 254.504, 250.263, 244.374])"
      ]
     },
     "execution_count": 51,
     "metadata": {},
     "output_type": "execute_result"
    }
   ],
   "source": [
    "np.set_printoptions(precision=3, suppress=True)\n",
    "\n",
    "VD_ap_int_rms"
   ]
  },
  {
   "cell_type": "code",
   "execution_count": 53,
   "metadata": {},
   "outputs": [],
   "source": [
    "table = np.vstack((VD_ap_int_rms, dVD_ap_int_rms, sdss_sigmas, sdss_sigmas_err, ellipticities, V_sigmas, lambda_Rs))\n",
    "df = pd.DataFrame(table.T)\n",
    "df.insert(0, 'obj_names', obj_names, True)\n",
    "#df.to_numpy()"
   ]
  },
  {
   "cell_type": "code",
   "execution_count": 54,
   "metadata": {},
   "outputs": [],
   "source": [
    "def bmatrix(a, b):\n",
    "    \"\"\"Returns a LaTeX bmatrix\n",
    "\n",
    "    :a: numpy array\n",
    "    :returns: LaTeX bmatrix as a string\n",
    "    \"\"\"\n",
    "    if len(a.shape) > 2:\n",
    "        raise ValueError('bmatrix can at most display two dimensions')\n",
    "    lines = str(a).replace('[', '').replace(']', '').splitlines()\n",
    "    rv = [r'\\begin{bmatrix}']\n",
    "    rv += [b[i] + ' & ' + ' & '.join(lines[i].split()) + r'\\\\' for i in range(len(lines))]\n",
    "    rv +=  [r'\\end{bmatrix}']\n",
    "    return '\\n'.join(rv)"
   ]
  },
  {
   "cell_type": "code",
   "execution_count": 55,
   "metadata": {},
   "outputs": [
    {
     "name": "stdout",
     "output_type": "stream",
     "text": [
      "\\begin{bmatrix}\n",
      "SDSSJ0029-0055 & 199.367 & 13.881 & 229. & 18. & 0.16 & 0.107 & 0.1\\\\\n",
      "SDSSJ0037-0942 & 259.198 & 12.98 & 279. & 14. & 0.27 & 0.176 & 0.178\\\\\n",
      "SDSSJ0330-0020 & 227.746 & 13.121 & 212. & 21. & 0.23 & 0.094 & 0.073\\\\\n",
      "SDSSJ1112+0826 & 255.25 & 6.799 & 320. & 20. & 0.23 & 0.283 & 0.281\\\\\n",
      "SDSSJ1204+0358 & 246.692 & 8.316 & 267. & 17. & 0.03 & 0.078 & 0.07\\\\\n",
      "SDSSJ1250+0523 & 228.074 & 6.552 & 252. & 14. & 0.03 & 0.097 & 0.098\\\\\n",
      "SDSSJ1306+0600 & 224.66 & 14.157 & 0. & 0. & 0.091 & 0.11 & 0.108\\\\\n",
      "SDSSJ1402+6321 & 266.477 & 9.517 & 267. & 17. & 0.23 & 0.097 & 0.101\\\\\n",
      "SDSSJ1531-0105 & 254.155 & 18.07 & 279. & 14. & 0.32 & 0.08 & 0.081\\\\\n",
      "SDSSJ1538+5817 & 228.411 & 9.362 & 189. & 12. & 0.18 & 0.056 & 0.045\\\\\n",
      "SDSSJ1621+3931 & 241.513 & 12.678 & 236. & 20. & 0.27 & 0.241 & 0.254\\\\\n",
      "SDSSJ1627-0053 & 254.504 & 19.166 & 290. & 15. & 0.15 & 0.086 & 0.074\\\\\n",
      "SDSSJ1630+4520 & 250.263 & 9.64 & 276. & 16. & 0.16 & 0.107 & 0.106\\\\\n",
      "SDSSJ2303+1422 & 244.374 & 16.478 & 255. & 16. & 0.36 & 0.083 & 0.081\\\\\n",
      "\\end{bmatrix}\n"
     ]
    }
   ],
   "source": [
    "print(bmatrix(table.T, obj_names))"
   ]
  },
  {
   "cell_type": "code",
   "execution_count": 57,
   "metadata": {},
   "outputs": [
    {
     "name": "stdout",
     "output_type": "stream",
     "text": [
      "SDSSJ0029-0055\n",
      "s s\n",
      "\n",
      "SDSSJ0037-0942\n",
      "f f\n",
      "\n",
      "SDSSJ0330-0020\n",
      "s s\n",
      "\n",
      "SDSSJ1112+0826\n",
      "f f\n",
      "\n",
      "SDSSJ1204+0358\n",
      "f s\n",
      "\n",
      "SDSSJ1250+0523\n",
      "f f\n",
      "\n",
      "SDSSJ1306+0600\n",
      "f f\n",
      "\n",
      "SDSSJ1402+6321\n",
      "s s\n",
      "\n",
      "SDSSJ1531-0105\n",
      "s s\n",
      "\n",
      "SDSSJ1538+5817\n",
      "s s\n",
      "\n",
      "SDSSJ1621+3931\n",
      "f f\n",
      "\n",
      "SDSSJ1627-0053\n",
      "s s\n",
      "\n",
      "SDSSJ1630+4520\n",
      "s s\n",
      "\n",
      "SDSSJ2303+1422\n",
      "s s\n",
      "\n"
     ]
    }
   ],
   "source": [
    "# classification according to the Cappellari paper\n",
    "\n",
    "V_sig_class = np.empty(14, dtype=str)\n",
    "lam_R_class = np.empty(14, dtype=str)\n",
    "\n",
    "for i in range(14):\n",
    "    \n",
    "    print(obj_names[i])\n",
    "    \n",
    "    V_sig = V_sigmas[i]\n",
    "    lam_R = lambda_Rs[i]\n",
    "    ellip = ellipticities[i]\n",
    "    \n",
    "    V_sig_bound = calc_isotropic_V_sigma(ellip) / 3\n",
    "    lam_R_bound = 0.08 + ellip/4\n",
    "    \n",
    "    if (V_sig < V_sig_bound):\n",
    "        V_sig_class[i] = 'slow'\n",
    "    elif (V_sig > V_sig_bound):\n",
    "        V_sig_class[i] = 'fast'\n",
    "    \n",
    "    if (lam_R < lam_R_bound):\n",
    "        lam_R_class[i] = 'slow'\n",
    "    elif (lam_R > lam_R_bound):\n",
    "        lam_R_class[i] = 'fast'\n",
    "        \n",
    "    print(V_sig_class[i], lam_R_class[i])\n",
    "    \n",
    "    print()"
   ]
  },
  {
   "cell_type": "code",
   "execution_count": 58,
   "metadata": {},
   "outputs": [
    {
     "data": {
      "text/plain": [
       "array(['s', 'f', 's', 'f', 'f', 'f', 'f', 's', 's', 's', 'f', 's', 's',\n",
       "       's'], dtype='<U1')"
      ]
     },
     "execution_count": 58,
     "metadata": {},
     "output_type": "execute_result"
    }
   ],
   "source": [
    "V_sig_class"
   ]
  },
  {
   "cell_type": "code",
   "execution_count": 59,
   "metadata": {},
   "outputs": [
    {
     "data": {
      "text/plain": [
       "array(['s', 'f', 's', 'f', 's', 'f', 'f', 's', 's', 's', 'f', 's', 's',\n",
       "       's'], dtype='<U1')"
      ]
     },
     "execution_count": 59,
     "metadata": {},
     "output_type": "execute_result"
    }
   ],
   "source": [
    "lam_R_class"
   ]
  },
  {
   "cell_type": "code",
   "execution_count": 60,
   "metadata": {},
   "outputs": [],
   "source": [
    "def bmatrix(a, b, c, d):\n",
    "    \"\"\"Returns a LaTeX bmatrix\n",
    "\n",
    "    :a: numpy array\n",
    "    :returns: LaTeX bmatrix as a string\n",
    "    \"\"\"\n",
    "    if len(a.shape) > 2:\n",
    "        raise ValueError('bmatrix can at most display two dimensions')\n",
    "    lines = str(a).replace('[', '').replace(']', '').splitlines()\n",
    "    rv = [r'\\begin{bmatrix}']\n",
    "    rv += [b[i] + ' & ' + ' & '.join(lines[i].split()) + ' & ' + c[i] + ' & ' + d[i] + r'\\\\' for i in range(len(lines))]\n",
    "    rv +=  [r'\\end{bmatrix}']\n",
    "    return '\\n'.join(rv)"
   ]
  },
  {
   "cell_type": "code",
   "execution_count": 61,
   "metadata": {},
   "outputs": [
    {
     "name": "stdout",
     "output_type": "stream",
     "text": [
      "\\begin{bmatrix}\n",
      "SDSSJ0029-0055 & 199.367 & 13.881 & 229. & 18. & 0.16 & 0.107 & 0.1 & s & s\\\\\n",
      "SDSSJ0037-0942 & 259.198 & 12.98 & 279. & 14. & 0.27 & 0.176 & 0.178 & f & f\\\\\n",
      "SDSSJ0330-0020 & 227.746 & 13.121 & 212. & 21. & 0.23 & 0.094 & 0.073 & s & s\\\\\n",
      "SDSSJ1112+0826 & 255.25 & 6.799 & 320. & 20. & 0.23 & 0.283 & 0.281 & f & f\\\\\n",
      "SDSSJ1204+0358 & 246.692 & 8.316 & 267. & 17. & 0.03 & 0.078 & 0.07 & f & s\\\\\n",
      "SDSSJ1250+0523 & 228.074 & 6.552 & 252. & 14. & 0.03 & 0.097 & 0.098 & f & f\\\\\n",
      "SDSSJ1306+0600 & 224.66 & 14.157 & 0. & 0. & 0.091 & 0.11 & 0.108 & f & f\\\\\n",
      "SDSSJ1402+6321 & 266.477 & 9.517 & 267. & 17. & 0.23 & 0.097 & 0.101 & s & s\\\\\n",
      "SDSSJ1531-0105 & 254.155 & 18.07 & 279. & 14. & 0.32 & 0.08 & 0.081 & s & s\\\\\n",
      "SDSSJ1538+5817 & 228.411 & 9.362 & 189. & 12. & 0.18 & 0.056 & 0.045 & s & s\\\\\n",
      "SDSSJ1621+3931 & 241.513 & 12.678 & 236. & 20. & 0.27 & 0.241 & 0.254 & f & f\\\\\n",
      "SDSSJ1627-0053 & 254.504 & 19.166 & 290. & 15. & 0.15 & 0.086 & 0.074 & s & s\\\\\n",
      "SDSSJ1630+4520 & 250.263 & 9.64 & 276. & 16. & 0.16 & 0.107 & 0.106 & s & s\\\\\n",
      "SDSSJ2303+1422 & 244.374 & 16.478 & 255. & 16. & 0.36 & 0.083 & 0.081 & s & s\\\\\n",
      "\\end{bmatrix}\n"
     ]
    }
   ],
   "source": [
    "print(bmatrix(table.T, obj_names, V_sig_class, lam_R_class))"
   ]
  },
  {
   "cell_type": "code",
   "execution_count": 62,
   "metadata": {},
   "outputs": [],
   "source": [
    "# plot fast and slow on the vsig and lamr plots"
   ]
  },
  {
   "cell_type": "code",
   "execution_count": 63,
   "metadata": {},
   "outputs": [],
   "source": [
    "slow1 = V_sig_class == 's'\n",
    "fast1 = V_sig_class == 'f'\n",
    "slow2 = lam_R_class == 's'\n",
    "fast2 = lam_R_class == 'f'\n",
    "\n",
    "eps_slow1 = ellipticities[slow1]\n",
    "V_sigmas_slow = V_sigmas[slow1]\n",
    "eps_fast1 = ellipticities[fast1]\n",
    "V_sigmas_fast = V_sigmas[fast1]\n",
    "\n",
    "eps_slow2 = ellipticities[slow2]\n",
    "lambda_Rs_slow = lambda_Rs[slow2]\n",
    "eps_fast2 = ellipticities[fast2]\n",
    "lambda_Rs_fast = lambda_Rs[fast2]"
   ]
  },
  {
   "cell_type": "code",
   "execution_count": 69,
   "metadata": {},
   "outputs": [
    {
     "data": {
      "image/png": "[encoded data removed]",
      "text/plain": [
       "<Figure size 576x576 with 1 Axes>"
      ]
     },
     "metadata": {
      "needs_background": "light"
     },
     "output_type": "display_data"
    },
    {
     "data": {
      "image/png": "[encoded data removed]",
      "text/plain": [
       "<Figure size 576x576 with 1 Axes>"
      ]
     },
     "metadata": {
      "needs_background": "light"
     },
     "output_type": "display_data"
    }
   ],
   "source": [
    "# plot the V_sigma and lambda_R to ellipticities\n",
    "\n",
    "plt.figure(figsize=(8,8))\n",
    "plt.xlim(0.0,1.0)\n",
    "plt.ylim(0.0,1.0)\n",
    "plt.plot(epsilons, V_sigmas_iso, \n",
    "         c='limegreen',linewidth=4,zorder=-1,\n",
    "        label='isotropic rotator')\n",
    "plt.plot(epsilons, 1/3 * V_sigmas_iso, \n",
    "         c='magenta',linewidth=4,zorder=-1,\n",
    "        label=r'1/3 $\\times$ isotropic')\n",
    "plt.scatter(eps_slow1, V_sigmas_slow, s=150, c='r', label='slow rotator')\n",
    "plt.scatter(eps_fast1, V_sigmas_fast, s=200, c='b', marker='$\\Phi$', label='fast rotator')\n",
    "plt.xlabel(r'$\\epsilon$',fontsize=16)\n",
    "plt.ylabel(r'$V/\\sigma$',fontsize=16)\n",
    "plt.legend()\n",
    "plt.savefig(f'{data_dir}mosaics/kinematic_class_vsigma.png')\n",
    "plt.savefig(f'{data_dir}mosaics/kinematic_class_vsigma.pdf')\n",
    "\n",
    "\n",
    "plt.figure(figsize=(8,8))\n",
    "plt.xlim(0.0,1.0)\n",
    "plt.ylim(0.0,1.0)\n",
    "plt.plot(epsilons, lambda_Rs_iso, c='limegreen',linewidth=4,zorder=-1)\n",
    "plt.plot(epsilons, 1/3 * lambda_Rs_iso, c='magenta',linewidth=4,zorder=-1)\n",
    "plt.plot([0.0, 0.4],[0.08, 0.08+0.4/4],\n",
    "         linestyle='-',c='k',linewidth=4,zorder=-1)\n",
    "plt.plot([0.4, 0.4],[0.0, 0.08+0.4/4],\n",
    "         linestyle='-',c='k',linewidth=4,zorder=-1,\n",
    "        label=r'$\\lambda_R = 0.08 + \\epsilon/4$')\n",
    "plt.scatter(eps_slow2, lambda_Rs_slow, s=150, c='r', label='slow rotator')\n",
    "plt.scatter(eps_fast2, lambda_Rs_fast, s=200, c='b', marker='$\\Phi$', label='fast rotator')\n",
    "plt.xlabel(r'$\\epsilon$',fontsize=16)\n",
    "plt.ylabel(r'$\\lambda_R$',fontsize=16)\n",
    "plt.legend()\n",
    "plt.savefig(f'{data_dir}mosaics/kinematic_class_lambdar.png')\n",
    "plt.savefig(f'{data_dir}mosaics/kinematic_class_lambdar.pdf')"
   ]
  }
 ],
 "metadata": {
  "kernelspec": {
   "display_name": "Python 3",
   "language": "python",
   "name": "python3"
  },
  "language_info": {
   "codemirror_mode": {
    "name": "ipython",
    "version": 3
   },
   "file_extension": ".py",
   "mimetype": "text/x-python",
   "name": "python",
   "nbconvert_exporter": "python",
   "pygments_lexer": "ipython3",
   "version": "3.7.0"
  }
 },
 "nbformat": 4,
 "nbformat_minor": 5
}
