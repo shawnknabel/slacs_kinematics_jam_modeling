{
 "cells": [
  {
   "cell_type": "markdown",
   "metadata": {},
   "source": [
    "# 02/26/23 - This notebook takes the individual inputs necessary for use in a master ppxf script that will access them and do it iteratively, so I don't have to run every single object separately.\n",
    "## Will be saved to a csv file."
   ]
  },
  {
   "cell_type": "code",
   "execution_count": 41,
   "metadata": {},
   "outputs": [],
   "source": [
    "import numpy as np\n",
    "import pandas as pd"
   ]
  },
  {
   "cell_type": "code",
   "execution_count": 74,
   "metadata": {},
   "outputs": [],
   "source": [
    "# data directory\n",
    "data_dir = '/data/raw_data/KECK_KCWI_SLACS_kinematics_shawn/'\n",
    "tables_dir = f'{data_dir}tables/'\n",
    "mosaics_dir = f'{data_dir}mosaics/'\n",
    "kinematics_dir = f'{data_dir}kinematics/'"
   ]
  },
  {
   "cell_type": "code",
   "execution_count": 42,
   "metadata": {},
   "outputs": [],
   "source": [
    "df = pd.DataFrame(columns=['obj_name',\n",
    "                           'z',\n",
    "                           'zbs',\n",
    "                           'T_exp',\n",
    "                          'center_x',\n",
    "                          'center_y',\n",
    "                          'wave_min',\n",
    "                          'wave_max',\n",
    "                          ]\n",
    "                 )"
   ]
  },
  {
   "cell_type": "markdown",
   "metadata": {},
   "source": [
    "Take each object in turn"
   ]
  },
  {
   "cell_type": "markdown",
   "metadata": {},
   "source": [
    "______________________"
   ]
  },
  {
   "cell_type": "code",
   "execution_count": 43,
   "metadata": {},
   "outputs": [],
   "source": [
    "obj_name = 'SDSSJ0029-0055'\n",
    "obj_abbr = obj_name[4:9] # e.g. J0029\n",
    "z = 0.227 # lens redshift\n",
    "T_exp = 1800*5 # exposure time in seconds... this is where I made the disastrous mistake\n",
    "lens_center_x,lens_center_y = 61, 129\n",
    "wave_min = 320\n",
    "wave_max = 430\n",
    "\n",
    "df.loc[0] = [obj_name,\n",
    "             z,\n",
    "             0,\n",
    "             T_exp,\n",
    "             lens_center_x,\n",
    "             lens_center_y,\n",
    "             wave_min,\n",
    "             wave_max]"
   ]
  },
  {
   "cell_type": "code",
   "execution_count": 44,
   "metadata": {},
   "outputs": [
    {
     "data": {
      "text/html": [
       "<div>\n",
       "<style scoped>\n",
       "    .dataframe tbody tr th:only-of-type {\n",
       "        vertical-align: middle;\n",
       "    }\n",
       "\n",
       "    .dataframe tbody tr th {\n",
       "        vertical-align: top;\n",
       "    }\n",
       "\n",
       "    .dataframe thead th {\n",
       "        text-align: right;\n",
       "    }\n",
       "</style>\n",
       "<table border=\"1\" class=\"dataframe\">\n",
       "  <thead>\n",
       "    <tr style=\"text-align: right;\">\n",
       "      <th></th>\n",
       "      <th>obj_name</th>\n",
       "      <th>z</th>\n",
       "      <th>zbs</th>\n",
       "      <th>T_exp</th>\n",
       "      <th>center_x</th>\n",
       "      <th>center_y</th>\n",
       "      <th>wave_min</th>\n",
       "      <th>wave_max</th>\n",
       "    </tr>\n",
       "  </thead>\n",
       "  <tbody>\n",
       "    <tr>\n",
       "      <th>0</th>\n",
       "      <td>SDSSJ0029-0055</td>\n",
       "      <td>0.227</td>\n",
       "      <td>0</td>\n",
       "      <td>9000</td>\n",
       "      <td>61</td>\n",
       "      <td>129</td>\n",
       "      <td>340</td>\n",
       "      <td>430</td>\n",
       "    </tr>\n",
       "  </tbody>\n",
       "</table>\n",
       "</div>"
      ],
      "text/plain": [
       "         obj_name      z zbs T_exp center_x center_y wave_min wave_max\n",
       "0  SDSSJ0029-0055  0.227   0  9000       61      129      340      430"
      ]
     },
     "execution_count": 44,
     "metadata": {},
     "output_type": "execute_result"
    }
   ],
   "source": [
    "df"
   ]
  },
  {
   "cell_type": "code",
   "execution_count": 45,
   "metadata": {},
   "outputs": [
    {
     "data": {
      "text/plain": [
       "0    SDSSJ0029-0055\n",
       "Name: obj_name, dtype: object"
      ]
     },
     "execution_count": 45,
     "metadata": {},
     "output_type": "execute_result"
    }
   ],
   "source": [
    "df.obj_name"
   ]
  },
  {
   "cell_type": "code",
   "execution_count": 46,
   "metadata": {},
   "outputs": [
    {
     "data": {
      "text/plain": [
       "'SDSSJ0029-0055'"
      ]
     },
     "execution_count": 46,
     "metadata": {},
     "output_type": "execute_result"
    }
   ],
   "source": [
    "df.obj_name[0]"
   ]
  },
  {
   "cell_type": "markdown",
   "metadata": {},
   "source": [
    "______________________"
   ]
  },
  {
   "cell_type": "code",
   "execution_count": 47,
   "metadata": {},
   "outputs": [],
   "source": [
    "# Set 'obj_name', 'z', 'T_exp'\n",
    "obj_name = 'SDSSJ0037-0942'\n",
    "obj_abbr = obj_name[4:9] # e.g. J0029\n",
    "z = 0.195 # lens redshift\n",
    "T_exp = 1800*3 # This has been corrected\n",
    "lens_center_x,lens_center_y = 59, 137\n",
    "wave_min = 320\n",
    "wave_max = 430\n",
    "\n",
    "df.loc[1] = [obj_name,\n",
    "             z,\n",
    "             0,\n",
    "             T_exp,\n",
    "             lens_center_x,\n",
    "             lens_center_y,\n",
    "             wave_min,\n",
    "             wave_max]"
   ]
  },
  {
   "cell_type": "markdown",
   "metadata": {},
   "source": [
    "______________________"
   ]
  },
  {
   "cell_type": "code",
   "execution_count": 48,
   "metadata": {},
   "outputs": [],
   "source": [
    "obj_name = 'SDSSJ0330-0020'\n",
    "obj_abbr = obj_name[4:9] # e.g. J0029\n",
    "z = 0.351 # lens redshift\n",
    "z_bs = 1.071 # background source redshift... additional piece for contamination\n",
    "T_exp = 1800*6 # fixed\n",
    "lens_center_x,lens_center_y = 59, 133\n",
    "wave_min = 320\n",
    "wave_max = 410\n",
    "\n",
    "df.loc[2] = [obj_name,\n",
    "             z,\n",
    "             z_bs,\n",
    "             T_exp,\n",
    "             lens_center_x,\n",
    "             lens_center_y,\n",
    "             wave_min,\n",
    "             wave_max]"
   ]
  },
  {
   "cell_type": "markdown",
   "metadata": {},
   "source": [
    "______________________"
   ]
  },
  {
   "cell_type": "code",
   "execution_count": 49,
   "metadata": {},
   "outputs": [],
   "source": [
    "# Set 'obj_name', 'z', 'T_exp'\n",
    "obj_name = 'SDSSJ1112+0826'\n",
    "obj_abbr = obj_name[4:9] # e.g. J0029\n",
    "z = 0.273 # lens redshift\n",
    "z_bs = 0.629\n",
    "T_exp = 1800*4 # this has been corrected\n",
    "lens_center_x,lens_center_y = 64, 131\n",
    "wave_min = 320\n",
    "wave_max = 430\n",
    "\n",
    "df.loc[3] = [obj_name,\n",
    "             z,\n",
    "             z_bs,\n",
    "             T_exp,\n",
    "             lens_center_x,\n",
    "             lens_center_y,\n",
    "             wave_min,\n",
    "             wave_max]"
   ]
  },
  {
   "cell_type": "markdown",
   "metadata": {},
   "source": [
    "______________________"
   ]
  },
  {
   "cell_type": "code",
   "execution_count": 50,
   "metadata": {},
   "outputs": [],
   "source": [
    "# Set 'obj_name', 'z', 'T_exp'\n",
    "obj_name = 'SDSSJ1204+0358'\n",
    "obj_abbr = obj_name[4:9] # e.g. J0029\n",
    "z = 0.164 # lens redshift\n",
    "T_exp = 1800*4 # this has been corrected\n",
    "lens_center_x,lens_center_y = 60, 135\n",
    "wave_min = 320\n",
    "wave_max = 430\n",
    "\n",
    "df.loc[4] = [obj_name,\n",
    "             z,\n",
    "             0,\n",
    "             T_exp,\n",
    "             lens_center_x,\n",
    "             lens_center_y,\n",
    "             wave_min,\n",
    "             wave_max]"
   ]
  },
  {
   "cell_type": "markdown",
   "metadata": {},
   "source": [
    "______________________"
   ]
  },
  {
   "cell_type": "code",
   "execution_count": 51,
   "metadata": {},
   "outputs": [],
   "source": [
    "# Set 'obj_name', 'z', 'T_exp'\n",
    "obj_name = 'SDSSJ1250+0523'\n",
    "obj_abbr = obj_name[4:9] # e.g. J0029\n",
    "z = 0.232 # lens redshift\n",
    "T_exp = 1800*3 # this has been corrected\n",
    "lens_center_x,lens_center_y = 53, 127\n",
    "wave_min = 320\n",
    "wave_max = 430\n",
    "\n",
    "df.loc[5] = [obj_name,\n",
    "             z,\n",
    "             0,\n",
    "             T_exp,\n",
    "             lens_center_x,\n",
    "             lens_center_y,\n",
    "             wave_min,\n",
    "             wave_max]"
   ]
  },
  {
   "cell_type": "markdown",
   "metadata": {},
   "source": [
    "______________________"
   ]
  },
  {
   "cell_type": "code",
   "execution_count": 52,
   "metadata": {},
   "outputs": [],
   "source": [
    "# Set 'obj_name', 'z', 'T_exp'\n",
    "obj_name = 'SDSSJ1306+0600'\n",
    "obj_abbr = obj_name[4:9] # e.g. J0029\n",
    "z = 0.173 # lens redshift\n",
    "T_exp = 1800*3 + 1500 # this has been fixed\n",
    "lens_center_x,lens_center_y = 56, 137\n",
    "wave_min = 320\n",
    "wave_max = 430\n",
    "\n",
    "df.loc[6] = [obj_name,\n",
    "             z,\n",
    "             0,\n",
    "             T_exp,\n",
    "             lens_center_x,\n",
    "             lens_center_y,\n",
    "             wave_min,\n",
    "             wave_max]"
   ]
  },
  {
   "cell_type": "markdown",
   "metadata": {},
   "source": [
    "______________________"
   ]
  },
  {
   "cell_type": "code",
   "execution_count": 53,
   "metadata": {},
   "outputs": [],
   "source": [
    "# Set 'obj_name', 'z', 'T_exp'\n",
    "obj_name = 'SDSSJ1402+6321'\n",
    "obj_abbr = obj_name[4:9] # e.g. J0029\n",
    "z = 0.205 # lens redshift\n",
    "T_exp = 1800*4 # corrected\n",
    "lens_center_x,lens_center_y = 57, 129\n",
    "wave_min = 320\n",
    "wave_max = 430\n",
    "\n",
    "df.loc[7] = [obj_name,\n",
    "             z,\n",
    "             0,\n",
    "             T_exp,\n",
    "             lens_center_x,\n",
    "             lens_center_y,\n",
    "             wave_min,\n",
    "             wave_max]"
   ]
  },
  {
   "cell_type": "markdown",
   "metadata": {},
   "source": [
    "______________________"
   ]
  },
  {
   "cell_type": "code",
   "execution_count": 54,
   "metadata": {},
   "outputs": [],
   "source": [
    "\n",
    "# Set 'obj_name', 'z', 'T_exp'\n",
    "obj_name = 'SDSSJ1531-0105'\n",
    "obj_abbr = obj_name[4:9] # e.g. J0029\n",
    "z = 0.16 # lens redshift\n",
    "T_exp = 1200*4 # this has been corrected\n",
    "lens_center_x,lens_center_y = 60, 129\n",
    "wave_min = 320\n",
    "wave_max = 430\n",
    "\n",
    "df.loc[8] = [obj_name,\n",
    "             z,\n",
    "             0,\n",
    "             T_exp,\n",
    "             lens_center_x,\n",
    "             lens_center_y,\n",
    "             wave_min,\n",
    "             wave_max]"
   ]
  },
  {
   "cell_type": "markdown",
   "metadata": {},
   "source": [
    "______________________"
   ]
  },
  {
   "cell_type": "code",
   "execution_count": 55,
   "metadata": {},
   "outputs": [],
   "source": [
    "# Set 'obj_name', 'z', 'T_exp'\n",
    "obj_name = 'SDSSJ1538+5817'\n",
    "obj_abbr = obj_name[4:9] # e.g. J0029\n",
    "z = 0.143 # lens redshift\n",
    "T_exp = 1800*2 # this has been corrected\n",
    "lens_center_x,lens_center_y = 58, 119\n",
    "wave_min = 320\n",
    "wave_max = 430\n",
    "\n",
    "df.loc[9] = [obj_name,\n",
    "             z,\n",
    "             0,\n",
    "             T_exp,\n",
    "             lens_center_x,\n",
    "             lens_center_y,\n",
    "             wave_min,\n",
    "             wave_max]"
   ]
  },
  {
   "cell_type": "markdown",
   "metadata": {},
   "source": [
    "______________________"
   ]
  },
  {
   "cell_type": "code",
   "execution_count": 56,
   "metadata": {},
   "outputs": [],
   "source": [
    "# Set 'obj_name', 'z', 'T_exp'\n",
    "obj_name = 'SDSSJ1621+3931'\n",
    "obj_abbr = obj_name[4:9] # e.g. J0029\n",
    "z = 0.245 # lens redshift\n",
    "T_exp = 1200*6 # corrected\n",
    "lens_center_x,lens_center_y = 58, 126 #30, 99\n",
    "wave_min = 320\n",
    "wave_max = 430\n",
    "\n",
    "df.loc[10] = [obj_name,\n",
    "             z,\n",
    "             0,\n",
    "             T_exp,\n",
    "             lens_center_x,\n",
    "             lens_center_y,\n",
    "             wave_min,\n",
    "             wave_max]"
   ]
  },
  {
   "cell_type": "markdown",
   "metadata": {},
   "source": [
    "______________________"
   ]
  },
  {
   "cell_type": "code",
   "execution_count": 57,
   "metadata": {},
   "outputs": [],
   "source": [
    "# Set 'obj_name', 'z', 'T_exp'\n",
    "obj_name = 'SDSSJ1627-0053'\n",
    "obj_abbr = obj_name[4:9] # e.g. J0029\n",
    "z = 0.208 # lens redshift\n",
    "T_exp = 1800*5 + 960 # corrected #266 * 60\n",
    "lens_center_x,lens_center_y = 56, 134\n",
    "wave_min = 320\n",
    "wave_max = 430\n",
    "\n",
    "df.loc[11] = [obj_name,\n",
    "             z,\n",
    "             0,\n",
    "             T_exp,\n",
    "             lens_center_x,\n",
    "             lens_center_y,\n",
    "             wave_min,\n",
    "             wave_max]"
   ]
  },
  {
   "cell_type": "markdown",
   "metadata": {},
   "source": [
    "______________________"
   ]
  },
  {
   "cell_type": "code",
   "execution_count": 58,
   "metadata": {},
   "outputs": [],
   "source": [
    "# Set 'obj_name', 'z', 'T_exp'\n",
    "obj_name = 'SDSSJ1630+4520'\n",
    "obj_abbr = obj_name[4:9] # e.g. J0029\n",
    "z = 0.248 # lens redshift\n",
    "T_exp = 1800*4 + 1180 #266 * 60\n",
    "lens_center_x,lens_center_y = 59, 131\n",
    "wave_min = 340\n",
    "wave_max = 430\n",
    "\n",
    "df.loc[12] = [obj_name,\n",
    "             z,\n",
    "             0,\n",
    "             T_exp,\n",
    "             lens_center_x,\n",
    "             lens_center_y,\n",
    "             wave_min,\n",
    "             wave_max]"
   ]
  },
  {
   "cell_type": "markdown",
   "metadata": {},
   "source": [
    "______________________"
   ]
  },
  {
   "cell_type": "code",
   "execution_count": 59,
   "metadata": {},
   "outputs": [],
   "source": [
    "# Set 'obj_name', 'z', 'T_exp'\n",
    "obj_name = 'SDSSJ2303+1422'\n",
    "obj_abbr = obj_name[4:9] # e.g. J0029\n",
    "z = 0.155 # lens redshift\n",
    "T_exp = 1800*3 # corrected\n",
    "lens_center_x,lens_center_y = 58, 124\n",
    "wave_min = 340\n",
    "wave_max = 430\n",
    "\n",
    "df.loc[13] = [obj_name,\n",
    "             z,\n",
    "             0,\n",
    "             T_exp,\n",
    "             lens_center_x,\n",
    "             lens_center_y,\n",
    "             wave_min,\n",
    "             wave_max]"
   ]
  },
  {
   "cell_type": "code",
   "execution_count": 60,
   "metadata": {},
   "outputs": [
    {
     "data": {
      "text/html": [
       "<div>\n",
       "<style scoped>\n",
       "    .dataframe tbody tr th:only-of-type {\n",
       "        vertical-align: middle;\n",
       "    }\n",
       "\n",
       "    .dataframe tbody tr th {\n",
       "        vertical-align: top;\n",
       "    }\n",
       "\n",
       "    .dataframe thead th {\n",
       "        text-align: right;\n",
       "    }\n",
       "</style>\n",
       "<table border=\"1\" class=\"dataframe\">\n",
       "  <thead>\n",
       "    <tr style=\"text-align: right;\">\n",
       "      <th></th>\n",
       "      <th>obj_name</th>\n",
       "      <th>z</th>\n",
       "      <th>zbs</th>\n",
       "      <th>T_exp</th>\n",
       "      <th>center_x</th>\n",
       "      <th>center_y</th>\n",
       "      <th>wave_min</th>\n",
       "      <th>wave_max</th>\n",
       "    </tr>\n",
       "  </thead>\n",
       "  <tbody>\n",
       "    <tr>\n",
       "      <th>0</th>\n",
       "      <td>SDSSJ0029-0055</td>\n",
       "      <td>0.227</td>\n",
       "      <td>0</td>\n",
       "      <td>9000</td>\n",
       "      <td>61</td>\n",
       "      <td>129</td>\n",
       "      <td>340</td>\n",
       "      <td>430</td>\n",
       "    </tr>\n",
       "    <tr>\n",
       "      <th>1</th>\n",
       "      <td>SDSSJ0037-0942</td>\n",
       "      <td>0.195</td>\n",
       "      <td>0</td>\n",
       "      <td>5400</td>\n",
       "      <td>59</td>\n",
       "      <td>137</td>\n",
       "      <td>340</td>\n",
       "      <td>430</td>\n",
       "    </tr>\n",
       "    <tr>\n",
       "      <th>2</th>\n",
       "      <td>SDSSJ0330-0020</td>\n",
       "      <td>0.351</td>\n",
       "      <td>1.071</td>\n",
       "      <td>10800</td>\n",
       "      <td>59</td>\n",
       "      <td>133</td>\n",
       "      <td>340</td>\n",
       "      <td>410</td>\n",
       "    </tr>\n",
       "    <tr>\n",
       "      <th>3</th>\n",
       "      <td>SDSSJ1112+0826</td>\n",
       "      <td>0.273</td>\n",
       "      <td>0.629</td>\n",
       "      <td>7200</td>\n",
       "      <td>64</td>\n",
       "      <td>131</td>\n",
       "      <td>340</td>\n",
       "      <td>430</td>\n",
       "    </tr>\n",
       "    <tr>\n",
       "      <th>4</th>\n",
       "      <td>SDSSJ1204+0358</td>\n",
       "      <td>0.164</td>\n",
       "      <td>0</td>\n",
       "      <td>7200</td>\n",
       "      <td>60</td>\n",
       "      <td>135</td>\n",
       "      <td>340</td>\n",
       "      <td>430</td>\n",
       "    </tr>\n",
       "    <tr>\n",
       "      <th>5</th>\n",
       "      <td>SDSSJ1250+0523</td>\n",
       "      <td>0.232</td>\n",
       "      <td>0</td>\n",
       "      <td>5400</td>\n",
       "      <td>53</td>\n",
       "      <td>127</td>\n",
       "      <td>340</td>\n",
       "      <td>430</td>\n",
       "    </tr>\n",
       "    <tr>\n",
       "      <th>6</th>\n",
       "      <td>SDSSJ1306+0600</td>\n",
       "      <td>0.173</td>\n",
       "      <td>0</td>\n",
       "      <td>6900</td>\n",
       "      <td>56</td>\n",
       "      <td>137</td>\n",
       "      <td>340</td>\n",
       "      <td>430</td>\n",
       "    </tr>\n",
       "    <tr>\n",
       "      <th>7</th>\n",
       "      <td>SDSSJ1402+6321</td>\n",
       "      <td>0.205</td>\n",
       "      <td>0</td>\n",
       "      <td>7200</td>\n",
       "      <td>57</td>\n",
       "      <td>129</td>\n",
       "      <td>340</td>\n",
       "      <td>430</td>\n",
       "    </tr>\n",
       "    <tr>\n",
       "      <th>8</th>\n",
       "      <td>SDSSJ1531-0105</td>\n",
       "      <td>0.160</td>\n",
       "      <td>0</td>\n",
       "      <td>4800</td>\n",
       "      <td>60</td>\n",
       "      <td>129</td>\n",
       "      <td>340</td>\n",
       "      <td>430</td>\n",
       "    </tr>\n",
       "    <tr>\n",
       "      <th>9</th>\n",
       "      <td>SDSSJ1538+5817</td>\n",
       "      <td>0.143</td>\n",
       "      <td>0</td>\n",
       "      <td>3600</td>\n",
       "      <td>58</td>\n",
       "      <td>119</td>\n",
       "      <td>340</td>\n",
       "      <td>430</td>\n",
       "    </tr>\n",
       "    <tr>\n",
       "      <th>10</th>\n",
       "      <td>SDSSJ1621+3931</td>\n",
       "      <td>0.245</td>\n",
       "      <td>0</td>\n",
       "      <td>7200</td>\n",
       "      <td>58</td>\n",
       "      <td>126</td>\n",
       "      <td>340</td>\n",
       "      <td>430</td>\n",
       "    </tr>\n",
       "    <tr>\n",
       "      <th>11</th>\n",
       "      <td>SDSSJ1627-0053</td>\n",
       "      <td>0.208</td>\n",
       "      <td>0</td>\n",
       "      <td>9960</td>\n",
       "      <td>56</td>\n",
       "      <td>134</td>\n",
       "      <td>340</td>\n",
       "      <td>430</td>\n",
       "    </tr>\n",
       "    <tr>\n",
       "      <th>12</th>\n",
       "      <td>SDSSJ1630+4520</td>\n",
       "      <td>0.248</td>\n",
       "      <td>0</td>\n",
       "      <td>8380</td>\n",
       "      <td>59</td>\n",
       "      <td>131</td>\n",
       "      <td>340</td>\n",
       "      <td>430</td>\n",
       "    </tr>\n",
       "    <tr>\n",
       "      <th>13</th>\n",
       "      <td>SDSSJ2303+1422</td>\n",
       "      <td>0.155</td>\n",
       "      <td>0</td>\n",
       "      <td>5400</td>\n",
       "      <td>58</td>\n",
       "      <td>124</td>\n",
       "      <td>340</td>\n",
       "      <td>430</td>\n",
       "    </tr>\n",
       "  </tbody>\n",
       "</table>\n",
       "</div>"
      ],
      "text/plain": [
       "          obj_name      z    zbs  T_exp center_x center_y wave_min wave_max\n",
       "0   SDSSJ0029-0055  0.227      0   9000       61      129      340      430\n",
       "1   SDSSJ0037-0942  0.195      0   5400       59      137      340      430\n",
       "2   SDSSJ0330-0020  0.351  1.071  10800       59      133      340      410\n",
       "3   SDSSJ1112+0826  0.273  0.629   7200       64      131      340      430\n",
       "4   SDSSJ1204+0358  0.164      0   7200       60      135      340      430\n",
       "5   SDSSJ1250+0523  0.232      0   5400       53      127      340      430\n",
       "6   SDSSJ1306+0600  0.173      0   6900       56      137      340      430\n",
       "7   SDSSJ1402+6321  0.205      0   7200       57      129      340      430\n",
       "8   SDSSJ1531-0105  0.160      0   4800       60      129      340      430\n",
       "9   SDSSJ1538+5817  0.143      0   3600       58      119      340      430\n",
       "10  SDSSJ1621+3931  0.245      0   7200       58      126      340      430\n",
       "11  SDSSJ1627-0053  0.208      0   9960       56      134      340      430\n",
       "12  SDSSJ1630+4520  0.248      0   8380       59      131      340      430\n",
       "13  SDSSJ2303+1422  0.155      0   5400       58      124      340      430"
      ]
     },
     "execution_count": 60,
     "metadata": {},
     "output_type": "execute_result"
    }
   ],
   "source": [
    "df"
   ]
  },
  {
   "cell_type": "code",
   "execution_count": 61,
   "metadata": {},
   "outputs": [],
   "source": [
    "df.to_csv('/data/raw_data/KECK_KCWI_SLACS_kinematics_shawn/tables/ppxf_input_table.csv', index=False)"
   ]
  },
  {
   "cell_type": "code",
   "execution_count": null,
   "metadata": {},
   "outputs": [],
   "source": []
  }
 ],
 "metadata": {
  "kernelspec": {
   "display_name": "Python 3",
   "language": "python",
   "name": "python3"
  },
  "language_info": {
   "codemirror_mode": {
    "name": "ipython",
    "version": 3
   },
   "file_extension": ".py",
   "mimetype": "text/x-python",
   "name": "python",
   "nbconvert_exporter": "python",
   "pygments_lexer": "ipython3",
   "version": "3.7.0"
  }
 },
 "nbformat": 4,
 "nbformat_minor": 2
}
