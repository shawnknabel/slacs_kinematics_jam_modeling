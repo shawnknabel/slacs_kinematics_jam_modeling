{
 "cells": [
  {
   "cell_type": "code",
   "execution_count": 1,
   "metadata": {
    "tags": []
   },
   "outputs": [],
   "source": [
    "'''\n",
    "11/19/23\n",
    "    Creating a script for going through all the lenses and fitting the global galaxy spectrum with different stellar libraries\n",
    "    Using ppxf_kinematics_getGlobal_lens_deredshift_library_test from home/shawnknabel/Documents/slacs_kinematics/my_python_packages/ppxf_kcwi_util_022423/kcwi_util.py\n",
    "    Copied from home/shawnknabel/Documents/slacs_kinematics/code/codeforanalyzingkcwislacslenses_/ppxf_kinematics_SLACS_lenses/SDSSJ0029-0055/SDSSJ0029-0055_ppxf_kinematics_022423.py\n",
    "------\n",
    "Code for extracting the kinematics information from the\n",
    "KCWI data with ppxf.\n",
    "Geoff Chih-Fan Chen, Feb 28 2022 for Shawan Knabel.\n",
    "Shawn Knabel, Feb 28 2022 editting for my own machine and directories.\n",
    "03/01/22 - SDSSJ0029-0055\n",
    "07/12/22 - load and check both R=1 and R=2 center apertures. Favor R=1 and just do R=2 in the systematics check.\n",
    "#############################################################\n",
    "This is the Fateful Disaster Part 2 response.\n",
    "I need to change the following:\n",
    "1. Make \"obj_dir\" -> \"mos_dir\" for mosaic directory. Load from here, but do not save here.\n",
    "2. Make \"kin_dir\", where we will save the values from these, and specify the \"target_sn_10\" (etc) directory for each experiment\n",
    "3. Fix \"Exp_time\" -> should not have *60\n",
    "4. Set the \"Vorbin_target_SN\" to be the one in the experiment\n",
    "'''\n",
    "\n",
    "# import libraries\n",
    "from astropy.io import fits\n",
    "import numpy as np\n",
    "import pandas as pd\n",
    "import matplotlib.pyplot as plt\n",
    "import ppxf\n",
    "import ppxf.ppxf_util as ppxf_util\n",
    "import os\n",
    "# import my packages\n",
    "import sys\n",
    "sys.path.append(\"/home/shawnknabel/Documents/slacs_kinematics/my_python_packages\")\n",
    "from ppxf_kcwi_util_022423.kcwi_util import ppxf_kinematics_getGlobal_lens_deredshift_library_test\n",
    "from ppxf_kcwi_util_022423.kcwi_util import register_sauron_colormap\n",
    "from ppxf_kcwi_util_022423.kcwi_util import visualization\n",
    "from ppxf_kcwi_util_022423.kcwi_util import get_datacube\n",
    "#from ppxf_kcwi_util_022423.kcwi_util import ppxf_kinematics_RXJ1131_getGlobal_lens_deredshift\n",
    "from ppxf_kcwi_util_022423.kcwi_util import find_nearest\n",
    "from ppxf_kcwi_util_022423.kcwi_util import SN_CaHK\n",
    "from ppxf_kcwi_util_022423.kcwi_util import select_region\n",
    "from ppxf_kcwi_util_022423.kcwi_util import voronoi_binning\n",
    "from ppxf_kcwi_util_022423.kcwi_util import get_voronoi_binning_data\n",
    "from ppxf_kcwi_util_022423.kcwi_util import get_velocity_dispersion_deredshift\n",
    "from ppxf_kcwi_util_022423.kcwi_util import kinematics_map\n",
    "from ppxf_kcwi_util_022423.kcwi_util import stellar_type\n",
    "\n",
    "import pathlib # to create directory\n",
    "import pickle\n",
    "\n",
    "register_sauron_colormap()\n",
    "\n",
    "#------------------------------------------------------------------------------\n",
    "# Directories and files\n",
    "\n",
    "# data directory\n",
    "data_dir = '/data/raw_data/KECK_KCWI_SLACS_kinematics_shawn/'\n",
    "#hst_dir = '/data/raw_data/HST_SLACS_ACS/kcwi_kinematics_lenses/'\n",
    "tables_dir = f'{data_dir}tables/'\n",
    "mosaics_dir = f'{data_dir}mosaics/'\n",
    "kinematics_full_dir = f'{data_dir}kinematics/'\n",
    "kinematics_dir = f'{data_dir}stellar_library_tests/'\n",
    "if not os.path.exists(kinematics_dir):\n",
    "    os.mkdir(kinematics_dir)\n",
    "\n",
    "#################################################\n",
    "# objects\n",
    "obj_names = ['SDSSJ0029-0055', \n",
    "             'SDSSJ0037-0942',\n",
    "             'SDSSJ0330-0020',\n",
    "             'SDSSJ1112+0826',\n",
    "             'SDSSJ1204+0358',\n",
    "             'SDSSJ1250+0523',\n",
    "             'SDSSJ1306+0600',\n",
    "             'SDSSJ1402+6321',\n",
    "             'SDSSJ1531-0105',\n",
    "             'SDSSJ1538+5817',\n",
    "             'SDSSJ1621+3931',\n",
    "             'SDSSJ1627-0053',\n",
    "             'SDSSJ1630+4520',\n",
    "             'SDSSJ2303+1422'\n",
    "            ]\n",
    "\n",
    "#################################################\n",
    "# tables\n",
    "paper_table = pd.read_csv(f'{tables_dir}paper_table_100223.csv')\n",
    "slacs_ix_table = pd.read_csv(f'{tables_dir}slacs_ix_table3.csv')\n",
    "zs = paper_table['zlens']\n",
    "\n",
    "#################################################\n",
    "# libraries\n",
    "templates_names = ['xshooter',\n",
    "                   'fsps',\n",
    "                  'galaxev',\n",
    "                  'emiles'\n",
    "                  ]\n",
    "#################################################\n"
   ]
  },
  {
   "cell_type": "code",
   "execution_count": 2,
   "metadata": {
    "tags": []
   },
   "outputs": [],
   "source": [
    "plot=False"
   ]
  },
  {
   "cell_type": "code",
   "execution_count": 3,
   "metadata": {
    "tags": []
   },
   "outputs": [],
   "source": [
    "stellar_library_tests = np.zeros((len(obj_names),4))"
   ]
  },
  {
   "cell_type": "code",
   "execution_count": 19,
   "metadata": {
    "tags": []
   },
   "outputs": [
    {
     "name": "stdout",
     "output_type": "stream",
     "text": [
      "\n",
      "#################################################\n",
      "#################################################\n",
      "\n",
      "SDSSJ0029-0055\n",
      "\n",
      "My VD w/in reff\n",
      "196\n",
      "186.8790897009045\n",
      "223.56120855711285\n",
      "227.57790657305475\n",
      "213.50167561819566\n",
      "\n",
      "#################################################\n",
      "#################################################\n",
      "\n",
      "SDSSJ0037-0942\n",
      "\n",
      "My VD w/in reff\n",
      "258\n",
      "281.38703647826924\n",
      "294.946362304046\n",
      "291.80049131696774\n",
      "292.62997340713724\n",
      "\n",
      "#################################################\n",
      "#################################################\n",
      "\n",
      "SDSSJ0330-0020\n",
      "\n",
      "My VD w/in reff\n",
      "220\n",
      "No fit.\n",
      "230.96331466013564\n",
      "269.7048008667975\n",
      "246.77546022791566\n",
      "\n",
      "#################################################\n",
      "#################################################\n",
      "\n",
      "SDSSJ1112+0826\n",
      "\n",
      "My VD w/in reff\n",
      "255\n",
      "287.4966567158533\n",
      "296.10497792689995\n",
      "297.68532392976675\n",
      "298.2516725421967\n",
      "\n",
      "#################################################\n",
      "#################################################\n",
      "\n",
      "SDSSJ1204+0358\n",
      "\n",
      "My VD w/in reff\n",
      "244\n",
      "263.10338278908796\n",
      "276.4893084691296\n",
      "270.10632989425335\n",
      "271.6891602970982\n",
      "\n",
      "#################################################\n",
      "#################################################\n",
      "\n",
      "SDSSJ1250+0523\n",
      "\n",
      "My VD w/in reff\n",
      "222\n",
      "227.34358260539724\n",
      "258.9472914488373\n",
      "254.8353413408752\n",
      "257.03200522944826\n",
      "\n",
      "#################################################\n",
      "#################################################\n",
      "\n",
      "SDSSJ1306+0600\n",
      "\n",
      "My VD w/in reff\n",
      "224\n",
      "No fit.\n",
      "No fit.\n",
      "No fit.\n",
      "No fit.\n",
      "\n",
      "#################################################\n",
      "#################################################\n",
      "\n",
      "SDSSJ1402+6321\n",
      "\n",
      "My VD w/in reff\n",
      "268\n",
      "No fit.\n",
      "303.4542679499719\n",
      "301.57980878595913\n",
      "301.8213899362955\n",
      "\n",
      "#################################################\n",
      "#################################################\n",
      "\n",
      "SDSSJ1531-0105\n",
      "\n",
      "My VD w/in reff\n",
      "256\n",
      "No fit.\n",
      "324.5415229944563\n",
      "311.08506109461064\n",
      "311.2437705307033\n",
      "\n",
      "#################################################\n",
      "#################################################\n",
      "\n",
      "SDSSJ1538+5817\n",
      "\n",
      "My VD w/in reff\n",
      "228\n",
      "217.2506349194742\n",
      "255.73610349796192\n",
      "253.18402742326046\n",
      "254.17688992434432\n",
      "\n",
      "#################################################\n",
      "#################################################\n",
      "\n",
      "SDSSJ1621+3931\n",
      "\n",
      "My VD w/in reff\n",
      "242\n",
      "No fit.\n",
      "276.26943956895735\n",
      "275.9295299930956\n",
      "276.6507538233397\n",
      "\n",
      "#################################################\n",
      "#################################################\n",
      "\n",
      "SDSSJ1627-0053\n",
      "\n",
      "My VD w/in reff\n",
      "253\n",
      "No fit.\n",
      "275.5031601578232\n",
      "274.02217246051873\n",
      "276.2354526910706\n",
      "\n",
      "#################################################\n",
      "#################################################\n",
      "\n",
      "SDSSJ1630+4520\n",
      "\n",
      "My VD w/in reff\n",
      "252\n",
      "No fit.\n",
      "319.2105444861735\n",
      "319.1696090021713\n",
      "315.3530368850013\n",
      "\n",
      "#################################################\n",
      "#################################################\n",
      "\n",
      "SDSSJ2303+1422\n",
      "\n",
      "My VD w/in reff\n",
      "240\n",
      "244.02301380305727\n",
      "275.7391919732968\n",
      "274.7295924651075\n",
      "277.76936178429963\n"
     ]
    }
   ],
   "source": [
    "for i, obj_name in enumerate(obj_names):\n",
    "\n",
    "    print()\n",
    "    print('#################################################')\n",
    "    print('#################################################')\n",
    "    print()\n",
    "    print(obj_name)\n",
    "    \n",
    "    print()\n",
    "    print('My VD w/in reff')\n",
    "    print(paper_table.loc[i, 'VD_reff'])\n",
    "    \n",
    "    # other necessary directories ... Be very careful! This is how we will make sure we are using the correct files moving forward.\n",
    "    mos_dir = f'{mosaics_dir}{obj_name}/' # files should be loaded from here but not saved\n",
    "    kin_dir = f'{kinematics_dir}{obj_name}/'\n",
    "    if not os.path.exists(kin_dir):\n",
    "        os.mkdir(kin_dir)\n",
    "    \n",
    "    ################################################################################\n",
    "    # 11/19/23 - Template tests, loop through the template sets\n",
    "    \n",
    "    for j, templates_name in enumerate(templates_names):\n",
    "        \n",
    "        #print()\n",
    "        #print('#################################################')\n",
    "        #print()\n",
    "        #print(templates_name)\n",
    "        \n",
    "        try:\n",
    "            with open(f'{kin_dir}{obj_name}_{templates_name}_global_template_spectrum_fit.pkl', 'rb') as f:\n",
    "                pp = pickle.load(f)\n",
    "                print(pp.sol[1])\n",
    "                VD = pp.sol[1]\n",
    "                if plot==True:\n",
    "                    pp.plot()\n",
    "                    plt.xlim(wave_min/1000, wave_max/1000) # it's in microns\n",
    "                    plt.title(f'V {np.around(pp.sol[0], 2)} km/s, VD {np.around(pp.sol[1],2)} km/s')\n",
    "        \n",
    "        except:\n",
    "            VD = 0\n",
    "            print('No fit.')\n",
    "        \n",
    "        stellar_library_tests[i,j] = VD\n",
    "            \n",
    "        "
   ]
  },
  {
   "cell_type": "code",
   "execution_count": 5,
   "metadata": {
    "tags": []
   },
   "outputs": [
    {
     "name": "stderr",
     "output_type": "stream",
     "text": [
      "/tmp/ipykernel_1608317/3910154031.py:2: RuntimeWarning: divide by zero encountered in divide\n",
      "  four = stellar_library_tests[i]/stellar_library_tests[i,0]\n",
      "/tmp/ipykernel_1608317/3910154031.py:2: RuntimeWarning: invalid value encountered in divide\n",
      "  four = stellar_library_tests[i]/stellar_library_tests[i,0]\n"
     ]
    },
    {
     "data": {
      "image/png": "[encoded data removed]",
      "text/plain": [
       "<Figure size 640x480 with 1 Axes>"
      ]
     },
     "metadata": {},
     "output_type": "display_data"
    }
   ],
   "source": [
    "for i in range(len(obj_names)):\n",
    "    four = stellar_library_tests[i]/stellar_library_tests[i,0]\n",
    "    plt.scatter(np.ones(4)*i, four)"
   ]
  },
  {
   "cell_type": "code",
   "execution_count": 6,
   "metadata": {
    "tags": []
   },
   "outputs": [
    {
     "data": {
      "image/png": "[encoded data removed]",
      "text/plain": [
       "<Figure size 800x800 with 1 Axes>"
      ]
     },
     "metadata": {},
     "output_type": "display_data"
    }
   ],
   "source": [
    "plt.figure(figsize=(8,8))\n",
    "for i in range(len(obj_names)):\n",
    "    plt.scatter(stellar_library_tests[i,0]*np.ones(3), stellar_library_tests[i,1:], c='k', alpha=0.2)\n",
    "    plt.scatter(stellar_library_tests[i,0], np.mean(stellar_library_tests[i,1:]), marker='s', c='k')\n",
    "    plt.xlim(175, 350)\n",
    "    plt.ylim(175, 350)\n",
    "    plt.plot(np.linspace(175, 350, 100), np.linspace(175, 350, 100), linestyle=':', color='k')\n",
    "    plt.xlabel('VD xshooter')\n",
    "    plt.ylabel('VD Miles')"
   ]
  },
  {
   "cell_type": "code",
   "execution_count": 7,
   "metadata": {
    "tags": []
   },
   "outputs": [],
   "source": [
    "stellar_library_tests[stellar_library_tests==0] = 'Nan'"
   ]
  },
  {
   "cell_type": "code",
   "execution_count": null,
   "metadata": {},
   "outputs": [],
   "source": []
  },
  {
   "cell_type": "code",
   "execution_count": 8,
   "metadata": {
    "tags": []
   },
   "outputs": [
    {
     "name": "stderr",
     "output_type": "stream",
     "text": [
      "/tmp/ipykernel_1608317/2635402414.py:1: RuntimeWarning: Mean of empty slice\n",
      "  means_factors = np.nanmean(stellar_library_tests[:,1:], axis=1)/stellar_library_tests[:,0]\n"
     ]
    }
   ],
   "source": [
    "means_factors = np.nanmean(stellar_library_tests[:,1:], axis=1)/stellar_library_tests[:,0]"
   ]
  },
  {
   "cell_type": "code",
   "execution_count": 9,
   "metadata": {
    "tags": []
   },
   "outputs": [],
   "source": [
    "means_factors = means_factors[np.isfinite(means_factors)]"
   ]
  },
  {
   "cell_type": "code",
   "execution_count": 10,
   "metadata": {
    "tags": []
   },
   "outputs": [
    {
     "data": {
      "text/plain": [
       "array([1.11016925, 1.04170632, 1.03426366, 1.03665048, 1.13017579,\n",
       "       1.09491798, 1.17083972, 1.13136617])"
      ]
     },
     "execution_count": 10,
     "metadata": {},
     "output_type": "execute_result"
    }
   ],
   "source": [
    "means_factors"
   ]
  },
  {
   "cell_type": "code",
   "execution_count": 11,
   "metadata": {
    "tags": []
   },
   "outputs": [
    {
     "data": {
      "text/plain": [
       "1.0937611710546942"
      ]
     },
     "execution_count": 11,
     "metadata": {},
     "output_type": "execute_result"
    }
   ],
   "source": [
    "np.mean(means_factors)"
   ]
  },
  {
   "cell_type": "code",
   "execution_count": null,
   "metadata": {},
   "outputs": [],
   "source": []
  }
 ],
 "metadata": {
  "kernelspec": {
   "display_name": "Python 3",
   "language": "python",
   "name": "python3"
  },
  "language_info": {
   "codemirror_mode": {
    "name": "ipython",
    "version": 3
   },
   "file_extension": ".py",
   "mimetype": "text/x-python",
   "name": "python",
   "nbconvert_exporter": "python",
   "pygments_lexer": "ipython3",
   "version": "3.7.0"
  }
 },
 "nbformat": 4,
 "nbformat_minor": 5
}
